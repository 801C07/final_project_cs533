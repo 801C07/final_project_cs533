{
 "cells": [
  {
   "cell_type": "markdown",
   "metadata": {},
   "source": [
    "# California -- City Sustainability"
   ]
  },
  {
   "cell_type": "code",
   "execution_count": 1,
   "metadata": {},
   "outputs": [
    {
     "name": "stdout",
     "output_type": "stream",
     "text": [
      "Requirement already satisfied: census in /Users/Ryan/anaconda3/lib/python3.7/site-packages (0.8.13)\n",
      "Requirement already satisfied: us in /Users/Ryan/anaconda3/lib/python3.7/site-packages (1.0.0)\n",
      "Requirement already satisfied: future in /Users/Ryan/anaconda3/lib/python3.7/site-packages (from census) (0.17.1)\n",
      "Requirement already satisfied: requests>=1.1.0 in /Users/Ryan/anaconda3/lib/python3.7/site-packages (from census) (2.22.0)\n",
      "Requirement already satisfied: jellyfish==0.5.6 in /Users/Ryan/anaconda3/lib/python3.7/site-packages (from us) (0.5.6)\n",
      "Requirement already satisfied: idna<2.9,>=2.5 in /Users/Ryan/anaconda3/lib/python3.7/site-packages (from requests>=1.1.0->census) (2.8)\n",
      "Requirement already satisfied: certifi>=2017.4.17 in /Users/Ryan/anaconda3/lib/python3.7/site-packages (from requests>=1.1.0->census) (2019.9.11)\n",
      "Requirement already satisfied: urllib3!=1.25.0,!=1.25.1,<1.26,>=1.21.1 in /Users/Ryan/anaconda3/lib/python3.7/site-packages (from requests>=1.1.0->census) (1.24.2)\n",
      "Requirement already satisfied: chardet<3.1.0,>=3.0.2 in /Users/Ryan/anaconda3/lib/python3.7/site-packages (from requests>=1.1.0->census) (3.0.4)\n",
      "Note: you may need to restart the kernel to use updated packages.\n"
     ]
    }
   ],
   "source": [
    "%pip install census us"
   ]
  },
  {
   "cell_type": "code",
   "execution_count": 2,
   "metadata": {},
   "outputs": [],
   "source": [
    "import pandas as pd\n",
    "import seaborn as sns\n",
    "import matplotlib as plt\n",
    "\n",
    "from census import Census\n",
    "from us import states\n",
    "\n",
    "import plotly.graph_objects as go"
   ]
  },
  {
   "cell_type": "code",
   "execution_count": 3,
   "metadata": {},
   "outputs": [],
   "source": [
    "c = Census('fb97753783c42ae57fe1a640e38fe04e921e5d1a')"
   ]
  },
  {
   "cell_type": "markdown",
   "metadata": {},
   "source": [
    "## Get's the 5 largest cities in California"
   ]
  },
  {
   "cell_type": "code",
   "execution_count": 4,
   "metadata": {},
   "outputs": [],
   "source": [
    "city_2010 = c.sf1.state_place(('NAME', 'H001001', \n",
    "                               'P013001', 'P002002', 'P002005', \n",
    "                               'P013001', 'H003001', 'P027001', \n",
    "                               'H005001', 'H005002', 'H005003', \n",
    "                               'H005004', 'H005005', 'H005006', \n",
    "                               'H005007', 'P002001'), \n",
    "                              states.CA.fips, '*', year=2010)\n",
    "c_pop_2010 = pd.DataFrame.from_records(city_2010)\n",
    "c_pop_2010_50000 = c_pop_2010.rename(columns={\n",
    "        'NAME' : 'City_Name',\n",
    "        'place': 'FIPS',\n",
    "        'P002001': 'Total_Population',\n",
    "        'P002002':'Total_Urban_Population',\n",
    "        'P002005':'Total_Rural_Population',\n",
    "        'H001001': 'Total_Housing',\n",
    "        'P013001': 'Median_Age',\n",
    "        'H003001': 'Occupancy_Status_For_Housing_Units',\n",
    "        'P027001': 'Presence_of_Non-Relatives',\n",
    "        'H005001': 'Vacancy_Status',\n",
    "        'H005002': 'For_Rent',\n",
    "        'H005003': 'Rented_Not_Occupied',\n",
    "        'H005004': 'For_Sale_Only',\n",
    "        'H005005': 'Sold_Not_Occupied',\n",
    "        'H005006': 'For_Seasonal_Recreational_Or_Occasional_Use',\n",
    "        'H005007': 'For_Migrant_Workers'})"
   ]
  },
  {
   "cell_type": "code",
   "execution_count": 5,
   "metadata": {},
   "outputs": [],
   "source": [
    "c_pop_2010_50000['Year'] = 2010"
   ]
  },
  {
   "cell_type": "code",
   "execution_count": 6,
   "metadata": {},
   "outputs": [],
   "source": [
    "c_pop_2010_50000 = c_pop_2010_50000.nlargest(5, 'Total_Population')"
   ]
  },
  {
   "cell_type": "code",
   "execution_count": 7,
   "metadata": {},
   "outputs": [
    {
     "data": {
      "text/html": [
       "<div>\n",
       "<style scoped>\n",
       "    .dataframe tbody tr th:only-of-type {\n",
       "        vertical-align: middle;\n",
       "    }\n",
       "\n",
       "    .dataframe tbody tr th {\n",
       "        vertical-align: top;\n",
       "    }\n",
       "\n",
       "    .dataframe thead th {\n",
       "        text-align: right;\n",
       "    }\n",
       "</style>\n",
       "<table border=\"1\" class=\"dataframe\">\n",
       "  <thead>\n",
       "    <tr style=\"text-align: right;\">\n",
       "      <th></th>\n",
       "      <th>Total_Housing</th>\n",
       "      <th>Occupancy_Status_For_Housing_Units</th>\n",
       "      <th>Vacancy_Status</th>\n",
       "      <th>For_Rent</th>\n",
       "      <th>Rented_Not_Occupied</th>\n",
       "      <th>For_Sale_Only</th>\n",
       "      <th>Sold_Not_Occupied</th>\n",
       "      <th>For_Seasonal_Recreational_Or_Occasional_Use</th>\n",
       "      <th>For_Migrant_Workers</th>\n",
       "      <th>City_Name</th>\n",
       "      <th>Total_Population</th>\n",
       "      <th>Total_Urban_Population</th>\n",
       "      <th>Total_Rural_Population</th>\n",
       "      <th>Median_Age</th>\n",
       "      <th>Presence_of_Non-Relatives</th>\n",
       "      <th>FIPS</th>\n",
       "      <th>state</th>\n",
       "      <th>Year</th>\n",
       "    </tr>\n",
       "  </thead>\n",
       "  <tbody>\n",
       "    <tr>\n",
       "      <th>789</th>\n",
       "      <td>1413995.0</td>\n",
       "      <td>1413995.0</td>\n",
       "      <td>95827.0</td>\n",
       "      <td>53309.0</td>\n",
       "      <td>2367.0</td>\n",
       "      <td>10930.0</td>\n",
       "      <td>2671.0</td>\n",
       "      <td>7540.0</td>\n",
       "      <td>28.0</td>\n",
       "      <td>Los Angeles city, California</td>\n",
       "      <td>3792621.0</td>\n",
       "      <td>3790144.0</td>\n",
       "      <td>2477.0</td>\n",
       "      <td>34.1</td>\n",
       "      <td>1318168.0</td>\n",
       "      <td>44000</td>\n",
       "      <td>06</td>\n",
       "      <td>2010</td>\n",
       "    </tr>\n",
       "    <tr>\n",
       "      <th>1187</th>\n",
       "      <td>516033.0</td>\n",
       "      <td>516033.0</td>\n",
       "      <td>32941.0</td>\n",
       "      <td>13900.0</td>\n",
       "      <td>952.0</td>\n",
       "      <td>4550.0</td>\n",
       "      <td>873.0</td>\n",
       "      <td>7737.0</td>\n",
       "      <td>13.0</td>\n",
       "      <td>San Diego city, California</td>\n",
       "      <td>1307402.0</td>\n",
       "      <td>1306002.0</td>\n",
       "      <td>1400.0</td>\n",
       "      <td>33.6</td>\n",
       "      <td>483092.0</td>\n",
       "      <td>66000</td>\n",
       "      <td>06</td>\n",
       "      <td>2010</td>\n",
       "    </tr>\n",
       "    <tr>\n",
       "      <th>1197</th>\n",
       "      <td>314038.0</td>\n",
       "      <td>314038.0</td>\n",
       "      <td>12672.0</td>\n",
       "      <td>5572.0</td>\n",
       "      <td>319.0</td>\n",
       "      <td>2891.0</td>\n",
       "      <td>603.0</td>\n",
       "      <td>845.0</td>\n",
       "      <td>3.0</td>\n",
       "      <td>San Jose city, California</td>\n",
       "      <td>945942.0</td>\n",
       "      <td>945631.0</td>\n",
       "      <td>311.0</td>\n",
       "      <td>35.2</td>\n",
       "      <td>301366.0</td>\n",
       "      <td>68000</td>\n",
       "      <td>06</td>\n",
       "      <td>2010</td>\n",
       "    </tr>\n",
       "    <tr>\n",
       "      <th>1191</th>\n",
       "      <td>376942.0</td>\n",
       "      <td>376942.0</td>\n",
       "      <td>31131.0</td>\n",
       "      <td>12832.0</td>\n",
       "      <td>779.0</td>\n",
       "      <td>2984.0</td>\n",
       "      <td>759.0</td>\n",
       "      <td>5564.0</td>\n",
       "      <td>5.0</td>\n",
       "      <td>San Francisco city, California</td>\n",
       "      <td>805235.0</td>\n",
       "      <td>805235.0</td>\n",
       "      <td>0.0</td>\n",
       "      <td>38.5</td>\n",
       "      <td>345811.0</td>\n",
       "      <td>67000</td>\n",
       "      <td>06</td>\n",
       "      <td>2010</td>\n",
       "    </tr>\n",
       "    <tr>\n",
       "      <th>500</th>\n",
       "      <td>171288.0</td>\n",
       "      <td>171288.0</td>\n",
       "      <td>12939.0</td>\n",
       "      <td>6638.0</td>\n",
       "      <td>259.0</td>\n",
       "      <td>2071.0</td>\n",
       "      <td>419.0</td>\n",
       "      <td>449.0</td>\n",
       "      <td>4.0</td>\n",
       "      <td>Fresno city, California</td>\n",
       "      <td>494665.0</td>\n",
       "      <td>494522.0</td>\n",
       "      <td>143.0</td>\n",
       "      <td>29.3</td>\n",
       "      <td>158349.0</td>\n",
       "      <td>27000</td>\n",
       "      <td>06</td>\n",
       "      <td>2010</td>\n",
       "    </tr>\n",
       "  </tbody>\n",
       "</table>\n",
       "</div>"
      ],
      "text/plain": [
       "      Total_Housing  Occupancy_Status_For_Housing_Units  Vacancy_Status  \\\n",
       "789       1413995.0                           1413995.0         95827.0   \n",
       "1187       516033.0                            516033.0         32941.0   \n",
       "1197       314038.0                            314038.0         12672.0   \n",
       "1191       376942.0                            376942.0         31131.0   \n",
       "500        171288.0                            171288.0         12939.0   \n",
       "\n",
       "      For_Rent  Rented_Not_Occupied  For_Sale_Only  Sold_Not_Occupied  \\\n",
       "789    53309.0               2367.0        10930.0             2671.0   \n",
       "1187   13900.0                952.0         4550.0              873.0   \n",
       "1197    5572.0                319.0         2891.0              603.0   \n",
       "1191   12832.0                779.0         2984.0              759.0   \n",
       "500     6638.0                259.0         2071.0              419.0   \n",
       "\n",
       "      For_Seasonal_Recreational_Or_Occasional_Use  For_Migrant_Workers  \\\n",
       "789                                        7540.0                 28.0   \n",
       "1187                                       7737.0                 13.0   \n",
       "1197                                        845.0                  3.0   \n",
       "1191                                       5564.0                  5.0   \n",
       "500                                         449.0                  4.0   \n",
       "\n",
       "                           City_Name  Total_Population  \\\n",
       "789     Los Angeles city, California         3792621.0   \n",
       "1187      San Diego city, California         1307402.0   \n",
       "1197       San Jose city, California          945942.0   \n",
       "1191  San Francisco city, California          805235.0   \n",
       "500          Fresno city, California          494665.0   \n",
       "\n",
       "      Total_Urban_Population  Total_Rural_Population  Median_Age  \\\n",
       "789                3790144.0                  2477.0        34.1   \n",
       "1187               1306002.0                  1400.0        33.6   \n",
       "1197                945631.0                   311.0        35.2   \n",
       "1191                805235.0                     0.0        38.5   \n",
       "500                 494522.0                   143.0        29.3   \n",
       "\n",
       "      Presence_of_Non-Relatives   FIPS state  Year  \n",
       "789                   1318168.0  44000    06  2010  \n",
       "1187                   483092.0  66000    06  2010  \n",
       "1197                   301366.0  68000    06  2010  \n",
       "1191                   345811.0  67000    06  2010  \n",
       "500                    158349.0  27000    06  2010  "
      ]
     },
     "execution_count": 7,
     "metadata": {},
     "output_type": "execute_result"
    }
   ],
   "source": [
    "c_pop_2010_50000.head()"
   ]
  },
  {
   "cell_type": "code",
   "execution_count": 8,
   "metadata": {},
   "outputs": [],
   "source": [
    "city_2000 = c.sf1.state_place(('NAME', 'H001001', \n",
    "                               'P013001', 'P002002', 'P002005', \n",
    "                               'P013001', 'H003001', 'P027001', \n",
    "                               'H005001', 'H005002', 'H005003', \n",
    "                               'H005004', 'H005005', 'H005006', \n",
    "                               'H005007', 'P002001'), states.CA.fips, '*', year=2000)\n",
    "c_pop_2000 = pd.DataFrame.from_records(city_2000)\n",
    "c_pop_2000_50000 = c_pop_2000.rename(columns={\n",
    "        'NAME' : 'City_Name',\n",
    "        'place': 'FIPS',\n",
    "        'P002001': 'Total_Population',\n",
    "        'P002002':'Total_Urban_Population',\n",
    "        'P002005':'Total_Rural_Population',\n",
    "        'H001001': 'Total_Housing',\n",
    "        'P013001': 'Median_Age',\n",
    "        'H003001': 'Occupancy_Status_For_Housing_Units',\n",
    "        'P027001': 'Presence_of_Non-Relatives',\n",
    "        'H005001': 'Vacancy_Status',\n",
    "        'H005002': 'For_Rent',\n",
    "        'H005003': 'Rented_Not_Occupied',\n",
    "        'H005004': 'For_Sale_Only',\n",
    "        'H005005': 'Sold_Not_Occupied',\n",
    "        'H005006': 'For_Seasonal_Recreational_Or_Occasional_Use',\n",
    "        'H005007': 'For_Migrant_Workers'})"
   ]
  },
  {
   "cell_type": "code",
   "execution_count": 9,
   "metadata": {},
   "outputs": [],
   "source": [
    "#c_pop_2000_50000.drop(columns=['City_Name', 'state'], inplace=True)\n",
    "c_pop_2000_50000['Year'] = 2000"
   ]
  },
  {
   "cell_type": "code",
   "execution_count": 10,
   "metadata": {},
   "outputs": [],
   "source": [
    "list_2010 = c_pop_2010_50000['FIPS'].tolist()"
   ]
  },
  {
   "cell_type": "code",
   "execution_count": 11,
   "metadata": {},
   "outputs": [],
   "source": [
    "c_pop_2000_50000 = c_pop_2000_50000[c_pop_2000_50000['FIPS'].isin(list_2010)] "
   ]
  },
  {
   "cell_type": "code",
   "execution_count": 12,
   "metadata": {},
   "outputs": [
    {
     "data": {
      "text/html": [
       "<div>\n",
       "<style scoped>\n",
       "    .dataframe tbody tr th:only-of-type {\n",
       "        vertical-align: middle;\n",
       "    }\n",
       "\n",
       "    .dataframe tbody tr th {\n",
       "        vertical-align: top;\n",
       "    }\n",
       "\n",
       "    .dataframe thead th {\n",
       "        text-align: right;\n",
       "    }\n",
       "</style>\n",
       "<table border=\"1\" class=\"dataframe\">\n",
       "  <thead>\n",
       "    <tr style=\"text-align: right;\">\n",
       "      <th></th>\n",
       "      <th>Total_Housing</th>\n",
       "      <th>Occupancy_Status_For_Housing_Units</th>\n",
       "      <th>Vacancy_Status</th>\n",
       "      <th>For_Rent</th>\n",
       "      <th>Rented_Not_Occupied</th>\n",
       "      <th>For_Sale_Only</th>\n",
       "      <th>Sold_Not_Occupied</th>\n",
       "      <th>For_Seasonal_Recreational_Or_Occasional_Use</th>\n",
       "      <th>For_Migrant_Workers</th>\n",
       "      <th>City_Name</th>\n",
       "      <th>Total_Population</th>\n",
       "      <th>Total_Urban_Population</th>\n",
       "      <th>Total_Rural_Population</th>\n",
       "      <th>Median_Age</th>\n",
       "      <th>Presence_of_Non-Relatives</th>\n",
       "      <th>FIPS</th>\n",
       "      <th>state</th>\n",
       "      <th>Year</th>\n",
       "    </tr>\n",
       "  </thead>\n",
       "  <tbody>\n",
       "    <tr>\n",
       "      <th>79</th>\n",
       "      <td>149025</td>\n",
       "      <td>149025</td>\n",
       "      <td>8946</td>\n",
       "      <td>4769</td>\n",
       "      <td>1385</td>\n",
       "      <td>532</td>\n",
       "      <td>363</td>\n",
       "      <td>6</td>\n",
       "      <td>1891</td>\n",
       "      <td>Fresno city</td>\n",
       "      <td>427652</td>\n",
       "      <td>0</td>\n",
       "      <td>0</td>\n",
       "      <td>28.5</td>\n",
       "      <td>427652</td>\n",
       "      <td>27000</td>\n",
       "      <td>06</td>\n",
       "      <td>2000</td>\n",
       "    </tr>\n",
       "    <tr>\n",
       "      <th>247</th>\n",
       "      <td>1337706</td>\n",
       "      <td>1337706</td>\n",
       "      <td>62294</td>\n",
       "      <td>28529</td>\n",
       "      <td>9036</td>\n",
       "      <td>5161</td>\n",
       "      <td>4876</td>\n",
       "      <td>29</td>\n",
       "      <td>14663</td>\n",
       "      <td>Los Angeles city</td>\n",
       "      <td>3694820</td>\n",
       "      <td>0</td>\n",
       "      <td>0</td>\n",
       "      <td>31.6</td>\n",
       "      <td>3694820</td>\n",
       "      <td>44000</td>\n",
       "      <td>06</td>\n",
       "      <td>2000</td>\n",
       "    </tr>\n",
       "    <tr>\n",
       "      <th>553</th>\n",
       "      <td>469689</td>\n",
       "      <td>469689</td>\n",
       "      <td>18998</td>\n",
       "      <td>7511</td>\n",
       "      <td>1806</td>\n",
       "      <td>1787</td>\n",
       "      <td>5093</td>\n",
       "      <td>7</td>\n",
       "      <td>2794</td>\n",
       "      <td>San Diego city</td>\n",
       "      <td>1223400</td>\n",
       "      <td>0</td>\n",
       "      <td>0</td>\n",
       "      <td>32.5</td>\n",
       "      <td>1223400</td>\n",
       "      <td>66000</td>\n",
       "      <td>06</td>\n",
       "      <td>2000</td>\n",
       "    </tr>\n",
       "    <tr>\n",
       "      <th>717</th>\n",
       "      <td>346527</td>\n",
       "      <td>346527</td>\n",
       "      <td>16827</td>\n",
       "      <td>5594</td>\n",
       "      <td>910</td>\n",
       "      <td>1419</td>\n",
       "      <td>3762</td>\n",
       "      <td>79</td>\n",
       "      <td>5063</td>\n",
       "      <td>San Francisco city</td>\n",
       "      <td>776733</td>\n",
       "      <td>0</td>\n",
       "      <td>0</td>\n",
       "      <td>36.5</td>\n",
       "      <td>776733</td>\n",
       "      <td>67000</td>\n",
       "      <td>06</td>\n",
       "      <td>2000</td>\n",
       "    </tr>\n",
       "    <tr>\n",
       "      <th>719</th>\n",
       "      <td>281841</td>\n",
       "      <td>281841</td>\n",
       "      <td>5243</td>\n",
       "      <td>1929</td>\n",
       "      <td>714</td>\n",
       "      <td>578</td>\n",
       "      <td>818</td>\n",
       "      <td>50</td>\n",
       "      <td>1154</td>\n",
       "      <td>San Jose city</td>\n",
       "      <td>894943</td>\n",
       "      <td>0</td>\n",
       "      <td>0</td>\n",
       "      <td>32.6</td>\n",
       "      <td>894943</td>\n",
       "      <td>68000</td>\n",
       "      <td>06</td>\n",
       "      <td>2000</td>\n",
       "    </tr>\n",
       "  </tbody>\n",
       "</table>\n",
       "</div>"
      ],
      "text/plain": [
       "    Total_Housing Occupancy_Status_For_Housing_Units Vacancy_Status For_Rent  \\\n",
       "79         149025                             149025           8946     4769   \n",
       "247       1337706                            1337706          62294    28529   \n",
       "553        469689                             469689          18998     7511   \n",
       "717        346527                             346527          16827     5594   \n",
       "719        281841                             281841           5243     1929   \n",
       "\n",
       "    Rented_Not_Occupied For_Sale_Only Sold_Not_Occupied  \\\n",
       "79                 1385           532               363   \n",
       "247                9036          5161              4876   \n",
       "553                1806          1787              5093   \n",
       "717                 910          1419              3762   \n",
       "719                 714           578               818   \n",
       "\n",
       "    For_Seasonal_Recreational_Or_Occasional_Use For_Migrant_Workers  \\\n",
       "79                                            6                1891   \n",
       "247                                          29               14663   \n",
       "553                                           7                2794   \n",
       "717                                          79                5063   \n",
       "719                                          50                1154   \n",
       "\n",
       "              City_Name Total_Population Total_Urban_Population  \\\n",
       "79          Fresno city           427652                      0   \n",
       "247    Los Angeles city          3694820                      0   \n",
       "553      San Diego city          1223400                      0   \n",
       "717  San Francisco city           776733                      0   \n",
       "719       San Jose city           894943                      0   \n",
       "\n",
       "    Total_Rural_Population Median_Age Presence_of_Non-Relatives   FIPS state  \\\n",
       "79                       0       28.5                    427652  27000    06   \n",
       "247                      0       31.6                   3694820  44000    06   \n",
       "553                      0       32.5                   1223400  66000    06   \n",
       "717                      0       36.5                    776733  67000    06   \n",
       "719                      0       32.6                    894943  68000    06   \n",
       "\n",
       "     Year  \n",
       "79   2000  \n",
       "247  2000  \n",
       "553  2000  \n",
       "717  2000  \n",
       "719  2000  "
      ]
     },
     "execution_count": 12,
     "metadata": {},
     "output_type": "execute_result"
    }
   ],
   "source": [
    "c_pop_2000_50000.head()"
   ]
  },
  {
   "cell_type": "code",
   "execution_count": 13,
   "metadata": {},
   "outputs": [],
   "source": [
    "ca_df = pd.concat([c_pop_2000_50000, c_pop_2010_50000], ignore_index=True)"
   ]
  },
  {
   "cell_type": "code",
   "execution_count": 14,
   "metadata": {},
   "outputs": [
    {
     "data": {
      "text/html": [
       "<div>\n",
       "<style scoped>\n",
       "    .dataframe tbody tr th:only-of-type {\n",
       "        vertical-align: middle;\n",
       "    }\n",
       "\n",
       "    .dataframe tbody tr th {\n",
       "        vertical-align: top;\n",
       "    }\n",
       "\n",
       "    .dataframe thead th {\n",
       "        text-align: right;\n",
       "    }\n",
       "</style>\n",
       "<table border=\"1\" class=\"dataframe\">\n",
       "  <thead>\n",
       "    <tr style=\"text-align: right;\">\n",
       "      <th></th>\n",
       "      <th>Total_Housing</th>\n",
       "      <th>Occupancy_Status_For_Housing_Units</th>\n",
       "      <th>Vacancy_Status</th>\n",
       "      <th>For_Rent</th>\n",
       "      <th>Rented_Not_Occupied</th>\n",
       "      <th>For_Sale_Only</th>\n",
       "      <th>Sold_Not_Occupied</th>\n",
       "      <th>For_Seasonal_Recreational_Or_Occasional_Use</th>\n",
       "      <th>For_Migrant_Workers</th>\n",
       "      <th>City_Name</th>\n",
       "      <th>Total_Population</th>\n",
       "      <th>Total_Urban_Population</th>\n",
       "      <th>Total_Rural_Population</th>\n",
       "      <th>Median_Age</th>\n",
       "      <th>Presence_of_Non-Relatives</th>\n",
       "      <th>FIPS</th>\n",
       "      <th>state</th>\n",
       "      <th>Year</th>\n",
       "    </tr>\n",
       "  </thead>\n",
       "  <tbody>\n",
       "    <tr>\n",
       "      <th>0</th>\n",
       "      <td>149025</td>\n",
       "      <td>149025</td>\n",
       "      <td>8946</td>\n",
       "      <td>4769</td>\n",
       "      <td>1385</td>\n",
       "      <td>532</td>\n",
       "      <td>363</td>\n",
       "      <td>6</td>\n",
       "      <td>1891</td>\n",
       "      <td>Fresno city</td>\n",
       "      <td>427652</td>\n",
       "      <td>0</td>\n",
       "      <td>0</td>\n",
       "      <td>28.5</td>\n",
       "      <td>427652</td>\n",
       "      <td>27000</td>\n",
       "      <td>06</td>\n",
       "      <td>2000</td>\n",
       "    </tr>\n",
       "    <tr>\n",
       "      <th>1</th>\n",
       "      <td>1337706</td>\n",
       "      <td>1337706</td>\n",
       "      <td>62294</td>\n",
       "      <td>28529</td>\n",
       "      <td>9036</td>\n",
       "      <td>5161</td>\n",
       "      <td>4876</td>\n",
       "      <td>29</td>\n",
       "      <td>14663</td>\n",
       "      <td>Los Angeles city</td>\n",
       "      <td>3694820</td>\n",
       "      <td>0</td>\n",
       "      <td>0</td>\n",
       "      <td>31.6</td>\n",
       "      <td>3694820</td>\n",
       "      <td>44000</td>\n",
       "      <td>06</td>\n",
       "      <td>2000</td>\n",
       "    </tr>\n",
       "    <tr>\n",
       "      <th>2</th>\n",
       "      <td>469689</td>\n",
       "      <td>469689</td>\n",
       "      <td>18998</td>\n",
       "      <td>7511</td>\n",
       "      <td>1806</td>\n",
       "      <td>1787</td>\n",
       "      <td>5093</td>\n",
       "      <td>7</td>\n",
       "      <td>2794</td>\n",
       "      <td>San Diego city</td>\n",
       "      <td>1223400</td>\n",
       "      <td>0</td>\n",
       "      <td>0</td>\n",
       "      <td>32.5</td>\n",
       "      <td>1223400</td>\n",
       "      <td>66000</td>\n",
       "      <td>06</td>\n",
       "      <td>2000</td>\n",
       "    </tr>\n",
       "    <tr>\n",
       "      <th>3</th>\n",
       "      <td>346527</td>\n",
       "      <td>346527</td>\n",
       "      <td>16827</td>\n",
       "      <td>5594</td>\n",
       "      <td>910</td>\n",
       "      <td>1419</td>\n",
       "      <td>3762</td>\n",
       "      <td>79</td>\n",
       "      <td>5063</td>\n",
       "      <td>San Francisco city</td>\n",
       "      <td>776733</td>\n",
       "      <td>0</td>\n",
       "      <td>0</td>\n",
       "      <td>36.5</td>\n",
       "      <td>776733</td>\n",
       "      <td>67000</td>\n",
       "      <td>06</td>\n",
       "      <td>2000</td>\n",
       "    </tr>\n",
       "    <tr>\n",
       "      <th>4</th>\n",
       "      <td>281841</td>\n",
       "      <td>281841</td>\n",
       "      <td>5243</td>\n",
       "      <td>1929</td>\n",
       "      <td>714</td>\n",
       "      <td>578</td>\n",
       "      <td>818</td>\n",
       "      <td>50</td>\n",
       "      <td>1154</td>\n",
       "      <td>San Jose city</td>\n",
       "      <td>894943</td>\n",
       "      <td>0</td>\n",
       "      <td>0</td>\n",
       "      <td>32.6</td>\n",
       "      <td>894943</td>\n",
       "      <td>68000</td>\n",
       "      <td>06</td>\n",
       "      <td>2000</td>\n",
       "    </tr>\n",
       "  </tbody>\n",
       "</table>\n",
       "</div>"
      ],
      "text/plain": [
       "  Total_Housing Occupancy_Status_For_Housing_Units Vacancy_Status For_Rent  \\\n",
       "0        149025                             149025           8946     4769   \n",
       "1       1337706                            1337706          62294    28529   \n",
       "2        469689                             469689          18998     7511   \n",
       "3        346527                             346527          16827     5594   \n",
       "4        281841                             281841           5243     1929   \n",
       "\n",
       "  Rented_Not_Occupied For_Sale_Only Sold_Not_Occupied  \\\n",
       "0                1385           532               363   \n",
       "1                9036          5161              4876   \n",
       "2                1806          1787              5093   \n",
       "3                 910          1419              3762   \n",
       "4                 714           578               818   \n",
       "\n",
       "  For_Seasonal_Recreational_Or_Occasional_Use For_Migrant_Workers  \\\n",
       "0                                           6                1891   \n",
       "1                                          29               14663   \n",
       "2                                           7                2794   \n",
       "3                                          79                5063   \n",
       "4                                          50                1154   \n",
       "\n",
       "            City_Name Total_Population Total_Urban_Population  \\\n",
       "0         Fresno city           427652                      0   \n",
       "1    Los Angeles city          3694820                      0   \n",
       "2      San Diego city          1223400                      0   \n",
       "3  San Francisco city           776733                      0   \n",
       "4       San Jose city           894943                      0   \n",
       "\n",
       "  Total_Rural_Population Median_Age Presence_of_Non-Relatives   FIPS state  \\\n",
       "0                      0       28.5                    427652  27000    06   \n",
       "1                      0       31.6                   3694820  44000    06   \n",
       "2                      0       32.5                   1223400  66000    06   \n",
       "3                      0       36.5                    776733  67000    06   \n",
       "4                      0       32.6                    894943  68000    06   \n",
       "\n",
       "   Year  \n",
       "0  2000  \n",
       "1  2000  \n",
       "2  2000  \n",
       "3  2000  \n",
       "4  2000  "
      ]
     },
     "execution_count": 14,
     "metadata": {},
     "output_type": "execute_result"
    }
   ],
   "source": [
    "ca_df.head()"
   ]
  },
  {
   "cell_type": "code",
   "execution_count": 41,
   "metadata": {},
   "outputs": [],
   "source": [
    "ca_df[\"Total_Housing\"]=ca_df[\"Total_Housing\"].astype('i8')\n",
    "ca_df[\"Total_Population\"]=ca_df[\"Total_Population\"].astype('i8')\n",
    "ca_df[\"Year\"]=ca_df[\"Year\"].astype('i8')\n",
    "ca_df[\"FIPS\"]=ca_df[\"FIPS\"].astype('i8')"
   ]
  },
  {
   "cell_type": "code",
   "execution_count": 42,
   "metadata": {},
   "outputs": [
    {
     "data": {
      "text/plain": [
       "<matplotlib.axes._subplots.AxesSubplot at 0x1a281d3358>"
      ]
     },
     "execution_count": 42,
     "metadata": {},
     "output_type": "execute_result"
    },
    {
     "data": {
      "image/png": "[encoded data removed]",
      "text/plain": [
       "<Figure size 720x360 with 1 Axes>"
      ]
     },
     "metadata": {
      "needs_background": "light"
     },
     "output_type": "display_data"
    }
   ],
   "source": [
    "ca_df.set_index('Year').plot(figsize=(10,5))"
   ]
  },
  {
   "cell_type": "code",
   "execution_count": 43,
   "metadata": {
    "scrolled": true
   },
   "outputs": [
    {
     "data": {
      "text/plain": [
       "<matplotlib.axes._subplots.AxesSubplot at 0x1a286559b0>"
      ]
     },
     "execution_count": 43,
     "metadata": {},
     "output_type": "execute_result"
    },
    {
     "data": {
      "image/png": "[encoded data removed]",
      "text/plain": [
       "<Figure size 432x288 with 1 Axes>"
      ]
     },
     "metadata": {
      "needs_background": "light"
     },
     "output_type": "display_data"
    }
   ],
   "source": [
    "ca_df.plot(x=\"Year\", y=[\"Total_Housing\", \"Total_Population\"])"
   ]
  },
  {
   "cell_type": "code",
   "execution_count": 45,
   "metadata": {},
   "outputs": [
    {
     "data": {
      "text/plain": [
       "<seaborn.axisgrid.FacetGrid at 0x1a28e02cc0>"
      ]
     },
     "execution_count": 45,
     "metadata": {},
     "output_type": "execute_result"
    },
    {
     "data": {
      "image/png": "[encoded data removed]",
      "text/plain": [
       "<Figure size 427.5x360 with 1 Axes>"
      ]
     },
     "metadata": {
      "needs_background": "light"
     },
     "output_type": "display_data"
    },
    {
     "data": {
      "image/png": "[encoded data removed]",
      "text/plain": [
       "<Figure size 427.5x360 with 1 Axes>"
      ]
     },
     "metadata": {
      "needs_background": "light"
     },
     "output_type": "display_data"
    }
   ],
   "source": [
    "sns.relplot(x=\"Year\", y=\"Total_Housing\", data=ca_df, kind=\"line\", hue=\"FIPS\")\n",
    "sns.relplot(x=\"Year\", y=\"Total_Population\", data=ca_df, kind=\"line\", hue=\"FIPS\")"
   ]
  },
  {
   "cell_type": "code",
   "execution_count": 35,
   "metadata": {
    "scrolled": false
   },
   "outputs": [
    {
     "data": {
      "image/png": "[encoded data removed]",
      "text/plain": [
       "<Figure size 1080x216 with 5 Axes>"
      ]
     },
     "metadata": {
      "needs_background": "light"
     },
     "output_type": "display_data"
    },
    {
     "data": {
      "image/png": "[encoded data removed]",
      "text/plain": [
       "<Figure size 360x360 with 1 Axes>"
      ]
     },
     "metadata": {
      "needs_background": "light"
     },
     "output_type": "display_data"
    },
    {
     "data": {
      "image/png": "[encoded data removed]",
      "text/plain": [
       "<Figure size 360x360 with 1 Axes>"
      ]
     },
     "metadata": {
      "needs_background": "light"
     },
     "output_type": "display_data"
    },
    {
     "data": {
      "image/png": "[encoded data removed]",
      "text/plain": [
       "<Figure size 360x360 with 1 Axes>"
      ]
     },
     "metadata": {
      "needs_background": "light"
     },
     "output_type": "display_data"
    },
    {
     "data": {
      "image/png": "[encoded data removed]",
      "text/plain": [
       "<Figure size 360x360 with 1 Axes>"
      ]
     },
     "metadata": {
      "needs_background": "light"
     },
     "output_type": "display_data"
    },
    {
     "data": {
      "image/png": "[encoded data removed]",
      "text/plain": [
       "<Figure size 360x360 with 1 Axes>"
      ]
     },
     "metadata": {
      "needs_background": "light"
     },
     "output_type": "display_data"
    }
   ],
   "source": [
    "g = sns.FacetGrid(ca_df, col=\"FIPS\", sharey=False, sharex=False)\n",
    "g = g.map(sns.relplot, x=\"Year\", y=\"Total_Housing\", data=ca_df, kind=\"line\")"
   ]
  },
  {
   "cell_type": "code",
   "execution_count": 29,
   "metadata": {},
   "outputs": [],
   "source": [
    "data_store=[]\n",
    "for index, row in ca_df.iterrows():\n",
    "    if row['Year'] == 2000:\n",
    "        data_store.append(go.Scatter(name=row['FIPS'], x=ca_df['Year'], y=ca_df['Total_Population']))"
   ]
  },
  {
   "cell_type": "code",
   "execution_count": 30,
   "metadata": {},
   "outputs": [
    {
     "data": {
      "application/vnd.plotly.v1+json": {
       "config": {
        "plotlyServerURL": "https://plot.ly"
       },
       "data": [
        {
         "name": "27000",
         "type": "scatter",
         "x": [
          2000,
          2000,
          2000,
          2000,
          2000,
          2010,
          2010,
          2010,
          2010,
          2010
         ],
         "y": [
          "427652",
          "3694820",
          "1223400",
          "776733",
          "894943",
          3792621,
          1307402,
          945942,
          805235,
          494665
         ]
        },
        {
         "name": "44000",
         "type": "scatter",
         "x": [
          2000,
          2000,
          2000,
          2000,
          2000,
          2010,
          2010,
          2010,
          2010,
          2010
         ],
         "y": [
          "427652",
          "3694820",
          "1223400",
          "776733",
          "894943",
          3792621,
          1307402,
          945942,
          805235,
          494665
         ]
        },
        {
         "name": "66000",
         "type": "scatter",
         "x": [
          2000,
          2000,
          2000,
          2000,
          2000,
          2010,
          2010,
          2010,
          2010,
          2010
         ],
         "y": [
          "427652",
          "3694820",
          "1223400",
          "776733",
          "894943",
          3792621,
          1307402,
          945942,
          805235,
          494665
         ]
        },
        {
         "name": "67000",
         "type": "scatter",
         "x": [
          2000,
          2000,
          2000,
          2000,
          2000,
          2010,
          2010,
          2010,
          2010,
          2010
         ],
         "y": [
          "427652",
          "3694820",
          "1223400",
          "776733",
          "894943",
          3792621,
          1307402,
          945942,
          805235,
          494665
         ]
        },
        {
         "name": "68000",
         "type": "scatter",
         "x": [
          2000,
          2000,
          2000,
          2000,
          2000,
          2010,
          2010,
          2010,
          2010,
          2010
         ],
         "y": [
          "427652",
          "3694820",
          "1223400",
          "776733",
          "894943",
          3792621,
          1307402,
          945942,
          805235,
          494665
         ]
        }
       ],
       "layout": {
        "template": {
         "data": {
          "bar": [
           {
            "error_x": {
             "color": "#2a3f5f"
            },
            "error_y": {
             "color": "#2a3f5f"
            },
            "marker": {
             "line": {
              "color": "#E5ECF6",
              "width": 0.5
             }
            },
            "type": "bar"
           }
          ],
          "barpolar": [
           {
            "marker": {
             "line": {
              "color": "#E5ECF6",
              "width": 0.5
             }
            },
            "type": "barpolar"
           }
          ],
          "carpet": [
           {
            "aaxis": {
             "endlinecolor": "#2a3f5f",
             "gridcolor": "white",
             "linecolor": "white",
             "minorgridcolor": "white",
             "startlinecolor": "#2a3f5f"
            },
            "baxis": {
             "endlinecolor": "#2a3f5f",
             "gridcolor": "white",
             "linecolor": "white",
             "minorgridcolor": "white",
             "startlinecolor": "#2a3f5f"
            },
            "type": "carpet"
           }
          ],
          "choropleth": [
           {
            "colorbar": {
             "outlinewidth": 0,
             "ticks": ""
            },
            "type": "choropleth"
           }
          ],
          "contour": [
           {
            "colorbar": {
             "outlinewidth": 0,
             "ticks": ""
            },
            "colorscale": [
             [
              0,
              "#0d0887"
             ],
             [
              0.1111111111111111,
              "#46039f"
             ],
             [
              0.2222222222222222,
              "#7201a8"
             ],
             [
              0.3333333333333333,
              "#9c179e"
             ],
             [
              0.4444444444444444,
              "#bd3786"
             ],
             [
              0.5555555555555556,
              "#d8576b"
             ],
             [
              0.6666666666666666,
              "#ed7953"
             ],
             [
              0.7777777777777778,
              "#fb9f3a"
             ],
             [
              0.8888888888888888,
              "#fdca26"
             ],
             [
              1,
              "#f0f921"
             ]
            ],
            "type": "contour"
           }
          ],
          "contourcarpet": [
           {
            "colorbar": {
             "outlinewidth": 0,
             "ticks": ""
            },
            "type": "contourcarpet"
           }
          ],
          "heatmap": [
           {
            "colorbar": {
             "outlinewidth": 0,
             "ticks": ""
            },
            "colorscale": [
             [
              0,
              "#0d0887"
             ],
             [
              0.1111111111111111,
              "#46039f"
             ],
             [
              0.2222222222222222,
              "#7201a8"
             ],
             [
              0.3333333333333333,
              "#9c179e"
             ],
             [
              0.4444444444444444,
              "#bd3786"
             ],
             [
              0.5555555555555556,
              "#d8576b"
             ],
             [
              0.6666666666666666,
              "#ed7953"
             ],
             [
              0.7777777777777778,
              "#fb9f3a"
             ],
             [
              0.8888888888888888,
              "#fdca26"
             ],
             [
              1,
              "#f0f921"
             ]
            ],
            "type": "heatmap"
           }
          ],
          "heatmapgl": [
           {
            "colorbar": {
             "outlinewidth": 0,
             "ticks": ""
            },
            "colorscale": [
             [
              0,
              "#0d0887"
             ],
             [
              0.1111111111111111,
              "#46039f"
             ],
             [
              0.2222222222222222,
              "#7201a8"
             ],
             [
              0.3333333333333333,
              "#9c179e"
             ],
             [
              0.4444444444444444,
              "#bd3786"
             ],
             [
              0.5555555555555556,
              "#d8576b"
             ],
             [
              0.6666666666666666,
              "#ed7953"
             ],
             [
              0.7777777777777778,
              "#fb9f3a"
             ],
             [
              0.8888888888888888,
              "#fdca26"
             ],
             [
              1,
              "#f0f921"
             ]
            ],
            "type": "heatmapgl"
           }
          ],
          "histogram": [
           {
            "marker": {
             "colorbar": {
              "outlinewidth": 0,
              "ticks": ""
             }
            },
            "type": "histogram"
           }
          ],
          "histogram2d": [
           {
            "colorbar": {
             "outlinewidth": 0,
             "ticks": ""
            },
            "colorscale": [
             [
              0,
              "#0d0887"
             ],
             [
              0.1111111111111111,
              "#46039f"
             ],
             [
              0.2222222222222222,
              "#7201a8"
             ],
             [
              0.3333333333333333,
              "#9c179e"
             ],
             [
              0.4444444444444444,
              "#bd3786"
             ],
             [
              0.5555555555555556,
              "#d8576b"
             ],
             [
              0.6666666666666666,
              "#ed7953"
             ],
             [
              0.7777777777777778,
              "#fb9f3a"
             ],
             [
              0.8888888888888888,
              "#fdca26"
             ],
             [
              1,
              "#f0f921"
             ]
            ],
            "type": "histogram2d"
           }
          ],
          "histogram2dcontour": [
           {
            "colorbar": {
             "outlinewidth": 0,
             "ticks": ""
            },
            "colorscale": [
             [
              0,
              "#0d0887"
             ],
             [
              0.1111111111111111,
              "#46039f"
             ],
             [
              0.2222222222222222,
              "#7201a8"
             ],
             [
              0.3333333333333333,
              "#9c179e"
             ],
             [
              0.4444444444444444,
              "#bd3786"
             ],
             [
              0.5555555555555556,
              "#d8576b"
             ],
             [
              0.6666666666666666,
              "#ed7953"
             ],
             [
              0.7777777777777778,
              "#fb9f3a"
             ],
             [
              0.8888888888888888,
              "#fdca26"
             ],
             [
              1,
              "#f0f921"
             ]
            ],
            "type": "histogram2dcontour"
           }
          ],
          "mesh3d": [
           {
            "colorbar": {
             "outlinewidth": 0,
             "ticks": ""
            },
            "type": "mesh3d"
           }
          ],
          "parcoords": [
           {
            "line": {
             "colorbar": {
              "outlinewidth": 0,
              "ticks": ""
             }
            },
            "type": "parcoords"
           }
          ],
          "scatter": [
           {
            "marker": {
             "colorbar": {
              "outlinewidth": 0,
              "ticks": ""
             }
            },
            "type": "scatter"
           }
          ],
          "scatter3d": [
           {
            "line": {
             "colorbar": {
              "outlinewidth": 0,
              "ticks": ""
             }
            },
            "marker": {
             "colorbar": {
              "outlinewidth": 0,
              "ticks": ""
             }
            },
            "type": "scatter3d"
           }
          ],
          "scattercarpet": [
           {
            "marker": {
             "colorbar": {
              "outlinewidth": 0,
              "ticks": ""
             }
            },
            "type": "scattercarpet"
           }
          ],
          "scattergeo": [
           {
            "marker": {
             "colorbar": {
              "outlinewidth": 0,
              "ticks": ""
             }
            },
            "type": "scattergeo"
           }
          ],
          "scattergl": [
           {
            "marker": {
             "colorbar": {
              "outlinewidth": 0,
              "ticks": ""
             }
            },
            "type": "scattergl"
           }
          ],
          "scattermapbox": [
           {
            "marker": {
             "colorbar": {
              "outlinewidth": 0,
              "ticks": ""
             }
            },
            "type": "scattermapbox"
           }
          ],
          "scatterpolar": [
           {
            "marker": {
             "colorbar": {
              "outlinewidth": 0,
              "ticks": ""
             }
            },
            "type": "scatterpolar"
           }
          ],
          "scatterpolargl": [
           {
            "marker": {
             "colorbar": {
              "outlinewidth": 0,
              "ticks": ""
             }
            },
            "type": "scatterpolargl"
           }
          ],
          "scatterternary": [
           {
            "marker": {
             "colorbar": {
              "outlinewidth": 0,
              "ticks": ""
             }
            },
            "type": "scatterternary"
           }
          ],
          "surface": [
           {
            "colorbar": {
             "outlinewidth": 0,
             "ticks": ""
            },
            "colorscale": [
             [
              0,
              "#0d0887"
             ],
             [
              0.1111111111111111,
              "#46039f"
             ],
             [
              0.2222222222222222,
              "#7201a8"
             ],
             [
              0.3333333333333333,
              "#9c179e"
             ],
             [
              0.4444444444444444,
              "#bd3786"
             ],
             [
              0.5555555555555556,
              "#d8576b"
             ],
             [
              0.6666666666666666,
              "#ed7953"
             ],
             [
              0.7777777777777778,
              "#fb9f3a"
             ],
             [
              0.8888888888888888,
              "#fdca26"
             ],
             [
              1,
              "#f0f921"
             ]
            ],
            "type": "surface"
           }
          ],
          "table": [
           {
            "cells": {
             "fill": {
              "color": "#EBF0F8"
             },
             "line": {
              "color": "white"
             }
            },
            "header": {
             "fill": {
              "color": "#C8D4E3"
             },
             "line": {
              "color": "white"
             }
            },
            "type": "table"
           }
          ]
         },
         "layout": {
          "annotationdefaults": {
           "arrowcolor": "#2a3f5f",
           "arrowhead": 0,
           "arrowwidth": 1
          },
          "colorscale": {
           "diverging": [
            [
             0,
             "#8e0152"
            ],
            [
             0.1,
             "#c51b7d"
            ],
            [
             0.2,
             "#de77ae"
            ],
            [
             0.3,
             "#f1b6da"
            ],
            [
             0.4,
             "#fde0ef"
            ],
            [
             0.5,
             "#f7f7f7"
            ],
            [
             0.6,
             "#e6f5d0"
            ],
            [
             0.7,
             "#b8e186"
            ],
            [
             0.8,
             "#7fbc41"
            ],
            [
             0.9,
             "#4d9221"
            ],
            [
             1,
             "#276419"
            ]
           ],
           "sequential": [
            [
             0,
             "#0d0887"
            ],
            [
             0.1111111111111111,
             "#46039f"
            ],
            [
             0.2222222222222222,
             "#7201a8"
            ],
            [
             0.3333333333333333,
             "#9c179e"
            ],
            [
             0.4444444444444444,
             "#bd3786"
            ],
            [
             0.5555555555555556,
             "#d8576b"
            ],
            [
             0.6666666666666666,
             "#ed7953"
            ],
            [
             0.7777777777777778,
             "#fb9f3a"
            ],
            [
             0.8888888888888888,
             "#fdca26"
            ],
            [
             1,
             "#f0f921"
            ]
           ],
           "sequentialminus": [
            [
             0,
             "#0d0887"
            ],
            [
             0.1111111111111111,
             "#46039f"
            ],
            [
             0.2222222222222222,
             "#7201a8"
            ],
            [
             0.3333333333333333,
             "#9c179e"
            ],
            [
             0.4444444444444444,
             "#bd3786"
            ],
            [
             0.5555555555555556,
             "#d8576b"
            ],
            [
             0.6666666666666666,
             "#ed7953"
            ],
            [
             0.7777777777777778,
             "#fb9f3a"
            ],
            [
             0.8888888888888888,
             "#fdca26"
            ],
            [
             1,
             "#f0f921"
            ]
           ]
          },
          "colorway": [
           "#636efa",
           "#EF553B",
           "#00cc96",
           "#ab63fa",
           "#FFA15A",
           "#19d3f3",
           "#FF6692",
           "#B6E880",
           "#FF97FF",
           "#FECB52"
          ],
          "font": {
           "color": "#2a3f5f"
          },
          "geo": {
           "bgcolor": "white",
           "lakecolor": "white",
           "landcolor": "#E5ECF6",
           "showlakes": true,
           "showland": true,
           "subunitcolor": "white"
          },
          "hoverlabel": {
           "align": "left"
          },
          "hovermode": "closest",
          "mapbox": {
           "style": "light"
          },
          "paper_bgcolor": "white",
          "plot_bgcolor": "#E5ECF6",
          "polar": {
           "angularaxis": {
            "gridcolor": "white",
            "linecolor": "white",
            "ticks": ""
           },
           "bgcolor": "#E5ECF6",
           "radialaxis": {
            "gridcolor": "white",
            "linecolor": "white",
            "ticks": ""
           }
          },
          "scene": {
           "xaxis": {
            "backgroundcolor": "#E5ECF6",
            "gridcolor": "white",
            "gridwidth": 2,
            "linecolor": "white",
            "showbackground": true,
            "ticks": "",
            "zerolinecolor": "white"
           },
           "yaxis": {
            "backgroundcolor": "#E5ECF6",
            "gridcolor": "white",
            "gridwidth": 2,
            "linecolor": "white",
            "showbackground": true,
            "ticks": "",
            "zerolinecolor": "white"
           },
           "zaxis": {
            "backgroundcolor": "#E5ECF6",
            "gridcolor": "white",
            "gridwidth": 2,
            "linecolor": "white",
            "showbackground": true,
            "ticks": "",
            "zerolinecolor": "white"
           }
          },
          "shapedefaults": {
           "line": {
            "color": "#2a3f5f"
           }
          },
          "ternary": {
           "aaxis": {
            "gridcolor": "white",
            "linecolor": "white",
            "ticks": ""
           },
           "baxis": {
            "gridcolor": "white",
            "linecolor": "white",
            "ticks": ""
           },
           "bgcolor": "#E5ECF6",
           "caxis": {
            "gridcolor": "white",
            "linecolor": "white",
            "ticks": ""
           }
          },
          "title": {
           "x": 0.05
          },
          "xaxis": {
           "automargin": true,
           "gridcolor": "white",
           "linecolor": "white",
           "ticks": "",
           "zerolinecolor": "white",
           "zerolinewidth": 2
          },
          "yaxis": {
           "automargin": true,
           "gridcolor": "white",
           "linecolor": "white",
           "ticks": "",
           "zerolinecolor": "white",
           "zerolinewidth": 2
          }
         }
        }
       }
      },
      "text/html": [
       "<div>\n",
       "        \n",
       "        \n",
       "            <div id=\"b98e7a76-57c0-4cf5-8288-d0b840da3e29\" class=\"plotly-graph-div\" style=\"height:525px; width:100%;\"></div>\n",
       "            <script type=\"text/javascript\">\n",
       "                require([\"plotly\"], function(Plotly) {\n",
       "                    window.PLOTLYENV=window.PLOTLYENV || {};\n",
       "                    \n",
       "                if (document.getElementById(\"b98e7a76-57c0-4cf5-8288-d0b840da3e29\")) {\n",
       "                    Plotly.newPlot(\n",
       "                        'b98e7a76-57c0-4cf5-8288-d0b840da3e29',\n",
       "                        [{\"name\": \"27000\", \"type\": \"scatter\", \"x\": [2000, 2000, 2000, 2000, 2000, 2010, 2010, 2010, 2010, 2010], \"y\": [\"427652\", \"3694820\", \"1223400\", \"776733\", \"894943\", 3792621.0, 1307402.0, 945942.0, 805235.0, 494665.0]}, {\"name\": \"44000\", \"type\": \"scatter\", \"x\": [2000, 2000, 2000, 2000, 2000, 2010, 2010, 2010, 2010, 2010], \"y\": [\"427652\", \"3694820\", \"1223400\", \"776733\", \"894943\", 3792621.0, 1307402.0, 945942.0, 805235.0, 494665.0]}, {\"name\": \"66000\", \"type\": \"scatter\", \"x\": [2000, 2000, 2000, 2000, 2000, 2010, 2010, 2010, 2010, 2010], \"y\": [\"427652\", \"3694820\", \"1223400\", \"776733\", \"894943\", 3792621.0, 1307402.0, 945942.0, 805235.0, 494665.0]}, {\"name\": \"67000\", \"type\": \"scatter\", \"x\": [2000, 2000, 2000, 2000, 2000, 2010, 2010, 2010, 2010, 2010], \"y\": [\"427652\", \"3694820\", \"1223400\", \"776733\", \"894943\", 3792621.0, 1307402.0, 945942.0, 805235.0, 494665.0]}, {\"name\": \"68000\", \"type\": \"scatter\", \"x\": [2000, 2000, 2000, 2000, 2000, 2010, 2010, 2010, 2010, 2010], \"y\": [\"427652\", \"3694820\", \"1223400\", \"776733\", \"894943\", 3792621.0, 1307402.0, 945942.0, 805235.0, 494665.0]}],\n",
       "                        {\"template\": {\"data\": {\"bar\": [{\"error_x\": {\"color\": \"#2a3f5f\"}, \"error_y\": {\"color\": \"#2a3f5f\"}, \"marker\": {\"line\": {\"color\": \"#E5ECF6\", \"width\": 0.5}}, \"type\": \"bar\"}], \"barpolar\": [{\"marker\": {\"line\": {\"color\": \"#E5ECF6\", \"width\": 0.5}}, \"type\": \"barpolar\"}], \"carpet\": [{\"aaxis\": {\"endlinecolor\": \"#2a3f5f\", \"gridcolor\": \"white\", \"linecolor\": \"white\", \"minorgridcolor\": \"white\", \"startlinecolor\": \"#2a3f5f\"}, \"baxis\": {\"endlinecolor\": \"#2a3f5f\", \"gridcolor\": \"white\", \"linecolor\": \"white\", \"minorgridcolor\": \"white\", \"startlinecolor\": \"#2a3f5f\"}, \"type\": \"carpet\"}], \"choropleth\": [{\"colorbar\": {\"outlinewidth\": 0, \"ticks\": \"\"}, \"type\": \"choropleth\"}], \"contour\": [{\"colorbar\": {\"outlinewidth\": 0, \"ticks\": \"\"}, \"colorscale\": [[0.0, \"#0d0887\"], [0.1111111111111111, \"#46039f\"], [0.2222222222222222, \"#7201a8\"], [0.3333333333333333, \"#9c179e\"], [0.4444444444444444, \"#bd3786\"], [0.5555555555555556, \"#d8576b\"], [0.6666666666666666, \"#ed7953\"], [0.7777777777777778, \"#fb9f3a\"], [0.8888888888888888, \"#fdca26\"], [1.0, \"#f0f921\"]], \"type\": \"contour\"}], \"contourcarpet\": [{\"colorbar\": {\"outlinewidth\": 0, \"ticks\": \"\"}, \"type\": \"contourcarpet\"}], \"heatmap\": [{\"colorbar\": {\"outlinewidth\": 0, \"ticks\": \"\"}, \"colorscale\": [[0.0, \"#0d0887\"], [0.1111111111111111, \"#46039f\"], [0.2222222222222222, \"#7201a8\"], [0.3333333333333333, \"#9c179e\"], [0.4444444444444444, \"#bd3786\"], [0.5555555555555556, \"#d8576b\"], [0.6666666666666666, \"#ed7953\"], [0.7777777777777778, \"#fb9f3a\"], [0.8888888888888888, \"#fdca26\"], [1.0, \"#f0f921\"]], \"type\": \"heatmap\"}], \"heatmapgl\": [{\"colorbar\": {\"outlinewidth\": 0, \"ticks\": \"\"}, \"colorscale\": [[0.0, \"#0d0887\"], [0.1111111111111111, \"#46039f\"], [0.2222222222222222, \"#7201a8\"], [0.3333333333333333, \"#9c179e\"], [0.4444444444444444, \"#bd3786\"], [0.5555555555555556, \"#d8576b\"], [0.6666666666666666, \"#ed7953\"], [0.7777777777777778, \"#fb9f3a\"], [0.8888888888888888, \"#fdca26\"], [1.0, \"#f0f921\"]], \"type\": \"heatmapgl\"}], \"histogram\": [{\"marker\": {\"colorbar\": {\"outlinewidth\": 0, \"ticks\": \"\"}}, \"type\": \"histogram\"}], \"histogram2d\": [{\"colorbar\": {\"outlinewidth\": 0, \"ticks\": \"\"}, \"colorscale\": [[0.0, \"#0d0887\"], [0.1111111111111111, \"#46039f\"], [0.2222222222222222, \"#7201a8\"], [0.3333333333333333, \"#9c179e\"], [0.4444444444444444, \"#bd3786\"], [0.5555555555555556, \"#d8576b\"], [0.6666666666666666, \"#ed7953\"], [0.7777777777777778, \"#fb9f3a\"], [0.8888888888888888, \"#fdca26\"], [1.0, \"#f0f921\"]], \"type\": \"histogram2d\"}], \"histogram2dcontour\": [{\"colorbar\": {\"outlinewidth\": 0, \"ticks\": \"\"}, \"colorscale\": [[0.0, \"#0d0887\"], [0.1111111111111111, \"#46039f\"], [0.2222222222222222, \"#7201a8\"], [0.3333333333333333, \"#9c179e\"], [0.4444444444444444, \"#bd3786\"], [0.5555555555555556, \"#d8576b\"], [0.6666666666666666, \"#ed7953\"], [0.7777777777777778, \"#fb9f3a\"], [0.8888888888888888, \"#fdca26\"], [1.0, \"#f0f921\"]], \"type\": \"histogram2dcontour\"}], \"mesh3d\": [{\"colorbar\": {\"outlinewidth\": 0, \"ticks\": \"\"}, \"type\": \"mesh3d\"}], \"parcoords\": [{\"line\": {\"colorbar\": {\"outlinewidth\": 0, \"ticks\": \"\"}}, \"type\": \"parcoords\"}], \"scatter\": [{\"marker\": {\"colorbar\": {\"outlinewidth\": 0, \"ticks\": \"\"}}, \"type\": \"scatter\"}], \"scatter3d\": [{\"line\": {\"colorbar\": {\"outlinewidth\": 0, \"ticks\": \"\"}}, \"marker\": {\"colorbar\": {\"outlinewidth\": 0, \"ticks\": \"\"}}, \"type\": \"scatter3d\"}], \"scattercarpet\": [{\"marker\": {\"colorbar\": {\"outlinewidth\": 0, \"ticks\": \"\"}}, \"type\": \"scattercarpet\"}], \"scattergeo\": [{\"marker\": {\"colorbar\": {\"outlinewidth\": 0, \"ticks\": \"\"}}, \"type\": \"scattergeo\"}], \"scattergl\": [{\"marker\": {\"colorbar\": {\"outlinewidth\": 0, \"ticks\": \"\"}}, \"type\": \"scattergl\"}], \"scattermapbox\": [{\"marker\": {\"colorbar\": {\"outlinewidth\": 0, \"ticks\": \"\"}}, \"type\": \"scattermapbox\"}], \"scatterpolar\": [{\"marker\": {\"colorbar\": {\"outlinewidth\": 0, \"ticks\": \"\"}}, \"type\": \"scatterpolar\"}], \"scatterpolargl\": [{\"marker\": {\"colorbar\": {\"outlinewidth\": 0, \"ticks\": \"\"}}, \"type\": \"scatterpolargl\"}], \"scatterternary\": [{\"marker\": {\"colorbar\": {\"outlinewidth\": 0, \"ticks\": \"\"}}, \"type\": \"scatterternary\"}], \"surface\": [{\"colorbar\": {\"outlinewidth\": 0, \"ticks\": \"\"}, \"colorscale\": [[0.0, \"#0d0887\"], [0.1111111111111111, \"#46039f\"], [0.2222222222222222, \"#7201a8\"], [0.3333333333333333, \"#9c179e\"], [0.4444444444444444, \"#bd3786\"], [0.5555555555555556, \"#d8576b\"], [0.6666666666666666, \"#ed7953\"], [0.7777777777777778, \"#fb9f3a\"], [0.8888888888888888, \"#fdca26\"], [1.0, \"#f0f921\"]], \"type\": \"surface\"}], \"table\": [{\"cells\": {\"fill\": {\"color\": \"#EBF0F8\"}, \"line\": {\"color\": \"white\"}}, \"header\": {\"fill\": {\"color\": \"#C8D4E3\"}, \"line\": {\"color\": \"white\"}}, \"type\": \"table\"}]}, \"layout\": {\"annotationdefaults\": {\"arrowcolor\": \"#2a3f5f\", \"arrowhead\": 0, \"arrowwidth\": 1}, \"colorscale\": {\"diverging\": [[0, \"#8e0152\"], [0.1, \"#c51b7d\"], [0.2, \"#de77ae\"], [0.3, \"#f1b6da\"], [0.4, \"#fde0ef\"], [0.5, \"#f7f7f7\"], [0.6, \"#e6f5d0\"], [0.7, \"#b8e186\"], [0.8, \"#7fbc41\"], [0.9, \"#4d9221\"], [1, \"#276419\"]], \"sequential\": [[0.0, \"#0d0887\"], [0.1111111111111111, \"#46039f\"], [0.2222222222222222, \"#7201a8\"], [0.3333333333333333, \"#9c179e\"], [0.4444444444444444, \"#bd3786\"], [0.5555555555555556, \"#d8576b\"], [0.6666666666666666, \"#ed7953\"], [0.7777777777777778, \"#fb9f3a\"], [0.8888888888888888, \"#fdca26\"], [1.0, \"#f0f921\"]], \"sequentialminus\": [[0.0, \"#0d0887\"], [0.1111111111111111, \"#46039f\"], [0.2222222222222222, \"#7201a8\"], [0.3333333333333333, \"#9c179e\"], [0.4444444444444444, \"#bd3786\"], [0.5555555555555556, \"#d8576b\"], [0.6666666666666666, \"#ed7953\"], [0.7777777777777778, \"#fb9f3a\"], [0.8888888888888888, \"#fdca26\"], [1.0, \"#f0f921\"]]}, \"colorway\": [\"#636efa\", \"#EF553B\", \"#00cc96\", \"#ab63fa\", \"#FFA15A\", \"#19d3f3\", \"#FF6692\", \"#B6E880\", \"#FF97FF\", \"#FECB52\"], \"font\": {\"color\": \"#2a3f5f\"}, \"geo\": {\"bgcolor\": \"white\", \"lakecolor\": \"white\", \"landcolor\": \"#E5ECF6\", \"showlakes\": true, \"showland\": true, \"subunitcolor\": \"white\"}, \"hoverlabel\": {\"align\": \"left\"}, \"hovermode\": \"closest\", \"mapbox\": {\"style\": \"light\"}, \"paper_bgcolor\": \"white\", \"plot_bgcolor\": \"#E5ECF6\", \"polar\": {\"angularaxis\": {\"gridcolor\": \"white\", \"linecolor\": \"white\", \"ticks\": \"\"}, \"bgcolor\": \"#E5ECF6\", \"radialaxis\": {\"gridcolor\": \"white\", \"linecolor\": \"white\", \"ticks\": \"\"}}, \"scene\": {\"xaxis\": {\"backgroundcolor\": \"#E5ECF6\", \"gridcolor\": \"white\", \"gridwidth\": 2, \"linecolor\": \"white\", \"showbackground\": true, \"ticks\": \"\", \"zerolinecolor\": \"white\"}, \"yaxis\": {\"backgroundcolor\": \"#E5ECF6\", \"gridcolor\": \"white\", \"gridwidth\": 2, \"linecolor\": \"white\", \"showbackground\": true, \"ticks\": \"\", \"zerolinecolor\": \"white\"}, \"zaxis\": {\"backgroundcolor\": \"#E5ECF6\", \"gridcolor\": \"white\", \"gridwidth\": 2, \"linecolor\": \"white\", \"showbackground\": true, \"ticks\": \"\", \"zerolinecolor\": \"white\"}}, \"shapedefaults\": {\"line\": {\"color\": \"#2a3f5f\"}}, \"ternary\": {\"aaxis\": {\"gridcolor\": \"white\", \"linecolor\": \"white\", \"ticks\": \"\"}, \"baxis\": {\"gridcolor\": \"white\", \"linecolor\": \"white\", \"ticks\": \"\"}, \"bgcolor\": \"#E5ECF6\", \"caxis\": {\"gridcolor\": \"white\", \"linecolor\": \"white\", \"ticks\": \"\"}}, \"title\": {\"x\": 0.05}, \"xaxis\": {\"automargin\": true, \"gridcolor\": \"white\", \"linecolor\": \"white\", \"ticks\": \"\", \"zerolinecolor\": \"white\", \"zerolinewidth\": 2}, \"yaxis\": {\"automargin\": true, \"gridcolor\": \"white\", \"linecolor\": \"white\", \"ticks\": \"\", \"zerolinecolor\": \"white\", \"zerolinewidth\": 2}}}},\n",
       "                        {\"responsive\": true}\n",
       "                    ).then(function(){\n",
       "                            \n",
       "var gd = document.getElementById('b98e7a76-57c0-4cf5-8288-d0b840da3e29');\n",
       "var x = new MutationObserver(function (mutations, observer) {{\n",
       "        var display = window.getComputedStyle(gd).display;\n",
       "        if (!display || display === 'none') {{\n",
       "            console.log([gd, 'removed!']);\n",
       "            Plotly.purge(gd);\n",
       "            observer.disconnect();\n",
       "        }}\n",
       "}});\n",
       "\n",
       "// Listen for the removal of the full notebook cells\n",
       "var notebookContainer = gd.closest('#notebook-container');\n",
       "if (notebookContainer) {{\n",
       "    x.observe(notebookContainer, {childList: true});\n",
       "}}\n",
       "\n",
       "// Listen for the clearing of the current output cell\n",
       "var outputEl = gd.closest('.output');\n",
       "if (outputEl) {{\n",
       "    x.observe(outputEl, {childList: true});\n",
       "}}\n",
       "\n",
       "                        })\n",
       "                };\n",
       "                });\n",
       "            </script>\n",
       "        </div>"
      ]
     },
     "metadata": {},
     "output_type": "display_data"
    }
   ],
   "source": [
    "fig = go.Figure(data=data_store)\n",
    "#fig.update_layout()\n",
    "fig.show()"
   ]
  },
  {
   "cell_type": "code",
   "execution_count": null,
   "metadata": {},
   "outputs": [],
   "source": []
  },
  {
   "cell_type": "code",
   "execution_count": 27,
   "metadata": {},
   "outputs": [],
   "source": [
    "plot_df = pd.DataFrame({\n",
    "    'Total_Population': ca_df['Total_Population'],\n",
    "    'Total_Housing': ca_df['Total_Housing'],\n",
    "    'Presence_of_Non-Relatives': ca_df['Presence_of_Non-Relatives']},\n",
    "    index=ca_df['Year'])"
   ]
  },
  {
   "cell_type": "code",
   "execution_count": 32,
   "metadata": {},
   "outputs": [
    {
     "data": {
      "text/html": [
       "<div>\n",
       "<style scoped>\n",
       "    .dataframe tbody tr th:only-of-type {\n",
       "        vertical-align: middle;\n",
       "    }\n",
       "\n",
       "    .dataframe tbody tr th {\n",
       "        vertical-align: top;\n",
       "    }\n",
       "\n",
       "    .dataframe thead th {\n",
       "        text-align: right;\n",
       "    }\n",
       "</style>\n",
       "<table border=\"1\" class=\"dataframe\">\n",
       "  <thead>\n",
       "    <tr style=\"text-align: right;\">\n",
       "      <th></th>\n",
       "      <th>Total_Population</th>\n",
       "      <th>Total_Housing</th>\n",
       "      <th>Presence_of_Non-Relatives</th>\n",
       "    </tr>\n",
       "    <tr>\n",
       "      <th>Year</th>\n",
       "      <th></th>\n",
       "      <th></th>\n",
       "      <th></th>\n",
       "    </tr>\n",
       "  </thead>\n",
       "  <tbody>\n",
       "    <tr>\n",
       "      <th>2000</th>\n",
       "      <td>74066</td>\n",
       "      <td>33881</td>\n",
       "      <td>31957</td>\n",
       "    </tr>\n",
       "    <tr>\n",
       "      <th>2000</th>\n",
       "      <td>74066</td>\n",
       "      <td>33881</td>\n",
       "      <td>31957</td>\n",
       "    </tr>\n",
       "    <tr>\n",
       "      <th>2000</th>\n",
       "      <td>74066</td>\n",
       "      <td>33881</td>\n",
       "      <td>31957</td>\n",
       "    </tr>\n",
       "    <tr>\n",
       "      <th>2000</th>\n",
       "      <td>74066</td>\n",
       "      <td>33881</td>\n",
       "      <td>31957</td>\n",
       "    </tr>\n",
       "    <tr>\n",
       "      <th>2000</th>\n",
       "      <td>74066</td>\n",
       "      <td>33881</td>\n",
       "      <td>31957</td>\n",
       "    </tr>\n",
       "  </tbody>\n",
       "</table>\n",
       "</div>"
      ],
      "text/plain": [
       "     Total_Population Total_Housing Presence_of_Non-Relatives\n",
       "Year                                                         \n",
       "2000            74066         33881                     31957\n",
       "2000            74066         33881                     31957\n",
       "2000            74066         33881                     31957\n",
       "2000            74066         33881                     31957\n",
       "2000            74066         33881                     31957"
      ]
     },
     "execution_count": 32,
     "metadata": {},
     "output_type": "execute_result"
    }
   ],
   "source": [
    "plot_df.head()"
   ]
  },
  {
   "cell_type": "code",
   "execution_count": 30,
   "metadata": {},
   "outputs": [
    {
     "data": {
      "text/plain": [
       "<matplotlib.axes._subplots.AxesSubplot at 0x1a244bd390>"
      ]
     },
     "execution_count": 30,
     "metadata": {},
     "output_type": "execute_result"
    },
    {
     "data": {
      "image/png": "[encoded data removed]",
      "text/plain": [
       "<Figure size 432x288 with 1 Axes>"
      ]
     },
     "metadata": {
      "needs_background": "light"
     },
     "output_type": "display_data"
    }
   ],
   "source": [
    "plot_df.plot.line()"
   ]
  },
  {
   "cell_type": "code",
   "execution_count": 9,
   "metadata": {},
   "outputs": [],
   "source": [
    "c_pop_2000_50000.set_index('FIPS', inplace=True)\n",
    "c_pop_2010_50000.set_index('FIPS', inplace=True)"
   ]
  },
  {
   "cell_type": "code",
   "execution_count": 10,
   "metadata": {},
   "outputs": [],
   "source": [
    "ca_join = c_pop_2000_50000.join(c_pop_2010_50000, on='FIPS')"
   ]
  },
  {
   "cell_type": "code",
   "execution_count": 11,
   "metadata": {},
   "outputs": [
    {
     "data": {
      "text/html": [
       "<div>\n",
       "<style scoped>\n",
       "    .dataframe tbody tr th:only-of-type {\n",
       "        vertical-align: middle;\n",
       "    }\n",
       "\n",
       "    .dataframe tbody tr th {\n",
       "        vertical-align: top;\n",
       "    }\n",
       "\n",
       "    .dataframe thead th {\n",
       "        text-align: right;\n",
       "    }\n",
       "</style>\n",
       "<table border=\"1\" class=\"dataframe\">\n",
       "  <thead>\n",
       "    <tr style=\"text-align: right;\">\n",
       "      <th></th>\n",
       "      <th>Total_Housing_2000</th>\n",
       "      <th>Occupancy_Status_For_Housing_Units_2000</th>\n",
       "      <th>Vacancy_Status_2000</th>\n",
       "      <th>For_Rent_2000</th>\n",
       "      <th>Rented_Not_Occupied_2000</th>\n",
       "      <th>For_Sale_Only_2000</th>\n",
       "      <th>Sold_Not_Occupied_2000</th>\n",
       "      <th>For_Seasonal_Recreational_Or_Occasional_Use_2000</th>\n",
       "      <th>For_Migrant_Workers_2000</th>\n",
       "      <th>Total_Population_2000</th>\n",
       "      <th>...</th>\n",
       "      <th>Sold_Not_Occupied_2010</th>\n",
       "      <th>For_Seasonal_Recreational_Or_Occasional_Use_2010</th>\n",
       "      <th>For_Migrant_Workers_2010</th>\n",
       "      <th>City_Name</th>\n",
       "      <th>Total_Population_2010</th>\n",
       "      <th>Total_Urban_Population_2010</th>\n",
       "      <th>Total_Rural_Population_2010</th>\n",
       "      <th>Median_Age_2010</th>\n",
       "      <th>Presence_of_Non-Relatives_2010</th>\n",
       "      <th>state</th>\n",
       "    </tr>\n",
       "    <tr>\n",
       "      <th>FIPS</th>\n",
       "      <th></th>\n",
       "      <th></th>\n",
       "      <th></th>\n",
       "      <th></th>\n",
       "      <th></th>\n",
       "      <th></th>\n",
       "      <th></th>\n",
       "      <th></th>\n",
       "      <th></th>\n",
       "      <th></th>\n",
       "      <th></th>\n",
       "      <th></th>\n",
       "      <th></th>\n",
       "      <th></th>\n",
       "      <th></th>\n",
       "      <th></th>\n",
       "      <th></th>\n",
       "      <th></th>\n",
       "      <th></th>\n",
       "      <th></th>\n",
       "      <th></th>\n",
       "    </tr>\n",
       "  </thead>\n",
       "  <tbody>\n",
       "    <tr>\n",
       "      <th>02812</th>\n",
       "      <td>915</td>\n",
       "      <td>915</td>\n",
       "      <td>26</td>\n",
       "      <td>12</td>\n",
       "      <td>4</td>\n",
       "      <td>1</td>\n",
       "      <td>1</td>\n",
       "      <td>0</td>\n",
       "      <td>8</td>\n",
       "      <td>2797</td>\n",
       "      <td>...</td>\n",
       "      <td>6.0</td>\n",
       "      <td>7.0</td>\n",
       "      <td>0.0</td>\n",
       "      <td>Aromas CDP, California</td>\n",
       "      <td>2650.0</td>\n",
       "      <td>0.0</td>\n",
       "      <td>2650.0</td>\n",
       "      <td>42.2</td>\n",
       "      <td>884.0</td>\n",
       "      <td>06</td>\n",
       "    </tr>\n",
       "    <tr>\n",
       "      <th>02924</th>\n",
       "      <td>3145</td>\n",
       "      <td>3145</td>\n",
       "      <td>135</td>\n",
       "      <td>61</td>\n",
       "      <td>29</td>\n",
       "      <td>3</td>\n",
       "      <td>11</td>\n",
       "      <td>0</td>\n",
       "      <td>31</td>\n",
       "      <td>12956</td>\n",
       "      <td>...</td>\n",
       "      <td>12.0</td>\n",
       "      <td>15.0</td>\n",
       "      <td>0.0</td>\n",
       "      <td>Arvin city, California</td>\n",
       "      <td>19304.0</td>\n",
       "      <td>19247.0</td>\n",
       "      <td>57.0</td>\n",
       "      <td>24.0</td>\n",
       "      <td>4228.0</td>\n",
       "      <td>06</td>\n",
       "    </tr>\n",
       "    <tr>\n",
       "      <th>03526</th>\n",
       "      <td>88262</td>\n",
       "      <td>88262</td>\n",
       "      <td>4821</td>\n",
       "      <td>2187</td>\n",
       "      <td>1018</td>\n",
       "      <td>309</td>\n",
       "      <td>268</td>\n",
       "      <td>3</td>\n",
       "      <td>1036</td>\n",
       "      <td>247057</td>\n",
       "      <td>...</td>\n",
       "      <td>387.0</td>\n",
       "      <td>427.0</td>\n",
       "      <td>7.0</td>\n",
       "      <td>Bakersfield city, California</td>\n",
       "      <td>347483.0</td>\n",
       "      <td>345531.0</td>\n",
       "      <td>1952.0</td>\n",
       "      <td>30.0</td>\n",
       "      <td>111132.0</td>\n",
       "      <td>06</td>\n",
       "    </tr>\n",
       "    <tr>\n",
       "      <th>04734</th>\n",
       "      <td>2147</td>\n",
       "      <td>2147</td>\n",
       "      <td>561</td>\n",
       "      <td>15</td>\n",
       "      <td>69</td>\n",
       "      <td>18</td>\n",
       "      <td>417</td>\n",
       "      <td>0</td>\n",
       "      <td>42</td>\n",
       "      <td>4232</td>\n",
       "      <td>...</td>\n",
       "      <td>9.0</td>\n",
       "      <td>385.0</td>\n",
       "      <td>0.0</td>\n",
       "      <td>Bear Valley Springs CDP, California</td>\n",
       "      <td>5172.0</td>\n",
       "      <td>0.0</td>\n",
       "      <td>5172.0</td>\n",
       "      <td>51.0</td>\n",
       "      <td>2124.0</td>\n",
       "      <td>06</td>\n",
       "    </tr>\n",
       "    <tr>\n",
       "      <th>07274</th>\n",
       "      <td>1188</td>\n",
       "      <td>1188</td>\n",
       "      <td>348</td>\n",
       "      <td>18</td>\n",
       "      <td>46</td>\n",
       "      <td>6</td>\n",
       "      <td>219</td>\n",
       "      <td>0</td>\n",
       "      <td>59</td>\n",
       "      <td>1823</td>\n",
       "      <td>...</td>\n",
       "      <td>2.0</td>\n",
       "      <td>187.0</td>\n",
       "      <td>0.0</td>\n",
       "      <td>Bodfish CDP, California</td>\n",
       "      <td>1956.0</td>\n",
       "      <td>381.0</td>\n",
       "      <td>1575.0</td>\n",
       "      <td>50.1</td>\n",
       "      <td>881.0</td>\n",
       "      <td>06</td>\n",
       "    </tr>\n",
       "  </tbody>\n",
       "</table>\n",
       "<p>5 rows × 30 columns</p>\n",
       "</div>"
      ],
      "text/plain": [
       "      Total_Housing_2000 Occupancy_Status_For_Housing_Units_2000  \\\n",
       "FIPS                                                               \n",
       "02812                915                                     915   \n",
       "02924               3145                                    3145   \n",
       "03526              88262                                   88262   \n",
       "04734               2147                                    2147   \n",
       "07274               1188                                    1188   \n",
       "\n",
       "      Vacancy_Status_2000 For_Rent_2000 Rented_Not_Occupied_2000  \\\n",
       "FIPS                                                               \n",
       "02812                  26            12                        4   \n",
       "02924                 135            61                       29   \n",
       "03526                4821          2187                     1018   \n",
       "04734                 561            15                       69   \n",
       "07274                 348            18                       46   \n",
       "\n",
       "      For_Sale_Only_2000 Sold_Not_Occupied_2000  \\\n",
       "FIPS                                              \n",
       "02812                  1                      1   \n",
       "02924                  3                     11   \n",
       "03526                309                    268   \n",
       "04734                 18                    417   \n",
       "07274                  6                    219   \n",
       "\n",
       "      For_Seasonal_Recreational_Or_Occasional_Use_2000  \\\n",
       "FIPS                                                     \n",
       "02812                                                0   \n",
       "02924                                                0   \n",
       "03526                                                3   \n",
       "04734                                                0   \n",
       "07274                                                0   \n",
       "\n",
       "      For_Migrant_Workers_2000 Total_Population_2000  ...  \\\n",
       "FIPS                                                  ...   \n",
       "02812                        8                  2797  ...   \n",
       "02924                       31                 12956  ...   \n",
       "03526                     1036                247057  ...   \n",
       "04734                       42                  4232  ...   \n",
       "07274                       59                  1823  ...   \n",
       "\n",
       "      Sold_Not_Occupied_2010 For_Seasonal_Recreational_Or_Occasional_Use_2010  \\\n",
       "FIPS                                                                            \n",
       "02812                    6.0                                              7.0   \n",
       "02924                   12.0                                             15.0   \n",
       "03526                  387.0                                            427.0   \n",
       "04734                    9.0                                            385.0   \n",
       "07274                    2.0                                            187.0   \n",
       "\n",
       "      For_Migrant_Workers_2010                            City_Name  \\\n",
       "FIPS                                                                  \n",
       "02812                      0.0               Aromas CDP, California   \n",
       "02924                      0.0               Arvin city, California   \n",
       "03526                      7.0         Bakersfield city, California   \n",
       "04734                      0.0  Bear Valley Springs CDP, California   \n",
       "07274                      0.0              Bodfish CDP, California   \n",
       "\n",
       "       Total_Population_2010  Total_Urban_Population_2010  \\\n",
       "FIPS                                                        \n",
       "02812                 2650.0                          0.0   \n",
       "02924                19304.0                      19247.0   \n",
       "03526               347483.0                     345531.0   \n",
       "04734                 5172.0                          0.0   \n",
       "07274                 1956.0                        381.0   \n",
       "\n",
       "       Total_Rural_Population_2010  Median_Age_2010  \\\n",
       "FIPS                                                  \n",
       "02812                       2650.0             42.2   \n",
       "02924                         57.0             24.0   \n",
       "03526                       1952.0             30.0   \n",
       "04734                       5172.0             51.0   \n",
       "07274                       1575.0             50.1   \n",
       "\n",
       "       Presence_of_Non-Relatives_2010  state  \n",
       "FIPS                                          \n",
       "02812                           884.0     06  \n",
       "02924                          4228.0     06  \n",
       "03526                        111132.0     06  \n",
       "04734                          2124.0     06  \n",
       "07274                           881.0     06  \n",
       "\n",
       "[5 rows x 30 columns]"
      ]
     },
     "execution_count": 11,
     "metadata": {},
     "output_type": "execute_result"
    }
   ],
   "source": [
    "ca_join.head()"
   ]
  },
  {
   "cell_type": "code",
   "execution_count": 12,
   "metadata": {},
   "outputs": [],
   "source": [
    "ca_join['Total_Population_2000'] = ca_join['Total_Population_2000'].astype('i8')"
   ]
  },
  {
   "cell_type": "code",
   "execution_count": 13,
   "metadata": {},
   "outputs": [],
   "source": [
    "ca_join = ca_join.nlargest(5, 'Total_Population_2000')"
   ]
  },
  {
   "cell_type": "code",
   "execution_count": 31,
   "metadata": {},
   "outputs": [
    {
     "ename": "NameError",
     "evalue": "name 'ca_join' is not defined",
     "output_type": "error",
     "traceback": [
      "\u001b[0;31m---------------------------------------------------------------------------\u001b[0m",
      "\u001b[0;31mNameError\u001b[0m                                 Traceback (most recent call last)",
      "\u001b[0;32m<ipython-input-31-20d4fa15f6b1>\u001b[0m in \u001b[0;36m<module>\u001b[0;34m\u001b[0m\n\u001b[1;32m      1\u001b[0m fig = go.Figure(data=[\n\u001b[0;32m----> 2\u001b[0;31m     \u001b[0mgo\u001b[0m\u001b[0;34m.\u001b[0m\u001b[0mLine\u001b[0m\u001b[0;34m(\u001b[0m\u001b[0mname\u001b[0m\u001b[0;34m=\u001b[0m\u001b[0;34m'2000_pop'\u001b[0m\u001b[0;34m,\u001b[0m \u001b[0mx\u001b[0m\u001b[0;34m=\u001b[0m\u001b[0mca_join\u001b[0m\u001b[0;34m[\u001b[0m\u001b[0;34m'City_Name'\u001b[0m\u001b[0;34m]\u001b[0m\u001b[0;34m,\u001b[0m \u001b[0my\u001b[0m\u001b[0;34m=\u001b[0m\u001b[0mca_join\u001b[0m\u001b[0;34m[\u001b[0m\u001b[0;34m'Total_Population_2000'\u001b[0m\u001b[0;34m]\u001b[0m\u001b[0;34m)\u001b[0m\u001b[0;34m,\u001b[0m\u001b[0;34m\u001b[0m\u001b[0;34m\u001b[0m\u001b[0m\n\u001b[0m\u001b[1;32m      3\u001b[0m     \u001b[0mgo\u001b[0m\u001b[0;34m.\u001b[0m\u001b[0mLine\u001b[0m\u001b[0;34m(\u001b[0m\u001b[0mname\u001b[0m\u001b[0;34m=\u001b[0m\u001b[0;34m'2010_pop'\u001b[0m\u001b[0;34m,\u001b[0m \u001b[0mx\u001b[0m\u001b[0;34m=\u001b[0m\u001b[0mca_join\u001b[0m\u001b[0;34m[\u001b[0m\u001b[0;34m'City_Name'\u001b[0m\u001b[0;34m]\u001b[0m\u001b[0;34m,\u001b[0m \u001b[0my\u001b[0m\u001b[0;34m=\u001b[0m\u001b[0mca_join\u001b[0m\u001b[0;34m[\u001b[0m\u001b[0;34m'Total_Population_2010'\u001b[0m\u001b[0;34m]\u001b[0m\u001b[0;34m)\u001b[0m\u001b[0;34m,\u001b[0m\u001b[0;34m\u001b[0m\u001b[0;34m\u001b[0m\u001b[0m\n\u001b[1;32m      4\u001b[0m     \u001b[0mgo\u001b[0m\u001b[0;34m.\u001b[0m\u001b[0mLine\u001b[0m\u001b[0;34m(\u001b[0m\u001b[0mname\u001b[0m\u001b[0;34m=\u001b[0m\u001b[0;34m'2000_housing'\u001b[0m\u001b[0;34m,\u001b[0m \u001b[0mx\u001b[0m\u001b[0;34m=\u001b[0m\u001b[0mca_join\u001b[0m\u001b[0;34m[\u001b[0m\u001b[0;34m'City_Name'\u001b[0m\u001b[0;34m]\u001b[0m\u001b[0;34m,\u001b[0m \u001b[0my\u001b[0m\u001b[0;34m=\u001b[0m\u001b[0mca_join\u001b[0m\u001b[0;34m[\u001b[0m\u001b[0;34m'Total_Housing_2000'\u001b[0m\u001b[0;34m]\u001b[0m\u001b[0;34m)\u001b[0m\u001b[0;34m,\u001b[0m\u001b[0;34m\u001b[0m\u001b[0;34m\u001b[0m\u001b[0m\n\u001b[1;32m      5\u001b[0m     \u001b[0mgo\u001b[0m\u001b[0;34m.\u001b[0m\u001b[0mLine\u001b[0m\u001b[0;34m(\u001b[0m\u001b[0mname\u001b[0m\u001b[0;34m=\u001b[0m\u001b[0;34m'2010_housing'\u001b[0m\u001b[0;34m,\u001b[0m \u001b[0mx\u001b[0m\u001b[0;34m=\u001b[0m\u001b[0mca_join\u001b[0m\u001b[0;34m[\u001b[0m\u001b[0;34m'City_Name'\u001b[0m\u001b[0;34m]\u001b[0m\u001b[0;34m,\u001b[0m \u001b[0my\u001b[0m\u001b[0;34m=\u001b[0m\u001b[0mca_join\u001b[0m\u001b[0;34m[\u001b[0m\u001b[0;34m'Total_Housing_2010'\u001b[0m\u001b[0;34m]\u001b[0m\u001b[0;34m)\u001b[0m\u001b[0;34m,\u001b[0m\u001b[0;34m\u001b[0m\u001b[0;34m\u001b[0m\u001b[0m\n",
      "\u001b[0;31mNameError\u001b[0m: name 'ca_join' is not defined"
     ]
    }
   ],
   "source": [
    "fig = go.Figure(data=[\n",
    "    go.Line(name='2000_pop', x=ca_join['City_Name'], y=ca_join['Total_Population_2000']),\n",
    "    go.Line(name='2010_pop', x=ca_join['City_Name'], y=ca_join['Total_Population_2010']),\n",
    "    go.Line(name='2000_housing', x=ca_join['City_Name'], y=ca_join['Total_Housing_2000']),\n",
    "    go.Line(name='2010_housing', x=ca_join['City_Name'], y=ca_join['Total_Housing_2010']),\n",
    "    go.Line(name='2000_non-relatives', x=ca_join['City_Name'], y=ca_join['Presence_of_Non-Relatives_2000']),\n",
    "    go.Line(name='2010_non-relatives', x=ca_join['City_Name'], y=ca_join['Presence_of_Non-Relatives_2010']),\n",
    "])\n",
    "fig.update_layout(barmode='group')\n",
    "fig.show()"
   ]
  },
  {
   "cell_type": "markdown",
   "metadata": {},
   "source": [
    "## American Community Servey"
   ]
  },
  {
   "cell_type": "code",
   "execution_count": 15,
   "metadata": {},
   "outputs": [
    {
     "name": "stdout",
     "output_type": "stream",
     "text": [
      "2012\n",
      "2013\n",
      "2014\n",
      "2015\n",
      "2016\n",
      "2017\n"
     ]
    }
   ],
   "source": [
    "acs_years = {}\n",
    "for x in range(2012, 2018):\n",
    "    acs_test = c.acs5.state_place(('NAME',\n",
    "'B01003_001E',\n",
    "'B00002_001E',\n",
    "'B09018_007E'), states.CA.fips, '*', year=x)\n",
    "    acs_years[x] = pd.DataFrame.from_records(acs_test)\n",
    "    print(x)\n",
    "    acs_years[x] = acs_years[x].rename(columns={\n",
    "        'NAME' : 'City_Name',\n",
    "        'place': 'FIPS',\n",
    "        'B01003_001E': 'Total_Population_{}'.format(x),\n",
    "        'B00002_001E': 'Total_Housing_{}'.format(x),\n",
    "        'B09018_007E': 'Presence_of_Non-Relatives_{}'.format(x)})"
   ]
  },
  {
   "cell_type": "code",
   "execution_count": 16,
   "metadata": {},
   "outputs": [
    {
     "data": {
      "text/html": [
       "<div>\n",
       "<style scoped>\n",
       "    .dataframe tbody tr th:only-of-type {\n",
       "        vertical-align: middle;\n",
       "    }\n",
       "\n",
       "    .dataframe tbody tr th {\n",
       "        vertical-align: top;\n",
       "    }\n",
       "\n",
       "    .dataframe thead th {\n",
       "        text-align: right;\n",
       "    }\n",
       "</style>\n",
       "<table border=\"1\" class=\"dataframe\">\n",
       "  <thead>\n",
       "    <tr style=\"text-align: right;\">\n",
       "      <th></th>\n",
       "      <th>Total_Housing_2013</th>\n",
       "      <th>Total_Population_2013</th>\n",
       "      <th>Presence_of_Non-Relatives_2013</th>\n",
       "      <th>City_Name</th>\n",
       "      <th>FIPS</th>\n",
       "      <th>state</th>\n",
       "    </tr>\n",
       "  </thead>\n",
       "  <tbody>\n",
       "    <tr>\n",
       "      <th>0</th>\n",
       "      <td>2840.0</td>\n",
       "      <td>86833.0</td>\n",
       "      <td>389.0</td>\n",
       "      <td>Chico city, California</td>\n",
       "      <td>13014</td>\n",
       "      <td>06</td>\n",
       "    </tr>\n",
       "    <tr>\n",
       "      <th>1</th>\n",
       "      <td>5.0</td>\n",
       "      <td>233.0</td>\n",
       "      <td>0.0</td>\n",
       "      <td>Chilcoot-Vinton CDP, California</td>\n",
       "      <td>13077</td>\n",
       "      <td>06</td>\n",
       "    </tr>\n",
       "    <tr>\n",
       "      <th>2</th>\n",
       "      <td>39.0</td>\n",
       "      <td>1503.0</td>\n",
       "      <td>0.0</td>\n",
       "      <td>China Lake Acres CDP, California</td>\n",
       "      <td>13157</td>\n",
       "      <td>06</td>\n",
       "    </tr>\n",
       "    <tr>\n",
       "      <th>3</th>\n",
       "      <td>7.0</td>\n",
       "      <td>94.0</td>\n",
       "      <td>0.0</td>\n",
       "      <td>Chinese Camp CDP, California</td>\n",
       "      <td>13182</td>\n",
       "      <td>06</td>\n",
       "    </tr>\n",
       "    <tr>\n",
       "      <th>4</th>\n",
       "      <td>1506.0</td>\n",
       "      <td>79342.0</td>\n",
       "      <td>381.0</td>\n",
       "      <td>Chino city, California</td>\n",
       "      <td>13210</td>\n",
       "      <td>06</td>\n",
       "    </tr>\n",
       "  </tbody>\n",
       "</table>\n",
       "</div>"
      ],
      "text/plain": [
       "   Total_Housing_2013  Total_Population_2013  Presence_of_Non-Relatives_2013  \\\n",
       "0              2840.0                86833.0                           389.0   \n",
       "1                 5.0                  233.0                             0.0   \n",
       "2                39.0                 1503.0                             0.0   \n",
       "3                 7.0                   94.0                             0.0   \n",
       "4              1506.0                79342.0                           381.0   \n",
       "\n",
       "                          City_Name   FIPS state  \n",
       "0            Chico city, California  13014    06  \n",
       "1   Chilcoot-Vinton CDP, California  13077    06  \n",
       "2  China Lake Acres CDP, California  13157    06  \n",
       "3      Chinese Camp CDP, California  13182    06  \n",
       "4            Chino city, California  13210    06  "
      ]
     },
     "execution_count": 16,
     "metadata": {},
     "output_type": "execute_result"
    }
   ],
   "source": [
    "acs_years[2013].head()"
   ]
  },
  {
   "cell_type": "code",
   "execution_count": null,
   "metadata": {},
   "outputs": [],
   "source": []
  },
  {
   "cell_type": "code",
   "execution_count": null,
   "metadata": {},
   "outputs": [],
   "source": []
  }
 ],
 "metadata": {
  "kernelspec": {
   "display_name": "Python 3",
   "language": "python",
   "name": "python3"
  },
  "language_info": {
   "codemirror_mode": {
    "name": "ipython",
    "version": 3
   },
   "file_extension": ".py",
   "mimetype": "text/x-python",
   "name": "python",
   "nbconvert_exporter": "python",
   "pygments_lexer": "ipython3",
   "version": "3.7.3"
  }
 },
 "nbformat": 4,
 "nbformat_minor": 2
}
