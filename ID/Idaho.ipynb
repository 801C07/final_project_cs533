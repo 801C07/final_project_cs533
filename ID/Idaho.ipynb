{
 "cells": [
  {
   "cell_type": "markdown",
   "metadata": {},
   "source": [
    "# Idaho -- City Sustainability"
   ]
  },
  {
   "cell_type": "code",
   "execution_count": 24,
   "metadata": {},
   "outputs": [],
   "source": [
    "import pandas as pd\n",
    "import seaborn as sns\n",
    "import matplotlib as plt\n",
    "import os\n",
    "\n",
    "from census import Census\n",
    "from us import states\n",
    "\n",
    "import plotly.graph_objects as go"
   ]
  },
  {
   "cell_type": "code",
   "execution_count": 25,
   "metadata": {},
   "outputs": [],
   "source": [
    "c = Census('fb97753783c42ae57fe1a640e38fe04e921e5d1a')"
   ]
  },
  {
   "cell_type": "markdown",
   "metadata": {},
   "source": [
    "**Greenhouse Gas Data:**"
   ]
  },
  {
   "cell_type": "code",
   "execution_count": 26,
   "metadata": {},
   "outputs": [],
   "source": [
    "ghg = pd.DataFrame()\n",
    "\n",
    "for f in os.listdir('../data/2018_data_summary_spreadsheets'):\n",
    "    temp = pd.read_excel('../data/2018_data_summary_spreadsheets/'+f, sheet_name=0)\n",
    "    temp['Year'] = f.split('.')[0].split('_')[2]    \n",
    "    ghg = pd.concat([temp, ghg], sort=False)\n",
    "    \n",
    "fips_map = pd.read_excel('../data/fips-codes.xls', sheet_name=0)\n",
    "\n",
    "fips_map = fips_map[fips_map['Entity Description'] == 'city']\n",
    "\n",
    "def str_func(x):\n",
    "    return str(x).zfill(5)\n",
    "\n",
    "fips_map['FIPS'] = fips_map['FIPS Entity Code'].apply(str_func)\n",
    "fips_map['City'] = fips_map['GU Name']\n",
    "fips_map['State'] = fips_map['State Abbreviation']\n",
    "\n",
    "ghg_mapped = pd.merge(ghg, fips_map, on=['State', 'City'])\n",
    "total_emissions = ghg_mapped.groupby(['FIPS','Year'])['Total reported direct emissions'].agg('sum').to_frame()\n",
    "\n",
    "total_emissions.reset_index(inplace=True)\n",
    "\n",
    "pivot_em = total_emissions.pivot(index='FIPS', columns='Year', values='Total reported direct emissions')"
   ]
  },
  {
   "cell_type": "markdown",
   "metadata": {},
   "source": [
    "## Get's the 5 largest cities in Idaho"
   ]
  },
  {
   "cell_type": "code",
   "execution_count": 27,
   "metadata": {},
   "outputs": [],
   "source": [
    "keys = ['NAME' ,'P002001','P002002','P002005','H001001','P013001','H003001','P027001','H005001','H005002','H005003','H005004','H005005','H005006','H005007']\n",
    "\n",
    "renames_2000 = {\n",
    "        'NAME' : 'City_Name',\n",
    "        'place': 'FIPS',\n",
    "        'P002001': 'Total_Population_2000',\n",
    "        'P002002':'Total_Urban_Population_2000',\n",
    "        'P002005':'Total_Rural_Population_2000',\n",
    "        'H001001': 'Total_Housing_2000',\n",
    "        'P013001': 'Median_Age_2000',\n",
    "        'H003001': 'Occupancy_Status_For_Housing_Units_2000',\n",
    "        'P027001': 'Presence_of_Non-Relatives_2000',\n",
    "        'H005001': 'Vacancy_Status_2000',\n",
    "        'H005002': 'For_Rent_2000',\n",
    "        'H005003': 'Rented_Not_Occupied_2000',\n",
    "        'H005004': 'For_Sale_Only_2000',\n",
    "        'H005005': 'Sold_Not_Occupied_2000',\n",
    "        'H005006': 'For_Seasonal_Recreational_Or_Occasional_Use_2000',\n",
    "        'H005007': 'For_Migrant_Workers_2000'\n",
    "}\n",
    "\n",
    "renames_2010 = {\n",
    "        'NAME' : 'City_Name',\n",
    "        'place': 'FIPS',\n",
    "        'P002001': 'Total_Population_2010',\n",
    "        'P002002': 'Total_Urban_Population_2010',\n",
    "        'P002005': 'Total_Rural_Population_2010',\n",
    "        'H001001': 'Total_Housing_2010',\n",
    "        'P013001': 'Median_Age_2010',\n",
    "        'H003001': 'Occupancy_Status_For_Housing_Units_2010',\n",
    "        'P027001': 'Presence_of_Non-Relatives_2010',\n",
    "        'H005001': 'Vacancy_Status_2010',\n",
    "        'H005002': 'For_Rent_2010',\n",
    "        'H005003': 'Rented_Not_Occupied_2010',\n",
    "        'H005004': 'For_Sale_Only_2010',\n",
    "        'H005005': 'Sold_Not_Occupied_2010',\n",
    "        'H005006': 'For_Seasonal_Recreational_Or_Occasional_Use_2010',\n",
    "        'H005007': 'For_Migrant_Workers_2010'}\n",
    "\n",
    "city_2010 = c.sf1.state_place(keys, states.ID.fips, '*', year=2010)\n",
    "c_pop_2010 = pd.DataFrame.from_records(city_2010)\n",
    "c_pop_2010_50000 = c_pop_2010.rename(columns=renames_2010)"
   ]
  },
  {
   "cell_type": "code",
   "execution_count": 28,
   "metadata": {},
   "outputs": [
    {
     "data": {
      "text/html": [
       "<div>\n",
       "<style scoped>\n",
       "    .dataframe tbody tr th:only-of-type {\n",
       "        vertical-align: middle;\n",
       "    }\n",
       "\n",
       "    .dataframe tbody tr th {\n",
       "        vertical-align: top;\n",
       "    }\n",
       "\n",
       "    .dataframe thead th {\n",
       "        text-align: right;\n",
       "    }\n",
       "</style>\n",
       "<table border=\"1\" class=\"dataframe\">\n",
       "  <thead>\n",
       "    <tr style=\"text-align: right;\">\n",
       "      <th></th>\n",
       "      <th>Total_Housing_2010</th>\n",
       "      <th>Occupancy_Status_For_Housing_Units_2010</th>\n",
       "      <th>Vacancy_Status_2010</th>\n",
       "      <th>For_Rent_2010</th>\n",
       "      <th>Rented_Not_Occupied_2010</th>\n",
       "      <th>For_Sale_Only_2010</th>\n",
       "      <th>Sold_Not_Occupied_2010</th>\n",
       "      <th>For_Seasonal_Recreational_Or_Occasional_Use_2010</th>\n",
       "      <th>For_Migrant_Workers_2010</th>\n",
       "      <th>City_Name</th>\n",
       "      <th>Total_Population_2010</th>\n",
       "      <th>Total_Urban_Population_2010</th>\n",
       "      <th>Total_Rural_Population_2010</th>\n",
       "      <th>Median_Age_2010</th>\n",
       "      <th>Presence_of_Non-Relatives_2010</th>\n",
       "      <th>FIPS</th>\n",
       "      <th>state</th>\n",
       "    </tr>\n",
       "  </thead>\n",
       "  <tbody>\n",
       "    <tr>\n",
       "      <th>0</th>\n",
       "      <td>451.0</td>\n",
       "      <td>451.0</td>\n",
       "      <td>54.0</td>\n",
       "      <td>7.0</td>\n",
       "      <td>0.0</td>\n",
       "      <td>6.0</td>\n",
       "      <td>1.0</td>\n",
       "      <td>19.0</td>\n",
       "      <td>1.0</td>\n",
       "      <td>Ashton city, Idaho</td>\n",
       "      <td>1127.0</td>\n",
       "      <td>0.0</td>\n",
       "      <td>1127.0</td>\n",
       "      <td>33.4</td>\n",
       "      <td>397.0</td>\n",
       "      <td>03610</td>\n",
       "      <td>16</td>\n",
       "    </tr>\n",
       "    <tr>\n",
       "      <th>1</th>\n",
       "      <td>20.0</td>\n",
       "      <td>20.0</td>\n",
       "      <td>9.0</td>\n",
       "      <td>0.0</td>\n",
       "      <td>0.0</td>\n",
       "      <td>1.0</td>\n",
       "      <td>0.0</td>\n",
       "      <td>6.0</td>\n",
       "      <td>0.0</td>\n",
       "      <td>Banks CDP, Idaho</td>\n",
       "      <td>17.0</td>\n",
       "      <td>0.0</td>\n",
       "      <td>17.0</td>\n",
       "      <td>47.5</td>\n",
       "      <td>11.0</td>\n",
       "      <td>04600</td>\n",
       "      <td>16</td>\n",
       "    </tr>\n",
       "    <tr>\n",
       "      <th>2</th>\n",
       "      <td>142.0</td>\n",
       "      <td>142.0</td>\n",
       "      <td>10.0</td>\n",
       "      <td>2.0</td>\n",
       "      <td>0.0</td>\n",
       "      <td>1.0</td>\n",
       "      <td>4.0</td>\n",
       "      <td>0.0</td>\n",
       "      <td>0.0</td>\n",
       "      <td>Basalt city, Idaho</td>\n",
       "      <td>394.0</td>\n",
       "      <td>0.0</td>\n",
       "      <td>394.0</td>\n",
       "      <td>33.0</td>\n",
       "      <td>132.0</td>\n",
       "      <td>05230</td>\n",
       "      <td>16</td>\n",
       "    </tr>\n",
       "    <tr>\n",
       "      <th>3</th>\n",
       "      <td>926.0</td>\n",
       "      <td>926.0</td>\n",
       "      <td>77.0</td>\n",
       "      <td>17.0</td>\n",
       "      <td>3.0</td>\n",
       "      <td>17.0</td>\n",
       "      <td>3.0</td>\n",
       "      <td>19.0</td>\n",
       "      <td>0.0</td>\n",
       "      <td>Bellevue city, Idaho</td>\n",
       "      <td>2287.0</td>\n",
       "      <td>2144.0</td>\n",
       "      <td>143.0</td>\n",
       "      <td>35.0</td>\n",
       "      <td>849.0</td>\n",
       "      <td>06220</td>\n",
       "      <td>16</td>\n",
       "    </tr>\n",
       "    <tr>\n",
       "      <th>4</th>\n",
       "      <td>120.0</td>\n",
       "      <td>120.0</td>\n",
       "      <td>46.0</td>\n",
       "      <td>1.0</td>\n",
       "      <td>0.0</td>\n",
       "      <td>1.0</td>\n",
       "      <td>1.0</td>\n",
       "      <td>42.0</td>\n",
       "      <td>0.0</td>\n",
       "      <td>Bloomington city, Idaho</td>\n",
       "      <td>206.0</td>\n",
       "      <td>0.0</td>\n",
       "      <td>206.0</td>\n",
       "      <td>46.5</td>\n",
       "      <td>74.0</td>\n",
       "      <td>08560</td>\n",
       "      <td>16</td>\n",
       "    </tr>\n",
       "  </tbody>\n",
       "</table>\n",
       "</div>"
      ],
      "text/plain": [
       "   Total_Housing_2010  Occupancy_Status_For_Housing_Units_2010  \\\n",
       "0               451.0                                    451.0   \n",
       "1                20.0                                     20.0   \n",
       "2               142.0                                    142.0   \n",
       "3               926.0                                    926.0   \n",
       "4               120.0                                    120.0   \n",
       "\n",
       "   Vacancy_Status_2010  For_Rent_2010  Rented_Not_Occupied_2010  \\\n",
       "0                 54.0            7.0                       0.0   \n",
       "1                  9.0            0.0                       0.0   \n",
       "2                 10.0            2.0                       0.0   \n",
       "3                 77.0           17.0                       3.0   \n",
       "4                 46.0            1.0                       0.0   \n",
       "\n",
       "   For_Sale_Only_2010  Sold_Not_Occupied_2010  \\\n",
       "0                 6.0                     1.0   \n",
       "1                 1.0                     0.0   \n",
       "2                 1.0                     4.0   \n",
       "3                17.0                     3.0   \n",
       "4                 1.0                     1.0   \n",
       "\n",
       "   For_Seasonal_Recreational_Or_Occasional_Use_2010  For_Migrant_Workers_2010  \\\n",
       "0                                              19.0                       1.0   \n",
       "1                                               6.0                       0.0   \n",
       "2                                               0.0                       0.0   \n",
       "3                                              19.0                       0.0   \n",
       "4                                              42.0                       0.0   \n",
       "\n",
       "                 City_Name  Total_Population_2010  \\\n",
       "0       Ashton city, Idaho                 1127.0   \n",
       "1         Banks CDP, Idaho                   17.0   \n",
       "2       Basalt city, Idaho                  394.0   \n",
       "3     Bellevue city, Idaho                 2287.0   \n",
       "4  Bloomington city, Idaho                  206.0   \n",
       "\n",
       "   Total_Urban_Population_2010  Total_Rural_Population_2010  Median_Age_2010  \\\n",
       "0                          0.0                       1127.0             33.4   \n",
       "1                          0.0                         17.0             47.5   \n",
       "2                          0.0                        394.0             33.0   \n",
       "3                       2144.0                        143.0             35.0   \n",
       "4                          0.0                        206.0             46.5   \n",
       "\n",
       "   Presence_of_Non-Relatives_2010   FIPS state  \n",
       "0                           397.0  03610    16  \n",
       "1                            11.0  04600    16  \n",
       "2                           132.0  05230    16  \n",
       "3                           849.0  06220    16  \n",
       "4                            74.0  08560    16  "
      ]
     },
     "execution_count": 28,
     "metadata": {},
     "output_type": "execute_result"
    }
   ],
   "source": [
    "c_pop_2010_50000.head()"
   ]
  },
  {
   "cell_type": "code",
   "execution_count": 29,
   "metadata": {},
   "outputs": [],
   "source": [
    "city_2000 = c.sf1.state_place(keys, states.ID.fips, '*', year=2000)\n",
    "c_pop_2000 = pd.DataFrame.from_records(city_2000)\n",
    "c_pop_2000_50000 = c_pop_2000.rename(columns=renames_2000)"
   ]
  },
  {
   "cell_type": "code",
   "execution_count": 30,
   "metadata": {},
   "outputs": [],
   "source": [
    "c_pop_2000_50000.drop(columns=['City_Name', 'state'], inplace=True)"
   ]
  },
  {
   "cell_type": "code",
   "execution_count": 31,
   "metadata": {},
   "outputs": [
    {
     "data": {
      "text/html": [
       "<div>\n",
       "<style scoped>\n",
       "    .dataframe tbody tr th:only-of-type {\n",
       "        vertical-align: middle;\n",
       "    }\n",
       "\n",
       "    .dataframe tbody tr th {\n",
       "        vertical-align: top;\n",
       "    }\n",
       "\n",
       "    .dataframe thead th {\n",
       "        text-align: right;\n",
       "    }\n",
       "</style>\n",
       "<table border=\"1\" class=\"dataframe\">\n",
       "  <thead>\n",
       "    <tr style=\"text-align: right;\">\n",
       "      <th></th>\n",
       "      <th>Total_Housing_2000</th>\n",
       "      <th>Occupancy_Status_For_Housing_Units_2000</th>\n",
       "      <th>Vacancy_Status_2000</th>\n",
       "      <th>For_Rent_2000</th>\n",
       "      <th>Rented_Not_Occupied_2000</th>\n",
       "      <th>For_Sale_Only_2000</th>\n",
       "      <th>Sold_Not_Occupied_2000</th>\n",
       "      <th>For_Seasonal_Recreational_Or_Occasional_Use_2000</th>\n",
       "      <th>For_Migrant_Workers_2000</th>\n",
       "      <th>Total_Population_2000</th>\n",
       "      <th>Total_Urban_Population_2000</th>\n",
       "      <th>Total_Rural_Population_2000</th>\n",
       "      <th>Median_Age_2000</th>\n",
       "      <th>Presence_of_Non-Relatives_2000</th>\n",
       "      <th>FIPS</th>\n",
       "    </tr>\n",
       "  </thead>\n",
       "  <tbody>\n",
       "    <tr>\n",
       "      <th>0</th>\n",
       "      <td>1088</td>\n",
       "      <td>1088</td>\n",
       "      <td>119</td>\n",
       "      <td>22</td>\n",
       "      <td>17</td>\n",
       "      <td>2</td>\n",
       "      <td>9</td>\n",
       "      <td>1</td>\n",
       "      <td>68</td>\n",
       "      <td>3193</td>\n",
       "      <td>0</td>\n",
       "      <td>0</td>\n",
       "      <td>27.9</td>\n",
       "      <td>3193</td>\n",
       "      <td>28360</td>\n",
       "    </tr>\n",
       "    <tr>\n",
       "      <th>1</th>\n",
       "      <td>20627</td>\n",
       "      <td>20627</td>\n",
       "      <td>1293</td>\n",
       "      <td>556</td>\n",
       "      <td>298</td>\n",
       "      <td>87</td>\n",
       "      <td>84</td>\n",
       "      <td>1</td>\n",
       "      <td>267</td>\n",
       "      <td>51466</td>\n",
       "      <td>0</td>\n",
       "      <td>0</td>\n",
       "      <td>28.8</td>\n",
       "      <td>51466</td>\n",
       "      <td>64090</td>\n",
       "    </tr>\n",
       "    <tr>\n",
       "      <th>2</th>\n",
       "      <td>77850</td>\n",
       "      <td>77850</td>\n",
       "      <td>3412</td>\n",
       "      <td>1463</td>\n",
       "      <td>739</td>\n",
       "      <td>302</td>\n",
       "      <td>353</td>\n",
       "      <td>1</td>\n",
       "      <td>554</td>\n",
       "      <td>185787</td>\n",
       "      <td>0</td>\n",
       "      <td>0</td>\n",
       "      <td>32.8</td>\n",
       "      <td>185787</td>\n",
       "      <td>08830</td>\n",
       "    </tr>\n",
       "    <tr>\n",
       "      <th>3</th>\n",
       "      <td>9603</td>\n",
       "      <td>9603</td>\n",
       "      <td>640</td>\n",
       "      <td>268</td>\n",
       "      <td>152</td>\n",
       "      <td>40</td>\n",
       "      <td>23</td>\n",
       "      <td>1</td>\n",
       "      <td>156</td>\n",
       "      <td>25967</td>\n",
       "      <td>0</td>\n",
       "      <td>0</td>\n",
       "      <td>28.8</td>\n",
       "      <td>25967</td>\n",
       "      <td>12250</td>\n",
       "    </tr>\n",
       "    <tr>\n",
       "      <th>4</th>\n",
       "      <td>4048</td>\n",
       "      <td>4048</td>\n",
       "      <td>184</td>\n",
       "      <td>28</td>\n",
       "      <td>81</td>\n",
       "      <td>18</td>\n",
       "      <td>15</td>\n",
       "      <td>0</td>\n",
       "      <td>42</td>\n",
       "      <td>11085</td>\n",
       "      <td>0</td>\n",
       "      <td>0</td>\n",
       "      <td>35.2</td>\n",
       "      <td>11085</td>\n",
       "      <td>23410</td>\n",
       "    </tr>\n",
       "  </tbody>\n",
       "</table>\n",
       "</div>"
      ],
      "text/plain": [
       "  Total_Housing_2000 Occupancy_Status_For_Housing_Units_2000  \\\n",
       "0               1088                                    1088   \n",
       "1              20627                                   20627   \n",
       "2              77850                                   77850   \n",
       "3               9603                                    9603   \n",
       "4               4048                                    4048   \n",
       "\n",
       "  Vacancy_Status_2000 For_Rent_2000 Rented_Not_Occupied_2000  \\\n",
       "0                 119            22                       17   \n",
       "1                1293           556                      298   \n",
       "2                3412          1463                      739   \n",
       "3                 640           268                      152   \n",
       "4                 184            28                       81   \n",
       "\n",
       "  For_Sale_Only_2000 Sold_Not_Occupied_2000  \\\n",
       "0                  2                      9   \n",
       "1                 87                     84   \n",
       "2                302                    353   \n",
       "3                 40                     23   \n",
       "4                 18                     15   \n",
       "\n",
       "  For_Seasonal_Recreational_Or_Occasional_Use_2000 For_Migrant_Workers_2000  \\\n",
       "0                                                1                       68   \n",
       "1                                                1                      267   \n",
       "2                                                1                      554   \n",
       "3                                                1                      156   \n",
       "4                                                0                       42   \n",
       "\n",
       "  Total_Population_2000 Total_Urban_Population_2000  \\\n",
       "0                  3193                           0   \n",
       "1                 51466                           0   \n",
       "2                185787                           0   \n",
       "3                 25967                           0   \n",
       "4                 11085                           0   \n",
       "\n",
       "  Total_Rural_Population_2000 Median_Age_2000 Presence_of_Non-Relatives_2000  \\\n",
       "0                           0            27.9                           3193   \n",
       "1                           0            28.8                          51466   \n",
       "2                           0            32.8                         185787   \n",
       "3                           0            28.8                          25967   \n",
       "4                           0            35.2                          11085   \n",
       "\n",
       "    FIPS  \n",
       "0  28360  \n",
       "1  64090  \n",
       "2  08830  \n",
       "3  12250  \n",
       "4  23410  "
      ]
     },
     "execution_count": 31,
     "metadata": {},
     "output_type": "execute_result"
    }
   ],
   "source": [
    "c_pop_2000_50000.head()"
   ]
  },
  {
   "cell_type": "code",
   "execution_count": 32,
   "metadata": {},
   "outputs": [],
   "source": [
    "c_pop_2000_50000.set_index('FIPS', inplace=True)\n",
    "c_pop_2010_50000.set_index('FIPS', inplace=True)"
   ]
  },
  {
   "cell_type": "code",
   "execution_count": 33,
   "metadata": {},
   "outputs": [],
   "source": [
    "id_join = c_pop_2000_50000.join(c_pop_2010_50000, on='FIPS')\n",
    "id_join = id_join.join(pivot_em, on='FIPS')"
   ]
  },
  {
   "cell_type": "code",
   "execution_count": 34,
   "metadata": {},
   "outputs": [
    {
     "data": {
      "text/html": [
       "<div>\n",
       "<style scoped>\n",
       "    .dataframe tbody tr th:only-of-type {\n",
       "        vertical-align: middle;\n",
       "    }\n",
       "\n",
       "    .dataframe tbody tr th {\n",
       "        vertical-align: top;\n",
       "    }\n",
       "\n",
       "    .dataframe thead th {\n",
       "        text-align: right;\n",
       "    }\n",
       "</style>\n",
       "<table border=\"1\" class=\"dataframe\">\n",
       "  <thead>\n",
       "    <tr style=\"text-align: right;\">\n",
       "      <th></th>\n",
       "      <th>Total_Housing_2000</th>\n",
       "      <th>Occupancy_Status_For_Housing_Units_2000</th>\n",
       "      <th>Vacancy_Status_2000</th>\n",
       "      <th>For_Rent_2000</th>\n",
       "      <th>Rented_Not_Occupied_2000</th>\n",
       "      <th>For_Sale_Only_2000</th>\n",
       "      <th>Sold_Not_Occupied_2000</th>\n",
       "      <th>For_Seasonal_Recreational_Or_Occasional_Use_2000</th>\n",
       "      <th>For_Migrant_Workers_2000</th>\n",
       "      <th>Total_Population_2000</th>\n",
       "      <th>...</th>\n",
       "      <th>state</th>\n",
       "      <th>2010</th>\n",
       "      <th>2011</th>\n",
       "      <th>2012</th>\n",
       "      <th>2013</th>\n",
       "      <th>2014</th>\n",
       "      <th>2015</th>\n",
       "      <th>2016</th>\n",
       "      <th>2017</th>\n",
       "      <th>2018</th>\n",
       "    </tr>\n",
       "    <tr>\n",
       "      <th>FIPS</th>\n",
       "      <th></th>\n",
       "      <th></th>\n",
       "      <th></th>\n",
       "      <th></th>\n",
       "      <th></th>\n",
       "      <th></th>\n",
       "      <th></th>\n",
       "      <th></th>\n",
       "      <th></th>\n",
       "      <th></th>\n",
       "      <th></th>\n",
       "      <th></th>\n",
       "      <th></th>\n",
       "      <th></th>\n",
       "      <th></th>\n",
       "      <th></th>\n",
       "      <th></th>\n",
       "      <th></th>\n",
       "      <th></th>\n",
       "      <th></th>\n",
       "      <th></th>\n",
       "    </tr>\n",
       "  </thead>\n",
       "  <tbody>\n",
       "    <tr>\n",
       "      <th>28360</th>\n",
       "      <td>1088</td>\n",
       "      <td>1088</td>\n",
       "      <td>119</td>\n",
       "      <td>22</td>\n",
       "      <td>17</td>\n",
       "      <td>2</td>\n",
       "      <td>9</td>\n",
       "      <td>1</td>\n",
       "      <td>68</td>\n",
       "      <td>3193</td>\n",
       "      <td>...</td>\n",
       "      <td>16</td>\n",
       "      <td>NaN</td>\n",
       "      <td>NaN</td>\n",
       "      <td>NaN</td>\n",
       "      <td>NaN</td>\n",
       "      <td>NaN</td>\n",
       "      <td>NaN</td>\n",
       "      <td>NaN</td>\n",
       "      <td>NaN</td>\n",
       "      <td>NaN</td>\n",
       "    </tr>\n",
       "    <tr>\n",
       "      <th>64090</th>\n",
       "      <td>20627</td>\n",
       "      <td>20627</td>\n",
       "      <td>1293</td>\n",
       "      <td>556</td>\n",
       "      <td>298</td>\n",
       "      <td>87</td>\n",
       "      <td>84</td>\n",
       "      <td>1</td>\n",
       "      <td>267</td>\n",
       "      <td>51466</td>\n",
       "      <td>...</td>\n",
       "      <td>16</td>\n",
       "      <td>52242.420</td>\n",
       "      <td>100342.886</td>\n",
       "      <td>88202.054</td>\n",
       "      <td>80940.540</td>\n",
       "      <td>85232.964638</td>\n",
       "      <td>75898.220214</td>\n",
       "      <td>66906.213486</td>\n",
       "      <td>64418.852668</td>\n",
       "      <td>71841.469426</td>\n",
       "    </tr>\n",
       "    <tr>\n",
       "      <th>08830</th>\n",
       "      <td>77850</td>\n",
       "      <td>77850</td>\n",
       "      <td>3412</td>\n",
       "      <td>1463</td>\n",
       "      <td>739</td>\n",
       "      <td>302</td>\n",
       "      <td>353</td>\n",
       "      <td>1</td>\n",
       "      <td>554</td>\n",
       "      <td>185787</td>\n",
       "      <td>...</td>\n",
       "      <td>16</td>\n",
       "      <td>165358.696</td>\n",
       "      <td>332.346</td>\n",
       "      <td>3131.146</td>\n",
       "      <td>185263.848</td>\n",
       "      <td>139447.448000</td>\n",
       "      <td>138760.550000</td>\n",
       "      <td>113222.416000</td>\n",
       "      <td>76916.076000</td>\n",
       "      <td>77435.238000</td>\n",
       "    </tr>\n",
       "    <tr>\n",
       "      <th>12250</th>\n",
       "      <td>9603</td>\n",
       "      <td>9603</td>\n",
       "      <td>640</td>\n",
       "      <td>268</td>\n",
       "      <td>152</td>\n",
       "      <td>40</td>\n",
       "      <td>23</td>\n",
       "      <td>1</td>\n",
       "      <td>156</td>\n",
       "      <td>25967</td>\n",
       "      <td>...</td>\n",
       "      <td>16</td>\n",
       "      <td>NaN</td>\n",
       "      <td>NaN</td>\n",
       "      <td>NaN</td>\n",
       "      <td>NaN</td>\n",
       "      <td>NaN</td>\n",
       "      <td>NaN</td>\n",
       "      <td>NaN</td>\n",
       "      <td>NaN</td>\n",
       "      <td>NaN</td>\n",
       "    </tr>\n",
       "    <tr>\n",
       "      <th>23410</th>\n",
       "      <td>4048</td>\n",
       "      <td>4048</td>\n",
       "      <td>184</td>\n",
       "      <td>28</td>\n",
       "      <td>81</td>\n",
       "      <td>18</td>\n",
       "      <td>15</td>\n",
       "      <td>0</td>\n",
       "      <td>42</td>\n",
       "      <td>11085</td>\n",
       "      <td>...</td>\n",
       "      <td>16</td>\n",
       "      <td>NaN</td>\n",
       "      <td>NaN</td>\n",
       "      <td>NaN</td>\n",
       "      <td>NaN</td>\n",
       "      <td>NaN</td>\n",
       "      <td>NaN</td>\n",
       "      <td>NaN</td>\n",
       "      <td>NaN</td>\n",
       "      <td>NaN</td>\n",
       "    </tr>\n",
       "  </tbody>\n",
       "</table>\n",
       "<p>5 rows × 39 columns</p>\n",
       "</div>"
      ],
      "text/plain": [
       "      Total_Housing_2000 Occupancy_Status_For_Housing_Units_2000  \\\n",
       "FIPS                                                               \n",
       "28360               1088                                    1088   \n",
       "64090              20627                                   20627   \n",
       "08830              77850                                   77850   \n",
       "12250               9603                                    9603   \n",
       "23410               4048                                    4048   \n",
       "\n",
       "      Vacancy_Status_2000 For_Rent_2000 Rented_Not_Occupied_2000  \\\n",
       "FIPS                                                               \n",
       "28360                 119            22                       17   \n",
       "64090                1293           556                      298   \n",
       "08830                3412          1463                      739   \n",
       "12250                 640           268                      152   \n",
       "23410                 184            28                       81   \n",
       "\n",
       "      For_Sale_Only_2000 Sold_Not_Occupied_2000  \\\n",
       "FIPS                                              \n",
       "28360                  2                      9   \n",
       "64090                 87                     84   \n",
       "08830                302                    353   \n",
       "12250                 40                     23   \n",
       "23410                 18                     15   \n",
       "\n",
       "      For_Seasonal_Recreational_Or_Occasional_Use_2000  \\\n",
       "FIPS                                                     \n",
       "28360                                                1   \n",
       "64090                                                1   \n",
       "08830                                                1   \n",
       "12250                                                1   \n",
       "23410                                                0   \n",
       "\n",
       "      For_Migrant_Workers_2000 Total_Population_2000  ... state        2010  \\\n",
       "FIPS                                                  ...                     \n",
       "28360                       68                  3193  ...    16         NaN   \n",
       "64090                      267                 51466  ...    16   52242.420   \n",
       "08830                      554                185787  ...    16  165358.696   \n",
       "12250                      156                 25967  ...    16         NaN   \n",
       "23410                       42                 11085  ...    16         NaN   \n",
       "\n",
       "             2011       2012        2013           2014           2015  \\\n",
       "FIPS                                                                     \n",
       "28360         NaN        NaN         NaN            NaN            NaN   \n",
       "64090  100342.886  88202.054   80940.540   85232.964638   75898.220214   \n",
       "08830     332.346   3131.146  185263.848  139447.448000  138760.550000   \n",
       "12250         NaN        NaN         NaN            NaN            NaN   \n",
       "23410         NaN        NaN         NaN            NaN            NaN   \n",
       "\n",
       "                2016          2017          2018  \n",
       "FIPS                                              \n",
       "28360            NaN           NaN           NaN  \n",
       "64090   66906.213486  64418.852668  71841.469426  \n",
       "08830  113222.416000  76916.076000  77435.238000  \n",
       "12250            NaN           NaN           NaN  \n",
       "23410            NaN           NaN           NaN  \n",
       "\n",
       "[5 rows x 39 columns]"
      ]
     },
     "execution_count": 34,
     "metadata": {},
     "output_type": "execute_result"
    }
   ],
   "source": [
    "id_join.head()"
   ]
  },
  {
   "cell_type": "code",
   "execution_count": 35,
   "metadata": {},
   "outputs": [],
   "source": [
    "id_join['Total_Population_2000'] = id_join['Total_Population_2000'].astype('i8')"
   ]
  },
  {
   "cell_type": "code",
   "execution_count": 36,
   "metadata": {},
   "outputs": [],
   "source": [
    "id_join =  id_join.nlargest(5, 'Total_Population_2000')"
   ]
  },
  {
   "cell_type": "code",
   "execution_count": 37,
   "metadata": {},
   "outputs": [
    {
     "data": {
      "application/vnd.plotly.v1+json": {
       "config": {
        "plotlyServerURL": "https://plot.ly"
       },
       "data": [
        {
         "name": "2000_pop",
         "type": "bar",
         "x": [
          "Boise City city, Idaho",
          "Nampa city, Idaho",
          "Pocatello city, Idaho",
          "Idaho Falls city, Idaho",
          "Meridian city, Idaho"
         ],
         "y": [
          185787,
          51867,
          51466,
          50730,
          34919
         ]
        },
        {
         "name": "2010_pop",
         "type": "bar",
         "x": [
          "Boise City city, Idaho",
          "Nampa city, Idaho",
          "Pocatello city, Idaho",
          "Idaho Falls city, Idaho",
          "Meridian city, Idaho"
         ],
         "y": [
          205671,
          81557,
          54255,
          56813,
          75092
         ]
        },
        {
         "name": "2000_housing",
         "type": "bar",
         "x": [
          "Boise City city, Idaho",
          "Nampa city, Idaho",
          "Pocatello city, Idaho",
          "Idaho Falls city, Idaho",
          "Meridian city, Idaho"
         ],
         "y": [
          "77850",
          "19379",
          "20627",
          "19771",
          "12293"
         ]
        },
        {
         "name": "2010_housing",
         "type": "bar",
         "x": [
          "Boise City city, Idaho",
          "Nampa city, Idaho",
          "Pocatello city, Idaho",
          "Idaho Falls city, Idaho",
          "Meridian city, Idaho"
         ],
         "y": [
          92700,
          30507,
          22404,
          22977,
          26674
         ]
        },
        {
         "name": "2000_non-relatives",
         "type": "bar",
         "x": [
          "Boise City city, Idaho",
          "Nampa city, Idaho",
          "Pocatello city, Idaho",
          "Idaho Falls city, Idaho",
          "Meridian city, Idaho"
         ],
         "y": [
          "185787",
          "51867",
          "51466",
          "50730",
          "34919"
         ]
        },
        {
         "name": "2010_non-relatives",
         "type": "bar",
         "x": [
          "Boise City city, Idaho",
          "Nampa city, Idaho",
          "Pocatello city, Idaho",
          "Idaho Falls city, Idaho",
          "Meridian city, Idaho"
         ],
         "y": [
          85704,
          27729,
          20832,
          21203,
          25302
         ]
        }
       ],
       "layout": {
        "barmode": "group",
        "template": {
         "data": {
          "bar": [
           {
            "error_x": {
             "color": "#2a3f5f"
            },
            "error_y": {
             "color": "#2a3f5f"
            },
            "marker": {
             "line": {
              "color": "#E5ECF6",
              "width": 0.5
             }
            },
            "type": "bar"
           }
          ],
          "barpolar": [
           {
            "marker": {
             "line": {
              "color": "#E5ECF6",
              "width": 0.5
             }
            },
            "type": "barpolar"
           }
          ],
          "carpet": [
           {
            "aaxis": {
             "endlinecolor": "#2a3f5f",
             "gridcolor": "white",
             "linecolor": "white",
             "minorgridcolor": "white",
             "startlinecolor": "#2a3f5f"
            },
            "baxis": {
             "endlinecolor": "#2a3f5f",
             "gridcolor": "white",
             "linecolor": "white",
             "minorgridcolor": "white",
             "startlinecolor": "#2a3f5f"
            },
            "type": "carpet"
           }
          ],
          "choropleth": [
           {
            "colorbar": {
             "outlinewidth": 0,
             "ticks": ""
            },
            "type": "choropleth"
           }
          ],
          "contour": [
           {
            "colorbar": {
             "outlinewidth": 0,
             "ticks": ""
            },
            "colorscale": [
             [
              0,
              "#0d0887"
             ],
             [
              0.1111111111111111,
              "#46039f"
             ],
             [
              0.2222222222222222,
              "#7201a8"
             ],
             [
              0.3333333333333333,
              "#9c179e"
             ],
             [
              0.4444444444444444,
              "#bd3786"
             ],
             [
              0.5555555555555556,
              "#d8576b"
             ],
             [
              0.6666666666666666,
              "#ed7953"
             ],
             [
              0.7777777777777778,
              "#fb9f3a"
             ],
             [
              0.8888888888888888,
              "#fdca26"
             ],
             [
              1,
              "#f0f921"
             ]
            ],
            "type": "contour"
           }
          ],
          "contourcarpet": [
           {
            "colorbar": {
             "outlinewidth": 0,
             "ticks": ""
            },
            "type": "contourcarpet"
           }
          ],
          "heatmap": [
           {
            "colorbar": {
             "outlinewidth": 0,
             "ticks": ""
            },
            "colorscale": [
             [
              0,
              "#0d0887"
             ],
             [
              0.1111111111111111,
              "#46039f"
             ],
             [
              0.2222222222222222,
              "#7201a8"
             ],
             [
              0.3333333333333333,
              "#9c179e"
             ],
             [
              0.4444444444444444,
              "#bd3786"
             ],
             [
              0.5555555555555556,
              "#d8576b"
             ],
             [
              0.6666666666666666,
              "#ed7953"
             ],
             [
              0.7777777777777778,
              "#fb9f3a"
             ],
             [
              0.8888888888888888,
              "#fdca26"
             ],
             [
              1,
              "#f0f921"
             ]
            ],
            "type": "heatmap"
           }
          ],
          "heatmapgl": [
           {
            "colorbar": {
             "outlinewidth": 0,
             "ticks": ""
            },
            "colorscale": [
             [
              0,
              "#0d0887"
             ],
             [
              0.1111111111111111,
              "#46039f"
             ],
             [
              0.2222222222222222,
              "#7201a8"
             ],
             [
              0.3333333333333333,
              "#9c179e"
             ],
             [
              0.4444444444444444,
              "#bd3786"
             ],
             [
              0.5555555555555556,
              "#d8576b"
             ],
             [
              0.6666666666666666,
              "#ed7953"
             ],
             [
              0.7777777777777778,
              "#fb9f3a"
             ],
             [
              0.8888888888888888,
              "#fdca26"
             ],
             [
              1,
              "#f0f921"
             ]
            ],
            "type": "heatmapgl"
           }
          ],
          "histogram": [
           {
            "marker": {
             "colorbar": {
              "outlinewidth": 0,
              "ticks": ""
             }
            },
            "type": "histogram"
           }
          ],
          "histogram2d": [
           {
            "colorbar": {
             "outlinewidth": 0,
             "ticks": ""
            },
            "colorscale": [
             [
              0,
              "#0d0887"
             ],
             [
              0.1111111111111111,
              "#46039f"
             ],
             [
              0.2222222222222222,
              "#7201a8"
             ],
             [
              0.3333333333333333,
              "#9c179e"
             ],
             [
              0.4444444444444444,
              "#bd3786"
             ],
             [
              0.5555555555555556,
              "#d8576b"
             ],
             [
              0.6666666666666666,
              "#ed7953"
             ],
             [
              0.7777777777777778,
              "#fb9f3a"
             ],
             [
              0.8888888888888888,
              "#fdca26"
             ],
             [
              1,
              "#f0f921"
             ]
            ],
            "type": "histogram2d"
           }
          ],
          "histogram2dcontour": [
           {
            "colorbar": {
             "outlinewidth": 0,
             "ticks": ""
            },
            "colorscale": [
             [
              0,
              "#0d0887"
             ],
             [
              0.1111111111111111,
              "#46039f"
             ],
             [
              0.2222222222222222,
              "#7201a8"
             ],
             [
              0.3333333333333333,
              "#9c179e"
             ],
             [
              0.4444444444444444,
              "#bd3786"
             ],
             [
              0.5555555555555556,
              "#d8576b"
             ],
             [
              0.6666666666666666,
              "#ed7953"
             ],
             [
              0.7777777777777778,
              "#fb9f3a"
             ],
             [
              0.8888888888888888,
              "#fdca26"
             ],
             [
              1,
              "#f0f921"
             ]
            ],
            "type": "histogram2dcontour"
           }
          ],
          "mesh3d": [
           {
            "colorbar": {
             "outlinewidth": 0,
             "ticks": ""
            },
            "type": "mesh3d"
           }
          ],
          "parcoords": [
           {
            "line": {
             "colorbar": {
              "outlinewidth": 0,
              "ticks": ""
             }
            },
            "type": "parcoords"
           }
          ],
          "scatter": [
           {
            "marker": {
             "colorbar": {
              "outlinewidth": 0,
              "ticks": ""
             }
            },
            "type": "scatter"
           }
          ],
          "scatter3d": [
           {
            "line": {
             "colorbar": {
              "outlinewidth": 0,
              "ticks": ""
             }
            },
            "marker": {
             "colorbar": {
              "outlinewidth": 0,
              "ticks": ""
             }
            },
            "type": "scatter3d"
           }
          ],
          "scattercarpet": [
           {
            "marker": {
             "colorbar": {
              "outlinewidth": 0,
              "ticks": ""
             }
            },
            "type": "scattercarpet"
           }
          ],
          "scattergeo": [
           {
            "marker": {
             "colorbar": {
              "outlinewidth": 0,
              "ticks": ""
             }
            },
            "type": "scattergeo"
           }
          ],
          "scattergl": [
           {
            "marker": {
             "colorbar": {
              "outlinewidth": 0,
              "ticks": ""
             }
            },
            "type": "scattergl"
           }
          ],
          "scattermapbox": [
           {
            "marker": {
             "colorbar": {
              "outlinewidth": 0,
              "ticks": ""
             }
            },
            "type": "scattermapbox"
           }
          ],
          "scatterpolar": [
           {
            "marker": {
             "colorbar": {
              "outlinewidth": 0,
              "ticks": ""
             }
            },
            "type": "scatterpolar"
           }
          ],
          "scatterpolargl": [
           {
            "marker": {
             "colorbar": {
              "outlinewidth": 0,
              "ticks": ""
             }
            },
            "type": "scatterpolargl"
           }
          ],
          "scatterternary": [
           {
            "marker": {
             "colorbar": {
              "outlinewidth": 0,
              "ticks": ""
             }
            },
            "type": "scatterternary"
           }
          ],
          "surface": [
           {
            "colorbar": {
             "outlinewidth": 0,
             "ticks": ""
            },
            "colorscale": [
             [
              0,
              "#0d0887"
             ],
             [
              0.1111111111111111,
              "#46039f"
             ],
             [
              0.2222222222222222,
              "#7201a8"
             ],
             [
              0.3333333333333333,
              "#9c179e"
             ],
             [
              0.4444444444444444,
              "#bd3786"
             ],
             [
              0.5555555555555556,
              "#d8576b"
             ],
             [
              0.6666666666666666,
              "#ed7953"
             ],
             [
              0.7777777777777778,
              "#fb9f3a"
             ],
             [
              0.8888888888888888,
              "#fdca26"
             ],
             [
              1,
              "#f0f921"
             ]
            ],
            "type": "surface"
           }
          ],
          "table": [
           {
            "cells": {
             "fill": {
              "color": "#EBF0F8"
             },
             "line": {
              "color": "white"
             }
            },
            "header": {
             "fill": {
              "color": "#C8D4E3"
             },
             "line": {
              "color": "white"
             }
            },
            "type": "table"
           }
          ]
         },
         "layout": {
          "annotationdefaults": {
           "arrowcolor": "#2a3f5f",
           "arrowhead": 0,
           "arrowwidth": 1
          },
          "colorscale": {
           "diverging": [
            [
             0,
             "#8e0152"
            ],
            [
             0.1,
             "#c51b7d"
            ],
            [
             0.2,
             "#de77ae"
            ],
            [
             0.3,
             "#f1b6da"
            ],
            [
             0.4,
             "#fde0ef"
            ],
            [
             0.5,
             "#f7f7f7"
            ],
            [
             0.6,
             "#e6f5d0"
            ],
            [
             0.7,
             "#b8e186"
            ],
            [
             0.8,
             "#7fbc41"
            ],
            [
             0.9,
             "#4d9221"
            ],
            [
             1,
             "#276419"
            ]
           ],
           "sequential": [
            [
             0,
             "#0d0887"
            ],
            [
             0.1111111111111111,
             "#46039f"
            ],
            [
             0.2222222222222222,
             "#7201a8"
            ],
            [
             0.3333333333333333,
             "#9c179e"
            ],
            [
             0.4444444444444444,
             "#bd3786"
            ],
            [
             0.5555555555555556,
             "#d8576b"
            ],
            [
             0.6666666666666666,
             "#ed7953"
            ],
            [
             0.7777777777777778,
             "#fb9f3a"
            ],
            [
             0.8888888888888888,
             "#fdca26"
            ],
            [
             1,
             "#f0f921"
            ]
           ],
           "sequentialminus": [
            [
             0,
             "#0d0887"
            ],
            [
             0.1111111111111111,
             "#46039f"
            ],
            [
             0.2222222222222222,
             "#7201a8"
            ],
            [
             0.3333333333333333,
             "#9c179e"
            ],
            [
             0.4444444444444444,
             "#bd3786"
            ],
            [
             0.5555555555555556,
             "#d8576b"
            ],
            [
             0.6666666666666666,
             "#ed7953"
            ],
            [
             0.7777777777777778,
             "#fb9f3a"
            ],
            [
             0.8888888888888888,
             "#fdca26"
            ],
            [
             1,
             "#f0f921"
            ]
           ]
          },
          "colorway": [
           "#636efa",
           "#EF553B",
           "#00cc96",
           "#ab63fa",
           "#FFA15A",
           "#19d3f3",
           "#FF6692",
           "#B6E880",
           "#FF97FF",
           "#FECB52"
          ],
          "font": {
           "color": "#2a3f5f"
          },
          "geo": {
           "bgcolor": "white",
           "lakecolor": "white",
           "landcolor": "#E5ECF6",
           "showlakes": true,
           "showland": true,
           "subunitcolor": "white"
          },
          "hoverlabel": {
           "align": "left"
          },
          "hovermode": "closest",
          "mapbox": {
           "style": "light"
          },
          "paper_bgcolor": "white",
          "plot_bgcolor": "#E5ECF6",
          "polar": {
           "angularaxis": {
            "gridcolor": "white",
            "linecolor": "white",
            "ticks": ""
           },
           "bgcolor": "#E5ECF6",
           "radialaxis": {
            "gridcolor": "white",
            "linecolor": "white",
            "ticks": ""
           }
          },
          "scene": {
           "xaxis": {
            "backgroundcolor": "#E5ECF6",
            "gridcolor": "white",
            "gridwidth": 2,
            "linecolor": "white",
            "showbackground": true,
            "ticks": "",
            "zerolinecolor": "white"
           },
           "yaxis": {
            "backgroundcolor": "#E5ECF6",
            "gridcolor": "white",
            "gridwidth": 2,
            "linecolor": "white",
            "showbackground": true,
            "ticks": "",
            "zerolinecolor": "white"
           },
           "zaxis": {
            "backgroundcolor": "#E5ECF6",
            "gridcolor": "white",
            "gridwidth": 2,
            "linecolor": "white",
            "showbackground": true,
            "ticks": "",
            "zerolinecolor": "white"
           }
          },
          "shapedefaults": {
           "line": {
            "color": "#2a3f5f"
           }
          },
          "ternary": {
           "aaxis": {
            "gridcolor": "white",
            "linecolor": "white",
            "ticks": ""
           },
           "baxis": {
            "gridcolor": "white",
            "linecolor": "white",
            "ticks": ""
           },
           "bgcolor": "#E5ECF6",
           "caxis": {
            "gridcolor": "white",
            "linecolor": "white",
            "ticks": ""
           }
          },
          "title": {
           "x": 0.05
          },
          "xaxis": {
           "automargin": true,
           "gridcolor": "white",
           "linecolor": "white",
           "ticks": "",
           "zerolinecolor": "white",
           "zerolinewidth": 2
          },
          "yaxis": {
           "automargin": true,
           "gridcolor": "white",
           "linecolor": "white",
           "ticks": "",
           "zerolinecolor": "white",
           "zerolinewidth": 2
          }
         }
        }
       }
      },
      "text/html": [
       "<div>\n",
       "        \n",
       "        \n",
       "            <div id=\"63bbcbcd-3b8f-43ad-b2e7-c5aeb35c0dd3\" class=\"plotly-graph-div\" style=\"height:525px; width:100%;\"></div>\n",
       "            <script type=\"text/javascript\">\n",
       "                require([\"plotly\"], function(Plotly) {\n",
       "                    window.PLOTLYENV=window.PLOTLYENV || {};\n",
       "                    \n",
       "                if (document.getElementById(\"63bbcbcd-3b8f-43ad-b2e7-c5aeb35c0dd3\")) {\n",
       "                    Plotly.newPlot(\n",
       "                        '63bbcbcd-3b8f-43ad-b2e7-c5aeb35c0dd3',\n",
       "                        [{\"name\": \"2000_pop\", \"type\": \"bar\", \"x\": [\"Boise City city, Idaho\", \"Nampa city, Idaho\", \"Pocatello city, Idaho\", \"Idaho Falls city, Idaho\", \"Meridian city, Idaho\"], \"y\": [185787, 51867, 51466, 50730, 34919]}, {\"name\": \"2010_pop\", \"type\": \"bar\", \"x\": [\"Boise City city, Idaho\", \"Nampa city, Idaho\", \"Pocatello city, Idaho\", \"Idaho Falls city, Idaho\", \"Meridian city, Idaho\"], \"y\": [205671.0, 81557.0, 54255.0, 56813.0, 75092.0]}, {\"name\": \"2000_housing\", \"type\": \"bar\", \"x\": [\"Boise City city, Idaho\", \"Nampa city, Idaho\", \"Pocatello city, Idaho\", \"Idaho Falls city, Idaho\", \"Meridian city, Idaho\"], \"y\": [\"77850\", \"19379\", \"20627\", \"19771\", \"12293\"]}, {\"name\": \"2010_housing\", \"type\": \"bar\", \"x\": [\"Boise City city, Idaho\", \"Nampa city, Idaho\", \"Pocatello city, Idaho\", \"Idaho Falls city, Idaho\", \"Meridian city, Idaho\"], \"y\": [92700.0, 30507.0, 22404.0, 22977.0, 26674.0]}, {\"name\": \"2000_non-relatives\", \"type\": \"bar\", \"x\": [\"Boise City city, Idaho\", \"Nampa city, Idaho\", \"Pocatello city, Idaho\", \"Idaho Falls city, Idaho\", \"Meridian city, Idaho\"], \"y\": [\"185787\", \"51867\", \"51466\", \"50730\", \"34919\"]}, {\"name\": \"2010_non-relatives\", \"type\": \"bar\", \"x\": [\"Boise City city, Idaho\", \"Nampa city, Idaho\", \"Pocatello city, Idaho\", \"Idaho Falls city, Idaho\", \"Meridian city, Idaho\"], \"y\": [85704.0, 27729.0, 20832.0, 21203.0, 25302.0]}],\n",
       "                        {\"barmode\": \"group\", \"template\": {\"data\": {\"bar\": [{\"error_x\": {\"color\": \"#2a3f5f\"}, \"error_y\": {\"color\": \"#2a3f5f\"}, \"marker\": {\"line\": {\"color\": \"#E5ECF6\", \"width\": 0.5}}, \"type\": \"bar\"}], \"barpolar\": [{\"marker\": {\"line\": {\"color\": \"#E5ECF6\", \"width\": 0.5}}, \"type\": \"barpolar\"}], \"carpet\": [{\"aaxis\": {\"endlinecolor\": \"#2a3f5f\", \"gridcolor\": \"white\", \"linecolor\": \"white\", \"minorgridcolor\": \"white\", \"startlinecolor\": \"#2a3f5f\"}, \"baxis\": {\"endlinecolor\": \"#2a3f5f\", \"gridcolor\": \"white\", \"linecolor\": \"white\", \"minorgridcolor\": \"white\", \"startlinecolor\": \"#2a3f5f\"}, \"type\": \"carpet\"}], \"choropleth\": [{\"colorbar\": {\"outlinewidth\": 0, \"ticks\": \"\"}, \"type\": \"choropleth\"}], \"contour\": [{\"colorbar\": {\"outlinewidth\": 0, \"ticks\": \"\"}, \"colorscale\": [[0.0, \"#0d0887\"], [0.1111111111111111, \"#46039f\"], [0.2222222222222222, \"#7201a8\"], [0.3333333333333333, \"#9c179e\"], [0.4444444444444444, \"#bd3786\"], [0.5555555555555556, \"#d8576b\"], [0.6666666666666666, \"#ed7953\"], [0.7777777777777778, \"#fb9f3a\"], [0.8888888888888888, \"#fdca26\"], [1.0, \"#f0f921\"]], \"type\": \"contour\"}], \"contourcarpet\": [{\"colorbar\": {\"outlinewidth\": 0, \"ticks\": \"\"}, \"type\": \"contourcarpet\"}], \"heatmap\": [{\"colorbar\": {\"outlinewidth\": 0, \"ticks\": \"\"}, \"colorscale\": [[0.0, \"#0d0887\"], [0.1111111111111111, \"#46039f\"], [0.2222222222222222, \"#7201a8\"], [0.3333333333333333, \"#9c179e\"], [0.4444444444444444, \"#bd3786\"], [0.5555555555555556, \"#d8576b\"], [0.6666666666666666, \"#ed7953\"], [0.7777777777777778, \"#fb9f3a\"], [0.8888888888888888, \"#fdca26\"], [1.0, \"#f0f921\"]], \"type\": \"heatmap\"}], \"heatmapgl\": [{\"colorbar\": {\"outlinewidth\": 0, \"ticks\": \"\"}, \"colorscale\": [[0.0, \"#0d0887\"], [0.1111111111111111, \"#46039f\"], [0.2222222222222222, \"#7201a8\"], [0.3333333333333333, \"#9c179e\"], [0.4444444444444444, \"#bd3786\"], [0.5555555555555556, \"#d8576b\"], [0.6666666666666666, \"#ed7953\"], [0.7777777777777778, \"#fb9f3a\"], [0.8888888888888888, \"#fdca26\"], [1.0, \"#f0f921\"]], \"type\": \"heatmapgl\"}], \"histogram\": [{\"marker\": {\"colorbar\": {\"outlinewidth\": 0, \"ticks\": \"\"}}, \"type\": \"histogram\"}], \"histogram2d\": [{\"colorbar\": {\"outlinewidth\": 0, \"ticks\": \"\"}, \"colorscale\": [[0.0, \"#0d0887\"], [0.1111111111111111, \"#46039f\"], [0.2222222222222222, \"#7201a8\"], [0.3333333333333333, \"#9c179e\"], [0.4444444444444444, \"#bd3786\"], [0.5555555555555556, \"#d8576b\"], [0.6666666666666666, \"#ed7953\"], [0.7777777777777778, \"#fb9f3a\"], [0.8888888888888888, \"#fdca26\"], [1.0, \"#f0f921\"]], \"type\": \"histogram2d\"}], \"histogram2dcontour\": [{\"colorbar\": {\"outlinewidth\": 0, \"ticks\": \"\"}, \"colorscale\": [[0.0, \"#0d0887\"], [0.1111111111111111, \"#46039f\"], [0.2222222222222222, \"#7201a8\"], [0.3333333333333333, \"#9c179e\"], [0.4444444444444444, \"#bd3786\"], [0.5555555555555556, \"#d8576b\"], [0.6666666666666666, \"#ed7953\"], [0.7777777777777778, \"#fb9f3a\"], [0.8888888888888888, \"#fdca26\"], [1.0, \"#f0f921\"]], \"type\": \"histogram2dcontour\"}], \"mesh3d\": [{\"colorbar\": {\"outlinewidth\": 0, \"ticks\": \"\"}, \"type\": \"mesh3d\"}], \"parcoords\": [{\"line\": {\"colorbar\": {\"outlinewidth\": 0, \"ticks\": \"\"}}, \"type\": \"parcoords\"}], \"scatter\": [{\"marker\": {\"colorbar\": {\"outlinewidth\": 0, \"ticks\": \"\"}}, \"type\": \"scatter\"}], \"scatter3d\": [{\"line\": {\"colorbar\": {\"outlinewidth\": 0, \"ticks\": \"\"}}, \"marker\": {\"colorbar\": {\"outlinewidth\": 0, \"ticks\": \"\"}}, \"type\": \"scatter3d\"}], \"scattercarpet\": [{\"marker\": {\"colorbar\": {\"outlinewidth\": 0, \"ticks\": \"\"}}, \"type\": \"scattercarpet\"}], \"scattergeo\": [{\"marker\": {\"colorbar\": {\"outlinewidth\": 0, \"ticks\": \"\"}}, \"type\": \"scattergeo\"}], \"scattergl\": [{\"marker\": {\"colorbar\": {\"outlinewidth\": 0, \"ticks\": \"\"}}, \"type\": \"scattergl\"}], \"scattermapbox\": [{\"marker\": {\"colorbar\": {\"outlinewidth\": 0, \"ticks\": \"\"}}, \"type\": \"scattermapbox\"}], \"scatterpolar\": [{\"marker\": {\"colorbar\": {\"outlinewidth\": 0, \"ticks\": \"\"}}, \"type\": \"scatterpolar\"}], \"scatterpolargl\": [{\"marker\": {\"colorbar\": {\"outlinewidth\": 0, \"ticks\": \"\"}}, \"type\": \"scatterpolargl\"}], \"scatterternary\": [{\"marker\": {\"colorbar\": {\"outlinewidth\": 0, \"ticks\": \"\"}}, \"type\": \"scatterternary\"}], \"surface\": [{\"colorbar\": {\"outlinewidth\": 0, \"ticks\": \"\"}, \"colorscale\": [[0.0, \"#0d0887\"], [0.1111111111111111, \"#46039f\"], [0.2222222222222222, \"#7201a8\"], [0.3333333333333333, \"#9c179e\"], [0.4444444444444444, \"#bd3786\"], [0.5555555555555556, \"#d8576b\"], [0.6666666666666666, \"#ed7953\"], [0.7777777777777778, \"#fb9f3a\"], [0.8888888888888888, \"#fdca26\"], [1.0, \"#f0f921\"]], \"type\": \"surface\"}], \"table\": [{\"cells\": {\"fill\": {\"color\": \"#EBF0F8\"}, \"line\": {\"color\": \"white\"}}, \"header\": {\"fill\": {\"color\": \"#C8D4E3\"}, \"line\": {\"color\": \"white\"}}, \"type\": \"table\"}]}, \"layout\": {\"annotationdefaults\": {\"arrowcolor\": \"#2a3f5f\", \"arrowhead\": 0, \"arrowwidth\": 1}, \"colorscale\": {\"diverging\": [[0, \"#8e0152\"], [0.1, \"#c51b7d\"], [0.2, \"#de77ae\"], [0.3, \"#f1b6da\"], [0.4, \"#fde0ef\"], [0.5, \"#f7f7f7\"], [0.6, \"#e6f5d0\"], [0.7, \"#b8e186\"], [0.8, \"#7fbc41\"], [0.9, \"#4d9221\"], [1, \"#276419\"]], \"sequential\": [[0.0, \"#0d0887\"], [0.1111111111111111, \"#46039f\"], [0.2222222222222222, \"#7201a8\"], [0.3333333333333333, \"#9c179e\"], [0.4444444444444444, \"#bd3786\"], [0.5555555555555556, \"#d8576b\"], [0.6666666666666666, \"#ed7953\"], [0.7777777777777778, \"#fb9f3a\"], [0.8888888888888888, \"#fdca26\"], [1.0, \"#f0f921\"]], \"sequentialminus\": [[0.0, \"#0d0887\"], [0.1111111111111111, \"#46039f\"], [0.2222222222222222, \"#7201a8\"], [0.3333333333333333, \"#9c179e\"], [0.4444444444444444, \"#bd3786\"], [0.5555555555555556, \"#d8576b\"], [0.6666666666666666, \"#ed7953\"], [0.7777777777777778, \"#fb9f3a\"], [0.8888888888888888, \"#fdca26\"], [1.0, \"#f0f921\"]]}, \"colorway\": [\"#636efa\", \"#EF553B\", \"#00cc96\", \"#ab63fa\", \"#FFA15A\", \"#19d3f3\", \"#FF6692\", \"#B6E880\", \"#FF97FF\", \"#FECB52\"], \"font\": {\"color\": \"#2a3f5f\"}, \"geo\": {\"bgcolor\": \"white\", \"lakecolor\": \"white\", \"landcolor\": \"#E5ECF6\", \"showlakes\": true, \"showland\": true, \"subunitcolor\": \"white\"}, \"hoverlabel\": {\"align\": \"left\"}, \"hovermode\": \"closest\", \"mapbox\": {\"style\": \"light\"}, \"paper_bgcolor\": \"white\", \"plot_bgcolor\": \"#E5ECF6\", \"polar\": {\"angularaxis\": {\"gridcolor\": \"white\", \"linecolor\": \"white\", \"ticks\": \"\"}, \"bgcolor\": \"#E5ECF6\", \"radialaxis\": {\"gridcolor\": \"white\", \"linecolor\": \"white\", \"ticks\": \"\"}}, \"scene\": {\"xaxis\": {\"backgroundcolor\": \"#E5ECF6\", \"gridcolor\": \"white\", \"gridwidth\": 2, \"linecolor\": \"white\", \"showbackground\": true, \"ticks\": \"\", \"zerolinecolor\": \"white\"}, \"yaxis\": {\"backgroundcolor\": \"#E5ECF6\", \"gridcolor\": \"white\", \"gridwidth\": 2, \"linecolor\": \"white\", \"showbackground\": true, \"ticks\": \"\", \"zerolinecolor\": \"white\"}, \"zaxis\": {\"backgroundcolor\": \"#E5ECF6\", \"gridcolor\": \"white\", \"gridwidth\": 2, \"linecolor\": \"white\", \"showbackground\": true, \"ticks\": \"\", \"zerolinecolor\": \"white\"}}, \"shapedefaults\": {\"line\": {\"color\": \"#2a3f5f\"}}, \"ternary\": {\"aaxis\": {\"gridcolor\": \"white\", \"linecolor\": \"white\", \"ticks\": \"\"}, \"baxis\": {\"gridcolor\": \"white\", \"linecolor\": \"white\", \"ticks\": \"\"}, \"bgcolor\": \"#E5ECF6\", \"caxis\": {\"gridcolor\": \"white\", \"linecolor\": \"white\", \"ticks\": \"\"}}, \"title\": {\"x\": 0.05}, \"xaxis\": {\"automargin\": true, \"gridcolor\": \"white\", \"linecolor\": \"white\", \"ticks\": \"\", \"zerolinecolor\": \"white\", \"zerolinewidth\": 2}, \"yaxis\": {\"automargin\": true, \"gridcolor\": \"white\", \"linecolor\": \"white\", \"ticks\": \"\", \"zerolinecolor\": \"white\", \"zerolinewidth\": 2}}}},\n",
       "                        {\"responsive\": true}\n",
       "                    ).then(function(){\n",
       "                            \n",
       "var gd = document.getElementById('63bbcbcd-3b8f-43ad-b2e7-c5aeb35c0dd3');\n",
       "var x = new MutationObserver(function (mutations, observer) {{\n",
       "        var display = window.getComputedStyle(gd).display;\n",
       "        if (!display || display === 'none') {{\n",
       "            console.log([gd, 'removed!']);\n",
       "            Plotly.purge(gd);\n",
       "            observer.disconnect();\n",
       "        }}\n",
       "}});\n",
       "\n",
       "// Listen for the removal of the full notebook cells\n",
       "var notebookContainer = gd.closest('#notebook-container');\n",
       "if (notebookContainer) {{\n",
       "    x.observe(notebookContainer, {childList: true});\n",
       "}}\n",
       "\n",
       "// Listen for the clearing of the current output cell\n",
       "var outputEl = gd.closest('.output');\n",
       "if (outputEl) {{\n",
       "    x.observe(outputEl, {childList: true});\n",
       "}}\n",
       "\n",
       "                        })\n",
       "                };\n",
       "                });\n",
       "            </script>\n",
       "        </div>"
      ]
     },
     "metadata": {},
     "output_type": "display_data"
    }
   ],
   "source": [
    "fig = go.Figure(data=[\n",
    "    go.Bar(name='2000_pop', x=id_join['City_Name'], y=id_join['Total_Population_2000']),\n",
    "    go.Bar(name='2010_pop', x=id_join['City_Name'], y=id_join['Total_Population_2010']),\n",
    "    go.Bar(name='2000_housing', x=id_join['City_Name'], y=id_join['Total_Housing_2000']),\n",
    "    go.Bar(name='2010_housing', x=id_join['City_Name'], y=id_join['Total_Housing_2010']),\n",
    "    go.Bar(name='2000_non-relatives', x=id_join['City_Name'], y=id_join['Presence_of_Non-Relatives_2000']),\n",
    "    go.Bar(name='2010_non-relatives', x=id_join['City_Name'], y=id_join['Presence_of_Non-Relatives_2010']),\n",
    "])\n",
    "fig.update_layout(barmode='group')\n",
    "fig.show()"
   ]
  },
  {
   "cell_type": "code",
   "execution_count": 38,
   "metadata": {},
   "outputs": [
    {
     "data": {
      "application/vnd.plotly.v1+json": {
       "config": {
        "plotlyServerURL": "https://plot.ly"
       },
       "data": [
        {
         "name": "2000_age",
         "type": "bar",
         "x": [
          "Boise City city, Idaho",
          "Nampa city, Idaho",
          "Pocatello city, Idaho",
          "Idaho Falls city, Idaho",
          "Meridian city, Idaho"
         ],
         "y": [
          "32.8",
          "28.5",
          "28.8",
          "32.3",
          "30.1"
         ]
        },
        {
         "name": "2010_age",
         "type": "bar",
         "x": [
          "Boise City city, Idaho",
          "Nampa city, Idaho",
          "Pocatello city, Idaho",
          "Idaho Falls city, Idaho",
          "Meridian city, Idaho"
         ],
         "y": [
          35.3,
          30.1,
          30.2,
          32.2,
          32.5
         ]
        }
       ],
       "layout": {
        "barmode": "group",
        "template": {
         "data": {
          "bar": [
           {
            "error_x": {
             "color": "#2a3f5f"
            },
            "error_y": {
             "color": "#2a3f5f"
            },
            "marker": {
             "line": {
              "color": "#E5ECF6",
              "width": 0.5
             }
            },
            "type": "bar"
           }
          ],
          "barpolar": [
           {
            "marker": {
             "line": {
              "color": "#E5ECF6",
              "width": 0.5
             }
            },
            "type": "barpolar"
           }
          ],
          "carpet": [
           {
            "aaxis": {
             "endlinecolor": "#2a3f5f",
             "gridcolor": "white",
             "linecolor": "white",
             "minorgridcolor": "white",
             "startlinecolor": "#2a3f5f"
            },
            "baxis": {
             "endlinecolor": "#2a3f5f",
             "gridcolor": "white",
             "linecolor": "white",
             "minorgridcolor": "white",
             "startlinecolor": "#2a3f5f"
            },
            "type": "carpet"
           }
          ],
          "choropleth": [
           {
            "colorbar": {
             "outlinewidth": 0,
             "ticks": ""
            },
            "type": "choropleth"
           }
          ],
          "contour": [
           {
            "colorbar": {
             "outlinewidth": 0,
             "ticks": ""
            },
            "colorscale": [
             [
              0,
              "#0d0887"
             ],
             [
              0.1111111111111111,
              "#46039f"
             ],
             [
              0.2222222222222222,
              "#7201a8"
             ],
             [
              0.3333333333333333,
              "#9c179e"
             ],
             [
              0.4444444444444444,
              "#bd3786"
             ],
             [
              0.5555555555555556,
              "#d8576b"
             ],
             [
              0.6666666666666666,
              "#ed7953"
             ],
             [
              0.7777777777777778,
              "#fb9f3a"
             ],
             [
              0.8888888888888888,
              "#fdca26"
             ],
             [
              1,
              "#f0f921"
             ]
            ],
            "type": "contour"
           }
          ],
          "contourcarpet": [
           {
            "colorbar": {
             "outlinewidth": 0,
             "ticks": ""
            },
            "type": "contourcarpet"
           }
          ],
          "heatmap": [
           {
            "colorbar": {
             "outlinewidth": 0,
             "ticks": ""
            },
            "colorscale": [
             [
              0,
              "#0d0887"
             ],
             [
              0.1111111111111111,
              "#46039f"
             ],
             [
              0.2222222222222222,
              "#7201a8"
             ],
             [
              0.3333333333333333,
              "#9c179e"
             ],
             [
              0.4444444444444444,
              "#bd3786"
             ],
             [
              0.5555555555555556,
              "#d8576b"
             ],
             [
              0.6666666666666666,
              "#ed7953"
             ],
             [
              0.7777777777777778,
              "#fb9f3a"
             ],
             [
              0.8888888888888888,
              "#fdca26"
             ],
             [
              1,
              "#f0f921"
             ]
            ],
            "type": "heatmap"
           }
          ],
          "heatmapgl": [
           {
            "colorbar": {
             "outlinewidth": 0,
             "ticks": ""
            },
            "colorscale": [
             [
              0,
              "#0d0887"
             ],
             [
              0.1111111111111111,
              "#46039f"
             ],
             [
              0.2222222222222222,
              "#7201a8"
             ],
             [
              0.3333333333333333,
              "#9c179e"
             ],
             [
              0.4444444444444444,
              "#bd3786"
             ],
             [
              0.5555555555555556,
              "#d8576b"
             ],
             [
              0.6666666666666666,
              "#ed7953"
             ],
             [
              0.7777777777777778,
              "#fb9f3a"
             ],
             [
              0.8888888888888888,
              "#fdca26"
             ],
             [
              1,
              "#f0f921"
             ]
            ],
            "type": "heatmapgl"
           }
          ],
          "histogram": [
           {
            "marker": {
             "colorbar": {
              "outlinewidth": 0,
              "ticks": ""
             }
            },
            "type": "histogram"
           }
          ],
          "histogram2d": [
           {
            "colorbar": {
             "outlinewidth": 0,
             "ticks": ""
            },
            "colorscale": [
             [
              0,
              "#0d0887"
             ],
             [
              0.1111111111111111,
              "#46039f"
             ],
             [
              0.2222222222222222,
              "#7201a8"
             ],
             [
              0.3333333333333333,
              "#9c179e"
             ],
             [
              0.4444444444444444,
              "#bd3786"
             ],
             [
              0.5555555555555556,
              "#d8576b"
             ],
             [
              0.6666666666666666,
              "#ed7953"
             ],
             [
              0.7777777777777778,
              "#fb9f3a"
             ],
             [
              0.8888888888888888,
              "#fdca26"
             ],
             [
              1,
              "#f0f921"
             ]
            ],
            "type": "histogram2d"
           }
          ],
          "histogram2dcontour": [
           {
            "colorbar": {
             "outlinewidth": 0,
             "ticks": ""
            },
            "colorscale": [
             [
              0,
              "#0d0887"
             ],
             [
              0.1111111111111111,
              "#46039f"
             ],
             [
              0.2222222222222222,
              "#7201a8"
             ],
             [
              0.3333333333333333,
              "#9c179e"
             ],
             [
              0.4444444444444444,
              "#bd3786"
             ],
             [
              0.5555555555555556,
              "#d8576b"
             ],
             [
              0.6666666666666666,
              "#ed7953"
             ],
             [
              0.7777777777777778,
              "#fb9f3a"
             ],
             [
              0.8888888888888888,
              "#fdca26"
             ],
             [
              1,
              "#f0f921"
             ]
            ],
            "type": "histogram2dcontour"
           }
          ],
          "mesh3d": [
           {
            "colorbar": {
             "outlinewidth": 0,
             "ticks": ""
            },
            "type": "mesh3d"
           }
          ],
          "parcoords": [
           {
            "line": {
             "colorbar": {
              "outlinewidth": 0,
              "ticks": ""
             }
            },
            "type": "parcoords"
           }
          ],
          "scatter": [
           {
            "marker": {
             "colorbar": {
              "outlinewidth": 0,
              "ticks": ""
             }
            },
            "type": "scatter"
           }
          ],
          "scatter3d": [
           {
            "line": {
             "colorbar": {
              "outlinewidth": 0,
              "ticks": ""
             }
            },
            "marker": {
             "colorbar": {
              "outlinewidth": 0,
              "ticks": ""
             }
            },
            "type": "scatter3d"
           }
          ],
          "scattercarpet": [
           {
            "marker": {
             "colorbar": {
              "outlinewidth": 0,
              "ticks": ""
             }
            },
            "type": "scattercarpet"
           }
          ],
          "scattergeo": [
           {
            "marker": {
             "colorbar": {
              "outlinewidth": 0,
              "ticks": ""
             }
            },
            "type": "scattergeo"
           }
          ],
          "scattergl": [
           {
            "marker": {
             "colorbar": {
              "outlinewidth": 0,
              "ticks": ""
             }
            },
            "type": "scattergl"
           }
          ],
          "scattermapbox": [
           {
            "marker": {
             "colorbar": {
              "outlinewidth": 0,
              "ticks": ""
             }
            },
            "type": "scattermapbox"
           }
          ],
          "scatterpolar": [
           {
            "marker": {
             "colorbar": {
              "outlinewidth": 0,
              "ticks": ""
             }
            },
            "type": "scatterpolar"
           }
          ],
          "scatterpolargl": [
           {
            "marker": {
             "colorbar": {
              "outlinewidth": 0,
              "ticks": ""
             }
            },
            "type": "scatterpolargl"
           }
          ],
          "scatterternary": [
           {
            "marker": {
             "colorbar": {
              "outlinewidth": 0,
              "ticks": ""
             }
            },
            "type": "scatterternary"
           }
          ],
          "surface": [
           {
            "colorbar": {
             "outlinewidth": 0,
             "ticks": ""
            },
            "colorscale": [
             [
              0,
              "#0d0887"
             ],
             [
              0.1111111111111111,
              "#46039f"
             ],
             [
              0.2222222222222222,
              "#7201a8"
             ],
             [
              0.3333333333333333,
              "#9c179e"
             ],
             [
              0.4444444444444444,
              "#bd3786"
             ],
             [
              0.5555555555555556,
              "#d8576b"
             ],
             [
              0.6666666666666666,
              "#ed7953"
             ],
             [
              0.7777777777777778,
              "#fb9f3a"
             ],
             [
              0.8888888888888888,
              "#fdca26"
             ],
             [
              1,
              "#f0f921"
             ]
            ],
            "type": "surface"
           }
          ],
          "table": [
           {
            "cells": {
             "fill": {
              "color": "#EBF0F8"
             },
             "line": {
              "color": "white"
             }
            },
            "header": {
             "fill": {
              "color": "#C8D4E3"
             },
             "line": {
              "color": "white"
             }
            },
            "type": "table"
           }
          ]
         },
         "layout": {
          "annotationdefaults": {
           "arrowcolor": "#2a3f5f",
           "arrowhead": 0,
           "arrowwidth": 1
          },
          "colorscale": {
           "diverging": [
            [
             0,
             "#8e0152"
            ],
            [
             0.1,
             "#c51b7d"
            ],
            [
             0.2,
             "#de77ae"
            ],
            [
             0.3,
             "#f1b6da"
            ],
            [
             0.4,
             "#fde0ef"
            ],
            [
             0.5,
             "#f7f7f7"
            ],
            [
             0.6,
             "#e6f5d0"
            ],
            [
             0.7,
             "#b8e186"
            ],
            [
             0.8,
             "#7fbc41"
            ],
            [
             0.9,
             "#4d9221"
            ],
            [
             1,
             "#276419"
            ]
           ],
           "sequential": [
            [
             0,
             "#0d0887"
            ],
            [
             0.1111111111111111,
             "#46039f"
            ],
            [
             0.2222222222222222,
             "#7201a8"
            ],
            [
             0.3333333333333333,
             "#9c179e"
            ],
            [
             0.4444444444444444,
             "#bd3786"
            ],
            [
             0.5555555555555556,
             "#d8576b"
            ],
            [
             0.6666666666666666,
             "#ed7953"
            ],
            [
             0.7777777777777778,
             "#fb9f3a"
            ],
            [
             0.8888888888888888,
             "#fdca26"
            ],
            [
             1,
             "#f0f921"
            ]
           ],
           "sequentialminus": [
            [
             0,
             "#0d0887"
            ],
            [
             0.1111111111111111,
             "#46039f"
            ],
            [
             0.2222222222222222,
             "#7201a8"
            ],
            [
             0.3333333333333333,
             "#9c179e"
            ],
            [
             0.4444444444444444,
             "#bd3786"
            ],
            [
             0.5555555555555556,
             "#d8576b"
            ],
            [
             0.6666666666666666,
             "#ed7953"
            ],
            [
             0.7777777777777778,
             "#fb9f3a"
            ],
            [
             0.8888888888888888,
             "#fdca26"
            ],
            [
             1,
             "#f0f921"
            ]
           ]
          },
          "colorway": [
           "#636efa",
           "#EF553B",
           "#00cc96",
           "#ab63fa",
           "#FFA15A",
           "#19d3f3",
           "#FF6692",
           "#B6E880",
           "#FF97FF",
           "#FECB52"
          ],
          "font": {
           "color": "#2a3f5f"
          },
          "geo": {
           "bgcolor": "white",
           "lakecolor": "white",
           "landcolor": "#E5ECF6",
           "showlakes": true,
           "showland": true,
           "subunitcolor": "white"
          },
          "hoverlabel": {
           "align": "left"
          },
          "hovermode": "closest",
          "mapbox": {
           "style": "light"
          },
          "paper_bgcolor": "white",
          "plot_bgcolor": "#E5ECF6",
          "polar": {
           "angularaxis": {
            "gridcolor": "white",
            "linecolor": "white",
            "ticks": ""
           },
           "bgcolor": "#E5ECF6",
           "radialaxis": {
            "gridcolor": "white",
            "linecolor": "white",
            "ticks": ""
           }
          },
          "scene": {
           "xaxis": {
            "backgroundcolor": "#E5ECF6",
            "gridcolor": "white",
            "gridwidth": 2,
            "linecolor": "white",
            "showbackground": true,
            "ticks": "",
            "zerolinecolor": "white"
           },
           "yaxis": {
            "backgroundcolor": "#E5ECF6",
            "gridcolor": "white",
            "gridwidth": 2,
            "linecolor": "white",
            "showbackground": true,
            "ticks": "",
            "zerolinecolor": "white"
           },
           "zaxis": {
            "backgroundcolor": "#E5ECF6",
            "gridcolor": "white",
            "gridwidth": 2,
            "linecolor": "white",
            "showbackground": true,
            "ticks": "",
            "zerolinecolor": "white"
           }
          },
          "shapedefaults": {
           "line": {
            "color": "#2a3f5f"
           }
          },
          "ternary": {
           "aaxis": {
            "gridcolor": "white",
            "linecolor": "white",
            "ticks": ""
           },
           "baxis": {
            "gridcolor": "white",
            "linecolor": "white",
            "ticks": ""
           },
           "bgcolor": "#E5ECF6",
           "caxis": {
            "gridcolor": "white",
            "linecolor": "white",
            "ticks": ""
           }
          },
          "title": {
           "x": 0.05
          },
          "xaxis": {
           "automargin": true,
           "gridcolor": "white",
           "linecolor": "white",
           "ticks": "",
           "zerolinecolor": "white",
           "zerolinewidth": 2
          },
          "yaxis": {
           "automargin": true,
           "gridcolor": "white",
           "linecolor": "white",
           "ticks": "",
           "zerolinecolor": "white",
           "zerolinewidth": 2
          }
         }
        }
       }
      },
      "text/html": [
       "<div>\n",
       "        \n",
       "        \n",
       "            <div id=\"9b8bf1a2-3cba-4e24-85d6-94c1829a9ab7\" class=\"plotly-graph-div\" style=\"height:525px; width:100%;\"></div>\n",
       "            <script type=\"text/javascript\">\n",
       "                require([\"plotly\"], function(Plotly) {\n",
       "                    window.PLOTLYENV=window.PLOTLYENV || {};\n",
       "                    \n",
       "                if (document.getElementById(\"9b8bf1a2-3cba-4e24-85d6-94c1829a9ab7\")) {\n",
       "                    Plotly.newPlot(\n",
       "                        '9b8bf1a2-3cba-4e24-85d6-94c1829a9ab7',\n",
       "                        [{\"name\": \"2000_age\", \"type\": \"bar\", \"x\": [\"Boise City city, Idaho\", \"Nampa city, Idaho\", \"Pocatello city, Idaho\", \"Idaho Falls city, Idaho\", \"Meridian city, Idaho\"], \"y\": [\"32.8\", \"28.5\", \"28.8\", \"32.3\", \"30.1\"]}, {\"name\": \"2010_age\", \"type\": \"bar\", \"x\": [\"Boise City city, Idaho\", \"Nampa city, Idaho\", \"Pocatello city, Idaho\", \"Idaho Falls city, Idaho\", \"Meridian city, Idaho\"], \"y\": [35.3, 30.1, 30.2, 32.2, 32.5]}],\n",
       "                        {\"barmode\": \"group\", \"template\": {\"data\": {\"bar\": [{\"error_x\": {\"color\": \"#2a3f5f\"}, \"error_y\": {\"color\": \"#2a3f5f\"}, \"marker\": {\"line\": {\"color\": \"#E5ECF6\", \"width\": 0.5}}, \"type\": \"bar\"}], \"barpolar\": [{\"marker\": {\"line\": {\"color\": \"#E5ECF6\", \"width\": 0.5}}, \"type\": \"barpolar\"}], \"carpet\": [{\"aaxis\": {\"endlinecolor\": \"#2a3f5f\", \"gridcolor\": \"white\", \"linecolor\": \"white\", \"minorgridcolor\": \"white\", \"startlinecolor\": \"#2a3f5f\"}, \"baxis\": {\"endlinecolor\": \"#2a3f5f\", \"gridcolor\": \"white\", \"linecolor\": \"white\", \"minorgridcolor\": \"white\", \"startlinecolor\": \"#2a3f5f\"}, \"type\": \"carpet\"}], \"choropleth\": [{\"colorbar\": {\"outlinewidth\": 0, \"ticks\": \"\"}, \"type\": \"choropleth\"}], \"contour\": [{\"colorbar\": {\"outlinewidth\": 0, \"ticks\": \"\"}, \"colorscale\": [[0.0, \"#0d0887\"], [0.1111111111111111, \"#46039f\"], [0.2222222222222222, \"#7201a8\"], [0.3333333333333333, \"#9c179e\"], [0.4444444444444444, \"#bd3786\"], [0.5555555555555556, \"#d8576b\"], [0.6666666666666666, \"#ed7953\"], [0.7777777777777778, \"#fb9f3a\"], [0.8888888888888888, \"#fdca26\"], [1.0, \"#f0f921\"]], \"type\": \"contour\"}], \"contourcarpet\": [{\"colorbar\": {\"outlinewidth\": 0, \"ticks\": \"\"}, \"type\": \"contourcarpet\"}], \"heatmap\": [{\"colorbar\": {\"outlinewidth\": 0, \"ticks\": \"\"}, \"colorscale\": [[0.0, \"#0d0887\"], [0.1111111111111111, \"#46039f\"], [0.2222222222222222, \"#7201a8\"], [0.3333333333333333, \"#9c179e\"], [0.4444444444444444, \"#bd3786\"], [0.5555555555555556, \"#d8576b\"], [0.6666666666666666, \"#ed7953\"], [0.7777777777777778, \"#fb9f3a\"], [0.8888888888888888, \"#fdca26\"], [1.0, \"#f0f921\"]], \"type\": \"heatmap\"}], \"heatmapgl\": [{\"colorbar\": {\"outlinewidth\": 0, \"ticks\": \"\"}, \"colorscale\": [[0.0, \"#0d0887\"], [0.1111111111111111, \"#46039f\"], [0.2222222222222222, \"#7201a8\"], [0.3333333333333333, \"#9c179e\"], [0.4444444444444444, \"#bd3786\"], [0.5555555555555556, \"#d8576b\"], [0.6666666666666666, \"#ed7953\"], [0.7777777777777778, \"#fb9f3a\"], [0.8888888888888888, \"#fdca26\"], [1.0, \"#f0f921\"]], \"type\": \"heatmapgl\"}], \"histogram\": [{\"marker\": {\"colorbar\": {\"outlinewidth\": 0, \"ticks\": \"\"}}, \"type\": \"histogram\"}], \"histogram2d\": [{\"colorbar\": {\"outlinewidth\": 0, \"ticks\": \"\"}, \"colorscale\": [[0.0, \"#0d0887\"], [0.1111111111111111, \"#46039f\"], [0.2222222222222222, \"#7201a8\"], [0.3333333333333333, \"#9c179e\"], [0.4444444444444444, \"#bd3786\"], [0.5555555555555556, \"#d8576b\"], [0.6666666666666666, \"#ed7953\"], [0.7777777777777778, \"#fb9f3a\"], [0.8888888888888888, \"#fdca26\"], [1.0, \"#f0f921\"]], \"type\": \"histogram2d\"}], \"histogram2dcontour\": [{\"colorbar\": {\"outlinewidth\": 0, \"ticks\": \"\"}, \"colorscale\": [[0.0, \"#0d0887\"], [0.1111111111111111, \"#46039f\"], [0.2222222222222222, \"#7201a8\"], [0.3333333333333333, \"#9c179e\"], [0.4444444444444444, \"#bd3786\"], [0.5555555555555556, \"#d8576b\"], [0.6666666666666666, \"#ed7953\"], [0.7777777777777778, \"#fb9f3a\"], [0.8888888888888888, \"#fdca26\"], [1.0, \"#f0f921\"]], \"type\": \"histogram2dcontour\"}], \"mesh3d\": [{\"colorbar\": {\"outlinewidth\": 0, \"ticks\": \"\"}, \"type\": \"mesh3d\"}], \"parcoords\": [{\"line\": {\"colorbar\": {\"outlinewidth\": 0, \"ticks\": \"\"}}, \"type\": \"parcoords\"}], \"scatter\": [{\"marker\": {\"colorbar\": {\"outlinewidth\": 0, \"ticks\": \"\"}}, \"type\": \"scatter\"}], \"scatter3d\": [{\"line\": {\"colorbar\": {\"outlinewidth\": 0, \"ticks\": \"\"}}, \"marker\": {\"colorbar\": {\"outlinewidth\": 0, \"ticks\": \"\"}}, \"type\": \"scatter3d\"}], \"scattercarpet\": [{\"marker\": {\"colorbar\": {\"outlinewidth\": 0, \"ticks\": \"\"}}, \"type\": \"scattercarpet\"}], \"scattergeo\": [{\"marker\": {\"colorbar\": {\"outlinewidth\": 0, \"ticks\": \"\"}}, \"type\": \"scattergeo\"}], \"scattergl\": [{\"marker\": {\"colorbar\": {\"outlinewidth\": 0, \"ticks\": \"\"}}, \"type\": \"scattergl\"}], \"scattermapbox\": [{\"marker\": {\"colorbar\": {\"outlinewidth\": 0, \"ticks\": \"\"}}, \"type\": \"scattermapbox\"}], \"scatterpolar\": [{\"marker\": {\"colorbar\": {\"outlinewidth\": 0, \"ticks\": \"\"}}, \"type\": \"scatterpolar\"}], \"scatterpolargl\": [{\"marker\": {\"colorbar\": {\"outlinewidth\": 0, \"ticks\": \"\"}}, \"type\": \"scatterpolargl\"}], \"scatterternary\": [{\"marker\": {\"colorbar\": {\"outlinewidth\": 0, \"ticks\": \"\"}}, \"type\": \"scatterternary\"}], \"surface\": [{\"colorbar\": {\"outlinewidth\": 0, \"ticks\": \"\"}, \"colorscale\": [[0.0, \"#0d0887\"], [0.1111111111111111, \"#46039f\"], [0.2222222222222222, \"#7201a8\"], [0.3333333333333333, \"#9c179e\"], [0.4444444444444444, \"#bd3786\"], [0.5555555555555556, \"#d8576b\"], [0.6666666666666666, \"#ed7953\"], [0.7777777777777778, \"#fb9f3a\"], [0.8888888888888888, \"#fdca26\"], [1.0, \"#f0f921\"]], \"type\": \"surface\"}], \"table\": [{\"cells\": {\"fill\": {\"color\": \"#EBF0F8\"}, \"line\": {\"color\": \"white\"}}, \"header\": {\"fill\": {\"color\": \"#C8D4E3\"}, \"line\": {\"color\": \"white\"}}, \"type\": \"table\"}]}, \"layout\": {\"annotationdefaults\": {\"arrowcolor\": \"#2a3f5f\", \"arrowhead\": 0, \"arrowwidth\": 1}, \"colorscale\": {\"diverging\": [[0, \"#8e0152\"], [0.1, \"#c51b7d\"], [0.2, \"#de77ae\"], [0.3, \"#f1b6da\"], [0.4, \"#fde0ef\"], [0.5, \"#f7f7f7\"], [0.6, \"#e6f5d0\"], [0.7, \"#b8e186\"], [0.8, \"#7fbc41\"], [0.9, \"#4d9221\"], [1, \"#276419\"]], \"sequential\": [[0.0, \"#0d0887\"], [0.1111111111111111, \"#46039f\"], [0.2222222222222222, \"#7201a8\"], [0.3333333333333333, \"#9c179e\"], [0.4444444444444444, \"#bd3786\"], [0.5555555555555556, \"#d8576b\"], [0.6666666666666666, \"#ed7953\"], [0.7777777777777778, \"#fb9f3a\"], [0.8888888888888888, \"#fdca26\"], [1.0, \"#f0f921\"]], \"sequentialminus\": [[0.0, \"#0d0887\"], [0.1111111111111111, \"#46039f\"], [0.2222222222222222, \"#7201a8\"], [0.3333333333333333, \"#9c179e\"], [0.4444444444444444, \"#bd3786\"], [0.5555555555555556, \"#d8576b\"], [0.6666666666666666, \"#ed7953\"], [0.7777777777777778, \"#fb9f3a\"], [0.8888888888888888, \"#fdca26\"], [1.0, \"#f0f921\"]]}, \"colorway\": [\"#636efa\", \"#EF553B\", \"#00cc96\", \"#ab63fa\", \"#FFA15A\", \"#19d3f3\", \"#FF6692\", \"#B6E880\", \"#FF97FF\", \"#FECB52\"], \"font\": {\"color\": \"#2a3f5f\"}, \"geo\": {\"bgcolor\": \"white\", \"lakecolor\": \"white\", \"landcolor\": \"#E5ECF6\", \"showlakes\": true, \"showland\": true, \"subunitcolor\": \"white\"}, \"hoverlabel\": {\"align\": \"left\"}, \"hovermode\": \"closest\", \"mapbox\": {\"style\": \"light\"}, \"paper_bgcolor\": \"white\", \"plot_bgcolor\": \"#E5ECF6\", \"polar\": {\"angularaxis\": {\"gridcolor\": \"white\", \"linecolor\": \"white\", \"ticks\": \"\"}, \"bgcolor\": \"#E5ECF6\", \"radialaxis\": {\"gridcolor\": \"white\", \"linecolor\": \"white\", \"ticks\": \"\"}}, \"scene\": {\"xaxis\": {\"backgroundcolor\": \"#E5ECF6\", \"gridcolor\": \"white\", \"gridwidth\": 2, \"linecolor\": \"white\", \"showbackground\": true, \"ticks\": \"\", \"zerolinecolor\": \"white\"}, \"yaxis\": {\"backgroundcolor\": \"#E5ECF6\", \"gridcolor\": \"white\", \"gridwidth\": 2, \"linecolor\": \"white\", \"showbackground\": true, \"ticks\": \"\", \"zerolinecolor\": \"white\"}, \"zaxis\": {\"backgroundcolor\": \"#E5ECF6\", \"gridcolor\": \"white\", \"gridwidth\": 2, \"linecolor\": \"white\", \"showbackground\": true, \"ticks\": \"\", \"zerolinecolor\": \"white\"}}, \"shapedefaults\": {\"line\": {\"color\": \"#2a3f5f\"}}, \"ternary\": {\"aaxis\": {\"gridcolor\": \"white\", \"linecolor\": \"white\", \"ticks\": \"\"}, \"baxis\": {\"gridcolor\": \"white\", \"linecolor\": \"white\", \"ticks\": \"\"}, \"bgcolor\": \"#E5ECF6\", \"caxis\": {\"gridcolor\": \"white\", \"linecolor\": \"white\", \"ticks\": \"\"}}, \"title\": {\"x\": 0.05}, \"xaxis\": {\"automargin\": true, \"gridcolor\": \"white\", \"linecolor\": \"white\", \"ticks\": \"\", \"zerolinecolor\": \"white\", \"zerolinewidth\": 2}, \"yaxis\": {\"automargin\": true, \"gridcolor\": \"white\", \"linecolor\": \"white\", \"ticks\": \"\", \"zerolinecolor\": \"white\", \"zerolinewidth\": 2}}}},\n",
       "                        {\"responsive\": true}\n",
       "                    ).then(function(){\n",
       "                            \n",
       "var gd = document.getElementById('9b8bf1a2-3cba-4e24-85d6-94c1829a9ab7');\n",
       "var x = new MutationObserver(function (mutations, observer) {{\n",
       "        var display = window.getComputedStyle(gd).display;\n",
       "        if (!display || display === 'none') {{\n",
       "            console.log([gd, 'removed!']);\n",
       "            Plotly.purge(gd);\n",
       "            observer.disconnect();\n",
       "        }}\n",
       "}});\n",
       "\n",
       "// Listen for the removal of the full notebook cells\n",
       "var notebookContainer = gd.closest('#notebook-container');\n",
       "if (notebookContainer) {{\n",
       "    x.observe(notebookContainer, {childList: true});\n",
       "}}\n",
       "\n",
       "// Listen for the clearing of the current output cell\n",
       "var outputEl = gd.closest('.output');\n",
       "if (outputEl) {{\n",
       "    x.observe(outputEl, {childList: true});\n",
       "}}\n",
       "\n",
       "                        })\n",
       "                };\n",
       "                });\n",
       "            </script>\n",
       "        </div>"
      ]
     },
     "metadata": {},
     "output_type": "display_data"
    }
   ],
   "source": [
    "fig = go.Figure(data=[\n",
    "    go.Bar(name='2000_age', x=id_join['City_Name'], y=id_join['Median_Age_2000']),\n",
    "    go.Bar(name='2010_age', x=id_join['City_Name'], y=id_join['Median_Age_2010']),\n",
    "])\n",
    "fig.update_layout(barmode='group')\n",
    "fig.show()"
   ]
  },
  {
   "cell_type": "markdown",
   "metadata": {},
   "source": [
    "## American Community Servey"
   ]
  },
  {
   "cell_type": "code",
   "execution_count": 39,
   "metadata": {},
   "outputs": [],
   "source": [
    "i = 0\n",
    "acs_years = []\n",
    "for x in range(2012, 2018):\n",
    "    acs_test = c.acs5.state_place(('NAME',\n",
    "                                   'B01003_001E',\n",
    "                                   'B00002_001E',\n",
    "                                   'B09018_007E',\n",
    "                                   'B01002_001E'), states.ID.fips, '*', year=x)\n",
    "    acs_years.append(pd.DataFrame.from_records(acs_test))\n",
    "    acs_years[i] = acs_years[i].rename(columns={\n",
    "        'NAME' : 'City_Name',\n",
    "        'place': 'FIPS',\n",
    "        'B01003_001E': 'Total_Population_{}'.format(x),\n",
    "        'B00002_001E': 'Total_Housing_{}'.format(x),\n",
    "        'B09018_007E': 'Presence_of_Non-Relatives_{}'.format(x),\n",
    "        'B01002_001E': 'Median_Age_{}'.format(x),\n",
    "    })\n",
    "    acs_years[i].set_index('FIPS', inplace=True)\n",
    "    acs_years[i].drop(columns=['City_Name', 'state'], inplace=True)\n",
    "    acs_years[i] = acs_years[i].nlargest(5, 'Total_Population_{}'.format(x))\n",
    "    i = i + 1"
   ]
  },
  {
   "cell_type": "code",
   "execution_count": 40,
   "metadata": {},
   "outputs": [],
   "source": [
    "for x in acs_years:\n",
    "    id_join = id_join.join(x)"
   ]
  },
  {
   "cell_type": "code",
   "execution_count": 41,
   "metadata": {},
   "outputs": [
    {
     "data": {
      "text/html": [
       "<div>\n",
       "<style scoped>\n",
       "    .dataframe tbody tr th:only-of-type {\n",
       "        vertical-align: middle;\n",
       "    }\n",
       "\n",
       "    .dataframe tbody tr th {\n",
       "        vertical-align: top;\n",
       "    }\n",
       "\n",
       "    .dataframe thead th {\n",
       "        text-align: right;\n",
       "    }\n",
       "</style>\n",
       "<table border=\"1\" class=\"dataframe\">\n",
       "  <thead>\n",
       "    <tr style=\"text-align: right;\">\n",
       "      <th></th>\n",
       "      <th>Total_Housing_2000</th>\n",
       "      <th>Occupancy_Status_For_Housing_Units_2000</th>\n",
       "      <th>Vacancy_Status_2000</th>\n",
       "      <th>For_Rent_2000</th>\n",
       "      <th>Rented_Not_Occupied_2000</th>\n",
       "      <th>For_Sale_Only_2000</th>\n",
       "      <th>Sold_Not_Occupied_2000</th>\n",
       "      <th>For_Seasonal_Recreational_Or_Occasional_Use_2000</th>\n",
       "      <th>For_Migrant_Workers_2000</th>\n",
       "      <th>Total_Population_2000</th>\n",
       "      <th>...</th>\n",
       "      <th>Total_Population_2015</th>\n",
       "      <th>Presence_of_Non-Relatives_2015</th>\n",
       "      <th>Total_Housing_2016</th>\n",
       "      <th>Median_Age_2016</th>\n",
       "      <th>Total_Population_2016</th>\n",
       "      <th>Presence_of_Non-Relatives_2016</th>\n",
       "      <th>Total_Housing_2017</th>\n",
       "      <th>Median_Age_2017</th>\n",
       "      <th>Total_Population_2017</th>\n",
       "      <th>Presence_of_Non-Relatives_2017</th>\n",
       "    </tr>\n",
       "    <tr>\n",
       "      <th>FIPS</th>\n",
       "      <th></th>\n",
       "      <th></th>\n",
       "      <th></th>\n",
       "      <th></th>\n",
       "      <th></th>\n",
       "      <th></th>\n",
       "      <th></th>\n",
       "      <th></th>\n",
       "      <th></th>\n",
       "      <th></th>\n",
       "      <th></th>\n",
       "      <th></th>\n",
       "      <th></th>\n",
       "      <th></th>\n",
       "      <th></th>\n",
       "      <th></th>\n",
       "      <th></th>\n",
       "      <th></th>\n",
       "      <th></th>\n",
       "      <th></th>\n",
       "      <th></th>\n",
       "    </tr>\n",
       "  </thead>\n",
       "  <tbody>\n",
       "    <tr>\n",
       "      <th>08830</th>\n",
       "      <td>77850</td>\n",
       "      <td>77850</td>\n",
       "      <td>3412</td>\n",
       "      <td>1463</td>\n",
       "      <td>739</td>\n",
       "      <td>302</td>\n",
       "      <td>353</td>\n",
       "      <td>1</td>\n",
       "      <td>554</td>\n",
       "      <td>185787</td>\n",
       "      <td>...</td>\n",
       "      <td>214196.0</td>\n",
       "      <td>933.0</td>\n",
       "      <td>5859.0</td>\n",
       "      <td>35.8</td>\n",
       "      <td>218677.0</td>\n",
       "      <td>591.0</td>\n",
       "      <td>5814.0</td>\n",
       "      <td>36.0</td>\n",
       "      <td>220859.0</td>\n",
       "      <td>356.0</td>\n",
       "    </tr>\n",
       "    <tr>\n",
       "      <th>56260</th>\n",
       "      <td>19379</td>\n",
       "      <td>19379</td>\n",
       "      <td>1289</td>\n",
       "      <td>448</td>\n",
       "      <td>440</td>\n",
       "      <td>90</td>\n",
       "      <td>57</td>\n",
       "      <td>3</td>\n",
       "      <td>251</td>\n",
       "      <td>51867</td>\n",
       "      <td>...</td>\n",
       "      <td>86203.0</td>\n",
       "      <td>401.0</td>\n",
       "      <td>1703.0</td>\n",
       "      <td>31.1</td>\n",
       "      <td>87896.0</td>\n",
       "      <td>389.0</td>\n",
       "      <td>1707.0</td>\n",
       "      <td>31.4</td>\n",
       "      <td>89576.0</td>\n",
       "      <td>320.0</td>\n",
       "    </tr>\n",
       "    <tr>\n",
       "      <th>64090</th>\n",
       "      <td>20627</td>\n",
       "      <td>20627</td>\n",
       "      <td>1293</td>\n",
       "      <td>556</td>\n",
       "      <td>298</td>\n",
       "      <td>87</td>\n",
       "      <td>84</td>\n",
       "      <td>1</td>\n",
       "      <td>267</td>\n",
       "      <td>51466</td>\n",
       "      <td>...</td>\n",
       "      <td>54549.0</td>\n",
       "      <td>111.0</td>\n",
       "      <td>1797.0</td>\n",
       "      <td>31.4</td>\n",
       "      <td>54592.0</td>\n",
       "      <td>112.0</td>\n",
       "      <td>1763.0</td>\n",
       "      <td>31.6</td>\n",
       "      <td>54658.0</td>\n",
       "      <td>184.0</td>\n",
       "    </tr>\n",
       "    <tr>\n",
       "      <th>39700</th>\n",
       "      <td>19771</td>\n",
       "      <td>19771</td>\n",
       "      <td>978</td>\n",
       "      <td>373</td>\n",
       "      <td>200</td>\n",
       "      <td>82</td>\n",
       "      <td>86</td>\n",
       "      <td>0</td>\n",
       "      <td>237</td>\n",
       "      <td>50730</td>\n",
       "      <td>...</td>\n",
       "      <td>58374.0</td>\n",
       "      <td>130.0</td>\n",
       "      <td>1848.0</td>\n",
       "      <td>33.1</td>\n",
       "      <td>58933.0</td>\n",
       "      <td>161.0</td>\n",
       "      <td>1840.0</td>\n",
       "      <td>33.0</td>\n",
       "      <td>59414.0</td>\n",
       "      <td>297.0</td>\n",
       "    </tr>\n",
       "    <tr>\n",
       "      <th>52120</th>\n",
       "      <td>12293</td>\n",
       "      <td>12293</td>\n",
       "      <td>464</td>\n",
       "      <td>56</td>\n",
       "      <td>276</td>\n",
       "      <td>45</td>\n",
       "      <td>22</td>\n",
       "      <td>0</td>\n",
       "      <td>65</td>\n",
       "      <td>34919</td>\n",
       "      <td>...</td>\n",
       "      <td>84018.0</td>\n",
       "      <td>272.0</td>\n",
       "      <td>1176.0</td>\n",
       "      <td>35.4</td>\n",
       "      <td>88247.0</td>\n",
       "      <td>374.0</td>\n",
       "      <td>1213.0</td>\n",
       "      <td>35.7</td>\n",
       "      <td>91917.0</td>\n",
       "      <td>262.0</td>\n",
       "    </tr>\n",
       "  </tbody>\n",
       "</table>\n",
       "<p>5 rows × 63 columns</p>\n",
       "</div>"
      ],
      "text/plain": [
       "      Total_Housing_2000 Occupancy_Status_For_Housing_Units_2000  \\\n",
       "FIPS                                                               \n",
       "08830              77850                                   77850   \n",
       "56260              19379                                   19379   \n",
       "64090              20627                                   20627   \n",
       "39700              19771                                   19771   \n",
       "52120              12293                                   12293   \n",
       "\n",
       "      Vacancy_Status_2000 For_Rent_2000 Rented_Not_Occupied_2000  \\\n",
       "FIPS                                                               \n",
       "08830                3412          1463                      739   \n",
       "56260                1289           448                      440   \n",
       "64090                1293           556                      298   \n",
       "39700                 978           373                      200   \n",
       "52120                 464            56                      276   \n",
       "\n",
       "      For_Sale_Only_2000 Sold_Not_Occupied_2000  \\\n",
       "FIPS                                              \n",
       "08830                302                    353   \n",
       "56260                 90                     57   \n",
       "64090                 87                     84   \n",
       "39700                 82                     86   \n",
       "52120                 45                     22   \n",
       "\n",
       "      For_Seasonal_Recreational_Or_Occasional_Use_2000  \\\n",
       "FIPS                                                     \n",
       "08830                                                1   \n",
       "56260                                                3   \n",
       "64090                                                1   \n",
       "39700                                                0   \n",
       "52120                                                0   \n",
       "\n",
       "      For_Migrant_Workers_2000  Total_Population_2000  ...  \\\n",
       "FIPS                                                   ...   \n",
       "08830                      554                 185787  ...   \n",
       "56260                      251                  51867  ...   \n",
       "64090                      267                  51466  ...   \n",
       "39700                      237                  50730  ...   \n",
       "52120                       65                  34919  ...   \n",
       "\n",
       "      Total_Population_2015 Presence_of_Non-Relatives_2015 Total_Housing_2016  \\\n",
       "FIPS                                                                            \n",
       "08830              214196.0                          933.0             5859.0   \n",
       "56260               86203.0                          401.0             1703.0   \n",
       "64090               54549.0                          111.0             1797.0   \n",
       "39700               58374.0                          130.0             1848.0   \n",
       "52120               84018.0                          272.0             1176.0   \n",
       "\n",
       "      Median_Age_2016  Total_Population_2016  Presence_of_Non-Relatives_2016  \\\n",
       "FIPS                                                                           \n",
       "08830            35.8               218677.0                           591.0   \n",
       "56260            31.1                87896.0                           389.0   \n",
       "64090            31.4                54592.0                           112.0   \n",
       "39700            33.1                58933.0                           161.0   \n",
       "52120            35.4                88247.0                           374.0   \n",
       "\n",
       "       Total_Housing_2017  Median_Age_2017  Total_Population_2017  \\\n",
       "FIPS                                                                \n",
       "08830              5814.0             36.0               220859.0   \n",
       "56260              1707.0             31.4                89576.0   \n",
       "64090              1763.0             31.6                54658.0   \n",
       "39700              1840.0             33.0                59414.0   \n",
       "52120              1213.0             35.7                91917.0   \n",
       "\n",
       "       Presence_of_Non-Relatives_2017  \n",
       "FIPS                                   \n",
       "08830                           356.0  \n",
       "56260                           320.0  \n",
       "64090                           184.0  \n",
       "39700                           297.0  \n",
       "52120                           262.0  \n",
       "\n",
       "[5 rows x 63 columns]"
      ]
     },
     "execution_count": 41,
     "metadata": {},
     "output_type": "execute_result"
    }
   ],
   "source": [
    "id_join.head()"
   ]
  },
  {
   "cell_type": "code",
   "execution_count": 42,
   "metadata": {},
   "outputs": [
    {
     "data": {
      "application/vnd.plotly.v1+json": {
       "config": {
        "plotlyServerURL": "https://plot.ly"
       },
       "data": [
        {
         "name": "2000_pop",
         "type": "bar",
         "x": [
          "Boise City city, Idaho",
          "Nampa city, Idaho",
          "Pocatello city, Idaho",
          "Idaho Falls city, Idaho",
          "Meridian city, Idaho"
         ],
         "y": [
          185787,
          51867,
          51466,
          50730,
          34919
         ]
        },
        {
         "name": "2010_pop",
         "type": "bar",
         "x": [
          "Boise City city, Idaho",
          "Nampa city, Idaho",
          "Pocatello city, Idaho",
          "Idaho Falls city, Idaho",
          "Meridian city, Idaho"
         ],
         "y": [
          205671,
          81557,
          54255,
          56813,
          75092
         ]
        },
        {
         "name": "2012_pop",
         "type": "bar",
         "x": [
          "Boise City city, Idaho",
          "Nampa city, Idaho",
          "Pocatello city, Idaho",
          "Idaho Falls city, Idaho",
          "Meridian city, Idaho"
         ],
         "y": [
          208332,
          81667,
          54145,
          57021,
          75210
         ]
        },
        {
         "name": "2013_pop",
         "type": "bar",
         "x": [
          "Boise City city, Idaho",
          "Nampa city, Idaho",
          "Pocatello city, Idaho",
          "Idaho Falls city, Idaho",
          "Meridian city, Idaho"
         ],
         "y": [
          209726,
          83140,
          54355,
          57536,
          78061
         ]
        },
        {
         "name": "2014_pop",
         "type": "bar",
         "x": [
          "Boise City city, Idaho",
          "Nampa city, Idaho",
          "Pocatello city, Idaho",
          "Idaho Falls city, Idaho",
          "Meridian city, Idaho"
         ],
         "y": [
          211655,
          84660,
          54466,
          57935,
          81025
         ]
        },
        {
         "name": "2015_pop",
         "type": "bar",
         "x": [
          "Boise City city, Idaho",
          "Nampa city, Idaho",
          "Pocatello city, Idaho",
          "Idaho Falls city, Idaho",
          "Meridian city, Idaho"
         ],
         "y": [
          214196,
          86203,
          54549,
          58374,
          84018
         ]
        },
        {
         "name": "2016_pop",
         "type": "bar",
         "x": [
          "Boise City city, Idaho",
          "Nampa city, Idaho",
          "Pocatello city, Idaho",
          "Idaho Falls city, Idaho",
          "Meridian city, Idaho"
         ],
         "y": [
          218677,
          87896,
          54592,
          58933,
          88247
         ]
        },
        {
         "name": "2017_pop",
         "type": "bar",
         "x": [
          "Boise City city, Idaho",
          "Nampa city, Idaho",
          "Pocatello city, Idaho",
          "Idaho Falls city, Idaho",
          "Meridian city, Idaho"
         ],
         "y": [
          220859,
          89576,
          54658,
          59414,
          91917
         ]
        },
        {
         "name": "2000_housing",
         "type": "bar",
         "x": [
          "Boise City city, Idaho",
          "Nampa city, Idaho",
          "Pocatello city, Idaho",
          "Idaho Falls city, Idaho",
          "Meridian city, Idaho"
         ],
         "y": [
          "77850",
          "19379",
          "20627",
          "19771",
          "12293"
         ]
        },
        {
         "name": "2010_housing",
         "type": "bar",
         "x": [
          "Boise City city, Idaho",
          "Nampa city, Idaho",
          "Pocatello city, Idaho",
          "Idaho Falls city, Idaho",
          "Meridian city, Idaho"
         ],
         "y": [
          92700,
          30507,
          22404,
          22977,
          26674
         ]
        },
        {
         "name": "2012_housing",
         "type": "bar",
         "x": [
          "Boise City city, Idaho",
          "Nampa city, Idaho",
          "Pocatello city, Idaho",
          "Idaho Falls city, Idaho",
          "Meridian city, Idaho"
         ],
         "y": [
          5659,
          1694,
          1686,
          1681,
          1444
         ]
        },
        {
         "name": "2013_housing",
         "type": "bar",
         "x": [
          "Boise City city, Idaho",
          "Nampa city, Idaho",
          "Pocatello city, Idaho",
          "Idaho Falls city, Idaho",
          "Meridian city, Idaho"
         ],
         "y": [
          5617,
          1641,
          1713,
          1708,
          1314
         ]
        },
        {
         "name": "2014_housing",
         "type": "bar",
         "x": [
          "Boise City city, Idaho",
          "Nampa city, Idaho",
          "Pocatello city, Idaho",
          "Idaho Falls city, Idaho",
          "Meridian city, Idaho"
         ],
         "y": [
          5677,
          1613,
          1750,
          1788,
          1197
         ]
        },
        {
         "name": "2015_housing",
         "type": "bar",
         "x": [
          "Boise City city, Idaho",
          "Nampa city, Idaho",
          "Pocatello city, Idaho",
          "Idaho Falls city, Idaho",
          "Meridian city, Idaho"
         ],
         "y": [
          5699,
          1613,
          1819,
          1852,
          1112
         ]
        },
        {
         "name": "2016_housing",
         "type": "bar",
         "x": [
          "Boise City city, Idaho",
          "Nampa city, Idaho",
          "Pocatello city, Idaho",
          "Idaho Falls city, Idaho",
          "Meridian city, Idaho"
         ],
         "y": [
          5859,
          1703,
          1797,
          1848,
          1176
         ]
        },
        {
         "name": "2017_housing",
         "type": "bar",
         "x": [
          "Boise City city, Idaho",
          "Nampa city, Idaho",
          "Pocatello city, Idaho",
          "Idaho Falls city, Idaho",
          "Meridian city, Idaho"
         ],
         "y": [
          5814,
          1707,
          1763,
          1840,
          1213
         ]
        },
        {
         "name": "2000_non-relatives",
         "type": "bar",
         "x": [
          "Boise City city, Idaho",
          "Nampa city, Idaho",
          "Pocatello city, Idaho",
          "Idaho Falls city, Idaho",
          "Meridian city, Idaho"
         ],
         "y": [
          "185787",
          "51867",
          "51466",
          "50730",
          "34919"
         ]
        },
        {
         "name": "2010_non-relatives",
         "type": "bar",
         "x": [
          "Boise City city, Idaho",
          "Nampa city, Idaho",
          "Pocatello city, Idaho",
          "Idaho Falls city, Idaho",
          "Meridian city, Idaho"
         ],
         "y": [
          85704,
          27729,
          20832,
          21203,
          25302
         ]
        },
        {
         "name": "2012_non-relatives",
         "type": "bar",
         "x": [
          "Boise City city, Idaho",
          "Nampa city, Idaho",
          "Pocatello city, Idaho",
          "Idaho Falls city, Idaho",
          "Meridian city, Idaho"
         ],
         "y": [
          1077,
          327,
          95,
          445,
          604
         ]
        },
        {
         "name": "2013_non-relatives",
         "type": "bar",
         "x": [
          "Boise City city, Idaho",
          "Nampa city, Idaho",
          "Pocatello city, Idaho",
          "Idaho Falls city, Idaho",
          "Meridian city, Idaho"
         ],
         "y": [
          994,
          415,
          100,
          469,
          560
         ]
        },
        {
         "name": "2014_non-relatives",
         "type": "bar",
         "x": [
          "Boise City city, Idaho",
          "Nampa city, Idaho",
          "Pocatello city, Idaho",
          "Idaho Falls city, Idaho",
          "Meridian city, Idaho"
         ],
         "y": [
          1009,
          405,
          102,
          247,
          631
         ]
        },
        {
         "name": "2015_non-relatives",
         "type": "bar",
         "x": [
          "Boise City city, Idaho",
          "Nampa city, Idaho",
          "Pocatello city, Idaho",
          "Idaho Falls city, Idaho",
          "Meridian city, Idaho"
         ],
         "y": [
          933,
          401,
          111,
          130,
          272
         ]
        },
        {
         "name": "2016_non-relatives",
         "type": "bar",
         "x": [
          "Boise City city, Idaho",
          "Nampa city, Idaho",
          "Pocatello city, Idaho",
          "Idaho Falls city, Idaho",
          "Meridian city, Idaho"
         ],
         "y": [
          591,
          389,
          112,
          161,
          374
         ]
        },
        {
         "name": "2017_non-relatives",
         "type": "bar",
         "x": [
          "Boise City city, Idaho",
          "Nampa city, Idaho",
          "Pocatello city, Idaho",
          "Idaho Falls city, Idaho",
          "Meridian city, Idaho"
         ],
         "y": [
          356,
          320,
          184,
          297,
          262
         ]
        }
       ],
       "layout": {
        "barmode": "group",
        "template": {
         "data": {
          "bar": [
           {
            "error_x": {
             "color": "#2a3f5f"
            },
            "error_y": {
             "color": "#2a3f5f"
            },
            "marker": {
             "line": {
              "color": "#E5ECF6",
              "width": 0.5
             }
            },
            "type": "bar"
           }
          ],
          "barpolar": [
           {
            "marker": {
             "line": {
              "color": "#E5ECF6",
              "width": 0.5
             }
            },
            "type": "barpolar"
           }
          ],
          "carpet": [
           {
            "aaxis": {
             "endlinecolor": "#2a3f5f",
             "gridcolor": "white",
             "linecolor": "white",
             "minorgridcolor": "white",
             "startlinecolor": "#2a3f5f"
            },
            "baxis": {
             "endlinecolor": "#2a3f5f",
             "gridcolor": "white",
             "linecolor": "white",
             "minorgridcolor": "white",
             "startlinecolor": "#2a3f5f"
            },
            "type": "carpet"
           }
          ],
          "choropleth": [
           {
            "colorbar": {
             "outlinewidth": 0,
             "ticks": ""
            },
            "type": "choropleth"
           }
          ],
          "contour": [
           {
            "colorbar": {
             "outlinewidth": 0,
             "ticks": ""
            },
            "colorscale": [
             [
              0,
              "#0d0887"
             ],
             [
              0.1111111111111111,
              "#46039f"
             ],
             [
              0.2222222222222222,
              "#7201a8"
             ],
             [
              0.3333333333333333,
              "#9c179e"
             ],
             [
              0.4444444444444444,
              "#bd3786"
             ],
             [
              0.5555555555555556,
              "#d8576b"
             ],
             [
              0.6666666666666666,
              "#ed7953"
             ],
             [
              0.7777777777777778,
              "#fb9f3a"
             ],
             [
              0.8888888888888888,
              "#fdca26"
             ],
             [
              1,
              "#f0f921"
             ]
            ],
            "type": "contour"
           }
          ],
          "contourcarpet": [
           {
            "colorbar": {
             "outlinewidth": 0,
             "ticks": ""
            },
            "type": "contourcarpet"
           }
          ],
          "heatmap": [
           {
            "colorbar": {
             "outlinewidth": 0,
             "ticks": ""
            },
            "colorscale": [
             [
              0,
              "#0d0887"
             ],
             [
              0.1111111111111111,
              "#46039f"
             ],
             [
              0.2222222222222222,
              "#7201a8"
             ],
             [
              0.3333333333333333,
              "#9c179e"
             ],
             [
              0.4444444444444444,
              "#bd3786"
             ],
             [
              0.5555555555555556,
              "#d8576b"
             ],
             [
              0.6666666666666666,
              "#ed7953"
             ],
             [
              0.7777777777777778,
              "#fb9f3a"
             ],
             [
              0.8888888888888888,
              "#fdca26"
             ],
             [
              1,
              "#f0f921"
             ]
            ],
            "type": "heatmap"
           }
          ],
          "heatmapgl": [
           {
            "colorbar": {
             "outlinewidth": 0,
             "ticks": ""
            },
            "colorscale": [
             [
              0,
              "#0d0887"
             ],
             [
              0.1111111111111111,
              "#46039f"
             ],
             [
              0.2222222222222222,
              "#7201a8"
             ],
             [
              0.3333333333333333,
              "#9c179e"
             ],
             [
              0.4444444444444444,
              "#bd3786"
             ],
             [
              0.5555555555555556,
              "#d8576b"
             ],
             [
              0.6666666666666666,
              "#ed7953"
             ],
             [
              0.7777777777777778,
              "#fb9f3a"
             ],
             [
              0.8888888888888888,
              "#fdca26"
             ],
             [
              1,
              "#f0f921"
             ]
            ],
            "type": "heatmapgl"
           }
          ],
          "histogram": [
           {
            "marker": {
             "colorbar": {
              "outlinewidth": 0,
              "ticks": ""
             }
            },
            "type": "histogram"
           }
          ],
          "histogram2d": [
           {
            "colorbar": {
             "outlinewidth": 0,
             "ticks": ""
            },
            "colorscale": [
             [
              0,
              "#0d0887"
             ],
             [
              0.1111111111111111,
              "#46039f"
             ],
             [
              0.2222222222222222,
              "#7201a8"
             ],
             [
              0.3333333333333333,
              "#9c179e"
             ],
             [
              0.4444444444444444,
              "#bd3786"
             ],
             [
              0.5555555555555556,
              "#d8576b"
             ],
             [
              0.6666666666666666,
              "#ed7953"
             ],
             [
              0.7777777777777778,
              "#fb9f3a"
             ],
             [
              0.8888888888888888,
              "#fdca26"
             ],
             [
              1,
              "#f0f921"
             ]
            ],
            "type": "histogram2d"
           }
          ],
          "histogram2dcontour": [
           {
            "colorbar": {
             "outlinewidth": 0,
             "ticks": ""
            },
            "colorscale": [
             [
              0,
              "#0d0887"
             ],
             [
              0.1111111111111111,
              "#46039f"
             ],
             [
              0.2222222222222222,
              "#7201a8"
             ],
             [
              0.3333333333333333,
              "#9c179e"
             ],
             [
              0.4444444444444444,
              "#bd3786"
             ],
             [
              0.5555555555555556,
              "#d8576b"
             ],
             [
              0.6666666666666666,
              "#ed7953"
             ],
             [
              0.7777777777777778,
              "#fb9f3a"
             ],
             [
              0.8888888888888888,
              "#fdca26"
             ],
             [
              1,
              "#f0f921"
             ]
            ],
            "type": "histogram2dcontour"
           }
          ],
          "mesh3d": [
           {
            "colorbar": {
             "outlinewidth": 0,
             "ticks": ""
            },
            "type": "mesh3d"
           }
          ],
          "parcoords": [
           {
            "line": {
             "colorbar": {
              "outlinewidth": 0,
              "ticks": ""
             }
            },
            "type": "parcoords"
           }
          ],
          "scatter": [
           {
            "marker": {
             "colorbar": {
              "outlinewidth": 0,
              "ticks": ""
             }
            },
            "type": "scatter"
           }
          ],
          "scatter3d": [
           {
            "line": {
             "colorbar": {
              "outlinewidth": 0,
              "ticks": ""
             }
            },
            "marker": {
             "colorbar": {
              "outlinewidth": 0,
              "ticks": ""
             }
            },
            "type": "scatter3d"
           }
          ],
          "scattercarpet": [
           {
            "marker": {
             "colorbar": {
              "outlinewidth": 0,
              "ticks": ""
             }
            },
            "type": "scattercarpet"
           }
          ],
          "scattergeo": [
           {
            "marker": {
             "colorbar": {
              "outlinewidth": 0,
              "ticks": ""
             }
            },
            "type": "scattergeo"
           }
          ],
          "scattergl": [
           {
            "marker": {
             "colorbar": {
              "outlinewidth": 0,
              "ticks": ""
             }
            },
            "type": "scattergl"
           }
          ],
          "scattermapbox": [
           {
            "marker": {
             "colorbar": {
              "outlinewidth": 0,
              "ticks": ""
             }
            },
            "type": "scattermapbox"
           }
          ],
          "scatterpolar": [
           {
            "marker": {
             "colorbar": {
              "outlinewidth": 0,
              "ticks": ""
             }
            },
            "type": "scatterpolar"
           }
          ],
          "scatterpolargl": [
           {
            "marker": {
             "colorbar": {
              "outlinewidth": 0,
              "ticks": ""
             }
            },
            "type": "scatterpolargl"
           }
          ],
          "scatterternary": [
           {
            "marker": {
             "colorbar": {
              "outlinewidth": 0,
              "ticks": ""
             }
            },
            "type": "scatterternary"
           }
          ],
          "surface": [
           {
            "colorbar": {
             "outlinewidth": 0,
             "ticks": ""
            },
            "colorscale": [
             [
              0,
              "#0d0887"
             ],
             [
              0.1111111111111111,
              "#46039f"
             ],
             [
              0.2222222222222222,
              "#7201a8"
             ],
             [
              0.3333333333333333,
              "#9c179e"
             ],
             [
              0.4444444444444444,
              "#bd3786"
             ],
             [
              0.5555555555555556,
              "#d8576b"
             ],
             [
              0.6666666666666666,
              "#ed7953"
             ],
             [
              0.7777777777777778,
              "#fb9f3a"
             ],
             [
              0.8888888888888888,
              "#fdca26"
             ],
             [
              1,
              "#f0f921"
             ]
            ],
            "type": "surface"
           }
          ],
          "table": [
           {
            "cells": {
             "fill": {
              "color": "#EBF0F8"
             },
             "line": {
              "color": "white"
             }
            },
            "header": {
             "fill": {
              "color": "#C8D4E3"
             },
             "line": {
              "color": "white"
             }
            },
            "type": "table"
           }
          ]
         },
         "layout": {
          "annotationdefaults": {
           "arrowcolor": "#2a3f5f",
           "arrowhead": 0,
           "arrowwidth": 1
          },
          "colorscale": {
           "diverging": [
            [
             0,
             "#8e0152"
            ],
            [
             0.1,
             "#c51b7d"
            ],
            [
             0.2,
             "#de77ae"
            ],
            [
             0.3,
             "#f1b6da"
            ],
            [
             0.4,
             "#fde0ef"
            ],
            [
             0.5,
             "#f7f7f7"
            ],
            [
             0.6,
             "#e6f5d0"
            ],
            [
             0.7,
             "#b8e186"
            ],
            [
             0.8,
             "#7fbc41"
            ],
            [
             0.9,
             "#4d9221"
            ],
            [
             1,
             "#276419"
            ]
           ],
           "sequential": [
            [
             0,
             "#0d0887"
            ],
            [
             0.1111111111111111,
             "#46039f"
            ],
            [
             0.2222222222222222,
             "#7201a8"
            ],
            [
             0.3333333333333333,
             "#9c179e"
            ],
            [
             0.4444444444444444,
             "#bd3786"
            ],
            [
             0.5555555555555556,
             "#d8576b"
            ],
            [
             0.6666666666666666,
             "#ed7953"
            ],
            [
             0.7777777777777778,
             "#fb9f3a"
            ],
            [
             0.8888888888888888,
             "#fdca26"
            ],
            [
             1,
             "#f0f921"
            ]
           ],
           "sequentialminus": [
            [
             0,
             "#0d0887"
            ],
            [
             0.1111111111111111,
             "#46039f"
            ],
            [
             0.2222222222222222,
             "#7201a8"
            ],
            [
             0.3333333333333333,
             "#9c179e"
            ],
            [
             0.4444444444444444,
             "#bd3786"
            ],
            [
             0.5555555555555556,
             "#d8576b"
            ],
            [
             0.6666666666666666,
             "#ed7953"
            ],
            [
             0.7777777777777778,
             "#fb9f3a"
            ],
            [
             0.8888888888888888,
             "#fdca26"
            ],
            [
             1,
             "#f0f921"
            ]
           ]
          },
          "colorway": [
           "#636efa",
           "#EF553B",
           "#00cc96",
           "#ab63fa",
           "#FFA15A",
           "#19d3f3",
           "#FF6692",
           "#B6E880",
           "#FF97FF",
           "#FECB52"
          ],
          "font": {
           "color": "#2a3f5f"
          },
          "geo": {
           "bgcolor": "white",
           "lakecolor": "white",
           "landcolor": "#E5ECF6",
           "showlakes": true,
           "showland": true,
           "subunitcolor": "white"
          },
          "hoverlabel": {
           "align": "left"
          },
          "hovermode": "closest",
          "mapbox": {
           "style": "light"
          },
          "paper_bgcolor": "white",
          "plot_bgcolor": "#E5ECF6",
          "polar": {
           "angularaxis": {
            "gridcolor": "white",
            "linecolor": "white",
            "ticks": ""
           },
           "bgcolor": "#E5ECF6",
           "radialaxis": {
            "gridcolor": "white",
            "linecolor": "white",
            "ticks": ""
           }
          },
          "scene": {
           "xaxis": {
            "backgroundcolor": "#E5ECF6",
            "gridcolor": "white",
            "gridwidth": 2,
            "linecolor": "white",
            "showbackground": true,
            "ticks": "",
            "zerolinecolor": "white"
           },
           "yaxis": {
            "backgroundcolor": "#E5ECF6",
            "gridcolor": "white",
            "gridwidth": 2,
            "linecolor": "white",
            "showbackground": true,
            "ticks": "",
            "zerolinecolor": "white"
           },
           "zaxis": {
            "backgroundcolor": "#E5ECF6",
            "gridcolor": "white",
            "gridwidth": 2,
            "linecolor": "white",
            "showbackground": true,
            "ticks": "",
            "zerolinecolor": "white"
           }
          },
          "shapedefaults": {
           "line": {
            "color": "#2a3f5f"
           }
          },
          "ternary": {
           "aaxis": {
            "gridcolor": "white",
            "linecolor": "white",
            "ticks": ""
           },
           "baxis": {
            "gridcolor": "white",
            "linecolor": "white",
            "ticks": ""
           },
           "bgcolor": "#E5ECF6",
           "caxis": {
            "gridcolor": "white",
            "linecolor": "white",
            "ticks": ""
           }
          },
          "title": {
           "x": 0.05
          },
          "xaxis": {
           "automargin": true,
           "gridcolor": "white",
           "linecolor": "white",
           "ticks": "",
           "zerolinecolor": "white",
           "zerolinewidth": 2
          },
          "yaxis": {
           "automargin": true,
           "gridcolor": "white",
           "linecolor": "white",
           "ticks": "",
           "zerolinecolor": "white",
           "zerolinewidth": 2
          }
         }
        }
       }
      },
      "text/html": [
       "<div>\n",
       "        \n",
       "        \n",
       "            <div id=\"53c932e4-aa6f-4b5e-8312-9c7cce8d7520\" class=\"plotly-graph-div\" style=\"height:525px; width:100%;\"></div>\n",
       "            <script type=\"text/javascript\">\n",
       "                require([\"plotly\"], function(Plotly) {\n",
       "                    window.PLOTLYENV=window.PLOTLYENV || {};\n",
       "                    \n",
       "                if (document.getElementById(\"53c932e4-aa6f-4b5e-8312-9c7cce8d7520\")) {\n",
       "                    Plotly.newPlot(\n",
       "                        '53c932e4-aa6f-4b5e-8312-9c7cce8d7520',\n",
       "                        [{\"name\": \"2000_pop\", \"type\": \"bar\", \"x\": [\"Boise City city, Idaho\", \"Nampa city, Idaho\", \"Pocatello city, Idaho\", \"Idaho Falls city, Idaho\", \"Meridian city, Idaho\"], \"y\": [185787, 51867, 51466, 50730, 34919]}, {\"name\": \"2010_pop\", \"type\": \"bar\", \"x\": [\"Boise City city, Idaho\", \"Nampa city, Idaho\", \"Pocatello city, Idaho\", \"Idaho Falls city, Idaho\", \"Meridian city, Idaho\"], \"y\": [205671.0, 81557.0, 54255.0, 56813.0, 75092.0]}, {\"name\": \"2012_pop\", \"type\": \"bar\", \"x\": [\"Boise City city, Idaho\", \"Nampa city, Idaho\", \"Pocatello city, Idaho\", \"Idaho Falls city, Idaho\", \"Meridian city, Idaho\"], \"y\": [208332.0, 81667.0, 54145.0, 57021.0, 75210.0]}, {\"name\": \"2013_pop\", \"type\": \"bar\", \"x\": [\"Boise City city, Idaho\", \"Nampa city, Idaho\", \"Pocatello city, Idaho\", \"Idaho Falls city, Idaho\", \"Meridian city, Idaho\"], \"y\": [209726.0, 83140.0, 54355.0, 57536.0, 78061.0]}, {\"name\": \"2014_pop\", \"type\": \"bar\", \"x\": [\"Boise City city, Idaho\", \"Nampa city, Idaho\", \"Pocatello city, Idaho\", \"Idaho Falls city, Idaho\", \"Meridian city, Idaho\"], \"y\": [211655.0, 84660.0, 54466.0, 57935.0, 81025.0]}, {\"name\": \"2015_pop\", \"type\": \"bar\", \"x\": [\"Boise City city, Idaho\", \"Nampa city, Idaho\", \"Pocatello city, Idaho\", \"Idaho Falls city, Idaho\", \"Meridian city, Idaho\"], \"y\": [214196.0, 86203.0, 54549.0, 58374.0, 84018.0]}, {\"name\": \"2016_pop\", \"type\": \"bar\", \"x\": [\"Boise City city, Idaho\", \"Nampa city, Idaho\", \"Pocatello city, Idaho\", \"Idaho Falls city, Idaho\", \"Meridian city, Idaho\"], \"y\": [218677.0, 87896.0, 54592.0, 58933.0, 88247.0]}, {\"name\": \"2017_pop\", \"type\": \"bar\", \"x\": [\"Boise City city, Idaho\", \"Nampa city, Idaho\", \"Pocatello city, Idaho\", \"Idaho Falls city, Idaho\", \"Meridian city, Idaho\"], \"y\": [220859.0, 89576.0, 54658.0, 59414.0, 91917.0]}, {\"name\": \"2000_housing\", \"type\": \"bar\", \"x\": [\"Boise City city, Idaho\", \"Nampa city, Idaho\", \"Pocatello city, Idaho\", \"Idaho Falls city, Idaho\", \"Meridian city, Idaho\"], \"y\": [\"77850\", \"19379\", \"20627\", \"19771\", \"12293\"]}, {\"name\": \"2010_housing\", \"type\": \"bar\", \"x\": [\"Boise City city, Idaho\", \"Nampa city, Idaho\", \"Pocatello city, Idaho\", \"Idaho Falls city, Idaho\", \"Meridian city, Idaho\"], \"y\": [92700.0, 30507.0, 22404.0, 22977.0, 26674.0]}, {\"name\": \"2012_housing\", \"type\": \"bar\", \"x\": [\"Boise City city, Idaho\", \"Nampa city, Idaho\", \"Pocatello city, Idaho\", \"Idaho Falls city, Idaho\", \"Meridian city, Idaho\"], \"y\": [5659.0, 1694.0, 1686.0, 1681.0, 1444.0]}, {\"name\": \"2013_housing\", \"type\": \"bar\", \"x\": [\"Boise City city, Idaho\", \"Nampa city, Idaho\", \"Pocatello city, Idaho\", \"Idaho Falls city, Idaho\", \"Meridian city, Idaho\"], \"y\": [5617.0, 1641.0, 1713.0, 1708.0, 1314.0]}, {\"name\": \"2014_housing\", \"type\": \"bar\", \"x\": [\"Boise City city, Idaho\", \"Nampa city, Idaho\", \"Pocatello city, Idaho\", \"Idaho Falls city, Idaho\", \"Meridian city, Idaho\"], \"y\": [5677.0, 1613.0, 1750.0, 1788.0, 1197.0]}, {\"name\": \"2015_housing\", \"type\": \"bar\", \"x\": [\"Boise City city, Idaho\", \"Nampa city, Idaho\", \"Pocatello city, Idaho\", \"Idaho Falls city, Idaho\", \"Meridian city, Idaho\"], \"y\": [5699.0, 1613.0, 1819.0, 1852.0, 1112.0]}, {\"name\": \"2016_housing\", \"type\": \"bar\", \"x\": [\"Boise City city, Idaho\", \"Nampa city, Idaho\", \"Pocatello city, Idaho\", \"Idaho Falls city, Idaho\", \"Meridian city, Idaho\"], \"y\": [5859.0, 1703.0, 1797.0, 1848.0, 1176.0]}, {\"name\": \"2017_housing\", \"type\": \"bar\", \"x\": [\"Boise City city, Idaho\", \"Nampa city, Idaho\", \"Pocatello city, Idaho\", \"Idaho Falls city, Idaho\", \"Meridian city, Idaho\"], \"y\": [5814.0, 1707.0, 1763.0, 1840.0, 1213.0]}, {\"name\": \"2000_non-relatives\", \"type\": \"bar\", \"x\": [\"Boise City city, Idaho\", \"Nampa city, Idaho\", \"Pocatello city, Idaho\", \"Idaho Falls city, Idaho\", \"Meridian city, Idaho\"], \"y\": [\"185787\", \"51867\", \"51466\", \"50730\", \"34919\"]}, {\"name\": \"2010_non-relatives\", \"type\": \"bar\", \"x\": [\"Boise City city, Idaho\", \"Nampa city, Idaho\", \"Pocatello city, Idaho\", \"Idaho Falls city, Idaho\", \"Meridian city, Idaho\"], \"y\": [85704.0, 27729.0, 20832.0, 21203.0, 25302.0]}, {\"name\": \"2012_non-relatives\", \"type\": \"bar\", \"x\": [\"Boise City city, Idaho\", \"Nampa city, Idaho\", \"Pocatello city, Idaho\", \"Idaho Falls city, Idaho\", \"Meridian city, Idaho\"], \"y\": [1077.0, 327.0, 95.0, 445.0, 604.0]}, {\"name\": \"2013_non-relatives\", \"type\": \"bar\", \"x\": [\"Boise City city, Idaho\", \"Nampa city, Idaho\", \"Pocatello city, Idaho\", \"Idaho Falls city, Idaho\", \"Meridian city, Idaho\"], \"y\": [994.0, 415.0, 100.0, 469.0, 560.0]}, {\"name\": \"2014_non-relatives\", \"type\": \"bar\", \"x\": [\"Boise City city, Idaho\", \"Nampa city, Idaho\", \"Pocatello city, Idaho\", \"Idaho Falls city, Idaho\", \"Meridian city, Idaho\"], \"y\": [1009.0, 405.0, 102.0, 247.0, 631.0]}, {\"name\": \"2015_non-relatives\", \"type\": \"bar\", \"x\": [\"Boise City city, Idaho\", \"Nampa city, Idaho\", \"Pocatello city, Idaho\", \"Idaho Falls city, Idaho\", \"Meridian city, Idaho\"], \"y\": [933.0, 401.0, 111.0, 130.0, 272.0]}, {\"name\": \"2016_non-relatives\", \"type\": \"bar\", \"x\": [\"Boise City city, Idaho\", \"Nampa city, Idaho\", \"Pocatello city, Idaho\", \"Idaho Falls city, Idaho\", \"Meridian city, Idaho\"], \"y\": [591.0, 389.0, 112.0, 161.0, 374.0]}, {\"name\": \"2017_non-relatives\", \"type\": \"bar\", \"x\": [\"Boise City city, Idaho\", \"Nampa city, Idaho\", \"Pocatello city, Idaho\", \"Idaho Falls city, Idaho\", \"Meridian city, Idaho\"], \"y\": [356.0, 320.0, 184.0, 297.0, 262.0]}],\n",
       "                        {\"barmode\": \"group\", \"template\": {\"data\": {\"bar\": [{\"error_x\": {\"color\": \"#2a3f5f\"}, \"error_y\": {\"color\": \"#2a3f5f\"}, \"marker\": {\"line\": {\"color\": \"#E5ECF6\", \"width\": 0.5}}, \"type\": \"bar\"}], \"barpolar\": [{\"marker\": {\"line\": {\"color\": \"#E5ECF6\", \"width\": 0.5}}, \"type\": \"barpolar\"}], \"carpet\": [{\"aaxis\": {\"endlinecolor\": \"#2a3f5f\", \"gridcolor\": \"white\", \"linecolor\": \"white\", \"minorgridcolor\": \"white\", \"startlinecolor\": \"#2a3f5f\"}, \"baxis\": {\"endlinecolor\": \"#2a3f5f\", \"gridcolor\": \"white\", \"linecolor\": \"white\", \"minorgridcolor\": \"white\", \"startlinecolor\": \"#2a3f5f\"}, \"type\": \"carpet\"}], \"choropleth\": [{\"colorbar\": {\"outlinewidth\": 0, \"ticks\": \"\"}, \"type\": \"choropleth\"}], \"contour\": [{\"colorbar\": {\"outlinewidth\": 0, \"ticks\": \"\"}, \"colorscale\": [[0.0, \"#0d0887\"], [0.1111111111111111, \"#46039f\"], [0.2222222222222222, \"#7201a8\"], [0.3333333333333333, \"#9c179e\"], [0.4444444444444444, \"#bd3786\"], [0.5555555555555556, \"#d8576b\"], [0.6666666666666666, \"#ed7953\"], [0.7777777777777778, \"#fb9f3a\"], [0.8888888888888888, \"#fdca26\"], [1.0, \"#f0f921\"]], \"type\": \"contour\"}], \"contourcarpet\": [{\"colorbar\": {\"outlinewidth\": 0, \"ticks\": \"\"}, \"type\": \"contourcarpet\"}], \"heatmap\": [{\"colorbar\": {\"outlinewidth\": 0, \"ticks\": \"\"}, \"colorscale\": [[0.0, \"#0d0887\"], [0.1111111111111111, \"#46039f\"], [0.2222222222222222, \"#7201a8\"], [0.3333333333333333, \"#9c179e\"], [0.4444444444444444, \"#bd3786\"], [0.5555555555555556, \"#d8576b\"], [0.6666666666666666, \"#ed7953\"], [0.7777777777777778, \"#fb9f3a\"], [0.8888888888888888, \"#fdca26\"], [1.0, \"#f0f921\"]], \"type\": \"heatmap\"}], \"heatmapgl\": [{\"colorbar\": {\"outlinewidth\": 0, \"ticks\": \"\"}, \"colorscale\": [[0.0, \"#0d0887\"], [0.1111111111111111, \"#46039f\"], [0.2222222222222222, \"#7201a8\"], [0.3333333333333333, \"#9c179e\"], [0.4444444444444444, \"#bd3786\"], [0.5555555555555556, \"#d8576b\"], [0.6666666666666666, \"#ed7953\"], [0.7777777777777778, \"#fb9f3a\"], [0.8888888888888888, \"#fdca26\"], [1.0, \"#f0f921\"]], \"type\": \"heatmapgl\"}], \"histogram\": [{\"marker\": {\"colorbar\": {\"outlinewidth\": 0, \"ticks\": \"\"}}, \"type\": \"histogram\"}], \"histogram2d\": [{\"colorbar\": {\"outlinewidth\": 0, \"ticks\": \"\"}, \"colorscale\": [[0.0, \"#0d0887\"], [0.1111111111111111, \"#46039f\"], [0.2222222222222222, \"#7201a8\"], [0.3333333333333333, \"#9c179e\"], [0.4444444444444444, \"#bd3786\"], [0.5555555555555556, \"#d8576b\"], [0.6666666666666666, \"#ed7953\"], [0.7777777777777778, \"#fb9f3a\"], [0.8888888888888888, \"#fdca26\"], [1.0, \"#f0f921\"]], \"type\": \"histogram2d\"}], \"histogram2dcontour\": [{\"colorbar\": {\"outlinewidth\": 0, \"ticks\": \"\"}, \"colorscale\": [[0.0, \"#0d0887\"], [0.1111111111111111, \"#46039f\"], [0.2222222222222222, \"#7201a8\"], [0.3333333333333333, \"#9c179e\"], [0.4444444444444444, \"#bd3786\"], [0.5555555555555556, \"#d8576b\"], [0.6666666666666666, \"#ed7953\"], [0.7777777777777778, \"#fb9f3a\"], [0.8888888888888888, \"#fdca26\"], [1.0, \"#f0f921\"]], \"type\": \"histogram2dcontour\"}], \"mesh3d\": [{\"colorbar\": {\"outlinewidth\": 0, \"ticks\": \"\"}, \"type\": \"mesh3d\"}], \"parcoords\": [{\"line\": {\"colorbar\": {\"outlinewidth\": 0, \"ticks\": \"\"}}, \"type\": \"parcoords\"}], \"scatter\": [{\"marker\": {\"colorbar\": {\"outlinewidth\": 0, \"ticks\": \"\"}}, \"type\": \"scatter\"}], \"scatter3d\": [{\"line\": {\"colorbar\": {\"outlinewidth\": 0, \"ticks\": \"\"}}, \"marker\": {\"colorbar\": {\"outlinewidth\": 0, \"ticks\": \"\"}}, \"type\": \"scatter3d\"}], \"scattercarpet\": [{\"marker\": {\"colorbar\": {\"outlinewidth\": 0, \"ticks\": \"\"}}, \"type\": \"scattercarpet\"}], \"scattergeo\": [{\"marker\": {\"colorbar\": {\"outlinewidth\": 0, \"ticks\": \"\"}}, \"type\": \"scattergeo\"}], \"scattergl\": [{\"marker\": {\"colorbar\": {\"outlinewidth\": 0, \"ticks\": \"\"}}, \"type\": \"scattergl\"}], \"scattermapbox\": [{\"marker\": {\"colorbar\": {\"outlinewidth\": 0, \"ticks\": \"\"}}, \"type\": \"scattermapbox\"}], \"scatterpolar\": [{\"marker\": {\"colorbar\": {\"outlinewidth\": 0, \"ticks\": \"\"}}, \"type\": \"scatterpolar\"}], \"scatterpolargl\": [{\"marker\": {\"colorbar\": {\"outlinewidth\": 0, \"ticks\": \"\"}}, \"type\": \"scatterpolargl\"}], \"scatterternary\": [{\"marker\": {\"colorbar\": {\"outlinewidth\": 0, \"ticks\": \"\"}}, \"type\": \"scatterternary\"}], \"surface\": [{\"colorbar\": {\"outlinewidth\": 0, \"ticks\": \"\"}, \"colorscale\": [[0.0, \"#0d0887\"], [0.1111111111111111, \"#46039f\"], [0.2222222222222222, \"#7201a8\"], [0.3333333333333333, \"#9c179e\"], [0.4444444444444444, \"#bd3786\"], [0.5555555555555556, \"#d8576b\"], [0.6666666666666666, \"#ed7953\"], [0.7777777777777778, \"#fb9f3a\"], [0.8888888888888888, \"#fdca26\"], [1.0, \"#f0f921\"]], \"type\": \"surface\"}], \"table\": [{\"cells\": {\"fill\": {\"color\": \"#EBF0F8\"}, \"line\": {\"color\": \"white\"}}, \"header\": {\"fill\": {\"color\": \"#C8D4E3\"}, \"line\": {\"color\": \"white\"}}, \"type\": \"table\"}]}, \"layout\": {\"annotationdefaults\": {\"arrowcolor\": \"#2a3f5f\", \"arrowhead\": 0, \"arrowwidth\": 1}, \"colorscale\": {\"diverging\": [[0, \"#8e0152\"], [0.1, \"#c51b7d\"], [0.2, \"#de77ae\"], [0.3, \"#f1b6da\"], [0.4, \"#fde0ef\"], [0.5, \"#f7f7f7\"], [0.6, \"#e6f5d0\"], [0.7, \"#b8e186\"], [0.8, \"#7fbc41\"], [0.9, \"#4d9221\"], [1, \"#276419\"]], \"sequential\": [[0.0, \"#0d0887\"], [0.1111111111111111, \"#46039f\"], [0.2222222222222222, \"#7201a8\"], [0.3333333333333333, \"#9c179e\"], [0.4444444444444444, \"#bd3786\"], [0.5555555555555556, \"#d8576b\"], [0.6666666666666666, \"#ed7953\"], [0.7777777777777778, \"#fb9f3a\"], [0.8888888888888888, \"#fdca26\"], [1.0, \"#f0f921\"]], \"sequentialminus\": [[0.0, \"#0d0887\"], [0.1111111111111111, \"#46039f\"], [0.2222222222222222, \"#7201a8\"], [0.3333333333333333, \"#9c179e\"], [0.4444444444444444, \"#bd3786\"], [0.5555555555555556, \"#d8576b\"], [0.6666666666666666, \"#ed7953\"], [0.7777777777777778, \"#fb9f3a\"], [0.8888888888888888, \"#fdca26\"], [1.0, \"#f0f921\"]]}, \"colorway\": [\"#636efa\", \"#EF553B\", \"#00cc96\", \"#ab63fa\", \"#FFA15A\", \"#19d3f3\", \"#FF6692\", \"#B6E880\", \"#FF97FF\", \"#FECB52\"], \"font\": {\"color\": \"#2a3f5f\"}, \"geo\": {\"bgcolor\": \"white\", \"lakecolor\": \"white\", \"landcolor\": \"#E5ECF6\", \"showlakes\": true, \"showland\": true, \"subunitcolor\": \"white\"}, \"hoverlabel\": {\"align\": \"left\"}, \"hovermode\": \"closest\", \"mapbox\": {\"style\": \"light\"}, \"paper_bgcolor\": \"white\", \"plot_bgcolor\": \"#E5ECF6\", \"polar\": {\"angularaxis\": {\"gridcolor\": \"white\", \"linecolor\": \"white\", \"ticks\": \"\"}, \"bgcolor\": \"#E5ECF6\", \"radialaxis\": {\"gridcolor\": \"white\", \"linecolor\": \"white\", \"ticks\": \"\"}}, \"scene\": {\"xaxis\": {\"backgroundcolor\": \"#E5ECF6\", \"gridcolor\": \"white\", \"gridwidth\": 2, \"linecolor\": \"white\", \"showbackground\": true, \"ticks\": \"\", \"zerolinecolor\": \"white\"}, \"yaxis\": {\"backgroundcolor\": \"#E5ECF6\", \"gridcolor\": \"white\", \"gridwidth\": 2, \"linecolor\": \"white\", \"showbackground\": true, \"ticks\": \"\", \"zerolinecolor\": \"white\"}, \"zaxis\": {\"backgroundcolor\": \"#E5ECF6\", \"gridcolor\": \"white\", \"gridwidth\": 2, \"linecolor\": \"white\", \"showbackground\": true, \"ticks\": \"\", \"zerolinecolor\": \"white\"}}, \"shapedefaults\": {\"line\": {\"color\": \"#2a3f5f\"}}, \"ternary\": {\"aaxis\": {\"gridcolor\": \"white\", \"linecolor\": \"white\", \"ticks\": \"\"}, \"baxis\": {\"gridcolor\": \"white\", \"linecolor\": \"white\", \"ticks\": \"\"}, \"bgcolor\": \"#E5ECF6\", \"caxis\": {\"gridcolor\": \"white\", \"linecolor\": \"white\", \"ticks\": \"\"}}, \"title\": {\"x\": 0.05}, \"xaxis\": {\"automargin\": true, \"gridcolor\": \"white\", \"linecolor\": \"white\", \"ticks\": \"\", \"zerolinecolor\": \"white\", \"zerolinewidth\": 2}, \"yaxis\": {\"automargin\": true, \"gridcolor\": \"white\", \"linecolor\": \"white\", \"ticks\": \"\", \"zerolinecolor\": \"white\", \"zerolinewidth\": 2}}}},\n",
       "                        {\"responsive\": true}\n",
       "                    ).then(function(){\n",
       "                            \n",
       "var gd = document.getElementById('53c932e4-aa6f-4b5e-8312-9c7cce8d7520');\n",
       "var x = new MutationObserver(function (mutations, observer) {{\n",
       "        var display = window.getComputedStyle(gd).display;\n",
       "        if (!display || display === 'none') {{\n",
       "            console.log([gd, 'removed!']);\n",
       "            Plotly.purge(gd);\n",
       "            observer.disconnect();\n",
       "        }}\n",
       "}});\n",
       "\n",
       "// Listen for the removal of the full notebook cells\n",
       "var notebookContainer = gd.closest('#notebook-container');\n",
       "if (notebookContainer) {{\n",
       "    x.observe(notebookContainer, {childList: true});\n",
       "}}\n",
       "\n",
       "// Listen for the clearing of the current output cell\n",
       "var outputEl = gd.closest('.output');\n",
       "if (outputEl) {{\n",
       "    x.observe(outputEl, {childList: true});\n",
       "}}\n",
       "\n",
       "                        })\n",
       "                };\n",
       "                });\n",
       "            </script>\n",
       "        </div>"
      ]
     },
     "metadata": {},
     "output_type": "display_data"
    }
   ],
   "source": [
    "fig = go.Figure(data=[\n",
    "    go.Bar(name='2000_pop', x=id_join['City_Name'], y=id_join['Total_Population_2000']),\n",
    "    go.Bar(name='2010_pop', x=id_join['City_Name'], y=id_join['Total_Population_2010']),\n",
    "    go.Bar(name='2012_pop', x=id_join['City_Name'], y=id_join['Total_Population_2012']),\n",
    "    go.Bar(name='2013_pop', x=id_join['City_Name'], y=id_join['Total_Population_2013']),\n",
    "    go.Bar(name='2014_pop', x=id_join['City_Name'], y=id_join['Total_Population_2014']),\n",
    "    go.Bar(name='2015_pop', x=id_join['City_Name'], y=id_join['Total_Population_2015']),\n",
    "    go.Bar(name='2016_pop', x=id_join['City_Name'], y=id_join['Total_Population_2016']),\n",
    "    go.Bar(name='2017_pop', x=id_join['City_Name'], y=id_join['Total_Population_2017']),\n",
    "    go.Bar(name='2000_housing', x=id_join['City_Name'], y=id_join['Total_Housing_2000']),\n",
    "    go.Bar(name='2010_housing', x=id_join['City_Name'], y=id_join['Total_Housing_2010']),\n",
    "    go.Bar(name='2012_housing', x=id_join['City_Name'], y=id_join['Total_Housing_2012']),\n",
    "    go.Bar(name='2013_housing', x=id_join['City_Name'], y=id_join['Total_Housing_2013']),\n",
    "    go.Bar(name='2014_housing', x=id_join['City_Name'], y=id_join['Total_Housing_2014']),\n",
    "    go.Bar(name='2015_housing', x=id_join['City_Name'], y=id_join['Total_Housing_2015']),\n",
    "    go.Bar(name='2016_housing', x=id_join['City_Name'], y=id_join['Total_Housing_2016']),\n",
    "    go.Bar(name='2017_housing', x=id_join['City_Name'], y=id_join['Total_Housing_2017']),\n",
    "    go.Bar(name='2000_non-relatives', x=id_join['City_Name'], y=id_join['Presence_of_Non-Relatives_2000']),\n",
    "    go.Bar(name='2010_non-relatives', x=id_join['City_Name'], y=id_join['Presence_of_Non-Relatives_2010']),\n",
    "    go.Bar(name='2012_non-relatives', x=id_join['City_Name'], y=id_join['Presence_of_Non-Relatives_2012']),\n",
    "    go.Bar(name='2013_non-relatives', x=id_join['City_Name'], y=id_join['Presence_of_Non-Relatives_2013']),\n",
    "    go.Bar(name='2014_non-relatives', x=id_join['City_Name'], y=id_join['Presence_of_Non-Relatives_2014']),\n",
    "    go.Bar(name='2015_non-relatives', x=id_join['City_Name'], y=id_join['Presence_of_Non-Relatives_2015']),\n",
    "    go.Bar(name='2016_non-relatives', x=id_join['City_Name'], y=id_join['Presence_of_Non-Relatives_2016']),\n",
    "    go.Bar(name='2017_non-relatives', x=id_join['City_Name'], y=id_join['Presence_of_Non-Relatives_2017']),\n",
    "])\n",
    "fig.update_layout(barmode='group')\n",
    "fig.show()"
   ]
  },
  {
   "cell_type": "markdown",
   "metadata": {},
   "source": [
    "**Plot with emissions data**"
   ]
  },
  {
   "cell_type": "code",
   "execution_count": 43,
   "metadata": {},
   "outputs": [
    {
     "data": {
      "application/vnd.plotly.v1+json": {
       "config": {
        "plotlyServerURL": "https://plot.ly"
       },
       "data": [
        {
         "name": "2000_pop",
         "type": "bar",
         "x": [
          "Boise City city, Idaho",
          "Nampa city, Idaho",
          "Pocatello city, Idaho",
          "Idaho Falls city, Idaho",
          "Meridian city, Idaho"
         ],
         "y": [
          185787,
          51867,
          51466,
          50730,
          34919
         ]
        },
        {
         "name": "2010_pop",
         "type": "bar",
         "x": [
          "Boise City city, Idaho",
          "Nampa city, Idaho",
          "Pocatello city, Idaho",
          "Idaho Falls city, Idaho",
          "Meridian city, Idaho"
         ],
         "y": [
          205671,
          81557,
          54255,
          56813,
          75092
         ]
        },
        {
         "name": "2012_pop",
         "type": "bar",
         "x": [
          "Boise City city, Idaho",
          "Nampa city, Idaho",
          "Pocatello city, Idaho",
          "Idaho Falls city, Idaho",
          "Meridian city, Idaho"
         ],
         "y": [
          208332,
          81667,
          54145,
          57021,
          75210
         ]
        },
        {
         "name": "2013_pop",
         "type": "bar",
         "x": [
          "Boise City city, Idaho",
          "Nampa city, Idaho",
          "Pocatello city, Idaho",
          "Idaho Falls city, Idaho",
          "Meridian city, Idaho"
         ],
         "y": [
          209726,
          83140,
          54355,
          57536,
          78061
         ]
        },
        {
         "name": "2014_pop",
         "type": "bar",
         "x": [
          "Boise City city, Idaho",
          "Nampa city, Idaho",
          "Pocatello city, Idaho",
          "Idaho Falls city, Idaho",
          "Meridian city, Idaho"
         ],
         "y": [
          211655,
          84660,
          54466,
          57935,
          81025
         ]
        },
        {
         "name": "2015_pop",
         "type": "bar",
         "x": [
          "Boise City city, Idaho",
          "Nampa city, Idaho",
          "Pocatello city, Idaho",
          "Idaho Falls city, Idaho",
          "Meridian city, Idaho"
         ],
         "y": [
          214196,
          86203,
          54549,
          58374,
          84018
         ]
        },
        {
         "name": "2016_pop",
         "type": "bar",
         "x": [
          "Boise City city, Idaho",
          "Nampa city, Idaho",
          "Pocatello city, Idaho",
          "Idaho Falls city, Idaho",
          "Meridian city, Idaho"
         ],
         "y": [
          218677,
          87896,
          54592,
          58933,
          88247
         ]
        },
        {
         "name": "2017_pop",
         "type": "bar",
         "x": [
          "Boise City city, Idaho",
          "Nampa city, Idaho",
          "Pocatello city, Idaho",
          "Idaho Falls city, Idaho",
          "Meridian city, Idaho"
         ],
         "y": [
          220859,
          89576,
          54658,
          59414,
          91917
         ]
        },
        {
         "name": "2000_housing",
         "type": "bar",
         "x": [
          "Boise City city, Idaho",
          "Nampa city, Idaho",
          "Pocatello city, Idaho",
          "Idaho Falls city, Idaho",
          "Meridian city, Idaho"
         ],
         "y": [
          "77850",
          "19379",
          "20627",
          "19771",
          "12293"
         ]
        },
        {
         "name": "2010_housing",
         "type": "bar",
         "x": [
          "Boise City city, Idaho",
          "Nampa city, Idaho",
          "Pocatello city, Idaho",
          "Idaho Falls city, Idaho",
          "Meridian city, Idaho"
         ],
         "y": [
          92700,
          30507,
          22404,
          22977,
          26674
         ]
        },
        {
         "name": "2012_housing",
         "type": "bar",
         "x": [
          "Boise City city, Idaho",
          "Nampa city, Idaho",
          "Pocatello city, Idaho",
          "Idaho Falls city, Idaho",
          "Meridian city, Idaho"
         ],
         "y": [
          5659,
          1694,
          1686,
          1681,
          1444
         ]
        },
        {
         "name": "2013_housing",
         "type": "bar",
         "x": [
          "Boise City city, Idaho",
          "Nampa city, Idaho",
          "Pocatello city, Idaho",
          "Idaho Falls city, Idaho",
          "Meridian city, Idaho"
         ],
         "y": [
          5617,
          1641,
          1713,
          1708,
          1314
         ]
        },
        {
         "name": "2014_housing",
         "type": "bar",
         "x": [
          "Boise City city, Idaho",
          "Nampa city, Idaho",
          "Pocatello city, Idaho",
          "Idaho Falls city, Idaho",
          "Meridian city, Idaho"
         ],
         "y": [
          5677,
          1613,
          1750,
          1788,
          1197
         ]
        },
        {
         "name": "2015_housing",
         "type": "bar",
         "x": [
          "Boise City city, Idaho",
          "Nampa city, Idaho",
          "Pocatello city, Idaho",
          "Idaho Falls city, Idaho",
          "Meridian city, Idaho"
         ],
         "y": [
          5699,
          1613,
          1819,
          1852,
          1112
         ]
        },
        {
         "name": "2016_housing",
         "type": "bar",
         "x": [
          "Boise City city, Idaho",
          "Nampa city, Idaho",
          "Pocatello city, Idaho",
          "Idaho Falls city, Idaho",
          "Meridian city, Idaho"
         ],
         "y": [
          5859,
          1703,
          1797,
          1848,
          1176
         ]
        },
        {
         "name": "2017_housing",
         "type": "bar",
         "x": [
          "Boise City city, Idaho",
          "Nampa city, Idaho",
          "Pocatello city, Idaho",
          "Idaho Falls city, Idaho",
          "Meridian city, Idaho"
         ],
         "y": [
          5814,
          1707,
          1763,
          1840,
          1213
         ]
        },
        {
         "name": "2000_non-relatives",
         "type": "bar",
         "x": [
          "Boise City city, Idaho",
          "Nampa city, Idaho",
          "Pocatello city, Idaho",
          "Idaho Falls city, Idaho",
          "Meridian city, Idaho"
         ],
         "y": [
          "185787",
          "51867",
          "51466",
          "50730",
          "34919"
         ]
        },
        {
         "name": "2010_non-relatives",
         "type": "bar",
         "x": [
          "Boise City city, Idaho",
          "Nampa city, Idaho",
          "Pocatello city, Idaho",
          "Idaho Falls city, Idaho",
          "Meridian city, Idaho"
         ],
         "y": [
          85704,
          27729,
          20832,
          21203,
          25302
         ]
        },
        {
         "name": "2012_non-relatives",
         "type": "bar",
         "x": [
          "Boise City city, Idaho",
          "Nampa city, Idaho",
          "Pocatello city, Idaho",
          "Idaho Falls city, Idaho",
          "Meridian city, Idaho"
         ],
         "y": [
          1077,
          327,
          95,
          445,
          604
         ]
        },
        {
         "name": "2013_non-relatives",
         "type": "bar",
         "x": [
          "Boise City city, Idaho",
          "Nampa city, Idaho",
          "Pocatello city, Idaho",
          "Idaho Falls city, Idaho",
          "Meridian city, Idaho"
         ],
         "y": [
          994,
          415,
          100,
          469,
          560
         ]
        },
        {
         "name": "2014_non-relatives",
         "type": "bar",
         "x": [
          "Boise City city, Idaho",
          "Nampa city, Idaho",
          "Pocatello city, Idaho",
          "Idaho Falls city, Idaho",
          "Meridian city, Idaho"
         ],
         "y": [
          1009,
          405,
          102,
          247,
          631
         ]
        },
        {
         "name": "2015_non-relatives",
         "type": "bar",
         "x": [
          "Boise City city, Idaho",
          "Nampa city, Idaho",
          "Pocatello city, Idaho",
          "Idaho Falls city, Idaho",
          "Meridian city, Idaho"
         ],
         "y": [
          933,
          401,
          111,
          130,
          272
         ]
        },
        {
         "name": "2016_non-relatives",
         "type": "bar",
         "x": [
          "Boise City city, Idaho",
          "Nampa city, Idaho",
          "Pocatello city, Idaho",
          "Idaho Falls city, Idaho",
          "Meridian city, Idaho"
         ],
         "y": [
          591,
          389,
          112,
          161,
          374
         ]
        },
        {
         "name": "2017_non-relatives",
         "type": "bar",
         "x": [
          "Boise City city, Idaho",
          "Nampa city, Idaho",
          "Pocatello city, Idaho",
          "Idaho Falls city, Idaho",
          "Meridian city, Idaho"
         ],
         "y": [
          356,
          320,
          184,
          297,
          262
         ]
        },
        {
         "name": "2010_direct_emissions",
         "type": "bar",
         "x": [
          "Boise City city, Idaho",
          "Nampa city, Idaho",
          "Pocatello city, Idaho",
          "Idaho Falls city, Idaho",
          "Meridian city, Idaho"
         ],
         "y": [
          165358.696,
          87260.04000000001,
          52242.42,
          4570117.17,
          null
         ]
        },
        {
         "name": "2011_direct_emissions",
         "type": "bar",
         "x": [
          "Boise City city, Idaho",
          "Nampa city, Idaho",
          "Pocatello city, Idaho",
          "Idaho Falls city, Idaho",
          "Meridian city, Idaho"
         ],
         "y": [
          332.346,
          87953.05,
          100342.886,
          4307774.1280000005,
          null
         ]
        },
        {
         "name": "2012_direct_emissions",
         "type": "bar",
         "x": [
          "Boise City city, Idaho",
          "Nampa city, Idaho",
          "Pocatello city, Idaho",
          "Idaho Falls city, Idaho",
          "Meridian city, Idaho"
         ],
         "y": [
          3131.146,
          91498.048,
          88202.054,
          3973294.462,
          null
         ]
        },
        {
         "name": "2013_direct_emissions",
         "type": "bar",
         "x": [
          "Boise City city, Idaho",
          "Nampa city, Idaho",
          "Pocatello city, Idaho",
          "Idaho Falls city, Idaho",
          "Meridian city, Idaho"
         ],
         "y": [
          185263.848,
          113740.07800000001,
          80940.54,
          4215302.2700000005,
          null
         ]
        },
        {
         "name": "2014_direct_emissions",
         "type": "bar",
         "x": [
          "Boise City city, Idaho",
          "Nampa city, Idaho",
          "Pocatello city, Idaho",
          "Idaho Falls city, Idaho",
          "Meridian city, Idaho"
         ],
         "y": [
          139447.448,
          120071.266,
          85232.964638,
          4027233.116,
          null
         ]
        },
        {
         "name": "2015_direct_emissions",
         "type": "bar",
         "x": [
          "Boise City city, Idaho",
          "Nampa city, Idaho",
          "Pocatello city, Idaho",
          "Idaho Falls city, Idaho",
          "Meridian city, Idaho"
         ],
         "y": [
          138760.55,
          123762.918,
          75898.220214,
          4884031.374,
          null
         ]
        },
        {
         "name": "2016_direct_emissions",
         "type": "bar",
         "x": [
          "Boise City city, Idaho",
          "Nampa city, Idaho",
          "Pocatello city, Idaho",
          "Idaho Falls city, Idaho",
          "Meridian city, Idaho"
         ],
         "y": [
          113222.416,
          128147.06599999999,
          66906.213486,
          4468880.876,
          null
         ]
        },
        {
         "name": "2017_direct_emissions",
         "type": "bar",
         "x": [
          "Boise City city, Idaho",
          "Nampa city, Idaho",
          "Pocatello city, Idaho",
          "Idaho Falls city, Idaho",
          "Meridian city, Idaho"
         ],
         "y": [
          76916.076,
          138822.727,
          64418.852668,
          3941550.022,
          null
         ]
        },
        {
         "name": "2018_direct_emissions",
         "type": "bar",
         "x": [
          "Boise City city, Idaho",
          "Nampa city, Idaho",
          "Pocatello city, Idaho",
          "Idaho Falls city, Idaho",
          "Meridian city, Idaho"
         ],
         "y": [
          77435.238,
          140565.7707,
          71841.469426,
          3574040.1240000003,
          null
         ]
        }
       ],
       "layout": {
        "barmode": "group",
        "template": {
         "data": {
          "bar": [
           {
            "error_x": {
             "color": "#2a3f5f"
            },
            "error_y": {
             "color": "#2a3f5f"
            },
            "marker": {
             "line": {
              "color": "#E5ECF6",
              "width": 0.5
             }
            },
            "type": "bar"
           }
          ],
          "barpolar": [
           {
            "marker": {
             "line": {
              "color": "#E5ECF6",
              "width": 0.5
             }
            },
            "type": "barpolar"
           }
          ],
          "carpet": [
           {
            "aaxis": {
             "endlinecolor": "#2a3f5f",
             "gridcolor": "white",
             "linecolor": "white",
             "minorgridcolor": "white",
             "startlinecolor": "#2a3f5f"
            },
            "baxis": {
             "endlinecolor": "#2a3f5f",
             "gridcolor": "white",
             "linecolor": "white",
             "minorgridcolor": "white",
             "startlinecolor": "#2a3f5f"
            },
            "type": "carpet"
           }
          ],
          "choropleth": [
           {
            "colorbar": {
             "outlinewidth": 0,
             "ticks": ""
            },
            "type": "choropleth"
           }
          ],
          "contour": [
           {
            "colorbar": {
             "outlinewidth": 0,
             "ticks": ""
            },
            "colorscale": [
             [
              0,
              "#0d0887"
             ],
             [
              0.1111111111111111,
              "#46039f"
             ],
             [
              0.2222222222222222,
              "#7201a8"
             ],
             [
              0.3333333333333333,
              "#9c179e"
             ],
             [
              0.4444444444444444,
              "#bd3786"
             ],
             [
              0.5555555555555556,
              "#d8576b"
             ],
             [
              0.6666666666666666,
              "#ed7953"
             ],
             [
              0.7777777777777778,
              "#fb9f3a"
             ],
             [
              0.8888888888888888,
              "#fdca26"
             ],
             [
              1,
              "#f0f921"
             ]
            ],
            "type": "contour"
           }
          ],
          "contourcarpet": [
           {
            "colorbar": {
             "outlinewidth": 0,
             "ticks": ""
            },
            "type": "contourcarpet"
           }
          ],
          "heatmap": [
           {
            "colorbar": {
             "outlinewidth": 0,
             "ticks": ""
            },
            "colorscale": [
             [
              0,
              "#0d0887"
             ],
             [
              0.1111111111111111,
              "#46039f"
             ],
             [
              0.2222222222222222,
              "#7201a8"
             ],
             [
              0.3333333333333333,
              "#9c179e"
             ],
             [
              0.4444444444444444,
              "#bd3786"
             ],
             [
              0.5555555555555556,
              "#d8576b"
             ],
             [
              0.6666666666666666,
              "#ed7953"
             ],
             [
              0.7777777777777778,
              "#fb9f3a"
             ],
             [
              0.8888888888888888,
              "#fdca26"
             ],
             [
              1,
              "#f0f921"
             ]
            ],
            "type": "heatmap"
           }
          ],
          "heatmapgl": [
           {
            "colorbar": {
             "outlinewidth": 0,
             "ticks": ""
            },
            "colorscale": [
             [
              0,
              "#0d0887"
             ],
             [
              0.1111111111111111,
              "#46039f"
             ],
             [
              0.2222222222222222,
              "#7201a8"
             ],
             [
              0.3333333333333333,
              "#9c179e"
             ],
             [
              0.4444444444444444,
              "#bd3786"
             ],
             [
              0.5555555555555556,
              "#d8576b"
             ],
             [
              0.6666666666666666,
              "#ed7953"
             ],
             [
              0.7777777777777778,
              "#fb9f3a"
             ],
             [
              0.8888888888888888,
              "#fdca26"
             ],
             [
              1,
              "#f0f921"
             ]
            ],
            "type": "heatmapgl"
           }
          ],
          "histogram": [
           {
            "marker": {
             "colorbar": {
              "outlinewidth": 0,
              "ticks": ""
             }
            },
            "type": "histogram"
           }
          ],
          "histogram2d": [
           {
            "colorbar": {
             "outlinewidth": 0,
             "ticks": ""
            },
            "colorscale": [
             [
              0,
              "#0d0887"
             ],
             [
              0.1111111111111111,
              "#46039f"
             ],
             [
              0.2222222222222222,
              "#7201a8"
             ],
             [
              0.3333333333333333,
              "#9c179e"
             ],
             [
              0.4444444444444444,
              "#bd3786"
             ],
             [
              0.5555555555555556,
              "#d8576b"
             ],
             [
              0.6666666666666666,
              "#ed7953"
             ],
             [
              0.7777777777777778,
              "#fb9f3a"
             ],
             [
              0.8888888888888888,
              "#fdca26"
             ],
             [
              1,
              "#f0f921"
             ]
            ],
            "type": "histogram2d"
           }
          ],
          "histogram2dcontour": [
           {
            "colorbar": {
             "outlinewidth": 0,
             "ticks": ""
            },
            "colorscale": [
             [
              0,
              "#0d0887"
             ],
             [
              0.1111111111111111,
              "#46039f"
             ],
             [
              0.2222222222222222,
              "#7201a8"
             ],
             [
              0.3333333333333333,
              "#9c179e"
             ],
             [
              0.4444444444444444,
              "#bd3786"
             ],
             [
              0.5555555555555556,
              "#d8576b"
             ],
             [
              0.6666666666666666,
              "#ed7953"
             ],
             [
              0.7777777777777778,
              "#fb9f3a"
             ],
             [
              0.8888888888888888,
              "#fdca26"
             ],
             [
              1,
              "#f0f921"
             ]
            ],
            "type": "histogram2dcontour"
           }
          ],
          "mesh3d": [
           {
            "colorbar": {
             "outlinewidth": 0,
             "ticks": ""
            },
            "type": "mesh3d"
           }
          ],
          "parcoords": [
           {
            "line": {
             "colorbar": {
              "outlinewidth": 0,
              "ticks": ""
             }
            },
            "type": "parcoords"
           }
          ],
          "scatter": [
           {
            "marker": {
             "colorbar": {
              "outlinewidth": 0,
              "ticks": ""
             }
            },
            "type": "scatter"
           }
          ],
          "scatter3d": [
           {
            "line": {
             "colorbar": {
              "outlinewidth": 0,
              "ticks": ""
             }
            },
            "marker": {
             "colorbar": {
              "outlinewidth": 0,
              "ticks": ""
             }
            },
            "type": "scatter3d"
           }
          ],
          "scattercarpet": [
           {
            "marker": {
             "colorbar": {
              "outlinewidth": 0,
              "ticks": ""
             }
            },
            "type": "scattercarpet"
           }
          ],
          "scattergeo": [
           {
            "marker": {
             "colorbar": {
              "outlinewidth": 0,
              "ticks": ""
             }
            },
            "type": "scattergeo"
           }
          ],
          "scattergl": [
           {
            "marker": {
             "colorbar": {
              "outlinewidth": 0,
              "ticks": ""
             }
            },
            "type": "scattergl"
           }
          ],
          "scattermapbox": [
           {
            "marker": {
             "colorbar": {
              "outlinewidth": 0,
              "ticks": ""
             }
            },
            "type": "scattermapbox"
           }
          ],
          "scatterpolar": [
           {
            "marker": {
             "colorbar": {
              "outlinewidth": 0,
              "ticks": ""
             }
            },
            "type": "scatterpolar"
           }
          ],
          "scatterpolargl": [
           {
            "marker": {
             "colorbar": {
              "outlinewidth": 0,
              "ticks": ""
             }
            },
            "type": "scatterpolargl"
           }
          ],
          "scatterternary": [
           {
            "marker": {
             "colorbar": {
              "outlinewidth": 0,
              "ticks": ""
             }
            },
            "type": "scatterternary"
           }
          ],
          "surface": [
           {
            "colorbar": {
             "outlinewidth": 0,
             "ticks": ""
            },
            "colorscale": [
             [
              0,
              "#0d0887"
             ],
             [
              0.1111111111111111,
              "#46039f"
             ],
             [
              0.2222222222222222,
              "#7201a8"
             ],
             [
              0.3333333333333333,
              "#9c179e"
             ],
             [
              0.4444444444444444,
              "#bd3786"
             ],
             [
              0.5555555555555556,
              "#d8576b"
             ],
             [
              0.6666666666666666,
              "#ed7953"
             ],
             [
              0.7777777777777778,
              "#fb9f3a"
             ],
             [
              0.8888888888888888,
              "#fdca26"
             ],
             [
              1,
              "#f0f921"
             ]
            ],
            "type": "surface"
           }
          ],
          "table": [
           {
            "cells": {
             "fill": {
              "color": "#EBF0F8"
             },
             "line": {
              "color": "white"
             }
            },
            "header": {
             "fill": {
              "color": "#C8D4E3"
             },
             "line": {
              "color": "white"
             }
            },
            "type": "table"
           }
          ]
         },
         "layout": {
          "annotationdefaults": {
           "arrowcolor": "#2a3f5f",
           "arrowhead": 0,
           "arrowwidth": 1
          },
          "colorscale": {
           "diverging": [
            [
             0,
             "#8e0152"
            ],
            [
             0.1,
             "#c51b7d"
            ],
            [
             0.2,
             "#de77ae"
            ],
            [
             0.3,
             "#f1b6da"
            ],
            [
             0.4,
             "#fde0ef"
            ],
            [
             0.5,
             "#f7f7f7"
            ],
            [
             0.6,
             "#e6f5d0"
            ],
            [
             0.7,
             "#b8e186"
            ],
            [
             0.8,
             "#7fbc41"
            ],
            [
             0.9,
             "#4d9221"
            ],
            [
             1,
             "#276419"
            ]
           ],
           "sequential": [
            [
             0,
             "#0d0887"
            ],
            [
             0.1111111111111111,
             "#46039f"
            ],
            [
             0.2222222222222222,
             "#7201a8"
            ],
            [
             0.3333333333333333,
             "#9c179e"
            ],
            [
             0.4444444444444444,
             "#bd3786"
            ],
            [
             0.5555555555555556,
             "#d8576b"
            ],
            [
             0.6666666666666666,
             "#ed7953"
            ],
            [
             0.7777777777777778,
             "#fb9f3a"
            ],
            [
             0.8888888888888888,
             "#fdca26"
            ],
            [
             1,
             "#f0f921"
            ]
           ],
           "sequentialminus": [
            [
             0,
             "#0d0887"
            ],
            [
             0.1111111111111111,
             "#46039f"
            ],
            [
             0.2222222222222222,
             "#7201a8"
            ],
            [
             0.3333333333333333,
             "#9c179e"
            ],
            [
             0.4444444444444444,
             "#bd3786"
            ],
            [
             0.5555555555555556,
             "#d8576b"
            ],
            [
             0.6666666666666666,
             "#ed7953"
            ],
            [
             0.7777777777777778,
             "#fb9f3a"
            ],
            [
             0.8888888888888888,
             "#fdca26"
            ],
            [
             1,
             "#f0f921"
            ]
           ]
          },
          "colorway": [
           "#636efa",
           "#EF553B",
           "#00cc96",
           "#ab63fa",
           "#FFA15A",
           "#19d3f3",
           "#FF6692",
           "#B6E880",
           "#FF97FF",
           "#FECB52"
          ],
          "font": {
           "color": "#2a3f5f"
          },
          "geo": {
           "bgcolor": "white",
           "lakecolor": "white",
           "landcolor": "#E5ECF6",
           "showlakes": true,
           "showland": true,
           "subunitcolor": "white"
          },
          "hoverlabel": {
           "align": "left"
          },
          "hovermode": "closest",
          "mapbox": {
           "style": "light"
          },
          "paper_bgcolor": "white",
          "plot_bgcolor": "#E5ECF6",
          "polar": {
           "angularaxis": {
            "gridcolor": "white",
            "linecolor": "white",
            "ticks": ""
           },
           "bgcolor": "#E5ECF6",
           "radialaxis": {
            "gridcolor": "white",
            "linecolor": "white",
            "ticks": ""
           }
          },
          "scene": {
           "xaxis": {
            "backgroundcolor": "#E5ECF6",
            "gridcolor": "white",
            "gridwidth": 2,
            "linecolor": "white",
            "showbackground": true,
            "ticks": "",
            "zerolinecolor": "white"
           },
           "yaxis": {
            "backgroundcolor": "#E5ECF6",
            "gridcolor": "white",
            "gridwidth": 2,
            "linecolor": "white",
            "showbackground": true,
            "ticks": "",
            "zerolinecolor": "white"
           },
           "zaxis": {
            "backgroundcolor": "#E5ECF6",
            "gridcolor": "white",
            "gridwidth": 2,
            "linecolor": "white",
            "showbackground": true,
            "ticks": "",
            "zerolinecolor": "white"
           }
          },
          "shapedefaults": {
           "line": {
            "color": "#2a3f5f"
           }
          },
          "ternary": {
           "aaxis": {
            "gridcolor": "white",
            "linecolor": "white",
            "ticks": ""
           },
           "baxis": {
            "gridcolor": "white",
            "linecolor": "white",
            "ticks": ""
           },
           "bgcolor": "#E5ECF6",
           "caxis": {
            "gridcolor": "white",
            "linecolor": "white",
            "ticks": ""
           }
          },
          "title": {
           "x": 0.05
          },
          "xaxis": {
           "automargin": true,
           "gridcolor": "white",
           "linecolor": "white",
           "ticks": "",
           "zerolinecolor": "white",
           "zerolinewidth": 2
          },
          "yaxis": {
           "automargin": true,
           "gridcolor": "white",
           "linecolor": "white",
           "ticks": "",
           "zerolinecolor": "white",
           "zerolinewidth": 2
          }
         }
        }
       }
      },
      "text/html": [
       "<div>\n",
       "        \n",
       "        \n",
       "            <div id=\"9bbc5cbd-9a6b-4adc-b21c-ada61a8968e3\" class=\"plotly-graph-div\" style=\"height:525px; width:100%;\"></div>\n",
       "            <script type=\"text/javascript\">\n",
       "                require([\"plotly\"], function(Plotly) {\n",
       "                    window.PLOTLYENV=window.PLOTLYENV || {};\n",
       "                    \n",
       "                if (document.getElementById(\"9bbc5cbd-9a6b-4adc-b21c-ada61a8968e3\")) {\n",
       "                    Plotly.newPlot(\n",
       "                        '9bbc5cbd-9a6b-4adc-b21c-ada61a8968e3',\n",
       "                        [{\"name\": \"2000_pop\", \"type\": \"bar\", \"x\": [\"Boise City city, Idaho\", \"Nampa city, Idaho\", \"Pocatello city, Idaho\", \"Idaho Falls city, Idaho\", \"Meridian city, Idaho\"], \"y\": [185787, 51867, 51466, 50730, 34919]}, {\"name\": \"2010_pop\", \"type\": \"bar\", \"x\": [\"Boise City city, Idaho\", \"Nampa city, Idaho\", \"Pocatello city, Idaho\", \"Idaho Falls city, Idaho\", \"Meridian city, Idaho\"], \"y\": [205671.0, 81557.0, 54255.0, 56813.0, 75092.0]}, {\"name\": \"2012_pop\", \"type\": \"bar\", \"x\": [\"Boise City city, Idaho\", \"Nampa city, Idaho\", \"Pocatello city, Idaho\", \"Idaho Falls city, Idaho\", \"Meridian city, Idaho\"], \"y\": [208332.0, 81667.0, 54145.0, 57021.0, 75210.0]}, {\"name\": \"2013_pop\", \"type\": \"bar\", \"x\": [\"Boise City city, Idaho\", \"Nampa city, Idaho\", \"Pocatello city, Idaho\", \"Idaho Falls city, Idaho\", \"Meridian city, Idaho\"], \"y\": [209726.0, 83140.0, 54355.0, 57536.0, 78061.0]}, {\"name\": \"2014_pop\", \"type\": \"bar\", \"x\": [\"Boise City city, Idaho\", \"Nampa city, Idaho\", \"Pocatello city, Idaho\", \"Idaho Falls city, Idaho\", \"Meridian city, Idaho\"], \"y\": [211655.0, 84660.0, 54466.0, 57935.0, 81025.0]}, {\"name\": \"2015_pop\", \"type\": \"bar\", \"x\": [\"Boise City city, Idaho\", \"Nampa city, Idaho\", \"Pocatello city, Idaho\", \"Idaho Falls city, Idaho\", \"Meridian city, Idaho\"], \"y\": [214196.0, 86203.0, 54549.0, 58374.0, 84018.0]}, {\"name\": \"2016_pop\", \"type\": \"bar\", \"x\": [\"Boise City city, Idaho\", \"Nampa city, Idaho\", \"Pocatello city, Idaho\", \"Idaho Falls city, Idaho\", \"Meridian city, Idaho\"], \"y\": [218677.0, 87896.0, 54592.0, 58933.0, 88247.0]}, {\"name\": \"2017_pop\", \"type\": \"bar\", \"x\": [\"Boise City city, Idaho\", \"Nampa city, Idaho\", \"Pocatello city, Idaho\", \"Idaho Falls city, Idaho\", \"Meridian city, Idaho\"], \"y\": [220859.0, 89576.0, 54658.0, 59414.0, 91917.0]}, {\"name\": \"2000_housing\", \"type\": \"bar\", \"x\": [\"Boise City city, Idaho\", \"Nampa city, Idaho\", \"Pocatello city, Idaho\", \"Idaho Falls city, Idaho\", \"Meridian city, Idaho\"], \"y\": [\"77850\", \"19379\", \"20627\", \"19771\", \"12293\"]}, {\"name\": \"2010_housing\", \"type\": \"bar\", \"x\": [\"Boise City city, Idaho\", \"Nampa city, Idaho\", \"Pocatello city, Idaho\", \"Idaho Falls city, Idaho\", \"Meridian city, Idaho\"], \"y\": [92700.0, 30507.0, 22404.0, 22977.0, 26674.0]}, {\"name\": \"2012_housing\", \"type\": \"bar\", \"x\": [\"Boise City city, Idaho\", \"Nampa city, Idaho\", \"Pocatello city, Idaho\", \"Idaho Falls city, Idaho\", \"Meridian city, Idaho\"], \"y\": [5659.0, 1694.0, 1686.0, 1681.0, 1444.0]}, {\"name\": \"2013_housing\", \"type\": \"bar\", \"x\": [\"Boise City city, Idaho\", \"Nampa city, Idaho\", \"Pocatello city, Idaho\", \"Idaho Falls city, Idaho\", \"Meridian city, Idaho\"], \"y\": [5617.0, 1641.0, 1713.0, 1708.0, 1314.0]}, {\"name\": \"2014_housing\", \"type\": \"bar\", \"x\": [\"Boise City city, Idaho\", \"Nampa city, Idaho\", \"Pocatello city, Idaho\", \"Idaho Falls city, Idaho\", \"Meridian city, Idaho\"], \"y\": [5677.0, 1613.0, 1750.0, 1788.0, 1197.0]}, {\"name\": \"2015_housing\", \"type\": \"bar\", \"x\": [\"Boise City city, Idaho\", \"Nampa city, Idaho\", \"Pocatello city, Idaho\", \"Idaho Falls city, Idaho\", \"Meridian city, Idaho\"], \"y\": [5699.0, 1613.0, 1819.0, 1852.0, 1112.0]}, {\"name\": \"2016_housing\", \"type\": \"bar\", \"x\": [\"Boise City city, Idaho\", \"Nampa city, Idaho\", \"Pocatello city, Idaho\", \"Idaho Falls city, Idaho\", \"Meridian city, Idaho\"], \"y\": [5859.0, 1703.0, 1797.0, 1848.0, 1176.0]}, {\"name\": \"2017_housing\", \"type\": \"bar\", \"x\": [\"Boise City city, Idaho\", \"Nampa city, Idaho\", \"Pocatello city, Idaho\", \"Idaho Falls city, Idaho\", \"Meridian city, Idaho\"], \"y\": [5814.0, 1707.0, 1763.0, 1840.0, 1213.0]}, {\"name\": \"2000_non-relatives\", \"type\": \"bar\", \"x\": [\"Boise City city, Idaho\", \"Nampa city, Idaho\", \"Pocatello city, Idaho\", \"Idaho Falls city, Idaho\", \"Meridian city, Idaho\"], \"y\": [\"185787\", \"51867\", \"51466\", \"50730\", \"34919\"]}, {\"name\": \"2010_non-relatives\", \"type\": \"bar\", \"x\": [\"Boise City city, Idaho\", \"Nampa city, Idaho\", \"Pocatello city, Idaho\", \"Idaho Falls city, Idaho\", \"Meridian city, Idaho\"], \"y\": [85704.0, 27729.0, 20832.0, 21203.0, 25302.0]}, {\"name\": \"2012_non-relatives\", \"type\": \"bar\", \"x\": [\"Boise City city, Idaho\", \"Nampa city, Idaho\", \"Pocatello city, Idaho\", \"Idaho Falls city, Idaho\", \"Meridian city, Idaho\"], \"y\": [1077.0, 327.0, 95.0, 445.0, 604.0]}, {\"name\": \"2013_non-relatives\", \"type\": \"bar\", \"x\": [\"Boise City city, Idaho\", \"Nampa city, Idaho\", \"Pocatello city, Idaho\", \"Idaho Falls city, Idaho\", \"Meridian city, Idaho\"], \"y\": [994.0, 415.0, 100.0, 469.0, 560.0]}, {\"name\": \"2014_non-relatives\", \"type\": \"bar\", \"x\": [\"Boise City city, Idaho\", \"Nampa city, Idaho\", \"Pocatello city, Idaho\", \"Idaho Falls city, Idaho\", \"Meridian city, Idaho\"], \"y\": [1009.0, 405.0, 102.0, 247.0, 631.0]}, {\"name\": \"2015_non-relatives\", \"type\": \"bar\", \"x\": [\"Boise City city, Idaho\", \"Nampa city, Idaho\", \"Pocatello city, Idaho\", \"Idaho Falls city, Idaho\", \"Meridian city, Idaho\"], \"y\": [933.0, 401.0, 111.0, 130.0, 272.0]}, {\"name\": \"2016_non-relatives\", \"type\": \"bar\", \"x\": [\"Boise City city, Idaho\", \"Nampa city, Idaho\", \"Pocatello city, Idaho\", \"Idaho Falls city, Idaho\", \"Meridian city, Idaho\"], \"y\": [591.0, 389.0, 112.0, 161.0, 374.0]}, {\"name\": \"2017_non-relatives\", \"type\": \"bar\", \"x\": [\"Boise City city, Idaho\", \"Nampa city, Idaho\", \"Pocatello city, Idaho\", \"Idaho Falls city, Idaho\", \"Meridian city, Idaho\"], \"y\": [356.0, 320.0, 184.0, 297.0, 262.0]}, {\"name\": \"2010_direct_emissions\", \"type\": \"bar\", \"x\": [\"Boise City city, Idaho\", \"Nampa city, Idaho\", \"Pocatello city, Idaho\", \"Idaho Falls city, Idaho\", \"Meridian city, Idaho\"], \"y\": [165358.696, 87260.04000000001, 52242.42, 4570117.17, null]}, {\"name\": \"2011_direct_emissions\", \"type\": \"bar\", \"x\": [\"Boise City city, Idaho\", \"Nampa city, Idaho\", \"Pocatello city, Idaho\", \"Idaho Falls city, Idaho\", \"Meridian city, Idaho\"], \"y\": [332.346, 87953.05, 100342.886, 4307774.1280000005, null]}, {\"name\": \"2012_direct_emissions\", \"type\": \"bar\", \"x\": [\"Boise City city, Idaho\", \"Nampa city, Idaho\", \"Pocatello city, Idaho\", \"Idaho Falls city, Idaho\", \"Meridian city, Idaho\"], \"y\": [3131.146, 91498.048, 88202.054, 3973294.462, null]}, {\"name\": \"2013_direct_emissions\", \"type\": \"bar\", \"x\": [\"Boise City city, Idaho\", \"Nampa city, Idaho\", \"Pocatello city, Idaho\", \"Idaho Falls city, Idaho\", \"Meridian city, Idaho\"], \"y\": [185263.848, 113740.07800000001, 80940.54, 4215302.2700000005, null]}, {\"name\": \"2014_direct_emissions\", \"type\": \"bar\", \"x\": [\"Boise City city, Idaho\", \"Nampa city, Idaho\", \"Pocatello city, Idaho\", \"Idaho Falls city, Idaho\", \"Meridian city, Idaho\"], \"y\": [139447.448, 120071.266, 85232.964638, 4027233.116, null]}, {\"name\": \"2015_direct_emissions\", \"type\": \"bar\", \"x\": [\"Boise City city, Idaho\", \"Nampa city, Idaho\", \"Pocatello city, Idaho\", \"Idaho Falls city, Idaho\", \"Meridian city, Idaho\"], \"y\": [138760.55, 123762.918, 75898.220214, 4884031.374, null]}, {\"name\": \"2016_direct_emissions\", \"type\": \"bar\", \"x\": [\"Boise City city, Idaho\", \"Nampa city, Idaho\", \"Pocatello city, Idaho\", \"Idaho Falls city, Idaho\", \"Meridian city, Idaho\"], \"y\": [113222.416, 128147.06599999999, 66906.213486, 4468880.876, null]}, {\"name\": \"2017_direct_emissions\", \"type\": \"bar\", \"x\": [\"Boise City city, Idaho\", \"Nampa city, Idaho\", \"Pocatello city, Idaho\", \"Idaho Falls city, Idaho\", \"Meridian city, Idaho\"], \"y\": [76916.076, 138822.727, 64418.852668, 3941550.022, null]}, {\"name\": \"2018_direct_emissions\", \"type\": \"bar\", \"x\": [\"Boise City city, Idaho\", \"Nampa city, Idaho\", \"Pocatello city, Idaho\", \"Idaho Falls city, Idaho\", \"Meridian city, Idaho\"], \"y\": [77435.238, 140565.7707, 71841.469426, 3574040.1240000003, null]}],\n",
       "                        {\"barmode\": \"group\", \"template\": {\"data\": {\"bar\": [{\"error_x\": {\"color\": \"#2a3f5f\"}, \"error_y\": {\"color\": \"#2a3f5f\"}, \"marker\": {\"line\": {\"color\": \"#E5ECF6\", \"width\": 0.5}}, \"type\": \"bar\"}], \"barpolar\": [{\"marker\": {\"line\": {\"color\": \"#E5ECF6\", \"width\": 0.5}}, \"type\": \"barpolar\"}], \"carpet\": [{\"aaxis\": {\"endlinecolor\": \"#2a3f5f\", \"gridcolor\": \"white\", \"linecolor\": \"white\", \"minorgridcolor\": \"white\", \"startlinecolor\": \"#2a3f5f\"}, \"baxis\": {\"endlinecolor\": \"#2a3f5f\", \"gridcolor\": \"white\", \"linecolor\": \"white\", \"minorgridcolor\": \"white\", \"startlinecolor\": \"#2a3f5f\"}, \"type\": \"carpet\"}], \"choropleth\": [{\"colorbar\": {\"outlinewidth\": 0, \"ticks\": \"\"}, \"type\": \"choropleth\"}], \"contour\": [{\"colorbar\": {\"outlinewidth\": 0, \"ticks\": \"\"}, \"colorscale\": [[0.0, \"#0d0887\"], [0.1111111111111111, \"#46039f\"], [0.2222222222222222, \"#7201a8\"], [0.3333333333333333, \"#9c179e\"], [0.4444444444444444, \"#bd3786\"], [0.5555555555555556, \"#d8576b\"], [0.6666666666666666, \"#ed7953\"], [0.7777777777777778, \"#fb9f3a\"], [0.8888888888888888, \"#fdca26\"], [1.0, \"#f0f921\"]], \"type\": \"contour\"}], \"contourcarpet\": [{\"colorbar\": {\"outlinewidth\": 0, \"ticks\": \"\"}, \"type\": \"contourcarpet\"}], \"heatmap\": [{\"colorbar\": {\"outlinewidth\": 0, \"ticks\": \"\"}, \"colorscale\": [[0.0, \"#0d0887\"], [0.1111111111111111, \"#46039f\"], [0.2222222222222222, \"#7201a8\"], [0.3333333333333333, \"#9c179e\"], [0.4444444444444444, \"#bd3786\"], [0.5555555555555556, \"#d8576b\"], [0.6666666666666666, \"#ed7953\"], [0.7777777777777778, \"#fb9f3a\"], [0.8888888888888888, \"#fdca26\"], [1.0, \"#f0f921\"]], \"type\": \"heatmap\"}], \"heatmapgl\": [{\"colorbar\": {\"outlinewidth\": 0, \"ticks\": \"\"}, \"colorscale\": [[0.0, \"#0d0887\"], [0.1111111111111111, \"#46039f\"], [0.2222222222222222, \"#7201a8\"], [0.3333333333333333, \"#9c179e\"], [0.4444444444444444, \"#bd3786\"], [0.5555555555555556, \"#d8576b\"], [0.6666666666666666, \"#ed7953\"], [0.7777777777777778, \"#fb9f3a\"], [0.8888888888888888, \"#fdca26\"], [1.0, \"#f0f921\"]], \"type\": \"heatmapgl\"}], \"histogram\": [{\"marker\": {\"colorbar\": {\"outlinewidth\": 0, \"ticks\": \"\"}}, \"type\": \"histogram\"}], \"histogram2d\": [{\"colorbar\": {\"outlinewidth\": 0, \"ticks\": \"\"}, \"colorscale\": [[0.0, \"#0d0887\"], [0.1111111111111111, \"#46039f\"], [0.2222222222222222, \"#7201a8\"], [0.3333333333333333, \"#9c179e\"], [0.4444444444444444, \"#bd3786\"], [0.5555555555555556, \"#d8576b\"], [0.6666666666666666, \"#ed7953\"], [0.7777777777777778, \"#fb9f3a\"], [0.8888888888888888, \"#fdca26\"], [1.0, \"#f0f921\"]], \"type\": \"histogram2d\"}], \"histogram2dcontour\": [{\"colorbar\": {\"outlinewidth\": 0, \"ticks\": \"\"}, \"colorscale\": [[0.0, \"#0d0887\"], [0.1111111111111111, \"#46039f\"], [0.2222222222222222, \"#7201a8\"], [0.3333333333333333, \"#9c179e\"], [0.4444444444444444, \"#bd3786\"], [0.5555555555555556, \"#d8576b\"], [0.6666666666666666, \"#ed7953\"], [0.7777777777777778, \"#fb9f3a\"], [0.8888888888888888, \"#fdca26\"], [1.0, \"#f0f921\"]], \"type\": \"histogram2dcontour\"}], \"mesh3d\": [{\"colorbar\": {\"outlinewidth\": 0, \"ticks\": \"\"}, \"type\": \"mesh3d\"}], \"parcoords\": [{\"line\": {\"colorbar\": {\"outlinewidth\": 0, \"ticks\": \"\"}}, \"type\": \"parcoords\"}], \"scatter\": [{\"marker\": {\"colorbar\": {\"outlinewidth\": 0, \"ticks\": \"\"}}, \"type\": \"scatter\"}], \"scatter3d\": [{\"line\": {\"colorbar\": {\"outlinewidth\": 0, \"ticks\": \"\"}}, \"marker\": {\"colorbar\": {\"outlinewidth\": 0, \"ticks\": \"\"}}, \"type\": \"scatter3d\"}], \"scattercarpet\": [{\"marker\": {\"colorbar\": {\"outlinewidth\": 0, \"ticks\": \"\"}}, \"type\": \"scattercarpet\"}], \"scattergeo\": [{\"marker\": {\"colorbar\": {\"outlinewidth\": 0, \"ticks\": \"\"}}, \"type\": \"scattergeo\"}], \"scattergl\": [{\"marker\": {\"colorbar\": {\"outlinewidth\": 0, \"ticks\": \"\"}}, \"type\": \"scattergl\"}], \"scattermapbox\": [{\"marker\": {\"colorbar\": {\"outlinewidth\": 0, \"ticks\": \"\"}}, \"type\": \"scattermapbox\"}], \"scatterpolar\": [{\"marker\": {\"colorbar\": {\"outlinewidth\": 0, \"ticks\": \"\"}}, \"type\": \"scatterpolar\"}], \"scatterpolargl\": [{\"marker\": {\"colorbar\": {\"outlinewidth\": 0, \"ticks\": \"\"}}, \"type\": \"scatterpolargl\"}], \"scatterternary\": [{\"marker\": {\"colorbar\": {\"outlinewidth\": 0, \"ticks\": \"\"}}, \"type\": \"scatterternary\"}], \"surface\": [{\"colorbar\": {\"outlinewidth\": 0, \"ticks\": \"\"}, \"colorscale\": [[0.0, \"#0d0887\"], [0.1111111111111111, \"#46039f\"], [0.2222222222222222, \"#7201a8\"], [0.3333333333333333, \"#9c179e\"], [0.4444444444444444, \"#bd3786\"], [0.5555555555555556, \"#d8576b\"], [0.6666666666666666, \"#ed7953\"], [0.7777777777777778, \"#fb9f3a\"], [0.8888888888888888, \"#fdca26\"], [1.0, \"#f0f921\"]], \"type\": \"surface\"}], \"table\": [{\"cells\": {\"fill\": {\"color\": \"#EBF0F8\"}, \"line\": {\"color\": \"white\"}}, \"header\": {\"fill\": {\"color\": \"#C8D4E3\"}, \"line\": {\"color\": \"white\"}}, \"type\": \"table\"}]}, \"layout\": {\"annotationdefaults\": {\"arrowcolor\": \"#2a3f5f\", \"arrowhead\": 0, \"arrowwidth\": 1}, \"colorscale\": {\"diverging\": [[0, \"#8e0152\"], [0.1, \"#c51b7d\"], [0.2, \"#de77ae\"], [0.3, \"#f1b6da\"], [0.4, \"#fde0ef\"], [0.5, \"#f7f7f7\"], [0.6, \"#e6f5d0\"], [0.7, \"#b8e186\"], [0.8, \"#7fbc41\"], [0.9, \"#4d9221\"], [1, \"#276419\"]], \"sequential\": [[0.0, \"#0d0887\"], [0.1111111111111111, \"#46039f\"], [0.2222222222222222, \"#7201a8\"], [0.3333333333333333, \"#9c179e\"], [0.4444444444444444, \"#bd3786\"], [0.5555555555555556, \"#d8576b\"], [0.6666666666666666, \"#ed7953\"], [0.7777777777777778, \"#fb9f3a\"], [0.8888888888888888, \"#fdca26\"], [1.0, \"#f0f921\"]], \"sequentialminus\": [[0.0, \"#0d0887\"], [0.1111111111111111, \"#46039f\"], [0.2222222222222222, \"#7201a8\"], [0.3333333333333333, \"#9c179e\"], [0.4444444444444444, \"#bd3786\"], [0.5555555555555556, \"#d8576b\"], [0.6666666666666666, \"#ed7953\"], [0.7777777777777778, \"#fb9f3a\"], [0.8888888888888888, \"#fdca26\"], [1.0, \"#f0f921\"]]}, \"colorway\": [\"#636efa\", \"#EF553B\", \"#00cc96\", \"#ab63fa\", \"#FFA15A\", \"#19d3f3\", \"#FF6692\", \"#B6E880\", \"#FF97FF\", \"#FECB52\"], \"font\": {\"color\": \"#2a3f5f\"}, \"geo\": {\"bgcolor\": \"white\", \"lakecolor\": \"white\", \"landcolor\": \"#E5ECF6\", \"showlakes\": true, \"showland\": true, \"subunitcolor\": \"white\"}, \"hoverlabel\": {\"align\": \"left\"}, \"hovermode\": \"closest\", \"mapbox\": {\"style\": \"light\"}, \"paper_bgcolor\": \"white\", \"plot_bgcolor\": \"#E5ECF6\", \"polar\": {\"angularaxis\": {\"gridcolor\": \"white\", \"linecolor\": \"white\", \"ticks\": \"\"}, \"bgcolor\": \"#E5ECF6\", \"radialaxis\": {\"gridcolor\": \"white\", \"linecolor\": \"white\", \"ticks\": \"\"}}, \"scene\": {\"xaxis\": {\"backgroundcolor\": \"#E5ECF6\", \"gridcolor\": \"white\", \"gridwidth\": 2, \"linecolor\": \"white\", \"showbackground\": true, \"ticks\": \"\", \"zerolinecolor\": \"white\"}, \"yaxis\": {\"backgroundcolor\": \"#E5ECF6\", \"gridcolor\": \"white\", \"gridwidth\": 2, \"linecolor\": \"white\", \"showbackground\": true, \"ticks\": \"\", \"zerolinecolor\": \"white\"}, \"zaxis\": {\"backgroundcolor\": \"#E5ECF6\", \"gridcolor\": \"white\", \"gridwidth\": 2, \"linecolor\": \"white\", \"showbackground\": true, \"ticks\": \"\", \"zerolinecolor\": \"white\"}}, \"shapedefaults\": {\"line\": {\"color\": \"#2a3f5f\"}}, \"ternary\": {\"aaxis\": {\"gridcolor\": \"white\", \"linecolor\": \"white\", \"ticks\": \"\"}, \"baxis\": {\"gridcolor\": \"white\", \"linecolor\": \"white\", \"ticks\": \"\"}, \"bgcolor\": \"#E5ECF6\", \"caxis\": {\"gridcolor\": \"white\", \"linecolor\": \"white\", \"ticks\": \"\"}}, \"title\": {\"x\": 0.05}, \"xaxis\": {\"automargin\": true, \"gridcolor\": \"white\", \"linecolor\": \"white\", \"ticks\": \"\", \"zerolinecolor\": \"white\", \"zerolinewidth\": 2}, \"yaxis\": {\"automargin\": true, \"gridcolor\": \"white\", \"linecolor\": \"white\", \"ticks\": \"\", \"zerolinecolor\": \"white\", \"zerolinewidth\": 2}}}},\n",
       "                        {\"responsive\": true}\n",
       "                    ).then(function(){\n",
       "                            \n",
       "var gd = document.getElementById('9bbc5cbd-9a6b-4adc-b21c-ada61a8968e3');\n",
       "var x = new MutationObserver(function (mutations, observer) {{\n",
       "        var display = window.getComputedStyle(gd).display;\n",
       "        if (!display || display === 'none') {{\n",
       "            console.log([gd, 'removed!']);\n",
       "            Plotly.purge(gd);\n",
       "            observer.disconnect();\n",
       "        }}\n",
       "}});\n",
       "\n",
       "// Listen for the removal of the full notebook cells\n",
       "var notebookContainer = gd.closest('#notebook-container');\n",
       "if (notebookContainer) {{\n",
       "    x.observe(notebookContainer, {childList: true});\n",
       "}}\n",
       "\n",
       "// Listen for the clearing of the current output cell\n",
       "var outputEl = gd.closest('.output');\n",
       "if (outputEl) {{\n",
       "    x.observe(outputEl, {childList: true});\n",
       "}}\n",
       "\n",
       "                        })\n",
       "                };\n",
       "                });\n",
       "            </script>\n",
       "        </div>"
      ]
     },
     "metadata": {},
     "output_type": "display_data"
    }
   ],
   "source": [
    "fig = go.Figure(data=[\n",
    "    go.Bar(name='2000_pop', x=id_join['City_Name'], y=id_join['Total_Population_2000']),\n",
    "    go.Bar(name='2010_pop', x=id_join['City_Name'], y=id_join['Total_Population_2010']),\n",
    "    go.Bar(name='2012_pop', x=id_join['City_Name'], y=id_join['Total_Population_2012']),\n",
    "    go.Bar(name='2013_pop', x=id_join['City_Name'], y=id_join['Total_Population_2013']),\n",
    "    go.Bar(name='2014_pop', x=id_join['City_Name'], y=id_join['Total_Population_2014']),\n",
    "    go.Bar(name='2015_pop', x=id_join['City_Name'], y=id_join['Total_Population_2015']),\n",
    "    go.Bar(name='2016_pop', x=id_join['City_Name'], y=id_join['Total_Population_2016']),\n",
    "    go.Bar(name='2017_pop', x=id_join['City_Name'], y=id_join['Total_Population_2017']),\n",
    "    go.Bar(name='2000_housing', x=id_join['City_Name'], y=id_join['Total_Housing_2000']),\n",
    "    go.Bar(name='2010_housing', x=id_join['City_Name'], y=id_join['Total_Housing_2010']),\n",
    "    go.Bar(name='2012_housing', x=id_join['City_Name'], y=id_join['Total_Housing_2012']),\n",
    "    go.Bar(name='2013_housing', x=id_join['City_Name'], y=id_join['Total_Housing_2013']),\n",
    "    go.Bar(name='2014_housing', x=id_join['City_Name'], y=id_join['Total_Housing_2014']),\n",
    "    go.Bar(name='2015_housing', x=id_join['City_Name'], y=id_join['Total_Housing_2015']),\n",
    "    go.Bar(name='2016_housing', x=id_join['City_Name'], y=id_join['Total_Housing_2016']),\n",
    "    go.Bar(name='2017_housing', x=id_join['City_Name'], y=id_join['Total_Housing_2017']),\n",
    "    go.Bar(name='2000_non-relatives', x=id_join['City_Name'], y=id_join['Presence_of_Non-Relatives_2000']),\n",
    "    go.Bar(name='2010_non-relatives', x=id_join['City_Name'], y=id_join['Presence_of_Non-Relatives_2010']),\n",
    "    go.Bar(name='2012_non-relatives', x=id_join['City_Name'], y=id_join['Presence_of_Non-Relatives_2012']),\n",
    "    go.Bar(name='2013_non-relatives', x=id_join['City_Name'], y=id_join['Presence_of_Non-Relatives_2013']),\n",
    "    go.Bar(name='2014_non-relatives', x=id_join['City_Name'], y=id_join['Presence_of_Non-Relatives_2014']),\n",
    "    go.Bar(name='2015_non-relatives', x=id_join['City_Name'], y=id_join['Presence_of_Non-Relatives_2015']),\n",
    "    go.Bar(name='2016_non-relatives', x=id_join['City_Name'], y=id_join['Presence_of_Non-Relatives_2016']),\n",
    "    go.Bar(name='2017_non-relatives', x=id_join['City_Name'], y=id_join['Presence_of_Non-Relatives_2017']),\n",
    "    go.Bar(name='2010_direct_emissions', x=id_join['City_Name'], y=id_join['2010']),\n",
    "    go.Bar(name='2011_direct_emissions', x=id_join['City_Name'], y=id_join['2011']),\n",
    "    go.Bar(name='2012_direct_emissions', x=id_join['City_Name'], y=id_join['2012']),\n",
    "    go.Bar(name='2013_direct_emissions', x=id_join['City_Name'], y=id_join['2013']),\n",
    "    go.Bar(name='2014_direct_emissions', x=id_join['City_Name'], y=id_join['2014']),\n",
    "    go.Bar(name='2015_direct_emissions', x=id_join['City_Name'], y=id_join['2015']),\n",
    "    go.Bar(name='2016_direct_emissions', x=id_join['City_Name'], y=id_join['2016']),\n",
    "    go.Bar(name='2017_direct_emissions', x=id_join['City_Name'], y=id_join['2017']),\n",
    "    go.Bar(name='2018_direct_emissions', x=id_join['City_Name'], y=id_join['2018'])\n",
    "])\n",
    "fig.update_layout(barmode='group')\n",
    "fig.show()"
   ]
  }
 ],
 "metadata": {
  "kernelspec": {
   "display_name": "Python 3",
   "language": "python",
   "name": "python3"
  },
  "language_info": {
   "codemirror_mode": {
    "name": "ipython",
    "version": 3
   },
   "file_extension": ".py",
   "mimetype": "text/x-python",
   "name": "python",
   "nbconvert_exporter": "python",
   "pygments_lexer": "ipython3",
   "version": "3.7.3"
  }
 },
 "nbformat": 4,
 "nbformat_minor": 2
}
