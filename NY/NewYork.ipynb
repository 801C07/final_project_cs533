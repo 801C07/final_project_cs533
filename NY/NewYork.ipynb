{
 "cells": [
  {
   "cell_type": "markdown",
   "metadata": {},
   "source": [
    "# New York -- City Sustainability"
   ]
  },
  {
   "cell_type": "code",
   "execution_count": 1,
   "metadata": {},
   "outputs": [
    {
     "name": "stdout",
     "output_type": "stream",
     "text": [
      "Requirement already satisfied: census in /usr/local/lib/python3.7/site-packages (0.8.13)\n",
      "Requirement already satisfied: us in /usr/local/lib/python3.7/site-packages (1.0.0)\n",
      "Requirement already satisfied: requests>=1.1.0 in /usr/local/lib/python3.7/site-packages (from census) (2.20.1)\n",
      "Requirement already satisfied: future in /usr/local/lib/python3.7/site-packages (from census) (0.17.1)\n",
      "Requirement already satisfied: jellyfish==0.5.6 in /usr/local/lib/python3.7/site-packages (from us) (0.5.6)\n",
      "Requirement already satisfied: chardet<3.1.0,>=3.0.2 in /usr/local/lib/python3.7/site-packages (from requests>=1.1.0->census) (3.0.4)\n",
      "Requirement already satisfied: idna<2.8,>=2.5 in /usr/local/lib/python3.7/site-packages (from requests>=1.1.0->census) (2.7)\n",
      "Requirement already satisfied: certifi>=2017.4.17 in /usr/local/lib/python3.7/site-packages (from requests>=1.1.0->census) (2019.3.9)\n",
      "Requirement already satisfied: urllib3<1.25,>=1.21.1 in /Users/bdw/Library/Python/3.7/lib/python/site-packages (from requests>=1.1.0->census) (1.24.1)\n",
      "Note: you may need to restart the kernel to use updated packages.\n"
     ]
    }
   ],
   "source": [
    "%pip install census us"
   ]
  },
  {
   "cell_type": "code",
   "execution_count": 2,
   "metadata": {},
   "outputs": [],
   "source": [
    "import pandas as pd\n",
    "import seaborn as sns\n",
    "import matplotlib as plt\n",
    "\n",
    "from census import Census\n",
    "from us import states\n",
    "\n",
    "import plotly.graph_objects as go"
   ]
  },
  {
   "cell_type": "code",
   "execution_count": 3,
   "metadata": {},
   "outputs": [],
   "source": [
    "c = Census('fb97753783c42ae57fe1a640e38fe04e921e5d1a')"
   ]
  },
  {
   "cell_type": "markdown",
   "metadata": {},
   "source": [
    "## Get's the 5 largest cities in New York"
   ]
  },
  {
   "cell_type": "code",
   "execution_count": 17,
   "metadata": {},
   "outputs": [],
   "source": [
    "keys = ['NAME' ,'P002001','P002002','P002005','H001001','P013001','H003001','P027001','H005001','H005002','H005003','H005004','H005005','H005006','H005007']\n",
    "\n",
    "renames_2000 = {\n",
    "        'NAME' : 'City_Name',\n",
    "        'place': 'FIPS',\n",
    "        'P002001': 'Total_Population_2000',\n",
    "        'P002002':'Total_Urban_Population_2000',\n",
    "        'P002005':'Total_Rural_Population_2000',\n",
    "        'H001001': 'Total_Housing_2000',\n",
    "        'P013001': 'Median_Age_2000',\n",
    "        'H003001': 'Occupancy_Status_For_Housing_Units_2000',\n",
    "        'P027001': 'Presence_of_Non-Relatives_2000',\n",
    "        'H005001': 'Vacancy_Status_2000',\n",
    "        'H005002': 'For_Rent_2000',\n",
    "        'H005003': 'Rented_Not_Occupied_2000',\n",
    "        'H005004': 'For_Sale_Only_2000',\n",
    "        'H005005': 'Sold_Not_Occupied_2000',\n",
    "        'H005006': 'For_Seasonal_Recreational_Or_Occasional_Use_2000',\n",
    "        'H005007': 'For_Migrant_Workers_2000'\n",
    "}\n",
    "\n",
    "renames_2010 = {\n",
    "        'NAME' : 'City_Name',\n",
    "        'place': 'FIPS',\n",
    "        'P002001': 'Total_Population_2010',\n",
    "        'P002002':'Total_Urban_Population_2010',\n",
    "        'P002005':'Total_Rural_Population_2010',\n",
    "        'H001001': 'Total_Housing_2010',\n",
    "        'P013001': 'Median_Age_2010',\n",
    "        'H003001': 'Occupancy_Status_For_Housing_Units_2010',\n",
    "        'P027001': 'Presence_of_Non-Relatives_2010',\n",
    "        'H005001': 'Vacancy_Status_2010',\n",
    "        'H005002': 'For_Rent_2010',\n",
    "        'H005003': 'Rented_Not_Occupied_2010',\n",
    "        'H005004': 'For_Sale_Only_2010',\n",
    "        'H005005': 'Sold_Not_Occupied_2010',\n",
    "        'H005006': 'For_Seasonal_Recreational_Or_Occasional_Use_2010',\n",
    "        'H005007': 'For_Migrant_Workers_2010'}\n",
    "\n",
    "city_2010 = c.sf1.state_place(keys, states.NY.fips, '*', year=2010)\n",
    "c_pop_2010 = pd.DataFrame.from_records(city_2010)\n",
    "c_pop_2010_50000 = c_pop_2010.rename(columns=renames_2010)"
   ]
  },
  {
   "cell_type": "code",
   "execution_count": 18,
   "metadata": {},
   "outputs": [
    {
     "data": {
      "text/html": [
       "<div>\n",
       "<style scoped>\n",
       "    .dataframe tbody tr th:only-of-type {\n",
       "        vertical-align: middle;\n",
       "    }\n",
       "\n",
       "    .dataframe tbody tr th {\n",
       "        vertical-align: top;\n",
       "    }\n",
       "\n",
       "    .dataframe thead th {\n",
       "        text-align: right;\n",
       "    }\n",
       "</style>\n",
       "<table border=\"1\" class=\"dataframe\">\n",
       "  <thead>\n",
       "    <tr style=\"text-align: right;\">\n",
       "      <th></th>\n",
       "      <th>Total_Housing_2010</th>\n",
       "      <th>Occupancy_Status_For_Housing_Units_2010</th>\n",
       "      <th>Vacancy_Status_2010</th>\n",
       "      <th>For_Rent_2010</th>\n",
       "      <th>Rented_Not_Occupied_2010</th>\n",
       "      <th>For_Sale_Only_2010</th>\n",
       "      <th>Sold_Not_Occupied_2010</th>\n",
       "      <th>For_Seasonal_Recreational_Or_Occasional_Use_2010</th>\n",
       "      <th>For_Migrant_Workers_2010</th>\n",
       "      <th>City_Name</th>\n",
       "      <th>Total_Population_2010</th>\n",
       "      <th>Total_Urban_Population_2010</th>\n",
       "      <th>Total_Rural_Population_2010</th>\n",
       "      <th>Median_Age_2010</th>\n",
       "      <th>Presence_of_Non-Relatives_2010</th>\n",
       "      <th>FIPS</th>\n",
       "      <th>state</th>\n",
       "    </tr>\n",
       "  </thead>\n",
       "  <tbody>\n",
       "    <tr>\n",
       "      <th>0</th>\n",
       "      <td>265.0</td>\n",
       "      <td>265.0</td>\n",
       "      <td>49.0</td>\n",
       "      <td>9.0</td>\n",
       "      <td>0.0</td>\n",
       "      <td>9.0</td>\n",
       "      <td>6.0</td>\n",
       "      <td>13.0</td>\n",
       "      <td>0.0</td>\n",
       "      <td>Accord CDP, New York</td>\n",
       "      <td>562.0</td>\n",
       "      <td>0.0</td>\n",
       "      <td>562.0</td>\n",
       "      <td>40.3</td>\n",
       "      <td>216.0</td>\n",
       "      <td>00155</td>\n",
       "      <td>36</td>\n",
       "    </tr>\n",
       "    <tr>\n",
       "      <th>1</th>\n",
       "      <td>793.0</td>\n",
       "      <td>793.0</td>\n",
       "      <td>54.0</td>\n",
       "      <td>17.0</td>\n",
       "      <td>0.0</td>\n",
       "      <td>2.0</td>\n",
       "      <td>3.0</td>\n",
       "      <td>10.0</td>\n",
       "      <td>0.0</td>\n",
       "      <td>Adams village, New York</td>\n",
       "      <td>1775.0</td>\n",
       "      <td>1669.0</td>\n",
       "      <td>106.0</td>\n",
       "      <td>35.6</td>\n",
       "      <td>739.0</td>\n",
       "      <td>00199</td>\n",
       "      <td>36</td>\n",
       "    </tr>\n",
       "    <tr>\n",
       "      <th>2</th>\n",
       "      <td>629.0</td>\n",
       "      <td>629.0</td>\n",
       "      <td>38.0</td>\n",
       "      <td>10.0</td>\n",
       "      <td>1.0</td>\n",
       "      <td>5.0</td>\n",
       "      <td>2.0</td>\n",
       "      <td>5.0</td>\n",
       "      <td>0.0</td>\n",
       "      <td>Adams Center CDP, New York</td>\n",
       "      <td>1568.0</td>\n",
       "      <td>701.0</td>\n",
       "      <td>867.0</td>\n",
       "      <td>38.2</td>\n",
       "      <td>591.0</td>\n",
       "      <td>00232</td>\n",
       "      <td>36</td>\n",
       "    </tr>\n",
       "    <tr>\n",
       "      <th>3</th>\n",
       "      <td>770.0</td>\n",
       "      <td>770.0</td>\n",
       "      <td>73.0</td>\n",
       "      <td>22.0</td>\n",
       "      <td>4.0</td>\n",
       "      <td>10.0</td>\n",
       "      <td>0.0</td>\n",
       "      <td>12.0</td>\n",
       "      <td>0.0</td>\n",
       "      <td>Addison village, New York</td>\n",
       "      <td>1763.0</td>\n",
       "      <td>0.0</td>\n",
       "      <td>1763.0</td>\n",
       "      <td>36.7</td>\n",
       "      <td>697.0</td>\n",
       "      <td>00276</td>\n",
       "      <td>36</td>\n",
       "    </tr>\n",
       "    <tr>\n",
       "      <th>4</th>\n",
       "      <td>430.0</td>\n",
       "      <td>430.0</td>\n",
       "      <td>46.0</td>\n",
       "      <td>8.0</td>\n",
       "      <td>0.0</td>\n",
       "      <td>12.0</td>\n",
       "      <td>0.0</td>\n",
       "      <td>9.0</td>\n",
       "      <td>0.0</td>\n",
       "      <td>Afton village, New York</td>\n",
       "      <td>822.0</td>\n",
       "      <td>0.0</td>\n",
       "      <td>822.0</td>\n",
       "      <td>42.9</td>\n",
       "      <td>384.0</td>\n",
       "      <td>00342</td>\n",
       "      <td>36</td>\n",
       "    </tr>\n",
       "  </tbody>\n",
       "</table>\n",
       "</div>"
      ],
      "text/plain": [
       "   Total_Housing_2010  Occupancy_Status_For_Housing_Units_2010  \\\n",
       "0               265.0                                    265.0   \n",
       "1               793.0                                    793.0   \n",
       "2               629.0                                    629.0   \n",
       "3               770.0                                    770.0   \n",
       "4               430.0                                    430.0   \n",
       "\n",
       "   Vacancy_Status_2010  For_Rent_2010  Rented_Not_Occupied_2010  \\\n",
       "0                 49.0            9.0                       0.0   \n",
       "1                 54.0           17.0                       0.0   \n",
       "2                 38.0           10.0                       1.0   \n",
       "3                 73.0           22.0                       4.0   \n",
       "4                 46.0            8.0                       0.0   \n",
       "\n",
       "   For_Sale_Only_2010  Sold_Not_Occupied_2010  \\\n",
       "0                 9.0                     6.0   \n",
       "1                 2.0                     3.0   \n",
       "2                 5.0                     2.0   \n",
       "3                10.0                     0.0   \n",
       "4                12.0                     0.0   \n",
       "\n",
       "   For_Seasonal_Recreational_Or_Occasional_Use_2010  For_Migrant_Workers_2010  \\\n",
       "0                                              13.0                       0.0   \n",
       "1                                              10.0                       0.0   \n",
       "2                                               5.0                       0.0   \n",
       "3                                              12.0                       0.0   \n",
       "4                                               9.0                       0.0   \n",
       "\n",
       "                    City_Name  Total_Population_2010  \\\n",
       "0        Accord CDP, New York                  562.0   \n",
       "1     Adams village, New York                 1775.0   \n",
       "2  Adams Center CDP, New York                 1568.0   \n",
       "3   Addison village, New York                 1763.0   \n",
       "4     Afton village, New York                  822.0   \n",
       "\n",
       "   Total_Urban_Population_2010  Total_Rural_Population_2010  Median_Age_2010  \\\n",
       "0                          0.0                        562.0             40.3   \n",
       "1                       1669.0                        106.0             35.6   \n",
       "2                        701.0                        867.0             38.2   \n",
       "3                          0.0                       1763.0             36.7   \n",
       "4                          0.0                        822.0             42.9   \n",
       "\n",
       "   Presence_of_Non-Relatives_2010   FIPS state  \n",
       "0                           216.0  00155    36  \n",
       "1                           739.0  00199    36  \n",
       "2                           591.0  00232    36  \n",
       "3                           697.0  00276    36  \n",
       "4                           384.0  00342    36  "
      ]
     },
     "execution_count": 18,
     "metadata": {},
     "output_type": "execute_result"
    }
   ],
   "source": [
    "c_pop_2010_50000.head()"
   ]
  },
  {
   "cell_type": "code",
   "execution_count": 19,
   "metadata": {},
   "outputs": [],
   "source": [
    "city_2000 = c.sf1.state_place(keys, states.NY.fips, '*', year=2000)\n",
    "c_pop_2000 = pd.DataFrame.from_records(city_2000)\n",
    "c_pop_2000_50000 = c_pop_2000.rename(columns=renames_2000)"
   ]
  },
  {
   "cell_type": "code",
   "execution_count": 20,
   "metadata": {},
   "outputs": [],
   "source": [
    "c_pop_2000_50000.drop(columns=['City_Name', 'state'], inplace=True)"
   ]
  },
  {
   "cell_type": "code",
   "execution_count": 21,
   "metadata": {},
   "outputs": [
    {
     "data": {
      "text/html": [
       "<div>\n",
       "<style scoped>\n",
       "    .dataframe tbody tr th:only-of-type {\n",
       "        vertical-align: middle;\n",
       "    }\n",
       "\n",
       "    .dataframe tbody tr th {\n",
       "        vertical-align: top;\n",
       "    }\n",
       "\n",
       "    .dataframe thead th {\n",
       "        text-align: right;\n",
       "    }\n",
       "</style>\n",
       "<table border=\"1\" class=\"dataframe\">\n",
       "  <thead>\n",
       "    <tr style=\"text-align: right;\">\n",
       "      <th></th>\n",
       "      <th>Total_Housing_2000</th>\n",
       "      <th>Occupancy_Status_For_Housing_Units_2000</th>\n",
       "      <th>Vacancy_Status_2000</th>\n",
       "      <th>For_Rent_2000</th>\n",
       "      <th>Rented_Not_Occupied_2000</th>\n",
       "      <th>For_Sale_Only_2000</th>\n",
       "      <th>Sold_Not_Occupied_2000</th>\n",
       "      <th>For_Seasonal_Recreational_Or_Occasional_Use_2000</th>\n",
       "      <th>For_Migrant_Workers_2000</th>\n",
       "      <th>Total_Population_2000</th>\n",
       "      <th>Total_Urban_Population_2000</th>\n",
       "      <th>Total_Rural_Population_2000</th>\n",
       "      <th>Median_Age_2000</th>\n",
       "      <th>Presence_of_Non-Relatives_2000</th>\n",
       "      <th>FIPS</th>\n",
       "    </tr>\n",
       "  </thead>\n",
       "  <tbody>\n",
       "    <tr>\n",
       "      <th>0</th>\n",
       "      <td>1158</td>\n",
       "      <td>1158</td>\n",
       "      <td>86</td>\n",
       "      <td>41</td>\n",
       "      <td>11</td>\n",
       "      <td>8</td>\n",
       "      <td>8</td>\n",
       "      <td>0</td>\n",
       "      <td>18</td>\n",
       "      <td>2597</td>\n",
       "      <td>0</td>\n",
       "      <td>0</td>\n",
       "      <td>35.9</td>\n",
       "      <td>2597</td>\n",
       "      <td>03001</td>\n",
       "    </tr>\n",
       "    <tr>\n",
       "      <th>1</th>\n",
       "      <td>823</td>\n",
       "      <td>823</td>\n",
       "      <td>107</td>\n",
       "      <td>31</td>\n",
       "      <td>14</td>\n",
       "      <td>10</td>\n",
       "      <td>20</td>\n",
       "      <td>0</td>\n",
       "      <td>32</td>\n",
       "      <td>1699</td>\n",
       "      <td>0</td>\n",
       "      <td>0</td>\n",
       "      <td>37.1</td>\n",
       "      <td>1699</td>\n",
       "      <td>20346</td>\n",
       "    </tr>\n",
       "    <tr>\n",
       "      <th>2</th>\n",
       "      <td>1018</td>\n",
       "      <td>1018</td>\n",
       "      <td>103</td>\n",
       "      <td>44</td>\n",
       "      <td>18</td>\n",
       "      <td>2</td>\n",
       "      <td>3</td>\n",
       "      <td>0</td>\n",
       "      <td>36</td>\n",
       "      <td>2166</td>\n",
       "      <td>0</td>\n",
       "      <td>0</td>\n",
       "      <td>41.2</td>\n",
       "      <td>2166</td>\n",
       "      <td>20731</td>\n",
       "    </tr>\n",
       "    <tr>\n",
       "      <th>3</th>\n",
       "      <td>329</td>\n",
       "      <td>329</td>\n",
       "      <td>31</td>\n",
       "      <td>6</td>\n",
       "      <td>9</td>\n",
       "      <td>3</td>\n",
       "      <td>4</td>\n",
       "      <td>0</td>\n",
       "      <td>9</td>\n",
       "      <td>791</td>\n",
       "      <td>0</td>\n",
       "      <td>0</td>\n",
       "      <td>38.3</td>\n",
       "      <td>791</td>\n",
       "      <td>21523</td>\n",
       "    </tr>\n",
       "    <tr>\n",
       "      <th>4</th>\n",
       "      <td>5564</td>\n",
       "      <td>5564</td>\n",
       "      <td>550</td>\n",
       "      <td>287</td>\n",
       "      <td>90</td>\n",
       "      <td>47</td>\n",
       "      <td>29</td>\n",
       "      <td>2</td>\n",
       "      <td>95</td>\n",
       "      <td>13617</td>\n",
       "      <td>0</td>\n",
       "      <td>0</td>\n",
       "      <td>31.8</td>\n",
       "      <td>13617</td>\n",
       "      <td>28640</td>\n",
       "    </tr>\n",
       "  </tbody>\n",
       "</table>\n",
       "</div>"
      ],
      "text/plain": [
       "  Total_Housing_2000 Occupancy_Status_For_Housing_Units_2000  \\\n",
       "0               1158                                    1158   \n",
       "1                823                                     823   \n",
       "2               1018                                    1018   \n",
       "3                329                                     329   \n",
       "4               5564                                    5564   \n",
       "\n",
       "  Vacancy_Status_2000 For_Rent_2000 Rented_Not_Occupied_2000  \\\n",
       "0                  86            41                       11   \n",
       "1                 107            31                       14   \n",
       "2                 103            44                       18   \n",
       "3                  31             6                        9   \n",
       "4                 550           287                       90   \n",
       "\n",
       "  For_Sale_Only_2000 Sold_Not_Occupied_2000  \\\n",
       "0                  8                      8   \n",
       "1                 10                     20   \n",
       "2                  2                      3   \n",
       "3                  3                      4   \n",
       "4                 47                     29   \n",
       "\n",
       "  For_Seasonal_Recreational_Or_Occasional_Use_2000 For_Migrant_Workers_2000  \\\n",
       "0                                                0                       18   \n",
       "1                                                0                       32   \n",
       "2                                                0                       36   \n",
       "3                                                0                        9   \n",
       "4                                                2                       95   \n",
       "\n",
       "  Total_Population_2000 Total_Urban_Population_2000  \\\n",
       "0                  2597                           0   \n",
       "1                  1699                           0   \n",
       "2                  2166                           0   \n",
       "3                   791                           0   \n",
       "4                 13617                           0   \n",
       "\n",
       "  Total_Rural_Population_2000 Median_Age_2000 Presence_of_Non-Relatives_2000  \\\n",
       "0                           0            35.9                           2597   \n",
       "1                           0            37.1                           1699   \n",
       "2                           0            41.2                           2166   \n",
       "3                           0            38.3                            791   \n",
       "4                           0            31.8                          13617   \n",
       "\n",
       "    FIPS  \n",
       "0  03001  \n",
       "1  20346  \n",
       "2  20731  \n",
       "3  21523  \n",
       "4  28640  "
      ]
     },
     "execution_count": 21,
     "metadata": {},
     "output_type": "execute_result"
    }
   ],
   "source": [
    "c_pop_2000_50000.head()"
   ]
  },
  {
   "cell_type": "code",
   "execution_count": 22,
   "metadata": {},
   "outputs": [],
   "source": [
    "c_pop_2000_50000.set_index('FIPS', inplace=True)\n",
    "c_pop_2010_50000.set_index('FIPS', inplace=True)"
   ]
  },
  {
   "cell_type": "code",
   "execution_count": 23,
   "metadata": {},
   "outputs": [],
   "source": [
    "ny_join = c_pop_2000_50000.join(c_pop_2010_50000, on='FIPS')"
   ]
  },
  {
   "cell_type": "code",
   "execution_count": 24,
   "metadata": {},
   "outputs": [
    {
     "data": {
      "text/html": [
       "<div>\n",
       "<style scoped>\n",
       "    .dataframe tbody tr th:only-of-type {\n",
       "        vertical-align: middle;\n",
       "    }\n",
       "\n",
       "    .dataframe tbody tr th {\n",
       "        vertical-align: top;\n",
       "    }\n",
       "\n",
       "    .dataframe thead th {\n",
       "        text-align: right;\n",
       "    }\n",
       "</style>\n",
       "<table border=\"1\" class=\"dataframe\">\n",
       "  <thead>\n",
       "    <tr style=\"text-align: right;\">\n",
       "      <th></th>\n",
       "      <th>Total_Housing_2000</th>\n",
       "      <th>Occupancy_Status_For_Housing_Units_2000</th>\n",
       "      <th>Vacancy_Status_2000</th>\n",
       "      <th>For_Rent_2000</th>\n",
       "      <th>Rented_Not_Occupied_2000</th>\n",
       "      <th>For_Sale_Only_2000</th>\n",
       "      <th>Sold_Not_Occupied_2000</th>\n",
       "      <th>For_Seasonal_Recreational_Or_Occasional_Use_2000</th>\n",
       "      <th>For_Migrant_Workers_2000</th>\n",
       "      <th>Total_Population_2000</th>\n",
       "      <th>...</th>\n",
       "      <th>Sold_Not_Occupied_2010</th>\n",
       "      <th>For_Seasonal_Recreational_Or_Occasional_Use_2010</th>\n",
       "      <th>For_Migrant_Workers_2010</th>\n",
       "      <th>City_Name</th>\n",
       "      <th>Total_Population_2010</th>\n",
       "      <th>Total_Urban_Population_2010</th>\n",
       "      <th>Total_Rural_Population_2010</th>\n",
       "      <th>Median_Age_2010</th>\n",
       "      <th>Presence_of_Non-Relatives_2010</th>\n",
       "      <th>state</th>\n",
       "    </tr>\n",
       "    <tr>\n",
       "      <th>FIPS</th>\n",
       "      <th></th>\n",
       "      <th></th>\n",
       "      <th></th>\n",
       "      <th></th>\n",
       "      <th></th>\n",
       "      <th></th>\n",
       "      <th></th>\n",
       "      <th></th>\n",
       "      <th></th>\n",
       "      <th></th>\n",
       "      <th></th>\n",
       "      <th></th>\n",
       "      <th></th>\n",
       "      <th></th>\n",
       "      <th></th>\n",
       "      <th></th>\n",
       "      <th></th>\n",
       "      <th></th>\n",
       "      <th></th>\n",
       "      <th></th>\n",
       "      <th></th>\n",
       "    </tr>\n",
       "  </thead>\n",
       "  <tbody>\n",
       "    <tr>\n",
       "      <th>03001</th>\n",
       "      <td>1158</td>\n",
       "      <td>1158</td>\n",
       "      <td>86</td>\n",
       "      <td>41</td>\n",
       "      <td>11</td>\n",
       "      <td>8</td>\n",
       "      <td>8</td>\n",
       "      <td>0</td>\n",
       "      <td>18</td>\n",
       "      <td>2597</td>\n",
       "      <td>...</td>\n",
       "      <td>1.0</td>\n",
       "      <td>9.0</td>\n",
       "      <td>0.0</td>\n",
       "      <td>Attica village, New York</td>\n",
       "      <td>2547.0</td>\n",
       "      <td>2409.0</td>\n",
       "      <td>138.0</td>\n",
       "      <td>38.1</td>\n",
       "      <td>1066.0</td>\n",
       "      <td>36</td>\n",
       "    </tr>\n",
       "    <tr>\n",
       "      <th>20346</th>\n",
       "      <td>823</td>\n",
       "      <td>823</td>\n",
       "      <td>107</td>\n",
       "      <td>31</td>\n",
       "      <td>14</td>\n",
       "      <td>10</td>\n",
       "      <td>20</td>\n",
       "      <td>0</td>\n",
       "      <td>32</td>\n",
       "      <td>1699</td>\n",
       "      <td>...</td>\n",
       "      <td>5.0</td>\n",
       "      <td>40.0</td>\n",
       "      <td>0.0</td>\n",
       "      <td>Deposit village, New York</td>\n",
       "      <td>1663.0</td>\n",
       "      <td>0.0</td>\n",
       "      <td>1663.0</td>\n",
       "      <td>40.0</td>\n",
       "      <td>679.0</td>\n",
       "      <td>36</td>\n",
       "    </tr>\n",
       "    <tr>\n",
       "      <th>20731</th>\n",
       "      <td>1018</td>\n",
       "      <td>1018</td>\n",
       "      <td>103</td>\n",
       "      <td>44</td>\n",
       "      <td>18</td>\n",
       "      <td>2</td>\n",
       "      <td>3</td>\n",
       "      <td>0</td>\n",
       "      <td>36</td>\n",
       "      <td>2166</td>\n",
       "      <td>...</td>\n",
       "      <td>9.0</td>\n",
       "      <td>11.0</td>\n",
       "      <td>2.0</td>\n",
       "      <td>Dolgeville village, New York</td>\n",
       "      <td>2206.0</td>\n",
       "      <td>0.0</td>\n",
       "      <td>2206.0</td>\n",
       "      <td>39.8</td>\n",
       "      <td>943.0</td>\n",
       "      <td>36</td>\n",
       "    </tr>\n",
       "    <tr>\n",
       "      <th>21523</th>\n",
       "      <td>329</td>\n",
       "      <td>329</td>\n",
       "      <td>31</td>\n",
       "      <td>6</td>\n",
       "      <td>9</td>\n",
       "      <td>3</td>\n",
       "      <td>4</td>\n",
       "      <td>0</td>\n",
       "      <td>9</td>\n",
       "      <td>791</td>\n",
       "      <td>...</td>\n",
       "      <td>0.0</td>\n",
       "      <td>8.0</td>\n",
       "      <td>0.0</td>\n",
       "      <td>Earlville village, New York</td>\n",
       "      <td>872.0</td>\n",
       "      <td>0.0</td>\n",
       "      <td>872.0</td>\n",
       "      <td>40.6</td>\n",
       "      <td>354.0</td>\n",
       "      <td>36</td>\n",
       "    </tr>\n",
       "    <tr>\n",
       "      <th>28640</th>\n",
       "      <td>5564</td>\n",
       "      <td>5564</td>\n",
       "      <td>550</td>\n",
       "      <td>287</td>\n",
       "      <td>90</td>\n",
       "      <td>47</td>\n",
       "      <td>29</td>\n",
       "      <td>2</td>\n",
       "      <td>95</td>\n",
       "      <td>13617</td>\n",
       "      <td>...</td>\n",
       "      <td>17.0</td>\n",
       "      <td>39.0</td>\n",
       "      <td>1.0</td>\n",
       "      <td>Geneva city, New York</td>\n",
       "      <td>13261.0</td>\n",
       "      <td>13261.0</td>\n",
       "      <td>0.0</td>\n",
       "      <td>31.7</td>\n",
       "      <td>4936.0</td>\n",
       "      <td>36</td>\n",
       "    </tr>\n",
       "  </tbody>\n",
       "</table>\n",
       "<p>5 rows × 30 columns</p>\n",
       "</div>"
      ],
      "text/plain": [
       "      Total_Housing_2000 Occupancy_Status_For_Housing_Units_2000  \\\n",
       "FIPS                                                               \n",
       "03001               1158                                    1158   \n",
       "20346                823                                     823   \n",
       "20731               1018                                    1018   \n",
       "21523                329                                     329   \n",
       "28640               5564                                    5564   \n",
       "\n",
       "      Vacancy_Status_2000 For_Rent_2000 Rented_Not_Occupied_2000  \\\n",
       "FIPS                                                               \n",
       "03001                  86            41                       11   \n",
       "20346                 107            31                       14   \n",
       "20731                 103            44                       18   \n",
       "21523                  31             6                        9   \n",
       "28640                 550           287                       90   \n",
       "\n",
       "      For_Sale_Only_2000 Sold_Not_Occupied_2000  \\\n",
       "FIPS                                              \n",
       "03001                  8                      8   \n",
       "20346                 10                     20   \n",
       "20731                  2                      3   \n",
       "21523                  3                      4   \n",
       "28640                 47                     29   \n",
       "\n",
       "      For_Seasonal_Recreational_Or_Occasional_Use_2000  \\\n",
       "FIPS                                                     \n",
       "03001                                                0   \n",
       "20346                                                0   \n",
       "20731                                                0   \n",
       "21523                                                0   \n",
       "28640                                                2   \n",
       "\n",
       "      For_Migrant_Workers_2000 Total_Population_2000  ...  \\\n",
       "FIPS                                                  ...   \n",
       "03001                       18                  2597  ...   \n",
       "20346                       32                  1699  ...   \n",
       "20731                       36                  2166  ...   \n",
       "21523                        9                   791  ...   \n",
       "28640                       95                 13617  ...   \n",
       "\n",
       "      Sold_Not_Occupied_2010 For_Seasonal_Recreational_Or_Occasional_Use_2010  \\\n",
       "FIPS                                                                            \n",
       "03001                    1.0                                              9.0   \n",
       "20346                    5.0                                             40.0   \n",
       "20731                    9.0                                             11.0   \n",
       "21523                    0.0                                              8.0   \n",
       "28640                   17.0                                             39.0   \n",
       "\n",
       "      For_Migrant_Workers_2010                     City_Name  \\\n",
       "FIPS                                                           \n",
       "03001                      0.0      Attica village, New York   \n",
       "20346                      0.0     Deposit village, New York   \n",
       "20731                      2.0  Dolgeville village, New York   \n",
       "21523                      0.0   Earlville village, New York   \n",
       "28640                      1.0         Geneva city, New York   \n",
       "\n",
       "       Total_Population_2010  Total_Urban_Population_2010  \\\n",
       "FIPS                                                        \n",
       "03001                 2547.0                       2409.0   \n",
       "20346                 1663.0                          0.0   \n",
       "20731                 2206.0                          0.0   \n",
       "21523                  872.0                          0.0   \n",
       "28640                13261.0                      13261.0   \n",
       "\n",
       "       Total_Rural_Population_2010  Median_Age_2010  \\\n",
       "FIPS                                                  \n",
       "03001                        138.0             38.1   \n",
       "20346                       1663.0             40.0   \n",
       "20731                       2206.0             39.8   \n",
       "21523                        872.0             40.6   \n",
       "28640                          0.0             31.7   \n",
       "\n",
       "       Presence_of_Non-Relatives_2010  state  \n",
       "FIPS                                          \n",
       "03001                          1066.0     36  \n",
       "20346                           679.0     36  \n",
       "20731                           943.0     36  \n",
       "21523                           354.0     36  \n",
       "28640                          4936.0     36  \n",
       "\n",
       "[5 rows x 30 columns]"
      ]
     },
     "execution_count": 24,
     "metadata": {},
     "output_type": "execute_result"
    }
   ],
   "source": [
    "ny_join.head()"
   ]
  },
  {
   "cell_type": "code",
   "execution_count": 25,
   "metadata": {},
   "outputs": [],
   "source": [
    "ny_join['Total_Population_2000'] = ny_join['Total_Population_2000'].astype('i8')"
   ]
  },
  {
   "cell_type": "code",
   "execution_count": 26,
   "metadata": {},
   "outputs": [],
   "source": [
    "ny_join = ny_join.nlargest(5, 'Total_Population_2000')"
   ]
  },
  {
   "cell_type": "code",
   "execution_count": 27,
   "metadata": {},
   "outputs": [
    {
     "data": {
      "application/vnd.plotly.v1+json": {
       "config": {
        "plotlyServerURL": "https://plot.ly"
       },
       "data": [
        {
         "name": "2000_pop",
         "type": "bar",
         "x": [
          "New York city, New York",
          "Buffalo city, New York",
          "Rochester city, New York",
          "Yonkers city, New York",
          "Syracuse city, New York"
         ],
         "y": [
          8008278,
          292648,
          219773,
          196086,
          147306
         ]
        },
        {
         "name": "2010_pop",
         "type": "bar",
         "x": [
          "New York city, New York",
          "Buffalo city, New York",
          "Rochester city, New York",
          "Yonkers city, New York",
          "Syracuse city, New York"
         ],
         "y": [
          8175133,
          261310,
          210565,
          195976,
          145170
         ]
        },
        {
         "name": "2000_housing",
         "type": "bar",
         "x": [
          "New York city, New York",
          "Buffalo city, New York",
          "Rochester city, New York",
          "Yonkers city, New York",
          "Syracuse city, New York"
         ],
         "y": [
          "3200912",
          "145574",
          "99789",
          "77589",
          "68192"
         ]
        },
        {
         "name": "2010_housing",
         "type": "bar",
         "x": [
          "New York city, New York",
          "Buffalo city, New York",
          "Rochester city, New York",
          "Yonkers city, New York",
          "Syracuse city, New York"
         ],
         "y": [
          3371062,
          133444,
          97158,
          80389,
          64356
         ]
        },
        {
         "name": "2000_non-relatives",
         "type": "bar",
         "x": [
          "New York city, New York",
          "Buffalo city, New York",
          "Rochester city, New York",
          "Yonkers city, New York",
          "Syracuse city, New York"
         ],
         "y": [
          "8008278",
          "292648",
          "219773",
          "196086",
          "147306"
         ]
        },
        {
         "name": "2010_non-relatives",
         "type": "bar",
         "x": [
          "New York city, New York",
          "Buffalo city, New York",
          "Rochester city, New York",
          "Yonkers city, New York",
          "Syracuse city, New York"
         ],
         "y": [
          3109784,
          112536,
          87027,
          74550,
          57355
         ]
        }
       ],
       "layout": {
        "barmode": "group",
        "template": {
         "data": {
          "bar": [
           {
            "error_x": {
             "color": "#2a3f5f"
            },
            "error_y": {
             "color": "#2a3f5f"
            },
            "marker": {
             "line": {
              "color": "#E5ECF6",
              "width": 0.5
             }
            },
            "type": "bar"
           }
          ],
          "barpolar": [
           {
            "marker": {
             "line": {
              "color": "#E5ECF6",
              "width": 0.5
             }
            },
            "type": "barpolar"
           }
          ],
          "carpet": [
           {
            "aaxis": {
             "endlinecolor": "#2a3f5f",
             "gridcolor": "white",
             "linecolor": "white",
             "minorgridcolor": "white",
             "startlinecolor": "#2a3f5f"
            },
            "baxis": {
             "endlinecolor": "#2a3f5f",
             "gridcolor": "white",
             "linecolor": "white",
             "minorgridcolor": "white",
             "startlinecolor": "#2a3f5f"
            },
            "type": "carpet"
           }
          ],
          "choropleth": [
           {
            "colorbar": {
             "outlinewidth": 0,
             "ticks": ""
            },
            "type": "choropleth"
           }
          ],
          "contour": [
           {
            "colorbar": {
             "outlinewidth": 0,
             "ticks": ""
            },
            "colorscale": [
             [
              0,
              "#0d0887"
             ],
             [
              0.1111111111111111,
              "#46039f"
             ],
             [
              0.2222222222222222,
              "#7201a8"
             ],
             [
              0.3333333333333333,
              "#9c179e"
             ],
             [
              0.4444444444444444,
              "#bd3786"
             ],
             [
              0.5555555555555556,
              "#d8576b"
             ],
             [
              0.6666666666666666,
              "#ed7953"
             ],
             [
              0.7777777777777778,
              "#fb9f3a"
             ],
             [
              0.8888888888888888,
              "#fdca26"
             ],
             [
              1,
              "#f0f921"
             ]
            ],
            "type": "contour"
           }
          ],
          "contourcarpet": [
           {
            "colorbar": {
             "outlinewidth": 0,
             "ticks": ""
            },
            "type": "contourcarpet"
           }
          ],
          "heatmap": [
           {
            "colorbar": {
             "outlinewidth": 0,
             "ticks": ""
            },
            "colorscale": [
             [
              0,
              "#0d0887"
             ],
             [
              0.1111111111111111,
              "#46039f"
             ],
             [
              0.2222222222222222,
              "#7201a8"
             ],
             [
              0.3333333333333333,
              "#9c179e"
             ],
             [
              0.4444444444444444,
              "#bd3786"
             ],
             [
              0.5555555555555556,
              "#d8576b"
             ],
             [
              0.6666666666666666,
              "#ed7953"
             ],
             [
              0.7777777777777778,
              "#fb9f3a"
             ],
             [
              0.8888888888888888,
              "#fdca26"
             ],
             [
              1,
              "#f0f921"
             ]
            ],
            "type": "heatmap"
           }
          ],
          "heatmapgl": [
           {
            "colorbar": {
             "outlinewidth": 0,
             "ticks": ""
            },
            "colorscale": [
             [
              0,
              "#0d0887"
             ],
             [
              0.1111111111111111,
              "#46039f"
             ],
             [
              0.2222222222222222,
              "#7201a8"
             ],
             [
              0.3333333333333333,
              "#9c179e"
             ],
             [
              0.4444444444444444,
              "#bd3786"
             ],
             [
              0.5555555555555556,
              "#d8576b"
             ],
             [
              0.6666666666666666,
              "#ed7953"
             ],
             [
              0.7777777777777778,
              "#fb9f3a"
             ],
             [
              0.8888888888888888,
              "#fdca26"
             ],
             [
              1,
              "#f0f921"
             ]
            ],
            "type": "heatmapgl"
           }
          ],
          "histogram": [
           {
            "marker": {
             "colorbar": {
              "outlinewidth": 0,
              "ticks": ""
             }
            },
            "type": "histogram"
           }
          ],
          "histogram2d": [
           {
            "colorbar": {
             "outlinewidth": 0,
             "ticks": ""
            },
            "colorscale": [
             [
              0,
              "#0d0887"
             ],
             [
              0.1111111111111111,
              "#46039f"
             ],
             [
              0.2222222222222222,
              "#7201a8"
             ],
             [
              0.3333333333333333,
              "#9c179e"
             ],
             [
              0.4444444444444444,
              "#bd3786"
             ],
             [
              0.5555555555555556,
              "#d8576b"
             ],
             [
              0.6666666666666666,
              "#ed7953"
             ],
             [
              0.7777777777777778,
              "#fb9f3a"
             ],
             [
              0.8888888888888888,
              "#fdca26"
             ],
             [
              1,
              "#f0f921"
             ]
            ],
            "type": "histogram2d"
           }
          ],
          "histogram2dcontour": [
           {
            "colorbar": {
             "outlinewidth": 0,
             "ticks": ""
            },
            "colorscale": [
             [
              0,
              "#0d0887"
             ],
             [
              0.1111111111111111,
              "#46039f"
             ],
             [
              0.2222222222222222,
              "#7201a8"
             ],
             [
              0.3333333333333333,
              "#9c179e"
             ],
             [
              0.4444444444444444,
              "#bd3786"
             ],
             [
              0.5555555555555556,
              "#d8576b"
             ],
             [
              0.6666666666666666,
              "#ed7953"
             ],
             [
              0.7777777777777778,
              "#fb9f3a"
             ],
             [
              0.8888888888888888,
              "#fdca26"
             ],
             [
              1,
              "#f0f921"
             ]
            ],
            "type": "histogram2dcontour"
           }
          ],
          "mesh3d": [
           {
            "colorbar": {
             "outlinewidth": 0,
             "ticks": ""
            },
            "type": "mesh3d"
           }
          ],
          "parcoords": [
           {
            "line": {
             "colorbar": {
              "outlinewidth": 0,
              "ticks": ""
             }
            },
            "type": "parcoords"
           }
          ],
          "pie": [
           {
            "automargin": true,
            "type": "pie"
           }
          ],
          "scatter": [
           {
            "marker": {
             "colorbar": {
              "outlinewidth": 0,
              "ticks": ""
             }
            },
            "type": "scatter"
           }
          ],
          "scatter3d": [
           {
            "line": {
             "colorbar": {
              "outlinewidth": 0,
              "ticks": ""
             }
            },
            "marker": {
             "colorbar": {
              "outlinewidth": 0,
              "ticks": ""
             }
            },
            "type": "scatter3d"
           }
          ],
          "scattercarpet": [
           {
            "marker": {
             "colorbar": {
              "outlinewidth": 0,
              "ticks": ""
             }
            },
            "type": "scattercarpet"
           }
          ],
          "scattergeo": [
           {
            "marker": {
             "colorbar": {
              "outlinewidth": 0,
              "ticks": ""
             }
            },
            "type": "scattergeo"
           }
          ],
          "scattergl": [
           {
            "marker": {
             "colorbar": {
              "outlinewidth": 0,
              "ticks": ""
             }
            },
            "type": "scattergl"
           }
          ],
          "scattermapbox": [
           {
            "marker": {
             "colorbar": {
              "outlinewidth": 0,
              "ticks": ""
             }
            },
            "type": "scattermapbox"
           }
          ],
          "scatterpolar": [
           {
            "marker": {
             "colorbar": {
              "outlinewidth": 0,
              "ticks": ""
             }
            },
            "type": "scatterpolar"
           }
          ],
          "scatterpolargl": [
           {
            "marker": {
             "colorbar": {
              "outlinewidth": 0,
              "ticks": ""
             }
            },
            "type": "scatterpolargl"
           }
          ],
          "scatterternary": [
           {
            "marker": {
             "colorbar": {
              "outlinewidth": 0,
              "ticks": ""
             }
            },
            "type": "scatterternary"
           }
          ],
          "surface": [
           {
            "colorbar": {
             "outlinewidth": 0,
             "ticks": ""
            },
            "colorscale": [
             [
              0,
              "#0d0887"
             ],
             [
              0.1111111111111111,
              "#46039f"
             ],
             [
              0.2222222222222222,
              "#7201a8"
             ],
             [
              0.3333333333333333,
              "#9c179e"
             ],
             [
              0.4444444444444444,
              "#bd3786"
             ],
             [
              0.5555555555555556,
              "#d8576b"
             ],
             [
              0.6666666666666666,
              "#ed7953"
             ],
             [
              0.7777777777777778,
              "#fb9f3a"
             ],
             [
              0.8888888888888888,
              "#fdca26"
             ],
             [
              1,
              "#f0f921"
             ]
            ],
            "type": "surface"
           }
          ],
          "table": [
           {
            "cells": {
             "fill": {
              "color": "#EBF0F8"
             },
             "line": {
              "color": "white"
             }
            },
            "header": {
             "fill": {
              "color": "#C8D4E3"
             },
             "line": {
              "color": "white"
             }
            },
            "type": "table"
           }
          ]
         },
         "layout": {
          "annotationdefaults": {
           "arrowcolor": "#2a3f5f",
           "arrowhead": 0,
           "arrowwidth": 1
          },
          "coloraxis": {
           "colorbar": {
            "outlinewidth": 0,
            "ticks": ""
           }
          },
          "colorscale": {
           "diverging": [
            [
             0,
             "#8e0152"
            ],
            [
             0.1,
             "#c51b7d"
            ],
            [
             0.2,
             "#de77ae"
            ],
            [
             0.3,
             "#f1b6da"
            ],
            [
             0.4,
             "#fde0ef"
            ],
            [
             0.5,
             "#f7f7f7"
            ],
            [
             0.6,
             "#e6f5d0"
            ],
            [
             0.7,
             "#b8e186"
            ],
            [
             0.8,
             "#7fbc41"
            ],
            [
             0.9,
             "#4d9221"
            ],
            [
             1,
             "#276419"
            ]
           ],
           "sequential": [
            [
             0,
             "#0d0887"
            ],
            [
             0.1111111111111111,
             "#46039f"
            ],
            [
             0.2222222222222222,
             "#7201a8"
            ],
            [
             0.3333333333333333,
             "#9c179e"
            ],
            [
             0.4444444444444444,
             "#bd3786"
            ],
            [
             0.5555555555555556,
             "#d8576b"
            ],
            [
             0.6666666666666666,
             "#ed7953"
            ],
            [
             0.7777777777777778,
             "#fb9f3a"
            ],
            [
             0.8888888888888888,
             "#fdca26"
            ],
            [
             1,
             "#f0f921"
            ]
           ],
           "sequentialminus": [
            [
             0,
             "#0d0887"
            ],
            [
             0.1111111111111111,
             "#46039f"
            ],
            [
             0.2222222222222222,
             "#7201a8"
            ],
            [
             0.3333333333333333,
             "#9c179e"
            ],
            [
             0.4444444444444444,
             "#bd3786"
            ],
            [
             0.5555555555555556,
             "#d8576b"
            ],
            [
             0.6666666666666666,
             "#ed7953"
            ],
            [
             0.7777777777777778,
             "#fb9f3a"
            ],
            [
             0.8888888888888888,
             "#fdca26"
            ],
            [
             1,
             "#f0f921"
            ]
           ]
          },
          "colorway": [
           "#636efa",
           "#EF553B",
           "#00cc96",
           "#ab63fa",
           "#FFA15A",
           "#19d3f3",
           "#FF6692",
           "#B6E880",
           "#FF97FF",
           "#FECB52"
          ],
          "font": {
           "color": "#2a3f5f"
          },
          "geo": {
           "bgcolor": "white",
           "lakecolor": "white",
           "landcolor": "#E5ECF6",
           "showlakes": true,
           "showland": true,
           "subunitcolor": "white"
          },
          "hoverlabel": {
           "align": "left"
          },
          "hovermode": "closest",
          "mapbox": {
           "style": "light"
          },
          "paper_bgcolor": "white",
          "plot_bgcolor": "#E5ECF6",
          "polar": {
           "angularaxis": {
            "gridcolor": "white",
            "linecolor": "white",
            "ticks": ""
           },
           "bgcolor": "#E5ECF6",
           "radialaxis": {
            "gridcolor": "white",
            "linecolor": "white",
            "ticks": ""
           }
          },
          "scene": {
           "xaxis": {
            "backgroundcolor": "#E5ECF6",
            "gridcolor": "white",
            "gridwidth": 2,
            "linecolor": "white",
            "showbackground": true,
            "ticks": "",
            "zerolinecolor": "white"
           },
           "yaxis": {
            "backgroundcolor": "#E5ECF6",
            "gridcolor": "white",
            "gridwidth": 2,
            "linecolor": "white",
            "showbackground": true,
            "ticks": "",
            "zerolinecolor": "white"
           },
           "zaxis": {
            "backgroundcolor": "#E5ECF6",
            "gridcolor": "white",
            "gridwidth": 2,
            "linecolor": "white",
            "showbackground": true,
            "ticks": "",
            "zerolinecolor": "white"
           }
          },
          "shapedefaults": {
           "line": {
            "color": "#2a3f5f"
           }
          },
          "ternary": {
           "aaxis": {
            "gridcolor": "white",
            "linecolor": "white",
            "ticks": ""
           },
           "baxis": {
            "gridcolor": "white",
            "linecolor": "white",
            "ticks": ""
           },
           "bgcolor": "#E5ECF6",
           "caxis": {
            "gridcolor": "white",
            "linecolor": "white",
            "ticks": ""
           }
          },
          "title": {
           "x": 0.05
          },
          "xaxis": {
           "automargin": true,
           "gridcolor": "white",
           "linecolor": "white",
           "ticks": "",
           "title": {
            "standoff": 15
           },
           "zerolinecolor": "white",
           "zerolinewidth": 2
          },
          "yaxis": {
           "automargin": true,
           "gridcolor": "white",
           "linecolor": "white",
           "ticks": "",
           "title": {
            "standoff": 15
           },
           "zerolinecolor": "white",
           "zerolinewidth": 2
          }
         }
        }
       }
      },
      "text/html": [
       "<div>\n",
       "        \n",
       "        \n",
       "            <div id=\"460f74da-38ef-4caf-b44a-89782a76fb47\" class=\"plotly-graph-div\" style=\"height:525px; width:100%;\"></div>\n",
       "            <script type=\"text/javascript\">\n",
       "                require([\"plotly\"], function(Plotly) {\n",
       "                    window.PLOTLYENV=window.PLOTLYENV || {};\n",
       "                    \n",
       "                if (document.getElementById(\"460f74da-38ef-4caf-b44a-89782a76fb47\")) {\n",
       "                    Plotly.newPlot(\n",
       "                        '460f74da-38ef-4caf-b44a-89782a76fb47',\n",
       "                        [{\"name\": \"2000_pop\", \"type\": \"bar\", \"x\": [\"New York city, New York\", \"Buffalo city, New York\", \"Rochester city, New York\", \"Yonkers city, New York\", \"Syracuse city, New York\"], \"y\": [8008278, 292648, 219773, 196086, 147306]}, {\"name\": \"2010_pop\", \"type\": \"bar\", \"x\": [\"New York city, New York\", \"Buffalo city, New York\", \"Rochester city, New York\", \"Yonkers city, New York\", \"Syracuse city, New York\"], \"y\": [8175133.0, 261310.0, 210565.0, 195976.0, 145170.0]}, {\"name\": \"2000_housing\", \"type\": \"bar\", \"x\": [\"New York city, New York\", \"Buffalo city, New York\", \"Rochester city, New York\", \"Yonkers city, New York\", \"Syracuse city, New York\"], \"y\": [\"3200912\", \"145574\", \"99789\", \"77589\", \"68192\"]}, {\"name\": \"2010_housing\", \"type\": \"bar\", \"x\": [\"New York city, New York\", \"Buffalo city, New York\", \"Rochester city, New York\", \"Yonkers city, New York\", \"Syracuse city, New York\"], \"y\": [3371062.0, 133444.0, 97158.0, 80389.0, 64356.0]}, {\"name\": \"2000_non-relatives\", \"type\": \"bar\", \"x\": [\"New York city, New York\", \"Buffalo city, New York\", \"Rochester city, New York\", \"Yonkers city, New York\", \"Syracuse city, New York\"], \"y\": [\"8008278\", \"292648\", \"219773\", \"196086\", \"147306\"]}, {\"name\": \"2010_non-relatives\", \"type\": \"bar\", \"x\": [\"New York city, New York\", \"Buffalo city, New York\", \"Rochester city, New York\", \"Yonkers city, New York\", \"Syracuse city, New York\"], \"y\": [3109784.0, 112536.0, 87027.0, 74550.0, 57355.0]}],\n",
       "                        {\"barmode\": \"group\", \"template\": {\"data\": {\"bar\": [{\"error_x\": {\"color\": \"#2a3f5f\"}, \"error_y\": {\"color\": \"#2a3f5f\"}, \"marker\": {\"line\": {\"color\": \"#E5ECF6\", \"width\": 0.5}}, \"type\": \"bar\"}], \"barpolar\": [{\"marker\": {\"line\": {\"color\": \"#E5ECF6\", \"width\": 0.5}}, \"type\": \"barpolar\"}], \"carpet\": [{\"aaxis\": {\"endlinecolor\": \"#2a3f5f\", \"gridcolor\": \"white\", \"linecolor\": \"white\", \"minorgridcolor\": \"white\", \"startlinecolor\": \"#2a3f5f\"}, \"baxis\": {\"endlinecolor\": \"#2a3f5f\", \"gridcolor\": \"white\", \"linecolor\": \"white\", \"minorgridcolor\": \"white\", \"startlinecolor\": \"#2a3f5f\"}, \"type\": \"carpet\"}], \"choropleth\": [{\"colorbar\": {\"outlinewidth\": 0, \"ticks\": \"\"}, \"type\": \"choropleth\"}], \"contour\": [{\"colorbar\": {\"outlinewidth\": 0, \"ticks\": \"\"}, \"colorscale\": [[0.0, \"#0d0887\"], [0.1111111111111111, \"#46039f\"], [0.2222222222222222, \"#7201a8\"], [0.3333333333333333, \"#9c179e\"], [0.4444444444444444, \"#bd3786\"], [0.5555555555555556, \"#d8576b\"], [0.6666666666666666, \"#ed7953\"], [0.7777777777777778, \"#fb9f3a\"], [0.8888888888888888, \"#fdca26\"], [1.0, \"#f0f921\"]], \"type\": \"contour\"}], \"contourcarpet\": [{\"colorbar\": {\"outlinewidth\": 0, \"ticks\": \"\"}, \"type\": \"contourcarpet\"}], \"heatmap\": [{\"colorbar\": {\"outlinewidth\": 0, \"ticks\": \"\"}, \"colorscale\": [[0.0, \"#0d0887\"], [0.1111111111111111, \"#46039f\"], [0.2222222222222222, \"#7201a8\"], [0.3333333333333333, \"#9c179e\"], [0.4444444444444444, \"#bd3786\"], [0.5555555555555556, \"#d8576b\"], [0.6666666666666666, \"#ed7953\"], [0.7777777777777778, \"#fb9f3a\"], [0.8888888888888888, \"#fdca26\"], [1.0, \"#f0f921\"]], \"type\": \"heatmap\"}], \"heatmapgl\": [{\"colorbar\": {\"outlinewidth\": 0, \"ticks\": \"\"}, \"colorscale\": [[0.0, \"#0d0887\"], [0.1111111111111111, \"#46039f\"], [0.2222222222222222, \"#7201a8\"], [0.3333333333333333, \"#9c179e\"], [0.4444444444444444, \"#bd3786\"], [0.5555555555555556, \"#d8576b\"], [0.6666666666666666, \"#ed7953\"], [0.7777777777777778, \"#fb9f3a\"], [0.8888888888888888, \"#fdca26\"], [1.0, \"#f0f921\"]], \"type\": \"heatmapgl\"}], \"histogram\": [{\"marker\": {\"colorbar\": {\"outlinewidth\": 0, \"ticks\": \"\"}}, \"type\": \"histogram\"}], \"histogram2d\": [{\"colorbar\": {\"outlinewidth\": 0, \"ticks\": \"\"}, \"colorscale\": [[0.0, \"#0d0887\"], [0.1111111111111111, \"#46039f\"], [0.2222222222222222, \"#7201a8\"], [0.3333333333333333, \"#9c179e\"], [0.4444444444444444, \"#bd3786\"], [0.5555555555555556, \"#d8576b\"], [0.6666666666666666, \"#ed7953\"], [0.7777777777777778, \"#fb9f3a\"], [0.8888888888888888, \"#fdca26\"], [1.0, \"#f0f921\"]], \"type\": \"histogram2d\"}], \"histogram2dcontour\": [{\"colorbar\": {\"outlinewidth\": 0, \"ticks\": \"\"}, \"colorscale\": [[0.0, \"#0d0887\"], [0.1111111111111111, \"#46039f\"], [0.2222222222222222, \"#7201a8\"], [0.3333333333333333, \"#9c179e\"], [0.4444444444444444, \"#bd3786\"], [0.5555555555555556, \"#d8576b\"], [0.6666666666666666, \"#ed7953\"], [0.7777777777777778, \"#fb9f3a\"], [0.8888888888888888, \"#fdca26\"], [1.0, \"#f0f921\"]], \"type\": \"histogram2dcontour\"}], \"mesh3d\": [{\"colorbar\": {\"outlinewidth\": 0, \"ticks\": \"\"}, \"type\": \"mesh3d\"}], \"parcoords\": [{\"line\": {\"colorbar\": {\"outlinewidth\": 0, \"ticks\": \"\"}}, \"type\": \"parcoords\"}], \"pie\": [{\"automargin\": true, \"type\": \"pie\"}], \"scatter\": [{\"marker\": {\"colorbar\": {\"outlinewidth\": 0, \"ticks\": \"\"}}, \"type\": \"scatter\"}], \"scatter3d\": [{\"line\": {\"colorbar\": {\"outlinewidth\": 0, \"ticks\": \"\"}}, \"marker\": {\"colorbar\": {\"outlinewidth\": 0, \"ticks\": \"\"}}, \"type\": \"scatter3d\"}], \"scattercarpet\": [{\"marker\": {\"colorbar\": {\"outlinewidth\": 0, \"ticks\": \"\"}}, \"type\": \"scattercarpet\"}], \"scattergeo\": [{\"marker\": {\"colorbar\": {\"outlinewidth\": 0, \"ticks\": \"\"}}, \"type\": \"scattergeo\"}], \"scattergl\": [{\"marker\": {\"colorbar\": {\"outlinewidth\": 0, \"ticks\": \"\"}}, \"type\": \"scattergl\"}], \"scattermapbox\": [{\"marker\": {\"colorbar\": {\"outlinewidth\": 0, \"ticks\": \"\"}}, \"type\": \"scattermapbox\"}], \"scatterpolar\": [{\"marker\": {\"colorbar\": {\"outlinewidth\": 0, \"ticks\": \"\"}}, \"type\": \"scatterpolar\"}], \"scatterpolargl\": [{\"marker\": {\"colorbar\": {\"outlinewidth\": 0, \"ticks\": \"\"}}, \"type\": \"scatterpolargl\"}], \"scatterternary\": [{\"marker\": {\"colorbar\": {\"outlinewidth\": 0, \"ticks\": \"\"}}, \"type\": \"scatterternary\"}], \"surface\": [{\"colorbar\": {\"outlinewidth\": 0, \"ticks\": \"\"}, \"colorscale\": [[0.0, \"#0d0887\"], [0.1111111111111111, \"#46039f\"], [0.2222222222222222, \"#7201a8\"], [0.3333333333333333, \"#9c179e\"], [0.4444444444444444, \"#bd3786\"], [0.5555555555555556, \"#d8576b\"], [0.6666666666666666, \"#ed7953\"], [0.7777777777777778, \"#fb9f3a\"], [0.8888888888888888, \"#fdca26\"], [1.0, \"#f0f921\"]], \"type\": \"surface\"}], \"table\": [{\"cells\": {\"fill\": {\"color\": \"#EBF0F8\"}, \"line\": {\"color\": \"white\"}}, \"header\": {\"fill\": {\"color\": \"#C8D4E3\"}, \"line\": {\"color\": \"white\"}}, \"type\": \"table\"}]}, \"layout\": {\"annotationdefaults\": {\"arrowcolor\": \"#2a3f5f\", \"arrowhead\": 0, \"arrowwidth\": 1}, \"coloraxis\": {\"colorbar\": {\"outlinewidth\": 0, \"ticks\": \"\"}}, \"colorscale\": {\"diverging\": [[0, \"#8e0152\"], [0.1, \"#c51b7d\"], [0.2, \"#de77ae\"], [0.3, \"#f1b6da\"], [0.4, \"#fde0ef\"], [0.5, \"#f7f7f7\"], [0.6, \"#e6f5d0\"], [0.7, \"#b8e186\"], [0.8, \"#7fbc41\"], [0.9, \"#4d9221\"], [1, \"#276419\"]], \"sequential\": [[0.0, \"#0d0887\"], [0.1111111111111111, \"#46039f\"], [0.2222222222222222, \"#7201a8\"], [0.3333333333333333, \"#9c179e\"], [0.4444444444444444, \"#bd3786\"], [0.5555555555555556, \"#d8576b\"], [0.6666666666666666, \"#ed7953\"], [0.7777777777777778, \"#fb9f3a\"], [0.8888888888888888, \"#fdca26\"], [1.0, \"#f0f921\"]], \"sequentialminus\": [[0.0, \"#0d0887\"], [0.1111111111111111, \"#46039f\"], [0.2222222222222222, \"#7201a8\"], [0.3333333333333333, \"#9c179e\"], [0.4444444444444444, \"#bd3786\"], [0.5555555555555556, \"#d8576b\"], [0.6666666666666666, \"#ed7953\"], [0.7777777777777778, \"#fb9f3a\"], [0.8888888888888888, \"#fdca26\"], [1.0, \"#f0f921\"]]}, \"colorway\": [\"#636efa\", \"#EF553B\", \"#00cc96\", \"#ab63fa\", \"#FFA15A\", \"#19d3f3\", \"#FF6692\", \"#B6E880\", \"#FF97FF\", \"#FECB52\"], \"font\": {\"color\": \"#2a3f5f\"}, \"geo\": {\"bgcolor\": \"white\", \"lakecolor\": \"white\", \"landcolor\": \"#E5ECF6\", \"showlakes\": true, \"showland\": true, \"subunitcolor\": \"white\"}, \"hoverlabel\": {\"align\": \"left\"}, \"hovermode\": \"closest\", \"mapbox\": {\"style\": \"light\"}, \"paper_bgcolor\": \"white\", \"plot_bgcolor\": \"#E5ECF6\", \"polar\": {\"angularaxis\": {\"gridcolor\": \"white\", \"linecolor\": \"white\", \"ticks\": \"\"}, \"bgcolor\": \"#E5ECF6\", \"radialaxis\": {\"gridcolor\": \"white\", \"linecolor\": \"white\", \"ticks\": \"\"}}, \"scene\": {\"xaxis\": {\"backgroundcolor\": \"#E5ECF6\", \"gridcolor\": \"white\", \"gridwidth\": 2, \"linecolor\": \"white\", \"showbackground\": true, \"ticks\": \"\", \"zerolinecolor\": \"white\"}, \"yaxis\": {\"backgroundcolor\": \"#E5ECF6\", \"gridcolor\": \"white\", \"gridwidth\": 2, \"linecolor\": \"white\", \"showbackground\": true, \"ticks\": \"\", \"zerolinecolor\": \"white\"}, \"zaxis\": {\"backgroundcolor\": \"#E5ECF6\", \"gridcolor\": \"white\", \"gridwidth\": 2, \"linecolor\": \"white\", \"showbackground\": true, \"ticks\": \"\", \"zerolinecolor\": \"white\"}}, \"shapedefaults\": {\"line\": {\"color\": \"#2a3f5f\"}}, \"ternary\": {\"aaxis\": {\"gridcolor\": \"white\", \"linecolor\": \"white\", \"ticks\": \"\"}, \"baxis\": {\"gridcolor\": \"white\", \"linecolor\": \"white\", \"ticks\": \"\"}, \"bgcolor\": \"#E5ECF6\", \"caxis\": {\"gridcolor\": \"white\", \"linecolor\": \"white\", \"ticks\": \"\"}}, \"title\": {\"x\": 0.05}, \"xaxis\": {\"automargin\": true, \"gridcolor\": \"white\", \"linecolor\": \"white\", \"ticks\": \"\", \"title\": {\"standoff\": 15}, \"zerolinecolor\": \"white\", \"zerolinewidth\": 2}, \"yaxis\": {\"automargin\": true, \"gridcolor\": \"white\", \"linecolor\": \"white\", \"ticks\": \"\", \"title\": {\"standoff\": 15}, \"zerolinecolor\": \"white\", \"zerolinewidth\": 2}}}},\n",
       "                        {\"responsive\": true}\n",
       "                    ).then(function(){\n",
       "                            \n",
       "var gd = document.getElementById('460f74da-38ef-4caf-b44a-89782a76fb47');\n",
       "var x = new MutationObserver(function (mutations, observer) {{\n",
       "        var display = window.getComputedStyle(gd).display;\n",
       "        if (!display || display === 'none') {{\n",
       "            console.log([gd, 'removed!']);\n",
       "            Plotly.purge(gd);\n",
       "            observer.disconnect();\n",
       "        }}\n",
       "}});\n",
       "\n",
       "// Listen for the removal of the full notebook cells\n",
       "var notebookContainer = gd.closest('#notebook-container');\n",
       "if (notebookContainer) {{\n",
       "    x.observe(notebookContainer, {childList: true});\n",
       "}}\n",
       "\n",
       "// Listen for the clearing of the current output cell\n",
       "var outputEl = gd.closest('.output');\n",
       "if (outputEl) {{\n",
       "    x.observe(outputEl, {childList: true});\n",
       "}}\n",
       "\n",
       "                        })\n",
       "                };\n",
       "                });\n",
       "            </script>\n",
       "        </div>"
      ]
     },
     "metadata": {},
     "output_type": "display_data"
    }
   ],
   "source": [
    "fig = go.Figure(data=[\n",
    "    go.Bar(name='2000_pop', x=ny_join['City_Name'], y=ny_join['Total_Population_2000']),\n",
    "    go.Bar(name='2010_pop', x=ny_join['City_Name'], y=ny_join['Total_Population_2010']),\n",
    "    go.Bar(name='2000_housing', x=ny_join['City_Name'], y=ny_join['Total_Housing_2000']),\n",
    "    go.Bar(name='2010_housing', x=ny_join['City_Name'], y=ny_join['Total_Housing_2010']),\n",
    "    go.Bar(name='2000_non-relatives', x=ny_join['City_Name'], y=ny_join['Presence_of_Non-Relatives_2000']),\n",
    "    go.Bar(name='2010_non-relatives', x=ny_join['City_Name'], y=ny_join['Presence_of_Non-Relatives_2010']),\n",
    "])\n",
    "fig.update_layout(barmode='group')\n",
    "fig.show()"
   ]
  },
  {
   "cell_type": "markdown",
   "metadata": {},
   "source": [
    "## American Community Servey"
   ]
  },
  {
   "cell_type": "code",
   "execution_count": 28,
   "metadata": {},
   "outputs": [
    {
     "name": "stdout",
     "output_type": "stream",
     "text": [
      "2012\n",
      "2013\n",
      "2014\n",
      "2015\n",
      "2016\n",
      "2017\n"
     ]
    }
   ],
   "source": [
    "acs_years = {}\n",
    "for x in range(2012, 2018):\n",
    "    acs_test = c.acs5.state_place(('NAME',\n",
    "'B01003_001E',\n",
    "'B00002_001E',\n",
    "'B09018_007E'), states.NY.fips, '*', year=x)\n",
    "    acs_years[x] = pd.DataFrame.from_records(acs_test)\n",
    "    print(x)\n",
    "    acs_years[x] = acs_years[x].rename(columns={\n",
    "        'NAME' : 'City_Name',\n",
    "        'place': 'FIPS',\n",
    "        'B01003_001E': 'Total_Population_{}'.format(x),\n",
    "        'B00002_001E': 'Total_Housing_{}'.format(x),\n",
    "        'B09018_007E': 'Presence_of_Non-Relatives_{}'.format(x)})"
   ]
  },
  {
   "cell_type": "code",
   "execution_count": 29,
   "metadata": {},
   "outputs": [
    {
     "data": {
      "text/html": [
       "<div>\n",
       "<style scoped>\n",
       "    .dataframe tbody tr th:only-of-type {\n",
       "        vertical-align: middle;\n",
       "    }\n",
       "\n",
       "    .dataframe tbody tr th {\n",
       "        vertical-align: top;\n",
       "    }\n",
       "\n",
       "    .dataframe thead th {\n",
       "        text-align: right;\n",
       "    }\n",
       "</style>\n",
       "<table border=\"1\" class=\"dataframe\">\n",
       "  <thead>\n",
       "    <tr style=\"text-align: right;\">\n",
       "      <th></th>\n",
       "      <th>Total_Housing_2013</th>\n",
       "      <th>Total_Population_2013</th>\n",
       "      <th>Presence_of_Non-Relatives_2013</th>\n",
       "      <th>City_Name</th>\n",
       "      <th>FIPS</th>\n",
       "      <th>state</th>\n",
       "    </tr>\n",
       "  </thead>\n",
       "  <tbody>\n",
       "    <tr>\n",
       "      <th>0</th>\n",
       "      <td>186.0</td>\n",
       "      <td>2607.0</td>\n",
       "      <td>0.0</td>\n",
       "      <td>Alden village, New York</td>\n",
       "      <td>01088</td>\n",
       "      <td>36</td>\n",
       "    </tr>\n",
       "    <tr>\n",
       "      <th>1</th>\n",
       "      <td>89.0</td>\n",
       "      <td>568.0</td>\n",
       "      <td>3.0</td>\n",
       "      <td>Alexander village, New York</td>\n",
       "      <td>01154</td>\n",
       "      <td>36</td>\n",
       "    </tr>\n",
       "    <tr>\n",
       "      <th>2</th>\n",
       "      <td>154.0</td>\n",
       "      <td>995.0</td>\n",
       "      <td>0.0</td>\n",
       "      <td>Alexandria Bay village, New York</td>\n",
       "      <td>01187</td>\n",
       "      <td>36</td>\n",
       "    </tr>\n",
       "    <tr>\n",
       "      <th>3</th>\n",
       "      <td>125.0</td>\n",
       "      <td>4344.0</td>\n",
       "      <td>0.0</td>\n",
       "      <td>Alfred village, New York</td>\n",
       "      <td>01198</td>\n",
       "      <td>36</td>\n",
       "    </tr>\n",
       "    <tr>\n",
       "      <th>4</th>\n",
       "      <td>198.0</td>\n",
       "      <td>1756.0</td>\n",
       "      <td>3.0</td>\n",
       "      <td>Allegany village, New York</td>\n",
       "      <td>01286</td>\n",
       "      <td>36</td>\n",
       "    </tr>\n",
       "  </tbody>\n",
       "</table>\n",
       "</div>"
      ],
      "text/plain": [
       "   Total_Housing_2013  Total_Population_2013  Presence_of_Non-Relatives_2013  \\\n",
       "0               186.0                 2607.0                             0.0   \n",
       "1                89.0                  568.0                             3.0   \n",
       "2               154.0                  995.0                             0.0   \n",
       "3               125.0                 4344.0                             0.0   \n",
       "4               198.0                 1756.0                             3.0   \n",
       "\n",
       "                          City_Name   FIPS state  \n",
       "0           Alden village, New York  01088    36  \n",
       "1       Alexander village, New York  01154    36  \n",
       "2  Alexandria Bay village, New York  01187    36  \n",
       "3          Alfred village, New York  01198    36  \n",
       "4        Allegany village, New York  01286    36  "
      ]
     },
     "execution_count": 29,
     "metadata": {},
     "output_type": "execute_result"
    }
   ],
   "source": [
    "acs_years[2013].head()"
   ]
  },
  {
   "cell_type": "code",
   "execution_count": null,
   "metadata": {},
   "outputs": [],
   "source": []
  },
  {
   "cell_type": "code",
   "execution_count": null,
   "metadata": {},
   "outputs": [],
   "source": []
  },
  {
   "cell_type": "code",
   "execution_count": null,
   "metadata": {},
   "outputs": [],
   "source": [
    "~"
   ]
  }
 ],
 "metadata": {
  "kernelspec": {
   "display_name": "Python 3",
   "language": "python",
   "name": "python3"
  },
  "language_info": {
   "codemirror_mode": {
    "name": "ipython",
    "version": 3
   },
   "file_extension": ".py",
   "mimetype": "text/x-python",
   "name": "python",
   "nbconvert_exporter": "python",
   "pygments_lexer": "ipython3",
   "version": "3.7.4"
  }
 },
 "nbformat": 4,
 "nbformat_minor": 2
}
