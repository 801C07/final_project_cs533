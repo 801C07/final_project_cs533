{
 "cells": [
  {
   "cell_type": "markdown",
   "metadata": {},
   "source": [
    "# New York -- City Sustainability"
   ]
  },
  {
   "cell_type": "code",
   "execution_count": 24,
   "metadata": {},
   "outputs": [],
   "source": [
    "import pandas as pd\n",
    "import seaborn as sns\n",
    "import matplotlib as plt\n",
    "import os\n",
    "\n",
    "from census import Census\n",
    "from us import states\n",
    "\n",
    "import plotly.graph_objects as go"
   ]
  },
  {
   "cell_type": "code",
   "execution_count": 25,
   "metadata": {},
   "outputs": [],
   "source": [
    "c = Census('fb97753783c42ae57fe1a640e38fe04e921e5d1a')"
   ]
  },
  {
   "cell_type": "markdown",
   "metadata": {},
   "source": [
    "**Greenhouse Gas Data:**"
   ]
  },
  {
   "cell_type": "code",
   "execution_count": 26,
   "metadata": {},
   "outputs": [],
   "source": [
    "ghg = pd.DataFrame()\n",
    "\n",
    "for f in os.listdir('../data/2018_data_summary_spreadsheets'):\n",
    "    temp = pd.read_excel('../data/2018_data_summary_spreadsheets/'+f, sheet_name=0)\n",
    "    temp['Year'] = f.split('.')[0].split('_')[2]    \n",
    "    ghg = pd.concat([temp, ghg], sort=False)\n",
    "    \n",
    "fips_map = pd.read_excel('../data/fips-codes.xls', sheet_name=0)\n",
    "\n",
    "fips_map = fips_map[fips_map['Entity Description'] == 'city']\n",
    "\n",
    "def str_func(x):\n",
    "    return str(x).zfill(5)\n",
    "\n",
    "fips_map['FIPS'] = fips_map['FIPS Entity Code'].apply(str_func)\n",
    "fips_map['City'] = fips_map['GU Name']\n",
    "fips_map['State'] = fips_map['State Abbreviation']\n",
    "\n",
    "ghg_mapped = pd.merge(ghg, fips_map, on=['State', 'City'])\n",
    "total_emissions = ghg_mapped.groupby(['FIPS','Year'])['Total reported direct emissions'].agg('sum').to_frame()\n",
    "\n",
    "total_emissions.reset_index(inplace=True)\n",
    "\n",
    "pivot_em = total_emissions.pivot(index='FIPS', columns='Year', values='Total reported direct emissions')"
   ]
  },
  {
   "cell_type": "markdown",
   "metadata": {},
   "source": [
    "## Get's the 5 largest cities in New York"
   ]
  },
  {
   "cell_type": "code",
   "execution_count": 27,
   "metadata": {},
   "outputs": [],
   "source": [
    "keys = ['NAME' ,'P002001','P002002','P002005','H001001','P013001','H003001','P027001','H005001','H005002','H005003','H005004','H005005','H005006','H005007']\n",
    "\n",
    "renames_2000 = {\n",
    "        'NAME' : 'City_Name',\n",
    "        'place': 'FIPS',\n",
    "        'P002001': 'Total_Population_2000',\n",
    "        'P002002':'Total_Urban_Population_2000',\n",
    "        'P002005':'Total_Rural_Population_2000',\n",
    "        'H001001': 'Total_Housing_2000',\n",
    "        'P013001': 'Median_Age_2000',\n",
    "        'H003001': 'Occupancy_Status_For_Housing_Units_2000',\n",
    "        'P027001': 'Presence_of_Non-Relatives_2000',\n",
    "        'H005001': 'Vacancy_Status_2000',\n",
    "        'H005002': 'For_Rent_2000',\n",
    "        'H005003': 'Rented_Not_Occupied_2000',\n",
    "        'H005004': 'For_Sale_Only_2000',\n",
    "        'H005005': 'Sold_Not_Occupied_2000',\n",
    "        'H005006': 'For_Seasonal_Recreational_Or_Occasional_Use_2000',\n",
    "        'H005007': 'For_Migrant_Workers_2000'\n",
    "}\n",
    "\n",
    "renames_2010 = {\n",
    "        'NAME' : 'City_Name',\n",
    "        'place': 'FIPS',\n",
    "        'P002001': 'Total_Population_2010',\n",
    "        'P002002':'Total_Urban_Population_2010',\n",
    "        'P002005':'Total_Rural_Population_2010',\n",
    "        'H001001': 'Total_Housing_2010',\n",
    "        'P013001': 'Median_Age_2010',\n",
    "        'H003001': 'Occupancy_Status_For_Housing_Units_2010',\n",
    "        'P027001': 'Presence_of_Non-Relatives_2010',\n",
    "        'H005001': 'Vacancy_Status_2010',\n",
    "        'H005002': 'For_Rent_2010',\n",
    "        'H005003': 'Rented_Not_Occupied_2010',\n",
    "        'H005004': 'For_Sale_Only_2010',\n",
    "        'H005005': 'Sold_Not_Occupied_2010',\n",
    "        'H005006': 'For_Seasonal_Recreational_Or_Occasional_Use_2010',\n",
    "        'H005007': 'For_Migrant_Workers_2010'}\n",
    "\n",
    "city_2010 = c.sf1.state_place(keys, states.NY.fips, '*', year=2010)\n",
    "c_pop_2010 = pd.DataFrame.from_records(city_2010)\n",
    "c_pop_2010_50000 = c_pop_2010.rename(columns=renames_2010)"
   ]
  },
  {
   "cell_type": "code",
   "execution_count": 28,
   "metadata": {},
   "outputs": [
    {
     "data": {
      "text/html": [
       "<div>\n",
       "<style scoped>\n",
       "    .dataframe tbody tr th:only-of-type {\n",
       "        vertical-align: middle;\n",
       "    }\n",
       "\n",
       "    .dataframe tbody tr th {\n",
       "        vertical-align: top;\n",
       "    }\n",
       "\n",
       "    .dataframe thead th {\n",
       "        text-align: right;\n",
       "    }\n",
       "</style>\n",
       "<table border=\"1\" class=\"dataframe\">\n",
       "  <thead>\n",
       "    <tr style=\"text-align: right;\">\n",
       "      <th></th>\n",
       "      <th>Total_Housing_2010</th>\n",
       "      <th>Occupancy_Status_For_Housing_Units_2010</th>\n",
       "      <th>Vacancy_Status_2010</th>\n",
       "      <th>For_Rent_2010</th>\n",
       "      <th>Rented_Not_Occupied_2010</th>\n",
       "      <th>For_Sale_Only_2010</th>\n",
       "      <th>Sold_Not_Occupied_2010</th>\n",
       "      <th>For_Seasonal_Recreational_Or_Occasional_Use_2010</th>\n",
       "      <th>For_Migrant_Workers_2010</th>\n",
       "      <th>City_Name</th>\n",
       "      <th>Total_Population_2010</th>\n",
       "      <th>Total_Urban_Population_2010</th>\n",
       "      <th>Total_Rural_Population_2010</th>\n",
       "      <th>Median_Age_2010</th>\n",
       "      <th>Presence_of_Non-Relatives_2010</th>\n",
       "      <th>FIPS</th>\n",
       "      <th>state</th>\n",
       "    </tr>\n",
       "  </thead>\n",
       "  <tbody>\n",
       "    <tr>\n",
       "      <th>0</th>\n",
       "      <td>711.0</td>\n",
       "      <td>711.0</td>\n",
       "      <td>12.0</td>\n",
       "      <td>4.0</td>\n",
       "      <td>0.0</td>\n",
       "      <td>2.0</td>\n",
       "      <td>0.0</td>\n",
       "      <td>6.0</td>\n",
       "      <td>0.0</td>\n",
       "      <td>Stewart Manor village, New York</td>\n",
       "      <td>1896.0</td>\n",
       "      <td>1896.0</td>\n",
       "      <td>0.0</td>\n",
       "      <td>44.8</td>\n",
       "      <td>699.0</td>\n",
       "      <td>71267</td>\n",
       "      <td>36</td>\n",
       "    </tr>\n",
       "    <tr>\n",
       "      <th>1</th>\n",
       "      <td>740.0</td>\n",
       "      <td>740.0</td>\n",
       "      <td>61.0</td>\n",
       "      <td>26.0</td>\n",
       "      <td>1.0</td>\n",
       "      <td>4.0</td>\n",
       "      <td>5.0</td>\n",
       "      <td>7.0</td>\n",
       "      <td>0.0</td>\n",
       "      <td>Stillwater village, New York</td>\n",
       "      <td>1738.0</td>\n",
       "      <td>1736.0</td>\n",
       "      <td>2.0</td>\n",
       "      <td>38.4</td>\n",
       "      <td>679.0</td>\n",
       "      <td>71322</td>\n",
       "      <td>36</td>\n",
       "    </tr>\n",
       "    <tr>\n",
       "      <th>2</th>\n",
       "      <td>545.0</td>\n",
       "      <td>545.0</td>\n",
       "      <td>65.0</td>\n",
       "      <td>7.0</td>\n",
       "      <td>1.0</td>\n",
       "      <td>12.0</td>\n",
       "      <td>0.0</td>\n",
       "      <td>33.0</td>\n",
       "      <td>0.0</td>\n",
       "      <td>Stone Ridge CDP, New York</td>\n",
       "      <td>1173.0</td>\n",
       "      <td>0.0</td>\n",
       "      <td>1173.0</td>\n",
       "      <td>46.5</td>\n",
       "      <td>480.0</td>\n",
       "      <td>71597</td>\n",
       "      <td>36</td>\n",
       "    </tr>\n",
       "    <tr>\n",
       "      <th>3</th>\n",
       "      <td>5042.0</td>\n",
       "      <td>5042.0</td>\n",
       "      <td>196.0</td>\n",
       "      <td>23.0</td>\n",
       "      <td>1.0</td>\n",
       "      <td>42.0</td>\n",
       "      <td>12.0</td>\n",
       "      <td>62.0</td>\n",
       "      <td>0.0</td>\n",
       "      <td>Stony Brook CDP, New York</td>\n",
       "      <td>13740.0</td>\n",
       "      <td>13738.0</td>\n",
       "      <td>2.0</td>\n",
       "      <td>43.0</td>\n",
       "      <td>4846.0</td>\n",
       "      <td>71608</td>\n",
       "      <td>36</td>\n",
       "    </tr>\n",
       "    <tr>\n",
       "      <th>4</th>\n",
       "      <td>166.0</td>\n",
       "      <td>166.0</td>\n",
       "      <td>26.0</td>\n",
       "      <td>1.0</td>\n",
       "      <td>1.0</td>\n",
       "      <td>7.0</td>\n",
       "      <td>1.0</td>\n",
       "      <td>3.0</td>\n",
       "      <td>0.0</td>\n",
       "      <td>Burdett village, New York</td>\n",
       "      <td>340.0</td>\n",
       "      <td>0.0</td>\n",
       "      <td>340.0</td>\n",
       "      <td>41.0</td>\n",
       "      <td>140.0</td>\n",
       "      <td>11132</td>\n",
       "      <td>36</td>\n",
       "    </tr>\n",
       "  </tbody>\n",
       "</table>\n",
       "</div>"
      ],
      "text/plain": [
       "   Total_Housing_2010  Occupancy_Status_For_Housing_Units_2010  \\\n",
       "0               711.0                                    711.0   \n",
       "1               740.0                                    740.0   \n",
       "2               545.0                                    545.0   \n",
       "3              5042.0                                   5042.0   \n",
       "4               166.0                                    166.0   \n",
       "\n",
       "   Vacancy_Status_2010  For_Rent_2010  Rented_Not_Occupied_2010  \\\n",
       "0                 12.0            4.0                       0.0   \n",
       "1                 61.0           26.0                       1.0   \n",
       "2                 65.0            7.0                       1.0   \n",
       "3                196.0           23.0                       1.0   \n",
       "4                 26.0            1.0                       1.0   \n",
       "\n",
       "   For_Sale_Only_2010  Sold_Not_Occupied_2010  \\\n",
       "0                 2.0                     0.0   \n",
       "1                 4.0                     5.0   \n",
       "2                12.0                     0.0   \n",
       "3                42.0                    12.0   \n",
       "4                 7.0                     1.0   \n",
       "\n",
       "   For_Seasonal_Recreational_Or_Occasional_Use_2010  For_Migrant_Workers_2010  \\\n",
       "0                                               6.0                       0.0   \n",
       "1                                               7.0                       0.0   \n",
       "2                                              33.0                       0.0   \n",
       "3                                              62.0                       0.0   \n",
       "4                                               3.0                       0.0   \n",
       "\n",
       "                         City_Name  Total_Population_2010  \\\n",
       "0  Stewart Manor village, New York                 1896.0   \n",
       "1     Stillwater village, New York                 1738.0   \n",
       "2        Stone Ridge CDP, New York                 1173.0   \n",
       "3        Stony Brook CDP, New York                13740.0   \n",
       "4        Burdett village, New York                  340.0   \n",
       "\n",
       "   Total_Urban_Population_2010  Total_Rural_Population_2010  Median_Age_2010  \\\n",
       "0                       1896.0                          0.0             44.8   \n",
       "1                       1736.0                          2.0             38.4   \n",
       "2                          0.0                       1173.0             46.5   \n",
       "3                      13738.0                          2.0             43.0   \n",
       "4                          0.0                        340.0             41.0   \n",
       "\n",
       "   Presence_of_Non-Relatives_2010   FIPS state  \n",
       "0                           699.0  71267    36  \n",
       "1                           679.0  71322    36  \n",
       "2                           480.0  71597    36  \n",
       "3                          4846.0  71608    36  \n",
       "4                           140.0  11132    36  "
      ]
     },
     "execution_count": 28,
     "metadata": {},
     "output_type": "execute_result"
    }
   ],
   "source": [
    "c_pop_2010_50000.head()"
   ]
  },
  {
   "cell_type": "code",
   "execution_count": 29,
   "metadata": {},
   "outputs": [],
   "source": [
    "city_2000 = c.sf1.state_place(keys, states.NY.fips, '*', year=2000)\n",
    "c_pop_2000 = pd.DataFrame.from_records(city_2000)\n",
    "c_pop_2000_50000 = c_pop_2000.rename(columns=renames_2000)"
   ]
  },
  {
   "cell_type": "code",
   "execution_count": 30,
   "metadata": {},
   "outputs": [],
   "source": [
    "c_pop_2000_50000.drop(columns=['City_Name', 'state'], inplace=True)"
   ]
  },
  {
   "cell_type": "code",
   "execution_count": 31,
   "metadata": {},
   "outputs": [
    {
     "data": {
      "text/html": [
       "<div>\n",
       "<style scoped>\n",
       "    .dataframe tbody tr th:only-of-type {\n",
       "        vertical-align: middle;\n",
       "    }\n",
       "\n",
       "    .dataframe tbody tr th {\n",
       "        vertical-align: top;\n",
       "    }\n",
       "\n",
       "    .dataframe thead th {\n",
       "        text-align: right;\n",
       "    }\n",
       "</style>\n",
       "<table border=\"1\" class=\"dataframe\">\n",
       "  <thead>\n",
       "    <tr style=\"text-align: right;\">\n",
       "      <th></th>\n",
       "      <th>Total_Housing_2000</th>\n",
       "      <th>Occupancy_Status_For_Housing_Units_2000</th>\n",
       "      <th>Vacancy_Status_2000</th>\n",
       "      <th>For_Rent_2000</th>\n",
       "      <th>Rented_Not_Occupied_2000</th>\n",
       "      <th>For_Sale_Only_2000</th>\n",
       "      <th>Sold_Not_Occupied_2000</th>\n",
       "      <th>For_Seasonal_Recreational_Or_Occasional_Use_2000</th>\n",
       "      <th>For_Migrant_Workers_2000</th>\n",
       "      <th>Total_Population_2000</th>\n",
       "      <th>Total_Urban_Population_2000</th>\n",
       "      <th>Total_Rural_Population_2000</th>\n",
       "      <th>Median_Age_2000</th>\n",
       "      <th>Presence_of_Non-Relatives_2000</th>\n",
       "      <th>FIPS</th>\n",
       "    </tr>\n",
       "  </thead>\n",
       "  <tbody>\n",
       "    <tr>\n",
       "      <th>0</th>\n",
       "      <td>1158</td>\n",
       "      <td>1158</td>\n",
       "      <td>86</td>\n",
       "      <td>41</td>\n",
       "      <td>11</td>\n",
       "      <td>8</td>\n",
       "      <td>8</td>\n",
       "      <td>0</td>\n",
       "      <td>18</td>\n",
       "      <td>2597</td>\n",
       "      <td>0</td>\n",
       "      <td>0</td>\n",
       "      <td>35.9</td>\n",
       "      <td>2597</td>\n",
       "      <td>03001</td>\n",
       "    </tr>\n",
       "    <tr>\n",
       "      <th>1</th>\n",
       "      <td>823</td>\n",
       "      <td>823</td>\n",
       "      <td>107</td>\n",
       "      <td>31</td>\n",
       "      <td>14</td>\n",
       "      <td>10</td>\n",
       "      <td>20</td>\n",
       "      <td>0</td>\n",
       "      <td>32</td>\n",
       "      <td>1699</td>\n",
       "      <td>0</td>\n",
       "      <td>0</td>\n",
       "      <td>37.1</td>\n",
       "      <td>1699</td>\n",
       "      <td>20346</td>\n",
       "    </tr>\n",
       "    <tr>\n",
       "      <th>2</th>\n",
       "      <td>1018</td>\n",
       "      <td>1018</td>\n",
       "      <td>103</td>\n",
       "      <td>44</td>\n",
       "      <td>18</td>\n",
       "      <td>2</td>\n",
       "      <td>3</td>\n",
       "      <td>0</td>\n",
       "      <td>36</td>\n",
       "      <td>2166</td>\n",
       "      <td>0</td>\n",
       "      <td>0</td>\n",
       "      <td>41.2</td>\n",
       "      <td>2166</td>\n",
       "      <td>20731</td>\n",
       "    </tr>\n",
       "    <tr>\n",
       "      <th>3</th>\n",
       "      <td>329</td>\n",
       "      <td>329</td>\n",
       "      <td>31</td>\n",
       "      <td>6</td>\n",
       "      <td>9</td>\n",
       "      <td>3</td>\n",
       "      <td>4</td>\n",
       "      <td>0</td>\n",
       "      <td>9</td>\n",
       "      <td>791</td>\n",
       "      <td>0</td>\n",
       "      <td>0</td>\n",
       "      <td>38.3</td>\n",
       "      <td>791</td>\n",
       "      <td>21523</td>\n",
       "    </tr>\n",
       "    <tr>\n",
       "      <th>4</th>\n",
       "      <td>5564</td>\n",
       "      <td>5564</td>\n",
       "      <td>550</td>\n",
       "      <td>287</td>\n",
       "      <td>90</td>\n",
       "      <td>47</td>\n",
       "      <td>29</td>\n",
       "      <td>2</td>\n",
       "      <td>95</td>\n",
       "      <td>13617</td>\n",
       "      <td>0</td>\n",
       "      <td>0</td>\n",
       "      <td>31.8</td>\n",
       "      <td>13617</td>\n",
       "      <td>28640</td>\n",
       "    </tr>\n",
       "  </tbody>\n",
       "</table>\n",
       "</div>"
      ],
      "text/plain": [
       "  Total_Housing_2000 Occupancy_Status_For_Housing_Units_2000  \\\n",
       "0               1158                                    1158   \n",
       "1                823                                     823   \n",
       "2               1018                                    1018   \n",
       "3                329                                     329   \n",
       "4               5564                                    5564   \n",
       "\n",
       "  Vacancy_Status_2000 For_Rent_2000 Rented_Not_Occupied_2000  \\\n",
       "0                  86            41                       11   \n",
       "1                 107            31                       14   \n",
       "2                 103            44                       18   \n",
       "3                  31             6                        9   \n",
       "4                 550           287                       90   \n",
       "\n",
       "  For_Sale_Only_2000 Sold_Not_Occupied_2000  \\\n",
       "0                  8                      8   \n",
       "1                 10                     20   \n",
       "2                  2                      3   \n",
       "3                  3                      4   \n",
       "4                 47                     29   \n",
       "\n",
       "  For_Seasonal_Recreational_Or_Occasional_Use_2000 For_Migrant_Workers_2000  \\\n",
       "0                                                0                       18   \n",
       "1                                                0                       32   \n",
       "2                                                0                       36   \n",
       "3                                                0                        9   \n",
       "4                                                2                       95   \n",
       "\n",
       "  Total_Population_2000 Total_Urban_Population_2000  \\\n",
       "0                  2597                           0   \n",
       "1                  1699                           0   \n",
       "2                  2166                           0   \n",
       "3                   791                           0   \n",
       "4                 13617                           0   \n",
       "\n",
       "  Total_Rural_Population_2000 Median_Age_2000 Presence_of_Non-Relatives_2000  \\\n",
       "0                           0            35.9                           2597   \n",
       "1                           0            37.1                           1699   \n",
       "2                           0            41.2                           2166   \n",
       "3                           0            38.3                            791   \n",
       "4                           0            31.8                          13617   \n",
       "\n",
       "    FIPS  \n",
       "0  03001  \n",
       "1  20346  \n",
       "2  20731  \n",
       "3  21523  \n",
       "4  28640  "
      ]
     },
     "execution_count": 31,
     "metadata": {},
     "output_type": "execute_result"
    }
   ],
   "source": [
    "c_pop_2000_50000.head()"
   ]
  },
  {
   "cell_type": "code",
   "execution_count": 32,
   "metadata": {},
   "outputs": [],
   "source": [
    "c_pop_2000_50000.set_index('FIPS', inplace=True)\n",
    "c_pop_2010_50000.set_index('FIPS', inplace=True)"
   ]
  },
  {
   "cell_type": "code",
   "execution_count": 33,
   "metadata": {},
   "outputs": [],
   "source": [
    "ny_join = c_pop_2000_50000.join(c_pop_2010_50000, on='FIPS')\n",
    "ny_join = ny_join.join(pivot_em, on='FIPS')"
   ]
  },
  {
   "cell_type": "code",
   "execution_count": 34,
   "metadata": {},
   "outputs": [
    {
     "data": {
      "text/html": [
       "<div>\n",
       "<style scoped>\n",
       "    .dataframe tbody tr th:only-of-type {\n",
       "        vertical-align: middle;\n",
       "    }\n",
       "\n",
       "    .dataframe tbody tr th {\n",
       "        vertical-align: top;\n",
       "    }\n",
       "\n",
       "    .dataframe thead th {\n",
       "        text-align: right;\n",
       "    }\n",
       "</style>\n",
       "<table border=\"1\" class=\"dataframe\">\n",
       "  <thead>\n",
       "    <tr style=\"text-align: right;\">\n",
       "      <th></th>\n",
       "      <th>Total_Housing_2000</th>\n",
       "      <th>Occupancy_Status_For_Housing_Units_2000</th>\n",
       "      <th>Vacancy_Status_2000</th>\n",
       "      <th>For_Rent_2000</th>\n",
       "      <th>Rented_Not_Occupied_2000</th>\n",
       "      <th>For_Sale_Only_2000</th>\n",
       "      <th>Sold_Not_Occupied_2000</th>\n",
       "      <th>For_Seasonal_Recreational_Or_Occasional_Use_2000</th>\n",
       "      <th>For_Migrant_Workers_2000</th>\n",
       "      <th>Total_Population_2000</th>\n",
       "      <th>...</th>\n",
       "      <th>state</th>\n",
       "      <th>2010</th>\n",
       "      <th>2011</th>\n",
       "      <th>2012</th>\n",
       "      <th>2013</th>\n",
       "      <th>2014</th>\n",
       "      <th>2015</th>\n",
       "      <th>2016</th>\n",
       "      <th>2017</th>\n",
       "      <th>2018</th>\n",
       "    </tr>\n",
       "    <tr>\n",
       "      <th>FIPS</th>\n",
       "      <th></th>\n",
       "      <th></th>\n",
       "      <th></th>\n",
       "      <th></th>\n",
       "      <th></th>\n",
       "      <th></th>\n",
       "      <th></th>\n",
       "      <th></th>\n",
       "      <th></th>\n",
       "      <th></th>\n",
       "      <th></th>\n",
       "      <th></th>\n",
       "      <th></th>\n",
       "      <th></th>\n",
       "      <th></th>\n",
       "      <th></th>\n",
       "      <th></th>\n",
       "      <th></th>\n",
       "      <th></th>\n",
       "      <th></th>\n",
       "      <th></th>\n",
       "    </tr>\n",
       "  </thead>\n",
       "  <tbody>\n",
       "    <tr>\n",
       "      <th>03001</th>\n",
       "      <td>1158</td>\n",
       "      <td>1158</td>\n",
       "      <td>86</td>\n",
       "      <td>41</td>\n",
       "      <td>11</td>\n",
       "      <td>8</td>\n",
       "      <td>8</td>\n",
       "      <td>0</td>\n",
       "      <td>18</td>\n",
       "      <td>2597</td>\n",
       "      <td>...</td>\n",
       "      <td>36</td>\n",
       "      <td>NaN</td>\n",
       "      <td>NaN</td>\n",
       "      <td>NaN</td>\n",
       "      <td>NaN</td>\n",
       "      <td>NaN</td>\n",
       "      <td>NaN</td>\n",
       "      <td>NaN</td>\n",
       "      <td>NaN</td>\n",
       "      <td>NaN</td>\n",
       "    </tr>\n",
       "    <tr>\n",
       "      <th>20346</th>\n",
       "      <td>823</td>\n",
       "      <td>823</td>\n",
       "      <td>107</td>\n",
       "      <td>31</td>\n",
       "      <td>14</td>\n",
       "      <td>10</td>\n",
       "      <td>20</td>\n",
       "      <td>0</td>\n",
       "      <td>32</td>\n",
       "      <td>1699</td>\n",
       "      <td>...</td>\n",
       "      <td>36</td>\n",
       "      <td>NaN</td>\n",
       "      <td>NaN</td>\n",
       "      <td>NaN</td>\n",
       "      <td>NaN</td>\n",
       "      <td>NaN</td>\n",
       "      <td>NaN</td>\n",
       "      <td>NaN</td>\n",
       "      <td>NaN</td>\n",
       "      <td>NaN</td>\n",
       "    </tr>\n",
       "    <tr>\n",
       "      <th>20731</th>\n",
       "      <td>1018</td>\n",
       "      <td>1018</td>\n",
       "      <td>103</td>\n",
       "      <td>44</td>\n",
       "      <td>18</td>\n",
       "      <td>2</td>\n",
       "      <td>3</td>\n",
       "      <td>0</td>\n",
       "      <td>36</td>\n",
       "      <td>2166</td>\n",
       "      <td>...</td>\n",
       "      <td>36</td>\n",
       "      <td>NaN</td>\n",
       "      <td>NaN</td>\n",
       "      <td>NaN</td>\n",
       "      <td>NaN</td>\n",
       "      <td>NaN</td>\n",
       "      <td>NaN</td>\n",
       "      <td>NaN</td>\n",
       "      <td>NaN</td>\n",
       "      <td>NaN</td>\n",
       "    </tr>\n",
       "    <tr>\n",
       "      <th>21523</th>\n",
       "      <td>329</td>\n",
       "      <td>329</td>\n",
       "      <td>31</td>\n",
       "      <td>6</td>\n",
       "      <td>9</td>\n",
       "      <td>3</td>\n",
       "      <td>4</td>\n",
       "      <td>0</td>\n",
       "      <td>9</td>\n",
       "      <td>791</td>\n",
       "      <td>...</td>\n",
       "      <td>36</td>\n",
       "      <td>NaN</td>\n",
       "      <td>NaN</td>\n",
       "      <td>NaN</td>\n",
       "      <td>NaN</td>\n",
       "      <td>NaN</td>\n",
       "      <td>NaN</td>\n",
       "      <td>NaN</td>\n",
       "      <td>NaN</td>\n",
       "      <td>NaN</td>\n",
       "    </tr>\n",
       "    <tr>\n",
       "      <th>28640</th>\n",
       "      <td>5564</td>\n",
       "      <td>5564</td>\n",
       "      <td>550</td>\n",
       "      <td>287</td>\n",
       "      <td>90</td>\n",
       "      <td>47</td>\n",
       "      <td>29</td>\n",
       "      <td>2</td>\n",
       "      <td>95</td>\n",
       "      <td>13617</td>\n",
       "      <td>...</td>\n",
       "      <td>36</td>\n",
       "      <td>NaN</td>\n",
       "      <td>NaN</td>\n",
       "      <td>NaN</td>\n",
       "      <td>NaN</td>\n",
       "      <td>NaN</td>\n",
       "      <td>NaN</td>\n",
       "      <td>NaN</td>\n",
       "      <td>NaN</td>\n",
       "      <td>NaN</td>\n",
       "    </tr>\n",
       "  </tbody>\n",
       "</table>\n",
       "<p>5 rows × 39 columns</p>\n",
       "</div>"
      ],
      "text/plain": [
       "      Total_Housing_2000 Occupancy_Status_For_Housing_Units_2000  \\\n",
       "FIPS                                                               \n",
       "03001               1158                                    1158   \n",
       "20346                823                                     823   \n",
       "20731               1018                                    1018   \n",
       "21523                329                                     329   \n",
       "28640               5564                                    5564   \n",
       "\n",
       "      Vacancy_Status_2000 For_Rent_2000 Rented_Not_Occupied_2000  \\\n",
       "FIPS                                                               \n",
       "03001                  86            41                       11   \n",
       "20346                 107            31                       14   \n",
       "20731                 103            44                       18   \n",
       "21523                  31             6                        9   \n",
       "28640                 550           287                       90   \n",
       "\n",
       "      For_Sale_Only_2000 Sold_Not_Occupied_2000  \\\n",
       "FIPS                                              \n",
       "03001                  8                      8   \n",
       "20346                 10                     20   \n",
       "20731                  2                      3   \n",
       "21523                  3                      4   \n",
       "28640                 47                     29   \n",
       "\n",
       "      For_Seasonal_Recreational_Or_Occasional_Use_2000  \\\n",
       "FIPS                                                     \n",
       "03001                                                0   \n",
       "20346                                                0   \n",
       "20731                                                0   \n",
       "21523                                                0   \n",
       "28640                                                2   \n",
       "\n",
       "      For_Migrant_Workers_2000 Total_Population_2000  ... state 2010 2011  \\\n",
       "FIPS                                                  ...                   \n",
       "03001                       18                  2597  ...    36  NaN  NaN   \n",
       "20346                       32                  1699  ...    36  NaN  NaN   \n",
       "20731                       36                  2166  ...    36  NaN  NaN   \n",
       "21523                        9                   791  ...    36  NaN  NaN   \n",
       "28640                       95                 13617  ...    36  NaN  NaN   \n",
       "\n",
       "      2012  2013  2014  2015  2016  2017  2018  \n",
       "FIPS                                            \n",
       "03001  NaN   NaN   NaN   NaN   NaN   NaN   NaN  \n",
       "20346  NaN   NaN   NaN   NaN   NaN   NaN   NaN  \n",
       "20731  NaN   NaN   NaN   NaN   NaN   NaN   NaN  \n",
       "21523  NaN   NaN   NaN   NaN   NaN   NaN   NaN  \n",
       "28640  NaN   NaN   NaN   NaN   NaN   NaN   NaN  \n",
       "\n",
       "[5 rows x 39 columns]"
      ]
     },
     "execution_count": 34,
     "metadata": {},
     "output_type": "execute_result"
    }
   ],
   "source": [
    "ny_join.head()"
   ]
  },
  {
   "cell_type": "code",
   "execution_count": 35,
   "metadata": {},
   "outputs": [],
   "source": [
    "ny_join['Total_Population_2000'] = ny_join['Total_Population_2000'].astype('i8')"
   ]
  },
  {
   "cell_type": "code",
   "execution_count": 36,
   "metadata": {},
   "outputs": [],
   "source": [
    "ny_join = ny_join.nlargest(5, 'Total_Population_2000')"
   ]
  },
  {
   "cell_type": "code",
   "execution_count": 37,
   "metadata": {},
   "outputs": [
    {
     "data": {
      "application/vnd.plotly.v1+json": {
       "config": {
        "plotlyServerURL": "https://plot.ly"
       },
       "data": [
        {
         "name": "2000_pop",
         "type": "bar",
         "x": [
          "New York city, New York",
          "Buffalo city, New York",
          "Rochester city, New York",
          "Yonkers city, New York",
          "Syracuse city, New York"
         ],
         "y": [
          8008278,
          292648,
          219773,
          196086,
          147306
         ]
        },
        {
         "name": "2010_pop",
         "type": "bar",
         "x": [
          "New York city, New York",
          "Buffalo city, New York",
          "Rochester city, New York",
          "Yonkers city, New York",
          "Syracuse city, New York"
         ],
         "y": [
          8175133,
          261310,
          210565,
          195976,
          145170
         ]
        },
        {
         "name": "2000_housing",
         "type": "bar",
         "x": [
          "New York city, New York",
          "Buffalo city, New York",
          "Rochester city, New York",
          "Yonkers city, New York",
          "Syracuse city, New York"
         ],
         "y": [
          "3200912",
          "145574",
          "99789",
          "77589",
          "68192"
         ]
        },
        {
         "name": "2010_housing",
         "type": "bar",
         "x": [
          "New York city, New York",
          "Buffalo city, New York",
          "Rochester city, New York",
          "Yonkers city, New York",
          "Syracuse city, New York"
         ],
         "y": [
          3371062,
          133444,
          97158,
          80389,
          64356
         ]
        },
        {
         "name": "2000_non-relatives",
         "type": "bar",
         "x": [
          "New York city, New York",
          "Buffalo city, New York",
          "Rochester city, New York",
          "Yonkers city, New York",
          "Syracuse city, New York"
         ],
         "y": [
          "8008278",
          "292648",
          "219773",
          "196086",
          "147306"
         ]
        },
        {
         "name": "2010_non-relatives",
         "type": "bar",
         "x": [
          "New York city, New York",
          "Buffalo city, New York",
          "Rochester city, New York",
          "Yonkers city, New York",
          "Syracuse city, New York"
         ],
         "y": [
          3109784,
          112536,
          87027,
          74550,
          57355
         ]
        }
       ],
       "layout": {
        "barmode": "group",
        "template": {
         "data": {
          "bar": [
           {
            "error_x": {
             "color": "#2a3f5f"
            },
            "error_y": {
             "color": "#2a3f5f"
            },
            "marker": {
             "line": {
              "color": "#E5ECF6",
              "width": 0.5
             }
            },
            "type": "bar"
           }
          ],
          "barpolar": [
           {
            "marker": {
             "line": {
              "color": "#E5ECF6",
              "width": 0.5
             }
            },
            "type": "barpolar"
           }
          ],
          "carpet": [
           {
            "aaxis": {
             "endlinecolor": "#2a3f5f",
             "gridcolor": "white",
             "linecolor": "white",
             "minorgridcolor": "white",
             "startlinecolor": "#2a3f5f"
            },
            "baxis": {
             "endlinecolor": "#2a3f5f",
             "gridcolor": "white",
             "linecolor": "white",
             "minorgridcolor": "white",
             "startlinecolor": "#2a3f5f"
            },
            "type": "carpet"
           }
          ],
          "choropleth": [
           {
            "colorbar": {
             "outlinewidth": 0,
             "ticks": ""
            },
            "type": "choropleth"
           }
          ],
          "contour": [
           {
            "colorbar": {
             "outlinewidth": 0,
             "ticks": ""
            },
            "colorscale": [
             [
              0,
              "#0d0887"
             ],
             [
              0.1111111111111111,
              "#46039f"
             ],
             [
              0.2222222222222222,
              "#7201a8"
             ],
             [
              0.3333333333333333,
              "#9c179e"
             ],
             [
              0.4444444444444444,
              "#bd3786"
             ],
             [
              0.5555555555555556,
              "#d8576b"
             ],
             [
              0.6666666666666666,
              "#ed7953"
             ],
             [
              0.7777777777777778,
              "#fb9f3a"
             ],
             [
              0.8888888888888888,
              "#fdca26"
             ],
             [
              1,
              "#f0f921"
             ]
            ],
            "type": "contour"
           }
          ],
          "contourcarpet": [
           {
            "colorbar": {
             "outlinewidth": 0,
             "ticks": ""
            },
            "type": "contourcarpet"
           }
          ],
          "heatmap": [
           {
            "colorbar": {
             "outlinewidth": 0,
             "ticks": ""
            },
            "colorscale": [
             [
              0,
              "#0d0887"
             ],
             [
              0.1111111111111111,
              "#46039f"
             ],
             [
              0.2222222222222222,
              "#7201a8"
             ],
             [
              0.3333333333333333,
              "#9c179e"
             ],
             [
              0.4444444444444444,
              "#bd3786"
             ],
             [
              0.5555555555555556,
              "#d8576b"
             ],
             [
              0.6666666666666666,
              "#ed7953"
             ],
             [
              0.7777777777777778,
              "#fb9f3a"
             ],
             [
              0.8888888888888888,
              "#fdca26"
             ],
             [
              1,
              "#f0f921"
             ]
            ],
            "type": "heatmap"
           }
          ],
          "heatmapgl": [
           {
            "colorbar": {
             "outlinewidth": 0,
             "ticks": ""
            },
            "colorscale": [
             [
              0,
              "#0d0887"
             ],
             [
              0.1111111111111111,
              "#46039f"
             ],
             [
              0.2222222222222222,
              "#7201a8"
             ],
             [
              0.3333333333333333,
              "#9c179e"
             ],
             [
              0.4444444444444444,
              "#bd3786"
             ],
             [
              0.5555555555555556,
              "#d8576b"
             ],
             [
              0.6666666666666666,
              "#ed7953"
             ],
             [
              0.7777777777777778,
              "#fb9f3a"
             ],
             [
              0.8888888888888888,
              "#fdca26"
             ],
             [
              1,
              "#f0f921"
             ]
            ],
            "type": "heatmapgl"
           }
          ],
          "histogram": [
           {
            "marker": {
             "colorbar": {
              "outlinewidth": 0,
              "ticks": ""
             }
            },
            "type": "histogram"
           }
          ],
          "histogram2d": [
           {
            "colorbar": {
             "outlinewidth": 0,
             "ticks": ""
            },
            "colorscale": [
             [
              0,
              "#0d0887"
             ],
             [
              0.1111111111111111,
              "#46039f"
             ],
             [
              0.2222222222222222,
              "#7201a8"
             ],
             [
              0.3333333333333333,
              "#9c179e"
             ],
             [
              0.4444444444444444,
              "#bd3786"
             ],
             [
              0.5555555555555556,
              "#d8576b"
             ],
             [
              0.6666666666666666,
              "#ed7953"
             ],
             [
              0.7777777777777778,
              "#fb9f3a"
             ],
             [
              0.8888888888888888,
              "#fdca26"
             ],
             [
              1,
              "#f0f921"
             ]
            ],
            "type": "histogram2d"
           }
          ],
          "histogram2dcontour": [
           {
            "colorbar": {
             "outlinewidth": 0,
             "ticks": ""
            },
            "colorscale": [
             [
              0,
              "#0d0887"
             ],
             [
              0.1111111111111111,
              "#46039f"
             ],
             [
              0.2222222222222222,
              "#7201a8"
             ],
             [
              0.3333333333333333,
              "#9c179e"
             ],
             [
              0.4444444444444444,
              "#bd3786"
             ],
             [
              0.5555555555555556,
              "#d8576b"
             ],
             [
              0.6666666666666666,
              "#ed7953"
             ],
             [
              0.7777777777777778,
              "#fb9f3a"
             ],
             [
              0.8888888888888888,
              "#fdca26"
             ],
             [
              1,
              "#f0f921"
             ]
            ],
            "type": "histogram2dcontour"
           }
          ],
          "mesh3d": [
           {
            "colorbar": {
             "outlinewidth": 0,
             "ticks": ""
            },
            "type": "mesh3d"
           }
          ],
          "parcoords": [
           {
            "line": {
             "colorbar": {
              "outlinewidth": 0,
              "ticks": ""
             }
            },
            "type": "parcoords"
           }
          ],
          "scatter": [
           {
            "marker": {
             "colorbar": {
              "outlinewidth": 0,
              "ticks": ""
             }
            },
            "type": "scatter"
           }
          ],
          "scatter3d": [
           {
            "line": {
             "colorbar": {
              "outlinewidth": 0,
              "ticks": ""
             }
            },
            "marker": {
             "colorbar": {
              "outlinewidth": 0,
              "ticks": ""
             }
            },
            "type": "scatter3d"
           }
          ],
          "scattercarpet": [
           {
            "marker": {
             "colorbar": {
              "outlinewidth": 0,
              "ticks": ""
             }
            },
            "type": "scattercarpet"
           }
          ],
          "scattergeo": [
           {
            "marker": {
             "colorbar": {
              "outlinewidth": 0,
              "ticks": ""
             }
            },
            "type": "scattergeo"
           }
          ],
          "scattergl": [
           {
            "marker": {
             "colorbar": {
              "outlinewidth": 0,
              "ticks": ""
             }
            },
            "type": "scattergl"
           }
          ],
          "scattermapbox": [
           {
            "marker": {
             "colorbar": {
              "outlinewidth": 0,
              "ticks": ""
             }
            },
            "type": "scattermapbox"
           }
          ],
          "scatterpolar": [
           {
            "marker": {
             "colorbar": {
              "outlinewidth": 0,
              "ticks": ""
             }
            },
            "type": "scatterpolar"
           }
          ],
          "scatterpolargl": [
           {
            "marker": {
             "colorbar": {
              "outlinewidth": 0,
              "ticks": ""
             }
            },
            "type": "scatterpolargl"
           }
          ],
          "scatterternary": [
           {
            "marker": {
             "colorbar": {
              "outlinewidth": 0,
              "ticks": ""
             }
            },
            "type": "scatterternary"
           }
          ],
          "surface": [
           {
            "colorbar": {
             "outlinewidth": 0,
             "ticks": ""
            },
            "colorscale": [
             [
              0,
              "#0d0887"
             ],
             [
              0.1111111111111111,
              "#46039f"
             ],
             [
              0.2222222222222222,
              "#7201a8"
             ],
             [
              0.3333333333333333,
              "#9c179e"
             ],
             [
              0.4444444444444444,
              "#bd3786"
             ],
             [
              0.5555555555555556,
              "#d8576b"
             ],
             [
              0.6666666666666666,
              "#ed7953"
             ],
             [
              0.7777777777777778,
              "#fb9f3a"
             ],
             [
              0.8888888888888888,
              "#fdca26"
             ],
             [
              1,
              "#f0f921"
             ]
            ],
            "type": "surface"
           }
          ],
          "table": [
           {
            "cells": {
             "fill": {
              "color": "#EBF0F8"
             },
             "line": {
              "color": "white"
             }
            },
            "header": {
             "fill": {
              "color": "#C8D4E3"
             },
             "line": {
              "color": "white"
             }
            },
            "type": "table"
           }
          ]
         },
         "layout": {
          "annotationdefaults": {
           "arrowcolor": "#2a3f5f",
           "arrowhead": 0,
           "arrowwidth": 1
          },
          "colorscale": {
           "diverging": [
            [
             0,
             "#8e0152"
            ],
            [
             0.1,
             "#c51b7d"
            ],
            [
             0.2,
             "#de77ae"
            ],
            [
             0.3,
             "#f1b6da"
            ],
            [
             0.4,
             "#fde0ef"
            ],
            [
             0.5,
             "#f7f7f7"
            ],
            [
             0.6,
             "#e6f5d0"
            ],
            [
             0.7,
             "#b8e186"
            ],
            [
             0.8,
             "#7fbc41"
            ],
            [
             0.9,
             "#4d9221"
            ],
            [
             1,
             "#276419"
            ]
           ],
           "sequential": [
            [
             0,
             "#0d0887"
            ],
            [
             0.1111111111111111,
             "#46039f"
            ],
            [
             0.2222222222222222,
             "#7201a8"
            ],
            [
             0.3333333333333333,
             "#9c179e"
            ],
            [
             0.4444444444444444,
             "#bd3786"
            ],
            [
             0.5555555555555556,
             "#d8576b"
            ],
            [
             0.6666666666666666,
             "#ed7953"
            ],
            [
             0.7777777777777778,
             "#fb9f3a"
            ],
            [
             0.8888888888888888,
             "#fdca26"
            ],
            [
             1,
             "#f0f921"
            ]
           ],
           "sequentialminus": [
            [
             0,
             "#0d0887"
            ],
            [
             0.1111111111111111,
             "#46039f"
            ],
            [
             0.2222222222222222,
             "#7201a8"
            ],
            [
             0.3333333333333333,
             "#9c179e"
            ],
            [
             0.4444444444444444,
             "#bd3786"
            ],
            [
             0.5555555555555556,
             "#d8576b"
            ],
            [
             0.6666666666666666,
             "#ed7953"
            ],
            [
             0.7777777777777778,
             "#fb9f3a"
            ],
            [
             0.8888888888888888,
             "#fdca26"
            ],
            [
             1,
             "#f0f921"
            ]
           ]
          },
          "colorway": [
           "#636efa",
           "#EF553B",
           "#00cc96",
           "#ab63fa",
           "#FFA15A",
           "#19d3f3",
           "#FF6692",
           "#B6E880",
           "#FF97FF",
           "#FECB52"
          ],
          "font": {
           "color": "#2a3f5f"
          },
          "geo": {
           "bgcolor": "white",
           "lakecolor": "white",
           "landcolor": "#E5ECF6",
           "showlakes": true,
           "showland": true,
           "subunitcolor": "white"
          },
          "hoverlabel": {
           "align": "left"
          },
          "hovermode": "closest",
          "mapbox": {
           "style": "light"
          },
          "paper_bgcolor": "white",
          "plot_bgcolor": "#E5ECF6",
          "polar": {
           "angularaxis": {
            "gridcolor": "white",
            "linecolor": "white",
            "ticks": ""
           },
           "bgcolor": "#E5ECF6",
           "radialaxis": {
            "gridcolor": "white",
            "linecolor": "white",
            "ticks": ""
           }
          },
          "scene": {
           "xaxis": {
            "backgroundcolor": "#E5ECF6",
            "gridcolor": "white",
            "gridwidth": 2,
            "linecolor": "white",
            "showbackground": true,
            "ticks": "",
            "zerolinecolor": "white"
           },
           "yaxis": {
            "backgroundcolor": "#E5ECF6",
            "gridcolor": "white",
            "gridwidth": 2,
            "linecolor": "white",
            "showbackground": true,
            "ticks": "",
            "zerolinecolor": "white"
           },
           "zaxis": {
            "backgroundcolor": "#E5ECF6",
            "gridcolor": "white",
            "gridwidth": 2,
            "linecolor": "white",
            "showbackground": true,
            "ticks": "",
            "zerolinecolor": "white"
           }
          },
          "shapedefaults": {
           "line": {
            "color": "#2a3f5f"
           }
          },
          "ternary": {
           "aaxis": {
            "gridcolor": "white",
            "linecolor": "white",
            "ticks": ""
           },
           "baxis": {
            "gridcolor": "white",
            "linecolor": "white",
            "ticks": ""
           },
           "bgcolor": "#E5ECF6",
           "caxis": {
            "gridcolor": "white",
            "linecolor": "white",
            "ticks": ""
           }
          },
          "title": {
           "x": 0.05
          },
          "xaxis": {
           "automargin": true,
           "gridcolor": "white",
           "linecolor": "white",
           "ticks": "",
           "zerolinecolor": "white",
           "zerolinewidth": 2
          },
          "yaxis": {
           "automargin": true,
           "gridcolor": "white",
           "linecolor": "white",
           "ticks": "",
           "zerolinecolor": "white",
           "zerolinewidth": 2
          }
         }
        }
       }
      },
      "text/html": [
       "<div>\n",
       "        \n",
       "        \n",
       "            <div id=\"4e7123e7-49c0-49ce-bff3-286d2b6bfc34\" class=\"plotly-graph-div\" style=\"height:525px; width:100%;\"></div>\n",
       "            <script type=\"text/javascript\">\n",
       "                require([\"plotly\"], function(Plotly) {\n",
       "                    window.PLOTLYENV=window.PLOTLYENV || {};\n",
       "                    \n",
       "                if (document.getElementById(\"4e7123e7-49c0-49ce-bff3-286d2b6bfc34\")) {\n",
       "                    Plotly.newPlot(\n",
       "                        '4e7123e7-49c0-49ce-bff3-286d2b6bfc34',\n",
       "                        [{\"name\": \"2000_pop\", \"type\": \"bar\", \"x\": [\"New York city, New York\", \"Buffalo city, New York\", \"Rochester city, New York\", \"Yonkers city, New York\", \"Syracuse city, New York\"], \"y\": [8008278, 292648, 219773, 196086, 147306]}, {\"name\": \"2010_pop\", \"type\": \"bar\", \"x\": [\"New York city, New York\", \"Buffalo city, New York\", \"Rochester city, New York\", \"Yonkers city, New York\", \"Syracuse city, New York\"], \"y\": [8175133.0, 261310.0, 210565.0, 195976.0, 145170.0]}, {\"name\": \"2000_housing\", \"type\": \"bar\", \"x\": [\"New York city, New York\", \"Buffalo city, New York\", \"Rochester city, New York\", \"Yonkers city, New York\", \"Syracuse city, New York\"], \"y\": [\"3200912\", \"145574\", \"99789\", \"77589\", \"68192\"]}, {\"name\": \"2010_housing\", \"type\": \"bar\", \"x\": [\"New York city, New York\", \"Buffalo city, New York\", \"Rochester city, New York\", \"Yonkers city, New York\", \"Syracuse city, New York\"], \"y\": [3371062.0, 133444.0, 97158.0, 80389.0, 64356.0]}, {\"name\": \"2000_non-relatives\", \"type\": \"bar\", \"x\": [\"New York city, New York\", \"Buffalo city, New York\", \"Rochester city, New York\", \"Yonkers city, New York\", \"Syracuse city, New York\"], \"y\": [\"8008278\", \"292648\", \"219773\", \"196086\", \"147306\"]}, {\"name\": \"2010_non-relatives\", \"type\": \"bar\", \"x\": [\"New York city, New York\", \"Buffalo city, New York\", \"Rochester city, New York\", \"Yonkers city, New York\", \"Syracuse city, New York\"], \"y\": [3109784.0, 112536.0, 87027.0, 74550.0, 57355.0]}],\n",
       "                        {\"barmode\": \"group\", \"template\": {\"data\": {\"bar\": [{\"error_x\": {\"color\": \"#2a3f5f\"}, \"error_y\": {\"color\": \"#2a3f5f\"}, \"marker\": {\"line\": {\"color\": \"#E5ECF6\", \"width\": 0.5}}, \"type\": \"bar\"}], \"barpolar\": [{\"marker\": {\"line\": {\"color\": \"#E5ECF6\", \"width\": 0.5}}, \"type\": \"barpolar\"}], \"carpet\": [{\"aaxis\": {\"endlinecolor\": \"#2a3f5f\", \"gridcolor\": \"white\", \"linecolor\": \"white\", \"minorgridcolor\": \"white\", \"startlinecolor\": \"#2a3f5f\"}, \"baxis\": {\"endlinecolor\": \"#2a3f5f\", \"gridcolor\": \"white\", \"linecolor\": \"white\", \"minorgridcolor\": \"white\", \"startlinecolor\": \"#2a3f5f\"}, \"type\": \"carpet\"}], \"choropleth\": [{\"colorbar\": {\"outlinewidth\": 0, \"ticks\": \"\"}, \"type\": \"choropleth\"}], \"contour\": [{\"colorbar\": {\"outlinewidth\": 0, \"ticks\": \"\"}, \"colorscale\": [[0.0, \"#0d0887\"], [0.1111111111111111, \"#46039f\"], [0.2222222222222222, \"#7201a8\"], [0.3333333333333333, \"#9c179e\"], [0.4444444444444444, \"#bd3786\"], [0.5555555555555556, \"#d8576b\"], [0.6666666666666666, \"#ed7953\"], [0.7777777777777778, \"#fb9f3a\"], [0.8888888888888888, \"#fdca26\"], [1.0, \"#f0f921\"]], \"type\": \"contour\"}], \"contourcarpet\": [{\"colorbar\": {\"outlinewidth\": 0, \"ticks\": \"\"}, \"type\": \"contourcarpet\"}], \"heatmap\": [{\"colorbar\": {\"outlinewidth\": 0, \"ticks\": \"\"}, \"colorscale\": [[0.0, \"#0d0887\"], [0.1111111111111111, \"#46039f\"], [0.2222222222222222, \"#7201a8\"], [0.3333333333333333, \"#9c179e\"], [0.4444444444444444, \"#bd3786\"], [0.5555555555555556, \"#d8576b\"], [0.6666666666666666, \"#ed7953\"], [0.7777777777777778, \"#fb9f3a\"], [0.8888888888888888, \"#fdca26\"], [1.0, \"#f0f921\"]], \"type\": \"heatmap\"}], \"heatmapgl\": [{\"colorbar\": {\"outlinewidth\": 0, \"ticks\": \"\"}, \"colorscale\": [[0.0, \"#0d0887\"], [0.1111111111111111, \"#46039f\"], [0.2222222222222222, \"#7201a8\"], [0.3333333333333333, \"#9c179e\"], [0.4444444444444444, \"#bd3786\"], [0.5555555555555556, \"#d8576b\"], [0.6666666666666666, \"#ed7953\"], [0.7777777777777778, \"#fb9f3a\"], [0.8888888888888888, \"#fdca26\"], [1.0, \"#f0f921\"]], \"type\": \"heatmapgl\"}], \"histogram\": [{\"marker\": {\"colorbar\": {\"outlinewidth\": 0, \"ticks\": \"\"}}, \"type\": \"histogram\"}], \"histogram2d\": [{\"colorbar\": {\"outlinewidth\": 0, \"ticks\": \"\"}, \"colorscale\": [[0.0, \"#0d0887\"], [0.1111111111111111, \"#46039f\"], [0.2222222222222222, \"#7201a8\"], [0.3333333333333333, \"#9c179e\"], [0.4444444444444444, \"#bd3786\"], [0.5555555555555556, \"#d8576b\"], [0.6666666666666666, \"#ed7953\"], [0.7777777777777778, \"#fb9f3a\"], [0.8888888888888888, \"#fdca26\"], [1.0, \"#f0f921\"]], \"type\": \"histogram2d\"}], \"histogram2dcontour\": [{\"colorbar\": {\"outlinewidth\": 0, \"ticks\": \"\"}, \"colorscale\": [[0.0, \"#0d0887\"], [0.1111111111111111, \"#46039f\"], [0.2222222222222222, \"#7201a8\"], [0.3333333333333333, \"#9c179e\"], [0.4444444444444444, \"#bd3786\"], [0.5555555555555556, \"#d8576b\"], [0.6666666666666666, \"#ed7953\"], [0.7777777777777778, \"#fb9f3a\"], [0.8888888888888888, \"#fdca26\"], [1.0, \"#f0f921\"]], \"type\": \"histogram2dcontour\"}], \"mesh3d\": [{\"colorbar\": {\"outlinewidth\": 0, \"ticks\": \"\"}, \"type\": \"mesh3d\"}], \"parcoords\": [{\"line\": {\"colorbar\": {\"outlinewidth\": 0, \"ticks\": \"\"}}, \"type\": \"parcoords\"}], \"scatter\": [{\"marker\": {\"colorbar\": {\"outlinewidth\": 0, \"ticks\": \"\"}}, \"type\": \"scatter\"}], \"scatter3d\": [{\"line\": {\"colorbar\": {\"outlinewidth\": 0, \"ticks\": \"\"}}, \"marker\": {\"colorbar\": {\"outlinewidth\": 0, \"ticks\": \"\"}}, \"type\": \"scatter3d\"}], \"scattercarpet\": [{\"marker\": {\"colorbar\": {\"outlinewidth\": 0, \"ticks\": \"\"}}, \"type\": \"scattercarpet\"}], \"scattergeo\": [{\"marker\": {\"colorbar\": {\"outlinewidth\": 0, \"ticks\": \"\"}}, \"type\": \"scattergeo\"}], \"scattergl\": [{\"marker\": {\"colorbar\": {\"outlinewidth\": 0, \"ticks\": \"\"}}, \"type\": \"scattergl\"}], \"scattermapbox\": [{\"marker\": {\"colorbar\": {\"outlinewidth\": 0, \"ticks\": \"\"}}, \"type\": \"scattermapbox\"}], \"scatterpolar\": [{\"marker\": {\"colorbar\": {\"outlinewidth\": 0, \"ticks\": \"\"}}, \"type\": \"scatterpolar\"}], \"scatterpolargl\": [{\"marker\": {\"colorbar\": {\"outlinewidth\": 0, \"ticks\": \"\"}}, \"type\": \"scatterpolargl\"}], \"scatterternary\": [{\"marker\": {\"colorbar\": {\"outlinewidth\": 0, \"ticks\": \"\"}}, \"type\": \"scatterternary\"}], \"surface\": [{\"colorbar\": {\"outlinewidth\": 0, \"ticks\": \"\"}, \"colorscale\": [[0.0, \"#0d0887\"], [0.1111111111111111, \"#46039f\"], [0.2222222222222222, \"#7201a8\"], [0.3333333333333333, \"#9c179e\"], [0.4444444444444444, \"#bd3786\"], [0.5555555555555556, \"#d8576b\"], [0.6666666666666666, \"#ed7953\"], [0.7777777777777778, \"#fb9f3a\"], [0.8888888888888888, \"#fdca26\"], [1.0, \"#f0f921\"]], \"type\": \"surface\"}], \"table\": [{\"cells\": {\"fill\": {\"color\": \"#EBF0F8\"}, \"line\": {\"color\": \"white\"}}, \"header\": {\"fill\": {\"color\": \"#C8D4E3\"}, \"line\": {\"color\": \"white\"}}, \"type\": \"table\"}]}, \"layout\": {\"annotationdefaults\": {\"arrowcolor\": \"#2a3f5f\", \"arrowhead\": 0, \"arrowwidth\": 1}, \"colorscale\": {\"diverging\": [[0, \"#8e0152\"], [0.1, \"#c51b7d\"], [0.2, \"#de77ae\"], [0.3, \"#f1b6da\"], [0.4, \"#fde0ef\"], [0.5, \"#f7f7f7\"], [0.6, \"#e6f5d0\"], [0.7, \"#b8e186\"], [0.8, \"#7fbc41\"], [0.9, \"#4d9221\"], [1, \"#276419\"]], \"sequential\": [[0.0, \"#0d0887\"], [0.1111111111111111, \"#46039f\"], [0.2222222222222222, \"#7201a8\"], [0.3333333333333333, \"#9c179e\"], [0.4444444444444444, \"#bd3786\"], [0.5555555555555556, \"#d8576b\"], [0.6666666666666666, \"#ed7953\"], [0.7777777777777778, \"#fb9f3a\"], [0.8888888888888888, \"#fdca26\"], [1.0, \"#f0f921\"]], \"sequentialminus\": [[0.0, \"#0d0887\"], [0.1111111111111111, \"#46039f\"], [0.2222222222222222, \"#7201a8\"], [0.3333333333333333, \"#9c179e\"], [0.4444444444444444, \"#bd3786\"], [0.5555555555555556, \"#d8576b\"], [0.6666666666666666, \"#ed7953\"], [0.7777777777777778, \"#fb9f3a\"], [0.8888888888888888, \"#fdca26\"], [1.0, \"#f0f921\"]]}, \"colorway\": [\"#636efa\", \"#EF553B\", \"#00cc96\", \"#ab63fa\", \"#FFA15A\", \"#19d3f3\", \"#FF6692\", \"#B6E880\", \"#FF97FF\", \"#FECB52\"], \"font\": {\"color\": \"#2a3f5f\"}, \"geo\": {\"bgcolor\": \"white\", \"lakecolor\": \"white\", \"landcolor\": \"#E5ECF6\", \"showlakes\": true, \"showland\": true, \"subunitcolor\": \"white\"}, \"hoverlabel\": {\"align\": \"left\"}, \"hovermode\": \"closest\", \"mapbox\": {\"style\": \"light\"}, \"paper_bgcolor\": \"white\", \"plot_bgcolor\": \"#E5ECF6\", \"polar\": {\"angularaxis\": {\"gridcolor\": \"white\", \"linecolor\": \"white\", \"ticks\": \"\"}, \"bgcolor\": \"#E5ECF6\", \"radialaxis\": {\"gridcolor\": \"white\", \"linecolor\": \"white\", \"ticks\": \"\"}}, \"scene\": {\"xaxis\": {\"backgroundcolor\": \"#E5ECF6\", \"gridcolor\": \"white\", \"gridwidth\": 2, \"linecolor\": \"white\", \"showbackground\": true, \"ticks\": \"\", \"zerolinecolor\": \"white\"}, \"yaxis\": {\"backgroundcolor\": \"#E5ECF6\", \"gridcolor\": \"white\", \"gridwidth\": 2, \"linecolor\": \"white\", \"showbackground\": true, \"ticks\": \"\", \"zerolinecolor\": \"white\"}, \"zaxis\": {\"backgroundcolor\": \"#E5ECF6\", \"gridcolor\": \"white\", \"gridwidth\": 2, \"linecolor\": \"white\", \"showbackground\": true, \"ticks\": \"\", \"zerolinecolor\": \"white\"}}, \"shapedefaults\": {\"line\": {\"color\": \"#2a3f5f\"}}, \"ternary\": {\"aaxis\": {\"gridcolor\": \"white\", \"linecolor\": \"white\", \"ticks\": \"\"}, \"baxis\": {\"gridcolor\": \"white\", \"linecolor\": \"white\", \"ticks\": \"\"}, \"bgcolor\": \"#E5ECF6\", \"caxis\": {\"gridcolor\": \"white\", \"linecolor\": \"white\", \"ticks\": \"\"}}, \"title\": {\"x\": 0.05}, \"xaxis\": {\"automargin\": true, \"gridcolor\": \"white\", \"linecolor\": \"white\", \"ticks\": \"\", \"zerolinecolor\": \"white\", \"zerolinewidth\": 2}, \"yaxis\": {\"automargin\": true, \"gridcolor\": \"white\", \"linecolor\": \"white\", \"ticks\": \"\", \"zerolinecolor\": \"white\", \"zerolinewidth\": 2}}}},\n",
       "                        {\"responsive\": true}\n",
       "                    ).then(function(){\n",
       "                            \n",
       "var gd = document.getElementById('4e7123e7-49c0-49ce-bff3-286d2b6bfc34');\n",
       "var x = new MutationObserver(function (mutations, observer) {{\n",
       "        var display = window.getComputedStyle(gd).display;\n",
       "        if (!display || display === 'none') {{\n",
       "            console.log([gd, 'removed!']);\n",
       "            Plotly.purge(gd);\n",
       "            observer.disconnect();\n",
       "        }}\n",
       "}});\n",
       "\n",
       "// Listen for the removal of the full notebook cells\n",
       "var notebookContainer = gd.closest('#notebook-container');\n",
       "if (notebookContainer) {{\n",
       "    x.observe(notebookContainer, {childList: true});\n",
       "}}\n",
       "\n",
       "// Listen for the clearing of the current output cell\n",
       "var outputEl = gd.closest('.output');\n",
       "if (outputEl) {{\n",
       "    x.observe(outputEl, {childList: true});\n",
       "}}\n",
       "\n",
       "                        })\n",
       "                };\n",
       "                });\n",
       "            </script>\n",
       "        </div>"
      ]
     },
     "metadata": {},
     "output_type": "display_data"
    }
   ],
   "source": [
    "fig = go.Figure(data=[\n",
    "    go.Bar(name='2000_pop', x=ny_join['City_Name'], y=ny_join['Total_Population_2000']),\n",
    "    go.Bar(name='2010_pop', x=ny_join['City_Name'], y=ny_join['Total_Population_2010']),\n",
    "    go.Bar(name='2000_housing', x=ny_join['City_Name'], y=ny_join['Total_Housing_2000']),\n",
    "    go.Bar(name='2010_housing', x=ny_join['City_Name'], y=ny_join['Total_Housing_2010']),\n",
    "    go.Bar(name='2000_non-relatives', x=ny_join['City_Name'], y=ny_join['Presence_of_Non-Relatives_2000']),\n",
    "    go.Bar(name='2010_non-relatives', x=ny_join['City_Name'], y=ny_join['Presence_of_Non-Relatives_2010']),\n",
    "])\n",
    "fig.update_layout(barmode='group')\n",
    "fig.show()"
   ]
  },
  {
   "cell_type": "code",
   "execution_count": 38,
   "metadata": {},
   "outputs": [
    {
     "data": {
      "application/vnd.plotly.v1+json": {
       "config": {
        "plotlyServerURL": "https://plot.ly"
       },
       "data": [
        {
         "name": "2000_age",
         "type": "bar",
         "x": [
          "New York city, New York",
          "Buffalo city, New York",
          "Rochester city, New York",
          "Yonkers city, New York",
          "Syracuse city, New York"
         ],
         "y": [
          "34.2",
          "33.6",
          "30.8",
          "35.8",
          "30.5"
         ]
        },
        {
         "name": "2010_age",
         "type": "bar",
         "x": [
          "New York city, New York",
          "Buffalo city, New York",
          "Rochester city, New York",
          "Yonkers city, New York",
          "Syracuse city, New York"
         ],
         "y": [
          35.5,
          33.2,
          30.8,
          37.6,
          29.6
         ]
        }
       ],
       "layout": {
        "barmode": "group",
        "template": {
         "data": {
          "bar": [
           {
            "error_x": {
             "color": "#2a3f5f"
            },
            "error_y": {
             "color": "#2a3f5f"
            },
            "marker": {
             "line": {
              "color": "#E5ECF6",
              "width": 0.5
             }
            },
            "type": "bar"
           }
          ],
          "barpolar": [
           {
            "marker": {
             "line": {
              "color": "#E5ECF6",
              "width": 0.5
             }
            },
            "type": "barpolar"
           }
          ],
          "carpet": [
           {
            "aaxis": {
             "endlinecolor": "#2a3f5f",
             "gridcolor": "white",
             "linecolor": "white",
             "minorgridcolor": "white",
             "startlinecolor": "#2a3f5f"
            },
            "baxis": {
             "endlinecolor": "#2a3f5f",
             "gridcolor": "white",
             "linecolor": "white",
             "minorgridcolor": "white",
             "startlinecolor": "#2a3f5f"
            },
            "type": "carpet"
           }
          ],
          "choropleth": [
           {
            "colorbar": {
             "outlinewidth": 0,
             "ticks": ""
            },
            "type": "choropleth"
           }
          ],
          "contour": [
           {
            "colorbar": {
             "outlinewidth": 0,
             "ticks": ""
            },
            "colorscale": [
             [
              0,
              "#0d0887"
             ],
             [
              0.1111111111111111,
              "#46039f"
             ],
             [
              0.2222222222222222,
              "#7201a8"
             ],
             [
              0.3333333333333333,
              "#9c179e"
             ],
             [
              0.4444444444444444,
              "#bd3786"
             ],
             [
              0.5555555555555556,
              "#d8576b"
             ],
             [
              0.6666666666666666,
              "#ed7953"
             ],
             [
              0.7777777777777778,
              "#fb9f3a"
             ],
             [
              0.8888888888888888,
              "#fdca26"
             ],
             [
              1,
              "#f0f921"
             ]
            ],
            "type": "contour"
           }
          ],
          "contourcarpet": [
           {
            "colorbar": {
             "outlinewidth": 0,
             "ticks": ""
            },
            "type": "contourcarpet"
           }
          ],
          "heatmap": [
           {
            "colorbar": {
             "outlinewidth": 0,
             "ticks": ""
            },
            "colorscale": [
             [
              0,
              "#0d0887"
             ],
             [
              0.1111111111111111,
              "#46039f"
             ],
             [
              0.2222222222222222,
              "#7201a8"
             ],
             [
              0.3333333333333333,
              "#9c179e"
             ],
             [
              0.4444444444444444,
              "#bd3786"
             ],
             [
              0.5555555555555556,
              "#d8576b"
             ],
             [
              0.6666666666666666,
              "#ed7953"
             ],
             [
              0.7777777777777778,
              "#fb9f3a"
             ],
             [
              0.8888888888888888,
              "#fdca26"
             ],
             [
              1,
              "#f0f921"
             ]
            ],
            "type": "heatmap"
           }
          ],
          "heatmapgl": [
           {
            "colorbar": {
             "outlinewidth": 0,
             "ticks": ""
            },
            "colorscale": [
             [
              0,
              "#0d0887"
             ],
             [
              0.1111111111111111,
              "#46039f"
             ],
             [
              0.2222222222222222,
              "#7201a8"
             ],
             [
              0.3333333333333333,
              "#9c179e"
             ],
             [
              0.4444444444444444,
              "#bd3786"
             ],
             [
              0.5555555555555556,
              "#d8576b"
             ],
             [
              0.6666666666666666,
              "#ed7953"
             ],
             [
              0.7777777777777778,
              "#fb9f3a"
             ],
             [
              0.8888888888888888,
              "#fdca26"
             ],
             [
              1,
              "#f0f921"
             ]
            ],
            "type": "heatmapgl"
           }
          ],
          "histogram": [
           {
            "marker": {
             "colorbar": {
              "outlinewidth": 0,
              "ticks": ""
             }
            },
            "type": "histogram"
           }
          ],
          "histogram2d": [
           {
            "colorbar": {
             "outlinewidth": 0,
             "ticks": ""
            },
            "colorscale": [
             [
              0,
              "#0d0887"
             ],
             [
              0.1111111111111111,
              "#46039f"
             ],
             [
              0.2222222222222222,
              "#7201a8"
             ],
             [
              0.3333333333333333,
              "#9c179e"
             ],
             [
              0.4444444444444444,
              "#bd3786"
             ],
             [
              0.5555555555555556,
              "#d8576b"
             ],
             [
              0.6666666666666666,
              "#ed7953"
             ],
             [
              0.7777777777777778,
              "#fb9f3a"
             ],
             [
              0.8888888888888888,
              "#fdca26"
             ],
             [
              1,
              "#f0f921"
             ]
            ],
            "type": "histogram2d"
           }
          ],
          "histogram2dcontour": [
           {
            "colorbar": {
             "outlinewidth": 0,
             "ticks": ""
            },
            "colorscale": [
             [
              0,
              "#0d0887"
             ],
             [
              0.1111111111111111,
              "#46039f"
             ],
             [
              0.2222222222222222,
              "#7201a8"
             ],
             [
              0.3333333333333333,
              "#9c179e"
             ],
             [
              0.4444444444444444,
              "#bd3786"
             ],
             [
              0.5555555555555556,
              "#d8576b"
             ],
             [
              0.6666666666666666,
              "#ed7953"
             ],
             [
              0.7777777777777778,
              "#fb9f3a"
             ],
             [
              0.8888888888888888,
              "#fdca26"
             ],
             [
              1,
              "#f0f921"
             ]
            ],
            "type": "histogram2dcontour"
           }
          ],
          "mesh3d": [
           {
            "colorbar": {
             "outlinewidth": 0,
             "ticks": ""
            },
            "type": "mesh3d"
           }
          ],
          "parcoords": [
           {
            "line": {
             "colorbar": {
              "outlinewidth": 0,
              "ticks": ""
             }
            },
            "type": "parcoords"
           }
          ],
          "scatter": [
           {
            "marker": {
             "colorbar": {
              "outlinewidth": 0,
              "ticks": ""
             }
            },
            "type": "scatter"
           }
          ],
          "scatter3d": [
           {
            "line": {
             "colorbar": {
              "outlinewidth": 0,
              "ticks": ""
             }
            },
            "marker": {
             "colorbar": {
              "outlinewidth": 0,
              "ticks": ""
             }
            },
            "type": "scatter3d"
           }
          ],
          "scattercarpet": [
           {
            "marker": {
             "colorbar": {
              "outlinewidth": 0,
              "ticks": ""
             }
            },
            "type": "scattercarpet"
           }
          ],
          "scattergeo": [
           {
            "marker": {
             "colorbar": {
              "outlinewidth": 0,
              "ticks": ""
             }
            },
            "type": "scattergeo"
           }
          ],
          "scattergl": [
           {
            "marker": {
             "colorbar": {
              "outlinewidth": 0,
              "ticks": ""
             }
            },
            "type": "scattergl"
           }
          ],
          "scattermapbox": [
           {
            "marker": {
             "colorbar": {
              "outlinewidth": 0,
              "ticks": ""
             }
            },
            "type": "scattermapbox"
           }
          ],
          "scatterpolar": [
           {
            "marker": {
             "colorbar": {
              "outlinewidth": 0,
              "ticks": ""
             }
            },
            "type": "scatterpolar"
           }
          ],
          "scatterpolargl": [
           {
            "marker": {
             "colorbar": {
              "outlinewidth": 0,
              "ticks": ""
             }
            },
            "type": "scatterpolargl"
           }
          ],
          "scatterternary": [
           {
            "marker": {
             "colorbar": {
              "outlinewidth": 0,
              "ticks": ""
             }
            },
            "type": "scatterternary"
           }
          ],
          "surface": [
           {
            "colorbar": {
             "outlinewidth": 0,
             "ticks": ""
            },
            "colorscale": [
             [
              0,
              "#0d0887"
             ],
             [
              0.1111111111111111,
              "#46039f"
             ],
             [
              0.2222222222222222,
              "#7201a8"
             ],
             [
              0.3333333333333333,
              "#9c179e"
             ],
             [
              0.4444444444444444,
              "#bd3786"
             ],
             [
              0.5555555555555556,
              "#d8576b"
             ],
             [
              0.6666666666666666,
              "#ed7953"
             ],
             [
              0.7777777777777778,
              "#fb9f3a"
             ],
             [
              0.8888888888888888,
              "#fdca26"
             ],
             [
              1,
              "#f0f921"
             ]
            ],
            "type": "surface"
           }
          ],
          "table": [
           {
            "cells": {
             "fill": {
              "color": "#EBF0F8"
             },
             "line": {
              "color": "white"
             }
            },
            "header": {
             "fill": {
              "color": "#C8D4E3"
             },
             "line": {
              "color": "white"
             }
            },
            "type": "table"
           }
          ]
         },
         "layout": {
          "annotationdefaults": {
           "arrowcolor": "#2a3f5f",
           "arrowhead": 0,
           "arrowwidth": 1
          },
          "colorscale": {
           "diverging": [
            [
             0,
             "#8e0152"
            ],
            [
             0.1,
             "#c51b7d"
            ],
            [
             0.2,
             "#de77ae"
            ],
            [
             0.3,
             "#f1b6da"
            ],
            [
             0.4,
             "#fde0ef"
            ],
            [
             0.5,
             "#f7f7f7"
            ],
            [
             0.6,
             "#e6f5d0"
            ],
            [
             0.7,
             "#b8e186"
            ],
            [
             0.8,
             "#7fbc41"
            ],
            [
             0.9,
             "#4d9221"
            ],
            [
             1,
             "#276419"
            ]
           ],
           "sequential": [
            [
             0,
             "#0d0887"
            ],
            [
             0.1111111111111111,
             "#46039f"
            ],
            [
             0.2222222222222222,
             "#7201a8"
            ],
            [
             0.3333333333333333,
             "#9c179e"
            ],
            [
             0.4444444444444444,
             "#bd3786"
            ],
            [
             0.5555555555555556,
             "#d8576b"
            ],
            [
             0.6666666666666666,
             "#ed7953"
            ],
            [
             0.7777777777777778,
             "#fb9f3a"
            ],
            [
             0.8888888888888888,
             "#fdca26"
            ],
            [
             1,
             "#f0f921"
            ]
           ],
           "sequentialminus": [
            [
             0,
             "#0d0887"
            ],
            [
             0.1111111111111111,
             "#46039f"
            ],
            [
             0.2222222222222222,
             "#7201a8"
            ],
            [
             0.3333333333333333,
             "#9c179e"
            ],
            [
             0.4444444444444444,
             "#bd3786"
            ],
            [
             0.5555555555555556,
             "#d8576b"
            ],
            [
             0.6666666666666666,
             "#ed7953"
            ],
            [
             0.7777777777777778,
             "#fb9f3a"
            ],
            [
             0.8888888888888888,
             "#fdca26"
            ],
            [
             1,
             "#f0f921"
            ]
           ]
          },
          "colorway": [
           "#636efa",
           "#EF553B",
           "#00cc96",
           "#ab63fa",
           "#FFA15A",
           "#19d3f3",
           "#FF6692",
           "#B6E880",
           "#FF97FF",
           "#FECB52"
          ],
          "font": {
           "color": "#2a3f5f"
          },
          "geo": {
           "bgcolor": "white",
           "lakecolor": "white",
           "landcolor": "#E5ECF6",
           "showlakes": true,
           "showland": true,
           "subunitcolor": "white"
          },
          "hoverlabel": {
           "align": "left"
          },
          "hovermode": "closest",
          "mapbox": {
           "style": "light"
          },
          "paper_bgcolor": "white",
          "plot_bgcolor": "#E5ECF6",
          "polar": {
           "angularaxis": {
            "gridcolor": "white",
            "linecolor": "white",
            "ticks": ""
           },
           "bgcolor": "#E5ECF6",
           "radialaxis": {
            "gridcolor": "white",
            "linecolor": "white",
            "ticks": ""
           }
          },
          "scene": {
           "xaxis": {
            "backgroundcolor": "#E5ECF6",
            "gridcolor": "white",
            "gridwidth": 2,
            "linecolor": "white",
            "showbackground": true,
            "ticks": "",
            "zerolinecolor": "white"
           },
           "yaxis": {
            "backgroundcolor": "#E5ECF6",
            "gridcolor": "white",
            "gridwidth": 2,
            "linecolor": "white",
            "showbackground": true,
            "ticks": "",
            "zerolinecolor": "white"
           },
           "zaxis": {
            "backgroundcolor": "#E5ECF6",
            "gridcolor": "white",
            "gridwidth": 2,
            "linecolor": "white",
            "showbackground": true,
            "ticks": "",
            "zerolinecolor": "white"
           }
          },
          "shapedefaults": {
           "line": {
            "color": "#2a3f5f"
           }
          },
          "ternary": {
           "aaxis": {
            "gridcolor": "white",
            "linecolor": "white",
            "ticks": ""
           },
           "baxis": {
            "gridcolor": "white",
            "linecolor": "white",
            "ticks": ""
           },
           "bgcolor": "#E5ECF6",
           "caxis": {
            "gridcolor": "white",
            "linecolor": "white",
            "ticks": ""
           }
          },
          "title": {
           "x": 0.05
          },
          "xaxis": {
           "automargin": true,
           "gridcolor": "white",
           "linecolor": "white",
           "ticks": "",
           "zerolinecolor": "white",
           "zerolinewidth": 2
          },
          "yaxis": {
           "automargin": true,
           "gridcolor": "white",
           "linecolor": "white",
           "ticks": "",
           "zerolinecolor": "white",
           "zerolinewidth": 2
          }
         }
        }
       }
      },
      "text/html": [
       "<div>\n",
       "        \n",
       "        \n",
       "            <div id=\"e8a7e9f4-03dd-4221-8ca4-6fe600ab1021\" class=\"plotly-graph-div\" style=\"height:525px; width:100%;\"></div>\n",
       "            <script type=\"text/javascript\">\n",
       "                require([\"plotly\"], function(Plotly) {\n",
       "                    window.PLOTLYENV=window.PLOTLYENV || {};\n",
       "                    \n",
       "                if (document.getElementById(\"e8a7e9f4-03dd-4221-8ca4-6fe600ab1021\")) {\n",
       "                    Plotly.newPlot(\n",
       "                        'e8a7e9f4-03dd-4221-8ca4-6fe600ab1021',\n",
       "                        [{\"name\": \"2000_age\", \"type\": \"bar\", \"x\": [\"New York city, New York\", \"Buffalo city, New York\", \"Rochester city, New York\", \"Yonkers city, New York\", \"Syracuse city, New York\"], \"y\": [\"34.2\", \"33.6\", \"30.8\", \"35.8\", \"30.5\"]}, {\"name\": \"2010_age\", \"type\": \"bar\", \"x\": [\"New York city, New York\", \"Buffalo city, New York\", \"Rochester city, New York\", \"Yonkers city, New York\", \"Syracuse city, New York\"], \"y\": [35.5, 33.2, 30.8, 37.6, 29.6]}],\n",
       "                        {\"barmode\": \"group\", \"template\": {\"data\": {\"bar\": [{\"error_x\": {\"color\": \"#2a3f5f\"}, \"error_y\": {\"color\": \"#2a3f5f\"}, \"marker\": {\"line\": {\"color\": \"#E5ECF6\", \"width\": 0.5}}, \"type\": \"bar\"}], \"barpolar\": [{\"marker\": {\"line\": {\"color\": \"#E5ECF6\", \"width\": 0.5}}, \"type\": \"barpolar\"}], \"carpet\": [{\"aaxis\": {\"endlinecolor\": \"#2a3f5f\", \"gridcolor\": \"white\", \"linecolor\": \"white\", \"minorgridcolor\": \"white\", \"startlinecolor\": \"#2a3f5f\"}, \"baxis\": {\"endlinecolor\": \"#2a3f5f\", \"gridcolor\": \"white\", \"linecolor\": \"white\", \"minorgridcolor\": \"white\", \"startlinecolor\": \"#2a3f5f\"}, \"type\": \"carpet\"}], \"choropleth\": [{\"colorbar\": {\"outlinewidth\": 0, \"ticks\": \"\"}, \"type\": \"choropleth\"}], \"contour\": [{\"colorbar\": {\"outlinewidth\": 0, \"ticks\": \"\"}, \"colorscale\": [[0.0, \"#0d0887\"], [0.1111111111111111, \"#46039f\"], [0.2222222222222222, \"#7201a8\"], [0.3333333333333333, \"#9c179e\"], [0.4444444444444444, \"#bd3786\"], [0.5555555555555556, \"#d8576b\"], [0.6666666666666666, \"#ed7953\"], [0.7777777777777778, \"#fb9f3a\"], [0.8888888888888888, \"#fdca26\"], [1.0, \"#f0f921\"]], \"type\": \"contour\"}], \"contourcarpet\": [{\"colorbar\": {\"outlinewidth\": 0, \"ticks\": \"\"}, \"type\": \"contourcarpet\"}], \"heatmap\": [{\"colorbar\": {\"outlinewidth\": 0, \"ticks\": \"\"}, \"colorscale\": [[0.0, \"#0d0887\"], [0.1111111111111111, \"#46039f\"], [0.2222222222222222, \"#7201a8\"], [0.3333333333333333, \"#9c179e\"], [0.4444444444444444, \"#bd3786\"], [0.5555555555555556, \"#d8576b\"], [0.6666666666666666, \"#ed7953\"], [0.7777777777777778, \"#fb9f3a\"], [0.8888888888888888, \"#fdca26\"], [1.0, \"#f0f921\"]], \"type\": \"heatmap\"}], \"heatmapgl\": [{\"colorbar\": {\"outlinewidth\": 0, \"ticks\": \"\"}, \"colorscale\": [[0.0, \"#0d0887\"], [0.1111111111111111, \"#46039f\"], [0.2222222222222222, \"#7201a8\"], [0.3333333333333333, \"#9c179e\"], [0.4444444444444444, \"#bd3786\"], [0.5555555555555556, \"#d8576b\"], [0.6666666666666666, \"#ed7953\"], [0.7777777777777778, \"#fb9f3a\"], [0.8888888888888888, \"#fdca26\"], [1.0, \"#f0f921\"]], \"type\": \"heatmapgl\"}], \"histogram\": [{\"marker\": {\"colorbar\": {\"outlinewidth\": 0, \"ticks\": \"\"}}, \"type\": \"histogram\"}], \"histogram2d\": [{\"colorbar\": {\"outlinewidth\": 0, \"ticks\": \"\"}, \"colorscale\": [[0.0, \"#0d0887\"], [0.1111111111111111, \"#46039f\"], [0.2222222222222222, \"#7201a8\"], [0.3333333333333333, \"#9c179e\"], [0.4444444444444444, \"#bd3786\"], [0.5555555555555556, \"#d8576b\"], [0.6666666666666666, \"#ed7953\"], [0.7777777777777778, \"#fb9f3a\"], [0.8888888888888888, \"#fdca26\"], [1.0, \"#f0f921\"]], \"type\": \"histogram2d\"}], \"histogram2dcontour\": [{\"colorbar\": {\"outlinewidth\": 0, \"ticks\": \"\"}, \"colorscale\": [[0.0, \"#0d0887\"], [0.1111111111111111, \"#46039f\"], [0.2222222222222222, \"#7201a8\"], [0.3333333333333333, \"#9c179e\"], [0.4444444444444444, \"#bd3786\"], [0.5555555555555556, \"#d8576b\"], [0.6666666666666666, \"#ed7953\"], [0.7777777777777778, \"#fb9f3a\"], [0.8888888888888888, \"#fdca26\"], [1.0, \"#f0f921\"]], \"type\": \"histogram2dcontour\"}], \"mesh3d\": [{\"colorbar\": {\"outlinewidth\": 0, \"ticks\": \"\"}, \"type\": \"mesh3d\"}], \"parcoords\": [{\"line\": {\"colorbar\": {\"outlinewidth\": 0, \"ticks\": \"\"}}, \"type\": \"parcoords\"}], \"scatter\": [{\"marker\": {\"colorbar\": {\"outlinewidth\": 0, \"ticks\": \"\"}}, \"type\": \"scatter\"}], \"scatter3d\": [{\"line\": {\"colorbar\": {\"outlinewidth\": 0, \"ticks\": \"\"}}, \"marker\": {\"colorbar\": {\"outlinewidth\": 0, \"ticks\": \"\"}}, \"type\": \"scatter3d\"}], \"scattercarpet\": [{\"marker\": {\"colorbar\": {\"outlinewidth\": 0, \"ticks\": \"\"}}, \"type\": \"scattercarpet\"}], \"scattergeo\": [{\"marker\": {\"colorbar\": {\"outlinewidth\": 0, \"ticks\": \"\"}}, \"type\": \"scattergeo\"}], \"scattergl\": [{\"marker\": {\"colorbar\": {\"outlinewidth\": 0, \"ticks\": \"\"}}, \"type\": \"scattergl\"}], \"scattermapbox\": [{\"marker\": {\"colorbar\": {\"outlinewidth\": 0, \"ticks\": \"\"}}, \"type\": \"scattermapbox\"}], \"scatterpolar\": [{\"marker\": {\"colorbar\": {\"outlinewidth\": 0, \"ticks\": \"\"}}, \"type\": \"scatterpolar\"}], \"scatterpolargl\": [{\"marker\": {\"colorbar\": {\"outlinewidth\": 0, \"ticks\": \"\"}}, \"type\": \"scatterpolargl\"}], \"scatterternary\": [{\"marker\": {\"colorbar\": {\"outlinewidth\": 0, \"ticks\": \"\"}}, \"type\": \"scatterternary\"}], \"surface\": [{\"colorbar\": {\"outlinewidth\": 0, \"ticks\": \"\"}, \"colorscale\": [[0.0, \"#0d0887\"], [0.1111111111111111, \"#46039f\"], [0.2222222222222222, \"#7201a8\"], [0.3333333333333333, \"#9c179e\"], [0.4444444444444444, \"#bd3786\"], [0.5555555555555556, \"#d8576b\"], [0.6666666666666666, \"#ed7953\"], [0.7777777777777778, \"#fb9f3a\"], [0.8888888888888888, \"#fdca26\"], [1.0, \"#f0f921\"]], \"type\": \"surface\"}], \"table\": [{\"cells\": {\"fill\": {\"color\": \"#EBF0F8\"}, \"line\": {\"color\": \"white\"}}, \"header\": {\"fill\": {\"color\": \"#C8D4E3\"}, \"line\": {\"color\": \"white\"}}, \"type\": \"table\"}]}, \"layout\": {\"annotationdefaults\": {\"arrowcolor\": \"#2a3f5f\", \"arrowhead\": 0, \"arrowwidth\": 1}, \"colorscale\": {\"diverging\": [[0, \"#8e0152\"], [0.1, \"#c51b7d\"], [0.2, \"#de77ae\"], [0.3, \"#f1b6da\"], [0.4, \"#fde0ef\"], [0.5, \"#f7f7f7\"], [0.6, \"#e6f5d0\"], [0.7, \"#b8e186\"], [0.8, \"#7fbc41\"], [0.9, \"#4d9221\"], [1, \"#276419\"]], \"sequential\": [[0.0, \"#0d0887\"], [0.1111111111111111, \"#46039f\"], [0.2222222222222222, \"#7201a8\"], [0.3333333333333333, \"#9c179e\"], [0.4444444444444444, \"#bd3786\"], [0.5555555555555556, \"#d8576b\"], [0.6666666666666666, \"#ed7953\"], [0.7777777777777778, \"#fb9f3a\"], [0.8888888888888888, \"#fdca26\"], [1.0, \"#f0f921\"]], \"sequentialminus\": [[0.0, \"#0d0887\"], [0.1111111111111111, \"#46039f\"], [0.2222222222222222, \"#7201a8\"], [0.3333333333333333, \"#9c179e\"], [0.4444444444444444, \"#bd3786\"], [0.5555555555555556, \"#d8576b\"], [0.6666666666666666, \"#ed7953\"], [0.7777777777777778, \"#fb9f3a\"], [0.8888888888888888, \"#fdca26\"], [1.0, \"#f0f921\"]]}, \"colorway\": [\"#636efa\", \"#EF553B\", \"#00cc96\", \"#ab63fa\", \"#FFA15A\", \"#19d3f3\", \"#FF6692\", \"#B6E880\", \"#FF97FF\", \"#FECB52\"], \"font\": {\"color\": \"#2a3f5f\"}, \"geo\": {\"bgcolor\": \"white\", \"lakecolor\": \"white\", \"landcolor\": \"#E5ECF6\", \"showlakes\": true, \"showland\": true, \"subunitcolor\": \"white\"}, \"hoverlabel\": {\"align\": \"left\"}, \"hovermode\": \"closest\", \"mapbox\": {\"style\": \"light\"}, \"paper_bgcolor\": \"white\", \"plot_bgcolor\": \"#E5ECF6\", \"polar\": {\"angularaxis\": {\"gridcolor\": \"white\", \"linecolor\": \"white\", \"ticks\": \"\"}, \"bgcolor\": \"#E5ECF6\", \"radialaxis\": {\"gridcolor\": \"white\", \"linecolor\": \"white\", \"ticks\": \"\"}}, \"scene\": {\"xaxis\": {\"backgroundcolor\": \"#E5ECF6\", \"gridcolor\": \"white\", \"gridwidth\": 2, \"linecolor\": \"white\", \"showbackground\": true, \"ticks\": \"\", \"zerolinecolor\": \"white\"}, \"yaxis\": {\"backgroundcolor\": \"#E5ECF6\", \"gridcolor\": \"white\", \"gridwidth\": 2, \"linecolor\": \"white\", \"showbackground\": true, \"ticks\": \"\", \"zerolinecolor\": \"white\"}, \"zaxis\": {\"backgroundcolor\": \"#E5ECF6\", \"gridcolor\": \"white\", \"gridwidth\": 2, \"linecolor\": \"white\", \"showbackground\": true, \"ticks\": \"\", \"zerolinecolor\": \"white\"}}, \"shapedefaults\": {\"line\": {\"color\": \"#2a3f5f\"}}, \"ternary\": {\"aaxis\": {\"gridcolor\": \"white\", \"linecolor\": \"white\", \"ticks\": \"\"}, \"baxis\": {\"gridcolor\": \"white\", \"linecolor\": \"white\", \"ticks\": \"\"}, \"bgcolor\": \"#E5ECF6\", \"caxis\": {\"gridcolor\": \"white\", \"linecolor\": \"white\", \"ticks\": \"\"}}, \"title\": {\"x\": 0.05}, \"xaxis\": {\"automargin\": true, \"gridcolor\": \"white\", \"linecolor\": \"white\", \"ticks\": \"\", \"zerolinecolor\": \"white\", \"zerolinewidth\": 2}, \"yaxis\": {\"automargin\": true, \"gridcolor\": \"white\", \"linecolor\": \"white\", \"ticks\": \"\", \"zerolinecolor\": \"white\", \"zerolinewidth\": 2}}}},\n",
       "                        {\"responsive\": true}\n",
       "                    ).then(function(){\n",
       "                            \n",
       "var gd = document.getElementById('e8a7e9f4-03dd-4221-8ca4-6fe600ab1021');\n",
       "var x = new MutationObserver(function (mutations, observer) {{\n",
       "        var display = window.getComputedStyle(gd).display;\n",
       "        if (!display || display === 'none') {{\n",
       "            console.log([gd, 'removed!']);\n",
       "            Plotly.purge(gd);\n",
       "            observer.disconnect();\n",
       "        }}\n",
       "}});\n",
       "\n",
       "// Listen for the removal of the full notebook cells\n",
       "var notebookContainer = gd.closest('#notebook-container');\n",
       "if (notebookContainer) {{\n",
       "    x.observe(notebookContainer, {childList: true});\n",
       "}}\n",
       "\n",
       "// Listen for the clearing of the current output cell\n",
       "var outputEl = gd.closest('.output');\n",
       "if (outputEl) {{\n",
       "    x.observe(outputEl, {childList: true});\n",
       "}}\n",
       "\n",
       "                        })\n",
       "                };\n",
       "                });\n",
       "            </script>\n",
       "        </div>"
      ]
     },
     "metadata": {},
     "output_type": "display_data"
    }
   ],
   "source": [
    "fig = go.Figure(data=[\n",
    "    go.Bar(name='2000_age', x=ny_join['City_Name'], y=ny_join['Median_Age_2000']),\n",
    "    go.Bar(name='2010_age', x=ny_join['City_Name'], y=ny_join['Median_Age_2010']),\n",
    "])\n",
    "fig.update_layout(barmode='group')\n",
    "fig.show()"
   ]
  },
  {
   "cell_type": "markdown",
   "metadata": {},
   "source": [
    "## American Community Servey"
   ]
  },
  {
   "cell_type": "code",
   "execution_count": 39,
   "metadata": {},
   "outputs": [],
   "source": [
    "i = 0\n",
    "acs_years = []\n",
    "for x in range(2012, 2018):\n",
    "    acs_test = c.acs5.state_place(('NAME',\n",
    "                                   'B01003_001E',\n",
    "                                   'B00002_001E',\n",
    "                                   'B09018_007E',\n",
    "                                   'B01002_001E'), states.NY.fips, '*', year=x)\n",
    "    acs_years.append(pd.DataFrame.from_records(acs_test))\n",
    "    acs_years[i] = acs_years[i].rename(columns={\n",
    "        'NAME' : 'City_Name',\n",
    "        'place': 'FIPS',\n",
    "        'B01003_001E': 'Total_Population_{}'.format(x),\n",
    "        'B00002_001E': 'Total_Housing_{}'.format(x),\n",
    "        'B09018_007E': 'Presence_of_Non-Relatives_{}'.format(x),\n",
    "        'B01002_001E': 'Median_Age_{}'.format(x),\n",
    "    })\n",
    "    acs_years[i].set_index('FIPS', inplace=True)\n",
    "    acs_years[i].drop(columns=['City_Name', 'state'], inplace=True)\n",
    "    acs_years[i] = acs_years[i].nlargest(5, 'Total_Population_{}'.format(x))\n",
    "    i = i + 1"
   ]
  },
  {
   "cell_type": "code",
   "execution_count": 40,
   "metadata": {},
   "outputs": [],
   "source": [
    "for x in acs_years:\n",
    "    ny_join = ny_join.join(x)"
   ]
  },
  {
   "cell_type": "code",
   "execution_count": 41,
   "metadata": {},
   "outputs": [
    {
     "data": {
      "text/html": [
       "<div>\n",
       "<style scoped>\n",
       "    .dataframe tbody tr th:only-of-type {\n",
       "        vertical-align: middle;\n",
       "    }\n",
       "\n",
       "    .dataframe tbody tr th {\n",
       "        vertical-align: top;\n",
       "    }\n",
       "\n",
       "    .dataframe thead th {\n",
       "        text-align: right;\n",
       "    }\n",
       "</style>\n",
       "<table border=\"1\" class=\"dataframe\">\n",
       "  <thead>\n",
       "    <tr style=\"text-align: right;\">\n",
       "      <th></th>\n",
       "      <th>Total_Housing_2000</th>\n",
       "      <th>Occupancy_Status_For_Housing_Units_2000</th>\n",
       "      <th>Vacancy_Status_2000</th>\n",
       "      <th>For_Rent_2000</th>\n",
       "      <th>Rented_Not_Occupied_2000</th>\n",
       "      <th>For_Sale_Only_2000</th>\n",
       "      <th>Sold_Not_Occupied_2000</th>\n",
       "      <th>For_Seasonal_Recreational_Or_Occasional_Use_2000</th>\n",
       "      <th>For_Migrant_Workers_2000</th>\n",
       "      <th>Total_Population_2000</th>\n",
       "      <th>...</th>\n",
       "      <th>Total_Population_2015</th>\n",
       "      <th>Presence_of_Non-Relatives_2015</th>\n",
       "      <th>Total_Housing_2016</th>\n",
       "      <th>Median_Age_2016</th>\n",
       "      <th>Total_Population_2016</th>\n",
       "      <th>Presence_of_Non-Relatives_2016</th>\n",
       "      <th>Total_Housing_2017</th>\n",
       "      <th>Median_Age_2017</th>\n",
       "      <th>Total_Population_2017</th>\n",
       "      <th>Presence_of_Non-Relatives_2017</th>\n",
       "    </tr>\n",
       "    <tr>\n",
       "      <th>FIPS</th>\n",
       "      <th></th>\n",
       "      <th></th>\n",
       "      <th></th>\n",
       "      <th></th>\n",
       "      <th></th>\n",
       "      <th></th>\n",
       "      <th></th>\n",
       "      <th></th>\n",
       "      <th></th>\n",
       "      <th></th>\n",
       "      <th></th>\n",
       "      <th></th>\n",
       "      <th></th>\n",
       "      <th></th>\n",
       "      <th></th>\n",
       "      <th></th>\n",
       "      <th></th>\n",
       "      <th></th>\n",
       "      <th></th>\n",
       "      <th></th>\n",
       "      <th></th>\n",
       "    </tr>\n",
       "  </thead>\n",
       "  <tbody>\n",
       "    <tr>\n",
       "      <th>51000</th>\n",
       "      <td>3200912</td>\n",
       "      <td>3200912</td>\n",
       "      <td>179324</td>\n",
       "      <td>70542</td>\n",
       "      <td>15604</td>\n",
       "      <td>16033</td>\n",
       "      <td>28157</td>\n",
       "      <td>196</td>\n",
       "      <td>48792</td>\n",
       "      <td>8008278</td>\n",
       "      <td>...</td>\n",
       "      <td>8426743.0</td>\n",
       "      <td>66649.0</td>\n",
       "      <td>237307.0</td>\n",
       "      <td>35.9</td>\n",
       "      <td>8461961.0</td>\n",
       "      <td>67370.0</td>\n",
       "      <td>231338.0</td>\n",
       "      <td>36.2</td>\n",
       "      <td>8560072.0</td>\n",
       "      <td>67838.0</td>\n",
       "    </tr>\n",
       "    <tr>\n",
       "      <th>11000</th>\n",
       "      <td>145574</td>\n",
       "      <td>145574</td>\n",
       "      <td>22854</td>\n",
       "      <td>8642</td>\n",
       "      <td>2349</td>\n",
       "      <td>1629</td>\n",
       "      <td>254</td>\n",
       "      <td>0</td>\n",
       "      <td>9980</td>\n",
       "      <td>292648</td>\n",
       "      <td>...</td>\n",
       "      <td>259517.0</td>\n",
       "      <td>1433.0</td>\n",
       "      <td>9658.0</td>\n",
       "      <td>32.9</td>\n",
       "      <td>258989.0</td>\n",
       "      <td>1235.0</td>\n",
       "      <td>9431.0</td>\n",
       "      <td>32.8</td>\n",
       "      <td>259574.0</td>\n",
       "      <td>1128.0</td>\n",
       "    </tr>\n",
       "    <tr>\n",
       "      <th>63000</th>\n",
       "      <td>99789</td>\n",
       "      <td>99789</td>\n",
       "      <td>10790</td>\n",
       "      <td>5261</td>\n",
       "      <td>1406</td>\n",
       "      <td>775</td>\n",
       "      <td>218</td>\n",
       "      <td>0</td>\n",
       "      <td>3130</td>\n",
       "      <td>219773</td>\n",
       "      <td>...</td>\n",
       "      <td>210745.0</td>\n",
       "      <td>1365.0</td>\n",
       "      <td>8354.0</td>\n",
       "      <td>31.3</td>\n",
       "      <td>210291.0</td>\n",
       "      <td>1302.0</td>\n",
       "      <td>8140.0</td>\n",
       "      <td>31.7</td>\n",
       "      <td>209463.0</td>\n",
       "      <td>1321.0</td>\n",
       "    </tr>\n",
       "    <tr>\n",
       "      <th>84000</th>\n",
       "      <td>77589</td>\n",
       "      <td>77589</td>\n",
       "      <td>3238</td>\n",
       "      <td>1553</td>\n",
       "      <td>435</td>\n",
       "      <td>296</td>\n",
       "      <td>275</td>\n",
       "      <td>1</td>\n",
       "      <td>678</td>\n",
       "      <td>196086</td>\n",
       "      <td>...</td>\n",
       "      <td>199435.0</td>\n",
       "      <td>1407.0</td>\n",
       "      <td>5664.0</td>\n",
       "      <td>38.5</td>\n",
       "      <td>199725.0</td>\n",
       "      <td>1148.0</td>\n",
       "      <td>5425.0</td>\n",
       "      <td>38.8</td>\n",
       "      <td>200999.0</td>\n",
       "      <td>1088.0</td>\n",
       "    </tr>\n",
       "    <tr>\n",
       "      <th>73000</th>\n",
       "      <td>68192</td>\n",
       "      <td>68192</td>\n",
       "      <td>8710</td>\n",
       "      <td>4765</td>\n",
       "      <td>1221</td>\n",
       "      <td>500</td>\n",
       "      <td>180</td>\n",
       "      <td>1</td>\n",
       "      <td>2043</td>\n",
       "      <td>147306</td>\n",
       "      <td>...</td>\n",
       "      <td>144564.0</td>\n",
       "      <td>1314.0</td>\n",
       "      <td>6296.0</td>\n",
       "      <td>30.6</td>\n",
       "      <td>144350.0</td>\n",
       "      <td>1036.0</td>\n",
       "      <td>6091.0</td>\n",
       "      <td>30.6</td>\n",
       "      <td>144405.0</td>\n",
       "      <td>1002.0</td>\n",
       "    </tr>\n",
       "  </tbody>\n",
       "</table>\n",
       "<p>5 rows × 63 columns</p>\n",
       "</div>"
      ],
      "text/plain": [
       "      Total_Housing_2000 Occupancy_Status_For_Housing_Units_2000  \\\n",
       "FIPS                                                               \n",
       "51000            3200912                                 3200912   \n",
       "11000             145574                                  145574   \n",
       "63000              99789                                   99789   \n",
       "84000              77589                                   77589   \n",
       "73000              68192                                   68192   \n",
       "\n",
       "      Vacancy_Status_2000 For_Rent_2000 Rented_Not_Occupied_2000  \\\n",
       "FIPS                                                               \n",
       "51000              179324         70542                    15604   \n",
       "11000               22854          8642                     2349   \n",
       "63000               10790          5261                     1406   \n",
       "84000                3238          1553                      435   \n",
       "73000                8710          4765                     1221   \n",
       "\n",
       "      For_Sale_Only_2000 Sold_Not_Occupied_2000  \\\n",
       "FIPS                                              \n",
       "51000              16033                  28157   \n",
       "11000               1629                    254   \n",
       "63000                775                    218   \n",
       "84000                296                    275   \n",
       "73000                500                    180   \n",
       "\n",
       "      For_Seasonal_Recreational_Or_Occasional_Use_2000  \\\n",
       "FIPS                                                     \n",
       "51000                                              196   \n",
       "11000                                                0   \n",
       "63000                                                0   \n",
       "84000                                                1   \n",
       "73000                                                1   \n",
       "\n",
       "      For_Migrant_Workers_2000  Total_Population_2000  ...  \\\n",
       "FIPS                                                   ...   \n",
       "51000                    48792                8008278  ...   \n",
       "11000                     9980                 292648  ...   \n",
       "63000                     3130                 219773  ...   \n",
       "84000                      678                 196086  ...   \n",
       "73000                     2043                 147306  ...   \n",
       "\n",
       "      Total_Population_2015 Presence_of_Non-Relatives_2015 Total_Housing_2016  \\\n",
       "FIPS                                                                            \n",
       "51000             8426743.0                        66649.0           237307.0   \n",
       "11000              259517.0                         1433.0             9658.0   \n",
       "63000              210745.0                         1365.0             8354.0   \n",
       "84000              199435.0                         1407.0             5664.0   \n",
       "73000              144564.0                         1314.0             6296.0   \n",
       "\n",
       "      Median_Age_2016  Total_Population_2016  Presence_of_Non-Relatives_2016  \\\n",
       "FIPS                                                                           \n",
       "51000            35.9              8461961.0                         67370.0   \n",
       "11000            32.9               258989.0                          1235.0   \n",
       "63000            31.3               210291.0                          1302.0   \n",
       "84000            38.5               199725.0                          1148.0   \n",
       "73000            30.6               144350.0                          1036.0   \n",
       "\n",
       "       Total_Housing_2017  Median_Age_2017  Total_Population_2017  \\\n",
       "FIPS                                                                \n",
       "51000            231338.0             36.2              8560072.0   \n",
       "11000              9431.0             32.8               259574.0   \n",
       "63000              8140.0             31.7               209463.0   \n",
       "84000              5425.0             38.8               200999.0   \n",
       "73000              6091.0             30.6               144405.0   \n",
       "\n",
       "       Presence_of_Non-Relatives_2017  \n",
       "FIPS                                   \n",
       "51000                         67838.0  \n",
       "11000                          1128.0  \n",
       "63000                          1321.0  \n",
       "84000                          1088.0  \n",
       "73000                          1002.0  \n",
       "\n",
       "[5 rows x 63 columns]"
      ]
     },
     "execution_count": 41,
     "metadata": {},
     "output_type": "execute_result"
    }
   ],
   "source": [
    "ny_join.head()"
   ]
  },
  {
   "cell_type": "code",
   "execution_count": 42,
   "metadata": {},
   "outputs": [
    {
     "data": {
      "application/vnd.plotly.v1+json": {
       "config": {
        "plotlyServerURL": "https://plot.ly"
       },
       "data": [
        {
         "name": "2000_pop",
         "type": "bar",
         "x": [
          "New York city, New York",
          "Buffalo city, New York",
          "Rochester city, New York",
          "Yonkers city, New York",
          "Syracuse city, New York"
         ],
         "y": [
          8008278,
          292648,
          219773,
          196086,
          147306
         ]
        },
        {
         "name": "2010_pop",
         "type": "bar",
         "x": [
          "New York city, New York",
          "Buffalo city, New York",
          "Rochester city, New York",
          "Yonkers city, New York",
          "Syracuse city, New York"
         ],
         "y": [
          8175133,
          261310,
          210565,
          195976,
          145170
         ]
        },
        {
         "name": "2012_pop",
         "type": "bar",
         "x": [
          "New York city, New York",
          "Buffalo city, New York",
          "Rochester city, New York",
          "Yonkers city, New York",
          "Syracuse city, New York"
         ],
         "y": [
          8199221,
          261955,
          210967,
          196459,
          144703
         ]
        },
        {
         "name": "2013_pop",
         "type": "bar",
         "x": [
          "New York city, New York",
          "Buffalo city, New York",
          "Rochester city, New York",
          "Yonkers city, New York",
          "Syracuse city, New York"
         ],
         "y": [
          8268999,
          260568,
          210624,
          197493,
          144742
         ]
        },
        {
         "name": "2014_pop",
         "type": "bar",
         "x": [
          "New York city, New York",
          "Buffalo city, New York",
          "Rochester city, New York",
          "Yonkers city, New York",
          "Syracuse city, New York"
         ],
         "y": [
          8354889,
          259959,
          210461,
          198654,
          144648
         ]
        },
        {
         "name": "2015_pop",
         "type": "bar",
         "x": [
          "New York city, New York",
          "Buffalo city, New York",
          "Rochester city, New York",
          "Yonkers city, New York",
          "Syracuse city, New York"
         ],
         "y": [
          8426743,
          259517,
          210745,
          199435,
          144564
         ]
        },
        {
         "name": "2016_pop",
         "type": "bar",
         "x": [
          "New York city, New York",
          "Buffalo city, New York",
          "Rochester city, New York",
          "Yonkers city, New York",
          "Syracuse city, New York"
         ],
         "y": [
          8461961,
          258989,
          210291,
          199725,
          144350
         ]
        },
        {
         "name": "2017_pop",
         "type": "bar",
         "x": [
          "New York city, New York",
          "Buffalo city, New York",
          "Rochester city, New York",
          "Yonkers city, New York",
          "Syracuse city, New York"
         ],
         "y": [
          8560072,
          259574,
          209463,
          200999,
          144405
         ]
        },
        {
         "name": "2000_housing",
         "type": "bar",
         "x": [
          "New York city, New York",
          "Buffalo city, New York",
          "Rochester city, New York",
          "Yonkers city, New York",
          "Syracuse city, New York"
         ],
         "y": [
          "3200912",
          "145574",
          "99789",
          "77589",
          "68192"
         ]
        },
        {
         "name": "2010_housing",
         "type": "bar",
         "x": [
          "New York city, New York",
          "Buffalo city, New York",
          "Rochester city, New York",
          "Yonkers city, New York",
          "Syracuse city, New York"
         ],
         "y": [
          3371062,
          133444,
          97158,
          80389,
          64356
         ]
        },
        {
         "name": "2012_housing",
         "type": "bar",
         "x": [
          "New York city, New York",
          "Buffalo city, New York",
          "Rochester city, New York",
          "Yonkers city, New York",
          "Syracuse city, New York"
         ],
         "y": [
          215308,
          8891,
          7192,
          5296,
          5342
         ]
        },
        {
         "name": "2013_housing",
         "type": "bar",
         "x": [
          "New York city, New York",
          "Buffalo city, New York",
          "Rochester city, New York",
          "Yonkers city, New York",
          "Syracuse city, New York"
         ],
         "y": [
          221083,
          9041,
          7513,
          5449,
          5636
         ]
        },
        {
         "name": "2014_housing",
         "type": "bar",
         "x": [
          "New York city, New York",
          "Buffalo city, New York",
          "Rochester city, New York",
          "Yonkers city, New York",
          "Syracuse city, New York"
         ],
         "y": [
          229186,
          9363,
          7973,
          5655,
          6021
         ]
        },
        {
         "name": "2015_housing",
         "type": "bar",
         "x": [
          "New York city, New York",
          "Buffalo city, New York",
          "Rochester city, New York",
          "Yonkers city, New York",
          "Syracuse city, New York"
         ],
         "y": [
          236858,
          9721,
          8399,
          5814,
          6368
         ]
        },
        {
         "name": "2016_housing",
         "type": "bar",
         "x": [
          "New York city, New York",
          "Buffalo city, New York",
          "Rochester city, New York",
          "Yonkers city, New York",
          "Syracuse city, New York"
         ],
         "y": [
          237307,
          9658,
          8354,
          5664,
          6296
         ]
        },
        {
         "name": "2017_housing",
         "type": "bar",
         "x": [
          "New York city, New York",
          "Buffalo city, New York",
          "Rochester city, New York",
          "Yonkers city, New York",
          "Syracuse city, New York"
         ],
         "y": [
          231338,
          9431,
          8140,
          5425,
          6091
         ]
        },
        {
         "name": "2000_non-relatives",
         "type": "bar",
         "x": [
          "New York city, New York",
          "Buffalo city, New York",
          "Rochester city, New York",
          "Yonkers city, New York",
          "Syracuse city, New York"
         ],
         "y": [
          "8008278",
          "292648",
          "219773",
          "196086",
          "147306"
         ]
        },
        {
         "name": "2010_non-relatives",
         "type": "bar",
         "x": [
          "New York city, New York",
          "Buffalo city, New York",
          "Rochester city, New York",
          "Yonkers city, New York",
          "Syracuse city, New York"
         ],
         "y": [
          3109784,
          112536,
          87027,
          74550,
          57355
         ]
        },
        {
         "name": "2012_non-relatives",
         "type": "bar",
         "x": [
          "New York city, New York",
          "Buffalo city, New York",
          "Rochester city, New York",
          "Yonkers city, New York",
          "Syracuse city, New York"
         ],
         "y": [
          64799,
          1549,
          1746,
          1748,
          1049
         ]
        },
        {
         "name": "2013_non-relatives",
         "type": "bar",
         "x": [
          "New York city, New York",
          "Buffalo city, New York",
          "Rochester city, New York",
          "Yonkers city, New York",
          "Syracuse city, New York"
         ],
         "y": [
          64718,
          1386,
          1637,
          1479,
          1218
         ]
        },
        {
         "name": "2014_non-relatives",
         "type": "bar",
         "x": [
          "New York city, New York",
          "Buffalo city, New York",
          "Rochester city, New York",
          "Yonkers city, New York",
          "Syracuse city, New York"
         ],
         "y": [
          66993,
          1400,
          1258,
          1379,
          1344
         ]
        },
        {
         "name": "2015_non-relatives",
         "type": "bar",
         "x": [
          "New York city, New York",
          "Buffalo city, New York",
          "Rochester city, New York",
          "Yonkers city, New York",
          "Syracuse city, New York"
         ],
         "y": [
          66649,
          1433,
          1365,
          1407,
          1314
         ]
        },
        {
         "name": "2016_non-relatives",
         "type": "bar",
         "x": [
          "New York city, New York",
          "Buffalo city, New York",
          "Rochester city, New York",
          "Yonkers city, New York",
          "Syracuse city, New York"
         ],
         "y": [
          67370,
          1235,
          1302,
          1148,
          1036
         ]
        },
        {
         "name": "2017_non-relatives",
         "type": "bar",
         "x": [
          "New York city, New York",
          "Buffalo city, New York",
          "Rochester city, New York",
          "Yonkers city, New York",
          "Syracuse city, New York"
         ],
         "y": [
          67838,
          1128,
          1321,
          1088,
          1002
         ]
        }
       ],
       "layout": {
        "barmode": "group",
        "template": {
         "data": {
          "bar": [
           {
            "error_x": {
             "color": "#2a3f5f"
            },
            "error_y": {
             "color": "#2a3f5f"
            },
            "marker": {
             "line": {
              "color": "#E5ECF6",
              "width": 0.5
             }
            },
            "type": "bar"
           }
          ],
          "barpolar": [
           {
            "marker": {
             "line": {
              "color": "#E5ECF6",
              "width": 0.5
             }
            },
            "type": "barpolar"
           }
          ],
          "carpet": [
           {
            "aaxis": {
             "endlinecolor": "#2a3f5f",
             "gridcolor": "white",
             "linecolor": "white",
             "minorgridcolor": "white",
             "startlinecolor": "#2a3f5f"
            },
            "baxis": {
             "endlinecolor": "#2a3f5f",
             "gridcolor": "white",
             "linecolor": "white",
             "minorgridcolor": "white",
             "startlinecolor": "#2a3f5f"
            },
            "type": "carpet"
           }
          ],
          "choropleth": [
           {
            "colorbar": {
             "outlinewidth": 0,
             "ticks": ""
            },
            "type": "choropleth"
           }
          ],
          "contour": [
           {
            "colorbar": {
             "outlinewidth": 0,
             "ticks": ""
            },
            "colorscale": [
             [
              0,
              "#0d0887"
             ],
             [
              0.1111111111111111,
              "#46039f"
             ],
             [
              0.2222222222222222,
              "#7201a8"
             ],
             [
              0.3333333333333333,
              "#9c179e"
             ],
             [
              0.4444444444444444,
              "#bd3786"
             ],
             [
              0.5555555555555556,
              "#d8576b"
             ],
             [
              0.6666666666666666,
              "#ed7953"
             ],
             [
              0.7777777777777778,
              "#fb9f3a"
             ],
             [
              0.8888888888888888,
              "#fdca26"
             ],
             [
              1,
              "#f0f921"
             ]
            ],
            "type": "contour"
           }
          ],
          "contourcarpet": [
           {
            "colorbar": {
             "outlinewidth": 0,
             "ticks": ""
            },
            "type": "contourcarpet"
           }
          ],
          "heatmap": [
           {
            "colorbar": {
             "outlinewidth": 0,
             "ticks": ""
            },
            "colorscale": [
             [
              0,
              "#0d0887"
             ],
             [
              0.1111111111111111,
              "#46039f"
             ],
             [
              0.2222222222222222,
              "#7201a8"
             ],
             [
              0.3333333333333333,
              "#9c179e"
             ],
             [
              0.4444444444444444,
              "#bd3786"
             ],
             [
              0.5555555555555556,
              "#d8576b"
             ],
             [
              0.6666666666666666,
              "#ed7953"
             ],
             [
              0.7777777777777778,
              "#fb9f3a"
             ],
             [
              0.8888888888888888,
              "#fdca26"
             ],
             [
              1,
              "#f0f921"
             ]
            ],
            "type": "heatmap"
           }
          ],
          "heatmapgl": [
           {
            "colorbar": {
             "outlinewidth": 0,
             "ticks": ""
            },
            "colorscale": [
             [
              0,
              "#0d0887"
             ],
             [
              0.1111111111111111,
              "#46039f"
             ],
             [
              0.2222222222222222,
              "#7201a8"
             ],
             [
              0.3333333333333333,
              "#9c179e"
             ],
             [
              0.4444444444444444,
              "#bd3786"
             ],
             [
              0.5555555555555556,
              "#d8576b"
             ],
             [
              0.6666666666666666,
              "#ed7953"
             ],
             [
              0.7777777777777778,
              "#fb9f3a"
             ],
             [
              0.8888888888888888,
              "#fdca26"
             ],
             [
              1,
              "#f0f921"
             ]
            ],
            "type": "heatmapgl"
           }
          ],
          "histogram": [
           {
            "marker": {
             "colorbar": {
              "outlinewidth": 0,
              "ticks": ""
             }
            },
            "type": "histogram"
           }
          ],
          "histogram2d": [
           {
            "colorbar": {
             "outlinewidth": 0,
             "ticks": ""
            },
            "colorscale": [
             [
              0,
              "#0d0887"
             ],
             [
              0.1111111111111111,
              "#46039f"
             ],
             [
              0.2222222222222222,
              "#7201a8"
             ],
             [
              0.3333333333333333,
              "#9c179e"
             ],
             [
              0.4444444444444444,
              "#bd3786"
             ],
             [
              0.5555555555555556,
              "#d8576b"
             ],
             [
              0.6666666666666666,
              "#ed7953"
             ],
             [
              0.7777777777777778,
              "#fb9f3a"
             ],
             [
              0.8888888888888888,
              "#fdca26"
             ],
             [
              1,
              "#f0f921"
             ]
            ],
            "type": "histogram2d"
           }
          ],
          "histogram2dcontour": [
           {
            "colorbar": {
             "outlinewidth": 0,
             "ticks": ""
            },
            "colorscale": [
             [
              0,
              "#0d0887"
             ],
             [
              0.1111111111111111,
              "#46039f"
             ],
             [
              0.2222222222222222,
              "#7201a8"
             ],
             [
              0.3333333333333333,
              "#9c179e"
             ],
             [
              0.4444444444444444,
              "#bd3786"
             ],
             [
              0.5555555555555556,
              "#d8576b"
             ],
             [
              0.6666666666666666,
              "#ed7953"
             ],
             [
              0.7777777777777778,
              "#fb9f3a"
             ],
             [
              0.8888888888888888,
              "#fdca26"
             ],
             [
              1,
              "#f0f921"
             ]
            ],
            "type": "histogram2dcontour"
           }
          ],
          "mesh3d": [
           {
            "colorbar": {
             "outlinewidth": 0,
             "ticks": ""
            },
            "type": "mesh3d"
           }
          ],
          "parcoords": [
           {
            "line": {
             "colorbar": {
              "outlinewidth": 0,
              "ticks": ""
             }
            },
            "type": "parcoords"
           }
          ],
          "scatter": [
           {
            "marker": {
             "colorbar": {
              "outlinewidth": 0,
              "ticks": ""
             }
            },
            "type": "scatter"
           }
          ],
          "scatter3d": [
           {
            "line": {
             "colorbar": {
              "outlinewidth": 0,
              "ticks": ""
             }
            },
            "marker": {
             "colorbar": {
              "outlinewidth": 0,
              "ticks": ""
             }
            },
            "type": "scatter3d"
           }
          ],
          "scattercarpet": [
           {
            "marker": {
             "colorbar": {
              "outlinewidth": 0,
              "ticks": ""
             }
            },
            "type": "scattercarpet"
           }
          ],
          "scattergeo": [
           {
            "marker": {
             "colorbar": {
              "outlinewidth": 0,
              "ticks": ""
             }
            },
            "type": "scattergeo"
           }
          ],
          "scattergl": [
           {
            "marker": {
             "colorbar": {
              "outlinewidth": 0,
              "ticks": ""
             }
            },
            "type": "scattergl"
           }
          ],
          "scattermapbox": [
           {
            "marker": {
             "colorbar": {
              "outlinewidth": 0,
              "ticks": ""
             }
            },
            "type": "scattermapbox"
           }
          ],
          "scatterpolar": [
           {
            "marker": {
             "colorbar": {
              "outlinewidth": 0,
              "ticks": ""
             }
            },
            "type": "scatterpolar"
           }
          ],
          "scatterpolargl": [
           {
            "marker": {
             "colorbar": {
              "outlinewidth": 0,
              "ticks": ""
             }
            },
            "type": "scatterpolargl"
           }
          ],
          "scatterternary": [
           {
            "marker": {
             "colorbar": {
              "outlinewidth": 0,
              "ticks": ""
             }
            },
            "type": "scatterternary"
           }
          ],
          "surface": [
           {
            "colorbar": {
             "outlinewidth": 0,
             "ticks": ""
            },
            "colorscale": [
             [
              0,
              "#0d0887"
             ],
             [
              0.1111111111111111,
              "#46039f"
             ],
             [
              0.2222222222222222,
              "#7201a8"
             ],
             [
              0.3333333333333333,
              "#9c179e"
             ],
             [
              0.4444444444444444,
              "#bd3786"
             ],
             [
              0.5555555555555556,
              "#d8576b"
             ],
             [
              0.6666666666666666,
              "#ed7953"
             ],
             [
              0.7777777777777778,
              "#fb9f3a"
             ],
             [
              0.8888888888888888,
              "#fdca26"
             ],
             [
              1,
              "#f0f921"
             ]
            ],
            "type": "surface"
           }
          ],
          "table": [
           {
            "cells": {
             "fill": {
              "color": "#EBF0F8"
             },
             "line": {
              "color": "white"
             }
            },
            "header": {
             "fill": {
              "color": "#C8D4E3"
             },
             "line": {
              "color": "white"
             }
            },
            "type": "table"
           }
          ]
         },
         "layout": {
          "annotationdefaults": {
           "arrowcolor": "#2a3f5f",
           "arrowhead": 0,
           "arrowwidth": 1
          },
          "colorscale": {
           "diverging": [
            [
             0,
             "#8e0152"
            ],
            [
             0.1,
             "#c51b7d"
            ],
            [
             0.2,
             "#de77ae"
            ],
            [
             0.3,
             "#f1b6da"
            ],
            [
             0.4,
             "#fde0ef"
            ],
            [
             0.5,
             "#f7f7f7"
            ],
            [
             0.6,
             "#e6f5d0"
            ],
            [
             0.7,
             "#b8e186"
            ],
            [
             0.8,
             "#7fbc41"
            ],
            [
             0.9,
             "#4d9221"
            ],
            [
             1,
             "#276419"
            ]
           ],
           "sequential": [
            [
             0,
             "#0d0887"
            ],
            [
             0.1111111111111111,
             "#46039f"
            ],
            [
             0.2222222222222222,
             "#7201a8"
            ],
            [
             0.3333333333333333,
             "#9c179e"
            ],
            [
             0.4444444444444444,
             "#bd3786"
            ],
            [
             0.5555555555555556,
             "#d8576b"
            ],
            [
             0.6666666666666666,
             "#ed7953"
            ],
            [
             0.7777777777777778,
             "#fb9f3a"
            ],
            [
             0.8888888888888888,
             "#fdca26"
            ],
            [
             1,
             "#f0f921"
            ]
           ],
           "sequentialminus": [
            [
             0,
             "#0d0887"
            ],
            [
             0.1111111111111111,
             "#46039f"
            ],
            [
             0.2222222222222222,
             "#7201a8"
            ],
            [
             0.3333333333333333,
             "#9c179e"
            ],
            [
             0.4444444444444444,
             "#bd3786"
            ],
            [
             0.5555555555555556,
             "#d8576b"
            ],
            [
             0.6666666666666666,
             "#ed7953"
            ],
            [
             0.7777777777777778,
             "#fb9f3a"
            ],
            [
             0.8888888888888888,
             "#fdca26"
            ],
            [
             1,
             "#f0f921"
            ]
           ]
          },
          "colorway": [
           "#636efa",
           "#EF553B",
           "#00cc96",
           "#ab63fa",
           "#FFA15A",
           "#19d3f3",
           "#FF6692",
           "#B6E880",
           "#FF97FF",
           "#FECB52"
          ],
          "font": {
           "color": "#2a3f5f"
          },
          "geo": {
           "bgcolor": "white",
           "lakecolor": "white",
           "landcolor": "#E5ECF6",
           "showlakes": true,
           "showland": true,
           "subunitcolor": "white"
          },
          "hoverlabel": {
           "align": "left"
          },
          "hovermode": "closest",
          "mapbox": {
           "style": "light"
          },
          "paper_bgcolor": "white",
          "plot_bgcolor": "#E5ECF6",
          "polar": {
           "angularaxis": {
            "gridcolor": "white",
            "linecolor": "white",
            "ticks": ""
           },
           "bgcolor": "#E5ECF6",
           "radialaxis": {
            "gridcolor": "white",
            "linecolor": "white",
            "ticks": ""
           }
          },
          "scene": {
           "xaxis": {
            "backgroundcolor": "#E5ECF6",
            "gridcolor": "white",
            "gridwidth": 2,
            "linecolor": "white",
            "showbackground": true,
            "ticks": "",
            "zerolinecolor": "white"
           },
           "yaxis": {
            "backgroundcolor": "#E5ECF6",
            "gridcolor": "white",
            "gridwidth": 2,
            "linecolor": "white",
            "showbackground": true,
            "ticks": "",
            "zerolinecolor": "white"
           },
           "zaxis": {
            "backgroundcolor": "#E5ECF6",
            "gridcolor": "white",
            "gridwidth": 2,
            "linecolor": "white",
            "showbackground": true,
            "ticks": "",
            "zerolinecolor": "white"
           }
          },
          "shapedefaults": {
           "line": {
            "color": "#2a3f5f"
           }
          },
          "ternary": {
           "aaxis": {
            "gridcolor": "white",
            "linecolor": "white",
            "ticks": ""
           },
           "baxis": {
            "gridcolor": "white",
            "linecolor": "white",
            "ticks": ""
           },
           "bgcolor": "#E5ECF6",
           "caxis": {
            "gridcolor": "white",
            "linecolor": "white",
            "ticks": ""
           }
          },
          "title": {
           "x": 0.05
          },
          "xaxis": {
           "automargin": true,
           "gridcolor": "white",
           "linecolor": "white",
           "ticks": "",
           "zerolinecolor": "white",
           "zerolinewidth": 2
          },
          "yaxis": {
           "automargin": true,
           "gridcolor": "white",
           "linecolor": "white",
           "ticks": "",
           "zerolinecolor": "white",
           "zerolinewidth": 2
          }
         }
        }
       }
      },
      "text/html": [
       "<div>\n",
       "        \n",
       "        \n",
       "            <div id=\"dd71f328-115c-4b01-9585-d95a7decada3\" class=\"plotly-graph-div\" style=\"height:525px; width:100%;\"></div>\n",
       "            <script type=\"text/javascript\">\n",
       "                require([\"plotly\"], function(Plotly) {\n",
       "                    window.PLOTLYENV=window.PLOTLYENV || {};\n",
       "                    \n",
       "                if (document.getElementById(\"dd71f328-115c-4b01-9585-d95a7decada3\")) {\n",
       "                    Plotly.newPlot(\n",
       "                        'dd71f328-115c-4b01-9585-d95a7decada3',\n",
       "                        [{\"name\": \"2000_pop\", \"type\": \"bar\", \"x\": [\"New York city, New York\", \"Buffalo city, New York\", \"Rochester city, New York\", \"Yonkers city, New York\", \"Syracuse city, New York\"], \"y\": [8008278, 292648, 219773, 196086, 147306]}, {\"name\": \"2010_pop\", \"type\": \"bar\", \"x\": [\"New York city, New York\", \"Buffalo city, New York\", \"Rochester city, New York\", \"Yonkers city, New York\", \"Syracuse city, New York\"], \"y\": [8175133.0, 261310.0, 210565.0, 195976.0, 145170.0]}, {\"name\": \"2012_pop\", \"type\": \"bar\", \"x\": [\"New York city, New York\", \"Buffalo city, New York\", \"Rochester city, New York\", \"Yonkers city, New York\", \"Syracuse city, New York\"], \"y\": [8199221.0, 261955.0, 210967.0, 196459.0, 144703.0]}, {\"name\": \"2013_pop\", \"type\": \"bar\", \"x\": [\"New York city, New York\", \"Buffalo city, New York\", \"Rochester city, New York\", \"Yonkers city, New York\", \"Syracuse city, New York\"], \"y\": [8268999.0, 260568.0, 210624.0, 197493.0, 144742.0]}, {\"name\": \"2014_pop\", \"type\": \"bar\", \"x\": [\"New York city, New York\", \"Buffalo city, New York\", \"Rochester city, New York\", \"Yonkers city, New York\", \"Syracuse city, New York\"], \"y\": [8354889.0, 259959.0, 210461.0, 198654.0, 144648.0]}, {\"name\": \"2015_pop\", \"type\": \"bar\", \"x\": [\"New York city, New York\", \"Buffalo city, New York\", \"Rochester city, New York\", \"Yonkers city, New York\", \"Syracuse city, New York\"], \"y\": [8426743.0, 259517.0, 210745.0, 199435.0, 144564.0]}, {\"name\": \"2016_pop\", \"type\": \"bar\", \"x\": [\"New York city, New York\", \"Buffalo city, New York\", \"Rochester city, New York\", \"Yonkers city, New York\", \"Syracuse city, New York\"], \"y\": [8461961.0, 258989.0, 210291.0, 199725.0, 144350.0]}, {\"name\": \"2017_pop\", \"type\": \"bar\", \"x\": [\"New York city, New York\", \"Buffalo city, New York\", \"Rochester city, New York\", \"Yonkers city, New York\", \"Syracuse city, New York\"], \"y\": [8560072.0, 259574.0, 209463.0, 200999.0, 144405.0]}, {\"name\": \"2000_housing\", \"type\": \"bar\", \"x\": [\"New York city, New York\", \"Buffalo city, New York\", \"Rochester city, New York\", \"Yonkers city, New York\", \"Syracuse city, New York\"], \"y\": [\"3200912\", \"145574\", \"99789\", \"77589\", \"68192\"]}, {\"name\": \"2010_housing\", \"type\": \"bar\", \"x\": [\"New York city, New York\", \"Buffalo city, New York\", \"Rochester city, New York\", \"Yonkers city, New York\", \"Syracuse city, New York\"], \"y\": [3371062.0, 133444.0, 97158.0, 80389.0, 64356.0]}, {\"name\": \"2012_housing\", \"type\": \"bar\", \"x\": [\"New York city, New York\", \"Buffalo city, New York\", \"Rochester city, New York\", \"Yonkers city, New York\", \"Syracuse city, New York\"], \"y\": [215308.0, 8891.0, 7192.0, 5296.0, 5342.0]}, {\"name\": \"2013_housing\", \"type\": \"bar\", \"x\": [\"New York city, New York\", \"Buffalo city, New York\", \"Rochester city, New York\", \"Yonkers city, New York\", \"Syracuse city, New York\"], \"y\": [221083.0, 9041.0, 7513.0, 5449.0, 5636.0]}, {\"name\": \"2014_housing\", \"type\": \"bar\", \"x\": [\"New York city, New York\", \"Buffalo city, New York\", \"Rochester city, New York\", \"Yonkers city, New York\", \"Syracuse city, New York\"], \"y\": [229186.0, 9363.0, 7973.0, 5655.0, 6021.0]}, {\"name\": \"2015_housing\", \"type\": \"bar\", \"x\": [\"New York city, New York\", \"Buffalo city, New York\", \"Rochester city, New York\", \"Yonkers city, New York\", \"Syracuse city, New York\"], \"y\": [236858.0, 9721.0, 8399.0, 5814.0, 6368.0]}, {\"name\": \"2016_housing\", \"type\": \"bar\", \"x\": [\"New York city, New York\", \"Buffalo city, New York\", \"Rochester city, New York\", \"Yonkers city, New York\", \"Syracuse city, New York\"], \"y\": [237307.0, 9658.0, 8354.0, 5664.0, 6296.0]}, {\"name\": \"2017_housing\", \"type\": \"bar\", \"x\": [\"New York city, New York\", \"Buffalo city, New York\", \"Rochester city, New York\", \"Yonkers city, New York\", \"Syracuse city, New York\"], \"y\": [231338.0, 9431.0, 8140.0, 5425.0, 6091.0]}, {\"name\": \"2000_non-relatives\", \"type\": \"bar\", \"x\": [\"New York city, New York\", \"Buffalo city, New York\", \"Rochester city, New York\", \"Yonkers city, New York\", \"Syracuse city, New York\"], \"y\": [\"8008278\", \"292648\", \"219773\", \"196086\", \"147306\"]}, {\"name\": \"2010_non-relatives\", \"type\": \"bar\", \"x\": [\"New York city, New York\", \"Buffalo city, New York\", \"Rochester city, New York\", \"Yonkers city, New York\", \"Syracuse city, New York\"], \"y\": [3109784.0, 112536.0, 87027.0, 74550.0, 57355.0]}, {\"name\": \"2012_non-relatives\", \"type\": \"bar\", \"x\": [\"New York city, New York\", \"Buffalo city, New York\", \"Rochester city, New York\", \"Yonkers city, New York\", \"Syracuse city, New York\"], \"y\": [64799.0, 1549.0, 1746.0, 1748.0, 1049.0]}, {\"name\": \"2013_non-relatives\", \"type\": \"bar\", \"x\": [\"New York city, New York\", \"Buffalo city, New York\", \"Rochester city, New York\", \"Yonkers city, New York\", \"Syracuse city, New York\"], \"y\": [64718.0, 1386.0, 1637.0, 1479.0, 1218.0]}, {\"name\": \"2014_non-relatives\", \"type\": \"bar\", \"x\": [\"New York city, New York\", \"Buffalo city, New York\", \"Rochester city, New York\", \"Yonkers city, New York\", \"Syracuse city, New York\"], \"y\": [66993.0, 1400.0, 1258.0, 1379.0, 1344.0]}, {\"name\": \"2015_non-relatives\", \"type\": \"bar\", \"x\": [\"New York city, New York\", \"Buffalo city, New York\", \"Rochester city, New York\", \"Yonkers city, New York\", \"Syracuse city, New York\"], \"y\": [66649.0, 1433.0, 1365.0, 1407.0, 1314.0]}, {\"name\": \"2016_non-relatives\", \"type\": \"bar\", \"x\": [\"New York city, New York\", \"Buffalo city, New York\", \"Rochester city, New York\", \"Yonkers city, New York\", \"Syracuse city, New York\"], \"y\": [67370.0, 1235.0, 1302.0, 1148.0, 1036.0]}, {\"name\": \"2017_non-relatives\", \"type\": \"bar\", \"x\": [\"New York city, New York\", \"Buffalo city, New York\", \"Rochester city, New York\", \"Yonkers city, New York\", \"Syracuse city, New York\"], \"y\": [67838.0, 1128.0, 1321.0, 1088.0, 1002.0]}],\n",
       "                        {\"barmode\": \"group\", \"template\": {\"data\": {\"bar\": [{\"error_x\": {\"color\": \"#2a3f5f\"}, \"error_y\": {\"color\": \"#2a3f5f\"}, \"marker\": {\"line\": {\"color\": \"#E5ECF6\", \"width\": 0.5}}, \"type\": \"bar\"}], \"barpolar\": [{\"marker\": {\"line\": {\"color\": \"#E5ECF6\", \"width\": 0.5}}, \"type\": \"barpolar\"}], \"carpet\": [{\"aaxis\": {\"endlinecolor\": \"#2a3f5f\", \"gridcolor\": \"white\", \"linecolor\": \"white\", \"minorgridcolor\": \"white\", \"startlinecolor\": \"#2a3f5f\"}, \"baxis\": {\"endlinecolor\": \"#2a3f5f\", \"gridcolor\": \"white\", \"linecolor\": \"white\", \"minorgridcolor\": \"white\", \"startlinecolor\": \"#2a3f5f\"}, \"type\": \"carpet\"}], \"choropleth\": [{\"colorbar\": {\"outlinewidth\": 0, \"ticks\": \"\"}, \"type\": \"choropleth\"}], \"contour\": [{\"colorbar\": {\"outlinewidth\": 0, \"ticks\": \"\"}, \"colorscale\": [[0.0, \"#0d0887\"], [0.1111111111111111, \"#46039f\"], [0.2222222222222222, \"#7201a8\"], [0.3333333333333333, \"#9c179e\"], [0.4444444444444444, \"#bd3786\"], [0.5555555555555556, \"#d8576b\"], [0.6666666666666666, \"#ed7953\"], [0.7777777777777778, \"#fb9f3a\"], [0.8888888888888888, \"#fdca26\"], [1.0, \"#f0f921\"]], \"type\": \"contour\"}], \"contourcarpet\": [{\"colorbar\": {\"outlinewidth\": 0, \"ticks\": \"\"}, \"type\": \"contourcarpet\"}], \"heatmap\": [{\"colorbar\": {\"outlinewidth\": 0, \"ticks\": \"\"}, \"colorscale\": [[0.0, \"#0d0887\"], [0.1111111111111111, \"#46039f\"], [0.2222222222222222, \"#7201a8\"], [0.3333333333333333, \"#9c179e\"], [0.4444444444444444, \"#bd3786\"], [0.5555555555555556, \"#d8576b\"], [0.6666666666666666, \"#ed7953\"], [0.7777777777777778, \"#fb9f3a\"], [0.8888888888888888, \"#fdca26\"], [1.0, \"#f0f921\"]], \"type\": \"heatmap\"}], \"heatmapgl\": [{\"colorbar\": {\"outlinewidth\": 0, \"ticks\": \"\"}, \"colorscale\": [[0.0, \"#0d0887\"], [0.1111111111111111, \"#46039f\"], [0.2222222222222222, \"#7201a8\"], [0.3333333333333333, \"#9c179e\"], [0.4444444444444444, \"#bd3786\"], [0.5555555555555556, \"#d8576b\"], [0.6666666666666666, \"#ed7953\"], [0.7777777777777778, \"#fb9f3a\"], [0.8888888888888888, \"#fdca26\"], [1.0, \"#f0f921\"]], \"type\": \"heatmapgl\"}], \"histogram\": [{\"marker\": {\"colorbar\": {\"outlinewidth\": 0, \"ticks\": \"\"}}, \"type\": \"histogram\"}], \"histogram2d\": [{\"colorbar\": {\"outlinewidth\": 0, \"ticks\": \"\"}, \"colorscale\": [[0.0, \"#0d0887\"], [0.1111111111111111, \"#46039f\"], [0.2222222222222222, \"#7201a8\"], [0.3333333333333333, \"#9c179e\"], [0.4444444444444444, \"#bd3786\"], [0.5555555555555556, \"#d8576b\"], [0.6666666666666666, \"#ed7953\"], [0.7777777777777778, \"#fb9f3a\"], [0.8888888888888888, \"#fdca26\"], [1.0, \"#f0f921\"]], \"type\": \"histogram2d\"}], \"histogram2dcontour\": [{\"colorbar\": {\"outlinewidth\": 0, \"ticks\": \"\"}, \"colorscale\": [[0.0, \"#0d0887\"], [0.1111111111111111, \"#46039f\"], [0.2222222222222222, \"#7201a8\"], [0.3333333333333333, \"#9c179e\"], [0.4444444444444444, \"#bd3786\"], [0.5555555555555556, \"#d8576b\"], [0.6666666666666666, \"#ed7953\"], [0.7777777777777778, \"#fb9f3a\"], [0.8888888888888888, \"#fdca26\"], [1.0, \"#f0f921\"]], \"type\": \"histogram2dcontour\"}], \"mesh3d\": [{\"colorbar\": {\"outlinewidth\": 0, \"ticks\": \"\"}, \"type\": \"mesh3d\"}], \"parcoords\": [{\"line\": {\"colorbar\": {\"outlinewidth\": 0, \"ticks\": \"\"}}, \"type\": \"parcoords\"}], \"scatter\": [{\"marker\": {\"colorbar\": {\"outlinewidth\": 0, \"ticks\": \"\"}}, \"type\": \"scatter\"}], \"scatter3d\": [{\"line\": {\"colorbar\": {\"outlinewidth\": 0, \"ticks\": \"\"}}, \"marker\": {\"colorbar\": {\"outlinewidth\": 0, \"ticks\": \"\"}}, \"type\": \"scatter3d\"}], \"scattercarpet\": [{\"marker\": {\"colorbar\": {\"outlinewidth\": 0, \"ticks\": \"\"}}, \"type\": \"scattercarpet\"}], \"scattergeo\": [{\"marker\": {\"colorbar\": {\"outlinewidth\": 0, \"ticks\": \"\"}}, \"type\": \"scattergeo\"}], \"scattergl\": [{\"marker\": {\"colorbar\": {\"outlinewidth\": 0, \"ticks\": \"\"}}, \"type\": \"scattergl\"}], \"scattermapbox\": [{\"marker\": {\"colorbar\": {\"outlinewidth\": 0, \"ticks\": \"\"}}, \"type\": \"scattermapbox\"}], \"scatterpolar\": [{\"marker\": {\"colorbar\": {\"outlinewidth\": 0, \"ticks\": \"\"}}, \"type\": \"scatterpolar\"}], \"scatterpolargl\": [{\"marker\": {\"colorbar\": {\"outlinewidth\": 0, \"ticks\": \"\"}}, \"type\": \"scatterpolargl\"}], \"scatterternary\": [{\"marker\": {\"colorbar\": {\"outlinewidth\": 0, \"ticks\": \"\"}}, \"type\": \"scatterternary\"}], \"surface\": [{\"colorbar\": {\"outlinewidth\": 0, \"ticks\": \"\"}, \"colorscale\": [[0.0, \"#0d0887\"], [0.1111111111111111, \"#46039f\"], [0.2222222222222222, \"#7201a8\"], [0.3333333333333333, \"#9c179e\"], [0.4444444444444444, \"#bd3786\"], [0.5555555555555556, \"#d8576b\"], [0.6666666666666666, \"#ed7953\"], [0.7777777777777778, \"#fb9f3a\"], [0.8888888888888888, \"#fdca26\"], [1.0, \"#f0f921\"]], \"type\": \"surface\"}], \"table\": [{\"cells\": {\"fill\": {\"color\": \"#EBF0F8\"}, \"line\": {\"color\": \"white\"}}, \"header\": {\"fill\": {\"color\": \"#C8D4E3\"}, \"line\": {\"color\": \"white\"}}, \"type\": \"table\"}]}, \"layout\": {\"annotationdefaults\": {\"arrowcolor\": \"#2a3f5f\", \"arrowhead\": 0, \"arrowwidth\": 1}, \"colorscale\": {\"diverging\": [[0, \"#8e0152\"], [0.1, \"#c51b7d\"], [0.2, \"#de77ae\"], [0.3, \"#f1b6da\"], [0.4, \"#fde0ef\"], [0.5, \"#f7f7f7\"], [0.6, \"#e6f5d0\"], [0.7, \"#b8e186\"], [0.8, \"#7fbc41\"], [0.9, \"#4d9221\"], [1, \"#276419\"]], \"sequential\": [[0.0, \"#0d0887\"], [0.1111111111111111, \"#46039f\"], [0.2222222222222222, \"#7201a8\"], [0.3333333333333333, \"#9c179e\"], [0.4444444444444444, \"#bd3786\"], [0.5555555555555556, \"#d8576b\"], [0.6666666666666666, \"#ed7953\"], [0.7777777777777778, \"#fb9f3a\"], [0.8888888888888888, \"#fdca26\"], [1.0, \"#f0f921\"]], \"sequentialminus\": [[0.0, \"#0d0887\"], [0.1111111111111111, \"#46039f\"], [0.2222222222222222, \"#7201a8\"], [0.3333333333333333, \"#9c179e\"], [0.4444444444444444, \"#bd3786\"], [0.5555555555555556, \"#d8576b\"], [0.6666666666666666, \"#ed7953\"], [0.7777777777777778, \"#fb9f3a\"], [0.8888888888888888, \"#fdca26\"], [1.0, \"#f0f921\"]]}, \"colorway\": [\"#636efa\", \"#EF553B\", \"#00cc96\", \"#ab63fa\", \"#FFA15A\", \"#19d3f3\", \"#FF6692\", \"#B6E880\", \"#FF97FF\", \"#FECB52\"], \"font\": {\"color\": \"#2a3f5f\"}, \"geo\": {\"bgcolor\": \"white\", \"lakecolor\": \"white\", \"landcolor\": \"#E5ECF6\", \"showlakes\": true, \"showland\": true, \"subunitcolor\": \"white\"}, \"hoverlabel\": {\"align\": \"left\"}, \"hovermode\": \"closest\", \"mapbox\": {\"style\": \"light\"}, \"paper_bgcolor\": \"white\", \"plot_bgcolor\": \"#E5ECF6\", \"polar\": {\"angularaxis\": {\"gridcolor\": \"white\", \"linecolor\": \"white\", \"ticks\": \"\"}, \"bgcolor\": \"#E5ECF6\", \"radialaxis\": {\"gridcolor\": \"white\", \"linecolor\": \"white\", \"ticks\": \"\"}}, \"scene\": {\"xaxis\": {\"backgroundcolor\": \"#E5ECF6\", \"gridcolor\": \"white\", \"gridwidth\": 2, \"linecolor\": \"white\", \"showbackground\": true, \"ticks\": \"\", \"zerolinecolor\": \"white\"}, \"yaxis\": {\"backgroundcolor\": \"#E5ECF6\", \"gridcolor\": \"white\", \"gridwidth\": 2, \"linecolor\": \"white\", \"showbackground\": true, \"ticks\": \"\", \"zerolinecolor\": \"white\"}, \"zaxis\": {\"backgroundcolor\": \"#E5ECF6\", \"gridcolor\": \"white\", \"gridwidth\": 2, \"linecolor\": \"white\", \"showbackground\": true, \"ticks\": \"\", \"zerolinecolor\": \"white\"}}, \"shapedefaults\": {\"line\": {\"color\": \"#2a3f5f\"}}, \"ternary\": {\"aaxis\": {\"gridcolor\": \"white\", \"linecolor\": \"white\", \"ticks\": \"\"}, \"baxis\": {\"gridcolor\": \"white\", \"linecolor\": \"white\", \"ticks\": \"\"}, \"bgcolor\": \"#E5ECF6\", \"caxis\": {\"gridcolor\": \"white\", \"linecolor\": \"white\", \"ticks\": \"\"}}, \"title\": {\"x\": 0.05}, \"xaxis\": {\"automargin\": true, \"gridcolor\": \"white\", \"linecolor\": \"white\", \"ticks\": \"\", \"zerolinecolor\": \"white\", \"zerolinewidth\": 2}, \"yaxis\": {\"automargin\": true, \"gridcolor\": \"white\", \"linecolor\": \"white\", \"ticks\": \"\", \"zerolinecolor\": \"white\", \"zerolinewidth\": 2}}}},\n",
       "                        {\"responsive\": true}\n",
       "                    ).then(function(){\n",
       "                            \n",
       "var gd = document.getElementById('dd71f328-115c-4b01-9585-d95a7decada3');\n",
       "var x = new MutationObserver(function (mutations, observer) {{\n",
       "        var display = window.getComputedStyle(gd).display;\n",
       "        if (!display || display === 'none') {{\n",
       "            console.log([gd, 'removed!']);\n",
       "            Plotly.purge(gd);\n",
       "            observer.disconnect();\n",
       "        }}\n",
       "}});\n",
       "\n",
       "// Listen for the removal of the full notebook cells\n",
       "var notebookContainer = gd.closest('#notebook-container');\n",
       "if (notebookContainer) {{\n",
       "    x.observe(notebookContainer, {childList: true});\n",
       "}}\n",
       "\n",
       "// Listen for the clearing of the current output cell\n",
       "var outputEl = gd.closest('.output');\n",
       "if (outputEl) {{\n",
       "    x.observe(outputEl, {childList: true});\n",
       "}}\n",
       "\n",
       "                        })\n",
       "                };\n",
       "                });\n",
       "            </script>\n",
       "        </div>"
      ]
     },
     "metadata": {},
     "output_type": "display_data"
    }
   ],
   "source": [
    "fig = go.Figure(data=[\n",
    "    go.Bar(name='2000_pop', x=ny_join['City_Name'], y=ny_join['Total_Population_2000']),\n",
    "    go.Bar(name='2010_pop', x=ny_join['City_Name'], y=ny_join['Total_Population_2010']),\n",
    "    go.Bar(name='2012_pop', x=ny_join['City_Name'], y=ny_join['Total_Population_2012']),\n",
    "    go.Bar(name='2013_pop', x=ny_join['City_Name'], y=ny_join['Total_Population_2013']),\n",
    "    go.Bar(name='2014_pop', x=ny_join['City_Name'], y=ny_join['Total_Population_2014']),\n",
    "    go.Bar(name='2015_pop', x=ny_join['City_Name'], y=ny_join['Total_Population_2015']),\n",
    "    go.Bar(name='2016_pop', x=ny_join['City_Name'], y=ny_join['Total_Population_2016']),\n",
    "    go.Bar(name='2017_pop', x=ny_join['City_Name'], y=ny_join['Total_Population_2017']),\n",
    "    go.Bar(name='2000_housing', x=ny_join['City_Name'], y=ny_join['Total_Housing_2000']),\n",
    "    go.Bar(name='2010_housing', x=ny_join['City_Name'], y=ny_join['Total_Housing_2010']),\n",
    "    go.Bar(name='2012_housing', x=ny_join['City_Name'], y=ny_join['Total_Housing_2012']),\n",
    "    go.Bar(name='2013_housing', x=ny_join['City_Name'], y=ny_join['Total_Housing_2013']),\n",
    "    go.Bar(name='2014_housing', x=ny_join['City_Name'], y=ny_join['Total_Housing_2014']),\n",
    "    go.Bar(name='2015_housing', x=ny_join['City_Name'], y=ny_join['Total_Housing_2015']),\n",
    "    go.Bar(name='2016_housing', x=ny_join['City_Name'], y=ny_join['Total_Housing_2016']),\n",
    "    go.Bar(name='2017_housing', x=ny_join['City_Name'], y=ny_join['Total_Housing_2017']),\n",
    "    go.Bar(name='2000_non-relatives', x=ny_join['City_Name'], y=ny_join['Presence_of_Non-Relatives_2000']),\n",
    "    go.Bar(name='2010_non-relatives', x=ny_join['City_Name'], y=ny_join['Presence_of_Non-Relatives_2010']),\n",
    "    go.Bar(name='2012_non-relatives', x=ny_join['City_Name'], y=ny_join['Presence_of_Non-Relatives_2012']),\n",
    "    go.Bar(name='2013_non-relatives', x=ny_join['City_Name'], y=ny_join['Presence_of_Non-Relatives_2013']),\n",
    "    go.Bar(name='2014_non-relatives', x=ny_join['City_Name'], y=ny_join['Presence_of_Non-Relatives_2014']),\n",
    "    go.Bar(name='2015_non-relatives', x=ny_join['City_Name'], y=ny_join['Presence_of_Non-Relatives_2015']),\n",
    "    go.Bar(name='2016_non-relatives', x=ny_join['City_Name'], y=ny_join['Presence_of_Non-Relatives_2016']),\n",
    "    go.Bar(name='2017_non-relatives', x=ny_join['City_Name'], y=ny_join['Presence_of_Non-Relatives_2017']),\n",
    "])\n",
    "fig.update_layout(barmode='group')\n",
    "fig.show()"
   ]
  },
  {
   "cell_type": "markdown",
   "metadata": {},
   "source": [
    "**Plot with emissions data**"
   ]
  },
  {
   "cell_type": "code",
   "execution_count": 43,
   "metadata": {},
   "outputs": [
    {
     "data": {
      "application/vnd.plotly.v1+json": {
       "config": {
        "plotlyServerURL": "https://plot.ly"
       },
       "data": [
        {
         "name": "2000_pop",
         "type": "bar",
         "x": [
          "New York city, New York",
          "Buffalo city, New York",
          "Rochester city, New York",
          "Yonkers city, New York",
          "Syracuse city, New York"
         ],
         "y": [
          8008278,
          292648,
          219773,
          196086,
          147306
         ]
        },
        {
         "name": "2010_pop",
         "type": "bar",
         "x": [
          "New York city, New York",
          "Buffalo city, New York",
          "Rochester city, New York",
          "Yonkers city, New York",
          "Syracuse city, New York"
         ],
         "y": [
          8175133,
          261310,
          210565,
          195976,
          145170
         ]
        },
        {
         "name": "2012_pop",
         "type": "bar",
         "x": [
          "New York city, New York",
          "Buffalo city, New York",
          "Rochester city, New York",
          "Yonkers city, New York",
          "Syracuse city, New York"
         ],
         "y": [
          8199221,
          261955,
          210967,
          196459,
          144703
         ]
        },
        {
         "name": "2013_pop",
         "type": "bar",
         "x": [
          "New York city, New York",
          "Buffalo city, New York",
          "Rochester city, New York",
          "Yonkers city, New York",
          "Syracuse city, New York"
         ],
         "y": [
          8268999,
          260568,
          210624,
          197493,
          144742
         ]
        },
        {
         "name": "2014_pop",
         "type": "bar",
         "x": [
          "New York city, New York",
          "Buffalo city, New York",
          "Rochester city, New York",
          "Yonkers city, New York",
          "Syracuse city, New York"
         ],
         "y": [
          8354889,
          259959,
          210461,
          198654,
          144648
         ]
        },
        {
         "name": "2015_pop",
         "type": "bar",
         "x": [
          "New York city, New York",
          "Buffalo city, New York",
          "Rochester city, New York",
          "Yonkers city, New York",
          "Syracuse city, New York"
         ],
         "y": [
          8426743,
          259517,
          210745,
          199435,
          144564
         ]
        },
        {
         "name": "2016_pop",
         "type": "bar",
         "x": [
          "New York city, New York",
          "Buffalo city, New York",
          "Rochester city, New York",
          "Yonkers city, New York",
          "Syracuse city, New York"
         ],
         "y": [
          8461961,
          258989,
          210291,
          199725,
          144350
         ]
        },
        {
         "name": "2017_pop",
         "type": "bar",
         "x": [
          "New York city, New York",
          "Buffalo city, New York",
          "Rochester city, New York",
          "Yonkers city, New York",
          "Syracuse city, New York"
         ],
         "y": [
          8560072,
          259574,
          209463,
          200999,
          144405
         ]
        },
        {
         "name": "2000_housing",
         "type": "bar",
         "x": [
          "New York city, New York",
          "Buffalo city, New York",
          "Rochester city, New York",
          "Yonkers city, New York",
          "Syracuse city, New York"
         ],
         "y": [
          "3200912",
          "145574",
          "99789",
          "77589",
          "68192"
         ]
        },
        {
         "name": "2010_housing",
         "type": "bar",
         "x": [
          "New York city, New York",
          "Buffalo city, New York",
          "Rochester city, New York",
          "Yonkers city, New York",
          "Syracuse city, New York"
         ],
         "y": [
          3371062,
          133444,
          97158,
          80389,
          64356
         ]
        },
        {
         "name": "2012_housing",
         "type": "bar",
         "x": [
          "New York city, New York",
          "Buffalo city, New York",
          "Rochester city, New York",
          "Yonkers city, New York",
          "Syracuse city, New York"
         ],
         "y": [
          215308,
          8891,
          7192,
          5296,
          5342
         ]
        },
        {
         "name": "2013_housing",
         "type": "bar",
         "x": [
          "New York city, New York",
          "Buffalo city, New York",
          "Rochester city, New York",
          "Yonkers city, New York",
          "Syracuse city, New York"
         ],
         "y": [
          221083,
          9041,
          7513,
          5449,
          5636
         ]
        },
        {
         "name": "2014_housing",
         "type": "bar",
         "x": [
          "New York city, New York",
          "Buffalo city, New York",
          "Rochester city, New York",
          "Yonkers city, New York",
          "Syracuse city, New York"
         ],
         "y": [
          229186,
          9363,
          7973,
          5655,
          6021
         ]
        },
        {
         "name": "2015_housing",
         "type": "bar",
         "x": [
          "New York city, New York",
          "Buffalo city, New York",
          "Rochester city, New York",
          "Yonkers city, New York",
          "Syracuse city, New York"
         ],
         "y": [
          236858,
          9721,
          8399,
          5814,
          6368
         ]
        },
        {
         "name": "2016_housing",
         "type": "bar",
         "x": [
          "New York city, New York",
          "Buffalo city, New York",
          "Rochester city, New York",
          "Yonkers city, New York",
          "Syracuse city, New York"
         ],
         "y": [
          237307,
          9658,
          8354,
          5664,
          6296
         ]
        },
        {
         "name": "2017_housing",
         "type": "bar",
         "x": [
          "New York city, New York",
          "Buffalo city, New York",
          "Rochester city, New York",
          "Yonkers city, New York",
          "Syracuse city, New York"
         ],
         "y": [
          231338,
          9431,
          8140,
          5425,
          6091
         ]
        },
        {
         "name": "2000_non-relatives",
         "type": "bar",
         "x": [
          "New York city, New York",
          "Buffalo city, New York",
          "Rochester city, New York",
          "Yonkers city, New York",
          "Syracuse city, New York"
         ],
         "y": [
          "8008278",
          "292648",
          "219773",
          "196086",
          "147306"
         ]
        },
        {
         "name": "2010_non-relatives",
         "type": "bar",
         "x": [
          "New York city, New York",
          "Buffalo city, New York",
          "Rochester city, New York",
          "Yonkers city, New York",
          "Syracuse city, New York"
         ],
         "y": [
          3109784,
          112536,
          87027,
          74550,
          57355
         ]
        },
        {
         "name": "2012_non-relatives",
         "type": "bar",
         "x": [
          "New York city, New York",
          "Buffalo city, New York",
          "Rochester city, New York",
          "Yonkers city, New York",
          "Syracuse city, New York"
         ],
         "y": [
          64799,
          1549,
          1746,
          1748,
          1049
         ]
        },
        {
         "name": "2013_non-relatives",
         "type": "bar",
         "x": [
          "New York city, New York",
          "Buffalo city, New York",
          "Rochester city, New York",
          "Yonkers city, New York",
          "Syracuse city, New York"
         ],
         "y": [
          64718,
          1386,
          1637,
          1479,
          1218
         ]
        },
        {
         "name": "2014_non-relatives",
         "type": "bar",
         "x": [
          "New York city, New York",
          "Buffalo city, New York",
          "Rochester city, New York",
          "Yonkers city, New York",
          "Syracuse city, New York"
         ],
         "y": [
          66993,
          1400,
          1258,
          1379,
          1344
         ]
        },
        {
         "name": "2015_non-relatives",
         "type": "bar",
         "x": [
          "New York city, New York",
          "Buffalo city, New York",
          "Rochester city, New York",
          "Yonkers city, New York",
          "Syracuse city, New York"
         ],
         "y": [
          66649,
          1433,
          1365,
          1407,
          1314
         ]
        },
        {
         "name": "2016_non-relatives",
         "type": "bar",
         "x": [
          "New York city, New York",
          "Buffalo city, New York",
          "Rochester city, New York",
          "Yonkers city, New York",
          "Syracuse city, New York"
         ],
         "y": [
          67370,
          1235,
          1302,
          1148,
          1036
         ]
        },
        {
         "name": "2017_non-relatives",
         "type": "bar",
         "x": [
          "New York city, New York",
          "Buffalo city, New York",
          "Rochester city, New York",
          "Yonkers city, New York",
          "Syracuse city, New York"
         ],
         "y": [
          67838,
          1128,
          1321,
          1088,
          1002
         ]
        },
        {
         "name": "2010_direct_emissions",
         "type": "bar",
         "x": [
          "New York city, New York",
          "Buffalo city, New York",
          "Rochester city, New York",
          "Yonkers city, New York",
          "Syracuse city, New York"
         ],
         "y": [
          1031971.988,
          78886.256,
          192413.40600000002,
          93338.2,
          null
         ]
        },
        {
         "name": "2011_direct_emissions",
         "type": "bar",
         "x": [
          "New York city, New York",
          "Buffalo city, New York",
          "Rochester city, New York",
          "Yonkers city, New York",
          "Syracuse city, New York"
         ],
         "y": [
          947339.892,
          74824.242,
          199539.84,
          85560.82800000001,
          77495.188749
         ]
        },
        {
         "name": "2012_direct_emissions",
         "type": "bar",
         "x": [
          "New York city, New York",
          "Buffalo city, New York",
          "Rochester city, New York",
          "Yonkers city, New York",
          "Syracuse city, New York"
         ],
         "y": [
          863178.2439999998,
          64839.098,
          213759.09600000002,
          84265.52200000001,
          67755.95847
         ]
        },
        {
         "name": "2013_direct_emissions",
         "type": "bar",
         "x": [
          "New York city, New York",
          "Buffalo city, New York",
          "Rochester city, New York",
          "Yonkers city, New York",
          "Syracuse city, New York"
         ],
         "y": [
          665665.5879999999,
          69223.024,
          1060719.522,
          87641.93800000001,
          107547.87530300001
         ]
        },
        {
         "name": "2014_direct_emissions",
         "type": "bar",
         "x": [
          "New York city, New York",
          "Buffalo city, New York",
          "Rochester city, New York",
          "Yonkers city, New York",
          "Syracuse city, New York"
         ],
         "y": [
          639392.006,
          69798.048,
          1005239.972,
          90773.44,
          253068.94416900002
         ]
        },
        {
         "name": "2015_direct_emissions",
         "type": "bar",
         "x": [
          "New York city, New York",
          "Buffalo city, New York",
          "Rochester city, New York",
          "Yonkers city, New York",
          "Syracuse city, New York"
         ],
         "y": [
          1144027.104,
          69309.43,
          984521.02,
          88161.81199999999,
          247378.970184
         ]
        },
        {
         "name": "2016_direct_emissions",
         "type": "bar",
         "x": [
          "New York city, New York",
          "Buffalo city, New York",
          "Rochester city, New York",
          "Yonkers city, New York",
          "Syracuse city, New York"
         ],
         "y": [
          2301534.538,
          80210.17,
          957350.25,
          91907.844,
          249706.759972
         ]
        },
        {
         "name": "2017_direct_emissions",
         "type": "bar",
         "x": [
          "New York city, New York",
          "Buffalo city, New York",
          "Rochester city, New York",
          "Yonkers city, New York",
          "Syracuse city, New York"
         ],
         "y": [
          2221784.9,
          79995.668,
          845893.9419999999,
          86616.344,
          256182.286184
         ]
        },
        {
         "name": "2018_direct_emissions",
         "type": "bar",
         "x": [
          "New York city, New York",
          "Buffalo city, New York",
          "Rochester city, New York",
          "Yonkers city, New York",
          "Syracuse city, New York"
         ],
         "y": [
          2410797.794,
          119684.166,
          687126.424,
          90762.97200000001,
          260103.175263
         ]
        }
       ],
       "layout": {
        "barmode": "group",
        "template": {
         "data": {
          "bar": [
           {
            "error_x": {
             "color": "#2a3f5f"
            },
            "error_y": {
             "color": "#2a3f5f"
            },
            "marker": {
             "line": {
              "color": "#E5ECF6",
              "width": 0.5
             }
            },
            "type": "bar"
           }
          ],
          "barpolar": [
           {
            "marker": {
             "line": {
              "color": "#E5ECF6",
              "width": 0.5
             }
            },
            "type": "barpolar"
           }
          ],
          "carpet": [
           {
            "aaxis": {
             "endlinecolor": "#2a3f5f",
             "gridcolor": "white",
             "linecolor": "white",
             "minorgridcolor": "white",
             "startlinecolor": "#2a3f5f"
            },
            "baxis": {
             "endlinecolor": "#2a3f5f",
             "gridcolor": "white",
             "linecolor": "white",
             "minorgridcolor": "white",
             "startlinecolor": "#2a3f5f"
            },
            "type": "carpet"
           }
          ],
          "choropleth": [
           {
            "colorbar": {
             "outlinewidth": 0,
             "ticks": ""
            },
            "type": "choropleth"
           }
          ],
          "contour": [
           {
            "colorbar": {
             "outlinewidth": 0,
             "ticks": ""
            },
            "colorscale": [
             [
              0,
              "#0d0887"
             ],
             [
              0.1111111111111111,
              "#46039f"
             ],
             [
              0.2222222222222222,
              "#7201a8"
             ],
             [
              0.3333333333333333,
              "#9c179e"
             ],
             [
              0.4444444444444444,
              "#bd3786"
             ],
             [
              0.5555555555555556,
              "#d8576b"
             ],
             [
              0.6666666666666666,
              "#ed7953"
             ],
             [
              0.7777777777777778,
              "#fb9f3a"
             ],
             [
              0.8888888888888888,
              "#fdca26"
             ],
             [
              1,
              "#f0f921"
             ]
            ],
            "type": "contour"
           }
          ],
          "contourcarpet": [
           {
            "colorbar": {
             "outlinewidth": 0,
             "ticks": ""
            },
            "type": "contourcarpet"
           }
          ],
          "heatmap": [
           {
            "colorbar": {
             "outlinewidth": 0,
             "ticks": ""
            },
            "colorscale": [
             [
              0,
              "#0d0887"
             ],
             [
              0.1111111111111111,
              "#46039f"
             ],
             [
              0.2222222222222222,
              "#7201a8"
             ],
             [
              0.3333333333333333,
              "#9c179e"
             ],
             [
              0.4444444444444444,
              "#bd3786"
             ],
             [
              0.5555555555555556,
              "#d8576b"
             ],
             [
              0.6666666666666666,
              "#ed7953"
             ],
             [
              0.7777777777777778,
              "#fb9f3a"
             ],
             [
              0.8888888888888888,
              "#fdca26"
             ],
             [
              1,
              "#f0f921"
             ]
            ],
            "type": "heatmap"
           }
          ],
          "heatmapgl": [
           {
            "colorbar": {
             "outlinewidth": 0,
             "ticks": ""
            },
            "colorscale": [
             [
              0,
              "#0d0887"
             ],
             [
              0.1111111111111111,
              "#46039f"
             ],
             [
              0.2222222222222222,
              "#7201a8"
             ],
             [
              0.3333333333333333,
              "#9c179e"
             ],
             [
              0.4444444444444444,
              "#bd3786"
             ],
             [
              0.5555555555555556,
              "#d8576b"
             ],
             [
              0.6666666666666666,
              "#ed7953"
             ],
             [
              0.7777777777777778,
              "#fb9f3a"
             ],
             [
              0.8888888888888888,
              "#fdca26"
             ],
             [
              1,
              "#f0f921"
             ]
            ],
            "type": "heatmapgl"
           }
          ],
          "histogram": [
           {
            "marker": {
             "colorbar": {
              "outlinewidth": 0,
              "ticks": ""
             }
            },
            "type": "histogram"
           }
          ],
          "histogram2d": [
           {
            "colorbar": {
             "outlinewidth": 0,
             "ticks": ""
            },
            "colorscale": [
             [
              0,
              "#0d0887"
             ],
             [
              0.1111111111111111,
              "#46039f"
             ],
             [
              0.2222222222222222,
              "#7201a8"
             ],
             [
              0.3333333333333333,
              "#9c179e"
             ],
             [
              0.4444444444444444,
              "#bd3786"
             ],
             [
              0.5555555555555556,
              "#d8576b"
             ],
             [
              0.6666666666666666,
              "#ed7953"
             ],
             [
              0.7777777777777778,
              "#fb9f3a"
             ],
             [
              0.8888888888888888,
              "#fdca26"
             ],
             [
              1,
              "#f0f921"
             ]
            ],
            "type": "histogram2d"
           }
          ],
          "histogram2dcontour": [
           {
            "colorbar": {
             "outlinewidth": 0,
             "ticks": ""
            },
            "colorscale": [
             [
              0,
              "#0d0887"
             ],
             [
              0.1111111111111111,
              "#46039f"
             ],
             [
              0.2222222222222222,
              "#7201a8"
             ],
             [
              0.3333333333333333,
              "#9c179e"
             ],
             [
              0.4444444444444444,
              "#bd3786"
             ],
             [
              0.5555555555555556,
              "#d8576b"
             ],
             [
              0.6666666666666666,
              "#ed7953"
             ],
             [
              0.7777777777777778,
              "#fb9f3a"
             ],
             [
              0.8888888888888888,
              "#fdca26"
             ],
             [
              1,
              "#f0f921"
             ]
            ],
            "type": "histogram2dcontour"
           }
          ],
          "mesh3d": [
           {
            "colorbar": {
             "outlinewidth": 0,
             "ticks": ""
            },
            "type": "mesh3d"
           }
          ],
          "parcoords": [
           {
            "line": {
             "colorbar": {
              "outlinewidth": 0,
              "ticks": ""
             }
            },
            "type": "parcoords"
           }
          ],
          "scatter": [
           {
            "marker": {
             "colorbar": {
              "outlinewidth": 0,
              "ticks": ""
             }
            },
            "type": "scatter"
           }
          ],
          "scatter3d": [
           {
            "line": {
             "colorbar": {
              "outlinewidth": 0,
              "ticks": ""
             }
            },
            "marker": {
             "colorbar": {
              "outlinewidth": 0,
              "ticks": ""
             }
            },
            "type": "scatter3d"
           }
          ],
          "scattercarpet": [
           {
            "marker": {
             "colorbar": {
              "outlinewidth": 0,
              "ticks": ""
             }
            },
            "type": "scattercarpet"
           }
          ],
          "scattergeo": [
           {
            "marker": {
             "colorbar": {
              "outlinewidth": 0,
              "ticks": ""
             }
            },
            "type": "scattergeo"
           }
          ],
          "scattergl": [
           {
            "marker": {
             "colorbar": {
              "outlinewidth": 0,
              "ticks": ""
             }
            },
            "type": "scattergl"
           }
          ],
          "scattermapbox": [
           {
            "marker": {
             "colorbar": {
              "outlinewidth": 0,
              "ticks": ""
             }
            },
            "type": "scattermapbox"
           }
          ],
          "scatterpolar": [
           {
            "marker": {
             "colorbar": {
              "outlinewidth": 0,
              "ticks": ""
             }
            },
            "type": "scatterpolar"
           }
          ],
          "scatterpolargl": [
           {
            "marker": {
             "colorbar": {
              "outlinewidth": 0,
              "ticks": ""
             }
            },
            "type": "scatterpolargl"
           }
          ],
          "scatterternary": [
           {
            "marker": {
             "colorbar": {
              "outlinewidth": 0,
              "ticks": ""
             }
            },
            "type": "scatterternary"
           }
          ],
          "surface": [
           {
            "colorbar": {
             "outlinewidth": 0,
             "ticks": ""
            },
            "colorscale": [
             [
              0,
              "#0d0887"
             ],
             [
              0.1111111111111111,
              "#46039f"
             ],
             [
              0.2222222222222222,
              "#7201a8"
             ],
             [
              0.3333333333333333,
              "#9c179e"
             ],
             [
              0.4444444444444444,
              "#bd3786"
             ],
             [
              0.5555555555555556,
              "#d8576b"
             ],
             [
              0.6666666666666666,
              "#ed7953"
             ],
             [
              0.7777777777777778,
              "#fb9f3a"
             ],
             [
              0.8888888888888888,
              "#fdca26"
             ],
             [
              1,
              "#f0f921"
             ]
            ],
            "type": "surface"
           }
          ],
          "table": [
           {
            "cells": {
             "fill": {
              "color": "#EBF0F8"
             },
             "line": {
              "color": "white"
             }
            },
            "header": {
             "fill": {
              "color": "#C8D4E3"
             },
             "line": {
              "color": "white"
             }
            },
            "type": "table"
           }
          ]
         },
         "layout": {
          "annotationdefaults": {
           "arrowcolor": "#2a3f5f",
           "arrowhead": 0,
           "arrowwidth": 1
          },
          "colorscale": {
           "diverging": [
            [
             0,
             "#8e0152"
            ],
            [
             0.1,
             "#c51b7d"
            ],
            [
             0.2,
             "#de77ae"
            ],
            [
             0.3,
             "#f1b6da"
            ],
            [
             0.4,
             "#fde0ef"
            ],
            [
             0.5,
             "#f7f7f7"
            ],
            [
             0.6,
             "#e6f5d0"
            ],
            [
             0.7,
             "#b8e186"
            ],
            [
             0.8,
             "#7fbc41"
            ],
            [
             0.9,
             "#4d9221"
            ],
            [
             1,
             "#276419"
            ]
           ],
           "sequential": [
            [
             0,
             "#0d0887"
            ],
            [
             0.1111111111111111,
             "#46039f"
            ],
            [
             0.2222222222222222,
             "#7201a8"
            ],
            [
             0.3333333333333333,
             "#9c179e"
            ],
            [
             0.4444444444444444,
             "#bd3786"
            ],
            [
             0.5555555555555556,
             "#d8576b"
            ],
            [
             0.6666666666666666,
             "#ed7953"
            ],
            [
             0.7777777777777778,
             "#fb9f3a"
            ],
            [
             0.8888888888888888,
             "#fdca26"
            ],
            [
             1,
             "#f0f921"
            ]
           ],
           "sequentialminus": [
            [
             0,
             "#0d0887"
            ],
            [
             0.1111111111111111,
             "#46039f"
            ],
            [
             0.2222222222222222,
             "#7201a8"
            ],
            [
             0.3333333333333333,
             "#9c179e"
            ],
            [
             0.4444444444444444,
             "#bd3786"
            ],
            [
             0.5555555555555556,
             "#d8576b"
            ],
            [
             0.6666666666666666,
             "#ed7953"
            ],
            [
             0.7777777777777778,
             "#fb9f3a"
            ],
            [
             0.8888888888888888,
             "#fdca26"
            ],
            [
             1,
             "#f0f921"
            ]
           ]
          },
          "colorway": [
           "#636efa",
           "#EF553B",
           "#00cc96",
           "#ab63fa",
           "#FFA15A",
           "#19d3f3",
           "#FF6692",
           "#B6E880",
           "#FF97FF",
           "#FECB52"
          ],
          "font": {
           "color": "#2a3f5f"
          },
          "geo": {
           "bgcolor": "white",
           "lakecolor": "white",
           "landcolor": "#E5ECF6",
           "showlakes": true,
           "showland": true,
           "subunitcolor": "white"
          },
          "hoverlabel": {
           "align": "left"
          },
          "hovermode": "closest",
          "mapbox": {
           "style": "light"
          },
          "paper_bgcolor": "white",
          "plot_bgcolor": "#E5ECF6",
          "polar": {
           "angularaxis": {
            "gridcolor": "white",
            "linecolor": "white",
            "ticks": ""
           },
           "bgcolor": "#E5ECF6",
           "radialaxis": {
            "gridcolor": "white",
            "linecolor": "white",
            "ticks": ""
           }
          },
          "scene": {
           "xaxis": {
            "backgroundcolor": "#E5ECF6",
            "gridcolor": "white",
            "gridwidth": 2,
            "linecolor": "white",
            "showbackground": true,
            "ticks": "",
            "zerolinecolor": "white"
           },
           "yaxis": {
            "backgroundcolor": "#E5ECF6",
            "gridcolor": "white",
            "gridwidth": 2,
            "linecolor": "white",
            "showbackground": true,
            "ticks": "",
            "zerolinecolor": "white"
           },
           "zaxis": {
            "backgroundcolor": "#E5ECF6",
            "gridcolor": "white",
            "gridwidth": 2,
            "linecolor": "white",
            "showbackground": true,
            "ticks": "",
            "zerolinecolor": "white"
           }
          },
          "shapedefaults": {
           "line": {
            "color": "#2a3f5f"
           }
          },
          "ternary": {
           "aaxis": {
            "gridcolor": "white",
            "linecolor": "white",
            "ticks": ""
           },
           "baxis": {
            "gridcolor": "white",
            "linecolor": "white",
            "ticks": ""
           },
           "bgcolor": "#E5ECF6",
           "caxis": {
            "gridcolor": "white",
            "linecolor": "white",
            "ticks": ""
           }
          },
          "title": {
           "x": 0.05
          },
          "xaxis": {
           "automargin": true,
           "gridcolor": "white",
           "linecolor": "white",
           "ticks": "",
           "zerolinecolor": "white",
           "zerolinewidth": 2
          },
          "yaxis": {
           "automargin": true,
           "gridcolor": "white",
           "linecolor": "white",
           "ticks": "",
           "zerolinecolor": "white",
           "zerolinewidth": 2
          }
         }
        }
       }
      },
      "text/html": [
       "<div>\n",
       "        \n",
       "        \n",
       "            <div id=\"8720cec7-9049-43b3-b0fb-f8e02e79f6f4\" class=\"plotly-graph-div\" style=\"height:525px; width:100%;\"></div>\n",
       "            <script type=\"text/javascript\">\n",
       "                require([\"plotly\"], function(Plotly) {\n",
       "                    window.PLOTLYENV=window.PLOTLYENV || {};\n",
       "                    \n",
       "                if (document.getElementById(\"8720cec7-9049-43b3-b0fb-f8e02e79f6f4\")) {\n",
       "                    Plotly.newPlot(\n",
       "                        '8720cec7-9049-43b3-b0fb-f8e02e79f6f4',\n",
       "                        [{\"name\": \"2000_pop\", \"type\": \"bar\", \"x\": [\"New York city, New York\", \"Buffalo city, New York\", \"Rochester city, New York\", \"Yonkers city, New York\", \"Syracuse city, New York\"], \"y\": [8008278, 292648, 219773, 196086, 147306]}, {\"name\": \"2010_pop\", \"type\": \"bar\", \"x\": [\"New York city, New York\", \"Buffalo city, New York\", \"Rochester city, New York\", \"Yonkers city, New York\", \"Syracuse city, New York\"], \"y\": [8175133.0, 261310.0, 210565.0, 195976.0, 145170.0]}, {\"name\": \"2012_pop\", \"type\": \"bar\", \"x\": [\"New York city, New York\", \"Buffalo city, New York\", \"Rochester city, New York\", \"Yonkers city, New York\", \"Syracuse city, New York\"], \"y\": [8199221.0, 261955.0, 210967.0, 196459.0, 144703.0]}, {\"name\": \"2013_pop\", \"type\": \"bar\", \"x\": [\"New York city, New York\", \"Buffalo city, New York\", \"Rochester city, New York\", \"Yonkers city, New York\", \"Syracuse city, New York\"], \"y\": [8268999.0, 260568.0, 210624.0, 197493.0, 144742.0]}, {\"name\": \"2014_pop\", \"type\": \"bar\", \"x\": [\"New York city, New York\", \"Buffalo city, New York\", \"Rochester city, New York\", \"Yonkers city, New York\", \"Syracuse city, New York\"], \"y\": [8354889.0, 259959.0, 210461.0, 198654.0, 144648.0]}, {\"name\": \"2015_pop\", \"type\": \"bar\", \"x\": [\"New York city, New York\", \"Buffalo city, New York\", \"Rochester city, New York\", \"Yonkers city, New York\", \"Syracuse city, New York\"], \"y\": [8426743.0, 259517.0, 210745.0, 199435.0, 144564.0]}, {\"name\": \"2016_pop\", \"type\": \"bar\", \"x\": [\"New York city, New York\", \"Buffalo city, New York\", \"Rochester city, New York\", \"Yonkers city, New York\", \"Syracuse city, New York\"], \"y\": [8461961.0, 258989.0, 210291.0, 199725.0, 144350.0]}, {\"name\": \"2017_pop\", \"type\": \"bar\", \"x\": [\"New York city, New York\", \"Buffalo city, New York\", \"Rochester city, New York\", \"Yonkers city, New York\", \"Syracuse city, New York\"], \"y\": [8560072.0, 259574.0, 209463.0, 200999.0, 144405.0]}, {\"name\": \"2000_housing\", \"type\": \"bar\", \"x\": [\"New York city, New York\", \"Buffalo city, New York\", \"Rochester city, New York\", \"Yonkers city, New York\", \"Syracuse city, New York\"], \"y\": [\"3200912\", \"145574\", \"99789\", \"77589\", \"68192\"]}, {\"name\": \"2010_housing\", \"type\": \"bar\", \"x\": [\"New York city, New York\", \"Buffalo city, New York\", \"Rochester city, New York\", \"Yonkers city, New York\", \"Syracuse city, New York\"], \"y\": [3371062.0, 133444.0, 97158.0, 80389.0, 64356.0]}, {\"name\": \"2012_housing\", \"type\": \"bar\", \"x\": [\"New York city, New York\", \"Buffalo city, New York\", \"Rochester city, New York\", \"Yonkers city, New York\", \"Syracuse city, New York\"], \"y\": [215308.0, 8891.0, 7192.0, 5296.0, 5342.0]}, {\"name\": \"2013_housing\", \"type\": \"bar\", \"x\": [\"New York city, New York\", \"Buffalo city, New York\", \"Rochester city, New York\", \"Yonkers city, New York\", \"Syracuse city, New York\"], \"y\": [221083.0, 9041.0, 7513.0, 5449.0, 5636.0]}, {\"name\": \"2014_housing\", \"type\": \"bar\", \"x\": [\"New York city, New York\", \"Buffalo city, New York\", \"Rochester city, New York\", \"Yonkers city, New York\", \"Syracuse city, New York\"], \"y\": [229186.0, 9363.0, 7973.0, 5655.0, 6021.0]}, {\"name\": \"2015_housing\", \"type\": \"bar\", \"x\": [\"New York city, New York\", \"Buffalo city, New York\", \"Rochester city, New York\", \"Yonkers city, New York\", \"Syracuse city, New York\"], \"y\": [236858.0, 9721.0, 8399.0, 5814.0, 6368.0]}, {\"name\": \"2016_housing\", \"type\": \"bar\", \"x\": [\"New York city, New York\", \"Buffalo city, New York\", \"Rochester city, New York\", \"Yonkers city, New York\", \"Syracuse city, New York\"], \"y\": [237307.0, 9658.0, 8354.0, 5664.0, 6296.0]}, {\"name\": \"2017_housing\", \"type\": \"bar\", \"x\": [\"New York city, New York\", \"Buffalo city, New York\", \"Rochester city, New York\", \"Yonkers city, New York\", \"Syracuse city, New York\"], \"y\": [231338.0, 9431.0, 8140.0, 5425.0, 6091.0]}, {\"name\": \"2000_non-relatives\", \"type\": \"bar\", \"x\": [\"New York city, New York\", \"Buffalo city, New York\", \"Rochester city, New York\", \"Yonkers city, New York\", \"Syracuse city, New York\"], \"y\": [\"8008278\", \"292648\", \"219773\", \"196086\", \"147306\"]}, {\"name\": \"2010_non-relatives\", \"type\": \"bar\", \"x\": [\"New York city, New York\", \"Buffalo city, New York\", \"Rochester city, New York\", \"Yonkers city, New York\", \"Syracuse city, New York\"], \"y\": [3109784.0, 112536.0, 87027.0, 74550.0, 57355.0]}, {\"name\": \"2012_non-relatives\", \"type\": \"bar\", \"x\": [\"New York city, New York\", \"Buffalo city, New York\", \"Rochester city, New York\", \"Yonkers city, New York\", \"Syracuse city, New York\"], \"y\": [64799.0, 1549.0, 1746.0, 1748.0, 1049.0]}, {\"name\": \"2013_non-relatives\", \"type\": \"bar\", \"x\": [\"New York city, New York\", \"Buffalo city, New York\", \"Rochester city, New York\", \"Yonkers city, New York\", \"Syracuse city, New York\"], \"y\": [64718.0, 1386.0, 1637.0, 1479.0, 1218.0]}, {\"name\": \"2014_non-relatives\", \"type\": \"bar\", \"x\": [\"New York city, New York\", \"Buffalo city, New York\", \"Rochester city, New York\", \"Yonkers city, New York\", \"Syracuse city, New York\"], \"y\": [66993.0, 1400.0, 1258.0, 1379.0, 1344.0]}, {\"name\": \"2015_non-relatives\", \"type\": \"bar\", \"x\": [\"New York city, New York\", \"Buffalo city, New York\", \"Rochester city, New York\", \"Yonkers city, New York\", \"Syracuse city, New York\"], \"y\": [66649.0, 1433.0, 1365.0, 1407.0, 1314.0]}, {\"name\": \"2016_non-relatives\", \"type\": \"bar\", \"x\": [\"New York city, New York\", \"Buffalo city, New York\", \"Rochester city, New York\", \"Yonkers city, New York\", \"Syracuse city, New York\"], \"y\": [67370.0, 1235.0, 1302.0, 1148.0, 1036.0]}, {\"name\": \"2017_non-relatives\", \"type\": \"bar\", \"x\": [\"New York city, New York\", \"Buffalo city, New York\", \"Rochester city, New York\", \"Yonkers city, New York\", \"Syracuse city, New York\"], \"y\": [67838.0, 1128.0, 1321.0, 1088.0, 1002.0]}, {\"name\": \"2010_direct_emissions\", \"type\": \"bar\", \"x\": [\"New York city, New York\", \"Buffalo city, New York\", \"Rochester city, New York\", \"Yonkers city, New York\", \"Syracuse city, New York\"], \"y\": [1031971.988, 78886.256, 192413.40600000002, 93338.2, null]}, {\"name\": \"2011_direct_emissions\", \"type\": \"bar\", \"x\": [\"New York city, New York\", \"Buffalo city, New York\", \"Rochester city, New York\", \"Yonkers city, New York\", \"Syracuse city, New York\"], \"y\": [947339.892, 74824.242, 199539.84, 85560.82800000001, 77495.188749]}, {\"name\": \"2012_direct_emissions\", \"type\": \"bar\", \"x\": [\"New York city, New York\", \"Buffalo city, New York\", \"Rochester city, New York\", \"Yonkers city, New York\", \"Syracuse city, New York\"], \"y\": [863178.2439999998, 64839.098, 213759.09600000002, 84265.52200000001, 67755.95847]}, {\"name\": \"2013_direct_emissions\", \"type\": \"bar\", \"x\": [\"New York city, New York\", \"Buffalo city, New York\", \"Rochester city, New York\", \"Yonkers city, New York\", \"Syracuse city, New York\"], \"y\": [665665.5879999999, 69223.024, 1060719.522, 87641.93800000001, 107547.87530300001]}, {\"name\": \"2014_direct_emissions\", \"type\": \"bar\", \"x\": [\"New York city, New York\", \"Buffalo city, New York\", \"Rochester city, New York\", \"Yonkers city, New York\", \"Syracuse city, New York\"], \"y\": [639392.006, 69798.048, 1005239.972, 90773.44, 253068.94416900002]}, {\"name\": \"2015_direct_emissions\", \"type\": \"bar\", \"x\": [\"New York city, New York\", \"Buffalo city, New York\", \"Rochester city, New York\", \"Yonkers city, New York\", \"Syracuse city, New York\"], \"y\": [1144027.104, 69309.43, 984521.02, 88161.81199999999, 247378.970184]}, {\"name\": \"2016_direct_emissions\", \"type\": \"bar\", \"x\": [\"New York city, New York\", \"Buffalo city, New York\", \"Rochester city, New York\", \"Yonkers city, New York\", \"Syracuse city, New York\"], \"y\": [2301534.538, 80210.17, 957350.25, 91907.844, 249706.759972]}, {\"name\": \"2017_direct_emissions\", \"type\": \"bar\", \"x\": [\"New York city, New York\", \"Buffalo city, New York\", \"Rochester city, New York\", \"Yonkers city, New York\", \"Syracuse city, New York\"], \"y\": [2221784.9, 79995.668, 845893.9419999999, 86616.344, 256182.286184]}, {\"name\": \"2018_direct_emissions\", \"type\": \"bar\", \"x\": [\"New York city, New York\", \"Buffalo city, New York\", \"Rochester city, New York\", \"Yonkers city, New York\", \"Syracuse city, New York\"], \"y\": [2410797.794, 119684.166, 687126.424, 90762.97200000001, 260103.175263]}],\n",
       "                        {\"barmode\": \"group\", \"template\": {\"data\": {\"bar\": [{\"error_x\": {\"color\": \"#2a3f5f\"}, \"error_y\": {\"color\": \"#2a3f5f\"}, \"marker\": {\"line\": {\"color\": \"#E5ECF6\", \"width\": 0.5}}, \"type\": \"bar\"}], \"barpolar\": [{\"marker\": {\"line\": {\"color\": \"#E5ECF6\", \"width\": 0.5}}, \"type\": \"barpolar\"}], \"carpet\": [{\"aaxis\": {\"endlinecolor\": \"#2a3f5f\", \"gridcolor\": \"white\", \"linecolor\": \"white\", \"minorgridcolor\": \"white\", \"startlinecolor\": \"#2a3f5f\"}, \"baxis\": {\"endlinecolor\": \"#2a3f5f\", \"gridcolor\": \"white\", \"linecolor\": \"white\", \"minorgridcolor\": \"white\", \"startlinecolor\": \"#2a3f5f\"}, \"type\": \"carpet\"}], \"choropleth\": [{\"colorbar\": {\"outlinewidth\": 0, \"ticks\": \"\"}, \"type\": \"choropleth\"}], \"contour\": [{\"colorbar\": {\"outlinewidth\": 0, \"ticks\": \"\"}, \"colorscale\": [[0.0, \"#0d0887\"], [0.1111111111111111, \"#46039f\"], [0.2222222222222222, \"#7201a8\"], [0.3333333333333333, \"#9c179e\"], [0.4444444444444444, \"#bd3786\"], [0.5555555555555556, \"#d8576b\"], [0.6666666666666666, \"#ed7953\"], [0.7777777777777778, \"#fb9f3a\"], [0.8888888888888888, \"#fdca26\"], [1.0, \"#f0f921\"]], \"type\": \"contour\"}], \"contourcarpet\": [{\"colorbar\": {\"outlinewidth\": 0, \"ticks\": \"\"}, \"type\": \"contourcarpet\"}], \"heatmap\": [{\"colorbar\": {\"outlinewidth\": 0, \"ticks\": \"\"}, \"colorscale\": [[0.0, \"#0d0887\"], [0.1111111111111111, \"#46039f\"], [0.2222222222222222, \"#7201a8\"], [0.3333333333333333, \"#9c179e\"], [0.4444444444444444, \"#bd3786\"], [0.5555555555555556, \"#d8576b\"], [0.6666666666666666, \"#ed7953\"], [0.7777777777777778, \"#fb9f3a\"], [0.8888888888888888, \"#fdca26\"], [1.0, \"#f0f921\"]], \"type\": \"heatmap\"}], \"heatmapgl\": [{\"colorbar\": {\"outlinewidth\": 0, \"ticks\": \"\"}, \"colorscale\": [[0.0, \"#0d0887\"], [0.1111111111111111, \"#46039f\"], [0.2222222222222222, \"#7201a8\"], [0.3333333333333333, \"#9c179e\"], [0.4444444444444444, \"#bd3786\"], [0.5555555555555556, \"#d8576b\"], [0.6666666666666666, \"#ed7953\"], [0.7777777777777778, \"#fb9f3a\"], [0.8888888888888888, \"#fdca26\"], [1.0, \"#f0f921\"]], \"type\": \"heatmapgl\"}], \"histogram\": [{\"marker\": {\"colorbar\": {\"outlinewidth\": 0, \"ticks\": \"\"}}, \"type\": \"histogram\"}], \"histogram2d\": [{\"colorbar\": {\"outlinewidth\": 0, \"ticks\": \"\"}, \"colorscale\": [[0.0, \"#0d0887\"], [0.1111111111111111, \"#46039f\"], [0.2222222222222222, \"#7201a8\"], [0.3333333333333333, \"#9c179e\"], [0.4444444444444444, \"#bd3786\"], [0.5555555555555556, \"#d8576b\"], [0.6666666666666666, \"#ed7953\"], [0.7777777777777778, \"#fb9f3a\"], [0.8888888888888888, \"#fdca26\"], [1.0, \"#f0f921\"]], \"type\": \"histogram2d\"}], \"histogram2dcontour\": [{\"colorbar\": {\"outlinewidth\": 0, \"ticks\": \"\"}, \"colorscale\": [[0.0, \"#0d0887\"], [0.1111111111111111, \"#46039f\"], [0.2222222222222222, \"#7201a8\"], [0.3333333333333333, \"#9c179e\"], [0.4444444444444444, \"#bd3786\"], [0.5555555555555556, \"#d8576b\"], [0.6666666666666666, \"#ed7953\"], [0.7777777777777778, \"#fb9f3a\"], [0.8888888888888888, \"#fdca26\"], [1.0, \"#f0f921\"]], \"type\": \"histogram2dcontour\"}], \"mesh3d\": [{\"colorbar\": {\"outlinewidth\": 0, \"ticks\": \"\"}, \"type\": \"mesh3d\"}], \"parcoords\": [{\"line\": {\"colorbar\": {\"outlinewidth\": 0, \"ticks\": \"\"}}, \"type\": \"parcoords\"}], \"scatter\": [{\"marker\": {\"colorbar\": {\"outlinewidth\": 0, \"ticks\": \"\"}}, \"type\": \"scatter\"}], \"scatter3d\": [{\"line\": {\"colorbar\": {\"outlinewidth\": 0, \"ticks\": \"\"}}, \"marker\": {\"colorbar\": {\"outlinewidth\": 0, \"ticks\": \"\"}}, \"type\": \"scatter3d\"}], \"scattercarpet\": [{\"marker\": {\"colorbar\": {\"outlinewidth\": 0, \"ticks\": \"\"}}, \"type\": \"scattercarpet\"}], \"scattergeo\": [{\"marker\": {\"colorbar\": {\"outlinewidth\": 0, \"ticks\": \"\"}}, \"type\": \"scattergeo\"}], \"scattergl\": [{\"marker\": {\"colorbar\": {\"outlinewidth\": 0, \"ticks\": \"\"}}, \"type\": \"scattergl\"}], \"scattermapbox\": [{\"marker\": {\"colorbar\": {\"outlinewidth\": 0, \"ticks\": \"\"}}, \"type\": \"scattermapbox\"}], \"scatterpolar\": [{\"marker\": {\"colorbar\": {\"outlinewidth\": 0, \"ticks\": \"\"}}, \"type\": \"scatterpolar\"}], \"scatterpolargl\": [{\"marker\": {\"colorbar\": {\"outlinewidth\": 0, \"ticks\": \"\"}}, \"type\": \"scatterpolargl\"}], \"scatterternary\": [{\"marker\": {\"colorbar\": {\"outlinewidth\": 0, \"ticks\": \"\"}}, \"type\": \"scatterternary\"}], \"surface\": [{\"colorbar\": {\"outlinewidth\": 0, \"ticks\": \"\"}, \"colorscale\": [[0.0, \"#0d0887\"], [0.1111111111111111, \"#46039f\"], [0.2222222222222222, \"#7201a8\"], [0.3333333333333333, \"#9c179e\"], [0.4444444444444444, \"#bd3786\"], [0.5555555555555556, \"#d8576b\"], [0.6666666666666666, \"#ed7953\"], [0.7777777777777778, \"#fb9f3a\"], [0.8888888888888888, \"#fdca26\"], [1.0, \"#f0f921\"]], \"type\": \"surface\"}], \"table\": [{\"cells\": {\"fill\": {\"color\": \"#EBF0F8\"}, \"line\": {\"color\": \"white\"}}, \"header\": {\"fill\": {\"color\": \"#C8D4E3\"}, \"line\": {\"color\": \"white\"}}, \"type\": \"table\"}]}, \"layout\": {\"annotationdefaults\": {\"arrowcolor\": \"#2a3f5f\", \"arrowhead\": 0, \"arrowwidth\": 1}, \"colorscale\": {\"diverging\": [[0, \"#8e0152\"], [0.1, \"#c51b7d\"], [0.2, \"#de77ae\"], [0.3, \"#f1b6da\"], [0.4, \"#fde0ef\"], [0.5, \"#f7f7f7\"], [0.6, \"#e6f5d0\"], [0.7, \"#b8e186\"], [0.8, \"#7fbc41\"], [0.9, \"#4d9221\"], [1, \"#276419\"]], \"sequential\": [[0.0, \"#0d0887\"], [0.1111111111111111, \"#46039f\"], [0.2222222222222222, \"#7201a8\"], [0.3333333333333333, \"#9c179e\"], [0.4444444444444444, \"#bd3786\"], [0.5555555555555556, \"#d8576b\"], [0.6666666666666666, \"#ed7953\"], [0.7777777777777778, \"#fb9f3a\"], [0.8888888888888888, \"#fdca26\"], [1.0, \"#f0f921\"]], \"sequentialminus\": [[0.0, \"#0d0887\"], [0.1111111111111111, \"#46039f\"], [0.2222222222222222, \"#7201a8\"], [0.3333333333333333, \"#9c179e\"], [0.4444444444444444, \"#bd3786\"], [0.5555555555555556, \"#d8576b\"], [0.6666666666666666, \"#ed7953\"], [0.7777777777777778, \"#fb9f3a\"], [0.8888888888888888, \"#fdca26\"], [1.0, \"#f0f921\"]]}, \"colorway\": [\"#636efa\", \"#EF553B\", \"#00cc96\", \"#ab63fa\", \"#FFA15A\", \"#19d3f3\", \"#FF6692\", \"#B6E880\", \"#FF97FF\", \"#FECB52\"], \"font\": {\"color\": \"#2a3f5f\"}, \"geo\": {\"bgcolor\": \"white\", \"lakecolor\": \"white\", \"landcolor\": \"#E5ECF6\", \"showlakes\": true, \"showland\": true, \"subunitcolor\": \"white\"}, \"hoverlabel\": {\"align\": \"left\"}, \"hovermode\": \"closest\", \"mapbox\": {\"style\": \"light\"}, \"paper_bgcolor\": \"white\", \"plot_bgcolor\": \"#E5ECF6\", \"polar\": {\"angularaxis\": {\"gridcolor\": \"white\", \"linecolor\": \"white\", \"ticks\": \"\"}, \"bgcolor\": \"#E5ECF6\", \"radialaxis\": {\"gridcolor\": \"white\", \"linecolor\": \"white\", \"ticks\": \"\"}}, \"scene\": {\"xaxis\": {\"backgroundcolor\": \"#E5ECF6\", \"gridcolor\": \"white\", \"gridwidth\": 2, \"linecolor\": \"white\", \"showbackground\": true, \"ticks\": \"\", \"zerolinecolor\": \"white\"}, \"yaxis\": {\"backgroundcolor\": \"#E5ECF6\", \"gridcolor\": \"white\", \"gridwidth\": 2, \"linecolor\": \"white\", \"showbackground\": true, \"ticks\": \"\", \"zerolinecolor\": \"white\"}, \"zaxis\": {\"backgroundcolor\": \"#E5ECF6\", \"gridcolor\": \"white\", \"gridwidth\": 2, \"linecolor\": \"white\", \"showbackground\": true, \"ticks\": \"\", \"zerolinecolor\": \"white\"}}, \"shapedefaults\": {\"line\": {\"color\": \"#2a3f5f\"}}, \"ternary\": {\"aaxis\": {\"gridcolor\": \"white\", \"linecolor\": \"white\", \"ticks\": \"\"}, \"baxis\": {\"gridcolor\": \"white\", \"linecolor\": \"white\", \"ticks\": \"\"}, \"bgcolor\": \"#E5ECF6\", \"caxis\": {\"gridcolor\": \"white\", \"linecolor\": \"white\", \"ticks\": \"\"}}, \"title\": {\"x\": 0.05}, \"xaxis\": {\"automargin\": true, \"gridcolor\": \"white\", \"linecolor\": \"white\", \"ticks\": \"\", \"zerolinecolor\": \"white\", \"zerolinewidth\": 2}, \"yaxis\": {\"automargin\": true, \"gridcolor\": \"white\", \"linecolor\": \"white\", \"ticks\": \"\", \"zerolinecolor\": \"white\", \"zerolinewidth\": 2}}}},\n",
       "                        {\"responsive\": true}\n",
       "                    ).then(function(){\n",
       "                            \n",
       "var gd = document.getElementById('8720cec7-9049-43b3-b0fb-f8e02e79f6f4');\n",
       "var x = new MutationObserver(function (mutations, observer) {{\n",
       "        var display = window.getComputedStyle(gd).display;\n",
       "        if (!display || display === 'none') {{\n",
       "            console.log([gd, 'removed!']);\n",
       "            Plotly.purge(gd);\n",
       "            observer.disconnect();\n",
       "        }}\n",
       "}});\n",
       "\n",
       "// Listen for the removal of the full notebook cells\n",
       "var notebookContainer = gd.closest('#notebook-container');\n",
       "if (notebookContainer) {{\n",
       "    x.observe(notebookContainer, {childList: true});\n",
       "}}\n",
       "\n",
       "// Listen for the clearing of the current output cell\n",
       "var outputEl = gd.closest('.output');\n",
       "if (outputEl) {{\n",
       "    x.observe(outputEl, {childList: true});\n",
       "}}\n",
       "\n",
       "                        })\n",
       "                };\n",
       "                });\n",
       "            </script>\n",
       "        </div>"
      ]
     },
     "metadata": {},
     "output_type": "display_data"
    }
   ],
   "source": [
    "fig = go.Figure(data=[\n",
    "    go.Bar(name='2000_pop', x=ny_join['City_Name'], y=ny_join['Total_Population_2000']),\n",
    "    go.Bar(name='2010_pop', x=ny_join['City_Name'], y=ny_join['Total_Population_2010']),\n",
    "    go.Bar(name='2012_pop', x=ny_join['City_Name'], y=ny_join['Total_Population_2012']),\n",
    "    go.Bar(name='2013_pop', x=ny_join['City_Name'], y=ny_join['Total_Population_2013']),\n",
    "    go.Bar(name='2014_pop', x=ny_join['City_Name'], y=ny_join['Total_Population_2014']),\n",
    "    go.Bar(name='2015_pop', x=ny_join['City_Name'], y=ny_join['Total_Population_2015']),\n",
    "    go.Bar(name='2016_pop', x=ny_join['City_Name'], y=ny_join['Total_Population_2016']),\n",
    "    go.Bar(name='2017_pop', x=ny_join['City_Name'], y=ny_join['Total_Population_2017']),\n",
    "    go.Bar(name='2000_housing', x=ny_join['City_Name'], y=ny_join['Total_Housing_2000']),\n",
    "    go.Bar(name='2010_housing', x=ny_join['City_Name'], y=ny_join['Total_Housing_2010']),\n",
    "    go.Bar(name='2012_housing', x=ny_join['City_Name'], y=ny_join['Total_Housing_2012']),\n",
    "    go.Bar(name='2013_housing', x=ny_join['City_Name'], y=ny_join['Total_Housing_2013']),\n",
    "    go.Bar(name='2014_housing', x=ny_join['City_Name'], y=ny_join['Total_Housing_2014']),\n",
    "    go.Bar(name='2015_housing', x=ny_join['City_Name'], y=ny_join['Total_Housing_2015']),\n",
    "    go.Bar(name='2016_housing', x=ny_join['City_Name'], y=ny_join['Total_Housing_2016']),\n",
    "    go.Bar(name='2017_housing', x=ny_join['City_Name'], y=ny_join['Total_Housing_2017']),\n",
    "    go.Bar(name='2000_non-relatives', x=ny_join['City_Name'], y=ny_join['Presence_of_Non-Relatives_2000']),\n",
    "    go.Bar(name='2010_non-relatives', x=ny_join['City_Name'], y=ny_join['Presence_of_Non-Relatives_2010']),\n",
    "    go.Bar(name='2012_non-relatives', x=ny_join['City_Name'], y=ny_join['Presence_of_Non-Relatives_2012']),\n",
    "    go.Bar(name='2013_non-relatives', x=ny_join['City_Name'], y=ny_join['Presence_of_Non-Relatives_2013']),\n",
    "    go.Bar(name='2014_non-relatives', x=ny_join['City_Name'], y=ny_join['Presence_of_Non-Relatives_2014']),\n",
    "    go.Bar(name='2015_non-relatives', x=ny_join['City_Name'], y=ny_join['Presence_of_Non-Relatives_2015']),\n",
    "    go.Bar(name='2016_non-relatives', x=ny_join['City_Name'], y=ny_join['Presence_of_Non-Relatives_2016']),\n",
    "    go.Bar(name='2017_non-relatives', x=ny_join['City_Name'], y=ny_join['Presence_of_Non-Relatives_2017']),\n",
    "    go.Bar(name='2010_direct_emissions', x=ny_join['City_Name'], y=ny_join['2010']),\n",
    "    go.Bar(name='2011_direct_emissions', x=ny_join['City_Name'], y=ny_join['2011']),\n",
    "    go.Bar(name='2012_direct_emissions', x=ny_join['City_Name'], y=ny_join['2012']),\n",
    "    go.Bar(name='2013_direct_emissions', x=ny_join['City_Name'], y=ny_join['2013']),\n",
    "    go.Bar(name='2014_direct_emissions', x=ny_join['City_Name'], y=ny_join['2014']),\n",
    "    go.Bar(name='2015_direct_emissions', x=ny_join['City_Name'], y=ny_join['2015']),\n",
    "    go.Bar(name='2016_direct_emissions', x=ny_join['City_Name'], y=ny_join['2016']),\n",
    "    go.Bar(name='2017_direct_emissions', x=ny_join['City_Name'], y=ny_join['2017']),\n",
    "    go.Bar(name='2018_direct_emissions', x=ny_join['City_Name'], y=ny_join['2018'])\n",
    "])\n",
    "fig.update_layout(barmode='group')\n",
    "fig.show()"
   ]
  }
 ],
 "metadata": {
  "kernelspec": {
   "display_name": "Python 3",
   "language": "python",
   "name": "python3"
  },
  "language_info": {
   "codemirror_mode": {
    "name": "ipython",
    "version": 3
   },
   "file_extension": ".py",
   "mimetype": "text/x-python",
   "name": "python",
   "nbconvert_exporter": "python",
   "pygments_lexer": "ipython3",
   "version": "3.7.3"
  }
 },
 "nbformat": 4,
 "nbformat_minor": 2
}
