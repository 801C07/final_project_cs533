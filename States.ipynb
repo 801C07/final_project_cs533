{
 "cells": [
  {
   "cell_type": "markdown",
   "metadata": {},
   "source": [
    "# Final Project - Idaho Policy Institute 5\n",
    "## Ryan Pacheco, Ashley Gilbert, Ben Whitehead\n",
    "\n",
    "Our goal is to identify characteristics which make a city sustainable, then classify cities based on whether they are growing sustainably or not. We will be looking at the cities in Idaho, California, and New York (state) with a population over 50,000.\n",
    "\n",
    "## Initial Setup\n",
    "We will start bby loading all of our data sources:\n",
    "- US Census Data\n",
    "- American Community Survey Data\n",
    "- Greenhouse Gas Data (procured by the EPA)"
   ]
  },
  {
   "cell_type": "code",
   "execution_count": 1,
   "metadata": {},
   "outputs": [
    {
     "name": "stdout",
     "output_type": "stream",
     "text": [
      "Requirement already satisfied: census in /usr/local/lib/python3.7/site-packages (0.8.13)\n",
      "Requirement already satisfied: us in /usr/local/lib/python3.7/site-packages (1.0.0)\n",
      "Requirement already satisfied: requests>=1.1.0 in /usr/local/lib/python3.7/site-packages (from census) (2.20.1)\n",
      "Requirement already satisfied: future in /usr/local/lib/python3.7/site-packages (from census) (0.17.1)\n",
      "Requirement already satisfied: jellyfish==0.5.6 in /usr/local/lib/python3.7/site-packages (from us) (0.5.6)\n",
      "Requirement already satisfied: chardet<3.1.0,>=3.0.2 in /usr/local/lib/python3.7/site-packages (from requests>=1.1.0->census) (3.0.4)\n",
      "Requirement already satisfied: urllib3<1.25,>=1.21.1 in /Users/bdw/Library/Python/3.7/lib/python/site-packages (from requests>=1.1.0->census) (1.24.1)\n",
      "Requirement already satisfied: idna<2.8,>=2.5 in /usr/local/lib/python3.7/site-packages (from requests>=1.1.0->census) (2.7)\n",
      "Requirement already satisfied: certifi>=2017.4.17 in /usr/local/lib/python3.7/site-packages (from requests>=1.1.0->census) (2019.3.9)\n",
      "Note: you may need to restart the kernel to use updated packages.\n"
     ]
    }
   ],
   "source": [
    "%pip install census us"
   ]
  },
  {
   "cell_type": "code",
   "execution_count": 2,
   "metadata": {},
   "outputs": [],
   "source": [
    "import pandas as pd\n",
    "import seaborn as sns\n",
    "import matplotlib as plt\n",
    "import os\n",
    "\n",
    "from census import Census\n",
    "from us import states\n",
    "\n",
    "import plotly.graph_objects as go"
   ]
  },
  {
   "cell_type": "code",
   "execution_count": 3,
   "metadata": {},
   "outputs": [
    {
     "data": {
      "text/plain": [
       "'https://www2.census.gov/geo/tiger/TIGER2010/COUNTY/2010/tl_2010_16_county10.zip'"
      ]
     },
     "execution_count": 3,
     "metadata": {},
     "output_type": "execute_result"
    }
   ],
   "source": [
    "states.ID.shapefile_urls('county')"
   ]
  },
  {
   "cell_type": "code",
   "execution_count": 4,
   "metadata": {},
   "outputs": [
    {
     "name": "stdout",
     "output_type": "stream",
     "text": [
      "2012\n",
      "2013\n",
      "2014\n",
      "2015\n",
      "2016\n",
      "2017\n",
      "2012\n",
      "2013\n",
      "2014\n",
      "2015\n",
      "2016\n",
      "2017\n",
      "2012\n",
      "2013\n",
      "2014\n",
      "2015\n",
      "2016\n",
      "2017\n"
     ]
    },
    {
     "name": "stderr",
     "output_type": "stream",
     "text": [
      "/usr/local/lib/python3.7/site-packages/ipykernel_launcher.py:85: FutureWarning:\n",
      "\n",
      "Sorting because non-concatenation axis is not aligned. A future version\n",
      "of pandas will change to not sort by default.\n",
      "\n",
      "To accept the future behavior, pass 'sort=False'.\n",
      "\n",
      "To retain the current behavior and silence the warning, pass 'sort=True'.\n",
      "\n",
      "\n"
     ]
    }
   ],
   "source": [
    "#load census data using API key\n",
    "c = Census('fb97753783c42ae57fe1a640e38fe04e921e5d1a')\n",
    "\n",
    "#American Community Survey Data for California\n",
    "i = 0\n",
    "acs_years_ca = []\n",
    "for x in range(2012, 2018):\n",
    "    acs_test = c.acs5.state_place(('NAME',\n",
    "                                   'B01003_001E',\n",
    "                                   'B00002_001E',\n",
    "                                   'B09018_007E',\n",
    "                                   'B01002_001E'), states.CA.fips, '*', year=x)\n",
    "    acs_years_ca.append(pd.DataFrame.from_records(acs_test))\n",
    "    print(x)\n",
    "    acs_years_ca[i] = acs_years_ca[i].rename(columns={\n",
    "        'NAME' : 'City_Name',\n",
    "        'place': 'FIPS',\n",
    "        'B01003_001E': 'Total_Population_{}'.format(x),\n",
    "        'B00002_001E': 'Total_Housing_{}'.format(x),\n",
    "        'B09018_007E': 'Presence_of_Non-Relatives_{}'.format(x),\n",
    "        'B01002_001E': 'Median_Age_{}'.format(x),\n",
    "    })\n",
    "    acs_years_ca[i].set_index('FIPS', inplace=True)\n",
    "    acs_years_ca[i].drop(columns=['City_Name', 'state'], inplace=True)\n",
    "    acs_years_ca[i] = acs_years_ca[i].nlargest(5, 'Total_Population_{}'.format(x))\n",
    "    i = i + 1\n",
    "\n",
    "\n",
    "#American Community Survey Data for New York\n",
    "i = 0\n",
    "acs_years_ny = []\n",
    "for x in range(2012, 2018):\n",
    "    acs_test = c.acs5.state_place(('NAME',\n",
    "                                   'B01003_001E',\n",
    "                                   'B00002_001E',\n",
    "                                   'B09018_007E',\n",
    "                                   'B01002_001E'), states.NY.fips, '*', year=x)\n",
    "    acs_years_ny.append(pd.DataFrame.from_records(acs_test))\n",
    "    print(x)\n",
    "    acs_years_ny[i] = acs_years_ny[i].rename(columns={\n",
    "        'NAME' : 'City_Name',\n",
    "        'place': 'FIPS',\n",
    "        'B01003_001E': 'Total_Population_{}'.format(x),\n",
    "        'B00002_001E': 'Total_Housing_{}'.format(x),\n",
    "        'B09018_007E': 'Presence_of_Non-Relatives_{}'.format(x),\n",
    "        'B01002_001E': 'Median_Age_{}'.format(x),\n",
    "    })\n",
    "    acs_years_ny[i].set_index('FIPS', inplace=True)\n",
    "    acs_years_ny[i].drop(columns=['City_Name', 'state'], inplace=True)\n",
    "    acs_years_ny[i] = acs_years_ny[i].nlargest(5, 'Total_Population_{}'.format(x))\n",
    "    i = i + 1\n",
    "\n",
    "\n",
    "#American Community Survey Data for Idaho\n",
    "i = 0\n",
    "acs_years_id = []\n",
    "for x in range(2012, 2018):\n",
    "    acs_test = c.acs5.state_place(('NAME',\n",
    "                                   'B01003_001E',\n",
    "                                   'B00002_001E',\n",
    "                                   'B09018_007E',\n",
    "                                   'B01002_001E'), states.ID.fips, '*', year=x)\n",
    "    acs_years_id.append(pd.DataFrame.from_records(acs_test))\n",
    "    print(x)\n",
    "    acs_years_id[i] = acs_years_id[i].rename(columns={\n",
    "        'NAME' : 'City_Name',\n",
    "        'place': 'FIPS',\n",
    "        'B01003_001E': 'Total_Population_{}'.format(x),\n",
    "        'B00002_001E': 'Total_Housing_{}'.format(x),\n",
    "        'B09018_007E': 'Presence_of_Non-Relatives_{}'.format(x),\n",
    "        'B01002_001E': 'Median_Age_{}'.format(x),\n",
    "    })\n",
    "    acs_years_id[i].set_index('FIPS', inplace=True)\n",
    "    acs_years_id[i].drop(columns=['City_Name', 'state'], inplace=True)\n",
    "    acs_years_id[i] = acs_years_id[i].nlargest(5, 'Total_Population_{}'.format(x))\n",
    "    i = i + 1\n",
    "\n",
    "\n",
    "#Greenhouse Gas Data\n",
    "ghg = pd.DataFrame()\n",
    "\n",
    "for f in os.listdir('data/2018_data_summary_spreadsheets'):\n",
    "    temp = pd.read_excel('data/2018_data_summary_spreadsheets/'+f, sheet_name=0)\n",
    "    temp['Year'] = f.split('.')[0].split('_')[2]    \n",
    "    ghg = pd.concat([temp, ghg])\n",
    "    \n",
    "fips_map = pd.read_excel('data/fips-codes.xls', sheet_name=0)\n",
    "\n",
    "fips_map = fips_map[fips_map['Entity Description'] == 'city']\n",
    "\n",
    "def str_func(x):\n",
    "    return str(x).zfill(5)\n",
    "\n",
    "fips_map['FIPS Entity Code'] = fips_map['FIPS Entity Code'].apply(str_func)\n",
    "fips_map['City'] = fips_map['GU Name']\n",
    "fips_map['State'] = fips_map['State Abbreviation']\n",
    "\n",
    "ghg_mapped = pd.merge(ghg, fips_map, on=['State', 'City'])"
   ]
  },
  {
   "cell_type": "markdown",
   "metadata": {},
   "source": [
    "Now that all of our data is loaded, we will work on putting it all together for analysis"
   ]
  },
  {
   "cell_type": "code",
   "execution_count": 5,
   "metadata": {},
   "outputs": [],
   "source": [
    "#common variables used for working with the census data.\n",
    "keys = ['NAME' ,'P002001','P002002','P002005','H001001','P013001','H003001','P027001','H005001','H005002','H005003','H005004','H005005','H005006','H005007']\n",
    "\n",
    "renames_2000 = {\n",
    "        'NAME' : 'City_Name',\n",
    "        'place': 'FIPS',\n",
    "        'P002001': 'Total_Population_2000',\n",
    "        'P002002':'Total_Urban_Population_2000',\n",
    "        'P002005':'Total_Rural_Population_2000',\n",
    "        'H001001': 'Total_Housing_2000',\n",
    "        'P013001': 'Median_Age_2000',\n",
    "        'H003001': 'Occupancy_Status_For_Housing_Units_2000',\n",
    "        'P027001': 'Presence_of_Non-Relatives_2000',\n",
    "        'H005001': 'Vacancy_Status_2000',\n",
    "        'H005002': 'For_Rent_2000',\n",
    "        'H005003': 'Rented_Not_Occupied_2000',\n",
    "        'H005004': 'For_Sale_Only_2000',\n",
    "        'H005005': 'Sold_Not_Occupied_2000',\n",
    "        'H005006': 'For_Seasonal_Recreational_Or_Occasional_Use_2000',\n",
    "        'H005007': 'For_Migrant_Workers_2000'\n",
    "}\n",
    "\n",
    "renames_2010 = {\n",
    "        'NAME' : 'City_Name',\n",
    "        'place': 'FIPS',\n",
    "        'P002001': 'Total_Population_2010',\n",
    "        'P002002':'Total_Urban_Population_2010',\n",
    "        'P002005':'Total_Rural_Population_2010',\n",
    "        'H001001': 'Total_Housing_2010',\n",
    "        'P013001': 'Median_Age_2010',\n",
    "        'H003001': 'Occupancy_Status_For_Housing_Units_2010',\n",
    "        'P027001': 'Presence_of_Non-Relatives_2010',\n",
    "        'H005001': 'Vacancy_Status_2010',\n",
    "        'H005002': 'For_Rent_2010',\n",
    "        'H005003': 'Rented_Not_Occupied_2010',\n",
    "        'H005004': 'For_Sale_Only_2010',\n",
    "        'H005005': 'Sold_Not_Occupied_2010',\n",
    "        'H005006': 'For_Seasonal_Recreational_Or_Occasional_Use_2010',\n",
    "        'H005007': 'For_Migrant_Workers_2010'}\n"
   ]
  },
  {
   "cell_type": "markdown",
   "metadata": {},
   "source": [
    "## Merge data and start analysis"
   ]
  },
  {
   "cell_type": "markdown",
   "metadata": {},
   "source": [
    "### California"
   ]
  },
  {
   "cell_type": "code",
   "execution_count": 6,
   "metadata": {},
   "outputs": [],
   "source": [
    "city_2010 = c.sf1.state_place(keys, \n",
    "                              states.CA.fips, '*', year=2010)\n",
    "c_pop_2010 = pd.DataFrame.from_records(city_2010)\n",
    "c_pop_2010_50000 = c_pop_2010.rename(columns=renames_2010)"
   ]
  },
  {
   "cell_type": "code",
   "execution_count": 7,
   "metadata": {},
   "outputs": [
    {
     "data": {
      "text/html": [
       "<div>\n",
       "<style scoped>\n",
       "    .dataframe tbody tr th:only-of-type {\n",
       "        vertical-align: middle;\n",
       "    }\n",
       "\n",
       "    .dataframe tbody tr th {\n",
       "        vertical-align: top;\n",
       "    }\n",
       "\n",
       "    .dataframe thead th {\n",
       "        text-align: right;\n",
       "    }\n",
       "</style>\n",
       "<table border=\"1\" class=\"dataframe\">\n",
       "  <thead>\n",
       "    <tr style=\"text-align: right;\">\n",
       "      <th></th>\n",
       "      <th>Total_Housing_2010</th>\n",
       "      <th>Occupancy_Status_For_Housing_Units_2010</th>\n",
       "      <th>Vacancy_Status_2010</th>\n",
       "      <th>For_Rent_2010</th>\n",
       "      <th>Rented_Not_Occupied_2010</th>\n",
       "      <th>For_Sale_Only_2010</th>\n",
       "      <th>Sold_Not_Occupied_2010</th>\n",
       "      <th>For_Seasonal_Recreational_Or_Occasional_Use_2010</th>\n",
       "      <th>For_Migrant_Workers_2010</th>\n",
       "      <th>City_Name</th>\n",
       "      <th>Total_Population_2010</th>\n",
       "      <th>Total_Urban_Population_2010</th>\n",
       "      <th>Total_Rural_Population_2010</th>\n",
       "      <th>Median_Age_2010</th>\n",
       "      <th>Presence_of_Non-Relatives_2010</th>\n",
       "      <th>FIPS</th>\n",
       "      <th>state</th>\n",
       "    </tr>\n",
       "  </thead>\n",
       "  <tbody>\n",
       "    <tr>\n",
       "      <th>0</th>\n",
       "      <td>457.0</td>\n",
       "      <td>457.0</td>\n",
       "      <td>16.0</td>\n",
       "      <td>4.0</td>\n",
       "      <td>1.0</td>\n",
       "      <td>1.0</td>\n",
       "      <td>2.0</td>\n",
       "      <td>2.0</td>\n",
       "      <td>0.0</td>\n",
       "      <td>Acalanes Ridge CDP, California</td>\n",
       "      <td>1137.0</td>\n",
       "      <td>1137.0</td>\n",
       "      <td>0.0</td>\n",
       "      <td>46.3</td>\n",
       "      <td>441.0</td>\n",
       "      <td>00135</td>\n",
       "      <td>06</td>\n",
       "    </tr>\n",
       "    <tr>\n",
       "      <th>1</th>\n",
       "      <td>99.0</td>\n",
       "      <td>99.0</td>\n",
       "      <td>5.0</td>\n",
       "      <td>1.0</td>\n",
       "      <td>0.0</td>\n",
       "      <td>0.0</td>\n",
       "      <td>0.0</td>\n",
       "      <td>1.0</td>\n",
       "      <td>0.0</td>\n",
       "      <td>Acampo CDP, California</td>\n",
       "      <td>341.0</td>\n",
       "      <td>0.0</td>\n",
       "      <td>341.0</td>\n",
       "      <td>30.6</td>\n",
       "      <td>94.0</td>\n",
       "      <td>00156</td>\n",
       "      <td>06</td>\n",
       "    </tr>\n",
       "    <tr>\n",
       "      <th>2</th>\n",
       "      <td>2814.0</td>\n",
       "      <td>2814.0</td>\n",
       "      <td>154.0</td>\n",
       "      <td>22.0</td>\n",
       "      <td>1.0</td>\n",
       "      <td>42.0</td>\n",
       "      <td>9.0</td>\n",
       "      <td>34.0</td>\n",
       "      <td>0.0</td>\n",
       "      <td>Acton CDP, California</td>\n",
       "      <td>7596.0</td>\n",
       "      <td>0.0</td>\n",
       "      <td>7596.0</td>\n",
       "      <td>45.5</td>\n",
       "      <td>2660.0</td>\n",
       "      <td>00212</td>\n",
       "      <td>06</td>\n",
       "    </tr>\n",
       "    <tr>\n",
       "      <th>3</th>\n",
       "      <td>9086.0</td>\n",
       "      <td>9086.0</td>\n",
       "      <td>1277.0</td>\n",
       "      <td>462.0</td>\n",
       "      <td>11.0</td>\n",
       "      <td>323.0</td>\n",
       "      <td>56.0</td>\n",
       "      <td>32.0</td>\n",
       "      <td>0.0</td>\n",
       "      <td>Adelanto city, California</td>\n",
       "      <td>31765.0</td>\n",
       "      <td>31381.0</td>\n",
       "      <td>384.0</td>\n",
       "      <td>25.3</td>\n",
       "      <td>7809.0</td>\n",
       "      <td>00296</td>\n",
       "      <td>06</td>\n",
       "    </tr>\n",
       "    <tr>\n",
       "      <th>4</th>\n",
       "      <td>144.0</td>\n",
       "      <td>144.0</td>\n",
       "      <td>20.0</td>\n",
       "      <td>1.0</td>\n",
       "      <td>0.0</td>\n",
       "      <td>1.0</td>\n",
       "      <td>0.0</td>\n",
       "      <td>9.0</td>\n",
       "      <td>0.0</td>\n",
       "      <td>Adin CDP, California</td>\n",
       "      <td>272.0</td>\n",
       "      <td>0.0</td>\n",
       "      <td>272.0</td>\n",
       "      <td>47.3</td>\n",
       "      <td>124.0</td>\n",
       "      <td>00310</td>\n",
       "      <td>06</td>\n",
       "    </tr>\n",
       "  </tbody>\n",
       "</table>\n",
       "</div>"
      ],
      "text/plain": [
       "   Total_Housing_2010  Occupancy_Status_For_Housing_Units_2010  \\\n",
       "0               457.0                                    457.0   \n",
       "1                99.0                                     99.0   \n",
       "2              2814.0                                   2814.0   \n",
       "3              9086.0                                   9086.0   \n",
       "4               144.0                                    144.0   \n",
       "\n",
       "   Vacancy_Status_2010  For_Rent_2010  Rented_Not_Occupied_2010  \\\n",
       "0                 16.0            4.0                       1.0   \n",
       "1                  5.0            1.0                       0.0   \n",
       "2                154.0           22.0                       1.0   \n",
       "3               1277.0          462.0                      11.0   \n",
       "4                 20.0            1.0                       0.0   \n",
       "\n",
       "   For_Sale_Only_2010  Sold_Not_Occupied_2010  \\\n",
       "0                 1.0                     2.0   \n",
       "1                 0.0                     0.0   \n",
       "2                42.0                     9.0   \n",
       "3               323.0                    56.0   \n",
       "4                 1.0                     0.0   \n",
       "\n",
       "   For_Seasonal_Recreational_Or_Occasional_Use_2010  For_Migrant_Workers_2010  \\\n",
       "0                                               2.0                       0.0   \n",
       "1                                               1.0                       0.0   \n",
       "2                                              34.0                       0.0   \n",
       "3                                              32.0                       0.0   \n",
       "4                                               9.0                       0.0   \n",
       "\n",
       "                        City_Name  Total_Population_2010  \\\n",
       "0  Acalanes Ridge CDP, California                 1137.0   \n",
       "1          Acampo CDP, California                  341.0   \n",
       "2           Acton CDP, California                 7596.0   \n",
       "3       Adelanto city, California                31765.0   \n",
       "4            Adin CDP, California                  272.0   \n",
       "\n",
       "   Total_Urban_Population_2010  Total_Rural_Population_2010  Median_Age_2010  \\\n",
       "0                       1137.0                          0.0             46.3   \n",
       "1                          0.0                        341.0             30.6   \n",
       "2                          0.0                       7596.0             45.5   \n",
       "3                      31381.0                        384.0             25.3   \n",
       "4                          0.0                        272.0             47.3   \n",
       "\n",
       "   Presence_of_Non-Relatives_2010   FIPS state  \n",
       "0                           441.0  00135    06  \n",
       "1                            94.0  00156    06  \n",
       "2                          2660.0  00212    06  \n",
       "3                          7809.0  00296    06  \n",
       "4                           124.0  00310    06  "
      ]
     },
     "execution_count": 7,
     "metadata": {},
     "output_type": "execute_result"
    }
   ],
   "source": [
    "c_pop_2010_50000.head()"
   ]
  },
  {
   "cell_type": "code",
   "execution_count": 8,
   "metadata": {},
   "outputs": [
    {
     "ename": "NameError",
     "evalue": "name 'ghg_data' is not defined",
     "output_type": "error",
     "traceback": [
      "\u001b[0;31m---------------------------------------------------------------------------\u001b[0m",
      "\u001b[0;31mNameError\u001b[0m                                 Traceback (most recent call last)",
      "\u001b[0;32m<ipython-input-8-481e4dc1c0c1>\u001b[0m in \u001b[0;36m<module>\u001b[0;34m\u001b[0m\n\u001b[0;32m----> 1\u001b[0;31m \u001b[0mghg_data\u001b[0m\u001b[0;34m[\u001b[0m\u001b[0;34m'City_Name'\u001b[0m\u001b[0;34m]\u001b[0m \u001b[0;34m=\u001b[0m \u001b[0mghg_data\u001b[0m\u001b[0;34m[\u001b[0m\u001b[0;34m'City'\u001b[0m\u001b[0;34m]\u001b[0m \u001b[0;34m+\u001b[0m \u001b[0;34m','\u001b[0m \u001b[0;34m+\u001b[0m \u001b[0mghg_data\u001b[0m\u001b[0;34m[\u001b[0m\u001b[0;34m'State'\u001b[0m\u001b[0;34m]\u001b[0m\u001b[0;34m\u001b[0m\u001b[0;34m\u001b[0m\u001b[0m\n\u001b[0m\u001b[1;32m      2\u001b[0m \u001b[0mghg_data\u001b[0m\u001b[0;34m.\u001b[0m\u001b[0mhead\u001b[0m\u001b[0;34m(\u001b[0m\u001b[0;34m)\u001b[0m\u001b[0;34m\u001b[0m\u001b[0;34m\u001b[0m\u001b[0m\n",
      "\u001b[0;31mNameError\u001b[0m: name 'ghg_data' is not defined"
     ]
    }
   ],
   "source": [
    "ghg_data['City_Name'] = ghg_data['City'] + ',' + ghg_data['State']\n",
    "ghg_data.head()"
   ]
  },
  {
   "cell_type": "code",
   "execution_count": null,
   "metadata": {},
   "outputs": [],
   "source": [
    "city_2000 = c.sf1.state_place(keys, states.CA.fips, '*', year=2000)\n",
    "c_pop_2000 = pd.DataFrame.from_records(city_2000)\n",
    "c_pop_2000_50000 = c_pop_2000.rename(columns=renames_2000)"
   ]
  },
  {
   "cell_type": "code",
   "execution_count": null,
   "metadata": {},
   "outputs": [],
   "source": [
    "c_pop_2000_50000.drop(columns=['City_Name', 'state'], inplace=True)"
   ]
  },
  {
   "cell_type": "code",
   "execution_count": null,
   "metadata": {},
   "outputs": [],
   "source": [
    "c_pop_2000_50000.head()"
   ]
  },
  {
   "cell_type": "code",
   "execution_count": null,
   "metadata": {},
   "outputs": [],
   "source": [
    "c_pop_2000_50000.set_index('FIPS', inplace=True)\n",
    "c_pop_2010_50000.set_index('FIPS', inplace=True)"
   ]
  },
  {
   "cell_type": "code",
   "execution_count": null,
   "metadata": {},
   "outputs": [],
   "source": [
    "ca_join = c_pop_2000_50000.join(c_pop_2010_50000, on='FIPS')"
   ]
  },
  {
   "cell_type": "code",
   "execution_count": null,
   "metadata": {},
   "outputs": [],
   "source": [
    "ca_join.head()"
   ]
  },
  {
   "cell_type": "code",
   "execution_count": null,
   "metadata": {},
   "outputs": [],
   "source": [
    "ca_join['Total_Population_2000'] = ca_join['Total_Population_2000'].astype('i8')"
   ]
  },
  {
   "cell_type": "code",
   "execution_count": null,
   "metadata": {},
   "outputs": [],
   "source": [
    "ca_join = ca_join.nlargest(5, 'Total_Population_2000')"
   ]
  },
  {
   "cell_type": "code",
   "execution_count": null,
   "metadata": {},
   "outputs": [],
   "source": [
    "fig = go.Figure(data=[\n",
    "    go.Bar(name='2000_pop', x=ca_join['City_Name'], y=ca_join['Total_Population_2000']),\n",
    "    go.Bar(name='2010_pop', x=ca_join['City_Name'], y=ca_join['Total_Population_2010']),\n",
    "    go.Bar(name='2000_housing', x=ca_join['City_Name'], y=ca_join['Total_Housing_2000']),\n",
    "    go.Bar(name='2010_housing', x=ca_join['City_Name'], y=ca_join['Total_Housing_2010']),\n",
    "    go.Bar(name='2000_non-relatives', x=ca_join['City_Name'], y=ca_join['Presence_of_Non-Relatives_2000']),\n",
    "    go.Bar(name='2010_non-relatives', x=ca_join['City_Name'], y=ca_join['Presence_of_Non-Relatives_2010']),\n",
    "])\n",
    "fig.update_layout(barmode='group')\n",
    "fig.show()"
   ]
  },
  {
   "cell_type": "markdown",
   "metadata": {},
   "source": [
    "## Get's the 5 largest cities in New York"
   ]
  },
  {
   "cell_type": "code",
   "execution_count": null,
   "metadata": {},
   "outputs": [],
   "source": [
    "city_2010 = c.sf1.state_place(keys, states.NY.fips, '*', year=2010)\n",
    "c_pop_2010 = pd.DataFrame.from_records(city_2010)\n",
    "c_pop_2010_50000 = c_pop_2010.rename(columns=renames_2010)"
   ]
  },
  {
   "cell_type": "code",
   "execution_count": null,
   "metadata": {},
   "outputs": [],
   "source": [
    "c_pop_2010_50000.head()"
   ]
  },
  {
   "cell_type": "code",
   "execution_count": null,
   "metadata": {},
   "outputs": [],
   "source": [
    "city_2000 = c.sf1.state_place(keys, states.NY.fips, '*', year=2000)\n",
    "c_pop_2000 = pd.DataFrame.from_records(city_2000)\n",
    "c_pop_2000_50000 = c_pop_2000.rename(columns=renames_2000)"
   ]
  },
  {
   "cell_type": "code",
   "execution_count": null,
   "metadata": {},
   "outputs": [],
   "source": [
    "c_pop_2000_50000.drop(columns=['City_Name', 'state'], inplace=True)"
   ]
  },
  {
   "cell_type": "code",
   "execution_count": null,
   "metadata": {},
   "outputs": [],
   "source": [
    "c_pop_2000_50000.head()"
   ]
  },
  {
   "cell_type": "code",
   "execution_count": null,
   "metadata": {},
   "outputs": [],
   "source": [
    "c_pop_2000_50000.set_index('FIPS', inplace=True)\n",
    "c_pop_2010_50000.set_index('FIPS', inplace=True)"
   ]
  },
  {
   "cell_type": "code",
   "execution_count": null,
   "metadata": {},
   "outputs": [],
   "source": [
    "ny_join = c_pop_2000_50000.join(c_pop_2010_50000, on='FIPS')"
   ]
  },
  {
   "cell_type": "code",
   "execution_count": null,
   "metadata": {},
   "outputs": [],
   "source": [
    "ny_join.head()"
   ]
  },
  {
   "cell_type": "code",
   "execution_count": null,
   "metadata": {},
   "outputs": [],
   "source": [
    "ny_join['Total_Population_2000'] = ny_join['Total_Population_2000'].astype('i8')"
   ]
  },
  {
   "cell_type": "code",
   "execution_count": null,
   "metadata": {},
   "outputs": [],
   "source": [
    "ny_join = ny_join.nlargest(5, 'Total_Population_2000')"
   ]
  },
  {
   "cell_type": "code",
   "execution_count": null,
   "metadata": {},
   "outputs": [],
   "source": [
    "fig = go.Figure(data=[\n",
    "    go.Bar(name='2000_pop', x=ny_join['City_Name'], y=ny_join['Total_Population_2000']),\n",
    "    go.Bar(name='2010_pop', x=ny_join['City_Name'], y=ny_join['Total_Population_2010']),\n",
    "    go.Bar(name='2000_housing', x=ny_join['City_Name'], y=ny_join['Total_Housing_2000']),\n",
    "    go.Bar(name='2010_housing', x=ny_join['City_Name'], y=ny_join['Total_Housing_2010']),\n",
    "    go.Bar(name='2000_non-relatives', x=ny_join['City_Name'], y=ny_join['Presence_of_Non-Relatives_2000']),\n",
    "    go.Bar(name='2010_non-relatives', x=ny_join['City_Name'], y=ny_join['Presence_of_Non-Relatives_2010']),\n",
    "])\n",
    "fig.update_layout(barmode='group')\n",
    "fig.show()"
   ]
  },
  {
   "cell_type": "markdown",
   "metadata": {},
   "source": [
    "## Get's the 5 largest cities in Idaho"
   ]
  },
  {
   "cell_type": "code",
   "execution_count": null,
   "metadata": {},
   "outputs": [],
   "source": [
    "city_2010 = c.sf1.state_place(keys, states.ID.fips, '*', year=2010)\n",
    "c_pop_2010 = pd.DataFrame.from_records(city_2010)\n",
    "c_pop_2010_50000 = c_pop_2010.rename(columns=renames_2010)"
   ]
  },
  {
   "cell_type": "code",
   "execution_count": null,
   "metadata": {},
   "outputs": [],
   "source": [
    "c_pop_2010_50000.head()"
   ]
  },
  {
   "cell_type": "code",
   "execution_count": null,
   "metadata": {},
   "outputs": [],
   "source": [
    "city_2000 = c.sf1.state_place(keys, states.ID.fips, '*', year=2000)\n",
    "c_pop_2000 = pd.DataFrame.from_records(city_2000)\n",
    "c_pop_2000_50000 = c_pop_2000.rename(columns=renames_2000)"
   ]
  },
  {
   "cell_type": "code",
   "execution_count": null,
   "metadata": {},
   "outputs": [],
   "source": [
    "c_pop_2000_50000.drop(columns=['City_Name', 'state'], inplace=True)"
   ]
  },
  {
   "cell_type": "code",
   "execution_count": null,
   "metadata": {},
   "outputs": [],
   "source": [
    "c_pop_2000_50000.head()"
   ]
  },
  {
   "cell_type": "code",
   "execution_count": null,
   "metadata": {},
   "outputs": [],
   "source": [
    "c_pop_2000_50000.set_index('FIPS', inplace=True)\n",
    "c_pop_2010_50000.set_index('FIPS', inplace=True)"
   ]
  },
  {
   "cell_type": "code",
   "execution_count": null,
   "metadata": {},
   "outputs": [],
   "source": [
    "id_join = c_pop_2000_50000.join(c_pop_2010_50000, on='FIPS')"
   ]
  },
  {
   "cell_type": "code",
   "execution_count": null,
   "metadata": {},
   "outputs": [],
   "source": [
    "id_join.head()"
   ]
  },
  {
   "cell_type": "code",
   "execution_count": null,
   "metadata": {},
   "outputs": [],
   "source": [
    "id_join['Total_Population_2000'] = id_join['Total_Population_2000'].astype('i8')"
   ]
  },
  {
   "cell_type": "code",
   "execution_count": null,
   "metadata": {},
   "outputs": [],
   "source": [
    "id_join =  id_join.nlargest(5, 'Total_Population_2000')"
   ]
  },
  {
   "cell_type": "code",
   "execution_count": null,
   "metadata": {
    "scrolled": true
   },
   "outputs": [],
   "source": [
    "id_join.head()"
   ]
  },
  {
   "cell_type": "code",
   "execution_count": null,
   "metadata": {},
   "outputs": [],
   "source": [
    "fig = go.Figure(data=[\n",
    "    go.Bar(name='2000_pop', x=id_join['City_Name'], y=id_join['Total_Population_2000']),\n",
    "    go.Bar(name='2010_pop', x=id_join['City_Name'], y=id_join['Total_Population_2010']),\n",
    "    go.Bar(name='2000_housing', x=id_join['City_Name'], y=id_join['Total_Housing_2000']),\n",
    "    go.Bar(name='2010_housing', x=id_join['City_Name'], y=id_join['Total_Housing_2010']),\n",
    "    go.Bar(name='2000_non-relatives', x=id_join['City_Name'], y=id_join['Presence_of_Non-Relatives_2000']),\n",
    "    go.Bar(name='2010_non-relatives', x=id_join['City_Name'], y=id_join['Presence_of_Non-Relatives_2010']),\n",
    "])\n",
    "fig.update_layout(barmode='group')\n",
    "fig.show()"
   ]
  },
  {
   "cell_type": "code",
   "execution_count": null,
   "metadata": {},
   "outputs": [],
   "source": [
    "three_state_df = pd.concat([id_join, ca_join, ny_join])"
   ]
  },
  {
   "cell_type": "code",
   "execution_count": null,
   "metadata": {},
   "outputs": [],
   "source": [
    "three_state_df.reset_index(inplace=True)"
   ]
  },
  {
   "cell_type": "code",
   "execution_count": null,
   "metadata": {},
   "outputs": [],
   "source": [
    "three_state_df.head()"
   ]
  },
  {
   "cell_type": "code",
   "execution_count": null,
   "metadata": {},
   "outputs": [],
   "source": [
    "fig = go.Figure(data=[\n",
    "    go.Bar(name='2000_pop', x=three_state_df['City_Name'], y=three_state_df['Total_Population_2000']),\n",
    "    go.Bar(name='2010_pop', x=three_state_df['City_Name'], y=three_state_df['Total_Population_2010']),\n",
    "    go.Bar(name='2000_housing', x=three_state_df['City_Name'], y=three_state_df['Total_Housing_2000']),\n",
    "    go.Bar(name='2010_housing', x=three_state_df['City_Name'], y=three_state_df['Total_Housing_2010']),\n",
    "    go.Bar(name='2000_non-relatives', x=three_state_df['City_Name'], y=three_state_df['Presence_of_Non-Relatives_2000']),\n",
    "    go.Bar(name='2010_non-relatives', x=three_state_df['City_Name'], y=three_state_df['Presence_of_Non-Relatives_2010']),\n",
    "])\n",
    "fig.update_layout(barmode='group')\n",
    "fig.show()"
   ]
  },
  {
   "cell_type": "markdown",
   "metadata": {},
   "source": [
    "* This graph is hard to gather any useful data from due to how New York City and Los Angeles are skewing the graph, let's drop those cities from the graph"
   ]
  },
  {
   "cell_type": "code",
   "execution_count": null,
   "metadata": {},
   "outputs": [],
   "source": [
    "three_state_df.drop(three_state_df[three_state_df['City_Name'] =='Los Angeles city, California'].index, inplace = True)\n",
    "three_state_df.drop(three_state_df[three_state_df['City_Name'] =='New York city, New York'].index, inplace = True)"
   ]
  },
  {
   "cell_type": "code",
   "execution_count": null,
   "metadata": {},
   "outputs": [],
   "source": [
    "fig = go.Figure(data=[\n",
    "    go.Bar(name='2000_pop', x=three_state_df['City_Name'], y=three_state_df['Total_Population_2000']),\n",
    "    go.Bar(name='2010_pop', x=three_state_df['City_Name'], y=three_state_df['Total_Population_2010']),\n",
    "    go.Bar(name='2000_housing', x=three_state_df['City_Name'], y=three_state_df['Total_Housing_2000']),\n",
    "    go.Bar(name='2010_housing', x=three_state_df['City_Name'], y=three_state_df['Total_Housing_2010']),\n",
    "    go.Bar(name='2000_non-relatives', x=three_state_df['City_Name'], y=three_state_df['Presence_of_Non-Relatives_2000']),\n",
    "    go.Bar(name='2010_non-relatives', x=three_state_df['City_Name'], y=three_state_df['Presence_of_Non-Relatives_2010']),\n",
    "])\n",
    "fig.update_layout(barmode='group')\n",
    "fig.show()"
   ]
  },
  {
   "cell_type": "markdown",
   "metadata": {},
   "source": [
    "* California is still being an issue, lets drop those cities form our graph"
   ]
  },
  {
   "cell_type": "code",
   "execution_count": null,
   "metadata": {},
   "outputs": [],
   "source": [
    "three_state_df.drop(three_state_df[three_state_df['state'] ==states.CA.fips].index, inplace = True)"
   ]
  },
  {
   "cell_type": "code",
   "execution_count": null,
   "metadata": {},
   "outputs": [],
   "source": [
    "fig = go.Figure(data=[\n",
    "    go.Bar(name='2000_pop', x=three_state_df['City_Name'], y=three_state_df['Total_Population_2000']),\n",
    "    go.Bar(name='2010_pop', x=three_state_df['City_Name'], y=three_state_df['Total_Population_2010']),\n",
    "    go.Bar(name='2000_housing', x=three_state_df['City_Name'], y=three_state_df['Total_Housing_2000']),\n",
    "    go.Bar(name='2010_housing', x=three_state_df['City_Name'], y=three_state_df['Total_Housing_2010']),\n",
    "    go.Bar(name='2000_non-relatives', x=three_state_df['City_Name'], y=three_state_df['Presence_of_Non-Relatives_2000']),\n",
    "    go.Bar(name='2010_non-relatives', x=three_state_df['City_Name'], y=three_state_df['Presence_of_Non-Relatives_2010']),\n",
    "])\n",
    "fig.update_layout(barmode='group')\n",
    "fig.show()"
   ]
  },
  {
   "cell_type": "code",
   "execution_count": null,
   "metadata": {},
   "outputs": [],
   "source": [
    "fig = go.Figure(data=[\n",
    "    go.Bar(name='2000_age', x=three_state_df['City_Name'], y=three_state_df['Median_Age_2000']),\n",
    "    go.Bar(name='2010_age', x=three_state_df['City_Name'], y=three_state_df['Median_Age_2010']),\n",
    "])\n",
    "fig.update_layout(barmode='group')\n",
    "fig.show()"
   ]
  },
  {
   "cell_type": "markdown",
   "metadata": {},
   "source": [
    "## American Community Survey"
   ]
  },
  {
   "cell_type": "code",
   "execution_count": null,
   "metadata": {},
   "outputs": [],
   "source": [
    "i = 0\n",
    "three_state_acs = []\n",
    "for x in acs_years_ca:\n",
    "    acs_1 = pd.concat([acs_years_ca[i], acs_years_ny[i], acs_years_id[i]])\n",
    "    three_state_acs.append(acs_1)\n",
    "    i = i + 1"
   ]
  },
  {
   "cell_type": "code",
   "execution_count": null,
   "metadata": {},
   "outputs": [],
   "source": [
    "three_state_df.set_index('FIPS', inplace=True)"
   ]
  },
  {
   "cell_type": "code",
   "execution_count": null,
   "metadata": {},
   "outputs": [],
   "source": [
    "for x in three_state_acs:\n",
    "    print(x)\n",
    "    three_state_df = three_state_df.join(x, on=\"FIPS\")"
   ]
  },
  {
   "cell_type": "code",
   "execution_count": null,
   "metadata": {},
   "outputs": [],
   "source": [
    "three_state_df.head()"
   ]
  },
  {
   "cell_type": "code",
   "execution_count": null,
   "metadata": {},
   "outputs": [],
   "source": [
    "fig = go.Figure(data=[\n",
    "    go.Bar(name='2000_pop', x=three_state_df['City_Name'], y=three_state_df['Total_Population_2000']),\n",
    "    go.Bar(name='2010_pop', x=three_state_df['City_Name'], y=three_state_df['Total_Population_2010']),\n",
    "    go.Bar(name='2012_pop', x=three_state_df['City_Name'], y=three_state_df['Total_Population_2012']),\n",
    "    go.Bar(name='2013_pop', x=three_state_df['City_Name'], y=three_state_df['Total_Population_2013']),\n",
    "    go.Bar(name='2014_pop', x=three_state_df['City_Name'], y=three_state_df['Total_Population_2014']),\n",
    "    go.Bar(name='2015_pop', x=three_state_df['City_Name'], y=three_state_df['Total_Population_2015']),\n",
    "    go.Bar(name='2016_pop', x=three_state_df['City_Name'], y=three_state_df['Total_Population_2016']),\n",
    "    go.Bar(name='2017_pop', x=three_state_df['City_Name'], y=three_state_df['Total_Population_2017']),\n",
    "    go.Bar(name='2000_housing', x=three_state_df['City_Name'], y=three_state_df['Total_Housing_2000']),\n",
    "    go.Bar(name='2010_housing', x=three_state_df['City_Name'], y=three_state_df['Total_Housing_2010']),\n",
    "    go.Bar(name='2012_housing', x=three_state_df['City_Name'], y=three_state_df['Total_Housing_2012']),\n",
    "    go.Bar(name='2013_housing', x=three_state_df['City_Name'], y=three_state_df['Total_Housing_2013']),\n",
    "    go.Bar(name='2014_housing', x=three_state_df['City_Name'], y=three_state_df['Total_Housing_2014']),\n",
    "    go.Bar(name='2015_housing', x=three_state_df['City_Name'], y=three_state_df['Total_Housing_2015']),\n",
    "    go.Bar(name='2016_housing', x=three_state_df['City_Name'], y=three_state_df['Total_Housing_2016']),\n",
    "    go.Bar(name='2017_housing', x=three_state_df['City_Name'], y=three_state_df['Total_Housing_2017']),\n",
    "    go.Bar(name='2000_non-relatives', x=three_state_df['City_Name'], y=three_state_df['Presence_of_Non-Relatives_2000']),\n",
    "    go.Bar(name='2010_non-relatives', x=three_state_df['City_Name'], y=three_state_df['Presence_of_Non-Relatives_2010']),\n",
    "    go.Bar(name='2012_non-relatives', x=three_state_df['City_Name'], y=three_state_df['Presence_of_Non-Relatives_2012']),\n",
    "    go.Bar(name='2013_non-relatives', x=three_state_df['City_Name'], y=three_state_df['Presence_of_Non-Relatives_2013']),\n",
    "    go.Bar(name='2014_non-relatives', x=three_state_df['City_Name'], y=three_state_df['Presence_of_Non-Relatives_2014']),\n",
    "    go.Bar(name='2015_non-relatives', x=three_state_df['City_Name'], y=three_state_df['Presence_of_Non-Relatives_2015']),\n",
    "    go.Bar(name='2016_non-relatives', x=three_state_df['City_Name'], y=three_state_df['Presence_of_Non-Relatives_2016']),\n",
    "    go.Bar(name='2017_non-relatives', x=three_state_df['City_Name'], y=three_state_df['Presence_of_Non-Relatives_2017']),\n",
    "])\n",
    "fig.update_layout(barmode='group')\n",
    "fig.show()"
   ]
  },
  {
   "cell_type": "code",
   "execution_count": null,
   "metadata": {},
   "outputs": [],
   "source": [
    "import statsmodels.api as sm\n",
    "import statsmodels.formula.api as smf\n",
    "import sklearn.metrics\n",
    "import sys\n",
    "from pandas_ml import ConfusionMatrix"
   ]
  },
  {
   "cell_type": "code",
   "execution_count": null,
   "metadata": {},
   "outputs": [],
   "source": [
    "mod = smf.glm('Total_Population_2000 ~ Total_Population_2010 + Total_Population_2012 + Total_Population_2013', three_state_df, family=sm.families.Binomial()).fit()\n",
    "mod.summary()"
   ]
  },
  {
   "cell_type": "code",
   "execution_count": null,
   "metadata": {},
   "outputs": [],
   "source": []
  }
 ],
 "metadata": {
  "kernelspec": {
   "display_name": "Python 3",
   "language": "python",
   "name": "python3"
  },
  "language_info": {
   "codemirror_mode": {
    "name": "ipython",
    "version": 3
   },
   "file_extension": ".py",
   "mimetype": "text/x-python",
   "name": "python",
   "nbconvert_exporter": "python",
   "pygments_lexer": "ipython3",
   "version": "3.7.4"
  }
 },
 "nbformat": 4,
 "nbformat_minor": 2
}
