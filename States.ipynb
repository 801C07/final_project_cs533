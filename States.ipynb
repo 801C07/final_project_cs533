{
 "cells": [
  {
   "cell_type": "markdown",
   "metadata": {},
   "source": [
    "# Final Project - Idaho Policy Institute 5\n",
    "## Ryan Pacheco, Ashley Gilbert, Ben Whitehead\n",
    "\n",
    "Our goal is to identify characteristics which make a city sustainable, then classify cities based on whether they are growing sustainably or not. We will be looking at the cities in Idaho, California, and New York (state) with a population over 50,000.\n",
    "\n",
    "## Initial Setup\n",
    "We will start bby loading all of our data sources:\n",
    "- US Census Data\n",
    "- American Community Survey Data\n",
    "- Greenhouse Gas Data (procured by the EPA)"
   ]
  },
  {
   "cell_type": "code",
   "execution_count": 1,
   "metadata": {},
   "outputs": [
    {
     "name": "stdout",
     "output_type": "stream",
     "text": [
      "Requirement already satisfied: census in /usr/local/lib/python3.7/site-packages (0.8.13)\n",
      "Requirement already satisfied: us in /usr/local/lib/python3.7/site-packages (1.0.0)\n",
      "Requirement already satisfied: requests>=1.1.0 in /usr/local/lib/python3.7/site-packages (from census) (2.20.1)\n",
      "Requirement already satisfied: future in /usr/local/lib/python3.7/site-packages (from census) (0.17.1)\n",
      "Requirement already satisfied: jellyfish==0.5.6 in /usr/local/lib/python3.7/site-packages (from us) (0.5.6)\n",
      "Requirement already satisfied: certifi>=2017.4.17 in /usr/local/lib/python3.7/site-packages (from requests>=1.1.0->census) (2019.3.9)\n",
      "Requirement already satisfied: idna<2.8,>=2.5 in /usr/local/lib/python3.7/site-packages (from requests>=1.1.0->census) (2.7)\n",
      "Requirement already satisfied: urllib3<1.25,>=1.21.1 in /Users/bdw/Library/Python/3.7/lib/python/site-packages (from requests>=1.1.0->census) (1.24.1)\n",
      "Requirement already satisfied: chardet<3.1.0,>=3.0.2 in /usr/local/lib/python3.7/site-packages (from requests>=1.1.0->census) (3.0.4)\n",
      "Note: you may need to restart the kernel to use updated packages.\n"
     ]
    }
   ],
   "source": [
    "%pip install census us"
   ]
  },
  {
   "cell_type": "code",
   "execution_count": 2,
   "metadata": {},
   "outputs": [],
   "source": [
    "import pandas as pd\n",
    "import seaborn as sns\n",
    "import matplotlib as plt\n",
    "import os\n",
    "\n",
    "from census import Census\n",
    "from us import states\n",
    "\n",
    "import plotly.graph_objects as go"
   ]
  },
  {
   "cell_type": "code",
   "execution_count": 3,
   "metadata": {},
   "outputs": [
    {
     "data": {
      "text/plain": [
       "'https://www2.census.gov/geo/tiger/TIGER2010/COUNTY/2010/tl_2010_16_county10.zip'"
      ]
     },
     "execution_count": 3,
     "metadata": {},
     "output_type": "execute_result"
    }
   ],
   "source": [
    "states.ID.shapefile_urls('county')"
   ]
  },
  {
   "cell_type": "code",
   "execution_count": 4,
   "metadata": {},
   "outputs": [
    {
     "name": "stdout",
     "output_type": "stream",
     "text": [
      "2012\n",
      "2013\n",
      "2014\n",
      "2015\n",
      "2016\n",
      "2017\n",
      "2012\n",
      "2013\n",
      "2014\n",
      "2015\n",
      "2016\n",
      "2017\n",
      "2012\n",
      "2013\n",
      "2014\n",
      "2015\n",
      "2016\n",
      "2017\n"
     ]
    },
    {
     "name": "stderr",
     "output_type": "stream",
     "text": [
      "/usr/local/lib/python3.7/site-packages/ipykernel_launcher.py:85: FutureWarning:\n",
      "\n",
      "Sorting because non-concatenation axis is not aligned. A future version\n",
      "of pandas will change to not sort by default.\n",
      "\n",
      "To accept the future behavior, pass 'sort=False'.\n",
      "\n",
      "To retain the current behavior and silence the warning, pass 'sort=True'.\n",
      "\n",
      "\n"
     ]
    }
   ],
   "source": [
    "#load census data using API key\n",
    "c = Census('fb97753783c42ae57fe1a640e38fe04e921e5d1a')\n",
    "\n",
    "#American Community Survey Data for California\n",
    "i = 0\n",
    "acs_years_ca = []\n",
    "for x in range(2012, 2018):\n",
    "    acs_test = c.acs5.state_place(('NAME',\n",
    "                                   'B01003_001E',\n",
    "                                   'B00002_001E',\n",
    "                                   'B09018_007E',\n",
    "                                   'B01002_001E'), states.CA.fips, '*', year=x)\n",
    "    acs_years_ca.append(pd.DataFrame.from_records(acs_test))\n",
    "    print(x)\n",
    "    acs_years_ca[i] = acs_years_ca[i].rename(columns={\n",
    "        'NAME' : 'City_Name',\n",
    "        'place': 'FIPS',\n",
    "        'B01003_001E': 'Total_Population_{}'.format(x),\n",
    "        'B00002_001E': 'Total_Housing_{}'.format(x),\n",
    "        'B09018_007E': 'Presence_of_Non-Relatives_{}'.format(x),\n",
    "        'B01002_001E': 'Median_Age_{}'.format(x),\n",
    "    })\n",
    "    acs_years_ca[i].set_index('FIPS', inplace=True)\n",
    "    acs_years_ca[i].drop(columns=['City_Name', 'state'], inplace=True)\n",
    "    acs_years_ca[i] = acs_years_ca[i].nlargest(5, 'Total_Population_{}'.format(x))\n",
    "    i = i + 1\n",
    "\n",
    "\n",
    "#American Community Survey Data for New York\n",
    "i = 0\n",
    "acs_years_ny = []\n",
    "for x in range(2012, 2018):\n",
    "    acs_test = c.acs5.state_place(('NAME',\n",
    "                                   'B01003_001E',\n",
    "                                   'B00002_001E',\n",
    "                                   'B09018_007E',\n",
    "                                   'B01002_001E'), states.NY.fips, '*', year=x)\n",
    "    acs_years_ny.append(pd.DataFrame.from_records(acs_test))\n",
    "    print(x)\n",
    "    acs_years_ny[i] = acs_years_ny[i].rename(columns={\n",
    "        'NAME' : 'City_Name',\n",
    "        'place': 'FIPS',\n",
    "        'B01003_001E': 'Total_Population_{}'.format(x),\n",
    "        'B00002_001E': 'Total_Housing_{}'.format(x),\n",
    "        'B09018_007E': 'Presence_of_Non-Relatives_{}'.format(x),\n",
    "        'B01002_001E': 'Median_Age_{}'.format(x),\n",
    "    })\n",
    "    acs_years_ny[i].set_index('FIPS', inplace=True)\n",
    "    acs_years_ny[i].drop(columns=['City_Name', 'state'], inplace=True)\n",
    "    acs_years_ny[i] = acs_years_ny[i].nlargest(5, 'Total_Population_{}'.format(x))\n",
    "    i = i + 1\n",
    "\n",
    "\n",
    "#American Community Survey Data for Idaho\n",
    "i = 0\n",
    "acs_years_id = []\n",
    "for x in range(2012, 2018):\n",
    "    acs_test = c.acs5.state_place(('NAME',\n",
    "                                   'B01003_001E',\n",
    "                                   'B00002_001E',\n",
    "                                   'B09018_007E',\n",
    "                                   'B01002_001E'), states.ID.fips, '*', year=x)\n",
    "    acs_years_id.append(pd.DataFrame.from_records(acs_test))\n",
    "    print(x)\n",
    "    acs_years_id[i] = acs_years_id[i].rename(columns={\n",
    "        'NAME' : 'City_Name',\n",
    "        'place': 'FIPS',\n",
    "        'B01003_001E': 'Total_Population_{}'.format(x),\n",
    "        'B00002_001E': 'Total_Housing_{}'.format(x),\n",
    "        'B09018_007E': 'Presence_of_Non-Relatives_{}'.format(x),\n",
    "        'B01002_001E': 'Median_Age_{}'.format(x),\n",
    "    })\n",
    "    acs_years_id[i].set_index('FIPS', inplace=True)\n",
    "    acs_years_id[i].drop(columns=['City_Name', 'state'], inplace=True)\n",
    "    acs_years_id[i] = acs_years_id[i].nlargest(5, 'Total_Population_{}'.format(x))\n",
    "    i = i + 1\n",
    "\n",
    "\n",
    "#Greenhouse Gas Data\n",
    "ghg = pd.DataFrame()\n",
    "\n",
    "for f in os.listdir('data/2018_data_summary_spreadsheets'):\n",
    "    temp = pd.read_excel('data/2018_data_summary_spreadsheets/'+f, sheet_name=0)\n",
    "    temp['Year'] = f.split('.')[0].split('_')[2]    \n",
    "    ghg = pd.concat([temp, ghg])\n",
    "    \n",
    "fips_map = pd.read_excel('data/fips-codes.xls', sheet_name=0)\n",
    "\n",
    "fips_map = fips_map[fips_map['Entity Description'] == 'city']\n",
    "\n",
    "def str_func(x):\n",
    "    return str(x).zfill(5)\n",
    "\n",
    "fips_map['FIPS'] = fips_map['FIPS Entity Code'].apply(str_func)\n",
    "fips_map['City'] = fips_map['GU Name']\n",
    "fips_map['State'] = fips_map['State Abbreviation']\n",
    "\n",
    "ghg_mapped = pd.merge(ghg, fips_map, on=['State', 'City'])\n",
    "total_emissions = ghg_mapped.groupby(['FIPS','Year'])['Total reported direct emissions'].agg('sum').to_frame()\n",
    "\n",
    "total_emissions.reset_index(inplace=True)\n",
    "\n",
    "pivot_em = total_emissions.pivot(index='FIPS', columns='Year', values='Total reported direct emissions')"
   ]
  },
  {
   "cell_type": "markdown",
   "metadata": {},
   "source": [
    "Now that all of our data is loaded, we will work on putting it all together for analysis"
   ]
  },
  {
   "cell_type": "code",
   "execution_count": 5,
   "metadata": {},
   "outputs": [],
   "source": [
    "#common variables used for working with the census data.\n",
    "keys = ['NAME' ,'P002001','P002002','P002005','H001001','P013001','H003001','P027001','H005001','H005002','H005003','H005004','H005005','H005006','H005007']\n",
    "\n",
    "renames_2000 = {\n",
    "        'NAME' : 'City_Name',\n",
    "        'place': 'FIPS',\n",
    "        'P002001': 'Total_Population_2000',\n",
    "        'P002002':'Total_Urban_Population_2000',\n",
    "        'P002005':'Total_Rural_Population_2000',\n",
    "        'H001001': 'Total_Housing_2000',\n",
    "        'P013001': 'Median_Age_2000',\n",
    "        'H003001': 'Occupancy_Status_For_Housing_Units_2000',\n",
    "        'P027001': 'Presence_of_Non-Relatives_2000',\n",
    "        'H005001': 'Vacancy_Status_2000',\n",
    "        'H005002': 'For_Rent_2000',\n",
    "        'H005003': 'Rented_Not_Occupied_2000',\n",
    "        'H005004': 'For_Sale_Only_2000',\n",
    "        'H005005': 'Sold_Not_Occupied_2000',\n",
    "        'H005006': 'For_Seasonal_Recreational_Or_Occasional_Use_2000',\n",
    "        'H005007': 'For_Migrant_Workers_2000'\n",
    "}\n",
    "\n",
    "renames_2010 = {\n",
    "        'NAME' : 'City_Name',\n",
    "        'place': 'FIPS',\n",
    "        'P002001': 'Total_Population_2010',\n",
    "        'P002002':'Total_Urban_Population_2010',\n",
    "        'P002005':'Total_Rural_Population_2010',\n",
    "        'H001001': 'Total_Housing_2010',\n",
    "        'P013001': 'Median_Age_2010',\n",
    "        'H003001': 'Occupancy_Status_For_Housing_Units_2010',\n",
    "        'P027001': 'Presence_of_Non-Relatives_2010',\n",
    "        'H005001': 'Vacancy_Status_2010',\n",
    "        'H005002': 'For_Rent_2010',\n",
    "        'H005003': 'Rented_Not_Occupied_2010',\n",
    "        'H005004': 'For_Sale_Only_2010',\n",
    "        'H005005': 'Sold_Not_Occupied_2010',\n",
    "        'H005006': 'For_Seasonal_Recreational_Or_Occasional_Use_2010',\n",
    "        'H005007': 'For_Migrant_Workers_2010'}\n"
   ]
  },
  {
   "cell_type": "markdown",
   "metadata": {},
   "source": [
    "## Merge data and start analysis"
   ]
  },
  {
   "cell_type": "markdown",
   "metadata": {},
   "source": [
    "### California"
   ]
  },
  {
   "cell_type": "code",
   "execution_count": 61,
   "metadata": {},
   "outputs": [],
   "source": [
    "city_2010 = c.sf1.state_place(keys, states.CA.fips, '*', year=2010)\n",
    "c_pop_2010 = pd.DataFrame.from_records(city_2010)\n",
    "c_pop_2010_50000 = c_pop_2010.rename(columns=renames_2010)"
   ]
  },
  {
   "cell_type": "code",
   "execution_count": 62,
   "metadata": {},
   "outputs": [
    {
     "data": {
      "text/html": [
       "<div>\n",
       "<style scoped>\n",
       "    .dataframe tbody tr th:only-of-type {\n",
       "        vertical-align: middle;\n",
       "    }\n",
       "\n",
       "    .dataframe tbody tr th {\n",
       "        vertical-align: top;\n",
       "    }\n",
       "\n",
       "    .dataframe thead th {\n",
       "        text-align: right;\n",
       "    }\n",
       "</style>\n",
       "<table border=\"1\" class=\"dataframe\">\n",
       "  <thead>\n",
       "    <tr style=\"text-align: right;\">\n",
       "      <th></th>\n",
       "      <th>Total_Housing_2010</th>\n",
       "      <th>Occupancy_Status_For_Housing_Units_2010</th>\n",
       "      <th>Vacancy_Status_2010</th>\n",
       "      <th>For_Rent_2010</th>\n",
       "      <th>Rented_Not_Occupied_2010</th>\n",
       "      <th>For_Sale_Only_2010</th>\n",
       "      <th>Sold_Not_Occupied_2010</th>\n",
       "      <th>For_Seasonal_Recreational_Or_Occasional_Use_2010</th>\n",
       "      <th>For_Migrant_Workers_2010</th>\n",
       "      <th>City_Name</th>\n",
       "      <th>Total_Population_2010</th>\n",
       "      <th>Total_Urban_Population_2010</th>\n",
       "      <th>Total_Rural_Population_2010</th>\n",
       "      <th>Median_Age_2010</th>\n",
       "      <th>Presence_of_Non-Relatives_2010</th>\n",
       "      <th>FIPS</th>\n",
       "      <th>state</th>\n",
       "    </tr>\n",
       "  </thead>\n",
       "  <tbody>\n",
       "    <tr>\n",
       "      <th>0</th>\n",
       "      <td>457.0</td>\n",
       "      <td>457.0</td>\n",
       "      <td>16.0</td>\n",
       "      <td>4.0</td>\n",
       "      <td>1.0</td>\n",
       "      <td>1.0</td>\n",
       "      <td>2.0</td>\n",
       "      <td>2.0</td>\n",
       "      <td>0.0</td>\n",
       "      <td>Acalanes Ridge CDP, California</td>\n",
       "      <td>1137.0</td>\n",
       "      <td>1137.0</td>\n",
       "      <td>0.0</td>\n",
       "      <td>46.3</td>\n",
       "      <td>441.0</td>\n",
       "      <td>00135</td>\n",
       "      <td>06</td>\n",
       "    </tr>\n",
       "    <tr>\n",
       "      <th>1</th>\n",
       "      <td>99.0</td>\n",
       "      <td>99.0</td>\n",
       "      <td>5.0</td>\n",
       "      <td>1.0</td>\n",
       "      <td>0.0</td>\n",
       "      <td>0.0</td>\n",
       "      <td>0.0</td>\n",
       "      <td>1.0</td>\n",
       "      <td>0.0</td>\n",
       "      <td>Acampo CDP, California</td>\n",
       "      <td>341.0</td>\n",
       "      <td>0.0</td>\n",
       "      <td>341.0</td>\n",
       "      <td>30.6</td>\n",
       "      <td>94.0</td>\n",
       "      <td>00156</td>\n",
       "      <td>06</td>\n",
       "    </tr>\n",
       "    <tr>\n",
       "      <th>2</th>\n",
       "      <td>2814.0</td>\n",
       "      <td>2814.0</td>\n",
       "      <td>154.0</td>\n",
       "      <td>22.0</td>\n",
       "      <td>1.0</td>\n",
       "      <td>42.0</td>\n",
       "      <td>9.0</td>\n",
       "      <td>34.0</td>\n",
       "      <td>0.0</td>\n",
       "      <td>Acton CDP, California</td>\n",
       "      <td>7596.0</td>\n",
       "      <td>0.0</td>\n",
       "      <td>7596.0</td>\n",
       "      <td>45.5</td>\n",
       "      <td>2660.0</td>\n",
       "      <td>00212</td>\n",
       "      <td>06</td>\n",
       "    </tr>\n",
       "    <tr>\n",
       "      <th>3</th>\n",
       "      <td>9086.0</td>\n",
       "      <td>9086.0</td>\n",
       "      <td>1277.0</td>\n",
       "      <td>462.0</td>\n",
       "      <td>11.0</td>\n",
       "      <td>323.0</td>\n",
       "      <td>56.0</td>\n",
       "      <td>32.0</td>\n",
       "      <td>0.0</td>\n",
       "      <td>Adelanto city, California</td>\n",
       "      <td>31765.0</td>\n",
       "      <td>31381.0</td>\n",
       "      <td>384.0</td>\n",
       "      <td>25.3</td>\n",
       "      <td>7809.0</td>\n",
       "      <td>00296</td>\n",
       "      <td>06</td>\n",
       "    </tr>\n",
       "    <tr>\n",
       "      <th>4</th>\n",
       "      <td>144.0</td>\n",
       "      <td>144.0</td>\n",
       "      <td>20.0</td>\n",
       "      <td>1.0</td>\n",
       "      <td>0.0</td>\n",
       "      <td>1.0</td>\n",
       "      <td>0.0</td>\n",
       "      <td>9.0</td>\n",
       "      <td>0.0</td>\n",
       "      <td>Adin CDP, California</td>\n",
       "      <td>272.0</td>\n",
       "      <td>0.0</td>\n",
       "      <td>272.0</td>\n",
       "      <td>47.3</td>\n",
       "      <td>124.0</td>\n",
       "      <td>00310</td>\n",
       "      <td>06</td>\n",
       "    </tr>\n",
       "  </tbody>\n",
       "</table>\n",
       "</div>"
      ],
      "text/plain": [
       "   Total_Housing_2010  Occupancy_Status_For_Housing_Units_2010  \\\n",
       "0               457.0                                    457.0   \n",
       "1                99.0                                     99.0   \n",
       "2              2814.0                                   2814.0   \n",
       "3              9086.0                                   9086.0   \n",
       "4               144.0                                    144.0   \n",
       "\n",
       "   Vacancy_Status_2010  For_Rent_2010  Rented_Not_Occupied_2010  \\\n",
       "0                 16.0            4.0                       1.0   \n",
       "1                  5.0            1.0                       0.0   \n",
       "2                154.0           22.0                       1.0   \n",
       "3               1277.0          462.0                      11.0   \n",
       "4                 20.0            1.0                       0.0   \n",
       "\n",
       "   For_Sale_Only_2010  Sold_Not_Occupied_2010  \\\n",
       "0                 1.0                     2.0   \n",
       "1                 0.0                     0.0   \n",
       "2                42.0                     9.0   \n",
       "3               323.0                    56.0   \n",
       "4                 1.0                     0.0   \n",
       "\n",
       "   For_Seasonal_Recreational_Or_Occasional_Use_2010  For_Migrant_Workers_2010  \\\n",
       "0                                               2.0                       0.0   \n",
       "1                                               1.0                       0.0   \n",
       "2                                              34.0                       0.0   \n",
       "3                                              32.0                       0.0   \n",
       "4                                               9.0                       0.0   \n",
       "\n",
       "                        City_Name  Total_Population_2010  \\\n",
       "0  Acalanes Ridge CDP, California                 1137.0   \n",
       "1          Acampo CDP, California                  341.0   \n",
       "2           Acton CDP, California                 7596.0   \n",
       "3       Adelanto city, California                31765.0   \n",
       "4            Adin CDP, California                  272.0   \n",
       "\n",
       "   Total_Urban_Population_2010  Total_Rural_Population_2010  Median_Age_2010  \\\n",
       "0                       1137.0                          0.0             46.3   \n",
       "1                          0.0                        341.0             30.6   \n",
       "2                          0.0                       7596.0             45.5   \n",
       "3                      31381.0                        384.0             25.3   \n",
       "4                          0.0                        272.0             47.3   \n",
       "\n",
       "   Presence_of_Non-Relatives_2010   FIPS state  \n",
       "0                           441.0  00135    06  \n",
       "1                            94.0  00156    06  \n",
       "2                          2660.0  00212    06  \n",
       "3                          7809.0  00296    06  \n",
       "4                           124.0  00310    06  "
      ]
     },
     "execution_count": 62,
     "metadata": {},
     "output_type": "execute_result"
    }
   ],
   "source": [
    "c_pop_2010_50000.head()"
   ]
  },
  {
   "cell_type": "code",
   "execution_count": 63,
   "metadata": {},
   "outputs": [],
   "source": [
    "city_2000 = c.sf1.state_place(keys, states.CA.fips, '*', year=2000)\n",
    "c_pop_2000 = pd.DataFrame.from_records(city_2000)\n",
    "c_pop_2000_50000 = c_pop_2000.rename(columns=renames_2000)"
   ]
  },
  {
   "cell_type": "code",
   "execution_count": 64,
   "metadata": {},
   "outputs": [],
   "source": [
    "c_pop_2000_50000.drop(columns=['City_Name', 'state'], inplace=True)"
   ]
  },
  {
   "cell_type": "code",
   "execution_count": 65,
   "metadata": {},
   "outputs": [
    {
     "data": {
      "text/html": [
       "<div>\n",
       "<style scoped>\n",
       "    .dataframe tbody tr th:only-of-type {\n",
       "        vertical-align: middle;\n",
       "    }\n",
       "\n",
       "    .dataframe tbody tr th {\n",
       "        vertical-align: top;\n",
       "    }\n",
       "\n",
       "    .dataframe thead th {\n",
       "        text-align: right;\n",
       "    }\n",
       "</style>\n",
       "<table border=\"1\" class=\"dataframe\">\n",
       "  <thead>\n",
       "    <tr style=\"text-align: right;\">\n",
       "      <th></th>\n",
       "      <th>Total_Housing_2000</th>\n",
       "      <th>Occupancy_Status_For_Housing_Units_2000</th>\n",
       "      <th>Vacancy_Status_2000</th>\n",
       "      <th>For_Rent_2000</th>\n",
       "      <th>Rented_Not_Occupied_2000</th>\n",
       "      <th>For_Sale_Only_2000</th>\n",
       "      <th>Sold_Not_Occupied_2000</th>\n",
       "      <th>For_Seasonal_Recreational_Or_Occasional_Use_2000</th>\n",
       "      <th>For_Migrant_Workers_2000</th>\n",
       "      <th>Total_Population_2000</th>\n",
       "      <th>Total_Urban_Population_2000</th>\n",
       "      <th>Total_Rural_Population_2000</th>\n",
       "      <th>Median_Age_2000</th>\n",
       "      <th>Presence_of_Non-Relatives_2000</th>\n",
       "      <th>FIPS</th>\n",
       "    </tr>\n",
       "  </thead>\n",
       "  <tbody>\n",
       "    <tr>\n",
       "      <th>0</th>\n",
       "      <td>915</td>\n",
       "      <td>915</td>\n",
       "      <td>26</td>\n",
       "      <td>12</td>\n",
       "      <td>4</td>\n",
       "      <td>1</td>\n",
       "      <td>1</td>\n",
       "      <td>0</td>\n",
       "      <td>8</td>\n",
       "      <td>2797</td>\n",
       "      <td>0</td>\n",
       "      <td>0</td>\n",
       "      <td>37.3</td>\n",
       "      <td>2797</td>\n",
       "      <td>02812</td>\n",
       "    </tr>\n",
       "    <tr>\n",
       "      <th>1</th>\n",
       "      <td>3145</td>\n",
       "      <td>3145</td>\n",
       "      <td>135</td>\n",
       "      <td>61</td>\n",
       "      <td>29</td>\n",
       "      <td>3</td>\n",
       "      <td>11</td>\n",
       "      <td>0</td>\n",
       "      <td>31</td>\n",
       "      <td>12956</td>\n",
       "      <td>0</td>\n",
       "      <td>0</td>\n",
       "      <td>23.3</td>\n",
       "      <td>12956</td>\n",
       "      <td>02924</td>\n",
       "    </tr>\n",
       "    <tr>\n",
       "      <th>2</th>\n",
       "      <td>88262</td>\n",
       "      <td>88262</td>\n",
       "      <td>4821</td>\n",
       "      <td>2187</td>\n",
       "      <td>1018</td>\n",
       "      <td>309</td>\n",
       "      <td>268</td>\n",
       "      <td>3</td>\n",
       "      <td>1036</td>\n",
       "      <td>247057</td>\n",
       "      <td>0</td>\n",
       "      <td>0</td>\n",
       "      <td>30.1</td>\n",
       "      <td>247057</td>\n",
       "      <td>03526</td>\n",
       "    </tr>\n",
       "    <tr>\n",
       "      <th>3</th>\n",
       "      <td>2147</td>\n",
       "      <td>2147</td>\n",
       "      <td>561</td>\n",
       "      <td>15</td>\n",
       "      <td>69</td>\n",
       "      <td>18</td>\n",
       "      <td>417</td>\n",
       "      <td>0</td>\n",
       "      <td>42</td>\n",
       "      <td>4232</td>\n",
       "      <td>0</td>\n",
       "      <td>0</td>\n",
       "      <td>43.8</td>\n",
       "      <td>4232</td>\n",
       "      <td>04734</td>\n",
       "    </tr>\n",
       "    <tr>\n",
       "      <th>4</th>\n",
       "      <td>1188</td>\n",
       "      <td>1188</td>\n",
       "      <td>348</td>\n",
       "      <td>18</td>\n",
       "      <td>46</td>\n",
       "      <td>6</td>\n",
       "      <td>219</td>\n",
       "      <td>0</td>\n",
       "      <td>59</td>\n",
       "      <td>1823</td>\n",
       "      <td>0</td>\n",
       "      <td>0</td>\n",
       "      <td>49.8</td>\n",
       "      <td>1823</td>\n",
       "      <td>07274</td>\n",
       "    </tr>\n",
       "  </tbody>\n",
       "</table>\n",
       "</div>"
      ],
      "text/plain": [
       "  Total_Housing_2000 Occupancy_Status_For_Housing_Units_2000  \\\n",
       "0                915                                     915   \n",
       "1               3145                                    3145   \n",
       "2              88262                                   88262   \n",
       "3               2147                                    2147   \n",
       "4               1188                                    1188   \n",
       "\n",
       "  Vacancy_Status_2000 For_Rent_2000 Rented_Not_Occupied_2000  \\\n",
       "0                  26            12                        4   \n",
       "1                 135            61                       29   \n",
       "2                4821          2187                     1018   \n",
       "3                 561            15                       69   \n",
       "4                 348            18                       46   \n",
       "\n",
       "  For_Sale_Only_2000 Sold_Not_Occupied_2000  \\\n",
       "0                  1                      1   \n",
       "1                  3                     11   \n",
       "2                309                    268   \n",
       "3                 18                    417   \n",
       "4                  6                    219   \n",
       "\n",
       "  For_Seasonal_Recreational_Or_Occasional_Use_2000 For_Migrant_Workers_2000  \\\n",
       "0                                                0                        8   \n",
       "1                                                0                       31   \n",
       "2                                                3                     1036   \n",
       "3                                                0                       42   \n",
       "4                                                0                       59   \n",
       "\n",
       "  Total_Population_2000 Total_Urban_Population_2000  \\\n",
       "0                  2797                           0   \n",
       "1                 12956                           0   \n",
       "2                247057                           0   \n",
       "3                  4232                           0   \n",
       "4                  1823                           0   \n",
       "\n",
       "  Total_Rural_Population_2000 Median_Age_2000 Presence_of_Non-Relatives_2000  \\\n",
       "0                           0            37.3                           2797   \n",
       "1                           0            23.3                          12956   \n",
       "2                           0            30.1                         247057   \n",
       "3                           0            43.8                           4232   \n",
       "4                           0            49.8                           1823   \n",
       "\n",
       "    FIPS  \n",
       "0  02812  \n",
       "1  02924  \n",
       "2  03526  \n",
       "3  04734  \n",
       "4  07274  "
      ]
     },
     "execution_count": 65,
     "metadata": {},
     "output_type": "execute_result"
    }
   ],
   "source": [
    "c_pop_2000_50000.head()"
   ]
  },
  {
   "cell_type": "code",
   "execution_count": 66,
   "metadata": {},
   "outputs": [],
   "source": [
    "c_pop_2000_50000.set_index('FIPS', inplace=True)\n",
    "c_pop_2010_50000.set_index('FIPS', inplace=True)"
   ]
  },
  {
   "cell_type": "code",
   "execution_count": 67,
   "metadata": {},
   "outputs": [],
   "source": [
    "ca_join = c_pop_2000_50000.join(c_pop_2010_50000, on='FIPS')\n",
    "\n",
    "ca_join = ca_join.join(pivot_em, on='FIPS')"
   ]
  },
  {
   "cell_type": "code",
   "execution_count": 68,
   "metadata": {},
   "outputs": [
    {
     "data": {
      "text/html": [
       "<div>\n",
       "<style scoped>\n",
       "    .dataframe tbody tr th:only-of-type {\n",
       "        vertical-align: middle;\n",
       "    }\n",
       "\n",
       "    .dataframe tbody tr th {\n",
       "        vertical-align: top;\n",
       "    }\n",
       "\n",
       "    .dataframe thead th {\n",
       "        text-align: right;\n",
       "    }\n",
       "</style>\n",
       "<table border=\"1\" class=\"dataframe\">\n",
       "  <thead>\n",
       "    <tr style=\"text-align: right;\">\n",
       "      <th></th>\n",
       "      <th>Total_Housing_2000</th>\n",
       "      <th>Occupancy_Status_For_Housing_Units_2000</th>\n",
       "      <th>Vacancy_Status_2000</th>\n",
       "      <th>For_Rent_2000</th>\n",
       "      <th>Rented_Not_Occupied_2000</th>\n",
       "      <th>For_Sale_Only_2000</th>\n",
       "      <th>Sold_Not_Occupied_2000</th>\n",
       "      <th>For_Seasonal_Recreational_Or_Occasional_Use_2000</th>\n",
       "      <th>For_Migrant_Workers_2000</th>\n",
       "      <th>Total_Population_2000</th>\n",
       "      <th>...</th>\n",
       "      <th>state</th>\n",
       "      <th>2010</th>\n",
       "      <th>2011</th>\n",
       "      <th>2012</th>\n",
       "      <th>2013</th>\n",
       "      <th>2014</th>\n",
       "      <th>2015</th>\n",
       "      <th>2016</th>\n",
       "      <th>2017</th>\n",
       "      <th>2018</th>\n",
       "    </tr>\n",
       "    <tr>\n",
       "      <th>FIPS</th>\n",
       "      <th></th>\n",
       "      <th></th>\n",
       "      <th></th>\n",
       "      <th></th>\n",
       "      <th></th>\n",
       "      <th></th>\n",
       "      <th></th>\n",
       "      <th></th>\n",
       "      <th></th>\n",
       "      <th></th>\n",
       "      <th></th>\n",
       "      <th></th>\n",
       "      <th></th>\n",
       "      <th></th>\n",
       "      <th></th>\n",
       "      <th></th>\n",
       "      <th></th>\n",
       "      <th></th>\n",
       "      <th></th>\n",
       "      <th></th>\n",
       "      <th></th>\n",
       "    </tr>\n",
       "  </thead>\n",
       "  <tbody>\n",
       "    <tr>\n",
       "      <th>02812</th>\n",
       "      <td>915</td>\n",
       "      <td>915</td>\n",
       "      <td>26</td>\n",
       "      <td>12</td>\n",
       "      <td>4</td>\n",
       "      <td>1</td>\n",
       "      <td>1</td>\n",
       "      <td>0</td>\n",
       "      <td>8</td>\n",
       "      <td>2797</td>\n",
       "      <td>...</td>\n",
       "      <td>06</td>\n",
       "      <td>NaN</td>\n",
       "      <td>NaN</td>\n",
       "      <td>NaN</td>\n",
       "      <td>NaN</td>\n",
       "      <td>NaN</td>\n",
       "      <td>NaN</td>\n",
       "      <td>NaN</td>\n",
       "      <td>NaN</td>\n",
       "      <td>NaN</td>\n",
       "    </tr>\n",
       "    <tr>\n",
       "      <th>02924</th>\n",
       "      <td>3145</td>\n",
       "      <td>3145</td>\n",
       "      <td>135</td>\n",
       "      <td>61</td>\n",
       "      <td>29</td>\n",
       "      <td>3</td>\n",
       "      <td>11</td>\n",
       "      <td>0</td>\n",
       "      <td>31</td>\n",
       "      <td>12956</td>\n",
       "      <td>...</td>\n",
       "      <td>06</td>\n",
       "      <td>NaN</td>\n",
       "      <td>NaN</td>\n",
       "      <td>NaN</td>\n",
       "      <td>NaN</td>\n",
       "      <td>NaN</td>\n",
       "      <td>NaN</td>\n",
       "      <td>NaN</td>\n",
       "      <td>NaN</td>\n",
       "      <td>NaN</td>\n",
       "    </tr>\n",
       "    <tr>\n",
       "      <th>03526</th>\n",
       "      <td>88262</td>\n",
       "      <td>88262</td>\n",
       "      <td>4821</td>\n",
       "      <td>2187</td>\n",
       "      <td>1018</td>\n",
       "      <td>309</td>\n",
       "      <td>268</td>\n",
       "      <td>3</td>\n",
       "      <td>1036</td>\n",
       "      <td>247057</td>\n",
       "      <td>...</td>\n",
       "      <td>06</td>\n",
       "      <td>980629.082</td>\n",
       "      <td>906498.922</td>\n",
       "      <td>1155619.396</td>\n",
       "      <td>1207249.466</td>\n",
       "      <td>1848460.71</td>\n",
       "      <td>2086014.066</td>\n",
       "      <td>94153.496</td>\n",
       "      <td>69323.64</td>\n",
       "      <td>18864.88</td>\n",
       "    </tr>\n",
       "    <tr>\n",
       "      <th>04734</th>\n",
       "      <td>2147</td>\n",
       "      <td>2147</td>\n",
       "      <td>561</td>\n",
       "      <td>15</td>\n",
       "      <td>69</td>\n",
       "      <td>18</td>\n",
       "      <td>417</td>\n",
       "      <td>0</td>\n",
       "      <td>42</td>\n",
       "      <td>4232</td>\n",
       "      <td>...</td>\n",
       "      <td>06</td>\n",
       "      <td>NaN</td>\n",
       "      <td>NaN</td>\n",
       "      <td>NaN</td>\n",
       "      <td>NaN</td>\n",
       "      <td>NaN</td>\n",
       "      <td>NaN</td>\n",
       "      <td>NaN</td>\n",
       "      <td>NaN</td>\n",
       "      <td>NaN</td>\n",
       "    </tr>\n",
       "    <tr>\n",
       "      <th>07274</th>\n",
       "      <td>1188</td>\n",
       "      <td>1188</td>\n",
       "      <td>348</td>\n",
       "      <td>18</td>\n",
       "      <td>46</td>\n",
       "      <td>6</td>\n",
       "      <td>219</td>\n",
       "      <td>0</td>\n",
       "      <td>59</td>\n",
       "      <td>1823</td>\n",
       "      <td>...</td>\n",
       "      <td>06</td>\n",
       "      <td>NaN</td>\n",
       "      <td>NaN</td>\n",
       "      <td>NaN</td>\n",
       "      <td>NaN</td>\n",
       "      <td>NaN</td>\n",
       "      <td>NaN</td>\n",
       "      <td>NaN</td>\n",
       "      <td>NaN</td>\n",
       "      <td>NaN</td>\n",
       "    </tr>\n",
       "  </tbody>\n",
       "</table>\n",
       "<p>5 rows × 39 columns</p>\n",
       "</div>"
      ],
      "text/plain": [
       "      Total_Housing_2000 Occupancy_Status_For_Housing_Units_2000  \\\n",
       "FIPS                                                               \n",
       "02812                915                                     915   \n",
       "02924               3145                                    3145   \n",
       "03526              88262                                   88262   \n",
       "04734               2147                                    2147   \n",
       "07274               1188                                    1188   \n",
       "\n",
       "      Vacancy_Status_2000 For_Rent_2000 Rented_Not_Occupied_2000  \\\n",
       "FIPS                                                               \n",
       "02812                  26            12                        4   \n",
       "02924                 135            61                       29   \n",
       "03526                4821          2187                     1018   \n",
       "04734                 561            15                       69   \n",
       "07274                 348            18                       46   \n",
       "\n",
       "      For_Sale_Only_2000 Sold_Not_Occupied_2000  \\\n",
       "FIPS                                              \n",
       "02812                  1                      1   \n",
       "02924                  3                     11   \n",
       "03526                309                    268   \n",
       "04734                 18                    417   \n",
       "07274                  6                    219   \n",
       "\n",
       "      For_Seasonal_Recreational_Or_Occasional_Use_2000  \\\n",
       "FIPS                                                     \n",
       "02812                                                0   \n",
       "02924                                                0   \n",
       "03526                                                3   \n",
       "04734                                                0   \n",
       "07274                                                0   \n",
       "\n",
       "      For_Migrant_Workers_2000 Total_Population_2000  ... state        2010  \\\n",
       "FIPS                                                  ...                     \n",
       "02812                        8                  2797  ...    06         NaN   \n",
       "02924                       31                 12956  ...    06         NaN   \n",
       "03526                     1036                247057  ...    06  980629.082   \n",
       "04734                       42                  4232  ...    06         NaN   \n",
       "07274                       59                  1823  ...    06         NaN   \n",
       "\n",
       "             2011         2012         2013        2014         2015  \\\n",
       "FIPS                                                                   \n",
       "02812         NaN          NaN          NaN         NaN          NaN   \n",
       "02924         NaN          NaN          NaN         NaN          NaN   \n",
       "03526  906498.922  1155619.396  1207249.466  1848460.71  2086014.066   \n",
       "04734         NaN          NaN          NaN         NaN          NaN   \n",
       "07274         NaN          NaN          NaN         NaN          NaN   \n",
       "\n",
       "            2016      2017      2018  \n",
       "FIPS                                  \n",
       "02812        NaN       NaN       NaN  \n",
       "02924        NaN       NaN       NaN  \n",
       "03526  94153.496  69323.64  18864.88  \n",
       "04734        NaN       NaN       NaN  \n",
       "07274        NaN       NaN       NaN  \n",
       "\n",
       "[5 rows x 39 columns]"
      ]
     },
     "execution_count": 68,
     "metadata": {},
     "output_type": "execute_result"
    }
   ],
   "source": [
    "ca_join.head()"
   ]
  },
  {
   "cell_type": "code",
   "execution_count": 69,
   "metadata": {},
   "outputs": [],
   "source": [
    "ca_join['Total_Population_2000'] = ca_join['Total_Population_2000'].astype('i8')"
   ]
  },
  {
   "cell_type": "code",
   "execution_count": 70,
   "metadata": {},
   "outputs": [],
   "source": [
    "ca_join = ca_join.nlargest(5, 'Total_Population_2000')"
   ]
  },
  {
   "cell_type": "code",
   "execution_count": 73,
   "metadata": {},
   "outputs": [
    {
     "data": {
      "application/vnd.plotly.v1+json": {
       "config": {
        "plotlyServerURL": "https://plot.ly"
       },
       "data": [
        {
         "name": "2000_pop",
         "type": "bar",
         "x": [
          "Los Angeles city, California",
          "San Diego city, California",
          "San Jose city, California",
          "San Francisco city, California",
          "Long Beach city, California"
         ],
         "y": [
          3694820,
          1223400,
          894943,
          776733,
          461522
         ]
        },
        {
         "name": "2010_pop",
         "type": "bar",
         "x": [
          "Los Angeles city, California",
          "San Diego city, California",
          "San Jose city, California",
          "San Francisco city, California",
          "Long Beach city, California"
         ],
         "y": [
          3792621,
          1307402,
          945942,
          805235,
          462257
         ]
        },
        {
         "name": "2000_housing",
         "type": "bar",
         "x": [
          "Los Angeles city, California",
          "San Diego city, California",
          "San Jose city, California",
          "San Francisco city, California",
          "Long Beach city, California"
         ],
         "y": [
          "1337706",
          "469689",
          "281841",
          "346527",
          "171632"
         ]
        },
        {
         "name": "2010_housing",
         "type": "bar",
         "x": [
          "Los Angeles city, California",
          "San Diego city, California",
          "San Jose city, California",
          "San Francisco city, California",
          "Long Beach city, California"
         ],
         "y": [
          1413995,
          516033,
          314038,
          376942,
          176032
         ]
        },
        {
         "name": "2000_non-relatives",
         "type": "bar",
         "x": [
          "Los Angeles city, California",
          "San Diego city, California",
          "San Jose city, California",
          "San Francisco city, California",
          "Long Beach city, California"
         ],
         "y": [
          "3694820",
          "1223400",
          "894943",
          "776733",
          "461522"
         ]
        },
        {
         "name": "2010_non-relatives",
         "type": "bar",
         "x": [
          "Los Angeles city, California",
          "San Diego city, California",
          "San Jose city, California",
          "San Francisco city, California",
          "Long Beach city, California"
         ],
         "y": [
          1318168,
          483092,
          301366,
          345811,
          163531
         ]
        },
        {
         "name": "2010_direct_emissions",
         "type": "bar",
         "x": [
          "Los Angeles city, California",
          "San Diego city, California",
          "San Jose city, California",
          "San Francisco city, California",
          "Long Beach city, California"
         ],
         "y": [
          187080.422,
          186766.452,
          55118,
          678680.4120000001,
          369717.17999999993
         ]
        },
        {
         "name": "2011_direct_emissions",
         "type": "bar",
         "x": [
          "Los Angeles city, California",
          "San Diego city, California",
          "San Jose city, California",
          "San Francisco city, California",
          "Long Beach city, California"
         ],
         "y": [
          218090.474,
          255777.68199999997,
          103328.8355,
          690805.128,
          148214.962
         ]
        },
        {
         "name": "2012_direct_emissions",
         "type": "bar",
         "x": [
          "Los Angeles city, California",
          "San Diego city, California",
          "San Jose city, California",
          "San Francisco city, California",
          "Long Beach city, California"
         ],
         "y": [
          200178.014,
          276705.333,
          114345.41649999999,
          683185.6719999999,
          127038.064
         ]
        },
        {
         "name": "2013_direct_emissions",
         "type": "bar",
         "x": [
          "Los Angeles city, California",
          "San Diego city, California",
          "San Jose city, California",
          "San Francisco city, California",
          "Long Beach city, California"
         ],
         "y": [
          184307.698,
          307365.99600000004,
          143838.311,
          613796.936,
          146354.296
         ]
        },
        {
         "name": "2014_direct_emissions",
         "type": "bar",
         "x": [
          "Los Angeles city, California",
          "San Diego city, California",
          "San Jose city, California",
          "San Francisco city, California",
          "Long Beach city, California"
         ],
         "y": [
          156848.214,
          317934.85199999996,
          136031.443839,
          756452.6540000001,
          169785.49599999998
         ]
        },
        {
         "name": "2015_direct_emissions",
         "type": "bar",
         "x": [
          "Los Angeles city, California",
          "San Diego city, California",
          "San Jose city, California",
          "San Francisco city, California",
          "Long Beach city, California"
         ],
         "y": [
          147664.694,
          308697.836,
          122208.99744,
          633996.692,
          164522.234
         ]
        },
        {
         "name": "2016_direct_emissions",
         "type": "bar",
         "x": [
          "Los Angeles city, California",
          "San Diego city, California",
          "San Jose city, California",
          "San Francisco city, California",
          "Long Beach city, California"
         ],
         "y": [
          123460.714,
          323085.38800000004,
          115600.14,
          723915.476,
          186735.45799999998
         ]
        },
        {
         "name": "2017_direct_emissions",
         "type": "bar",
         "x": [
          "Los Angeles city, California",
          "San Diego city, California",
          "San Jose city, California",
          "San Francisco city, California",
          "Long Beach city, California"
         ],
         "y": [
          128564.164,
          402804.28799999994,
          73957.39,
          736106.786,
          198994.95799999998
         ]
        },
        {
         "name": "2018_direct_emissions",
         "type": "bar",
         "x": [
          "Los Angeles city, California",
          "San Diego city, California",
          "San Jose city, California",
          "San Francisco city, California",
          "Long Beach city, California"
         ],
         "y": [
          120085.86,
          165253.684,
          70869.914,
          1003249.536,
          185173.23599999998
         ]
        }
       ],
       "layout": {
        "barmode": "group",
        "template": {
         "data": {
          "bar": [
           {
            "error_x": {
             "color": "#2a3f5f"
            },
            "error_y": {
             "color": "#2a3f5f"
            },
            "marker": {
             "line": {
              "color": "#E5ECF6",
              "width": 0.5
             }
            },
            "type": "bar"
           }
          ],
          "barpolar": [
           {
            "marker": {
             "line": {
              "color": "#E5ECF6",
              "width": 0.5
             }
            },
            "type": "barpolar"
           }
          ],
          "carpet": [
           {
            "aaxis": {
             "endlinecolor": "#2a3f5f",
             "gridcolor": "white",
             "linecolor": "white",
             "minorgridcolor": "white",
             "startlinecolor": "#2a3f5f"
            },
            "baxis": {
             "endlinecolor": "#2a3f5f",
             "gridcolor": "white",
             "linecolor": "white",
             "minorgridcolor": "white",
             "startlinecolor": "#2a3f5f"
            },
            "type": "carpet"
           }
          ],
          "choropleth": [
           {
            "colorbar": {
             "outlinewidth": 0,
             "ticks": ""
            },
            "type": "choropleth"
           }
          ],
          "contour": [
           {
            "colorbar": {
             "outlinewidth": 0,
             "ticks": ""
            },
            "colorscale": [
             [
              0,
              "#0d0887"
             ],
             [
              0.1111111111111111,
              "#46039f"
             ],
             [
              0.2222222222222222,
              "#7201a8"
             ],
             [
              0.3333333333333333,
              "#9c179e"
             ],
             [
              0.4444444444444444,
              "#bd3786"
             ],
             [
              0.5555555555555556,
              "#d8576b"
             ],
             [
              0.6666666666666666,
              "#ed7953"
             ],
             [
              0.7777777777777778,
              "#fb9f3a"
             ],
             [
              0.8888888888888888,
              "#fdca26"
             ],
             [
              1,
              "#f0f921"
             ]
            ],
            "type": "contour"
           }
          ],
          "contourcarpet": [
           {
            "colorbar": {
             "outlinewidth": 0,
             "ticks": ""
            },
            "type": "contourcarpet"
           }
          ],
          "heatmap": [
           {
            "colorbar": {
             "outlinewidth": 0,
             "ticks": ""
            },
            "colorscale": [
             [
              0,
              "#0d0887"
             ],
             [
              0.1111111111111111,
              "#46039f"
             ],
             [
              0.2222222222222222,
              "#7201a8"
             ],
             [
              0.3333333333333333,
              "#9c179e"
             ],
             [
              0.4444444444444444,
              "#bd3786"
             ],
             [
              0.5555555555555556,
              "#d8576b"
             ],
             [
              0.6666666666666666,
              "#ed7953"
             ],
             [
              0.7777777777777778,
              "#fb9f3a"
             ],
             [
              0.8888888888888888,
              "#fdca26"
             ],
             [
              1,
              "#f0f921"
             ]
            ],
            "type": "heatmap"
           }
          ],
          "heatmapgl": [
           {
            "colorbar": {
             "outlinewidth": 0,
             "ticks": ""
            },
            "colorscale": [
             [
              0,
              "#0d0887"
             ],
             [
              0.1111111111111111,
              "#46039f"
             ],
             [
              0.2222222222222222,
              "#7201a8"
             ],
             [
              0.3333333333333333,
              "#9c179e"
             ],
             [
              0.4444444444444444,
              "#bd3786"
             ],
             [
              0.5555555555555556,
              "#d8576b"
             ],
             [
              0.6666666666666666,
              "#ed7953"
             ],
             [
              0.7777777777777778,
              "#fb9f3a"
             ],
             [
              0.8888888888888888,
              "#fdca26"
             ],
             [
              1,
              "#f0f921"
             ]
            ],
            "type": "heatmapgl"
           }
          ],
          "histogram": [
           {
            "marker": {
             "colorbar": {
              "outlinewidth": 0,
              "ticks": ""
             }
            },
            "type": "histogram"
           }
          ],
          "histogram2d": [
           {
            "colorbar": {
             "outlinewidth": 0,
             "ticks": ""
            },
            "colorscale": [
             [
              0,
              "#0d0887"
             ],
             [
              0.1111111111111111,
              "#46039f"
             ],
             [
              0.2222222222222222,
              "#7201a8"
             ],
             [
              0.3333333333333333,
              "#9c179e"
             ],
             [
              0.4444444444444444,
              "#bd3786"
             ],
             [
              0.5555555555555556,
              "#d8576b"
             ],
             [
              0.6666666666666666,
              "#ed7953"
             ],
             [
              0.7777777777777778,
              "#fb9f3a"
             ],
             [
              0.8888888888888888,
              "#fdca26"
             ],
             [
              1,
              "#f0f921"
             ]
            ],
            "type": "histogram2d"
           }
          ],
          "histogram2dcontour": [
           {
            "colorbar": {
             "outlinewidth": 0,
             "ticks": ""
            },
            "colorscale": [
             [
              0,
              "#0d0887"
             ],
             [
              0.1111111111111111,
              "#46039f"
             ],
             [
              0.2222222222222222,
              "#7201a8"
             ],
             [
              0.3333333333333333,
              "#9c179e"
             ],
             [
              0.4444444444444444,
              "#bd3786"
             ],
             [
              0.5555555555555556,
              "#d8576b"
             ],
             [
              0.6666666666666666,
              "#ed7953"
             ],
             [
              0.7777777777777778,
              "#fb9f3a"
             ],
             [
              0.8888888888888888,
              "#fdca26"
             ],
             [
              1,
              "#f0f921"
             ]
            ],
            "type": "histogram2dcontour"
           }
          ],
          "mesh3d": [
           {
            "colorbar": {
             "outlinewidth": 0,
             "ticks": ""
            },
            "type": "mesh3d"
           }
          ],
          "parcoords": [
           {
            "line": {
             "colorbar": {
              "outlinewidth": 0,
              "ticks": ""
             }
            },
            "type": "parcoords"
           }
          ],
          "pie": [
           {
            "automargin": true,
            "type": "pie"
           }
          ],
          "scatter": [
           {
            "marker": {
             "colorbar": {
              "outlinewidth": 0,
              "ticks": ""
             }
            },
            "type": "scatter"
           }
          ],
          "scatter3d": [
           {
            "line": {
             "colorbar": {
              "outlinewidth": 0,
              "ticks": ""
             }
            },
            "marker": {
             "colorbar": {
              "outlinewidth": 0,
              "ticks": ""
             }
            },
            "type": "scatter3d"
           }
          ],
          "scattercarpet": [
           {
            "marker": {
             "colorbar": {
              "outlinewidth": 0,
              "ticks": ""
             }
            },
            "type": "scattercarpet"
           }
          ],
          "scattergeo": [
           {
            "marker": {
             "colorbar": {
              "outlinewidth": 0,
              "ticks": ""
             }
            },
            "type": "scattergeo"
           }
          ],
          "scattergl": [
           {
            "marker": {
             "colorbar": {
              "outlinewidth": 0,
              "ticks": ""
             }
            },
            "type": "scattergl"
           }
          ],
          "scattermapbox": [
           {
            "marker": {
             "colorbar": {
              "outlinewidth": 0,
              "ticks": ""
             }
            },
            "type": "scattermapbox"
           }
          ],
          "scatterpolar": [
           {
            "marker": {
             "colorbar": {
              "outlinewidth": 0,
              "ticks": ""
             }
            },
            "type": "scatterpolar"
           }
          ],
          "scatterpolargl": [
           {
            "marker": {
             "colorbar": {
              "outlinewidth": 0,
              "ticks": ""
             }
            },
            "type": "scatterpolargl"
           }
          ],
          "scatterternary": [
           {
            "marker": {
             "colorbar": {
              "outlinewidth": 0,
              "ticks": ""
             }
            },
            "type": "scatterternary"
           }
          ],
          "surface": [
           {
            "colorbar": {
             "outlinewidth": 0,
             "ticks": ""
            },
            "colorscale": [
             [
              0,
              "#0d0887"
             ],
             [
              0.1111111111111111,
              "#46039f"
             ],
             [
              0.2222222222222222,
              "#7201a8"
             ],
             [
              0.3333333333333333,
              "#9c179e"
             ],
             [
              0.4444444444444444,
              "#bd3786"
             ],
             [
              0.5555555555555556,
              "#d8576b"
             ],
             [
              0.6666666666666666,
              "#ed7953"
             ],
             [
              0.7777777777777778,
              "#fb9f3a"
             ],
             [
              0.8888888888888888,
              "#fdca26"
             ],
             [
              1,
              "#f0f921"
             ]
            ],
            "type": "surface"
           }
          ],
          "table": [
           {
            "cells": {
             "fill": {
              "color": "#EBF0F8"
             },
             "line": {
              "color": "white"
             }
            },
            "header": {
             "fill": {
              "color": "#C8D4E3"
             },
             "line": {
              "color": "white"
             }
            },
            "type": "table"
           }
          ]
         },
         "layout": {
          "annotationdefaults": {
           "arrowcolor": "#2a3f5f",
           "arrowhead": 0,
           "arrowwidth": 1
          },
          "coloraxis": {
           "colorbar": {
            "outlinewidth": 0,
            "ticks": ""
           }
          },
          "colorscale": {
           "diverging": [
            [
             0,
             "#8e0152"
            ],
            [
             0.1,
             "#c51b7d"
            ],
            [
             0.2,
             "#de77ae"
            ],
            [
             0.3,
             "#f1b6da"
            ],
            [
             0.4,
             "#fde0ef"
            ],
            [
             0.5,
             "#f7f7f7"
            ],
            [
             0.6,
             "#e6f5d0"
            ],
            [
             0.7,
             "#b8e186"
            ],
            [
             0.8,
             "#7fbc41"
            ],
            [
             0.9,
             "#4d9221"
            ],
            [
             1,
             "#276419"
            ]
           ],
           "sequential": [
            [
             0,
             "#0d0887"
            ],
            [
             0.1111111111111111,
             "#46039f"
            ],
            [
             0.2222222222222222,
             "#7201a8"
            ],
            [
             0.3333333333333333,
             "#9c179e"
            ],
            [
             0.4444444444444444,
             "#bd3786"
            ],
            [
             0.5555555555555556,
             "#d8576b"
            ],
            [
             0.6666666666666666,
             "#ed7953"
            ],
            [
             0.7777777777777778,
             "#fb9f3a"
            ],
            [
             0.8888888888888888,
             "#fdca26"
            ],
            [
             1,
             "#f0f921"
            ]
           ],
           "sequentialminus": [
            [
             0,
             "#0d0887"
            ],
            [
             0.1111111111111111,
             "#46039f"
            ],
            [
             0.2222222222222222,
             "#7201a8"
            ],
            [
             0.3333333333333333,
             "#9c179e"
            ],
            [
             0.4444444444444444,
             "#bd3786"
            ],
            [
             0.5555555555555556,
             "#d8576b"
            ],
            [
             0.6666666666666666,
             "#ed7953"
            ],
            [
             0.7777777777777778,
             "#fb9f3a"
            ],
            [
             0.8888888888888888,
             "#fdca26"
            ],
            [
             1,
             "#f0f921"
            ]
           ]
          },
          "colorway": [
           "#636efa",
           "#EF553B",
           "#00cc96",
           "#ab63fa",
           "#FFA15A",
           "#19d3f3",
           "#FF6692",
           "#B6E880",
           "#FF97FF",
           "#FECB52"
          ],
          "font": {
           "color": "#2a3f5f"
          },
          "geo": {
           "bgcolor": "white",
           "lakecolor": "white",
           "landcolor": "#E5ECF6",
           "showlakes": true,
           "showland": true,
           "subunitcolor": "white"
          },
          "hoverlabel": {
           "align": "left"
          },
          "hovermode": "closest",
          "mapbox": {
           "style": "light"
          },
          "paper_bgcolor": "white",
          "plot_bgcolor": "#E5ECF6",
          "polar": {
           "angularaxis": {
            "gridcolor": "white",
            "linecolor": "white",
            "ticks": ""
           },
           "bgcolor": "#E5ECF6",
           "radialaxis": {
            "gridcolor": "white",
            "linecolor": "white",
            "ticks": ""
           }
          },
          "scene": {
           "xaxis": {
            "backgroundcolor": "#E5ECF6",
            "gridcolor": "white",
            "gridwidth": 2,
            "linecolor": "white",
            "showbackground": true,
            "ticks": "",
            "zerolinecolor": "white"
           },
           "yaxis": {
            "backgroundcolor": "#E5ECF6",
            "gridcolor": "white",
            "gridwidth": 2,
            "linecolor": "white",
            "showbackground": true,
            "ticks": "",
            "zerolinecolor": "white"
           },
           "zaxis": {
            "backgroundcolor": "#E5ECF6",
            "gridcolor": "white",
            "gridwidth": 2,
            "linecolor": "white",
            "showbackground": true,
            "ticks": "",
            "zerolinecolor": "white"
           }
          },
          "shapedefaults": {
           "line": {
            "color": "#2a3f5f"
           }
          },
          "ternary": {
           "aaxis": {
            "gridcolor": "white",
            "linecolor": "white",
            "ticks": ""
           },
           "baxis": {
            "gridcolor": "white",
            "linecolor": "white",
            "ticks": ""
           },
           "bgcolor": "#E5ECF6",
           "caxis": {
            "gridcolor": "white",
            "linecolor": "white",
            "ticks": ""
           }
          },
          "title": {
           "x": 0.05
          },
          "xaxis": {
           "automargin": true,
           "gridcolor": "white",
           "linecolor": "white",
           "ticks": "",
           "title": {
            "standoff": 15
           },
           "zerolinecolor": "white",
           "zerolinewidth": 2
          },
          "yaxis": {
           "automargin": true,
           "gridcolor": "white",
           "linecolor": "white",
           "ticks": "",
           "title": {
            "standoff": 15
           },
           "zerolinecolor": "white",
           "zerolinewidth": 2
          }
         }
        }
       }
      },
      "text/html": [
       "<div>\n",
       "        \n",
       "        \n",
       "            <div id=\"9f301fde-3e9e-4802-a46f-355349f5551d\" class=\"plotly-graph-div\" style=\"height:525px; width:100%;\"></div>\n",
       "            <script type=\"text/javascript\">\n",
       "                require([\"plotly\"], function(Plotly) {\n",
       "                    window.PLOTLYENV=window.PLOTLYENV || {};\n",
       "                    \n",
       "                if (document.getElementById(\"9f301fde-3e9e-4802-a46f-355349f5551d\")) {\n",
       "                    Plotly.newPlot(\n",
       "                        '9f301fde-3e9e-4802-a46f-355349f5551d',\n",
       "                        [{\"name\": \"2000_pop\", \"type\": \"bar\", \"x\": [\"Los Angeles city, California\", \"San Diego city, California\", \"San Jose city, California\", \"San Francisco city, California\", \"Long Beach city, California\"], \"y\": [3694820, 1223400, 894943, 776733, 461522]}, {\"name\": \"2010_pop\", \"type\": \"bar\", \"x\": [\"Los Angeles city, California\", \"San Diego city, California\", \"San Jose city, California\", \"San Francisco city, California\", \"Long Beach city, California\"], \"y\": [3792621.0, 1307402.0, 945942.0, 805235.0, 462257.0]}, {\"name\": \"2000_housing\", \"type\": \"bar\", \"x\": [\"Los Angeles city, California\", \"San Diego city, California\", \"San Jose city, California\", \"San Francisco city, California\", \"Long Beach city, California\"], \"y\": [\"1337706\", \"469689\", \"281841\", \"346527\", \"171632\"]}, {\"name\": \"2010_housing\", \"type\": \"bar\", \"x\": [\"Los Angeles city, California\", \"San Diego city, California\", \"San Jose city, California\", \"San Francisco city, California\", \"Long Beach city, California\"], \"y\": [1413995.0, 516033.0, 314038.0, 376942.0, 176032.0]}, {\"name\": \"2000_non-relatives\", \"type\": \"bar\", \"x\": [\"Los Angeles city, California\", \"San Diego city, California\", \"San Jose city, California\", \"San Francisco city, California\", \"Long Beach city, California\"], \"y\": [\"3694820\", \"1223400\", \"894943\", \"776733\", \"461522\"]}, {\"name\": \"2010_non-relatives\", \"type\": \"bar\", \"x\": [\"Los Angeles city, California\", \"San Diego city, California\", \"San Jose city, California\", \"San Francisco city, California\", \"Long Beach city, California\"], \"y\": [1318168.0, 483092.0, 301366.0, 345811.0, 163531.0]}, {\"name\": \"2010_direct_emissions\", \"type\": \"bar\", \"x\": [\"Los Angeles city, California\", \"San Diego city, California\", \"San Jose city, California\", \"San Francisco city, California\", \"Long Beach city, California\"], \"y\": [187080.422, 186766.452, 55118.0, 678680.4120000001, 369717.17999999993]}, {\"name\": \"2011_direct_emissions\", \"type\": \"bar\", \"x\": [\"Los Angeles city, California\", \"San Diego city, California\", \"San Jose city, California\", \"San Francisco city, California\", \"Long Beach city, California\"], \"y\": [218090.474, 255777.68199999997, 103328.8355, 690805.128, 148214.962]}, {\"name\": \"2012_direct_emissions\", \"type\": \"bar\", \"x\": [\"Los Angeles city, California\", \"San Diego city, California\", \"San Jose city, California\", \"San Francisco city, California\", \"Long Beach city, California\"], \"y\": [200178.014, 276705.333, 114345.41649999999, 683185.6719999999, 127038.064]}, {\"name\": \"2013_direct_emissions\", \"type\": \"bar\", \"x\": [\"Los Angeles city, California\", \"San Diego city, California\", \"San Jose city, California\", \"San Francisco city, California\", \"Long Beach city, California\"], \"y\": [184307.698, 307365.99600000004, 143838.311, 613796.936, 146354.296]}, {\"name\": \"2014_direct_emissions\", \"type\": \"bar\", \"x\": [\"Los Angeles city, California\", \"San Diego city, California\", \"San Jose city, California\", \"San Francisco city, California\", \"Long Beach city, California\"], \"y\": [156848.214, 317934.85199999996, 136031.443839, 756452.6540000001, 169785.49599999998]}, {\"name\": \"2015_direct_emissions\", \"type\": \"bar\", \"x\": [\"Los Angeles city, California\", \"San Diego city, California\", \"San Jose city, California\", \"San Francisco city, California\", \"Long Beach city, California\"], \"y\": [147664.694, 308697.836, 122208.99744, 633996.692, 164522.234]}, {\"name\": \"2016_direct_emissions\", \"type\": \"bar\", \"x\": [\"Los Angeles city, California\", \"San Diego city, California\", \"San Jose city, California\", \"San Francisco city, California\", \"Long Beach city, California\"], \"y\": [123460.714, 323085.38800000004, 115600.14, 723915.476, 186735.45799999998]}, {\"name\": \"2017_direct_emissions\", \"type\": \"bar\", \"x\": [\"Los Angeles city, California\", \"San Diego city, California\", \"San Jose city, California\", \"San Francisco city, California\", \"Long Beach city, California\"], \"y\": [128564.164, 402804.28799999994, 73957.39, 736106.786, 198994.95799999998]}, {\"name\": \"2018_direct_emissions\", \"type\": \"bar\", \"x\": [\"Los Angeles city, California\", \"San Diego city, California\", \"San Jose city, California\", \"San Francisco city, California\", \"Long Beach city, California\"], \"y\": [120085.86, 165253.684, 70869.914, 1003249.536, 185173.23599999998]}],\n",
       "                        {\"barmode\": \"group\", \"template\": {\"data\": {\"bar\": [{\"error_x\": {\"color\": \"#2a3f5f\"}, \"error_y\": {\"color\": \"#2a3f5f\"}, \"marker\": {\"line\": {\"color\": \"#E5ECF6\", \"width\": 0.5}}, \"type\": \"bar\"}], \"barpolar\": [{\"marker\": {\"line\": {\"color\": \"#E5ECF6\", \"width\": 0.5}}, \"type\": \"barpolar\"}], \"carpet\": [{\"aaxis\": {\"endlinecolor\": \"#2a3f5f\", \"gridcolor\": \"white\", \"linecolor\": \"white\", \"minorgridcolor\": \"white\", \"startlinecolor\": \"#2a3f5f\"}, \"baxis\": {\"endlinecolor\": \"#2a3f5f\", \"gridcolor\": \"white\", \"linecolor\": \"white\", \"minorgridcolor\": \"white\", \"startlinecolor\": \"#2a3f5f\"}, \"type\": \"carpet\"}], \"choropleth\": [{\"colorbar\": {\"outlinewidth\": 0, \"ticks\": \"\"}, \"type\": \"choropleth\"}], \"contour\": [{\"colorbar\": {\"outlinewidth\": 0, \"ticks\": \"\"}, \"colorscale\": [[0.0, \"#0d0887\"], [0.1111111111111111, \"#46039f\"], [0.2222222222222222, \"#7201a8\"], [0.3333333333333333, \"#9c179e\"], [0.4444444444444444, \"#bd3786\"], [0.5555555555555556, \"#d8576b\"], [0.6666666666666666, \"#ed7953\"], [0.7777777777777778, \"#fb9f3a\"], [0.8888888888888888, \"#fdca26\"], [1.0, \"#f0f921\"]], \"type\": \"contour\"}], \"contourcarpet\": [{\"colorbar\": {\"outlinewidth\": 0, \"ticks\": \"\"}, \"type\": \"contourcarpet\"}], \"heatmap\": [{\"colorbar\": {\"outlinewidth\": 0, \"ticks\": \"\"}, \"colorscale\": [[0.0, \"#0d0887\"], [0.1111111111111111, \"#46039f\"], [0.2222222222222222, \"#7201a8\"], [0.3333333333333333, \"#9c179e\"], [0.4444444444444444, \"#bd3786\"], [0.5555555555555556, \"#d8576b\"], [0.6666666666666666, \"#ed7953\"], [0.7777777777777778, \"#fb9f3a\"], [0.8888888888888888, \"#fdca26\"], [1.0, \"#f0f921\"]], \"type\": \"heatmap\"}], \"heatmapgl\": [{\"colorbar\": {\"outlinewidth\": 0, \"ticks\": \"\"}, \"colorscale\": [[0.0, \"#0d0887\"], [0.1111111111111111, \"#46039f\"], [0.2222222222222222, \"#7201a8\"], [0.3333333333333333, \"#9c179e\"], [0.4444444444444444, \"#bd3786\"], [0.5555555555555556, \"#d8576b\"], [0.6666666666666666, \"#ed7953\"], [0.7777777777777778, \"#fb9f3a\"], [0.8888888888888888, \"#fdca26\"], [1.0, \"#f0f921\"]], \"type\": \"heatmapgl\"}], \"histogram\": [{\"marker\": {\"colorbar\": {\"outlinewidth\": 0, \"ticks\": \"\"}}, \"type\": \"histogram\"}], \"histogram2d\": [{\"colorbar\": {\"outlinewidth\": 0, \"ticks\": \"\"}, \"colorscale\": [[0.0, \"#0d0887\"], [0.1111111111111111, \"#46039f\"], [0.2222222222222222, \"#7201a8\"], [0.3333333333333333, \"#9c179e\"], [0.4444444444444444, \"#bd3786\"], [0.5555555555555556, \"#d8576b\"], [0.6666666666666666, \"#ed7953\"], [0.7777777777777778, \"#fb9f3a\"], [0.8888888888888888, \"#fdca26\"], [1.0, \"#f0f921\"]], \"type\": \"histogram2d\"}], \"histogram2dcontour\": [{\"colorbar\": {\"outlinewidth\": 0, \"ticks\": \"\"}, \"colorscale\": [[0.0, \"#0d0887\"], [0.1111111111111111, \"#46039f\"], [0.2222222222222222, \"#7201a8\"], [0.3333333333333333, \"#9c179e\"], [0.4444444444444444, \"#bd3786\"], [0.5555555555555556, \"#d8576b\"], [0.6666666666666666, \"#ed7953\"], [0.7777777777777778, \"#fb9f3a\"], [0.8888888888888888, \"#fdca26\"], [1.0, \"#f0f921\"]], \"type\": \"histogram2dcontour\"}], \"mesh3d\": [{\"colorbar\": {\"outlinewidth\": 0, \"ticks\": \"\"}, \"type\": \"mesh3d\"}], \"parcoords\": [{\"line\": {\"colorbar\": {\"outlinewidth\": 0, \"ticks\": \"\"}}, \"type\": \"parcoords\"}], \"pie\": [{\"automargin\": true, \"type\": \"pie\"}], \"scatter\": [{\"marker\": {\"colorbar\": {\"outlinewidth\": 0, \"ticks\": \"\"}}, \"type\": \"scatter\"}], \"scatter3d\": [{\"line\": {\"colorbar\": {\"outlinewidth\": 0, \"ticks\": \"\"}}, \"marker\": {\"colorbar\": {\"outlinewidth\": 0, \"ticks\": \"\"}}, \"type\": \"scatter3d\"}], \"scattercarpet\": [{\"marker\": {\"colorbar\": {\"outlinewidth\": 0, \"ticks\": \"\"}}, \"type\": \"scattercarpet\"}], \"scattergeo\": [{\"marker\": {\"colorbar\": {\"outlinewidth\": 0, \"ticks\": \"\"}}, \"type\": \"scattergeo\"}], \"scattergl\": [{\"marker\": {\"colorbar\": {\"outlinewidth\": 0, \"ticks\": \"\"}}, \"type\": \"scattergl\"}], \"scattermapbox\": [{\"marker\": {\"colorbar\": {\"outlinewidth\": 0, \"ticks\": \"\"}}, \"type\": \"scattermapbox\"}], \"scatterpolar\": [{\"marker\": {\"colorbar\": {\"outlinewidth\": 0, \"ticks\": \"\"}}, \"type\": \"scatterpolar\"}], \"scatterpolargl\": [{\"marker\": {\"colorbar\": {\"outlinewidth\": 0, \"ticks\": \"\"}}, \"type\": \"scatterpolargl\"}], \"scatterternary\": [{\"marker\": {\"colorbar\": {\"outlinewidth\": 0, \"ticks\": \"\"}}, \"type\": \"scatterternary\"}], \"surface\": [{\"colorbar\": {\"outlinewidth\": 0, \"ticks\": \"\"}, \"colorscale\": [[0.0, \"#0d0887\"], [0.1111111111111111, \"#46039f\"], [0.2222222222222222, \"#7201a8\"], [0.3333333333333333, \"#9c179e\"], [0.4444444444444444, \"#bd3786\"], [0.5555555555555556, \"#d8576b\"], [0.6666666666666666, \"#ed7953\"], [0.7777777777777778, \"#fb9f3a\"], [0.8888888888888888, \"#fdca26\"], [1.0, \"#f0f921\"]], \"type\": \"surface\"}], \"table\": [{\"cells\": {\"fill\": {\"color\": \"#EBF0F8\"}, \"line\": {\"color\": \"white\"}}, \"header\": {\"fill\": {\"color\": \"#C8D4E3\"}, \"line\": {\"color\": \"white\"}}, \"type\": \"table\"}]}, \"layout\": {\"annotationdefaults\": {\"arrowcolor\": \"#2a3f5f\", \"arrowhead\": 0, \"arrowwidth\": 1}, \"coloraxis\": {\"colorbar\": {\"outlinewidth\": 0, \"ticks\": \"\"}}, \"colorscale\": {\"diverging\": [[0, \"#8e0152\"], [0.1, \"#c51b7d\"], [0.2, \"#de77ae\"], [0.3, \"#f1b6da\"], [0.4, \"#fde0ef\"], [0.5, \"#f7f7f7\"], [0.6, \"#e6f5d0\"], [0.7, \"#b8e186\"], [0.8, \"#7fbc41\"], [0.9, \"#4d9221\"], [1, \"#276419\"]], \"sequential\": [[0.0, \"#0d0887\"], [0.1111111111111111, \"#46039f\"], [0.2222222222222222, \"#7201a8\"], [0.3333333333333333, \"#9c179e\"], [0.4444444444444444, \"#bd3786\"], [0.5555555555555556, \"#d8576b\"], [0.6666666666666666, \"#ed7953\"], [0.7777777777777778, \"#fb9f3a\"], [0.8888888888888888, \"#fdca26\"], [1.0, \"#f0f921\"]], \"sequentialminus\": [[0.0, \"#0d0887\"], [0.1111111111111111, \"#46039f\"], [0.2222222222222222, \"#7201a8\"], [0.3333333333333333, \"#9c179e\"], [0.4444444444444444, \"#bd3786\"], [0.5555555555555556, \"#d8576b\"], [0.6666666666666666, \"#ed7953\"], [0.7777777777777778, \"#fb9f3a\"], [0.8888888888888888, \"#fdca26\"], [1.0, \"#f0f921\"]]}, \"colorway\": [\"#636efa\", \"#EF553B\", \"#00cc96\", \"#ab63fa\", \"#FFA15A\", \"#19d3f3\", \"#FF6692\", \"#B6E880\", \"#FF97FF\", \"#FECB52\"], \"font\": {\"color\": \"#2a3f5f\"}, \"geo\": {\"bgcolor\": \"white\", \"lakecolor\": \"white\", \"landcolor\": \"#E5ECF6\", \"showlakes\": true, \"showland\": true, \"subunitcolor\": \"white\"}, \"hoverlabel\": {\"align\": \"left\"}, \"hovermode\": \"closest\", \"mapbox\": {\"style\": \"light\"}, \"paper_bgcolor\": \"white\", \"plot_bgcolor\": \"#E5ECF6\", \"polar\": {\"angularaxis\": {\"gridcolor\": \"white\", \"linecolor\": \"white\", \"ticks\": \"\"}, \"bgcolor\": \"#E5ECF6\", \"radialaxis\": {\"gridcolor\": \"white\", \"linecolor\": \"white\", \"ticks\": \"\"}}, \"scene\": {\"xaxis\": {\"backgroundcolor\": \"#E5ECF6\", \"gridcolor\": \"white\", \"gridwidth\": 2, \"linecolor\": \"white\", \"showbackground\": true, \"ticks\": \"\", \"zerolinecolor\": \"white\"}, \"yaxis\": {\"backgroundcolor\": \"#E5ECF6\", \"gridcolor\": \"white\", \"gridwidth\": 2, \"linecolor\": \"white\", \"showbackground\": true, \"ticks\": \"\", \"zerolinecolor\": \"white\"}, \"zaxis\": {\"backgroundcolor\": \"#E5ECF6\", \"gridcolor\": \"white\", \"gridwidth\": 2, \"linecolor\": \"white\", \"showbackground\": true, \"ticks\": \"\", \"zerolinecolor\": \"white\"}}, \"shapedefaults\": {\"line\": {\"color\": \"#2a3f5f\"}}, \"ternary\": {\"aaxis\": {\"gridcolor\": \"white\", \"linecolor\": \"white\", \"ticks\": \"\"}, \"baxis\": {\"gridcolor\": \"white\", \"linecolor\": \"white\", \"ticks\": \"\"}, \"bgcolor\": \"#E5ECF6\", \"caxis\": {\"gridcolor\": \"white\", \"linecolor\": \"white\", \"ticks\": \"\"}}, \"title\": {\"x\": 0.05}, \"xaxis\": {\"automargin\": true, \"gridcolor\": \"white\", \"linecolor\": \"white\", \"ticks\": \"\", \"title\": {\"standoff\": 15}, \"zerolinecolor\": \"white\", \"zerolinewidth\": 2}, \"yaxis\": {\"automargin\": true, \"gridcolor\": \"white\", \"linecolor\": \"white\", \"ticks\": \"\", \"title\": {\"standoff\": 15}, \"zerolinecolor\": \"white\", \"zerolinewidth\": 2}}}},\n",
       "                        {\"responsive\": true}\n",
       "                    ).then(function(){\n",
       "                            \n",
       "var gd = document.getElementById('9f301fde-3e9e-4802-a46f-355349f5551d');\n",
       "var x = new MutationObserver(function (mutations, observer) {{\n",
       "        var display = window.getComputedStyle(gd).display;\n",
       "        if (!display || display === 'none') {{\n",
       "            console.log([gd, 'removed!']);\n",
       "            Plotly.purge(gd);\n",
       "            observer.disconnect();\n",
       "        }}\n",
       "}});\n",
       "\n",
       "// Listen for the removal of the full notebook cells\n",
       "var notebookContainer = gd.closest('#notebook-container');\n",
       "if (notebookContainer) {{\n",
       "    x.observe(notebookContainer, {childList: true});\n",
       "}}\n",
       "\n",
       "// Listen for the clearing of the current output cell\n",
       "var outputEl = gd.closest('.output');\n",
       "if (outputEl) {{\n",
       "    x.observe(outputEl, {childList: true});\n",
       "}}\n",
       "\n",
       "                        })\n",
       "                };\n",
       "                });\n",
       "            </script>\n",
       "        </div>"
      ]
     },
     "metadata": {},
     "output_type": "display_data"
    }
   ],
   "source": [
    "fig = go.Figure(data=[\n",
    "    go.Bar(name='2000_pop', x=ca_join['City_Name'], y=ca_join['Total_Population_2000']),\n",
    "    go.Bar(name='2010_pop', x=ca_join['City_Name'], y=ca_join['Total_Population_2010']),\n",
    "    go.Bar(name='2000_housing', x=ca_join['City_Name'], y=ca_join['Total_Housing_2000']),\n",
    "    go.Bar(name='2010_housing', x=ca_join['City_Name'], y=ca_join['Total_Housing_2010']),\n",
    "    go.Bar(name='2000_non-relatives', x=ca_join['City_Name'], y=ca_join['Presence_of_Non-Relatives_2000']),\n",
    "    go.Bar(name='2010_non-relatives', x=ca_join['City_Name'], y=ca_join['Presence_of_Non-Relatives_2010']),\n",
    "    go.Bar(name='2010_direct_emissions', x=ca_join['City_Name'], y=ca_join['2010']),\n",
    "    go.Bar(name='2011_direct_emissions', x=ca_join['City_Name'], y=ca_join['2011']),\n",
    "    go.Bar(name='2012_direct_emissions', x=ca_join['City_Name'], y=ca_join['2012']),\n",
    "    go.Bar(name='2013_direct_emissions', x=ca_join['City_Name'], y=ca_join['2013']),\n",
    "    go.Bar(name='2014_direct_emissions', x=ca_join['City_Name'], y=ca_join['2014']),\n",
    "    go.Bar(name='2015_direct_emissions', x=ca_join['City_Name'], y=ca_join['2015']),\n",
    "    go.Bar(name='2016_direct_emissions', x=ca_join['City_Name'], y=ca_join['2016']),\n",
    "    go.Bar(name='2017_direct_emissions', x=ca_join['City_Name'], y=ca_join['2017']),\n",
    "    go.Bar(name='2018_direct_emissions', x=ca_join['City_Name'], y=ca_join['2018'])\n",
    "])\n",
    "fig.update_layout(barmode='group')\n",
    "fig.show()"
   ]
  },
  {
   "cell_type": "markdown",
   "metadata": {},
   "source": [
    "## Get's the 5 largest cities in New York"
   ]
  },
  {
   "cell_type": "code",
   "execution_count": 86,
   "metadata": {},
   "outputs": [],
   "source": [
    "city_2010 = c.sf1.state_place(keys, states.NY.fips, '*', year=2010)\n",
    "c_pop_2010 = pd.DataFrame.from_records(city_2010)\n",
    "c_pop_2010_50000 = c_pop_2010.rename(columns=renames_2010)"
   ]
  },
  {
   "cell_type": "code",
   "execution_count": 87,
   "metadata": {},
   "outputs": [
    {
     "data": {
      "text/html": [
       "<div>\n",
       "<style scoped>\n",
       "    .dataframe tbody tr th:only-of-type {\n",
       "        vertical-align: middle;\n",
       "    }\n",
       "\n",
       "    .dataframe tbody tr th {\n",
       "        vertical-align: top;\n",
       "    }\n",
       "\n",
       "    .dataframe thead th {\n",
       "        text-align: right;\n",
       "    }\n",
       "</style>\n",
       "<table border=\"1\" class=\"dataframe\">\n",
       "  <thead>\n",
       "    <tr style=\"text-align: right;\">\n",
       "      <th></th>\n",
       "      <th>Total_Housing_2010</th>\n",
       "      <th>Occupancy_Status_For_Housing_Units_2010</th>\n",
       "      <th>Vacancy_Status_2010</th>\n",
       "      <th>For_Rent_2010</th>\n",
       "      <th>Rented_Not_Occupied_2010</th>\n",
       "      <th>For_Sale_Only_2010</th>\n",
       "      <th>Sold_Not_Occupied_2010</th>\n",
       "      <th>For_Seasonal_Recreational_Or_Occasional_Use_2010</th>\n",
       "      <th>For_Migrant_Workers_2010</th>\n",
       "      <th>City_Name</th>\n",
       "      <th>Total_Population_2010</th>\n",
       "      <th>Total_Urban_Population_2010</th>\n",
       "      <th>Total_Rural_Population_2010</th>\n",
       "      <th>Median_Age_2010</th>\n",
       "      <th>Presence_of_Non-Relatives_2010</th>\n",
       "      <th>FIPS</th>\n",
       "      <th>state</th>\n",
       "    </tr>\n",
       "  </thead>\n",
       "  <tbody>\n",
       "    <tr>\n",
       "      <th>0</th>\n",
       "      <td>265.0</td>\n",
       "      <td>265.0</td>\n",
       "      <td>49.0</td>\n",
       "      <td>9.0</td>\n",
       "      <td>0.0</td>\n",
       "      <td>9.0</td>\n",
       "      <td>6.0</td>\n",
       "      <td>13.0</td>\n",
       "      <td>0.0</td>\n",
       "      <td>Accord CDP, New York</td>\n",
       "      <td>562.0</td>\n",
       "      <td>0.0</td>\n",
       "      <td>562.0</td>\n",
       "      <td>40.3</td>\n",
       "      <td>216.0</td>\n",
       "      <td>00155</td>\n",
       "      <td>36</td>\n",
       "    </tr>\n",
       "    <tr>\n",
       "      <th>1</th>\n",
       "      <td>793.0</td>\n",
       "      <td>793.0</td>\n",
       "      <td>54.0</td>\n",
       "      <td>17.0</td>\n",
       "      <td>0.0</td>\n",
       "      <td>2.0</td>\n",
       "      <td>3.0</td>\n",
       "      <td>10.0</td>\n",
       "      <td>0.0</td>\n",
       "      <td>Adams village, New York</td>\n",
       "      <td>1775.0</td>\n",
       "      <td>1669.0</td>\n",
       "      <td>106.0</td>\n",
       "      <td>35.6</td>\n",
       "      <td>739.0</td>\n",
       "      <td>00199</td>\n",
       "      <td>36</td>\n",
       "    </tr>\n",
       "    <tr>\n",
       "      <th>2</th>\n",
       "      <td>629.0</td>\n",
       "      <td>629.0</td>\n",
       "      <td>38.0</td>\n",
       "      <td>10.0</td>\n",
       "      <td>1.0</td>\n",
       "      <td>5.0</td>\n",
       "      <td>2.0</td>\n",
       "      <td>5.0</td>\n",
       "      <td>0.0</td>\n",
       "      <td>Adams Center CDP, New York</td>\n",
       "      <td>1568.0</td>\n",
       "      <td>701.0</td>\n",
       "      <td>867.0</td>\n",
       "      <td>38.2</td>\n",
       "      <td>591.0</td>\n",
       "      <td>00232</td>\n",
       "      <td>36</td>\n",
       "    </tr>\n",
       "    <tr>\n",
       "      <th>3</th>\n",
       "      <td>770.0</td>\n",
       "      <td>770.0</td>\n",
       "      <td>73.0</td>\n",
       "      <td>22.0</td>\n",
       "      <td>4.0</td>\n",
       "      <td>10.0</td>\n",
       "      <td>0.0</td>\n",
       "      <td>12.0</td>\n",
       "      <td>0.0</td>\n",
       "      <td>Addison village, New York</td>\n",
       "      <td>1763.0</td>\n",
       "      <td>0.0</td>\n",
       "      <td>1763.0</td>\n",
       "      <td>36.7</td>\n",
       "      <td>697.0</td>\n",
       "      <td>00276</td>\n",
       "      <td>36</td>\n",
       "    </tr>\n",
       "    <tr>\n",
       "      <th>4</th>\n",
       "      <td>430.0</td>\n",
       "      <td>430.0</td>\n",
       "      <td>46.0</td>\n",
       "      <td>8.0</td>\n",
       "      <td>0.0</td>\n",
       "      <td>12.0</td>\n",
       "      <td>0.0</td>\n",
       "      <td>9.0</td>\n",
       "      <td>0.0</td>\n",
       "      <td>Afton village, New York</td>\n",
       "      <td>822.0</td>\n",
       "      <td>0.0</td>\n",
       "      <td>822.0</td>\n",
       "      <td>42.9</td>\n",
       "      <td>384.0</td>\n",
       "      <td>00342</td>\n",
       "      <td>36</td>\n",
       "    </tr>\n",
       "  </tbody>\n",
       "</table>\n",
       "</div>"
      ],
      "text/plain": [
       "   Total_Housing_2010  Occupancy_Status_For_Housing_Units_2010  \\\n",
       "0               265.0                                    265.0   \n",
       "1               793.0                                    793.0   \n",
       "2               629.0                                    629.0   \n",
       "3               770.0                                    770.0   \n",
       "4               430.0                                    430.0   \n",
       "\n",
       "   Vacancy_Status_2010  For_Rent_2010  Rented_Not_Occupied_2010  \\\n",
       "0                 49.0            9.0                       0.0   \n",
       "1                 54.0           17.0                       0.0   \n",
       "2                 38.0           10.0                       1.0   \n",
       "3                 73.0           22.0                       4.0   \n",
       "4                 46.0            8.0                       0.0   \n",
       "\n",
       "   For_Sale_Only_2010  Sold_Not_Occupied_2010  \\\n",
       "0                 9.0                     6.0   \n",
       "1                 2.0                     3.0   \n",
       "2                 5.0                     2.0   \n",
       "3                10.0                     0.0   \n",
       "4                12.0                     0.0   \n",
       "\n",
       "   For_Seasonal_Recreational_Or_Occasional_Use_2010  For_Migrant_Workers_2010  \\\n",
       "0                                              13.0                       0.0   \n",
       "1                                              10.0                       0.0   \n",
       "2                                               5.0                       0.0   \n",
       "3                                              12.0                       0.0   \n",
       "4                                               9.0                       0.0   \n",
       "\n",
       "                    City_Name  Total_Population_2010  \\\n",
       "0        Accord CDP, New York                  562.0   \n",
       "1     Adams village, New York                 1775.0   \n",
       "2  Adams Center CDP, New York                 1568.0   \n",
       "3   Addison village, New York                 1763.0   \n",
       "4     Afton village, New York                  822.0   \n",
       "\n",
       "   Total_Urban_Population_2010  Total_Rural_Population_2010  Median_Age_2010  \\\n",
       "0                          0.0                        562.0             40.3   \n",
       "1                       1669.0                        106.0             35.6   \n",
       "2                        701.0                        867.0             38.2   \n",
       "3                          0.0                       1763.0             36.7   \n",
       "4                          0.0                        822.0             42.9   \n",
       "\n",
       "   Presence_of_Non-Relatives_2010   FIPS state  \n",
       "0                           216.0  00155    36  \n",
       "1                           739.0  00199    36  \n",
       "2                           591.0  00232    36  \n",
       "3                           697.0  00276    36  \n",
       "4                           384.0  00342    36  "
      ]
     },
     "execution_count": 87,
     "metadata": {},
     "output_type": "execute_result"
    }
   ],
   "source": [
    "c_pop_2010_50000.head()"
   ]
  },
  {
   "cell_type": "code",
   "execution_count": 88,
   "metadata": {},
   "outputs": [],
   "source": [
    "city_2000 = c.sf1.state_place(keys, states.NY.fips, '*', year=2000)\n",
    "c_pop_2000 = pd.DataFrame.from_records(city_2000)\n",
    "c_pop_2000_50000 = c_pop_2000.rename(columns=renames_2000)"
   ]
  },
  {
   "cell_type": "code",
   "execution_count": 89,
   "metadata": {},
   "outputs": [],
   "source": [
    "c_pop_2000_50000.drop(columns=['City_Name', 'state'], inplace=True)"
   ]
  },
  {
   "cell_type": "code",
   "execution_count": 90,
   "metadata": {},
   "outputs": [
    {
     "data": {
      "text/html": [
       "<div>\n",
       "<style scoped>\n",
       "    .dataframe tbody tr th:only-of-type {\n",
       "        vertical-align: middle;\n",
       "    }\n",
       "\n",
       "    .dataframe tbody tr th {\n",
       "        vertical-align: top;\n",
       "    }\n",
       "\n",
       "    .dataframe thead th {\n",
       "        text-align: right;\n",
       "    }\n",
       "</style>\n",
       "<table border=\"1\" class=\"dataframe\">\n",
       "  <thead>\n",
       "    <tr style=\"text-align: right;\">\n",
       "      <th></th>\n",
       "      <th>Total_Housing_2000</th>\n",
       "      <th>Occupancy_Status_For_Housing_Units_2000</th>\n",
       "      <th>Vacancy_Status_2000</th>\n",
       "      <th>For_Rent_2000</th>\n",
       "      <th>Rented_Not_Occupied_2000</th>\n",
       "      <th>For_Sale_Only_2000</th>\n",
       "      <th>Sold_Not_Occupied_2000</th>\n",
       "      <th>For_Seasonal_Recreational_Or_Occasional_Use_2000</th>\n",
       "      <th>For_Migrant_Workers_2000</th>\n",
       "      <th>Total_Population_2000</th>\n",
       "      <th>Total_Urban_Population_2000</th>\n",
       "      <th>Total_Rural_Population_2000</th>\n",
       "      <th>Median_Age_2000</th>\n",
       "      <th>Presence_of_Non-Relatives_2000</th>\n",
       "      <th>FIPS</th>\n",
       "    </tr>\n",
       "  </thead>\n",
       "  <tbody>\n",
       "    <tr>\n",
       "      <th>0</th>\n",
       "      <td>1158</td>\n",
       "      <td>1158</td>\n",
       "      <td>86</td>\n",
       "      <td>41</td>\n",
       "      <td>11</td>\n",
       "      <td>8</td>\n",
       "      <td>8</td>\n",
       "      <td>0</td>\n",
       "      <td>18</td>\n",
       "      <td>2597</td>\n",
       "      <td>0</td>\n",
       "      <td>0</td>\n",
       "      <td>35.9</td>\n",
       "      <td>2597</td>\n",
       "      <td>03001</td>\n",
       "    </tr>\n",
       "    <tr>\n",
       "      <th>1</th>\n",
       "      <td>823</td>\n",
       "      <td>823</td>\n",
       "      <td>107</td>\n",
       "      <td>31</td>\n",
       "      <td>14</td>\n",
       "      <td>10</td>\n",
       "      <td>20</td>\n",
       "      <td>0</td>\n",
       "      <td>32</td>\n",
       "      <td>1699</td>\n",
       "      <td>0</td>\n",
       "      <td>0</td>\n",
       "      <td>37.1</td>\n",
       "      <td>1699</td>\n",
       "      <td>20346</td>\n",
       "    </tr>\n",
       "    <tr>\n",
       "      <th>2</th>\n",
       "      <td>1018</td>\n",
       "      <td>1018</td>\n",
       "      <td>103</td>\n",
       "      <td>44</td>\n",
       "      <td>18</td>\n",
       "      <td>2</td>\n",
       "      <td>3</td>\n",
       "      <td>0</td>\n",
       "      <td>36</td>\n",
       "      <td>2166</td>\n",
       "      <td>0</td>\n",
       "      <td>0</td>\n",
       "      <td>41.2</td>\n",
       "      <td>2166</td>\n",
       "      <td>20731</td>\n",
       "    </tr>\n",
       "    <tr>\n",
       "      <th>3</th>\n",
       "      <td>329</td>\n",
       "      <td>329</td>\n",
       "      <td>31</td>\n",
       "      <td>6</td>\n",
       "      <td>9</td>\n",
       "      <td>3</td>\n",
       "      <td>4</td>\n",
       "      <td>0</td>\n",
       "      <td>9</td>\n",
       "      <td>791</td>\n",
       "      <td>0</td>\n",
       "      <td>0</td>\n",
       "      <td>38.3</td>\n",
       "      <td>791</td>\n",
       "      <td>21523</td>\n",
       "    </tr>\n",
       "    <tr>\n",
       "      <th>4</th>\n",
       "      <td>5564</td>\n",
       "      <td>5564</td>\n",
       "      <td>550</td>\n",
       "      <td>287</td>\n",
       "      <td>90</td>\n",
       "      <td>47</td>\n",
       "      <td>29</td>\n",
       "      <td>2</td>\n",
       "      <td>95</td>\n",
       "      <td>13617</td>\n",
       "      <td>0</td>\n",
       "      <td>0</td>\n",
       "      <td>31.8</td>\n",
       "      <td>13617</td>\n",
       "      <td>28640</td>\n",
       "    </tr>\n",
       "  </tbody>\n",
       "</table>\n",
       "</div>"
      ],
      "text/plain": [
       "  Total_Housing_2000 Occupancy_Status_For_Housing_Units_2000  \\\n",
       "0               1158                                    1158   \n",
       "1                823                                     823   \n",
       "2               1018                                    1018   \n",
       "3                329                                     329   \n",
       "4               5564                                    5564   \n",
       "\n",
       "  Vacancy_Status_2000 For_Rent_2000 Rented_Not_Occupied_2000  \\\n",
       "0                  86            41                       11   \n",
       "1                 107            31                       14   \n",
       "2                 103            44                       18   \n",
       "3                  31             6                        9   \n",
       "4                 550           287                       90   \n",
       "\n",
       "  For_Sale_Only_2000 Sold_Not_Occupied_2000  \\\n",
       "0                  8                      8   \n",
       "1                 10                     20   \n",
       "2                  2                      3   \n",
       "3                  3                      4   \n",
       "4                 47                     29   \n",
       "\n",
       "  For_Seasonal_Recreational_Or_Occasional_Use_2000 For_Migrant_Workers_2000  \\\n",
       "0                                                0                       18   \n",
       "1                                                0                       32   \n",
       "2                                                0                       36   \n",
       "3                                                0                        9   \n",
       "4                                                2                       95   \n",
       "\n",
       "  Total_Population_2000 Total_Urban_Population_2000  \\\n",
       "0                  2597                           0   \n",
       "1                  1699                           0   \n",
       "2                  2166                           0   \n",
       "3                   791                           0   \n",
       "4                 13617                           0   \n",
       "\n",
       "  Total_Rural_Population_2000 Median_Age_2000 Presence_of_Non-Relatives_2000  \\\n",
       "0                           0            35.9                           2597   \n",
       "1                           0            37.1                           1699   \n",
       "2                           0            41.2                           2166   \n",
       "3                           0            38.3                            791   \n",
       "4                           0            31.8                          13617   \n",
       "\n",
       "    FIPS  \n",
       "0  03001  \n",
       "1  20346  \n",
       "2  20731  \n",
       "3  21523  \n",
       "4  28640  "
      ]
     },
     "execution_count": 90,
     "metadata": {},
     "output_type": "execute_result"
    }
   ],
   "source": [
    "c_pop_2000_50000.head()"
   ]
  },
  {
   "cell_type": "code",
   "execution_count": 91,
   "metadata": {},
   "outputs": [],
   "source": [
    "c_pop_2000_50000.set_index('FIPS', inplace=True)\n",
    "c_pop_2010_50000.set_index('FIPS', inplace=True)"
   ]
  },
  {
   "cell_type": "code",
   "execution_count": 92,
   "metadata": {},
   "outputs": [],
   "source": [
    "ny_join = c_pop_2000_50000.join(c_pop_2010_50000, on='FIPS')\n",
    "ny_join = ny_join.join(pivot_em, on='FIPS')"
   ]
  },
  {
   "cell_type": "code",
   "execution_count": 93,
   "metadata": {},
   "outputs": [
    {
     "data": {
      "text/html": [
       "<div>\n",
       "<style scoped>\n",
       "    .dataframe tbody tr th:only-of-type {\n",
       "        vertical-align: middle;\n",
       "    }\n",
       "\n",
       "    .dataframe tbody tr th {\n",
       "        vertical-align: top;\n",
       "    }\n",
       "\n",
       "    .dataframe thead th {\n",
       "        text-align: right;\n",
       "    }\n",
       "</style>\n",
       "<table border=\"1\" class=\"dataframe\">\n",
       "  <thead>\n",
       "    <tr style=\"text-align: right;\">\n",
       "      <th></th>\n",
       "      <th>Total_Housing_2000</th>\n",
       "      <th>Occupancy_Status_For_Housing_Units_2000</th>\n",
       "      <th>Vacancy_Status_2000</th>\n",
       "      <th>For_Rent_2000</th>\n",
       "      <th>Rented_Not_Occupied_2000</th>\n",
       "      <th>For_Sale_Only_2000</th>\n",
       "      <th>Sold_Not_Occupied_2000</th>\n",
       "      <th>For_Seasonal_Recreational_Or_Occasional_Use_2000</th>\n",
       "      <th>For_Migrant_Workers_2000</th>\n",
       "      <th>Total_Population_2000</th>\n",
       "      <th>...</th>\n",
       "      <th>state</th>\n",
       "      <th>2010</th>\n",
       "      <th>2011</th>\n",
       "      <th>2012</th>\n",
       "      <th>2013</th>\n",
       "      <th>2014</th>\n",
       "      <th>2015</th>\n",
       "      <th>2016</th>\n",
       "      <th>2017</th>\n",
       "      <th>2018</th>\n",
       "    </tr>\n",
       "    <tr>\n",
       "      <th>FIPS</th>\n",
       "      <th></th>\n",
       "      <th></th>\n",
       "      <th></th>\n",
       "      <th></th>\n",
       "      <th></th>\n",
       "      <th></th>\n",
       "      <th></th>\n",
       "      <th></th>\n",
       "      <th></th>\n",
       "      <th></th>\n",
       "      <th></th>\n",
       "      <th></th>\n",
       "      <th></th>\n",
       "      <th></th>\n",
       "      <th></th>\n",
       "      <th></th>\n",
       "      <th></th>\n",
       "      <th></th>\n",
       "      <th></th>\n",
       "      <th></th>\n",
       "      <th></th>\n",
       "    </tr>\n",
       "  </thead>\n",
       "  <tbody>\n",
       "    <tr>\n",
       "      <th>03001</th>\n",
       "      <td>1158</td>\n",
       "      <td>1158</td>\n",
       "      <td>86</td>\n",
       "      <td>41</td>\n",
       "      <td>11</td>\n",
       "      <td>8</td>\n",
       "      <td>8</td>\n",
       "      <td>0</td>\n",
       "      <td>18</td>\n",
       "      <td>2597</td>\n",
       "      <td>...</td>\n",
       "      <td>36</td>\n",
       "      <td>NaN</td>\n",
       "      <td>NaN</td>\n",
       "      <td>NaN</td>\n",
       "      <td>NaN</td>\n",
       "      <td>NaN</td>\n",
       "      <td>NaN</td>\n",
       "      <td>NaN</td>\n",
       "      <td>NaN</td>\n",
       "      <td>NaN</td>\n",
       "    </tr>\n",
       "    <tr>\n",
       "      <th>20346</th>\n",
       "      <td>823</td>\n",
       "      <td>823</td>\n",
       "      <td>107</td>\n",
       "      <td>31</td>\n",
       "      <td>14</td>\n",
       "      <td>10</td>\n",
       "      <td>20</td>\n",
       "      <td>0</td>\n",
       "      <td>32</td>\n",
       "      <td>1699</td>\n",
       "      <td>...</td>\n",
       "      <td>36</td>\n",
       "      <td>NaN</td>\n",
       "      <td>NaN</td>\n",
       "      <td>NaN</td>\n",
       "      <td>NaN</td>\n",
       "      <td>NaN</td>\n",
       "      <td>NaN</td>\n",
       "      <td>NaN</td>\n",
       "      <td>NaN</td>\n",
       "      <td>NaN</td>\n",
       "    </tr>\n",
       "    <tr>\n",
       "      <th>20731</th>\n",
       "      <td>1018</td>\n",
       "      <td>1018</td>\n",
       "      <td>103</td>\n",
       "      <td>44</td>\n",
       "      <td>18</td>\n",
       "      <td>2</td>\n",
       "      <td>3</td>\n",
       "      <td>0</td>\n",
       "      <td>36</td>\n",
       "      <td>2166</td>\n",
       "      <td>...</td>\n",
       "      <td>36</td>\n",
       "      <td>NaN</td>\n",
       "      <td>NaN</td>\n",
       "      <td>NaN</td>\n",
       "      <td>NaN</td>\n",
       "      <td>NaN</td>\n",
       "      <td>NaN</td>\n",
       "      <td>NaN</td>\n",
       "      <td>NaN</td>\n",
       "      <td>NaN</td>\n",
       "    </tr>\n",
       "    <tr>\n",
       "      <th>21523</th>\n",
       "      <td>329</td>\n",
       "      <td>329</td>\n",
       "      <td>31</td>\n",
       "      <td>6</td>\n",
       "      <td>9</td>\n",
       "      <td>3</td>\n",
       "      <td>4</td>\n",
       "      <td>0</td>\n",
       "      <td>9</td>\n",
       "      <td>791</td>\n",
       "      <td>...</td>\n",
       "      <td>36</td>\n",
       "      <td>NaN</td>\n",
       "      <td>NaN</td>\n",
       "      <td>NaN</td>\n",
       "      <td>NaN</td>\n",
       "      <td>NaN</td>\n",
       "      <td>NaN</td>\n",
       "      <td>NaN</td>\n",
       "      <td>NaN</td>\n",
       "      <td>NaN</td>\n",
       "    </tr>\n",
       "    <tr>\n",
       "      <th>28640</th>\n",
       "      <td>5564</td>\n",
       "      <td>5564</td>\n",
       "      <td>550</td>\n",
       "      <td>287</td>\n",
       "      <td>90</td>\n",
       "      <td>47</td>\n",
       "      <td>29</td>\n",
       "      <td>2</td>\n",
       "      <td>95</td>\n",
       "      <td>13617</td>\n",
       "      <td>...</td>\n",
       "      <td>36</td>\n",
       "      <td>NaN</td>\n",
       "      <td>NaN</td>\n",
       "      <td>NaN</td>\n",
       "      <td>NaN</td>\n",
       "      <td>NaN</td>\n",
       "      <td>NaN</td>\n",
       "      <td>NaN</td>\n",
       "      <td>NaN</td>\n",
       "      <td>NaN</td>\n",
       "    </tr>\n",
       "  </tbody>\n",
       "</table>\n",
       "<p>5 rows × 39 columns</p>\n",
       "</div>"
      ],
      "text/plain": [
       "      Total_Housing_2000 Occupancy_Status_For_Housing_Units_2000  \\\n",
       "FIPS                                                               \n",
       "03001               1158                                    1158   \n",
       "20346                823                                     823   \n",
       "20731               1018                                    1018   \n",
       "21523                329                                     329   \n",
       "28640               5564                                    5564   \n",
       "\n",
       "      Vacancy_Status_2000 For_Rent_2000 Rented_Not_Occupied_2000  \\\n",
       "FIPS                                                               \n",
       "03001                  86            41                       11   \n",
       "20346                 107            31                       14   \n",
       "20731                 103            44                       18   \n",
       "21523                  31             6                        9   \n",
       "28640                 550           287                       90   \n",
       "\n",
       "      For_Sale_Only_2000 Sold_Not_Occupied_2000  \\\n",
       "FIPS                                              \n",
       "03001                  8                      8   \n",
       "20346                 10                     20   \n",
       "20731                  2                      3   \n",
       "21523                  3                      4   \n",
       "28640                 47                     29   \n",
       "\n",
       "      For_Seasonal_Recreational_Or_Occasional_Use_2000  \\\n",
       "FIPS                                                     \n",
       "03001                                                0   \n",
       "20346                                                0   \n",
       "20731                                                0   \n",
       "21523                                                0   \n",
       "28640                                                2   \n",
       "\n",
       "      For_Migrant_Workers_2000 Total_Population_2000  ... state 2010 2011  \\\n",
       "FIPS                                                  ...                   \n",
       "03001                       18                  2597  ...    36  NaN  NaN   \n",
       "20346                       32                  1699  ...    36  NaN  NaN   \n",
       "20731                       36                  2166  ...    36  NaN  NaN   \n",
       "21523                        9                   791  ...    36  NaN  NaN   \n",
       "28640                       95                 13617  ...    36  NaN  NaN   \n",
       "\n",
       "      2012  2013  2014  2015  2016  2017  2018  \n",
       "FIPS                                            \n",
       "03001  NaN   NaN   NaN   NaN   NaN   NaN   NaN  \n",
       "20346  NaN   NaN   NaN   NaN   NaN   NaN   NaN  \n",
       "20731  NaN   NaN   NaN   NaN   NaN   NaN   NaN  \n",
       "21523  NaN   NaN   NaN   NaN   NaN   NaN   NaN  \n",
       "28640  NaN   NaN   NaN   NaN   NaN   NaN   NaN  \n",
       "\n",
       "[5 rows x 39 columns]"
      ]
     },
     "execution_count": 93,
     "metadata": {},
     "output_type": "execute_result"
    }
   ],
   "source": [
    "ny_join.head()"
   ]
  },
  {
   "cell_type": "code",
   "execution_count": 94,
   "metadata": {},
   "outputs": [],
   "source": [
    "ny_join['Total_Population_2000'] = ny_join['Total_Population_2000'].astype('i8')"
   ]
  },
  {
   "cell_type": "code",
   "execution_count": 95,
   "metadata": {},
   "outputs": [],
   "source": [
    "ny_join = ny_join.nlargest(5, 'Total_Population_2000')"
   ]
  },
  {
   "cell_type": "code",
   "execution_count": 97,
   "metadata": {},
   "outputs": [
    {
     "data": {
      "application/vnd.plotly.v1+json": {
       "config": {
        "plotlyServerURL": "https://plot.ly"
       },
       "data": [
        {
         "name": "2000_pop",
         "type": "bar",
         "x": [
          "New York city, New York",
          "Buffalo city, New York",
          "Rochester city, New York",
          "Yonkers city, New York",
          "Syracuse city, New York"
         ],
         "y": [
          8008278,
          292648,
          219773,
          196086,
          147306
         ]
        },
        {
         "name": "2010_pop",
         "type": "bar",
         "x": [
          "New York city, New York",
          "Buffalo city, New York",
          "Rochester city, New York",
          "Yonkers city, New York",
          "Syracuse city, New York"
         ],
         "y": [
          8175133,
          261310,
          210565,
          195976,
          145170
         ]
        },
        {
         "name": "2000_housing",
         "type": "bar",
         "x": [
          "New York city, New York",
          "Buffalo city, New York",
          "Rochester city, New York",
          "Yonkers city, New York",
          "Syracuse city, New York"
         ],
         "y": [
          "3200912",
          "145574",
          "99789",
          "77589",
          "68192"
         ]
        },
        {
         "name": "2010_housing",
         "type": "bar",
         "x": [
          "New York city, New York",
          "Buffalo city, New York",
          "Rochester city, New York",
          "Yonkers city, New York",
          "Syracuse city, New York"
         ],
         "y": [
          3371062,
          133444,
          97158,
          80389,
          64356
         ]
        },
        {
         "name": "2000_non-relatives",
         "type": "bar",
         "x": [
          "New York city, New York",
          "Buffalo city, New York",
          "Rochester city, New York",
          "Yonkers city, New York",
          "Syracuse city, New York"
         ],
         "y": [
          "8008278",
          "292648",
          "219773",
          "196086",
          "147306"
         ]
        },
        {
         "name": "2010_non-relatives",
         "type": "bar",
         "x": [
          "New York city, New York",
          "Buffalo city, New York",
          "Rochester city, New York",
          "Yonkers city, New York",
          "Syracuse city, New York"
         ],
         "y": [
          3109784,
          112536,
          87027,
          74550,
          57355
         ]
        },
        {
         "name": "2010_direct_emissions",
         "type": "bar",
         "x": [
          "Los Angeles city, California",
          "San Diego city, California",
          "San Jose city, California",
          "San Francisco city, California",
          "Long Beach city, California"
         ],
         "y": [
          187080.422,
          186766.452,
          55118,
          678680.4120000001,
          369717.17999999993
         ]
        },
        {
         "name": "2011_direct_emissions",
         "type": "bar",
         "x": [
          "Los Angeles city, California",
          "San Diego city, California",
          "San Jose city, California",
          "San Francisco city, California",
          "Long Beach city, California"
         ],
         "y": [
          218090.474,
          255777.68199999997,
          103328.8355,
          690805.128,
          148214.962
         ]
        },
        {
         "name": "2012_direct_emissions",
         "type": "bar",
         "x": [
          "Los Angeles city, California",
          "San Diego city, California",
          "San Jose city, California",
          "San Francisco city, California",
          "Long Beach city, California"
         ],
         "y": [
          200178.014,
          276705.333,
          114345.41649999999,
          683185.6719999999,
          127038.064
         ]
        },
        {
         "name": "2013_direct_emissions",
         "type": "bar",
         "x": [
          "Los Angeles city, California",
          "San Diego city, California",
          "San Jose city, California",
          "San Francisco city, California",
          "Long Beach city, California"
         ],
         "y": [
          184307.698,
          307365.99600000004,
          143838.311,
          613796.936,
          146354.296
         ]
        },
        {
         "name": "2014_direct_emissions",
         "type": "bar",
         "x": [
          "Los Angeles city, California",
          "San Diego city, California",
          "San Jose city, California",
          "San Francisco city, California",
          "Long Beach city, California"
         ],
         "y": [
          156848.214,
          317934.85199999996,
          136031.443839,
          756452.6540000001,
          169785.49599999998
         ]
        },
        {
         "name": "2015_direct_emissions",
         "type": "bar",
         "x": [
          "Los Angeles city, California",
          "San Diego city, California",
          "San Jose city, California",
          "San Francisco city, California",
          "Long Beach city, California"
         ],
         "y": [
          147664.694,
          308697.836,
          122208.99744,
          633996.692,
          164522.234
         ]
        },
        {
         "name": "2016_direct_emissions",
         "type": "bar",
         "x": [
          "Los Angeles city, California",
          "San Diego city, California",
          "San Jose city, California",
          "San Francisco city, California",
          "Long Beach city, California"
         ],
         "y": [
          123460.714,
          323085.38800000004,
          115600.14,
          723915.476,
          186735.45799999998
         ]
        },
        {
         "name": "2017_direct_emissions",
         "type": "bar",
         "x": [
          "Los Angeles city, California",
          "San Diego city, California",
          "San Jose city, California",
          "San Francisco city, California",
          "Long Beach city, California"
         ],
         "y": [
          128564.164,
          402804.28799999994,
          73957.39,
          736106.786,
          198994.95799999998
         ]
        },
        {
         "name": "2018_direct_emissions",
         "type": "bar",
         "x": [
          "Los Angeles city, California",
          "San Diego city, California",
          "San Jose city, California",
          "San Francisco city, California",
          "Long Beach city, California"
         ],
         "y": [
          120085.86,
          165253.684,
          70869.914,
          1003249.536,
          185173.23599999998
         ]
        }
       ],
       "layout": {
        "barmode": "group",
        "template": {
         "data": {
          "bar": [
           {
            "error_x": {
             "color": "#2a3f5f"
            },
            "error_y": {
             "color": "#2a3f5f"
            },
            "marker": {
             "line": {
              "color": "#E5ECF6",
              "width": 0.5
             }
            },
            "type": "bar"
           }
          ],
          "barpolar": [
           {
            "marker": {
             "line": {
              "color": "#E5ECF6",
              "width": 0.5
             }
            },
            "type": "barpolar"
           }
          ],
          "carpet": [
           {
            "aaxis": {
             "endlinecolor": "#2a3f5f",
             "gridcolor": "white",
             "linecolor": "white",
             "minorgridcolor": "white",
             "startlinecolor": "#2a3f5f"
            },
            "baxis": {
             "endlinecolor": "#2a3f5f",
             "gridcolor": "white",
             "linecolor": "white",
             "minorgridcolor": "white",
             "startlinecolor": "#2a3f5f"
            },
            "type": "carpet"
           }
          ],
          "choropleth": [
           {
            "colorbar": {
             "outlinewidth": 0,
             "ticks": ""
            },
            "type": "choropleth"
           }
          ],
          "contour": [
           {
            "colorbar": {
             "outlinewidth": 0,
             "ticks": ""
            },
            "colorscale": [
             [
              0,
              "#0d0887"
             ],
             [
              0.1111111111111111,
              "#46039f"
             ],
             [
              0.2222222222222222,
              "#7201a8"
             ],
             [
              0.3333333333333333,
              "#9c179e"
             ],
             [
              0.4444444444444444,
              "#bd3786"
             ],
             [
              0.5555555555555556,
              "#d8576b"
             ],
             [
              0.6666666666666666,
              "#ed7953"
             ],
             [
              0.7777777777777778,
              "#fb9f3a"
             ],
             [
              0.8888888888888888,
              "#fdca26"
             ],
             [
              1,
              "#f0f921"
             ]
            ],
            "type": "contour"
           }
          ],
          "contourcarpet": [
           {
            "colorbar": {
             "outlinewidth": 0,
             "ticks": ""
            },
            "type": "contourcarpet"
           }
          ],
          "heatmap": [
           {
            "colorbar": {
             "outlinewidth": 0,
             "ticks": ""
            },
            "colorscale": [
             [
              0,
              "#0d0887"
             ],
             [
              0.1111111111111111,
              "#46039f"
             ],
             [
              0.2222222222222222,
              "#7201a8"
             ],
             [
              0.3333333333333333,
              "#9c179e"
             ],
             [
              0.4444444444444444,
              "#bd3786"
             ],
             [
              0.5555555555555556,
              "#d8576b"
             ],
             [
              0.6666666666666666,
              "#ed7953"
             ],
             [
              0.7777777777777778,
              "#fb9f3a"
             ],
             [
              0.8888888888888888,
              "#fdca26"
             ],
             [
              1,
              "#f0f921"
             ]
            ],
            "type": "heatmap"
           }
          ],
          "heatmapgl": [
           {
            "colorbar": {
             "outlinewidth": 0,
             "ticks": ""
            },
            "colorscale": [
             [
              0,
              "#0d0887"
             ],
             [
              0.1111111111111111,
              "#46039f"
             ],
             [
              0.2222222222222222,
              "#7201a8"
             ],
             [
              0.3333333333333333,
              "#9c179e"
             ],
             [
              0.4444444444444444,
              "#bd3786"
             ],
             [
              0.5555555555555556,
              "#d8576b"
             ],
             [
              0.6666666666666666,
              "#ed7953"
             ],
             [
              0.7777777777777778,
              "#fb9f3a"
             ],
             [
              0.8888888888888888,
              "#fdca26"
             ],
             [
              1,
              "#f0f921"
             ]
            ],
            "type": "heatmapgl"
           }
          ],
          "histogram": [
           {
            "marker": {
             "colorbar": {
              "outlinewidth": 0,
              "ticks": ""
             }
            },
            "type": "histogram"
           }
          ],
          "histogram2d": [
           {
            "colorbar": {
             "outlinewidth": 0,
             "ticks": ""
            },
            "colorscale": [
             [
              0,
              "#0d0887"
             ],
             [
              0.1111111111111111,
              "#46039f"
             ],
             [
              0.2222222222222222,
              "#7201a8"
             ],
             [
              0.3333333333333333,
              "#9c179e"
             ],
             [
              0.4444444444444444,
              "#bd3786"
             ],
             [
              0.5555555555555556,
              "#d8576b"
             ],
             [
              0.6666666666666666,
              "#ed7953"
             ],
             [
              0.7777777777777778,
              "#fb9f3a"
             ],
             [
              0.8888888888888888,
              "#fdca26"
             ],
             [
              1,
              "#f0f921"
             ]
            ],
            "type": "histogram2d"
           }
          ],
          "histogram2dcontour": [
           {
            "colorbar": {
             "outlinewidth": 0,
             "ticks": ""
            },
            "colorscale": [
             [
              0,
              "#0d0887"
             ],
             [
              0.1111111111111111,
              "#46039f"
             ],
             [
              0.2222222222222222,
              "#7201a8"
             ],
             [
              0.3333333333333333,
              "#9c179e"
             ],
             [
              0.4444444444444444,
              "#bd3786"
             ],
             [
              0.5555555555555556,
              "#d8576b"
             ],
             [
              0.6666666666666666,
              "#ed7953"
             ],
             [
              0.7777777777777778,
              "#fb9f3a"
             ],
             [
              0.8888888888888888,
              "#fdca26"
             ],
             [
              1,
              "#f0f921"
             ]
            ],
            "type": "histogram2dcontour"
           }
          ],
          "mesh3d": [
           {
            "colorbar": {
             "outlinewidth": 0,
             "ticks": ""
            },
            "type": "mesh3d"
           }
          ],
          "parcoords": [
           {
            "line": {
             "colorbar": {
              "outlinewidth": 0,
              "ticks": ""
             }
            },
            "type": "parcoords"
           }
          ],
          "pie": [
           {
            "automargin": true,
            "type": "pie"
           }
          ],
          "scatter": [
           {
            "marker": {
             "colorbar": {
              "outlinewidth": 0,
              "ticks": ""
             }
            },
            "type": "scatter"
           }
          ],
          "scatter3d": [
           {
            "line": {
             "colorbar": {
              "outlinewidth": 0,
              "ticks": ""
             }
            },
            "marker": {
             "colorbar": {
              "outlinewidth": 0,
              "ticks": ""
             }
            },
            "type": "scatter3d"
           }
          ],
          "scattercarpet": [
           {
            "marker": {
             "colorbar": {
              "outlinewidth": 0,
              "ticks": ""
             }
            },
            "type": "scattercarpet"
           }
          ],
          "scattergeo": [
           {
            "marker": {
             "colorbar": {
              "outlinewidth": 0,
              "ticks": ""
             }
            },
            "type": "scattergeo"
           }
          ],
          "scattergl": [
           {
            "marker": {
             "colorbar": {
              "outlinewidth": 0,
              "ticks": ""
             }
            },
            "type": "scattergl"
           }
          ],
          "scattermapbox": [
           {
            "marker": {
             "colorbar": {
              "outlinewidth": 0,
              "ticks": ""
             }
            },
            "type": "scattermapbox"
           }
          ],
          "scatterpolar": [
           {
            "marker": {
             "colorbar": {
              "outlinewidth": 0,
              "ticks": ""
             }
            },
            "type": "scatterpolar"
           }
          ],
          "scatterpolargl": [
           {
            "marker": {
             "colorbar": {
              "outlinewidth": 0,
              "ticks": ""
             }
            },
            "type": "scatterpolargl"
           }
          ],
          "scatterternary": [
           {
            "marker": {
             "colorbar": {
              "outlinewidth": 0,
              "ticks": ""
             }
            },
            "type": "scatterternary"
           }
          ],
          "surface": [
           {
            "colorbar": {
             "outlinewidth": 0,
             "ticks": ""
            },
            "colorscale": [
             [
              0,
              "#0d0887"
             ],
             [
              0.1111111111111111,
              "#46039f"
             ],
             [
              0.2222222222222222,
              "#7201a8"
             ],
             [
              0.3333333333333333,
              "#9c179e"
             ],
             [
              0.4444444444444444,
              "#bd3786"
             ],
             [
              0.5555555555555556,
              "#d8576b"
             ],
             [
              0.6666666666666666,
              "#ed7953"
             ],
             [
              0.7777777777777778,
              "#fb9f3a"
             ],
             [
              0.8888888888888888,
              "#fdca26"
             ],
             [
              1,
              "#f0f921"
             ]
            ],
            "type": "surface"
           }
          ],
          "table": [
           {
            "cells": {
             "fill": {
              "color": "#EBF0F8"
             },
             "line": {
              "color": "white"
             }
            },
            "header": {
             "fill": {
              "color": "#C8D4E3"
             },
             "line": {
              "color": "white"
             }
            },
            "type": "table"
           }
          ]
         },
         "layout": {
          "annotationdefaults": {
           "arrowcolor": "#2a3f5f",
           "arrowhead": 0,
           "arrowwidth": 1
          },
          "coloraxis": {
           "colorbar": {
            "outlinewidth": 0,
            "ticks": ""
           }
          },
          "colorscale": {
           "diverging": [
            [
             0,
             "#8e0152"
            ],
            [
             0.1,
             "#c51b7d"
            ],
            [
             0.2,
             "#de77ae"
            ],
            [
             0.3,
             "#f1b6da"
            ],
            [
             0.4,
             "#fde0ef"
            ],
            [
             0.5,
             "#f7f7f7"
            ],
            [
             0.6,
             "#e6f5d0"
            ],
            [
             0.7,
             "#b8e186"
            ],
            [
             0.8,
             "#7fbc41"
            ],
            [
             0.9,
             "#4d9221"
            ],
            [
             1,
             "#276419"
            ]
           ],
           "sequential": [
            [
             0,
             "#0d0887"
            ],
            [
             0.1111111111111111,
             "#46039f"
            ],
            [
             0.2222222222222222,
             "#7201a8"
            ],
            [
             0.3333333333333333,
             "#9c179e"
            ],
            [
             0.4444444444444444,
             "#bd3786"
            ],
            [
             0.5555555555555556,
             "#d8576b"
            ],
            [
             0.6666666666666666,
             "#ed7953"
            ],
            [
             0.7777777777777778,
             "#fb9f3a"
            ],
            [
             0.8888888888888888,
             "#fdca26"
            ],
            [
             1,
             "#f0f921"
            ]
           ],
           "sequentialminus": [
            [
             0,
             "#0d0887"
            ],
            [
             0.1111111111111111,
             "#46039f"
            ],
            [
             0.2222222222222222,
             "#7201a8"
            ],
            [
             0.3333333333333333,
             "#9c179e"
            ],
            [
             0.4444444444444444,
             "#bd3786"
            ],
            [
             0.5555555555555556,
             "#d8576b"
            ],
            [
             0.6666666666666666,
             "#ed7953"
            ],
            [
             0.7777777777777778,
             "#fb9f3a"
            ],
            [
             0.8888888888888888,
             "#fdca26"
            ],
            [
             1,
             "#f0f921"
            ]
           ]
          },
          "colorway": [
           "#636efa",
           "#EF553B",
           "#00cc96",
           "#ab63fa",
           "#FFA15A",
           "#19d3f3",
           "#FF6692",
           "#B6E880",
           "#FF97FF",
           "#FECB52"
          ],
          "font": {
           "color": "#2a3f5f"
          },
          "geo": {
           "bgcolor": "white",
           "lakecolor": "white",
           "landcolor": "#E5ECF6",
           "showlakes": true,
           "showland": true,
           "subunitcolor": "white"
          },
          "hoverlabel": {
           "align": "left"
          },
          "hovermode": "closest",
          "mapbox": {
           "style": "light"
          },
          "paper_bgcolor": "white",
          "plot_bgcolor": "#E5ECF6",
          "polar": {
           "angularaxis": {
            "gridcolor": "white",
            "linecolor": "white",
            "ticks": ""
           },
           "bgcolor": "#E5ECF6",
           "radialaxis": {
            "gridcolor": "white",
            "linecolor": "white",
            "ticks": ""
           }
          },
          "scene": {
           "xaxis": {
            "backgroundcolor": "#E5ECF6",
            "gridcolor": "white",
            "gridwidth": 2,
            "linecolor": "white",
            "showbackground": true,
            "ticks": "",
            "zerolinecolor": "white"
           },
           "yaxis": {
            "backgroundcolor": "#E5ECF6",
            "gridcolor": "white",
            "gridwidth": 2,
            "linecolor": "white",
            "showbackground": true,
            "ticks": "",
            "zerolinecolor": "white"
           },
           "zaxis": {
            "backgroundcolor": "#E5ECF6",
            "gridcolor": "white",
            "gridwidth": 2,
            "linecolor": "white",
            "showbackground": true,
            "ticks": "",
            "zerolinecolor": "white"
           }
          },
          "shapedefaults": {
           "line": {
            "color": "#2a3f5f"
           }
          },
          "ternary": {
           "aaxis": {
            "gridcolor": "white",
            "linecolor": "white",
            "ticks": ""
           },
           "baxis": {
            "gridcolor": "white",
            "linecolor": "white",
            "ticks": ""
           },
           "bgcolor": "#E5ECF6",
           "caxis": {
            "gridcolor": "white",
            "linecolor": "white",
            "ticks": ""
           }
          },
          "title": {
           "x": 0.05
          },
          "xaxis": {
           "automargin": true,
           "gridcolor": "white",
           "linecolor": "white",
           "ticks": "",
           "title": {
            "standoff": 15
           },
           "zerolinecolor": "white",
           "zerolinewidth": 2
          },
          "yaxis": {
           "automargin": true,
           "gridcolor": "white",
           "linecolor": "white",
           "ticks": "",
           "title": {
            "standoff": 15
           },
           "zerolinecolor": "white",
           "zerolinewidth": 2
          }
         }
        }
       }
      },
      "text/html": [
       "<div>\n",
       "        \n",
       "        \n",
       "            <div id=\"7252284b-a134-407f-9205-04ef0b0ee0c7\" class=\"plotly-graph-div\" style=\"height:525px; width:100%;\"></div>\n",
       "            <script type=\"text/javascript\">\n",
       "                require([\"plotly\"], function(Plotly) {\n",
       "                    window.PLOTLYENV=window.PLOTLYENV || {};\n",
       "                    \n",
       "                if (document.getElementById(\"7252284b-a134-407f-9205-04ef0b0ee0c7\")) {\n",
       "                    Plotly.newPlot(\n",
       "                        '7252284b-a134-407f-9205-04ef0b0ee0c7',\n",
       "                        [{\"name\": \"2000_pop\", \"type\": \"bar\", \"x\": [\"New York city, New York\", \"Buffalo city, New York\", \"Rochester city, New York\", \"Yonkers city, New York\", \"Syracuse city, New York\"], \"y\": [8008278, 292648, 219773, 196086, 147306]}, {\"name\": \"2010_pop\", \"type\": \"bar\", \"x\": [\"New York city, New York\", \"Buffalo city, New York\", \"Rochester city, New York\", \"Yonkers city, New York\", \"Syracuse city, New York\"], \"y\": [8175133.0, 261310.0, 210565.0, 195976.0, 145170.0]}, {\"name\": \"2000_housing\", \"type\": \"bar\", \"x\": [\"New York city, New York\", \"Buffalo city, New York\", \"Rochester city, New York\", \"Yonkers city, New York\", \"Syracuse city, New York\"], \"y\": [\"3200912\", \"145574\", \"99789\", \"77589\", \"68192\"]}, {\"name\": \"2010_housing\", \"type\": \"bar\", \"x\": [\"New York city, New York\", \"Buffalo city, New York\", \"Rochester city, New York\", \"Yonkers city, New York\", \"Syracuse city, New York\"], \"y\": [3371062.0, 133444.0, 97158.0, 80389.0, 64356.0]}, {\"name\": \"2000_non-relatives\", \"type\": \"bar\", \"x\": [\"New York city, New York\", \"Buffalo city, New York\", \"Rochester city, New York\", \"Yonkers city, New York\", \"Syracuse city, New York\"], \"y\": [\"8008278\", \"292648\", \"219773\", \"196086\", \"147306\"]}, {\"name\": \"2010_non-relatives\", \"type\": \"bar\", \"x\": [\"New York city, New York\", \"Buffalo city, New York\", \"Rochester city, New York\", \"Yonkers city, New York\", \"Syracuse city, New York\"], \"y\": [3109784.0, 112536.0, 87027.0, 74550.0, 57355.0]}, {\"name\": \"2010_direct_emissions\", \"type\": \"bar\", \"x\": [\"Los Angeles city, California\", \"San Diego city, California\", \"San Jose city, California\", \"San Francisco city, California\", \"Long Beach city, California\"], \"y\": [187080.422, 186766.452, 55118.0, 678680.4120000001, 369717.17999999993]}, {\"name\": \"2011_direct_emissions\", \"type\": \"bar\", \"x\": [\"Los Angeles city, California\", \"San Diego city, California\", \"San Jose city, California\", \"San Francisco city, California\", \"Long Beach city, California\"], \"y\": [218090.474, 255777.68199999997, 103328.8355, 690805.128, 148214.962]}, {\"name\": \"2012_direct_emissions\", \"type\": \"bar\", \"x\": [\"Los Angeles city, California\", \"San Diego city, California\", \"San Jose city, California\", \"San Francisco city, California\", \"Long Beach city, California\"], \"y\": [200178.014, 276705.333, 114345.41649999999, 683185.6719999999, 127038.064]}, {\"name\": \"2013_direct_emissions\", \"type\": \"bar\", \"x\": [\"Los Angeles city, California\", \"San Diego city, California\", \"San Jose city, California\", \"San Francisco city, California\", \"Long Beach city, California\"], \"y\": [184307.698, 307365.99600000004, 143838.311, 613796.936, 146354.296]}, {\"name\": \"2014_direct_emissions\", \"type\": \"bar\", \"x\": [\"Los Angeles city, California\", \"San Diego city, California\", \"San Jose city, California\", \"San Francisco city, California\", \"Long Beach city, California\"], \"y\": [156848.214, 317934.85199999996, 136031.443839, 756452.6540000001, 169785.49599999998]}, {\"name\": \"2015_direct_emissions\", \"type\": \"bar\", \"x\": [\"Los Angeles city, California\", \"San Diego city, California\", \"San Jose city, California\", \"San Francisco city, California\", \"Long Beach city, California\"], \"y\": [147664.694, 308697.836, 122208.99744, 633996.692, 164522.234]}, {\"name\": \"2016_direct_emissions\", \"type\": \"bar\", \"x\": [\"Los Angeles city, California\", \"San Diego city, California\", \"San Jose city, California\", \"San Francisco city, California\", \"Long Beach city, California\"], \"y\": [123460.714, 323085.38800000004, 115600.14, 723915.476, 186735.45799999998]}, {\"name\": \"2017_direct_emissions\", \"type\": \"bar\", \"x\": [\"Los Angeles city, California\", \"San Diego city, California\", \"San Jose city, California\", \"San Francisco city, California\", \"Long Beach city, California\"], \"y\": [128564.164, 402804.28799999994, 73957.39, 736106.786, 198994.95799999998]}, {\"name\": \"2018_direct_emissions\", \"type\": \"bar\", \"x\": [\"Los Angeles city, California\", \"San Diego city, California\", \"San Jose city, California\", \"San Francisco city, California\", \"Long Beach city, California\"], \"y\": [120085.86, 165253.684, 70869.914, 1003249.536, 185173.23599999998]}],\n",
       "                        {\"barmode\": \"group\", \"template\": {\"data\": {\"bar\": [{\"error_x\": {\"color\": \"#2a3f5f\"}, \"error_y\": {\"color\": \"#2a3f5f\"}, \"marker\": {\"line\": {\"color\": \"#E5ECF6\", \"width\": 0.5}}, \"type\": \"bar\"}], \"barpolar\": [{\"marker\": {\"line\": {\"color\": \"#E5ECF6\", \"width\": 0.5}}, \"type\": \"barpolar\"}], \"carpet\": [{\"aaxis\": {\"endlinecolor\": \"#2a3f5f\", \"gridcolor\": \"white\", \"linecolor\": \"white\", \"minorgridcolor\": \"white\", \"startlinecolor\": \"#2a3f5f\"}, \"baxis\": {\"endlinecolor\": \"#2a3f5f\", \"gridcolor\": \"white\", \"linecolor\": \"white\", \"minorgridcolor\": \"white\", \"startlinecolor\": \"#2a3f5f\"}, \"type\": \"carpet\"}], \"choropleth\": [{\"colorbar\": {\"outlinewidth\": 0, \"ticks\": \"\"}, \"type\": \"choropleth\"}], \"contour\": [{\"colorbar\": {\"outlinewidth\": 0, \"ticks\": \"\"}, \"colorscale\": [[0.0, \"#0d0887\"], [0.1111111111111111, \"#46039f\"], [0.2222222222222222, \"#7201a8\"], [0.3333333333333333, \"#9c179e\"], [0.4444444444444444, \"#bd3786\"], [0.5555555555555556, \"#d8576b\"], [0.6666666666666666, \"#ed7953\"], [0.7777777777777778, \"#fb9f3a\"], [0.8888888888888888, \"#fdca26\"], [1.0, \"#f0f921\"]], \"type\": \"contour\"}], \"contourcarpet\": [{\"colorbar\": {\"outlinewidth\": 0, \"ticks\": \"\"}, \"type\": \"contourcarpet\"}], \"heatmap\": [{\"colorbar\": {\"outlinewidth\": 0, \"ticks\": \"\"}, \"colorscale\": [[0.0, \"#0d0887\"], [0.1111111111111111, \"#46039f\"], [0.2222222222222222, \"#7201a8\"], [0.3333333333333333, \"#9c179e\"], [0.4444444444444444, \"#bd3786\"], [0.5555555555555556, \"#d8576b\"], [0.6666666666666666, \"#ed7953\"], [0.7777777777777778, \"#fb9f3a\"], [0.8888888888888888, \"#fdca26\"], [1.0, \"#f0f921\"]], \"type\": \"heatmap\"}], \"heatmapgl\": [{\"colorbar\": {\"outlinewidth\": 0, \"ticks\": \"\"}, \"colorscale\": [[0.0, \"#0d0887\"], [0.1111111111111111, \"#46039f\"], [0.2222222222222222, \"#7201a8\"], [0.3333333333333333, \"#9c179e\"], [0.4444444444444444, \"#bd3786\"], [0.5555555555555556, \"#d8576b\"], [0.6666666666666666, \"#ed7953\"], [0.7777777777777778, \"#fb9f3a\"], [0.8888888888888888, \"#fdca26\"], [1.0, \"#f0f921\"]], \"type\": \"heatmapgl\"}], \"histogram\": [{\"marker\": {\"colorbar\": {\"outlinewidth\": 0, \"ticks\": \"\"}}, \"type\": \"histogram\"}], \"histogram2d\": [{\"colorbar\": {\"outlinewidth\": 0, \"ticks\": \"\"}, \"colorscale\": [[0.0, \"#0d0887\"], [0.1111111111111111, \"#46039f\"], [0.2222222222222222, \"#7201a8\"], [0.3333333333333333, \"#9c179e\"], [0.4444444444444444, \"#bd3786\"], [0.5555555555555556, \"#d8576b\"], [0.6666666666666666, \"#ed7953\"], [0.7777777777777778, \"#fb9f3a\"], [0.8888888888888888, \"#fdca26\"], [1.0, \"#f0f921\"]], \"type\": \"histogram2d\"}], \"histogram2dcontour\": [{\"colorbar\": {\"outlinewidth\": 0, \"ticks\": \"\"}, \"colorscale\": [[0.0, \"#0d0887\"], [0.1111111111111111, \"#46039f\"], [0.2222222222222222, \"#7201a8\"], [0.3333333333333333, \"#9c179e\"], [0.4444444444444444, \"#bd3786\"], [0.5555555555555556, \"#d8576b\"], [0.6666666666666666, \"#ed7953\"], [0.7777777777777778, \"#fb9f3a\"], [0.8888888888888888, \"#fdca26\"], [1.0, \"#f0f921\"]], \"type\": \"histogram2dcontour\"}], \"mesh3d\": [{\"colorbar\": {\"outlinewidth\": 0, \"ticks\": \"\"}, \"type\": \"mesh3d\"}], \"parcoords\": [{\"line\": {\"colorbar\": {\"outlinewidth\": 0, \"ticks\": \"\"}}, \"type\": \"parcoords\"}], \"pie\": [{\"automargin\": true, \"type\": \"pie\"}], \"scatter\": [{\"marker\": {\"colorbar\": {\"outlinewidth\": 0, \"ticks\": \"\"}}, \"type\": \"scatter\"}], \"scatter3d\": [{\"line\": {\"colorbar\": {\"outlinewidth\": 0, \"ticks\": \"\"}}, \"marker\": {\"colorbar\": {\"outlinewidth\": 0, \"ticks\": \"\"}}, \"type\": \"scatter3d\"}], \"scattercarpet\": [{\"marker\": {\"colorbar\": {\"outlinewidth\": 0, \"ticks\": \"\"}}, \"type\": \"scattercarpet\"}], \"scattergeo\": [{\"marker\": {\"colorbar\": {\"outlinewidth\": 0, \"ticks\": \"\"}}, \"type\": \"scattergeo\"}], \"scattergl\": [{\"marker\": {\"colorbar\": {\"outlinewidth\": 0, \"ticks\": \"\"}}, \"type\": \"scattergl\"}], \"scattermapbox\": [{\"marker\": {\"colorbar\": {\"outlinewidth\": 0, \"ticks\": \"\"}}, \"type\": \"scattermapbox\"}], \"scatterpolar\": [{\"marker\": {\"colorbar\": {\"outlinewidth\": 0, \"ticks\": \"\"}}, \"type\": \"scatterpolar\"}], \"scatterpolargl\": [{\"marker\": {\"colorbar\": {\"outlinewidth\": 0, \"ticks\": \"\"}}, \"type\": \"scatterpolargl\"}], \"scatterternary\": [{\"marker\": {\"colorbar\": {\"outlinewidth\": 0, \"ticks\": \"\"}}, \"type\": \"scatterternary\"}], \"surface\": [{\"colorbar\": {\"outlinewidth\": 0, \"ticks\": \"\"}, \"colorscale\": [[0.0, \"#0d0887\"], [0.1111111111111111, \"#46039f\"], [0.2222222222222222, \"#7201a8\"], [0.3333333333333333, \"#9c179e\"], [0.4444444444444444, \"#bd3786\"], [0.5555555555555556, \"#d8576b\"], [0.6666666666666666, \"#ed7953\"], [0.7777777777777778, \"#fb9f3a\"], [0.8888888888888888, \"#fdca26\"], [1.0, \"#f0f921\"]], \"type\": \"surface\"}], \"table\": [{\"cells\": {\"fill\": {\"color\": \"#EBF0F8\"}, \"line\": {\"color\": \"white\"}}, \"header\": {\"fill\": {\"color\": \"#C8D4E3\"}, \"line\": {\"color\": \"white\"}}, \"type\": \"table\"}]}, \"layout\": {\"annotationdefaults\": {\"arrowcolor\": \"#2a3f5f\", \"arrowhead\": 0, \"arrowwidth\": 1}, \"coloraxis\": {\"colorbar\": {\"outlinewidth\": 0, \"ticks\": \"\"}}, \"colorscale\": {\"diverging\": [[0, \"#8e0152\"], [0.1, \"#c51b7d\"], [0.2, \"#de77ae\"], [0.3, \"#f1b6da\"], [0.4, \"#fde0ef\"], [0.5, \"#f7f7f7\"], [0.6, \"#e6f5d0\"], [0.7, \"#b8e186\"], [0.8, \"#7fbc41\"], [0.9, \"#4d9221\"], [1, \"#276419\"]], \"sequential\": [[0.0, \"#0d0887\"], [0.1111111111111111, \"#46039f\"], [0.2222222222222222, \"#7201a8\"], [0.3333333333333333, \"#9c179e\"], [0.4444444444444444, \"#bd3786\"], [0.5555555555555556, \"#d8576b\"], [0.6666666666666666, \"#ed7953\"], [0.7777777777777778, \"#fb9f3a\"], [0.8888888888888888, \"#fdca26\"], [1.0, \"#f0f921\"]], \"sequentialminus\": [[0.0, \"#0d0887\"], [0.1111111111111111, \"#46039f\"], [0.2222222222222222, \"#7201a8\"], [0.3333333333333333, \"#9c179e\"], [0.4444444444444444, \"#bd3786\"], [0.5555555555555556, \"#d8576b\"], [0.6666666666666666, \"#ed7953\"], [0.7777777777777778, \"#fb9f3a\"], [0.8888888888888888, \"#fdca26\"], [1.0, \"#f0f921\"]]}, \"colorway\": [\"#636efa\", \"#EF553B\", \"#00cc96\", \"#ab63fa\", \"#FFA15A\", \"#19d3f3\", \"#FF6692\", \"#B6E880\", \"#FF97FF\", \"#FECB52\"], \"font\": {\"color\": \"#2a3f5f\"}, \"geo\": {\"bgcolor\": \"white\", \"lakecolor\": \"white\", \"landcolor\": \"#E5ECF6\", \"showlakes\": true, \"showland\": true, \"subunitcolor\": \"white\"}, \"hoverlabel\": {\"align\": \"left\"}, \"hovermode\": \"closest\", \"mapbox\": {\"style\": \"light\"}, \"paper_bgcolor\": \"white\", \"plot_bgcolor\": \"#E5ECF6\", \"polar\": {\"angularaxis\": {\"gridcolor\": \"white\", \"linecolor\": \"white\", \"ticks\": \"\"}, \"bgcolor\": \"#E5ECF6\", \"radialaxis\": {\"gridcolor\": \"white\", \"linecolor\": \"white\", \"ticks\": \"\"}}, \"scene\": {\"xaxis\": {\"backgroundcolor\": \"#E5ECF6\", \"gridcolor\": \"white\", \"gridwidth\": 2, \"linecolor\": \"white\", \"showbackground\": true, \"ticks\": \"\", \"zerolinecolor\": \"white\"}, \"yaxis\": {\"backgroundcolor\": \"#E5ECF6\", \"gridcolor\": \"white\", \"gridwidth\": 2, \"linecolor\": \"white\", \"showbackground\": true, \"ticks\": \"\", \"zerolinecolor\": \"white\"}, \"zaxis\": {\"backgroundcolor\": \"#E5ECF6\", \"gridcolor\": \"white\", \"gridwidth\": 2, \"linecolor\": \"white\", \"showbackground\": true, \"ticks\": \"\", \"zerolinecolor\": \"white\"}}, \"shapedefaults\": {\"line\": {\"color\": \"#2a3f5f\"}}, \"ternary\": {\"aaxis\": {\"gridcolor\": \"white\", \"linecolor\": \"white\", \"ticks\": \"\"}, \"baxis\": {\"gridcolor\": \"white\", \"linecolor\": \"white\", \"ticks\": \"\"}, \"bgcolor\": \"#E5ECF6\", \"caxis\": {\"gridcolor\": \"white\", \"linecolor\": \"white\", \"ticks\": \"\"}}, \"title\": {\"x\": 0.05}, \"xaxis\": {\"automargin\": true, \"gridcolor\": \"white\", \"linecolor\": \"white\", \"ticks\": \"\", \"title\": {\"standoff\": 15}, \"zerolinecolor\": \"white\", \"zerolinewidth\": 2}, \"yaxis\": {\"automargin\": true, \"gridcolor\": \"white\", \"linecolor\": \"white\", \"ticks\": \"\", \"title\": {\"standoff\": 15}, \"zerolinecolor\": \"white\", \"zerolinewidth\": 2}}}},\n",
       "                        {\"responsive\": true}\n",
       "                    ).then(function(){\n",
       "                            \n",
       "var gd = document.getElementById('7252284b-a134-407f-9205-04ef0b0ee0c7');\n",
       "var x = new MutationObserver(function (mutations, observer) {{\n",
       "        var display = window.getComputedStyle(gd).display;\n",
       "        if (!display || display === 'none') {{\n",
       "            console.log([gd, 'removed!']);\n",
       "            Plotly.purge(gd);\n",
       "            observer.disconnect();\n",
       "        }}\n",
       "}});\n",
       "\n",
       "// Listen for the removal of the full notebook cells\n",
       "var notebookContainer = gd.closest('#notebook-container');\n",
       "if (notebookContainer) {{\n",
       "    x.observe(notebookContainer, {childList: true});\n",
       "}}\n",
       "\n",
       "// Listen for the clearing of the current output cell\n",
       "var outputEl = gd.closest('.output');\n",
       "if (outputEl) {{\n",
       "    x.observe(outputEl, {childList: true});\n",
       "}}\n",
       "\n",
       "                        })\n",
       "                };\n",
       "                });\n",
       "            </script>\n",
       "        </div>"
      ]
     },
     "metadata": {},
     "output_type": "display_data"
    }
   ],
   "source": [
    "fig = go.Figure(data=[\n",
    "    go.Bar(name='2000_pop', x=ny_join['City_Name'], y=ny_join['Total_Population_2000']),\n",
    "    go.Bar(name='2010_pop', x=ny_join['City_Name'], y=ny_join['Total_Population_2010']),\n",
    "    go.Bar(name='2000_housing', x=ny_join['City_Name'], y=ny_join['Total_Housing_2000']),\n",
    "    go.Bar(name='2010_housing', x=ny_join['City_Name'], y=ny_join['Total_Housing_2010']),\n",
    "    go.Bar(name='2000_non-relatives', x=ny_join['City_Name'], y=ny_join['Presence_of_Non-Relatives_2000']),\n",
    "    go.Bar(name='2010_non-relatives', x=ny_join['City_Name'], y=ny_join['Presence_of_Non-Relatives_2010']),\n",
    "    go.Bar(name='2010_direct_emissions', x=ca_join['City_Name'], y=ca_join['2010']),\n",
    "    go.Bar(name='2011_direct_emissions', x=ca_join['City_Name'], y=ca_join['2011']),\n",
    "    go.Bar(name='2012_direct_emissions', x=ca_join['City_Name'], y=ca_join['2012']),\n",
    "    go.Bar(name='2013_direct_emissions', x=ca_join['City_Name'], y=ca_join['2013']),\n",
    "    go.Bar(name='2014_direct_emissions', x=ca_join['City_Name'], y=ca_join['2014']),\n",
    "    go.Bar(name='2015_direct_emissions', x=ca_join['City_Name'], y=ca_join['2015']),\n",
    "    go.Bar(name='2016_direct_emissions', x=ca_join['City_Name'], y=ca_join['2016']),\n",
    "    go.Bar(name='2017_direct_emissions', x=ca_join['City_Name'], y=ca_join['2017']),\n",
    "    go.Bar(name='2018_direct_emissions', x=ca_join['City_Name'], y=ca_join['2018'])\n",
    "\n",
    "])\n",
    "fig.update_layout(barmode='group')\n",
    "fig.show()"
   ]
  },
  {
   "cell_type": "markdown",
   "metadata": {},
   "source": [
    "## Get's the 5 largest cities in Idaho"
   ]
  },
  {
   "cell_type": "code",
   "execution_count": 98,
   "metadata": {},
   "outputs": [],
   "source": [
    "city_2010 = c.sf1.state_place(keys, states.ID.fips, '*', year=2010)\n",
    "c_pop_2010 = pd.DataFrame.from_records(city_2010)\n",
    "c_pop_2010_50000 = c_pop_2010.rename(columns=renames_2010)"
   ]
  },
  {
   "cell_type": "code",
   "execution_count": 99,
   "metadata": {},
   "outputs": [
    {
     "data": {
      "text/html": [
       "<div>\n",
       "<style scoped>\n",
       "    .dataframe tbody tr th:only-of-type {\n",
       "        vertical-align: middle;\n",
       "    }\n",
       "\n",
       "    .dataframe tbody tr th {\n",
       "        vertical-align: top;\n",
       "    }\n",
       "\n",
       "    .dataframe thead th {\n",
       "        text-align: right;\n",
       "    }\n",
       "</style>\n",
       "<table border=\"1\" class=\"dataframe\">\n",
       "  <thead>\n",
       "    <tr style=\"text-align: right;\">\n",
       "      <th></th>\n",
       "      <th>Total_Housing_2010</th>\n",
       "      <th>Occupancy_Status_For_Housing_Units_2010</th>\n",
       "      <th>Vacancy_Status_2010</th>\n",
       "      <th>For_Rent_2010</th>\n",
       "      <th>Rented_Not_Occupied_2010</th>\n",
       "      <th>For_Sale_Only_2010</th>\n",
       "      <th>Sold_Not_Occupied_2010</th>\n",
       "      <th>For_Seasonal_Recreational_Or_Occasional_Use_2010</th>\n",
       "      <th>For_Migrant_Workers_2010</th>\n",
       "      <th>City_Name</th>\n",
       "      <th>Total_Population_2010</th>\n",
       "      <th>Total_Urban_Population_2010</th>\n",
       "      <th>Total_Rural_Population_2010</th>\n",
       "      <th>Median_Age_2010</th>\n",
       "      <th>Presence_of_Non-Relatives_2010</th>\n",
       "      <th>FIPS</th>\n",
       "      <th>state</th>\n",
       "    </tr>\n",
       "  </thead>\n",
       "  <tbody>\n",
       "    <tr>\n",
       "      <th>0</th>\n",
       "      <td>667.0</td>\n",
       "      <td>667.0</td>\n",
       "      <td>52.0</td>\n",
       "      <td>4.0</td>\n",
       "      <td>1.0</td>\n",
       "      <td>14.0</td>\n",
       "      <td>2.0</td>\n",
       "      <td>6.0</td>\n",
       "      <td>0.0</td>\n",
       "      <td>Aberdeen city, Idaho</td>\n",
       "      <td>1994.0</td>\n",
       "      <td>0.0</td>\n",
       "      <td>1994.0</td>\n",
       "      <td>28.1</td>\n",
       "      <td>615.0</td>\n",
       "      <td>00100</td>\n",
       "      <td>16</td>\n",
       "    </tr>\n",
       "    <tr>\n",
       "      <th>1</th>\n",
       "      <td>45.0</td>\n",
       "      <td>45.0</td>\n",
       "      <td>2.0</td>\n",
       "      <td>0.0</td>\n",
       "      <td>0.0</td>\n",
       "      <td>0.0</td>\n",
       "      <td>0.0</td>\n",
       "      <td>0.0</td>\n",
       "      <td>0.0</td>\n",
       "      <td>Acequia city, Idaho</td>\n",
       "      <td>124.0</td>\n",
       "      <td>0.0</td>\n",
       "      <td>124.0</td>\n",
       "      <td>36.0</td>\n",
       "      <td>43.0</td>\n",
       "      <td>00280</td>\n",
       "      <td>16</td>\n",
       "    </tr>\n",
       "    <tr>\n",
       "      <th>2</th>\n",
       "      <td>138.0</td>\n",
       "      <td>138.0</td>\n",
       "      <td>25.0</td>\n",
       "      <td>6.0</td>\n",
       "      <td>1.0</td>\n",
       "      <td>4.0</td>\n",
       "      <td>3.0</td>\n",
       "      <td>5.0</td>\n",
       "      <td>1.0</td>\n",
       "      <td>Albion city, Idaho</td>\n",
       "      <td>267.0</td>\n",
       "      <td>0.0</td>\n",
       "      <td>267.0</td>\n",
       "      <td>42.8</td>\n",
       "      <td>113.0</td>\n",
       "      <td>01000</td>\n",
       "      <td>16</td>\n",
       "    </tr>\n",
       "    <tr>\n",
       "      <th>3</th>\n",
       "      <td>1612.0</td>\n",
       "      <td>1612.0</td>\n",
       "      <td>138.0</td>\n",
       "      <td>45.0</td>\n",
       "      <td>4.0</td>\n",
       "      <td>32.0</td>\n",
       "      <td>5.0</td>\n",
       "      <td>6.0</td>\n",
       "      <td>2.0</td>\n",
       "      <td>American Falls city, Idaho</td>\n",
       "      <td>4457.0</td>\n",
       "      <td>4450.0</td>\n",
       "      <td>7.0</td>\n",
       "      <td>30.2</td>\n",
       "      <td>1474.0</td>\n",
       "      <td>01900</td>\n",
       "      <td>16</td>\n",
       "    </tr>\n",
       "    <tr>\n",
       "      <th>4</th>\n",
       "      <td>4747.0</td>\n",
       "      <td>4747.0</td>\n",
       "      <td>271.0</td>\n",
       "      <td>87.0</td>\n",
       "      <td>7.0</td>\n",
       "      <td>74.0</td>\n",
       "      <td>9.0</td>\n",
       "      <td>37.0</td>\n",
       "      <td>1.0</td>\n",
       "      <td>Ammon city, Idaho</td>\n",
       "      <td>13816.0</td>\n",
       "      <td>13693.0</td>\n",
       "      <td>123.0</td>\n",
       "      <td>29.6</td>\n",
       "      <td>4476.0</td>\n",
       "      <td>01990</td>\n",
       "      <td>16</td>\n",
       "    </tr>\n",
       "  </tbody>\n",
       "</table>\n",
       "</div>"
      ],
      "text/plain": [
       "   Total_Housing_2010  Occupancy_Status_For_Housing_Units_2010  \\\n",
       "0               667.0                                    667.0   \n",
       "1                45.0                                     45.0   \n",
       "2               138.0                                    138.0   \n",
       "3              1612.0                                   1612.0   \n",
       "4              4747.0                                   4747.0   \n",
       "\n",
       "   Vacancy_Status_2010  For_Rent_2010  Rented_Not_Occupied_2010  \\\n",
       "0                 52.0            4.0                       1.0   \n",
       "1                  2.0            0.0                       0.0   \n",
       "2                 25.0            6.0                       1.0   \n",
       "3                138.0           45.0                       4.0   \n",
       "4                271.0           87.0                       7.0   \n",
       "\n",
       "   For_Sale_Only_2010  Sold_Not_Occupied_2010  \\\n",
       "0                14.0                     2.0   \n",
       "1                 0.0                     0.0   \n",
       "2                 4.0                     3.0   \n",
       "3                32.0                     5.0   \n",
       "4                74.0                     9.0   \n",
       "\n",
       "   For_Seasonal_Recreational_Or_Occasional_Use_2010  For_Migrant_Workers_2010  \\\n",
       "0                                               6.0                       0.0   \n",
       "1                                               0.0                       0.0   \n",
       "2                                               5.0                       1.0   \n",
       "3                                               6.0                       2.0   \n",
       "4                                              37.0                       1.0   \n",
       "\n",
       "                    City_Name  Total_Population_2010  \\\n",
       "0        Aberdeen city, Idaho                 1994.0   \n",
       "1         Acequia city, Idaho                  124.0   \n",
       "2          Albion city, Idaho                  267.0   \n",
       "3  American Falls city, Idaho                 4457.0   \n",
       "4           Ammon city, Idaho                13816.0   \n",
       "\n",
       "   Total_Urban_Population_2010  Total_Rural_Population_2010  Median_Age_2010  \\\n",
       "0                          0.0                       1994.0             28.1   \n",
       "1                          0.0                        124.0             36.0   \n",
       "2                          0.0                        267.0             42.8   \n",
       "3                       4450.0                          7.0             30.2   \n",
       "4                      13693.0                        123.0             29.6   \n",
       "\n",
       "   Presence_of_Non-Relatives_2010   FIPS state  \n",
       "0                           615.0  00100    16  \n",
       "1                            43.0  00280    16  \n",
       "2                           113.0  01000    16  \n",
       "3                          1474.0  01900    16  \n",
       "4                          4476.0  01990    16  "
      ]
     },
     "execution_count": 99,
     "metadata": {},
     "output_type": "execute_result"
    }
   ],
   "source": [
    "c_pop_2010_50000.head()"
   ]
  },
  {
   "cell_type": "code",
   "execution_count": 100,
   "metadata": {},
   "outputs": [],
   "source": [
    "city_2000 = c.sf1.state_place(keys, states.ID.fips, '*', year=2000)\n",
    "c_pop_2000 = pd.DataFrame.from_records(city_2000)\n",
    "c_pop_2000_50000 = c_pop_2000.rename(columns=renames_2000)"
   ]
  },
  {
   "cell_type": "code",
   "execution_count": 101,
   "metadata": {},
   "outputs": [],
   "source": [
    "c_pop_2000_50000.drop(columns=['City_Name', 'state'], inplace=True)"
   ]
  },
  {
   "cell_type": "code",
   "execution_count": 102,
   "metadata": {},
   "outputs": [
    {
     "data": {
      "text/html": [
       "<div>\n",
       "<style scoped>\n",
       "    .dataframe tbody tr th:only-of-type {\n",
       "        vertical-align: middle;\n",
       "    }\n",
       "\n",
       "    .dataframe tbody tr th {\n",
       "        vertical-align: top;\n",
       "    }\n",
       "\n",
       "    .dataframe thead th {\n",
       "        text-align: right;\n",
       "    }\n",
       "</style>\n",
       "<table border=\"1\" class=\"dataframe\">\n",
       "  <thead>\n",
       "    <tr style=\"text-align: right;\">\n",
       "      <th></th>\n",
       "      <th>Total_Housing_2000</th>\n",
       "      <th>Occupancy_Status_For_Housing_Units_2000</th>\n",
       "      <th>Vacancy_Status_2000</th>\n",
       "      <th>For_Rent_2000</th>\n",
       "      <th>Rented_Not_Occupied_2000</th>\n",
       "      <th>For_Sale_Only_2000</th>\n",
       "      <th>Sold_Not_Occupied_2000</th>\n",
       "      <th>For_Seasonal_Recreational_Or_Occasional_Use_2000</th>\n",
       "      <th>For_Migrant_Workers_2000</th>\n",
       "      <th>Total_Population_2000</th>\n",
       "      <th>Total_Urban_Population_2000</th>\n",
       "      <th>Total_Rural_Population_2000</th>\n",
       "      <th>Median_Age_2000</th>\n",
       "      <th>Presence_of_Non-Relatives_2000</th>\n",
       "      <th>FIPS</th>\n",
       "    </tr>\n",
       "  </thead>\n",
       "  <tbody>\n",
       "    <tr>\n",
       "      <th>0</th>\n",
       "      <td>1088</td>\n",
       "      <td>1088</td>\n",
       "      <td>119</td>\n",
       "      <td>22</td>\n",
       "      <td>17</td>\n",
       "      <td>2</td>\n",
       "      <td>9</td>\n",
       "      <td>1</td>\n",
       "      <td>68</td>\n",
       "      <td>3193</td>\n",
       "      <td>0</td>\n",
       "      <td>0</td>\n",
       "      <td>27.9</td>\n",
       "      <td>3193</td>\n",
       "      <td>28360</td>\n",
       "    </tr>\n",
       "    <tr>\n",
       "      <th>1</th>\n",
       "      <td>20627</td>\n",
       "      <td>20627</td>\n",
       "      <td>1293</td>\n",
       "      <td>556</td>\n",
       "      <td>298</td>\n",
       "      <td>87</td>\n",
       "      <td>84</td>\n",
       "      <td>1</td>\n",
       "      <td>267</td>\n",
       "      <td>51466</td>\n",
       "      <td>0</td>\n",
       "      <td>0</td>\n",
       "      <td>28.8</td>\n",
       "      <td>51466</td>\n",
       "      <td>64090</td>\n",
       "    </tr>\n",
       "    <tr>\n",
       "      <th>2</th>\n",
       "      <td>77850</td>\n",
       "      <td>77850</td>\n",
       "      <td>3412</td>\n",
       "      <td>1463</td>\n",
       "      <td>739</td>\n",
       "      <td>302</td>\n",
       "      <td>353</td>\n",
       "      <td>1</td>\n",
       "      <td>554</td>\n",
       "      <td>185787</td>\n",
       "      <td>0</td>\n",
       "      <td>0</td>\n",
       "      <td>32.8</td>\n",
       "      <td>185787</td>\n",
       "      <td>08830</td>\n",
       "    </tr>\n",
       "    <tr>\n",
       "      <th>3</th>\n",
       "      <td>9603</td>\n",
       "      <td>9603</td>\n",
       "      <td>640</td>\n",
       "      <td>268</td>\n",
       "      <td>152</td>\n",
       "      <td>40</td>\n",
       "      <td>23</td>\n",
       "      <td>1</td>\n",
       "      <td>156</td>\n",
       "      <td>25967</td>\n",
       "      <td>0</td>\n",
       "      <td>0</td>\n",
       "      <td>28.8</td>\n",
       "      <td>25967</td>\n",
       "      <td>12250</td>\n",
       "    </tr>\n",
       "    <tr>\n",
       "      <th>4</th>\n",
       "      <td>4048</td>\n",
       "      <td>4048</td>\n",
       "      <td>184</td>\n",
       "      <td>28</td>\n",
       "      <td>81</td>\n",
       "      <td>18</td>\n",
       "      <td>15</td>\n",
       "      <td>0</td>\n",
       "      <td>42</td>\n",
       "      <td>11085</td>\n",
       "      <td>0</td>\n",
       "      <td>0</td>\n",
       "      <td>35.2</td>\n",
       "      <td>11085</td>\n",
       "      <td>23410</td>\n",
       "    </tr>\n",
       "  </tbody>\n",
       "</table>\n",
       "</div>"
      ],
      "text/plain": [
       "  Total_Housing_2000 Occupancy_Status_For_Housing_Units_2000  \\\n",
       "0               1088                                    1088   \n",
       "1              20627                                   20627   \n",
       "2              77850                                   77850   \n",
       "3               9603                                    9603   \n",
       "4               4048                                    4048   \n",
       "\n",
       "  Vacancy_Status_2000 For_Rent_2000 Rented_Not_Occupied_2000  \\\n",
       "0                 119            22                       17   \n",
       "1                1293           556                      298   \n",
       "2                3412          1463                      739   \n",
       "3                 640           268                      152   \n",
       "4                 184            28                       81   \n",
       "\n",
       "  For_Sale_Only_2000 Sold_Not_Occupied_2000  \\\n",
       "0                  2                      9   \n",
       "1                 87                     84   \n",
       "2                302                    353   \n",
       "3                 40                     23   \n",
       "4                 18                     15   \n",
       "\n",
       "  For_Seasonal_Recreational_Or_Occasional_Use_2000 For_Migrant_Workers_2000  \\\n",
       "0                                                1                       68   \n",
       "1                                                1                      267   \n",
       "2                                                1                      554   \n",
       "3                                                1                      156   \n",
       "4                                                0                       42   \n",
       "\n",
       "  Total_Population_2000 Total_Urban_Population_2000  \\\n",
       "0                  3193                           0   \n",
       "1                 51466                           0   \n",
       "2                185787                           0   \n",
       "3                 25967                           0   \n",
       "4                 11085                           0   \n",
       "\n",
       "  Total_Rural_Population_2000 Median_Age_2000 Presence_of_Non-Relatives_2000  \\\n",
       "0                           0            27.9                           3193   \n",
       "1                           0            28.8                          51466   \n",
       "2                           0            32.8                         185787   \n",
       "3                           0            28.8                          25967   \n",
       "4                           0            35.2                          11085   \n",
       "\n",
       "    FIPS  \n",
       "0  28360  \n",
       "1  64090  \n",
       "2  08830  \n",
       "3  12250  \n",
       "4  23410  "
      ]
     },
     "execution_count": 102,
     "metadata": {},
     "output_type": "execute_result"
    }
   ],
   "source": [
    "c_pop_2000_50000.head()"
   ]
  },
  {
   "cell_type": "code",
   "execution_count": 103,
   "metadata": {},
   "outputs": [],
   "source": [
    "c_pop_2000_50000.set_index('FIPS', inplace=True)\n",
    "c_pop_2010_50000.set_index('FIPS', inplace=True)"
   ]
  },
  {
   "cell_type": "code",
   "execution_count": 104,
   "metadata": {},
   "outputs": [],
   "source": [
    "id_join = c_pop_2000_50000.join(c_pop_2010_50000, on='FIPS')\n",
    "id_join = id_join.join(pivot_em, on='FIPS')"
   ]
  },
  {
   "cell_type": "code",
   "execution_count": 105,
   "metadata": {},
   "outputs": [
    {
     "data": {
      "text/html": [
       "<div>\n",
       "<style scoped>\n",
       "    .dataframe tbody tr th:only-of-type {\n",
       "        vertical-align: middle;\n",
       "    }\n",
       "\n",
       "    .dataframe tbody tr th {\n",
       "        vertical-align: top;\n",
       "    }\n",
       "\n",
       "    .dataframe thead th {\n",
       "        text-align: right;\n",
       "    }\n",
       "</style>\n",
       "<table border=\"1\" class=\"dataframe\">\n",
       "  <thead>\n",
       "    <tr style=\"text-align: right;\">\n",
       "      <th></th>\n",
       "      <th>Total_Housing_2000</th>\n",
       "      <th>Occupancy_Status_For_Housing_Units_2000</th>\n",
       "      <th>Vacancy_Status_2000</th>\n",
       "      <th>For_Rent_2000</th>\n",
       "      <th>Rented_Not_Occupied_2000</th>\n",
       "      <th>For_Sale_Only_2000</th>\n",
       "      <th>Sold_Not_Occupied_2000</th>\n",
       "      <th>For_Seasonal_Recreational_Or_Occasional_Use_2000</th>\n",
       "      <th>For_Migrant_Workers_2000</th>\n",
       "      <th>Total_Population_2000</th>\n",
       "      <th>...</th>\n",
       "      <th>state</th>\n",
       "      <th>2010</th>\n",
       "      <th>2011</th>\n",
       "      <th>2012</th>\n",
       "      <th>2013</th>\n",
       "      <th>2014</th>\n",
       "      <th>2015</th>\n",
       "      <th>2016</th>\n",
       "      <th>2017</th>\n",
       "      <th>2018</th>\n",
       "    </tr>\n",
       "    <tr>\n",
       "      <th>FIPS</th>\n",
       "      <th></th>\n",
       "      <th></th>\n",
       "      <th></th>\n",
       "      <th></th>\n",
       "      <th></th>\n",
       "      <th></th>\n",
       "      <th></th>\n",
       "      <th></th>\n",
       "      <th></th>\n",
       "      <th></th>\n",
       "      <th></th>\n",
       "      <th></th>\n",
       "      <th></th>\n",
       "      <th></th>\n",
       "      <th></th>\n",
       "      <th></th>\n",
       "      <th></th>\n",
       "      <th></th>\n",
       "      <th></th>\n",
       "      <th></th>\n",
       "      <th></th>\n",
       "    </tr>\n",
       "  </thead>\n",
       "  <tbody>\n",
       "    <tr>\n",
       "      <th>28360</th>\n",
       "      <td>1088</td>\n",
       "      <td>1088</td>\n",
       "      <td>119</td>\n",
       "      <td>22</td>\n",
       "      <td>17</td>\n",
       "      <td>2</td>\n",
       "      <td>9</td>\n",
       "      <td>1</td>\n",
       "      <td>68</td>\n",
       "      <td>3193</td>\n",
       "      <td>...</td>\n",
       "      <td>16</td>\n",
       "      <td>NaN</td>\n",
       "      <td>NaN</td>\n",
       "      <td>NaN</td>\n",
       "      <td>NaN</td>\n",
       "      <td>NaN</td>\n",
       "      <td>NaN</td>\n",
       "      <td>NaN</td>\n",
       "      <td>NaN</td>\n",
       "      <td>NaN</td>\n",
       "    </tr>\n",
       "    <tr>\n",
       "      <th>64090</th>\n",
       "      <td>20627</td>\n",
       "      <td>20627</td>\n",
       "      <td>1293</td>\n",
       "      <td>556</td>\n",
       "      <td>298</td>\n",
       "      <td>87</td>\n",
       "      <td>84</td>\n",
       "      <td>1</td>\n",
       "      <td>267</td>\n",
       "      <td>51466</td>\n",
       "      <td>...</td>\n",
       "      <td>16</td>\n",
       "      <td>52242.42</td>\n",
       "      <td>100342.886</td>\n",
       "      <td>88202.054</td>\n",
       "      <td>80940.54</td>\n",
       "      <td>85232.964638</td>\n",
       "      <td>75898.220214</td>\n",
       "      <td>66906.213486</td>\n",
       "      <td>64418.852668</td>\n",
       "      <td>71841.469426</td>\n",
       "    </tr>\n",
       "    <tr>\n",
       "      <th>08830</th>\n",
       "      <td>77850</td>\n",
       "      <td>77850</td>\n",
       "      <td>3412</td>\n",
       "      <td>1463</td>\n",
       "      <td>739</td>\n",
       "      <td>302</td>\n",
       "      <td>353</td>\n",
       "      <td>1</td>\n",
       "      <td>554</td>\n",
       "      <td>185787</td>\n",
       "      <td>...</td>\n",
       "      <td>16</td>\n",
       "      <td>NaN</td>\n",
       "      <td>NaN</td>\n",
       "      <td>NaN</td>\n",
       "      <td>NaN</td>\n",
       "      <td>NaN</td>\n",
       "      <td>NaN</td>\n",
       "      <td>NaN</td>\n",
       "      <td>NaN</td>\n",
       "      <td>NaN</td>\n",
       "    </tr>\n",
       "    <tr>\n",
       "      <th>12250</th>\n",
       "      <td>9603</td>\n",
       "      <td>9603</td>\n",
       "      <td>640</td>\n",
       "      <td>268</td>\n",
       "      <td>152</td>\n",
       "      <td>40</td>\n",
       "      <td>23</td>\n",
       "      <td>1</td>\n",
       "      <td>156</td>\n",
       "      <td>25967</td>\n",
       "      <td>...</td>\n",
       "      <td>16</td>\n",
       "      <td>NaN</td>\n",
       "      <td>NaN</td>\n",
       "      <td>NaN</td>\n",
       "      <td>NaN</td>\n",
       "      <td>NaN</td>\n",
       "      <td>NaN</td>\n",
       "      <td>NaN</td>\n",
       "      <td>NaN</td>\n",
       "      <td>NaN</td>\n",
       "    </tr>\n",
       "    <tr>\n",
       "      <th>23410</th>\n",
       "      <td>4048</td>\n",
       "      <td>4048</td>\n",
       "      <td>184</td>\n",
       "      <td>28</td>\n",
       "      <td>81</td>\n",
       "      <td>18</td>\n",
       "      <td>15</td>\n",
       "      <td>0</td>\n",
       "      <td>42</td>\n",
       "      <td>11085</td>\n",
       "      <td>...</td>\n",
       "      <td>16</td>\n",
       "      <td>NaN</td>\n",
       "      <td>NaN</td>\n",
       "      <td>NaN</td>\n",
       "      <td>NaN</td>\n",
       "      <td>NaN</td>\n",
       "      <td>NaN</td>\n",
       "      <td>NaN</td>\n",
       "      <td>NaN</td>\n",
       "      <td>NaN</td>\n",
       "    </tr>\n",
       "  </tbody>\n",
       "</table>\n",
       "<p>5 rows × 39 columns</p>\n",
       "</div>"
      ],
      "text/plain": [
       "      Total_Housing_2000 Occupancy_Status_For_Housing_Units_2000  \\\n",
       "FIPS                                                               \n",
       "28360               1088                                    1088   \n",
       "64090              20627                                   20627   \n",
       "08830              77850                                   77850   \n",
       "12250               9603                                    9603   \n",
       "23410               4048                                    4048   \n",
       "\n",
       "      Vacancy_Status_2000 For_Rent_2000 Rented_Not_Occupied_2000  \\\n",
       "FIPS                                                               \n",
       "28360                 119            22                       17   \n",
       "64090                1293           556                      298   \n",
       "08830                3412          1463                      739   \n",
       "12250                 640           268                      152   \n",
       "23410                 184            28                       81   \n",
       "\n",
       "      For_Sale_Only_2000 Sold_Not_Occupied_2000  \\\n",
       "FIPS                                              \n",
       "28360                  2                      9   \n",
       "64090                 87                     84   \n",
       "08830                302                    353   \n",
       "12250                 40                     23   \n",
       "23410                 18                     15   \n",
       "\n",
       "      For_Seasonal_Recreational_Or_Occasional_Use_2000  \\\n",
       "FIPS                                                     \n",
       "28360                                                1   \n",
       "64090                                                1   \n",
       "08830                                                1   \n",
       "12250                                                1   \n",
       "23410                                                0   \n",
       "\n",
       "      For_Migrant_Workers_2000 Total_Population_2000  ... state      2010  \\\n",
       "FIPS                                                  ...                   \n",
       "28360                       68                  3193  ...    16       NaN   \n",
       "64090                      267                 51466  ...    16  52242.42   \n",
       "08830                      554                185787  ...    16       NaN   \n",
       "12250                      156                 25967  ...    16       NaN   \n",
       "23410                       42                 11085  ...    16       NaN   \n",
       "\n",
       "             2011       2012      2013          2014          2015  \\\n",
       "FIPS                                                                 \n",
       "28360         NaN        NaN       NaN           NaN           NaN   \n",
       "64090  100342.886  88202.054  80940.54  85232.964638  75898.220214   \n",
       "08830         NaN        NaN       NaN           NaN           NaN   \n",
       "12250         NaN        NaN       NaN           NaN           NaN   \n",
       "23410         NaN        NaN       NaN           NaN           NaN   \n",
       "\n",
       "               2016          2017          2018  \n",
       "FIPS                                             \n",
       "28360           NaN           NaN           NaN  \n",
       "64090  66906.213486  64418.852668  71841.469426  \n",
       "08830           NaN           NaN           NaN  \n",
       "12250           NaN           NaN           NaN  \n",
       "23410           NaN           NaN           NaN  \n",
       "\n",
       "[5 rows x 39 columns]"
      ]
     },
     "execution_count": 105,
     "metadata": {},
     "output_type": "execute_result"
    }
   ],
   "source": [
    "id_join.head()"
   ]
  },
  {
   "cell_type": "code",
   "execution_count": 106,
   "metadata": {},
   "outputs": [],
   "source": [
    "id_join['Total_Population_2000'] = id_join['Total_Population_2000'].astype('i8')"
   ]
  },
  {
   "cell_type": "code",
   "execution_count": 107,
   "metadata": {},
   "outputs": [],
   "source": [
    "id_join =  id_join.nlargest(5, 'Total_Population_2000')"
   ]
  },
  {
   "cell_type": "code",
   "execution_count": 108,
   "metadata": {
    "scrolled": true
   },
   "outputs": [
    {
     "data": {
      "text/html": [
       "<div>\n",
       "<style scoped>\n",
       "    .dataframe tbody tr th:only-of-type {\n",
       "        vertical-align: middle;\n",
       "    }\n",
       "\n",
       "    .dataframe tbody tr th {\n",
       "        vertical-align: top;\n",
       "    }\n",
       "\n",
       "    .dataframe thead th {\n",
       "        text-align: right;\n",
       "    }\n",
       "</style>\n",
       "<table border=\"1\" class=\"dataframe\">\n",
       "  <thead>\n",
       "    <tr style=\"text-align: right;\">\n",
       "      <th></th>\n",
       "      <th>Total_Housing_2000</th>\n",
       "      <th>Occupancy_Status_For_Housing_Units_2000</th>\n",
       "      <th>Vacancy_Status_2000</th>\n",
       "      <th>For_Rent_2000</th>\n",
       "      <th>Rented_Not_Occupied_2000</th>\n",
       "      <th>For_Sale_Only_2000</th>\n",
       "      <th>Sold_Not_Occupied_2000</th>\n",
       "      <th>For_Seasonal_Recreational_Or_Occasional_Use_2000</th>\n",
       "      <th>For_Migrant_Workers_2000</th>\n",
       "      <th>Total_Population_2000</th>\n",
       "      <th>...</th>\n",
       "      <th>state</th>\n",
       "      <th>2010</th>\n",
       "      <th>2011</th>\n",
       "      <th>2012</th>\n",
       "      <th>2013</th>\n",
       "      <th>2014</th>\n",
       "      <th>2015</th>\n",
       "      <th>2016</th>\n",
       "      <th>2017</th>\n",
       "      <th>2018</th>\n",
       "    </tr>\n",
       "    <tr>\n",
       "      <th>FIPS</th>\n",
       "      <th></th>\n",
       "      <th></th>\n",
       "      <th></th>\n",
       "      <th></th>\n",
       "      <th></th>\n",
       "      <th></th>\n",
       "      <th></th>\n",
       "      <th></th>\n",
       "      <th></th>\n",
       "      <th></th>\n",
       "      <th></th>\n",
       "      <th></th>\n",
       "      <th></th>\n",
       "      <th></th>\n",
       "      <th></th>\n",
       "      <th></th>\n",
       "      <th></th>\n",
       "      <th></th>\n",
       "      <th></th>\n",
       "      <th></th>\n",
       "      <th></th>\n",
       "    </tr>\n",
       "  </thead>\n",
       "  <tbody>\n",
       "    <tr>\n",
       "      <th>08830</th>\n",
       "      <td>77850</td>\n",
       "      <td>77850</td>\n",
       "      <td>3412</td>\n",
       "      <td>1463</td>\n",
       "      <td>739</td>\n",
       "      <td>302</td>\n",
       "      <td>353</td>\n",
       "      <td>1</td>\n",
       "      <td>554</td>\n",
       "      <td>185787</td>\n",
       "      <td>...</td>\n",
       "      <td>16</td>\n",
       "      <td>NaN</td>\n",
       "      <td>NaN</td>\n",
       "      <td>NaN</td>\n",
       "      <td>NaN</td>\n",
       "      <td>NaN</td>\n",
       "      <td>NaN</td>\n",
       "      <td>NaN</td>\n",
       "      <td>NaN</td>\n",
       "      <td>NaN</td>\n",
       "    </tr>\n",
       "    <tr>\n",
       "      <th>56260</th>\n",
       "      <td>19379</td>\n",
       "      <td>19379</td>\n",
       "      <td>1289</td>\n",
       "      <td>448</td>\n",
       "      <td>440</td>\n",
       "      <td>90</td>\n",
       "      <td>57</td>\n",
       "      <td>3</td>\n",
       "      <td>251</td>\n",
       "      <td>51867</td>\n",
       "      <td>...</td>\n",
       "      <td>16</td>\n",
       "      <td>87260.04</td>\n",
       "      <td>87953.050</td>\n",
       "      <td>91498.048</td>\n",
       "      <td>113740.078</td>\n",
       "      <td>1.200713e+05</td>\n",
       "      <td>1.237629e+05</td>\n",
       "      <td>1.281471e+05</td>\n",
       "      <td>1.388227e+05</td>\n",
       "      <td>1.405658e+05</td>\n",
       "    </tr>\n",
       "    <tr>\n",
       "      <th>64090</th>\n",
       "      <td>20627</td>\n",
       "      <td>20627</td>\n",
       "      <td>1293</td>\n",
       "      <td>556</td>\n",
       "      <td>298</td>\n",
       "      <td>87</td>\n",
       "      <td>84</td>\n",
       "      <td>1</td>\n",
       "      <td>267</td>\n",
       "      <td>51466</td>\n",
       "      <td>...</td>\n",
       "      <td>16</td>\n",
       "      <td>52242.42</td>\n",
       "      <td>100342.886</td>\n",
       "      <td>88202.054</td>\n",
       "      <td>80940.540</td>\n",
       "      <td>8.523296e+04</td>\n",
       "      <td>7.589822e+04</td>\n",
       "      <td>6.690621e+04</td>\n",
       "      <td>6.441885e+04</td>\n",
       "      <td>7.184147e+04</td>\n",
       "    </tr>\n",
       "    <tr>\n",
       "      <th>39700</th>\n",
       "      <td>19771</td>\n",
       "      <td>19771</td>\n",
       "      <td>978</td>\n",
       "      <td>373</td>\n",
       "      <td>200</td>\n",
       "      <td>82</td>\n",
       "      <td>86</td>\n",
       "      <td>0</td>\n",
       "      <td>237</td>\n",
       "      <td>50730</td>\n",
       "      <td>...</td>\n",
       "      <td>16</td>\n",
       "      <td>4570117.17</td>\n",
       "      <td>4307774.128</td>\n",
       "      <td>3973294.462</td>\n",
       "      <td>4215302.270</td>\n",
       "      <td>4.027233e+06</td>\n",
       "      <td>4.884031e+06</td>\n",
       "      <td>4.468881e+06</td>\n",
       "      <td>3.941550e+06</td>\n",
       "      <td>3.574040e+06</td>\n",
       "    </tr>\n",
       "    <tr>\n",
       "      <th>52120</th>\n",
       "      <td>12293</td>\n",
       "      <td>12293</td>\n",
       "      <td>464</td>\n",
       "      <td>56</td>\n",
       "      <td>276</td>\n",
       "      <td>45</td>\n",
       "      <td>22</td>\n",
       "      <td>0</td>\n",
       "      <td>65</td>\n",
       "      <td>34919</td>\n",
       "      <td>...</td>\n",
       "      <td>16</td>\n",
       "      <td>NaN</td>\n",
       "      <td>NaN</td>\n",
       "      <td>NaN</td>\n",
       "      <td>NaN</td>\n",
       "      <td>NaN</td>\n",
       "      <td>NaN</td>\n",
       "      <td>NaN</td>\n",
       "      <td>NaN</td>\n",
       "      <td>NaN</td>\n",
       "    </tr>\n",
       "  </tbody>\n",
       "</table>\n",
       "<p>5 rows × 39 columns</p>\n",
       "</div>"
      ],
      "text/plain": [
       "      Total_Housing_2000 Occupancy_Status_For_Housing_Units_2000  \\\n",
       "FIPS                                                               \n",
       "08830              77850                                   77850   \n",
       "56260              19379                                   19379   \n",
       "64090              20627                                   20627   \n",
       "39700              19771                                   19771   \n",
       "52120              12293                                   12293   \n",
       "\n",
       "      Vacancy_Status_2000 For_Rent_2000 Rented_Not_Occupied_2000  \\\n",
       "FIPS                                                               \n",
       "08830                3412          1463                      739   \n",
       "56260                1289           448                      440   \n",
       "64090                1293           556                      298   \n",
       "39700                 978           373                      200   \n",
       "52120                 464            56                      276   \n",
       "\n",
       "      For_Sale_Only_2000 Sold_Not_Occupied_2000  \\\n",
       "FIPS                                              \n",
       "08830                302                    353   \n",
       "56260                 90                     57   \n",
       "64090                 87                     84   \n",
       "39700                 82                     86   \n",
       "52120                 45                     22   \n",
       "\n",
       "      For_Seasonal_Recreational_Or_Occasional_Use_2000  \\\n",
       "FIPS                                                     \n",
       "08830                                                1   \n",
       "56260                                                3   \n",
       "64090                                                1   \n",
       "39700                                                0   \n",
       "52120                                                0   \n",
       "\n",
       "      For_Migrant_Workers_2000  Total_Population_2000  ... state        2010  \\\n",
       "FIPS                                                   ...                     \n",
       "08830                      554                 185787  ...    16         NaN   \n",
       "56260                      251                  51867  ...    16    87260.04   \n",
       "64090                      267                  51466  ...    16    52242.42   \n",
       "39700                      237                  50730  ...    16  4570117.17   \n",
       "52120                       65                  34919  ...    16         NaN   \n",
       "\n",
       "              2011         2012         2013          2014          2015  \\\n",
       "FIPS                                                                       \n",
       "08830          NaN          NaN          NaN           NaN           NaN   \n",
       "56260    87953.050    91498.048   113740.078  1.200713e+05  1.237629e+05   \n",
       "64090   100342.886    88202.054    80940.540  8.523296e+04  7.589822e+04   \n",
       "39700  4307774.128  3973294.462  4215302.270  4.027233e+06  4.884031e+06   \n",
       "52120          NaN          NaN          NaN           NaN           NaN   \n",
       "\n",
       "               2016          2017          2018  \n",
       "FIPS                                             \n",
       "08830           NaN           NaN           NaN  \n",
       "56260  1.281471e+05  1.388227e+05  1.405658e+05  \n",
       "64090  6.690621e+04  6.441885e+04  7.184147e+04  \n",
       "39700  4.468881e+06  3.941550e+06  3.574040e+06  \n",
       "52120           NaN           NaN           NaN  \n",
       "\n",
       "[5 rows x 39 columns]"
      ]
     },
     "execution_count": 108,
     "metadata": {},
     "output_type": "execute_result"
    }
   ],
   "source": [
    "id_join.head()"
   ]
  },
  {
   "cell_type": "code",
   "execution_count": 110,
   "metadata": {},
   "outputs": [
    {
     "data": {
      "application/vnd.plotly.v1+json": {
       "config": {
        "plotlyServerURL": "https://plot.ly"
       },
       "data": [
        {
         "name": "2000_pop",
         "type": "bar",
         "x": [
          "Boise City city, Idaho",
          "Nampa city, Idaho",
          "Pocatello city, Idaho",
          "Idaho Falls city, Idaho",
          "Meridian city, Idaho"
         ],
         "y": [
          185787,
          51867,
          51466,
          50730,
          34919
         ]
        },
        {
         "name": "2010_pop",
         "type": "bar",
         "x": [
          "Boise City city, Idaho",
          "Nampa city, Idaho",
          "Pocatello city, Idaho",
          "Idaho Falls city, Idaho",
          "Meridian city, Idaho"
         ],
         "y": [
          205671,
          81557,
          54255,
          56813,
          75092
         ]
        },
        {
         "name": "2000_housing",
         "type": "bar",
         "x": [
          "Boise City city, Idaho",
          "Nampa city, Idaho",
          "Pocatello city, Idaho",
          "Idaho Falls city, Idaho",
          "Meridian city, Idaho"
         ],
         "y": [
          "77850",
          "19379",
          "20627",
          "19771",
          "12293"
         ]
        },
        {
         "name": "2010_housing",
         "type": "bar",
         "x": [
          "Boise City city, Idaho",
          "Nampa city, Idaho",
          "Pocatello city, Idaho",
          "Idaho Falls city, Idaho",
          "Meridian city, Idaho"
         ],
         "y": [
          92700,
          30507,
          22404,
          22977,
          26674
         ]
        },
        {
         "name": "2000_non-relatives",
         "type": "bar",
         "x": [
          "Boise City city, Idaho",
          "Nampa city, Idaho",
          "Pocatello city, Idaho",
          "Idaho Falls city, Idaho",
          "Meridian city, Idaho"
         ],
         "y": [
          "185787",
          "51867",
          "51466",
          "50730",
          "34919"
         ]
        },
        {
         "name": "2010_non-relatives",
         "type": "bar",
         "x": [
          "Boise City city, Idaho",
          "Nampa city, Idaho",
          "Pocatello city, Idaho",
          "Idaho Falls city, Idaho",
          "Meridian city, Idaho"
         ],
         "y": [
          85704,
          27729,
          20832,
          21203,
          25302
         ]
        },
        {
         "name": "2010_direct_emissions",
         "type": "bar",
         "x": [
          "Boise City city, Idaho",
          "Nampa city, Idaho",
          "Pocatello city, Idaho",
          "Idaho Falls city, Idaho",
          "Meridian city, Idaho"
         ],
         "y": [
          null,
          87260.04000000001,
          52242.42,
          4570117.17,
          null
         ]
        },
        {
         "name": "2011_direct_emissions",
         "type": "bar",
         "x": [
          "Boise City city, Idaho",
          "Nampa city, Idaho",
          "Pocatello city, Idaho",
          "Idaho Falls city, Idaho",
          "Meridian city, Idaho"
         ],
         "y": [
          null,
          87953.05,
          100342.886,
          4307774.1280000005,
          null
         ]
        },
        {
         "name": "2012_direct_emissions",
         "type": "bar",
         "x": [
          "Boise City city, Idaho",
          "Nampa city, Idaho",
          "Pocatello city, Idaho",
          "Idaho Falls city, Idaho",
          "Meridian city, Idaho"
         ],
         "y": [
          null,
          91498.048,
          88202.054,
          3973294.462,
          null
         ]
        },
        {
         "name": "2013_direct_emissions",
         "type": "bar",
         "x": [
          "Boise City city, Idaho",
          "Nampa city, Idaho",
          "Pocatello city, Idaho",
          "Idaho Falls city, Idaho",
          "Meridian city, Idaho"
         ],
         "y": [
          null,
          113740.07800000001,
          80940.54,
          4215302.2700000005,
          null
         ]
        },
        {
         "name": "2014_direct_emissions",
         "type": "bar",
         "x": [
          "Boise City city, Idaho",
          "Nampa city, Idaho",
          "Pocatello city, Idaho",
          "Idaho Falls city, Idaho",
          "Meridian city, Idaho"
         ],
         "y": [
          null,
          120071.266,
          85232.964638,
          4027233.116,
          null
         ]
        },
        {
         "name": "2015_direct_emissions",
         "type": "bar",
         "x": [
          "Boise City city, Idaho",
          "Nampa city, Idaho",
          "Pocatello city, Idaho",
          "Idaho Falls city, Idaho",
          "Meridian city, Idaho"
         ],
         "y": [
          null,
          123762.918,
          75898.220214,
          4884031.374,
          null
         ]
        },
        {
         "name": "2016_direct_emissions",
         "type": "bar",
         "x": [
          "Boise City city, Idaho",
          "Nampa city, Idaho",
          "Pocatello city, Idaho",
          "Idaho Falls city, Idaho",
          "Meridian city, Idaho"
         ],
         "y": [
          null,
          128147.06599999999,
          66906.213486,
          4468880.876,
          null
         ]
        },
        {
         "name": "2017_direct_emissions",
         "type": "bar",
         "x": [
          "Boise City city, Idaho",
          "Nampa city, Idaho",
          "Pocatello city, Idaho",
          "Idaho Falls city, Idaho",
          "Meridian city, Idaho"
         ],
         "y": [
          null,
          138822.727,
          64418.852668,
          3941550.022,
          null
         ]
        },
        {
         "name": "2018_direct_emissions",
         "type": "bar",
         "x": [
          "Boise City city, Idaho",
          "Nampa city, Idaho",
          "Pocatello city, Idaho",
          "Idaho Falls city, Idaho",
          "Meridian city, Idaho"
         ],
         "y": [
          null,
          140565.7707,
          71841.469426,
          3574040.1240000003,
          null
         ]
        }
       ],
       "layout": {
        "barmode": "group",
        "template": {
         "data": {
          "bar": [
           {
            "error_x": {
             "color": "#2a3f5f"
            },
            "error_y": {
             "color": "#2a3f5f"
            },
            "marker": {
             "line": {
              "color": "#E5ECF6",
              "width": 0.5
             }
            },
            "type": "bar"
           }
          ],
          "barpolar": [
           {
            "marker": {
             "line": {
              "color": "#E5ECF6",
              "width": 0.5
             }
            },
            "type": "barpolar"
           }
          ],
          "carpet": [
           {
            "aaxis": {
             "endlinecolor": "#2a3f5f",
             "gridcolor": "white",
             "linecolor": "white",
             "minorgridcolor": "white",
             "startlinecolor": "#2a3f5f"
            },
            "baxis": {
             "endlinecolor": "#2a3f5f",
             "gridcolor": "white",
             "linecolor": "white",
             "minorgridcolor": "white",
             "startlinecolor": "#2a3f5f"
            },
            "type": "carpet"
           }
          ],
          "choropleth": [
           {
            "colorbar": {
             "outlinewidth": 0,
             "ticks": ""
            },
            "type": "choropleth"
           }
          ],
          "contour": [
           {
            "colorbar": {
             "outlinewidth": 0,
             "ticks": ""
            },
            "colorscale": [
             [
              0,
              "#0d0887"
             ],
             [
              0.1111111111111111,
              "#46039f"
             ],
             [
              0.2222222222222222,
              "#7201a8"
             ],
             [
              0.3333333333333333,
              "#9c179e"
             ],
             [
              0.4444444444444444,
              "#bd3786"
             ],
             [
              0.5555555555555556,
              "#d8576b"
             ],
             [
              0.6666666666666666,
              "#ed7953"
             ],
             [
              0.7777777777777778,
              "#fb9f3a"
             ],
             [
              0.8888888888888888,
              "#fdca26"
             ],
             [
              1,
              "#f0f921"
             ]
            ],
            "type": "contour"
           }
          ],
          "contourcarpet": [
           {
            "colorbar": {
             "outlinewidth": 0,
             "ticks": ""
            },
            "type": "contourcarpet"
           }
          ],
          "heatmap": [
           {
            "colorbar": {
             "outlinewidth": 0,
             "ticks": ""
            },
            "colorscale": [
             [
              0,
              "#0d0887"
             ],
             [
              0.1111111111111111,
              "#46039f"
             ],
             [
              0.2222222222222222,
              "#7201a8"
             ],
             [
              0.3333333333333333,
              "#9c179e"
             ],
             [
              0.4444444444444444,
              "#bd3786"
             ],
             [
              0.5555555555555556,
              "#d8576b"
             ],
             [
              0.6666666666666666,
              "#ed7953"
             ],
             [
              0.7777777777777778,
              "#fb9f3a"
             ],
             [
              0.8888888888888888,
              "#fdca26"
             ],
             [
              1,
              "#f0f921"
             ]
            ],
            "type": "heatmap"
           }
          ],
          "heatmapgl": [
           {
            "colorbar": {
             "outlinewidth": 0,
             "ticks": ""
            },
            "colorscale": [
             [
              0,
              "#0d0887"
             ],
             [
              0.1111111111111111,
              "#46039f"
             ],
             [
              0.2222222222222222,
              "#7201a8"
             ],
             [
              0.3333333333333333,
              "#9c179e"
             ],
             [
              0.4444444444444444,
              "#bd3786"
             ],
             [
              0.5555555555555556,
              "#d8576b"
             ],
             [
              0.6666666666666666,
              "#ed7953"
             ],
             [
              0.7777777777777778,
              "#fb9f3a"
             ],
             [
              0.8888888888888888,
              "#fdca26"
             ],
             [
              1,
              "#f0f921"
             ]
            ],
            "type": "heatmapgl"
           }
          ],
          "histogram": [
           {
            "marker": {
             "colorbar": {
              "outlinewidth": 0,
              "ticks": ""
             }
            },
            "type": "histogram"
           }
          ],
          "histogram2d": [
           {
            "colorbar": {
             "outlinewidth": 0,
             "ticks": ""
            },
            "colorscale": [
             [
              0,
              "#0d0887"
             ],
             [
              0.1111111111111111,
              "#46039f"
             ],
             [
              0.2222222222222222,
              "#7201a8"
             ],
             [
              0.3333333333333333,
              "#9c179e"
             ],
             [
              0.4444444444444444,
              "#bd3786"
             ],
             [
              0.5555555555555556,
              "#d8576b"
             ],
             [
              0.6666666666666666,
              "#ed7953"
             ],
             [
              0.7777777777777778,
              "#fb9f3a"
             ],
             [
              0.8888888888888888,
              "#fdca26"
             ],
             [
              1,
              "#f0f921"
             ]
            ],
            "type": "histogram2d"
           }
          ],
          "histogram2dcontour": [
           {
            "colorbar": {
             "outlinewidth": 0,
             "ticks": ""
            },
            "colorscale": [
             [
              0,
              "#0d0887"
             ],
             [
              0.1111111111111111,
              "#46039f"
             ],
             [
              0.2222222222222222,
              "#7201a8"
             ],
             [
              0.3333333333333333,
              "#9c179e"
             ],
             [
              0.4444444444444444,
              "#bd3786"
             ],
             [
              0.5555555555555556,
              "#d8576b"
             ],
             [
              0.6666666666666666,
              "#ed7953"
             ],
             [
              0.7777777777777778,
              "#fb9f3a"
             ],
             [
              0.8888888888888888,
              "#fdca26"
             ],
             [
              1,
              "#f0f921"
             ]
            ],
            "type": "histogram2dcontour"
           }
          ],
          "mesh3d": [
           {
            "colorbar": {
             "outlinewidth": 0,
             "ticks": ""
            },
            "type": "mesh3d"
           }
          ],
          "parcoords": [
           {
            "line": {
             "colorbar": {
              "outlinewidth": 0,
              "ticks": ""
             }
            },
            "type": "parcoords"
           }
          ],
          "pie": [
           {
            "automargin": true,
            "type": "pie"
           }
          ],
          "scatter": [
           {
            "marker": {
             "colorbar": {
              "outlinewidth": 0,
              "ticks": ""
             }
            },
            "type": "scatter"
           }
          ],
          "scatter3d": [
           {
            "line": {
             "colorbar": {
              "outlinewidth": 0,
              "ticks": ""
             }
            },
            "marker": {
             "colorbar": {
              "outlinewidth": 0,
              "ticks": ""
             }
            },
            "type": "scatter3d"
           }
          ],
          "scattercarpet": [
           {
            "marker": {
             "colorbar": {
              "outlinewidth": 0,
              "ticks": ""
             }
            },
            "type": "scattercarpet"
           }
          ],
          "scattergeo": [
           {
            "marker": {
             "colorbar": {
              "outlinewidth": 0,
              "ticks": ""
             }
            },
            "type": "scattergeo"
           }
          ],
          "scattergl": [
           {
            "marker": {
             "colorbar": {
              "outlinewidth": 0,
              "ticks": ""
             }
            },
            "type": "scattergl"
           }
          ],
          "scattermapbox": [
           {
            "marker": {
             "colorbar": {
              "outlinewidth": 0,
              "ticks": ""
             }
            },
            "type": "scattermapbox"
           }
          ],
          "scatterpolar": [
           {
            "marker": {
             "colorbar": {
              "outlinewidth": 0,
              "ticks": ""
             }
            },
            "type": "scatterpolar"
           }
          ],
          "scatterpolargl": [
           {
            "marker": {
             "colorbar": {
              "outlinewidth": 0,
              "ticks": ""
             }
            },
            "type": "scatterpolargl"
           }
          ],
          "scatterternary": [
           {
            "marker": {
             "colorbar": {
              "outlinewidth": 0,
              "ticks": ""
             }
            },
            "type": "scatterternary"
           }
          ],
          "surface": [
           {
            "colorbar": {
             "outlinewidth": 0,
             "ticks": ""
            },
            "colorscale": [
             [
              0,
              "#0d0887"
             ],
             [
              0.1111111111111111,
              "#46039f"
             ],
             [
              0.2222222222222222,
              "#7201a8"
             ],
             [
              0.3333333333333333,
              "#9c179e"
             ],
             [
              0.4444444444444444,
              "#bd3786"
             ],
             [
              0.5555555555555556,
              "#d8576b"
             ],
             [
              0.6666666666666666,
              "#ed7953"
             ],
             [
              0.7777777777777778,
              "#fb9f3a"
             ],
             [
              0.8888888888888888,
              "#fdca26"
             ],
             [
              1,
              "#f0f921"
             ]
            ],
            "type": "surface"
           }
          ],
          "table": [
           {
            "cells": {
             "fill": {
              "color": "#EBF0F8"
             },
             "line": {
              "color": "white"
             }
            },
            "header": {
             "fill": {
              "color": "#C8D4E3"
             },
             "line": {
              "color": "white"
             }
            },
            "type": "table"
           }
          ]
         },
         "layout": {
          "annotationdefaults": {
           "arrowcolor": "#2a3f5f",
           "arrowhead": 0,
           "arrowwidth": 1
          },
          "coloraxis": {
           "colorbar": {
            "outlinewidth": 0,
            "ticks": ""
           }
          },
          "colorscale": {
           "diverging": [
            [
             0,
             "#8e0152"
            ],
            [
             0.1,
             "#c51b7d"
            ],
            [
             0.2,
             "#de77ae"
            ],
            [
             0.3,
             "#f1b6da"
            ],
            [
             0.4,
             "#fde0ef"
            ],
            [
             0.5,
             "#f7f7f7"
            ],
            [
             0.6,
             "#e6f5d0"
            ],
            [
             0.7,
             "#b8e186"
            ],
            [
             0.8,
             "#7fbc41"
            ],
            [
             0.9,
             "#4d9221"
            ],
            [
             1,
             "#276419"
            ]
           ],
           "sequential": [
            [
             0,
             "#0d0887"
            ],
            [
             0.1111111111111111,
             "#46039f"
            ],
            [
             0.2222222222222222,
             "#7201a8"
            ],
            [
             0.3333333333333333,
             "#9c179e"
            ],
            [
             0.4444444444444444,
             "#bd3786"
            ],
            [
             0.5555555555555556,
             "#d8576b"
            ],
            [
             0.6666666666666666,
             "#ed7953"
            ],
            [
             0.7777777777777778,
             "#fb9f3a"
            ],
            [
             0.8888888888888888,
             "#fdca26"
            ],
            [
             1,
             "#f0f921"
            ]
           ],
           "sequentialminus": [
            [
             0,
             "#0d0887"
            ],
            [
             0.1111111111111111,
             "#46039f"
            ],
            [
             0.2222222222222222,
             "#7201a8"
            ],
            [
             0.3333333333333333,
             "#9c179e"
            ],
            [
             0.4444444444444444,
             "#bd3786"
            ],
            [
             0.5555555555555556,
             "#d8576b"
            ],
            [
             0.6666666666666666,
             "#ed7953"
            ],
            [
             0.7777777777777778,
             "#fb9f3a"
            ],
            [
             0.8888888888888888,
             "#fdca26"
            ],
            [
             1,
             "#f0f921"
            ]
           ]
          },
          "colorway": [
           "#636efa",
           "#EF553B",
           "#00cc96",
           "#ab63fa",
           "#FFA15A",
           "#19d3f3",
           "#FF6692",
           "#B6E880",
           "#FF97FF",
           "#FECB52"
          ],
          "font": {
           "color": "#2a3f5f"
          },
          "geo": {
           "bgcolor": "white",
           "lakecolor": "white",
           "landcolor": "#E5ECF6",
           "showlakes": true,
           "showland": true,
           "subunitcolor": "white"
          },
          "hoverlabel": {
           "align": "left"
          },
          "hovermode": "closest",
          "mapbox": {
           "style": "light"
          },
          "paper_bgcolor": "white",
          "plot_bgcolor": "#E5ECF6",
          "polar": {
           "angularaxis": {
            "gridcolor": "white",
            "linecolor": "white",
            "ticks": ""
           },
           "bgcolor": "#E5ECF6",
           "radialaxis": {
            "gridcolor": "white",
            "linecolor": "white",
            "ticks": ""
           }
          },
          "scene": {
           "xaxis": {
            "backgroundcolor": "#E5ECF6",
            "gridcolor": "white",
            "gridwidth": 2,
            "linecolor": "white",
            "showbackground": true,
            "ticks": "",
            "zerolinecolor": "white"
           },
           "yaxis": {
            "backgroundcolor": "#E5ECF6",
            "gridcolor": "white",
            "gridwidth": 2,
            "linecolor": "white",
            "showbackground": true,
            "ticks": "",
            "zerolinecolor": "white"
           },
           "zaxis": {
            "backgroundcolor": "#E5ECF6",
            "gridcolor": "white",
            "gridwidth": 2,
            "linecolor": "white",
            "showbackground": true,
            "ticks": "",
            "zerolinecolor": "white"
           }
          },
          "shapedefaults": {
           "line": {
            "color": "#2a3f5f"
           }
          },
          "ternary": {
           "aaxis": {
            "gridcolor": "white",
            "linecolor": "white",
            "ticks": ""
           },
           "baxis": {
            "gridcolor": "white",
            "linecolor": "white",
            "ticks": ""
           },
           "bgcolor": "#E5ECF6",
           "caxis": {
            "gridcolor": "white",
            "linecolor": "white",
            "ticks": ""
           }
          },
          "title": {
           "x": 0.05
          },
          "xaxis": {
           "automargin": true,
           "gridcolor": "white",
           "linecolor": "white",
           "ticks": "",
           "title": {
            "standoff": 15
           },
           "zerolinecolor": "white",
           "zerolinewidth": 2
          },
          "yaxis": {
           "automargin": true,
           "gridcolor": "white",
           "linecolor": "white",
           "ticks": "",
           "title": {
            "standoff": 15
           },
           "zerolinecolor": "white",
           "zerolinewidth": 2
          }
         }
        }
       }
      },
      "text/html": [
       "<div>\n",
       "        \n",
       "        \n",
       "            <div id=\"67f3c3e2-8774-4710-9f91-8a6d15de9feb\" class=\"plotly-graph-div\" style=\"height:525px; width:100%;\"></div>\n",
       "            <script type=\"text/javascript\">\n",
       "                require([\"plotly\"], function(Plotly) {\n",
       "                    window.PLOTLYENV=window.PLOTLYENV || {};\n",
       "                    \n",
       "                if (document.getElementById(\"67f3c3e2-8774-4710-9f91-8a6d15de9feb\")) {\n",
       "                    Plotly.newPlot(\n",
       "                        '67f3c3e2-8774-4710-9f91-8a6d15de9feb',\n",
       "                        [{\"name\": \"2000_pop\", \"type\": \"bar\", \"x\": [\"Boise City city, Idaho\", \"Nampa city, Idaho\", \"Pocatello city, Idaho\", \"Idaho Falls city, Idaho\", \"Meridian city, Idaho\"], \"y\": [185787, 51867, 51466, 50730, 34919]}, {\"name\": \"2010_pop\", \"type\": \"bar\", \"x\": [\"Boise City city, Idaho\", \"Nampa city, Idaho\", \"Pocatello city, Idaho\", \"Idaho Falls city, Idaho\", \"Meridian city, Idaho\"], \"y\": [205671.0, 81557.0, 54255.0, 56813.0, 75092.0]}, {\"name\": \"2000_housing\", \"type\": \"bar\", \"x\": [\"Boise City city, Idaho\", \"Nampa city, Idaho\", \"Pocatello city, Idaho\", \"Idaho Falls city, Idaho\", \"Meridian city, Idaho\"], \"y\": [\"77850\", \"19379\", \"20627\", \"19771\", \"12293\"]}, {\"name\": \"2010_housing\", \"type\": \"bar\", \"x\": [\"Boise City city, Idaho\", \"Nampa city, Idaho\", \"Pocatello city, Idaho\", \"Idaho Falls city, Idaho\", \"Meridian city, Idaho\"], \"y\": [92700.0, 30507.0, 22404.0, 22977.0, 26674.0]}, {\"name\": \"2000_non-relatives\", \"type\": \"bar\", \"x\": [\"Boise City city, Idaho\", \"Nampa city, Idaho\", \"Pocatello city, Idaho\", \"Idaho Falls city, Idaho\", \"Meridian city, Idaho\"], \"y\": [\"185787\", \"51867\", \"51466\", \"50730\", \"34919\"]}, {\"name\": \"2010_non-relatives\", \"type\": \"bar\", \"x\": [\"Boise City city, Idaho\", \"Nampa city, Idaho\", \"Pocatello city, Idaho\", \"Idaho Falls city, Idaho\", \"Meridian city, Idaho\"], \"y\": [85704.0, 27729.0, 20832.0, 21203.0, 25302.0]}, {\"name\": \"2010_direct_emissions\", \"type\": \"bar\", \"x\": [\"Boise City city, Idaho\", \"Nampa city, Idaho\", \"Pocatello city, Idaho\", \"Idaho Falls city, Idaho\", \"Meridian city, Idaho\"], \"y\": [null, 87260.04000000001, 52242.42, 4570117.17, null]}, {\"name\": \"2011_direct_emissions\", \"type\": \"bar\", \"x\": [\"Boise City city, Idaho\", \"Nampa city, Idaho\", \"Pocatello city, Idaho\", \"Idaho Falls city, Idaho\", \"Meridian city, Idaho\"], \"y\": [null, 87953.05, 100342.886, 4307774.1280000005, null]}, {\"name\": \"2012_direct_emissions\", \"type\": \"bar\", \"x\": [\"Boise City city, Idaho\", \"Nampa city, Idaho\", \"Pocatello city, Idaho\", \"Idaho Falls city, Idaho\", \"Meridian city, Idaho\"], \"y\": [null, 91498.048, 88202.054, 3973294.462, null]}, {\"name\": \"2013_direct_emissions\", \"type\": \"bar\", \"x\": [\"Boise City city, Idaho\", \"Nampa city, Idaho\", \"Pocatello city, Idaho\", \"Idaho Falls city, Idaho\", \"Meridian city, Idaho\"], \"y\": [null, 113740.07800000001, 80940.54, 4215302.2700000005, null]}, {\"name\": \"2014_direct_emissions\", \"type\": \"bar\", \"x\": [\"Boise City city, Idaho\", \"Nampa city, Idaho\", \"Pocatello city, Idaho\", \"Idaho Falls city, Idaho\", \"Meridian city, Idaho\"], \"y\": [null, 120071.266, 85232.964638, 4027233.116, null]}, {\"name\": \"2015_direct_emissions\", \"type\": \"bar\", \"x\": [\"Boise City city, Idaho\", \"Nampa city, Idaho\", \"Pocatello city, Idaho\", \"Idaho Falls city, Idaho\", \"Meridian city, Idaho\"], \"y\": [null, 123762.918, 75898.220214, 4884031.374, null]}, {\"name\": \"2016_direct_emissions\", \"type\": \"bar\", \"x\": [\"Boise City city, Idaho\", \"Nampa city, Idaho\", \"Pocatello city, Idaho\", \"Idaho Falls city, Idaho\", \"Meridian city, Idaho\"], \"y\": [null, 128147.06599999999, 66906.213486, 4468880.876, null]}, {\"name\": \"2017_direct_emissions\", \"type\": \"bar\", \"x\": [\"Boise City city, Idaho\", \"Nampa city, Idaho\", \"Pocatello city, Idaho\", \"Idaho Falls city, Idaho\", \"Meridian city, Idaho\"], \"y\": [null, 138822.727, 64418.852668, 3941550.022, null]}, {\"name\": \"2018_direct_emissions\", \"type\": \"bar\", \"x\": [\"Boise City city, Idaho\", \"Nampa city, Idaho\", \"Pocatello city, Idaho\", \"Idaho Falls city, Idaho\", \"Meridian city, Idaho\"], \"y\": [null, 140565.7707, 71841.469426, 3574040.1240000003, null]}],\n",
       "                        {\"barmode\": \"group\", \"template\": {\"data\": {\"bar\": [{\"error_x\": {\"color\": \"#2a3f5f\"}, \"error_y\": {\"color\": \"#2a3f5f\"}, \"marker\": {\"line\": {\"color\": \"#E5ECF6\", \"width\": 0.5}}, \"type\": \"bar\"}], \"barpolar\": [{\"marker\": {\"line\": {\"color\": \"#E5ECF6\", \"width\": 0.5}}, \"type\": \"barpolar\"}], \"carpet\": [{\"aaxis\": {\"endlinecolor\": \"#2a3f5f\", \"gridcolor\": \"white\", \"linecolor\": \"white\", \"minorgridcolor\": \"white\", \"startlinecolor\": \"#2a3f5f\"}, \"baxis\": {\"endlinecolor\": \"#2a3f5f\", \"gridcolor\": \"white\", \"linecolor\": \"white\", \"minorgridcolor\": \"white\", \"startlinecolor\": \"#2a3f5f\"}, \"type\": \"carpet\"}], \"choropleth\": [{\"colorbar\": {\"outlinewidth\": 0, \"ticks\": \"\"}, \"type\": \"choropleth\"}], \"contour\": [{\"colorbar\": {\"outlinewidth\": 0, \"ticks\": \"\"}, \"colorscale\": [[0.0, \"#0d0887\"], [0.1111111111111111, \"#46039f\"], [0.2222222222222222, \"#7201a8\"], [0.3333333333333333, \"#9c179e\"], [0.4444444444444444, \"#bd3786\"], [0.5555555555555556, \"#d8576b\"], [0.6666666666666666, \"#ed7953\"], [0.7777777777777778, \"#fb9f3a\"], [0.8888888888888888, \"#fdca26\"], [1.0, \"#f0f921\"]], \"type\": \"contour\"}], \"contourcarpet\": [{\"colorbar\": {\"outlinewidth\": 0, \"ticks\": \"\"}, \"type\": \"contourcarpet\"}], \"heatmap\": [{\"colorbar\": {\"outlinewidth\": 0, \"ticks\": \"\"}, \"colorscale\": [[0.0, \"#0d0887\"], [0.1111111111111111, \"#46039f\"], [0.2222222222222222, \"#7201a8\"], [0.3333333333333333, \"#9c179e\"], [0.4444444444444444, \"#bd3786\"], [0.5555555555555556, \"#d8576b\"], [0.6666666666666666, \"#ed7953\"], [0.7777777777777778, \"#fb9f3a\"], [0.8888888888888888, \"#fdca26\"], [1.0, \"#f0f921\"]], \"type\": \"heatmap\"}], \"heatmapgl\": [{\"colorbar\": {\"outlinewidth\": 0, \"ticks\": \"\"}, \"colorscale\": [[0.0, \"#0d0887\"], [0.1111111111111111, \"#46039f\"], [0.2222222222222222, \"#7201a8\"], [0.3333333333333333, \"#9c179e\"], [0.4444444444444444, \"#bd3786\"], [0.5555555555555556, \"#d8576b\"], [0.6666666666666666, \"#ed7953\"], [0.7777777777777778, \"#fb9f3a\"], [0.8888888888888888, \"#fdca26\"], [1.0, \"#f0f921\"]], \"type\": \"heatmapgl\"}], \"histogram\": [{\"marker\": {\"colorbar\": {\"outlinewidth\": 0, \"ticks\": \"\"}}, \"type\": \"histogram\"}], \"histogram2d\": [{\"colorbar\": {\"outlinewidth\": 0, \"ticks\": \"\"}, \"colorscale\": [[0.0, \"#0d0887\"], [0.1111111111111111, \"#46039f\"], [0.2222222222222222, \"#7201a8\"], [0.3333333333333333, \"#9c179e\"], [0.4444444444444444, \"#bd3786\"], [0.5555555555555556, \"#d8576b\"], [0.6666666666666666, \"#ed7953\"], [0.7777777777777778, \"#fb9f3a\"], [0.8888888888888888, \"#fdca26\"], [1.0, \"#f0f921\"]], \"type\": \"histogram2d\"}], \"histogram2dcontour\": [{\"colorbar\": {\"outlinewidth\": 0, \"ticks\": \"\"}, \"colorscale\": [[0.0, \"#0d0887\"], [0.1111111111111111, \"#46039f\"], [0.2222222222222222, \"#7201a8\"], [0.3333333333333333, \"#9c179e\"], [0.4444444444444444, \"#bd3786\"], [0.5555555555555556, \"#d8576b\"], [0.6666666666666666, \"#ed7953\"], [0.7777777777777778, \"#fb9f3a\"], [0.8888888888888888, \"#fdca26\"], [1.0, \"#f0f921\"]], \"type\": \"histogram2dcontour\"}], \"mesh3d\": [{\"colorbar\": {\"outlinewidth\": 0, \"ticks\": \"\"}, \"type\": \"mesh3d\"}], \"parcoords\": [{\"line\": {\"colorbar\": {\"outlinewidth\": 0, \"ticks\": \"\"}}, \"type\": \"parcoords\"}], \"pie\": [{\"automargin\": true, \"type\": \"pie\"}], \"scatter\": [{\"marker\": {\"colorbar\": {\"outlinewidth\": 0, \"ticks\": \"\"}}, \"type\": \"scatter\"}], \"scatter3d\": [{\"line\": {\"colorbar\": {\"outlinewidth\": 0, \"ticks\": \"\"}}, \"marker\": {\"colorbar\": {\"outlinewidth\": 0, \"ticks\": \"\"}}, \"type\": \"scatter3d\"}], \"scattercarpet\": [{\"marker\": {\"colorbar\": {\"outlinewidth\": 0, \"ticks\": \"\"}}, \"type\": \"scattercarpet\"}], \"scattergeo\": [{\"marker\": {\"colorbar\": {\"outlinewidth\": 0, \"ticks\": \"\"}}, \"type\": \"scattergeo\"}], \"scattergl\": [{\"marker\": {\"colorbar\": {\"outlinewidth\": 0, \"ticks\": \"\"}}, \"type\": \"scattergl\"}], \"scattermapbox\": [{\"marker\": {\"colorbar\": {\"outlinewidth\": 0, \"ticks\": \"\"}}, \"type\": \"scattermapbox\"}], \"scatterpolar\": [{\"marker\": {\"colorbar\": {\"outlinewidth\": 0, \"ticks\": \"\"}}, \"type\": \"scatterpolar\"}], \"scatterpolargl\": [{\"marker\": {\"colorbar\": {\"outlinewidth\": 0, \"ticks\": \"\"}}, \"type\": \"scatterpolargl\"}], \"scatterternary\": [{\"marker\": {\"colorbar\": {\"outlinewidth\": 0, \"ticks\": \"\"}}, \"type\": \"scatterternary\"}], \"surface\": [{\"colorbar\": {\"outlinewidth\": 0, \"ticks\": \"\"}, \"colorscale\": [[0.0, \"#0d0887\"], [0.1111111111111111, \"#46039f\"], [0.2222222222222222, \"#7201a8\"], [0.3333333333333333, \"#9c179e\"], [0.4444444444444444, \"#bd3786\"], [0.5555555555555556, \"#d8576b\"], [0.6666666666666666, \"#ed7953\"], [0.7777777777777778, \"#fb9f3a\"], [0.8888888888888888, \"#fdca26\"], [1.0, \"#f0f921\"]], \"type\": \"surface\"}], \"table\": [{\"cells\": {\"fill\": {\"color\": \"#EBF0F8\"}, \"line\": {\"color\": \"white\"}}, \"header\": {\"fill\": {\"color\": \"#C8D4E3\"}, \"line\": {\"color\": \"white\"}}, \"type\": \"table\"}]}, \"layout\": {\"annotationdefaults\": {\"arrowcolor\": \"#2a3f5f\", \"arrowhead\": 0, \"arrowwidth\": 1}, \"coloraxis\": {\"colorbar\": {\"outlinewidth\": 0, \"ticks\": \"\"}}, \"colorscale\": {\"diverging\": [[0, \"#8e0152\"], [0.1, \"#c51b7d\"], [0.2, \"#de77ae\"], [0.3, \"#f1b6da\"], [0.4, \"#fde0ef\"], [0.5, \"#f7f7f7\"], [0.6, \"#e6f5d0\"], [0.7, \"#b8e186\"], [0.8, \"#7fbc41\"], [0.9, \"#4d9221\"], [1, \"#276419\"]], \"sequential\": [[0.0, \"#0d0887\"], [0.1111111111111111, \"#46039f\"], [0.2222222222222222, \"#7201a8\"], [0.3333333333333333, \"#9c179e\"], [0.4444444444444444, \"#bd3786\"], [0.5555555555555556, \"#d8576b\"], [0.6666666666666666, \"#ed7953\"], [0.7777777777777778, \"#fb9f3a\"], [0.8888888888888888, \"#fdca26\"], [1.0, \"#f0f921\"]], \"sequentialminus\": [[0.0, \"#0d0887\"], [0.1111111111111111, \"#46039f\"], [0.2222222222222222, \"#7201a8\"], [0.3333333333333333, \"#9c179e\"], [0.4444444444444444, \"#bd3786\"], [0.5555555555555556, \"#d8576b\"], [0.6666666666666666, \"#ed7953\"], [0.7777777777777778, \"#fb9f3a\"], [0.8888888888888888, \"#fdca26\"], [1.0, \"#f0f921\"]]}, \"colorway\": [\"#636efa\", \"#EF553B\", \"#00cc96\", \"#ab63fa\", \"#FFA15A\", \"#19d3f3\", \"#FF6692\", \"#B6E880\", \"#FF97FF\", \"#FECB52\"], \"font\": {\"color\": \"#2a3f5f\"}, \"geo\": {\"bgcolor\": \"white\", \"lakecolor\": \"white\", \"landcolor\": \"#E5ECF6\", \"showlakes\": true, \"showland\": true, \"subunitcolor\": \"white\"}, \"hoverlabel\": {\"align\": \"left\"}, \"hovermode\": \"closest\", \"mapbox\": {\"style\": \"light\"}, \"paper_bgcolor\": \"white\", \"plot_bgcolor\": \"#E5ECF6\", \"polar\": {\"angularaxis\": {\"gridcolor\": \"white\", \"linecolor\": \"white\", \"ticks\": \"\"}, \"bgcolor\": \"#E5ECF6\", \"radialaxis\": {\"gridcolor\": \"white\", \"linecolor\": \"white\", \"ticks\": \"\"}}, \"scene\": {\"xaxis\": {\"backgroundcolor\": \"#E5ECF6\", \"gridcolor\": \"white\", \"gridwidth\": 2, \"linecolor\": \"white\", \"showbackground\": true, \"ticks\": \"\", \"zerolinecolor\": \"white\"}, \"yaxis\": {\"backgroundcolor\": \"#E5ECF6\", \"gridcolor\": \"white\", \"gridwidth\": 2, \"linecolor\": \"white\", \"showbackground\": true, \"ticks\": \"\", \"zerolinecolor\": \"white\"}, \"zaxis\": {\"backgroundcolor\": \"#E5ECF6\", \"gridcolor\": \"white\", \"gridwidth\": 2, \"linecolor\": \"white\", \"showbackground\": true, \"ticks\": \"\", \"zerolinecolor\": \"white\"}}, \"shapedefaults\": {\"line\": {\"color\": \"#2a3f5f\"}}, \"ternary\": {\"aaxis\": {\"gridcolor\": \"white\", \"linecolor\": \"white\", \"ticks\": \"\"}, \"baxis\": {\"gridcolor\": \"white\", \"linecolor\": \"white\", \"ticks\": \"\"}, \"bgcolor\": \"#E5ECF6\", \"caxis\": {\"gridcolor\": \"white\", \"linecolor\": \"white\", \"ticks\": \"\"}}, \"title\": {\"x\": 0.05}, \"xaxis\": {\"automargin\": true, \"gridcolor\": \"white\", \"linecolor\": \"white\", \"ticks\": \"\", \"title\": {\"standoff\": 15}, \"zerolinecolor\": \"white\", \"zerolinewidth\": 2}, \"yaxis\": {\"automargin\": true, \"gridcolor\": \"white\", \"linecolor\": \"white\", \"ticks\": \"\", \"title\": {\"standoff\": 15}, \"zerolinecolor\": \"white\", \"zerolinewidth\": 2}}}},\n",
       "                        {\"responsive\": true}\n",
       "                    ).then(function(){\n",
       "                            \n",
       "var gd = document.getElementById('67f3c3e2-8774-4710-9f91-8a6d15de9feb');\n",
       "var x = new MutationObserver(function (mutations, observer) {{\n",
       "        var display = window.getComputedStyle(gd).display;\n",
       "        if (!display || display === 'none') {{\n",
       "            console.log([gd, 'removed!']);\n",
       "            Plotly.purge(gd);\n",
       "            observer.disconnect();\n",
       "        }}\n",
       "}});\n",
       "\n",
       "// Listen for the removal of the full notebook cells\n",
       "var notebookContainer = gd.closest('#notebook-container');\n",
       "if (notebookContainer) {{\n",
       "    x.observe(notebookContainer, {childList: true});\n",
       "}}\n",
       "\n",
       "// Listen for the clearing of the current output cell\n",
       "var outputEl = gd.closest('.output');\n",
       "if (outputEl) {{\n",
       "    x.observe(outputEl, {childList: true});\n",
       "}}\n",
       "\n",
       "                        })\n",
       "                };\n",
       "                });\n",
       "            </script>\n",
       "        </div>"
      ]
     },
     "metadata": {},
     "output_type": "display_data"
    }
   ],
   "source": [
    "fig = go.Figure(data=[\n",
    "    go.Bar(name='2000_pop', x=id_join['City_Name'], y=id_join['Total_Population_2000']),\n",
    "    go.Bar(name='2010_pop', x=id_join['City_Name'], y=id_join['Total_Population_2010']),\n",
    "    go.Bar(name='2000_housing', x=id_join['City_Name'], y=id_join['Total_Housing_2000']),\n",
    "    go.Bar(name='2010_housing', x=id_join['City_Name'], y=id_join['Total_Housing_2010']),\n",
    "    go.Bar(name='2000_non-relatives', x=id_join['City_Name'], y=id_join['Presence_of_Non-Relatives_2000']),\n",
    "    go.Bar(name='2010_non-relatives', x=id_join['City_Name'], y=id_join['Presence_of_Non-Relatives_2010']),\n",
    "    go.Bar(name='2010_direct_emissions', x=id_join['City_Name'], y=id_join['2010']),\n",
    "    go.Bar(name='2011_direct_emissions', x=id_join['City_Name'], y=id_join['2011']),\n",
    "    go.Bar(name='2012_direct_emissions', x=id_join['City_Name'], y=id_join['2012']),\n",
    "    go.Bar(name='2013_direct_emissions', x=id_join['City_Name'], y=id_join['2013']),\n",
    "    go.Bar(name='2014_direct_emissions', x=id_join['City_Name'], y=id_join['2014']),\n",
    "    go.Bar(name='2015_direct_emissions', x=id_join['City_Name'], y=id_join['2015']),\n",
    "    go.Bar(name='2016_direct_emissions', x=id_join['City_Name'], y=id_join['2016']),\n",
    "    go.Bar(name='2017_direct_emissions', x=id_join['City_Name'], y=id_join['2017']),\n",
    "    go.Bar(name='2018_direct_emissions', x=id_join['City_Name'], y=id_join['2018'])\n",
    "\n",
    "])\n",
    "fig.update_layout(barmode='group')\n",
    "fig.show()"
   ]
  },
  {
   "cell_type": "code",
   "execution_count": 40,
   "metadata": {},
   "outputs": [],
   "source": [
    "three_state_df = pd.concat([id_join, ca_join, ny_join])"
   ]
  },
  {
   "cell_type": "code",
   "execution_count": 41,
   "metadata": {},
   "outputs": [],
   "source": [
    "three_state_df.reset_index(inplace=True)"
   ]
  },
  {
   "cell_type": "code",
   "execution_count": 42,
   "metadata": {},
   "outputs": [
    {
     "data": {
      "text/html": [
       "<div>\n",
       "<style scoped>\n",
       "    .dataframe tbody tr th:only-of-type {\n",
       "        vertical-align: middle;\n",
       "    }\n",
       "\n",
       "    .dataframe tbody tr th {\n",
       "        vertical-align: top;\n",
       "    }\n",
       "\n",
       "    .dataframe thead th {\n",
       "        text-align: right;\n",
       "    }\n",
       "</style>\n",
       "<table border=\"1\" class=\"dataframe\">\n",
       "  <thead>\n",
       "    <tr style=\"text-align: right;\">\n",
       "      <th></th>\n",
       "      <th>FIPS</th>\n",
       "      <th>Total_Housing_2000</th>\n",
       "      <th>Occupancy_Status_For_Housing_Units_2000</th>\n",
       "      <th>Vacancy_Status_2000</th>\n",
       "      <th>For_Rent_2000</th>\n",
       "      <th>Rented_Not_Occupied_2000</th>\n",
       "      <th>For_Sale_Only_2000</th>\n",
       "      <th>Sold_Not_Occupied_2000</th>\n",
       "      <th>For_Seasonal_Recreational_Or_Occasional_Use_2000</th>\n",
       "      <th>For_Migrant_Workers_2000</th>\n",
       "      <th>...</th>\n",
       "      <th>Sold_Not_Occupied_2010</th>\n",
       "      <th>For_Seasonal_Recreational_Or_Occasional_Use_2010</th>\n",
       "      <th>For_Migrant_Workers_2010</th>\n",
       "      <th>City_Name</th>\n",
       "      <th>Total_Population_2010</th>\n",
       "      <th>Total_Urban_Population_2010</th>\n",
       "      <th>Total_Rural_Population_2010</th>\n",
       "      <th>Median_Age_2010</th>\n",
       "      <th>Presence_of_Non-Relatives_2010</th>\n",
       "      <th>state</th>\n",
       "    </tr>\n",
       "  </thead>\n",
       "  <tbody>\n",
       "    <tr>\n",
       "      <th>0</th>\n",
       "      <td>08830</td>\n",
       "      <td>77850</td>\n",
       "      <td>77850</td>\n",
       "      <td>3412</td>\n",
       "      <td>1463</td>\n",
       "      <td>739</td>\n",
       "      <td>302</td>\n",
       "      <td>353</td>\n",
       "      <td>1</td>\n",
       "      <td>554</td>\n",
       "      <td>...</td>\n",
       "      <td>234.0</td>\n",
       "      <td>595.0</td>\n",
       "      <td>3.0</td>\n",
       "      <td>Boise City city, Idaho</td>\n",
       "      <td>205671.0</td>\n",
       "      <td>204776.0</td>\n",
       "      <td>895.0</td>\n",
       "      <td>35.3</td>\n",
       "      <td>85704.0</td>\n",
       "      <td>16</td>\n",
       "    </tr>\n",
       "    <tr>\n",
       "      <th>1</th>\n",
       "      <td>56260</td>\n",
       "      <td>19379</td>\n",
       "      <td>19379</td>\n",
       "      <td>1289</td>\n",
       "      <td>448</td>\n",
       "      <td>440</td>\n",
       "      <td>90</td>\n",
       "      <td>57</td>\n",
       "      <td>3</td>\n",
       "      <td>251</td>\n",
       "      <td>...</td>\n",
       "      <td>106.0</td>\n",
       "      <td>105.0</td>\n",
       "      <td>0.0</td>\n",
       "      <td>Nampa city, Idaho</td>\n",
       "      <td>81557.0</td>\n",
       "      <td>81285.0</td>\n",
       "      <td>272.0</td>\n",
       "      <td>30.1</td>\n",
       "      <td>27729.0</td>\n",
       "      <td>16</td>\n",
       "    </tr>\n",
       "    <tr>\n",
       "      <th>2</th>\n",
       "      <td>64090</td>\n",
       "      <td>20627</td>\n",
       "      <td>20627</td>\n",
       "      <td>1293</td>\n",
       "      <td>556</td>\n",
       "      <td>298</td>\n",
       "      <td>87</td>\n",
       "      <td>84</td>\n",
       "      <td>1</td>\n",
       "      <td>267</td>\n",
       "      <td>...</td>\n",
       "      <td>70.0</td>\n",
       "      <td>97.0</td>\n",
       "      <td>3.0</td>\n",
       "      <td>Pocatello city, Idaho</td>\n",
       "      <td>54255.0</td>\n",
       "      <td>54189.0</td>\n",
       "      <td>66.0</td>\n",
       "      <td>30.2</td>\n",
       "      <td>20832.0</td>\n",
       "      <td>16</td>\n",
       "    </tr>\n",
       "    <tr>\n",
       "      <th>3</th>\n",
       "      <td>39700</td>\n",
       "      <td>19771</td>\n",
       "      <td>19771</td>\n",
       "      <td>978</td>\n",
       "      <td>373</td>\n",
       "      <td>200</td>\n",
       "      <td>82</td>\n",
       "      <td>86</td>\n",
       "      <td>0</td>\n",
       "      <td>237</td>\n",
       "      <td>...</td>\n",
       "      <td>63.0</td>\n",
       "      <td>157.0</td>\n",
       "      <td>5.0</td>\n",
       "      <td>Idaho Falls city, Idaho</td>\n",
       "      <td>56813.0</td>\n",
       "      <td>56558.0</td>\n",
       "      <td>255.0</td>\n",
       "      <td>32.2</td>\n",
       "      <td>21203.0</td>\n",
       "      <td>16</td>\n",
       "    </tr>\n",
       "    <tr>\n",
       "      <th>4</th>\n",
       "      <td>52120</td>\n",
       "      <td>12293</td>\n",
       "      <td>12293</td>\n",
       "      <td>464</td>\n",
       "      <td>56</td>\n",
       "      <td>276</td>\n",
       "      <td>45</td>\n",
       "      <td>22</td>\n",
       "      <td>0</td>\n",
       "      <td>65</td>\n",
       "      <td>...</td>\n",
       "      <td>71.0</td>\n",
       "      <td>135.0</td>\n",
       "      <td>0.0</td>\n",
       "      <td>Meridian city, Idaho</td>\n",
       "      <td>75092.0</td>\n",
       "      <td>74986.0</td>\n",
       "      <td>106.0</td>\n",
       "      <td>32.5</td>\n",
       "      <td>25302.0</td>\n",
       "      <td>16</td>\n",
       "    </tr>\n",
       "  </tbody>\n",
       "</table>\n",
       "<p>5 rows × 31 columns</p>\n",
       "</div>"
      ],
      "text/plain": [
       "    FIPS Total_Housing_2000 Occupancy_Status_For_Housing_Units_2000  \\\n",
       "0  08830              77850                                   77850   \n",
       "1  56260              19379                                   19379   \n",
       "2  64090              20627                                   20627   \n",
       "3  39700              19771                                   19771   \n",
       "4  52120              12293                                   12293   \n",
       "\n",
       "  Vacancy_Status_2000 For_Rent_2000 Rented_Not_Occupied_2000  \\\n",
       "0                3412          1463                      739   \n",
       "1                1289           448                      440   \n",
       "2                1293           556                      298   \n",
       "3                 978           373                      200   \n",
       "4                 464            56                      276   \n",
       "\n",
       "  For_Sale_Only_2000 Sold_Not_Occupied_2000  \\\n",
       "0                302                    353   \n",
       "1                 90                     57   \n",
       "2                 87                     84   \n",
       "3                 82                     86   \n",
       "4                 45                     22   \n",
       "\n",
       "  For_Seasonal_Recreational_Or_Occasional_Use_2000 For_Migrant_Workers_2000  \\\n",
       "0                                                1                      554   \n",
       "1                                                3                      251   \n",
       "2                                                1                      267   \n",
       "3                                                0                      237   \n",
       "4                                                0                       65   \n",
       "\n",
       "   ...  Sold_Not_Occupied_2010  \\\n",
       "0  ...                   234.0   \n",
       "1  ...                   106.0   \n",
       "2  ...                    70.0   \n",
       "3  ...                    63.0   \n",
       "4  ...                    71.0   \n",
       "\n",
       "  For_Seasonal_Recreational_Or_Occasional_Use_2010 For_Migrant_Workers_2010  \\\n",
       "0                                            595.0                      3.0   \n",
       "1                                            105.0                      0.0   \n",
       "2                                             97.0                      3.0   \n",
       "3                                            157.0                      5.0   \n",
       "4                                            135.0                      0.0   \n",
       "\n",
       "                 City_Name Total_Population_2010  Total_Urban_Population_2010  \\\n",
       "0   Boise City city, Idaho              205671.0                     204776.0   \n",
       "1        Nampa city, Idaho               81557.0                      81285.0   \n",
       "2    Pocatello city, Idaho               54255.0                      54189.0   \n",
       "3  Idaho Falls city, Idaho               56813.0                      56558.0   \n",
       "4     Meridian city, Idaho               75092.0                      74986.0   \n",
       "\n",
       "   Total_Rural_Population_2010  Median_Age_2010  \\\n",
       "0                        895.0             35.3   \n",
       "1                        272.0             30.1   \n",
       "2                         66.0             30.2   \n",
       "3                        255.0             32.2   \n",
       "4                        106.0             32.5   \n",
       "\n",
       "   Presence_of_Non-Relatives_2010  state  \n",
       "0                         85704.0     16  \n",
       "1                         27729.0     16  \n",
       "2                         20832.0     16  \n",
       "3                         21203.0     16  \n",
       "4                         25302.0     16  \n",
       "\n",
       "[5 rows x 31 columns]"
      ]
     },
     "execution_count": 42,
     "metadata": {},
     "output_type": "execute_result"
    }
   ],
   "source": [
    "three_state_df.head()"
   ]
  },
  {
   "cell_type": "code",
   "execution_count": 43,
   "metadata": {},
   "outputs": [
    {
     "data": {
      "application/vnd.plotly.v1+json": {
       "config": {
        "plotlyServerURL": "https://plot.ly"
       },
       "data": [
        {
         "name": "2000_pop",
         "type": "bar",
         "x": [
          "Boise City city, Idaho",
          "Nampa city, Idaho",
          "Pocatello city, Idaho",
          "Idaho Falls city, Idaho",
          "Meridian city, Idaho",
          "Los Angeles city, California",
          "San Diego city, California",
          "San Jose city, California",
          "San Francisco city, California",
          "Long Beach city, California",
          "New York city, New York",
          "Buffalo city, New York",
          "Rochester city, New York",
          "Yonkers city, New York",
          "Syracuse city, New York"
         ],
         "y": [
          185787,
          51867,
          51466,
          50730,
          34919,
          3694820,
          1223400,
          894943,
          776733,
          461522,
          8008278,
          292648,
          219773,
          196086,
          147306
         ]
        },
        {
         "name": "2010_pop",
         "type": "bar",
         "x": [
          "Boise City city, Idaho",
          "Nampa city, Idaho",
          "Pocatello city, Idaho",
          "Idaho Falls city, Idaho",
          "Meridian city, Idaho",
          "Los Angeles city, California",
          "San Diego city, California",
          "San Jose city, California",
          "San Francisco city, California",
          "Long Beach city, California",
          "New York city, New York",
          "Buffalo city, New York",
          "Rochester city, New York",
          "Yonkers city, New York",
          "Syracuse city, New York"
         ],
         "y": [
          205671,
          81557,
          54255,
          56813,
          75092,
          3792621,
          1307402,
          945942,
          805235,
          462257,
          8175133,
          261310,
          210565,
          195976,
          145170
         ]
        },
        {
         "name": "2000_housing",
         "type": "bar",
         "x": [
          "Boise City city, Idaho",
          "Nampa city, Idaho",
          "Pocatello city, Idaho",
          "Idaho Falls city, Idaho",
          "Meridian city, Idaho",
          "Los Angeles city, California",
          "San Diego city, California",
          "San Jose city, California",
          "San Francisco city, California",
          "Long Beach city, California",
          "New York city, New York",
          "Buffalo city, New York",
          "Rochester city, New York",
          "Yonkers city, New York",
          "Syracuse city, New York"
         ],
         "y": [
          "77850",
          "19379",
          "20627",
          "19771",
          "12293",
          "1337706",
          "469689",
          "281841",
          "346527",
          "171632",
          "3200912",
          "145574",
          "99789",
          "77589",
          "68192"
         ]
        },
        {
         "name": "2010_housing",
         "type": "bar",
         "x": [
          "Boise City city, Idaho",
          "Nampa city, Idaho",
          "Pocatello city, Idaho",
          "Idaho Falls city, Idaho",
          "Meridian city, Idaho",
          "Los Angeles city, California",
          "San Diego city, California",
          "San Jose city, California",
          "San Francisco city, California",
          "Long Beach city, California",
          "New York city, New York",
          "Buffalo city, New York",
          "Rochester city, New York",
          "Yonkers city, New York",
          "Syracuse city, New York"
         ],
         "y": [
          92700,
          30507,
          22404,
          22977,
          26674,
          1413995,
          516033,
          314038,
          376942,
          176032,
          3371062,
          133444,
          97158,
          80389,
          64356
         ]
        },
        {
         "name": "2000_non-relatives",
         "type": "bar",
         "x": [
          "Boise City city, Idaho",
          "Nampa city, Idaho",
          "Pocatello city, Idaho",
          "Idaho Falls city, Idaho",
          "Meridian city, Idaho",
          "Los Angeles city, California",
          "San Diego city, California",
          "San Jose city, California",
          "San Francisco city, California",
          "Long Beach city, California",
          "New York city, New York",
          "Buffalo city, New York",
          "Rochester city, New York",
          "Yonkers city, New York",
          "Syracuse city, New York"
         ],
         "y": [
          "185787",
          "51867",
          "51466",
          "50730",
          "34919",
          "3694820",
          "1223400",
          "894943",
          "776733",
          "461522",
          "8008278",
          "292648",
          "219773",
          "196086",
          "147306"
         ]
        },
        {
         "name": "2010_non-relatives",
         "type": "bar",
         "x": [
          "Boise City city, Idaho",
          "Nampa city, Idaho",
          "Pocatello city, Idaho",
          "Idaho Falls city, Idaho",
          "Meridian city, Idaho",
          "Los Angeles city, California",
          "San Diego city, California",
          "San Jose city, California",
          "San Francisco city, California",
          "Long Beach city, California",
          "New York city, New York",
          "Buffalo city, New York",
          "Rochester city, New York",
          "Yonkers city, New York",
          "Syracuse city, New York"
         ],
         "y": [
          85704,
          27729,
          20832,
          21203,
          25302,
          1318168,
          483092,
          301366,
          345811,
          163531,
          3109784,
          112536,
          87027,
          74550,
          57355
         ]
        }
       ],
       "layout": {
        "barmode": "group",
        "template": {
         "data": {
          "bar": [
           {
            "error_x": {
             "color": "#2a3f5f"
            },
            "error_y": {
             "color": "#2a3f5f"
            },
            "marker": {
             "line": {
              "color": "#E5ECF6",
              "width": 0.5
             }
            },
            "type": "bar"
           }
          ],
          "barpolar": [
           {
            "marker": {
             "line": {
              "color": "#E5ECF6",
              "width": 0.5
             }
            },
            "type": "barpolar"
           }
          ],
          "carpet": [
           {
            "aaxis": {
             "endlinecolor": "#2a3f5f",
             "gridcolor": "white",
             "linecolor": "white",
             "minorgridcolor": "white",
             "startlinecolor": "#2a3f5f"
            },
            "baxis": {
             "endlinecolor": "#2a3f5f",
             "gridcolor": "white",
             "linecolor": "white",
             "minorgridcolor": "white",
             "startlinecolor": "#2a3f5f"
            },
            "type": "carpet"
           }
          ],
          "choropleth": [
           {
            "colorbar": {
             "outlinewidth": 0,
             "ticks": ""
            },
            "type": "choropleth"
           }
          ],
          "contour": [
           {
            "colorbar": {
             "outlinewidth": 0,
             "ticks": ""
            },
            "colorscale": [
             [
              0,
              "#0d0887"
             ],
             [
              0.1111111111111111,
              "#46039f"
             ],
             [
              0.2222222222222222,
              "#7201a8"
             ],
             [
              0.3333333333333333,
              "#9c179e"
             ],
             [
              0.4444444444444444,
              "#bd3786"
             ],
             [
              0.5555555555555556,
              "#d8576b"
             ],
             [
              0.6666666666666666,
              "#ed7953"
             ],
             [
              0.7777777777777778,
              "#fb9f3a"
             ],
             [
              0.8888888888888888,
              "#fdca26"
             ],
             [
              1,
              "#f0f921"
             ]
            ],
            "type": "contour"
           }
          ],
          "contourcarpet": [
           {
            "colorbar": {
             "outlinewidth": 0,
             "ticks": ""
            },
            "type": "contourcarpet"
           }
          ],
          "heatmap": [
           {
            "colorbar": {
             "outlinewidth": 0,
             "ticks": ""
            },
            "colorscale": [
             [
              0,
              "#0d0887"
             ],
             [
              0.1111111111111111,
              "#46039f"
             ],
             [
              0.2222222222222222,
              "#7201a8"
             ],
             [
              0.3333333333333333,
              "#9c179e"
             ],
             [
              0.4444444444444444,
              "#bd3786"
             ],
             [
              0.5555555555555556,
              "#d8576b"
             ],
             [
              0.6666666666666666,
              "#ed7953"
             ],
             [
              0.7777777777777778,
              "#fb9f3a"
             ],
             [
              0.8888888888888888,
              "#fdca26"
             ],
             [
              1,
              "#f0f921"
             ]
            ],
            "type": "heatmap"
           }
          ],
          "heatmapgl": [
           {
            "colorbar": {
             "outlinewidth": 0,
             "ticks": ""
            },
            "colorscale": [
             [
              0,
              "#0d0887"
             ],
             [
              0.1111111111111111,
              "#46039f"
             ],
             [
              0.2222222222222222,
              "#7201a8"
             ],
             [
              0.3333333333333333,
              "#9c179e"
             ],
             [
              0.4444444444444444,
              "#bd3786"
             ],
             [
              0.5555555555555556,
              "#d8576b"
             ],
             [
              0.6666666666666666,
              "#ed7953"
             ],
             [
              0.7777777777777778,
              "#fb9f3a"
             ],
             [
              0.8888888888888888,
              "#fdca26"
             ],
             [
              1,
              "#f0f921"
             ]
            ],
            "type": "heatmapgl"
           }
          ],
          "histogram": [
           {
            "marker": {
             "colorbar": {
              "outlinewidth": 0,
              "ticks": ""
             }
            },
            "type": "histogram"
           }
          ],
          "histogram2d": [
           {
            "colorbar": {
             "outlinewidth": 0,
             "ticks": ""
            },
            "colorscale": [
             [
              0,
              "#0d0887"
             ],
             [
              0.1111111111111111,
              "#46039f"
             ],
             [
              0.2222222222222222,
              "#7201a8"
             ],
             [
              0.3333333333333333,
              "#9c179e"
             ],
             [
              0.4444444444444444,
              "#bd3786"
             ],
             [
              0.5555555555555556,
              "#d8576b"
             ],
             [
              0.6666666666666666,
              "#ed7953"
             ],
             [
              0.7777777777777778,
              "#fb9f3a"
             ],
             [
              0.8888888888888888,
              "#fdca26"
             ],
             [
              1,
              "#f0f921"
             ]
            ],
            "type": "histogram2d"
           }
          ],
          "histogram2dcontour": [
           {
            "colorbar": {
             "outlinewidth": 0,
             "ticks": ""
            },
            "colorscale": [
             [
              0,
              "#0d0887"
             ],
             [
              0.1111111111111111,
              "#46039f"
             ],
             [
              0.2222222222222222,
              "#7201a8"
             ],
             [
              0.3333333333333333,
              "#9c179e"
             ],
             [
              0.4444444444444444,
              "#bd3786"
             ],
             [
              0.5555555555555556,
              "#d8576b"
             ],
             [
              0.6666666666666666,
              "#ed7953"
             ],
             [
              0.7777777777777778,
              "#fb9f3a"
             ],
             [
              0.8888888888888888,
              "#fdca26"
             ],
             [
              1,
              "#f0f921"
             ]
            ],
            "type": "histogram2dcontour"
           }
          ],
          "mesh3d": [
           {
            "colorbar": {
             "outlinewidth": 0,
             "ticks": ""
            },
            "type": "mesh3d"
           }
          ],
          "parcoords": [
           {
            "line": {
             "colorbar": {
              "outlinewidth": 0,
              "ticks": ""
             }
            },
            "type": "parcoords"
           }
          ],
          "pie": [
           {
            "automargin": true,
            "type": "pie"
           }
          ],
          "scatter": [
           {
            "marker": {
             "colorbar": {
              "outlinewidth": 0,
              "ticks": ""
             }
            },
            "type": "scatter"
           }
          ],
          "scatter3d": [
           {
            "line": {
             "colorbar": {
              "outlinewidth": 0,
              "ticks": ""
             }
            },
            "marker": {
             "colorbar": {
              "outlinewidth": 0,
              "ticks": ""
             }
            },
            "type": "scatter3d"
           }
          ],
          "scattercarpet": [
           {
            "marker": {
             "colorbar": {
              "outlinewidth": 0,
              "ticks": ""
             }
            },
            "type": "scattercarpet"
           }
          ],
          "scattergeo": [
           {
            "marker": {
             "colorbar": {
              "outlinewidth": 0,
              "ticks": ""
             }
            },
            "type": "scattergeo"
           }
          ],
          "scattergl": [
           {
            "marker": {
             "colorbar": {
              "outlinewidth": 0,
              "ticks": ""
             }
            },
            "type": "scattergl"
           }
          ],
          "scattermapbox": [
           {
            "marker": {
             "colorbar": {
              "outlinewidth": 0,
              "ticks": ""
             }
            },
            "type": "scattermapbox"
           }
          ],
          "scatterpolar": [
           {
            "marker": {
             "colorbar": {
              "outlinewidth": 0,
              "ticks": ""
             }
            },
            "type": "scatterpolar"
           }
          ],
          "scatterpolargl": [
           {
            "marker": {
             "colorbar": {
              "outlinewidth": 0,
              "ticks": ""
             }
            },
            "type": "scatterpolargl"
           }
          ],
          "scatterternary": [
           {
            "marker": {
             "colorbar": {
              "outlinewidth": 0,
              "ticks": ""
             }
            },
            "type": "scatterternary"
           }
          ],
          "surface": [
           {
            "colorbar": {
             "outlinewidth": 0,
             "ticks": ""
            },
            "colorscale": [
             [
              0,
              "#0d0887"
             ],
             [
              0.1111111111111111,
              "#46039f"
             ],
             [
              0.2222222222222222,
              "#7201a8"
             ],
             [
              0.3333333333333333,
              "#9c179e"
             ],
             [
              0.4444444444444444,
              "#bd3786"
             ],
             [
              0.5555555555555556,
              "#d8576b"
             ],
             [
              0.6666666666666666,
              "#ed7953"
             ],
             [
              0.7777777777777778,
              "#fb9f3a"
             ],
             [
              0.8888888888888888,
              "#fdca26"
             ],
             [
              1,
              "#f0f921"
             ]
            ],
            "type": "surface"
           }
          ],
          "table": [
           {
            "cells": {
             "fill": {
              "color": "#EBF0F8"
             },
             "line": {
              "color": "white"
             }
            },
            "header": {
             "fill": {
              "color": "#C8D4E3"
             },
             "line": {
              "color": "white"
             }
            },
            "type": "table"
           }
          ]
         },
         "layout": {
          "annotationdefaults": {
           "arrowcolor": "#2a3f5f",
           "arrowhead": 0,
           "arrowwidth": 1
          },
          "coloraxis": {
           "colorbar": {
            "outlinewidth": 0,
            "ticks": ""
           }
          },
          "colorscale": {
           "diverging": [
            [
             0,
             "#8e0152"
            ],
            [
             0.1,
             "#c51b7d"
            ],
            [
             0.2,
             "#de77ae"
            ],
            [
             0.3,
             "#f1b6da"
            ],
            [
             0.4,
             "#fde0ef"
            ],
            [
             0.5,
             "#f7f7f7"
            ],
            [
             0.6,
             "#e6f5d0"
            ],
            [
             0.7,
             "#b8e186"
            ],
            [
             0.8,
             "#7fbc41"
            ],
            [
             0.9,
             "#4d9221"
            ],
            [
             1,
             "#276419"
            ]
           ],
           "sequential": [
            [
             0,
             "#0d0887"
            ],
            [
             0.1111111111111111,
             "#46039f"
            ],
            [
             0.2222222222222222,
             "#7201a8"
            ],
            [
             0.3333333333333333,
             "#9c179e"
            ],
            [
             0.4444444444444444,
             "#bd3786"
            ],
            [
             0.5555555555555556,
             "#d8576b"
            ],
            [
             0.6666666666666666,
             "#ed7953"
            ],
            [
             0.7777777777777778,
             "#fb9f3a"
            ],
            [
             0.8888888888888888,
             "#fdca26"
            ],
            [
             1,
             "#f0f921"
            ]
           ],
           "sequentialminus": [
            [
             0,
             "#0d0887"
            ],
            [
             0.1111111111111111,
             "#46039f"
            ],
            [
             0.2222222222222222,
             "#7201a8"
            ],
            [
             0.3333333333333333,
             "#9c179e"
            ],
            [
             0.4444444444444444,
             "#bd3786"
            ],
            [
             0.5555555555555556,
             "#d8576b"
            ],
            [
             0.6666666666666666,
             "#ed7953"
            ],
            [
             0.7777777777777778,
             "#fb9f3a"
            ],
            [
             0.8888888888888888,
             "#fdca26"
            ],
            [
             1,
             "#f0f921"
            ]
           ]
          },
          "colorway": [
           "#636efa",
           "#EF553B",
           "#00cc96",
           "#ab63fa",
           "#FFA15A",
           "#19d3f3",
           "#FF6692",
           "#B6E880",
           "#FF97FF",
           "#FECB52"
          ],
          "font": {
           "color": "#2a3f5f"
          },
          "geo": {
           "bgcolor": "white",
           "lakecolor": "white",
           "landcolor": "#E5ECF6",
           "showlakes": true,
           "showland": true,
           "subunitcolor": "white"
          },
          "hoverlabel": {
           "align": "left"
          },
          "hovermode": "closest",
          "mapbox": {
           "style": "light"
          },
          "paper_bgcolor": "white",
          "plot_bgcolor": "#E5ECF6",
          "polar": {
           "angularaxis": {
            "gridcolor": "white",
            "linecolor": "white",
            "ticks": ""
           },
           "bgcolor": "#E5ECF6",
           "radialaxis": {
            "gridcolor": "white",
            "linecolor": "white",
            "ticks": ""
           }
          },
          "scene": {
           "xaxis": {
            "backgroundcolor": "#E5ECF6",
            "gridcolor": "white",
            "gridwidth": 2,
            "linecolor": "white",
            "showbackground": true,
            "ticks": "",
            "zerolinecolor": "white"
           },
           "yaxis": {
            "backgroundcolor": "#E5ECF6",
            "gridcolor": "white",
            "gridwidth": 2,
            "linecolor": "white",
            "showbackground": true,
            "ticks": "",
            "zerolinecolor": "white"
           },
           "zaxis": {
            "backgroundcolor": "#E5ECF6",
            "gridcolor": "white",
            "gridwidth": 2,
            "linecolor": "white",
            "showbackground": true,
            "ticks": "",
            "zerolinecolor": "white"
           }
          },
          "shapedefaults": {
           "line": {
            "color": "#2a3f5f"
           }
          },
          "ternary": {
           "aaxis": {
            "gridcolor": "white",
            "linecolor": "white",
            "ticks": ""
           },
           "baxis": {
            "gridcolor": "white",
            "linecolor": "white",
            "ticks": ""
           },
           "bgcolor": "#E5ECF6",
           "caxis": {
            "gridcolor": "white",
            "linecolor": "white",
            "ticks": ""
           }
          },
          "title": {
           "x": 0.05
          },
          "xaxis": {
           "automargin": true,
           "gridcolor": "white",
           "linecolor": "white",
           "ticks": "",
           "title": {
            "standoff": 15
           },
           "zerolinecolor": "white",
           "zerolinewidth": 2
          },
          "yaxis": {
           "automargin": true,
           "gridcolor": "white",
           "linecolor": "white",
           "ticks": "",
           "title": {
            "standoff": 15
           },
           "zerolinecolor": "white",
           "zerolinewidth": 2
          }
         }
        }
       }
      },
      "text/html": [
       "<div>\n",
       "        \n",
       "        \n",
       "            <div id=\"b5fd74e4-64ab-4c90-ac90-ec57dfffbcca\" class=\"plotly-graph-div\" style=\"height:525px; width:100%;\"></div>\n",
       "            <script type=\"text/javascript\">\n",
       "                require([\"plotly\"], function(Plotly) {\n",
       "                    window.PLOTLYENV=window.PLOTLYENV || {};\n",
       "                    \n",
       "                if (document.getElementById(\"b5fd74e4-64ab-4c90-ac90-ec57dfffbcca\")) {\n",
       "                    Plotly.newPlot(\n",
       "                        'b5fd74e4-64ab-4c90-ac90-ec57dfffbcca',\n",
       "                        [{\"name\": \"2000_pop\", \"type\": \"bar\", \"x\": [\"Boise City city, Idaho\", \"Nampa city, Idaho\", \"Pocatello city, Idaho\", \"Idaho Falls city, Idaho\", \"Meridian city, Idaho\", \"Los Angeles city, California\", \"San Diego city, California\", \"San Jose city, California\", \"San Francisco city, California\", \"Long Beach city, California\", \"New York city, New York\", \"Buffalo city, New York\", \"Rochester city, New York\", \"Yonkers city, New York\", \"Syracuse city, New York\"], \"y\": [185787, 51867, 51466, 50730, 34919, 3694820, 1223400, 894943, 776733, 461522, 8008278, 292648, 219773, 196086, 147306]}, {\"name\": \"2010_pop\", \"type\": \"bar\", \"x\": [\"Boise City city, Idaho\", \"Nampa city, Idaho\", \"Pocatello city, Idaho\", \"Idaho Falls city, Idaho\", \"Meridian city, Idaho\", \"Los Angeles city, California\", \"San Diego city, California\", \"San Jose city, California\", \"San Francisco city, California\", \"Long Beach city, California\", \"New York city, New York\", \"Buffalo city, New York\", \"Rochester city, New York\", \"Yonkers city, New York\", \"Syracuse city, New York\"], \"y\": [205671.0, 81557.0, 54255.0, 56813.0, 75092.0, 3792621.0, 1307402.0, 945942.0, 805235.0, 462257.0, 8175133.0, 261310.0, 210565.0, 195976.0, 145170.0]}, {\"name\": \"2000_housing\", \"type\": \"bar\", \"x\": [\"Boise City city, Idaho\", \"Nampa city, Idaho\", \"Pocatello city, Idaho\", \"Idaho Falls city, Idaho\", \"Meridian city, Idaho\", \"Los Angeles city, California\", \"San Diego city, California\", \"San Jose city, California\", \"San Francisco city, California\", \"Long Beach city, California\", \"New York city, New York\", \"Buffalo city, New York\", \"Rochester city, New York\", \"Yonkers city, New York\", \"Syracuse city, New York\"], \"y\": [\"77850\", \"19379\", \"20627\", \"19771\", \"12293\", \"1337706\", \"469689\", \"281841\", \"346527\", \"171632\", \"3200912\", \"145574\", \"99789\", \"77589\", \"68192\"]}, {\"name\": \"2010_housing\", \"type\": \"bar\", \"x\": [\"Boise City city, Idaho\", \"Nampa city, Idaho\", \"Pocatello city, Idaho\", \"Idaho Falls city, Idaho\", \"Meridian city, Idaho\", \"Los Angeles city, California\", \"San Diego city, California\", \"San Jose city, California\", \"San Francisco city, California\", \"Long Beach city, California\", \"New York city, New York\", \"Buffalo city, New York\", \"Rochester city, New York\", \"Yonkers city, New York\", \"Syracuse city, New York\"], \"y\": [92700.0, 30507.0, 22404.0, 22977.0, 26674.0, 1413995.0, 516033.0, 314038.0, 376942.0, 176032.0, 3371062.0, 133444.0, 97158.0, 80389.0, 64356.0]}, {\"name\": \"2000_non-relatives\", \"type\": \"bar\", \"x\": [\"Boise City city, Idaho\", \"Nampa city, Idaho\", \"Pocatello city, Idaho\", \"Idaho Falls city, Idaho\", \"Meridian city, Idaho\", \"Los Angeles city, California\", \"San Diego city, California\", \"San Jose city, California\", \"San Francisco city, California\", \"Long Beach city, California\", \"New York city, New York\", \"Buffalo city, New York\", \"Rochester city, New York\", \"Yonkers city, New York\", \"Syracuse city, New York\"], \"y\": [\"185787\", \"51867\", \"51466\", \"50730\", \"34919\", \"3694820\", \"1223400\", \"894943\", \"776733\", \"461522\", \"8008278\", \"292648\", \"219773\", \"196086\", \"147306\"]}, {\"name\": \"2010_non-relatives\", \"type\": \"bar\", \"x\": [\"Boise City city, Idaho\", \"Nampa city, Idaho\", \"Pocatello city, Idaho\", \"Idaho Falls city, Idaho\", \"Meridian city, Idaho\", \"Los Angeles city, California\", \"San Diego city, California\", \"San Jose city, California\", \"San Francisco city, California\", \"Long Beach city, California\", \"New York city, New York\", \"Buffalo city, New York\", \"Rochester city, New York\", \"Yonkers city, New York\", \"Syracuse city, New York\"], \"y\": [85704.0, 27729.0, 20832.0, 21203.0, 25302.0, 1318168.0, 483092.0, 301366.0, 345811.0, 163531.0, 3109784.0, 112536.0, 87027.0, 74550.0, 57355.0]}],\n",
       "                        {\"barmode\": \"group\", \"template\": {\"data\": {\"bar\": [{\"error_x\": {\"color\": \"#2a3f5f\"}, \"error_y\": {\"color\": \"#2a3f5f\"}, \"marker\": {\"line\": {\"color\": \"#E5ECF6\", \"width\": 0.5}}, \"type\": \"bar\"}], \"barpolar\": [{\"marker\": {\"line\": {\"color\": \"#E5ECF6\", \"width\": 0.5}}, \"type\": \"barpolar\"}], \"carpet\": [{\"aaxis\": {\"endlinecolor\": \"#2a3f5f\", \"gridcolor\": \"white\", \"linecolor\": \"white\", \"minorgridcolor\": \"white\", \"startlinecolor\": \"#2a3f5f\"}, \"baxis\": {\"endlinecolor\": \"#2a3f5f\", \"gridcolor\": \"white\", \"linecolor\": \"white\", \"minorgridcolor\": \"white\", \"startlinecolor\": \"#2a3f5f\"}, \"type\": \"carpet\"}], \"choropleth\": [{\"colorbar\": {\"outlinewidth\": 0, \"ticks\": \"\"}, \"type\": \"choropleth\"}], \"contour\": [{\"colorbar\": {\"outlinewidth\": 0, \"ticks\": \"\"}, \"colorscale\": [[0.0, \"#0d0887\"], [0.1111111111111111, \"#46039f\"], [0.2222222222222222, \"#7201a8\"], [0.3333333333333333, \"#9c179e\"], [0.4444444444444444, \"#bd3786\"], [0.5555555555555556, \"#d8576b\"], [0.6666666666666666, \"#ed7953\"], [0.7777777777777778, \"#fb9f3a\"], [0.8888888888888888, \"#fdca26\"], [1.0, \"#f0f921\"]], \"type\": \"contour\"}], \"contourcarpet\": [{\"colorbar\": {\"outlinewidth\": 0, \"ticks\": \"\"}, \"type\": \"contourcarpet\"}], \"heatmap\": [{\"colorbar\": {\"outlinewidth\": 0, \"ticks\": \"\"}, \"colorscale\": [[0.0, \"#0d0887\"], [0.1111111111111111, \"#46039f\"], [0.2222222222222222, \"#7201a8\"], [0.3333333333333333, \"#9c179e\"], [0.4444444444444444, \"#bd3786\"], [0.5555555555555556, \"#d8576b\"], [0.6666666666666666, \"#ed7953\"], [0.7777777777777778, \"#fb9f3a\"], [0.8888888888888888, \"#fdca26\"], [1.0, \"#f0f921\"]], \"type\": \"heatmap\"}], \"heatmapgl\": [{\"colorbar\": {\"outlinewidth\": 0, \"ticks\": \"\"}, \"colorscale\": [[0.0, \"#0d0887\"], [0.1111111111111111, \"#46039f\"], [0.2222222222222222, \"#7201a8\"], [0.3333333333333333, \"#9c179e\"], [0.4444444444444444, \"#bd3786\"], [0.5555555555555556, \"#d8576b\"], [0.6666666666666666, \"#ed7953\"], [0.7777777777777778, \"#fb9f3a\"], [0.8888888888888888, \"#fdca26\"], [1.0, \"#f0f921\"]], \"type\": \"heatmapgl\"}], \"histogram\": [{\"marker\": {\"colorbar\": {\"outlinewidth\": 0, \"ticks\": \"\"}}, \"type\": \"histogram\"}], \"histogram2d\": [{\"colorbar\": {\"outlinewidth\": 0, \"ticks\": \"\"}, \"colorscale\": [[0.0, \"#0d0887\"], [0.1111111111111111, \"#46039f\"], [0.2222222222222222, \"#7201a8\"], [0.3333333333333333, \"#9c179e\"], [0.4444444444444444, \"#bd3786\"], [0.5555555555555556, \"#d8576b\"], [0.6666666666666666, \"#ed7953\"], [0.7777777777777778, \"#fb9f3a\"], [0.8888888888888888, \"#fdca26\"], [1.0, \"#f0f921\"]], \"type\": \"histogram2d\"}], \"histogram2dcontour\": [{\"colorbar\": {\"outlinewidth\": 0, \"ticks\": \"\"}, \"colorscale\": [[0.0, \"#0d0887\"], [0.1111111111111111, \"#46039f\"], [0.2222222222222222, \"#7201a8\"], [0.3333333333333333, \"#9c179e\"], [0.4444444444444444, \"#bd3786\"], [0.5555555555555556, \"#d8576b\"], [0.6666666666666666, \"#ed7953\"], [0.7777777777777778, \"#fb9f3a\"], [0.8888888888888888, \"#fdca26\"], [1.0, \"#f0f921\"]], \"type\": \"histogram2dcontour\"}], \"mesh3d\": [{\"colorbar\": {\"outlinewidth\": 0, \"ticks\": \"\"}, \"type\": \"mesh3d\"}], \"parcoords\": [{\"line\": {\"colorbar\": {\"outlinewidth\": 0, \"ticks\": \"\"}}, \"type\": \"parcoords\"}], \"pie\": [{\"automargin\": true, \"type\": \"pie\"}], \"scatter\": [{\"marker\": {\"colorbar\": {\"outlinewidth\": 0, \"ticks\": \"\"}}, \"type\": \"scatter\"}], \"scatter3d\": [{\"line\": {\"colorbar\": {\"outlinewidth\": 0, \"ticks\": \"\"}}, \"marker\": {\"colorbar\": {\"outlinewidth\": 0, \"ticks\": \"\"}}, \"type\": \"scatter3d\"}], \"scattercarpet\": [{\"marker\": {\"colorbar\": {\"outlinewidth\": 0, \"ticks\": \"\"}}, \"type\": \"scattercarpet\"}], \"scattergeo\": [{\"marker\": {\"colorbar\": {\"outlinewidth\": 0, \"ticks\": \"\"}}, \"type\": \"scattergeo\"}], \"scattergl\": [{\"marker\": {\"colorbar\": {\"outlinewidth\": 0, \"ticks\": \"\"}}, \"type\": \"scattergl\"}], \"scattermapbox\": [{\"marker\": {\"colorbar\": {\"outlinewidth\": 0, \"ticks\": \"\"}}, \"type\": \"scattermapbox\"}], \"scatterpolar\": [{\"marker\": {\"colorbar\": {\"outlinewidth\": 0, \"ticks\": \"\"}}, \"type\": \"scatterpolar\"}], \"scatterpolargl\": [{\"marker\": {\"colorbar\": {\"outlinewidth\": 0, \"ticks\": \"\"}}, \"type\": \"scatterpolargl\"}], \"scatterternary\": [{\"marker\": {\"colorbar\": {\"outlinewidth\": 0, \"ticks\": \"\"}}, \"type\": \"scatterternary\"}], \"surface\": [{\"colorbar\": {\"outlinewidth\": 0, \"ticks\": \"\"}, \"colorscale\": [[0.0, \"#0d0887\"], [0.1111111111111111, \"#46039f\"], [0.2222222222222222, \"#7201a8\"], [0.3333333333333333, \"#9c179e\"], [0.4444444444444444, \"#bd3786\"], [0.5555555555555556, \"#d8576b\"], [0.6666666666666666, \"#ed7953\"], [0.7777777777777778, \"#fb9f3a\"], [0.8888888888888888, \"#fdca26\"], [1.0, \"#f0f921\"]], \"type\": \"surface\"}], \"table\": [{\"cells\": {\"fill\": {\"color\": \"#EBF0F8\"}, \"line\": {\"color\": \"white\"}}, \"header\": {\"fill\": {\"color\": \"#C8D4E3\"}, \"line\": {\"color\": \"white\"}}, \"type\": \"table\"}]}, \"layout\": {\"annotationdefaults\": {\"arrowcolor\": \"#2a3f5f\", \"arrowhead\": 0, \"arrowwidth\": 1}, \"coloraxis\": {\"colorbar\": {\"outlinewidth\": 0, \"ticks\": \"\"}}, \"colorscale\": {\"diverging\": [[0, \"#8e0152\"], [0.1, \"#c51b7d\"], [0.2, \"#de77ae\"], [0.3, \"#f1b6da\"], [0.4, \"#fde0ef\"], [0.5, \"#f7f7f7\"], [0.6, \"#e6f5d0\"], [0.7, \"#b8e186\"], [0.8, \"#7fbc41\"], [0.9, \"#4d9221\"], [1, \"#276419\"]], \"sequential\": [[0.0, \"#0d0887\"], [0.1111111111111111, \"#46039f\"], [0.2222222222222222, \"#7201a8\"], [0.3333333333333333, \"#9c179e\"], [0.4444444444444444, \"#bd3786\"], [0.5555555555555556, \"#d8576b\"], [0.6666666666666666, \"#ed7953\"], [0.7777777777777778, \"#fb9f3a\"], [0.8888888888888888, \"#fdca26\"], [1.0, \"#f0f921\"]], \"sequentialminus\": [[0.0, \"#0d0887\"], [0.1111111111111111, \"#46039f\"], [0.2222222222222222, \"#7201a8\"], [0.3333333333333333, \"#9c179e\"], [0.4444444444444444, \"#bd3786\"], [0.5555555555555556, \"#d8576b\"], [0.6666666666666666, \"#ed7953\"], [0.7777777777777778, \"#fb9f3a\"], [0.8888888888888888, \"#fdca26\"], [1.0, \"#f0f921\"]]}, \"colorway\": [\"#636efa\", \"#EF553B\", \"#00cc96\", \"#ab63fa\", \"#FFA15A\", \"#19d3f3\", \"#FF6692\", \"#B6E880\", \"#FF97FF\", \"#FECB52\"], \"font\": {\"color\": \"#2a3f5f\"}, \"geo\": {\"bgcolor\": \"white\", \"lakecolor\": \"white\", \"landcolor\": \"#E5ECF6\", \"showlakes\": true, \"showland\": true, \"subunitcolor\": \"white\"}, \"hoverlabel\": {\"align\": \"left\"}, \"hovermode\": \"closest\", \"mapbox\": {\"style\": \"light\"}, \"paper_bgcolor\": \"white\", \"plot_bgcolor\": \"#E5ECF6\", \"polar\": {\"angularaxis\": {\"gridcolor\": \"white\", \"linecolor\": \"white\", \"ticks\": \"\"}, \"bgcolor\": \"#E5ECF6\", \"radialaxis\": {\"gridcolor\": \"white\", \"linecolor\": \"white\", \"ticks\": \"\"}}, \"scene\": {\"xaxis\": {\"backgroundcolor\": \"#E5ECF6\", \"gridcolor\": \"white\", \"gridwidth\": 2, \"linecolor\": \"white\", \"showbackground\": true, \"ticks\": \"\", \"zerolinecolor\": \"white\"}, \"yaxis\": {\"backgroundcolor\": \"#E5ECF6\", \"gridcolor\": \"white\", \"gridwidth\": 2, \"linecolor\": \"white\", \"showbackground\": true, \"ticks\": \"\", \"zerolinecolor\": \"white\"}, \"zaxis\": {\"backgroundcolor\": \"#E5ECF6\", \"gridcolor\": \"white\", \"gridwidth\": 2, \"linecolor\": \"white\", \"showbackground\": true, \"ticks\": \"\", \"zerolinecolor\": \"white\"}}, \"shapedefaults\": {\"line\": {\"color\": \"#2a3f5f\"}}, \"ternary\": {\"aaxis\": {\"gridcolor\": \"white\", \"linecolor\": \"white\", \"ticks\": \"\"}, \"baxis\": {\"gridcolor\": \"white\", \"linecolor\": \"white\", \"ticks\": \"\"}, \"bgcolor\": \"#E5ECF6\", \"caxis\": {\"gridcolor\": \"white\", \"linecolor\": \"white\", \"ticks\": \"\"}}, \"title\": {\"x\": 0.05}, \"xaxis\": {\"automargin\": true, \"gridcolor\": \"white\", \"linecolor\": \"white\", \"ticks\": \"\", \"title\": {\"standoff\": 15}, \"zerolinecolor\": \"white\", \"zerolinewidth\": 2}, \"yaxis\": {\"automargin\": true, \"gridcolor\": \"white\", \"linecolor\": \"white\", \"ticks\": \"\", \"title\": {\"standoff\": 15}, \"zerolinecolor\": \"white\", \"zerolinewidth\": 2}}}},\n",
       "                        {\"responsive\": true}\n",
       "                    ).then(function(){\n",
       "                            \n",
       "var gd = document.getElementById('b5fd74e4-64ab-4c90-ac90-ec57dfffbcca');\n",
       "var x = new MutationObserver(function (mutations, observer) {{\n",
       "        var display = window.getComputedStyle(gd).display;\n",
       "        if (!display || display === 'none') {{\n",
       "            console.log([gd, 'removed!']);\n",
       "            Plotly.purge(gd);\n",
       "            observer.disconnect();\n",
       "        }}\n",
       "}});\n",
       "\n",
       "// Listen for the removal of the full notebook cells\n",
       "var notebookContainer = gd.closest('#notebook-container');\n",
       "if (notebookContainer) {{\n",
       "    x.observe(notebookContainer, {childList: true});\n",
       "}}\n",
       "\n",
       "// Listen for the clearing of the current output cell\n",
       "var outputEl = gd.closest('.output');\n",
       "if (outputEl) {{\n",
       "    x.observe(outputEl, {childList: true});\n",
       "}}\n",
       "\n",
       "                        })\n",
       "                };\n",
       "                });\n",
       "            </script>\n",
       "        </div>"
      ]
     },
     "metadata": {},
     "output_type": "display_data"
    }
   ],
   "source": [
    "fig = go.Figure(data=[\n",
    "    go.Bar(name='2000_pop', x=three_state_df['City_Name'], y=three_state_df['Total_Population_2000']),\n",
    "    go.Bar(name='2010_pop', x=three_state_df['City_Name'], y=three_state_df['Total_Population_2010']),\n",
    "    go.Bar(name='2000_housing', x=three_state_df['City_Name'], y=three_state_df['Total_Housing_2000']),\n",
    "    go.Bar(name='2010_housing', x=three_state_df['City_Name'], y=three_state_df['Total_Housing_2010']),\n",
    "    go.Bar(name='2000_non-relatives', x=three_state_df['City_Name'], y=three_state_df['Presence_of_Non-Relatives_2000']),\n",
    "    go.Bar(name='2010_non-relatives', x=three_state_df['City_Name'], y=three_state_df['Presence_of_Non-Relatives_2010']),\n",
    "])\n",
    "fig.update_layout(barmode='group')\n",
    "fig.show()"
   ]
  },
  {
   "cell_type": "markdown",
   "metadata": {},
   "source": [
    "* This graph is hard to gather any useful data from due to how New York City and Los Angeles are skewing the graph, let's drop those cities from the graph"
   ]
  },
  {
   "cell_type": "code",
   "execution_count": 44,
   "metadata": {},
   "outputs": [],
   "source": [
    "three_state_df.drop(three_state_df[three_state_df['City_Name'] =='Los Angeles city, California'].index, inplace = True)\n",
    "three_state_df.drop(three_state_df[three_state_df['City_Name'] =='New York city, New York'].index, inplace = True)"
   ]
  },
  {
   "cell_type": "code",
   "execution_count": 45,
   "metadata": {},
   "outputs": [
    {
     "data": {
      "application/vnd.plotly.v1+json": {
       "config": {
        "plotlyServerURL": "https://plot.ly"
       },
       "data": [
        {
         "name": "2000_pop",
         "type": "bar",
         "x": [
          "Boise City city, Idaho",
          "Nampa city, Idaho",
          "Pocatello city, Idaho",
          "Idaho Falls city, Idaho",
          "Meridian city, Idaho",
          "San Diego city, California",
          "San Jose city, California",
          "San Francisco city, California",
          "Long Beach city, California",
          "Buffalo city, New York",
          "Rochester city, New York",
          "Yonkers city, New York",
          "Syracuse city, New York"
         ],
         "y": [
          185787,
          51867,
          51466,
          50730,
          34919,
          1223400,
          894943,
          776733,
          461522,
          292648,
          219773,
          196086,
          147306
         ]
        },
        {
         "name": "2010_pop",
         "type": "bar",
         "x": [
          "Boise City city, Idaho",
          "Nampa city, Idaho",
          "Pocatello city, Idaho",
          "Idaho Falls city, Idaho",
          "Meridian city, Idaho",
          "San Diego city, California",
          "San Jose city, California",
          "San Francisco city, California",
          "Long Beach city, California",
          "Buffalo city, New York",
          "Rochester city, New York",
          "Yonkers city, New York",
          "Syracuse city, New York"
         ],
         "y": [
          205671,
          81557,
          54255,
          56813,
          75092,
          1307402,
          945942,
          805235,
          462257,
          261310,
          210565,
          195976,
          145170
         ]
        },
        {
         "name": "2000_housing",
         "type": "bar",
         "x": [
          "Boise City city, Idaho",
          "Nampa city, Idaho",
          "Pocatello city, Idaho",
          "Idaho Falls city, Idaho",
          "Meridian city, Idaho",
          "San Diego city, California",
          "San Jose city, California",
          "San Francisco city, California",
          "Long Beach city, California",
          "Buffalo city, New York",
          "Rochester city, New York",
          "Yonkers city, New York",
          "Syracuse city, New York"
         ],
         "y": [
          "77850",
          "19379",
          "20627",
          "19771",
          "12293",
          "469689",
          "281841",
          "346527",
          "171632",
          "145574",
          "99789",
          "77589",
          "68192"
         ]
        },
        {
         "name": "2010_housing",
         "type": "bar",
         "x": [
          "Boise City city, Idaho",
          "Nampa city, Idaho",
          "Pocatello city, Idaho",
          "Idaho Falls city, Idaho",
          "Meridian city, Idaho",
          "San Diego city, California",
          "San Jose city, California",
          "San Francisco city, California",
          "Long Beach city, California",
          "Buffalo city, New York",
          "Rochester city, New York",
          "Yonkers city, New York",
          "Syracuse city, New York"
         ],
         "y": [
          92700,
          30507,
          22404,
          22977,
          26674,
          516033,
          314038,
          376942,
          176032,
          133444,
          97158,
          80389,
          64356
         ]
        },
        {
         "name": "2000_non-relatives",
         "type": "bar",
         "x": [
          "Boise City city, Idaho",
          "Nampa city, Idaho",
          "Pocatello city, Idaho",
          "Idaho Falls city, Idaho",
          "Meridian city, Idaho",
          "San Diego city, California",
          "San Jose city, California",
          "San Francisco city, California",
          "Long Beach city, California",
          "Buffalo city, New York",
          "Rochester city, New York",
          "Yonkers city, New York",
          "Syracuse city, New York"
         ],
         "y": [
          "185787",
          "51867",
          "51466",
          "50730",
          "34919",
          "1223400",
          "894943",
          "776733",
          "461522",
          "292648",
          "219773",
          "196086",
          "147306"
         ]
        },
        {
         "name": "2010_non-relatives",
         "type": "bar",
         "x": [
          "Boise City city, Idaho",
          "Nampa city, Idaho",
          "Pocatello city, Idaho",
          "Idaho Falls city, Idaho",
          "Meridian city, Idaho",
          "San Diego city, California",
          "San Jose city, California",
          "San Francisco city, California",
          "Long Beach city, California",
          "Buffalo city, New York",
          "Rochester city, New York",
          "Yonkers city, New York",
          "Syracuse city, New York"
         ],
         "y": [
          85704,
          27729,
          20832,
          21203,
          25302,
          483092,
          301366,
          345811,
          163531,
          112536,
          87027,
          74550,
          57355
         ]
        }
       ],
       "layout": {
        "barmode": "group",
        "template": {
         "data": {
          "bar": [
           {
            "error_x": {
             "color": "#2a3f5f"
            },
            "error_y": {
             "color": "#2a3f5f"
            },
            "marker": {
             "line": {
              "color": "#E5ECF6",
              "width": 0.5
             }
            },
            "type": "bar"
           }
          ],
          "barpolar": [
           {
            "marker": {
             "line": {
              "color": "#E5ECF6",
              "width": 0.5
             }
            },
            "type": "barpolar"
           }
          ],
          "carpet": [
           {
            "aaxis": {
             "endlinecolor": "#2a3f5f",
             "gridcolor": "white",
             "linecolor": "white",
             "minorgridcolor": "white",
             "startlinecolor": "#2a3f5f"
            },
            "baxis": {
             "endlinecolor": "#2a3f5f",
             "gridcolor": "white",
             "linecolor": "white",
             "minorgridcolor": "white",
             "startlinecolor": "#2a3f5f"
            },
            "type": "carpet"
           }
          ],
          "choropleth": [
           {
            "colorbar": {
             "outlinewidth": 0,
             "ticks": ""
            },
            "type": "choropleth"
           }
          ],
          "contour": [
           {
            "colorbar": {
             "outlinewidth": 0,
             "ticks": ""
            },
            "colorscale": [
             [
              0,
              "#0d0887"
             ],
             [
              0.1111111111111111,
              "#46039f"
             ],
             [
              0.2222222222222222,
              "#7201a8"
             ],
             [
              0.3333333333333333,
              "#9c179e"
             ],
             [
              0.4444444444444444,
              "#bd3786"
             ],
             [
              0.5555555555555556,
              "#d8576b"
             ],
             [
              0.6666666666666666,
              "#ed7953"
             ],
             [
              0.7777777777777778,
              "#fb9f3a"
             ],
             [
              0.8888888888888888,
              "#fdca26"
             ],
             [
              1,
              "#f0f921"
             ]
            ],
            "type": "contour"
           }
          ],
          "contourcarpet": [
           {
            "colorbar": {
             "outlinewidth": 0,
             "ticks": ""
            },
            "type": "contourcarpet"
           }
          ],
          "heatmap": [
           {
            "colorbar": {
             "outlinewidth": 0,
             "ticks": ""
            },
            "colorscale": [
             [
              0,
              "#0d0887"
             ],
             [
              0.1111111111111111,
              "#46039f"
             ],
             [
              0.2222222222222222,
              "#7201a8"
             ],
             [
              0.3333333333333333,
              "#9c179e"
             ],
             [
              0.4444444444444444,
              "#bd3786"
             ],
             [
              0.5555555555555556,
              "#d8576b"
             ],
             [
              0.6666666666666666,
              "#ed7953"
             ],
             [
              0.7777777777777778,
              "#fb9f3a"
             ],
             [
              0.8888888888888888,
              "#fdca26"
             ],
             [
              1,
              "#f0f921"
             ]
            ],
            "type": "heatmap"
           }
          ],
          "heatmapgl": [
           {
            "colorbar": {
             "outlinewidth": 0,
             "ticks": ""
            },
            "colorscale": [
             [
              0,
              "#0d0887"
             ],
             [
              0.1111111111111111,
              "#46039f"
             ],
             [
              0.2222222222222222,
              "#7201a8"
             ],
             [
              0.3333333333333333,
              "#9c179e"
             ],
             [
              0.4444444444444444,
              "#bd3786"
             ],
             [
              0.5555555555555556,
              "#d8576b"
             ],
             [
              0.6666666666666666,
              "#ed7953"
             ],
             [
              0.7777777777777778,
              "#fb9f3a"
             ],
             [
              0.8888888888888888,
              "#fdca26"
             ],
             [
              1,
              "#f0f921"
             ]
            ],
            "type": "heatmapgl"
           }
          ],
          "histogram": [
           {
            "marker": {
             "colorbar": {
              "outlinewidth": 0,
              "ticks": ""
             }
            },
            "type": "histogram"
           }
          ],
          "histogram2d": [
           {
            "colorbar": {
             "outlinewidth": 0,
             "ticks": ""
            },
            "colorscale": [
             [
              0,
              "#0d0887"
             ],
             [
              0.1111111111111111,
              "#46039f"
             ],
             [
              0.2222222222222222,
              "#7201a8"
             ],
             [
              0.3333333333333333,
              "#9c179e"
             ],
             [
              0.4444444444444444,
              "#bd3786"
             ],
             [
              0.5555555555555556,
              "#d8576b"
             ],
             [
              0.6666666666666666,
              "#ed7953"
             ],
             [
              0.7777777777777778,
              "#fb9f3a"
             ],
             [
              0.8888888888888888,
              "#fdca26"
             ],
             [
              1,
              "#f0f921"
             ]
            ],
            "type": "histogram2d"
           }
          ],
          "histogram2dcontour": [
           {
            "colorbar": {
             "outlinewidth": 0,
             "ticks": ""
            },
            "colorscale": [
             [
              0,
              "#0d0887"
             ],
             [
              0.1111111111111111,
              "#46039f"
             ],
             [
              0.2222222222222222,
              "#7201a8"
             ],
             [
              0.3333333333333333,
              "#9c179e"
             ],
             [
              0.4444444444444444,
              "#bd3786"
             ],
             [
              0.5555555555555556,
              "#d8576b"
             ],
             [
              0.6666666666666666,
              "#ed7953"
             ],
             [
              0.7777777777777778,
              "#fb9f3a"
             ],
             [
              0.8888888888888888,
              "#fdca26"
             ],
             [
              1,
              "#f0f921"
             ]
            ],
            "type": "histogram2dcontour"
           }
          ],
          "mesh3d": [
           {
            "colorbar": {
             "outlinewidth": 0,
             "ticks": ""
            },
            "type": "mesh3d"
           }
          ],
          "parcoords": [
           {
            "line": {
             "colorbar": {
              "outlinewidth": 0,
              "ticks": ""
             }
            },
            "type": "parcoords"
           }
          ],
          "pie": [
           {
            "automargin": true,
            "type": "pie"
           }
          ],
          "scatter": [
           {
            "marker": {
             "colorbar": {
              "outlinewidth": 0,
              "ticks": ""
             }
            },
            "type": "scatter"
           }
          ],
          "scatter3d": [
           {
            "line": {
             "colorbar": {
              "outlinewidth": 0,
              "ticks": ""
             }
            },
            "marker": {
             "colorbar": {
              "outlinewidth": 0,
              "ticks": ""
             }
            },
            "type": "scatter3d"
           }
          ],
          "scattercarpet": [
           {
            "marker": {
             "colorbar": {
              "outlinewidth": 0,
              "ticks": ""
             }
            },
            "type": "scattercarpet"
           }
          ],
          "scattergeo": [
           {
            "marker": {
             "colorbar": {
              "outlinewidth": 0,
              "ticks": ""
             }
            },
            "type": "scattergeo"
           }
          ],
          "scattergl": [
           {
            "marker": {
             "colorbar": {
              "outlinewidth": 0,
              "ticks": ""
             }
            },
            "type": "scattergl"
           }
          ],
          "scattermapbox": [
           {
            "marker": {
             "colorbar": {
              "outlinewidth": 0,
              "ticks": ""
             }
            },
            "type": "scattermapbox"
           }
          ],
          "scatterpolar": [
           {
            "marker": {
             "colorbar": {
              "outlinewidth": 0,
              "ticks": ""
             }
            },
            "type": "scatterpolar"
           }
          ],
          "scatterpolargl": [
           {
            "marker": {
             "colorbar": {
              "outlinewidth": 0,
              "ticks": ""
             }
            },
            "type": "scatterpolargl"
           }
          ],
          "scatterternary": [
           {
            "marker": {
             "colorbar": {
              "outlinewidth": 0,
              "ticks": ""
             }
            },
            "type": "scatterternary"
           }
          ],
          "surface": [
           {
            "colorbar": {
             "outlinewidth": 0,
             "ticks": ""
            },
            "colorscale": [
             [
              0,
              "#0d0887"
             ],
             [
              0.1111111111111111,
              "#46039f"
             ],
             [
              0.2222222222222222,
              "#7201a8"
             ],
             [
              0.3333333333333333,
              "#9c179e"
             ],
             [
              0.4444444444444444,
              "#bd3786"
             ],
             [
              0.5555555555555556,
              "#d8576b"
             ],
             [
              0.6666666666666666,
              "#ed7953"
             ],
             [
              0.7777777777777778,
              "#fb9f3a"
             ],
             [
              0.8888888888888888,
              "#fdca26"
             ],
             [
              1,
              "#f0f921"
             ]
            ],
            "type": "surface"
           }
          ],
          "table": [
           {
            "cells": {
             "fill": {
              "color": "#EBF0F8"
             },
             "line": {
              "color": "white"
             }
            },
            "header": {
             "fill": {
              "color": "#C8D4E3"
             },
             "line": {
              "color": "white"
             }
            },
            "type": "table"
           }
          ]
         },
         "layout": {
          "annotationdefaults": {
           "arrowcolor": "#2a3f5f",
           "arrowhead": 0,
           "arrowwidth": 1
          },
          "coloraxis": {
           "colorbar": {
            "outlinewidth": 0,
            "ticks": ""
           }
          },
          "colorscale": {
           "diverging": [
            [
             0,
             "#8e0152"
            ],
            [
             0.1,
             "#c51b7d"
            ],
            [
             0.2,
             "#de77ae"
            ],
            [
             0.3,
             "#f1b6da"
            ],
            [
             0.4,
             "#fde0ef"
            ],
            [
             0.5,
             "#f7f7f7"
            ],
            [
             0.6,
             "#e6f5d0"
            ],
            [
             0.7,
             "#b8e186"
            ],
            [
             0.8,
             "#7fbc41"
            ],
            [
             0.9,
             "#4d9221"
            ],
            [
             1,
             "#276419"
            ]
           ],
           "sequential": [
            [
             0,
             "#0d0887"
            ],
            [
             0.1111111111111111,
             "#46039f"
            ],
            [
             0.2222222222222222,
             "#7201a8"
            ],
            [
             0.3333333333333333,
             "#9c179e"
            ],
            [
             0.4444444444444444,
             "#bd3786"
            ],
            [
             0.5555555555555556,
             "#d8576b"
            ],
            [
             0.6666666666666666,
             "#ed7953"
            ],
            [
             0.7777777777777778,
             "#fb9f3a"
            ],
            [
             0.8888888888888888,
             "#fdca26"
            ],
            [
             1,
             "#f0f921"
            ]
           ],
           "sequentialminus": [
            [
             0,
             "#0d0887"
            ],
            [
             0.1111111111111111,
             "#46039f"
            ],
            [
             0.2222222222222222,
             "#7201a8"
            ],
            [
             0.3333333333333333,
             "#9c179e"
            ],
            [
             0.4444444444444444,
             "#bd3786"
            ],
            [
             0.5555555555555556,
             "#d8576b"
            ],
            [
             0.6666666666666666,
             "#ed7953"
            ],
            [
             0.7777777777777778,
             "#fb9f3a"
            ],
            [
             0.8888888888888888,
             "#fdca26"
            ],
            [
             1,
             "#f0f921"
            ]
           ]
          },
          "colorway": [
           "#636efa",
           "#EF553B",
           "#00cc96",
           "#ab63fa",
           "#FFA15A",
           "#19d3f3",
           "#FF6692",
           "#B6E880",
           "#FF97FF",
           "#FECB52"
          ],
          "font": {
           "color": "#2a3f5f"
          },
          "geo": {
           "bgcolor": "white",
           "lakecolor": "white",
           "landcolor": "#E5ECF6",
           "showlakes": true,
           "showland": true,
           "subunitcolor": "white"
          },
          "hoverlabel": {
           "align": "left"
          },
          "hovermode": "closest",
          "mapbox": {
           "style": "light"
          },
          "paper_bgcolor": "white",
          "plot_bgcolor": "#E5ECF6",
          "polar": {
           "angularaxis": {
            "gridcolor": "white",
            "linecolor": "white",
            "ticks": ""
           },
           "bgcolor": "#E5ECF6",
           "radialaxis": {
            "gridcolor": "white",
            "linecolor": "white",
            "ticks": ""
           }
          },
          "scene": {
           "xaxis": {
            "backgroundcolor": "#E5ECF6",
            "gridcolor": "white",
            "gridwidth": 2,
            "linecolor": "white",
            "showbackground": true,
            "ticks": "",
            "zerolinecolor": "white"
           },
           "yaxis": {
            "backgroundcolor": "#E5ECF6",
            "gridcolor": "white",
            "gridwidth": 2,
            "linecolor": "white",
            "showbackground": true,
            "ticks": "",
            "zerolinecolor": "white"
           },
           "zaxis": {
            "backgroundcolor": "#E5ECF6",
            "gridcolor": "white",
            "gridwidth": 2,
            "linecolor": "white",
            "showbackground": true,
            "ticks": "",
            "zerolinecolor": "white"
           }
          },
          "shapedefaults": {
           "line": {
            "color": "#2a3f5f"
           }
          },
          "ternary": {
           "aaxis": {
            "gridcolor": "white",
            "linecolor": "white",
            "ticks": ""
           },
           "baxis": {
            "gridcolor": "white",
            "linecolor": "white",
            "ticks": ""
           },
           "bgcolor": "#E5ECF6",
           "caxis": {
            "gridcolor": "white",
            "linecolor": "white",
            "ticks": ""
           }
          },
          "title": {
           "x": 0.05
          },
          "xaxis": {
           "automargin": true,
           "gridcolor": "white",
           "linecolor": "white",
           "ticks": "",
           "title": {
            "standoff": 15
           },
           "zerolinecolor": "white",
           "zerolinewidth": 2
          },
          "yaxis": {
           "automargin": true,
           "gridcolor": "white",
           "linecolor": "white",
           "ticks": "",
           "title": {
            "standoff": 15
           },
           "zerolinecolor": "white",
           "zerolinewidth": 2
          }
         }
        }
       }
      },
      "text/html": [
       "<div>\n",
       "        \n",
       "        \n",
       "            <div id=\"cdd8b6f8-7d5d-4957-8237-d352d63970b8\" class=\"plotly-graph-div\" style=\"height:525px; width:100%;\"></div>\n",
       "            <script type=\"text/javascript\">\n",
       "                require([\"plotly\"], function(Plotly) {\n",
       "                    window.PLOTLYENV=window.PLOTLYENV || {};\n",
       "                    \n",
       "                if (document.getElementById(\"cdd8b6f8-7d5d-4957-8237-d352d63970b8\")) {\n",
       "                    Plotly.newPlot(\n",
       "                        'cdd8b6f8-7d5d-4957-8237-d352d63970b8',\n",
       "                        [{\"name\": \"2000_pop\", \"type\": \"bar\", \"x\": [\"Boise City city, Idaho\", \"Nampa city, Idaho\", \"Pocatello city, Idaho\", \"Idaho Falls city, Idaho\", \"Meridian city, Idaho\", \"San Diego city, California\", \"San Jose city, California\", \"San Francisco city, California\", \"Long Beach city, California\", \"Buffalo city, New York\", \"Rochester city, New York\", \"Yonkers city, New York\", \"Syracuse city, New York\"], \"y\": [185787, 51867, 51466, 50730, 34919, 1223400, 894943, 776733, 461522, 292648, 219773, 196086, 147306]}, {\"name\": \"2010_pop\", \"type\": \"bar\", \"x\": [\"Boise City city, Idaho\", \"Nampa city, Idaho\", \"Pocatello city, Idaho\", \"Idaho Falls city, Idaho\", \"Meridian city, Idaho\", \"San Diego city, California\", \"San Jose city, California\", \"San Francisco city, California\", \"Long Beach city, California\", \"Buffalo city, New York\", \"Rochester city, New York\", \"Yonkers city, New York\", \"Syracuse city, New York\"], \"y\": [205671.0, 81557.0, 54255.0, 56813.0, 75092.0, 1307402.0, 945942.0, 805235.0, 462257.0, 261310.0, 210565.0, 195976.0, 145170.0]}, {\"name\": \"2000_housing\", \"type\": \"bar\", \"x\": [\"Boise City city, Idaho\", \"Nampa city, Idaho\", \"Pocatello city, Idaho\", \"Idaho Falls city, Idaho\", \"Meridian city, Idaho\", \"San Diego city, California\", \"San Jose city, California\", \"San Francisco city, California\", \"Long Beach city, California\", \"Buffalo city, New York\", \"Rochester city, New York\", \"Yonkers city, New York\", \"Syracuse city, New York\"], \"y\": [\"77850\", \"19379\", \"20627\", \"19771\", \"12293\", \"469689\", \"281841\", \"346527\", \"171632\", \"145574\", \"99789\", \"77589\", \"68192\"]}, {\"name\": \"2010_housing\", \"type\": \"bar\", \"x\": [\"Boise City city, Idaho\", \"Nampa city, Idaho\", \"Pocatello city, Idaho\", \"Idaho Falls city, Idaho\", \"Meridian city, Idaho\", \"San Diego city, California\", \"San Jose city, California\", \"San Francisco city, California\", \"Long Beach city, California\", \"Buffalo city, New York\", \"Rochester city, New York\", \"Yonkers city, New York\", \"Syracuse city, New York\"], \"y\": [92700.0, 30507.0, 22404.0, 22977.0, 26674.0, 516033.0, 314038.0, 376942.0, 176032.0, 133444.0, 97158.0, 80389.0, 64356.0]}, {\"name\": \"2000_non-relatives\", \"type\": \"bar\", \"x\": [\"Boise City city, Idaho\", \"Nampa city, Idaho\", \"Pocatello city, Idaho\", \"Idaho Falls city, Idaho\", \"Meridian city, Idaho\", \"San Diego city, California\", \"San Jose city, California\", \"San Francisco city, California\", \"Long Beach city, California\", \"Buffalo city, New York\", \"Rochester city, New York\", \"Yonkers city, New York\", \"Syracuse city, New York\"], \"y\": [\"185787\", \"51867\", \"51466\", \"50730\", \"34919\", \"1223400\", \"894943\", \"776733\", \"461522\", \"292648\", \"219773\", \"196086\", \"147306\"]}, {\"name\": \"2010_non-relatives\", \"type\": \"bar\", \"x\": [\"Boise City city, Idaho\", \"Nampa city, Idaho\", \"Pocatello city, Idaho\", \"Idaho Falls city, Idaho\", \"Meridian city, Idaho\", \"San Diego city, California\", \"San Jose city, California\", \"San Francisco city, California\", \"Long Beach city, California\", \"Buffalo city, New York\", \"Rochester city, New York\", \"Yonkers city, New York\", \"Syracuse city, New York\"], \"y\": [85704.0, 27729.0, 20832.0, 21203.0, 25302.0, 483092.0, 301366.0, 345811.0, 163531.0, 112536.0, 87027.0, 74550.0, 57355.0]}],\n",
       "                        {\"barmode\": \"group\", \"template\": {\"data\": {\"bar\": [{\"error_x\": {\"color\": \"#2a3f5f\"}, \"error_y\": {\"color\": \"#2a3f5f\"}, \"marker\": {\"line\": {\"color\": \"#E5ECF6\", \"width\": 0.5}}, \"type\": \"bar\"}], \"barpolar\": [{\"marker\": {\"line\": {\"color\": \"#E5ECF6\", \"width\": 0.5}}, \"type\": \"barpolar\"}], \"carpet\": [{\"aaxis\": {\"endlinecolor\": \"#2a3f5f\", \"gridcolor\": \"white\", \"linecolor\": \"white\", \"minorgridcolor\": \"white\", \"startlinecolor\": \"#2a3f5f\"}, \"baxis\": {\"endlinecolor\": \"#2a3f5f\", \"gridcolor\": \"white\", \"linecolor\": \"white\", \"minorgridcolor\": \"white\", \"startlinecolor\": \"#2a3f5f\"}, \"type\": \"carpet\"}], \"choropleth\": [{\"colorbar\": {\"outlinewidth\": 0, \"ticks\": \"\"}, \"type\": \"choropleth\"}], \"contour\": [{\"colorbar\": {\"outlinewidth\": 0, \"ticks\": \"\"}, \"colorscale\": [[0.0, \"#0d0887\"], [0.1111111111111111, \"#46039f\"], [0.2222222222222222, \"#7201a8\"], [0.3333333333333333, \"#9c179e\"], [0.4444444444444444, \"#bd3786\"], [0.5555555555555556, \"#d8576b\"], [0.6666666666666666, \"#ed7953\"], [0.7777777777777778, \"#fb9f3a\"], [0.8888888888888888, \"#fdca26\"], [1.0, \"#f0f921\"]], \"type\": \"contour\"}], \"contourcarpet\": [{\"colorbar\": {\"outlinewidth\": 0, \"ticks\": \"\"}, \"type\": \"contourcarpet\"}], \"heatmap\": [{\"colorbar\": {\"outlinewidth\": 0, \"ticks\": \"\"}, \"colorscale\": [[0.0, \"#0d0887\"], [0.1111111111111111, \"#46039f\"], [0.2222222222222222, \"#7201a8\"], [0.3333333333333333, \"#9c179e\"], [0.4444444444444444, \"#bd3786\"], [0.5555555555555556, \"#d8576b\"], [0.6666666666666666, \"#ed7953\"], [0.7777777777777778, \"#fb9f3a\"], [0.8888888888888888, \"#fdca26\"], [1.0, \"#f0f921\"]], \"type\": \"heatmap\"}], \"heatmapgl\": [{\"colorbar\": {\"outlinewidth\": 0, \"ticks\": \"\"}, \"colorscale\": [[0.0, \"#0d0887\"], [0.1111111111111111, \"#46039f\"], [0.2222222222222222, \"#7201a8\"], [0.3333333333333333, \"#9c179e\"], [0.4444444444444444, \"#bd3786\"], [0.5555555555555556, \"#d8576b\"], [0.6666666666666666, \"#ed7953\"], [0.7777777777777778, \"#fb9f3a\"], [0.8888888888888888, \"#fdca26\"], [1.0, \"#f0f921\"]], \"type\": \"heatmapgl\"}], \"histogram\": [{\"marker\": {\"colorbar\": {\"outlinewidth\": 0, \"ticks\": \"\"}}, \"type\": \"histogram\"}], \"histogram2d\": [{\"colorbar\": {\"outlinewidth\": 0, \"ticks\": \"\"}, \"colorscale\": [[0.0, \"#0d0887\"], [0.1111111111111111, \"#46039f\"], [0.2222222222222222, \"#7201a8\"], [0.3333333333333333, \"#9c179e\"], [0.4444444444444444, \"#bd3786\"], [0.5555555555555556, \"#d8576b\"], [0.6666666666666666, \"#ed7953\"], [0.7777777777777778, \"#fb9f3a\"], [0.8888888888888888, \"#fdca26\"], [1.0, \"#f0f921\"]], \"type\": \"histogram2d\"}], \"histogram2dcontour\": [{\"colorbar\": {\"outlinewidth\": 0, \"ticks\": \"\"}, \"colorscale\": [[0.0, \"#0d0887\"], [0.1111111111111111, \"#46039f\"], [0.2222222222222222, \"#7201a8\"], [0.3333333333333333, \"#9c179e\"], [0.4444444444444444, \"#bd3786\"], [0.5555555555555556, \"#d8576b\"], [0.6666666666666666, \"#ed7953\"], [0.7777777777777778, \"#fb9f3a\"], [0.8888888888888888, \"#fdca26\"], [1.0, \"#f0f921\"]], \"type\": \"histogram2dcontour\"}], \"mesh3d\": [{\"colorbar\": {\"outlinewidth\": 0, \"ticks\": \"\"}, \"type\": \"mesh3d\"}], \"parcoords\": [{\"line\": {\"colorbar\": {\"outlinewidth\": 0, \"ticks\": \"\"}}, \"type\": \"parcoords\"}], \"pie\": [{\"automargin\": true, \"type\": \"pie\"}], \"scatter\": [{\"marker\": {\"colorbar\": {\"outlinewidth\": 0, \"ticks\": \"\"}}, \"type\": \"scatter\"}], \"scatter3d\": [{\"line\": {\"colorbar\": {\"outlinewidth\": 0, \"ticks\": \"\"}}, \"marker\": {\"colorbar\": {\"outlinewidth\": 0, \"ticks\": \"\"}}, \"type\": \"scatter3d\"}], \"scattercarpet\": [{\"marker\": {\"colorbar\": {\"outlinewidth\": 0, \"ticks\": \"\"}}, \"type\": \"scattercarpet\"}], \"scattergeo\": [{\"marker\": {\"colorbar\": {\"outlinewidth\": 0, \"ticks\": \"\"}}, \"type\": \"scattergeo\"}], \"scattergl\": [{\"marker\": {\"colorbar\": {\"outlinewidth\": 0, \"ticks\": \"\"}}, \"type\": \"scattergl\"}], \"scattermapbox\": [{\"marker\": {\"colorbar\": {\"outlinewidth\": 0, \"ticks\": \"\"}}, \"type\": \"scattermapbox\"}], \"scatterpolar\": [{\"marker\": {\"colorbar\": {\"outlinewidth\": 0, \"ticks\": \"\"}}, \"type\": \"scatterpolar\"}], \"scatterpolargl\": [{\"marker\": {\"colorbar\": {\"outlinewidth\": 0, \"ticks\": \"\"}}, \"type\": \"scatterpolargl\"}], \"scatterternary\": [{\"marker\": {\"colorbar\": {\"outlinewidth\": 0, \"ticks\": \"\"}}, \"type\": \"scatterternary\"}], \"surface\": [{\"colorbar\": {\"outlinewidth\": 0, \"ticks\": \"\"}, \"colorscale\": [[0.0, \"#0d0887\"], [0.1111111111111111, \"#46039f\"], [0.2222222222222222, \"#7201a8\"], [0.3333333333333333, \"#9c179e\"], [0.4444444444444444, \"#bd3786\"], [0.5555555555555556, \"#d8576b\"], [0.6666666666666666, \"#ed7953\"], [0.7777777777777778, \"#fb9f3a\"], [0.8888888888888888, \"#fdca26\"], [1.0, \"#f0f921\"]], \"type\": \"surface\"}], \"table\": [{\"cells\": {\"fill\": {\"color\": \"#EBF0F8\"}, \"line\": {\"color\": \"white\"}}, \"header\": {\"fill\": {\"color\": \"#C8D4E3\"}, \"line\": {\"color\": \"white\"}}, \"type\": \"table\"}]}, \"layout\": {\"annotationdefaults\": {\"arrowcolor\": \"#2a3f5f\", \"arrowhead\": 0, \"arrowwidth\": 1}, \"coloraxis\": {\"colorbar\": {\"outlinewidth\": 0, \"ticks\": \"\"}}, \"colorscale\": {\"diverging\": [[0, \"#8e0152\"], [0.1, \"#c51b7d\"], [0.2, \"#de77ae\"], [0.3, \"#f1b6da\"], [0.4, \"#fde0ef\"], [0.5, \"#f7f7f7\"], [0.6, \"#e6f5d0\"], [0.7, \"#b8e186\"], [0.8, \"#7fbc41\"], [0.9, \"#4d9221\"], [1, \"#276419\"]], \"sequential\": [[0.0, \"#0d0887\"], [0.1111111111111111, \"#46039f\"], [0.2222222222222222, \"#7201a8\"], [0.3333333333333333, \"#9c179e\"], [0.4444444444444444, \"#bd3786\"], [0.5555555555555556, \"#d8576b\"], [0.6666666666666666, \"#ed7953\"], [0.7777777777777778, \"#fb9f3a\"], [0.8888888888888888, \"#fdca26\"], [1.0, \"#f0f921\"]], \"sequentialminus\": [[0.0, \"#0d0887\"], [0.1111111111111111, \"#46039f\"], [0.2222222222222222, \"#7201a8\"], [0.3333333333333333, \"#9c179e\"], [0.4444444444444444, \"#bd3786\"], [0.5555555555555556, \"#d8576b\"], [0.6666666666666666, \"#ed7953\"], [0.7777777777777778, \"#fb9f3a\"], [0.8888888888888888, \"#fdca26\"], [1.0, \"#f0f921\"]]}, \"colorway\": [\"#636efa\", \"#EF553B\", \"#00cc96\", \"#ab63fa\", \"#FFA15A\", \"#19d3f3\", \"#FF6692\", \"#B6E880\", \"#FF97FF\", \"#FECB52\"], \"font\": {\"color\": \"#2a3f5f\"}, \"geo\": {\"bgcolor\": \"white\", \"lakecolor\": \"white\", \"landcolor\": \"#E5ECF6\", \"showlakes\": true, \"showland\": true, \"subunitcolor\": \"white\"}, \"hoverlabel\": {\"align\": \"left\"}, \"hovermode\": \"closest\", \"mapbox\": {\"style\": \"light\"}, \"paper_bgcolor\": \"white\", \"plot_bgcolor\": \"#E5ECF6\", \"polar\": {\"angularaxis\": {\"gridcolor\": \"white\", \"linecolor\": \"white\", \"ticks\": \"\"}, \"bgcolor\": \"#E5ECF6\", \"radialaxis\": {\"gridcolor\": \"white\", \"linecolor\": \"white\", \"ticks\": \"\"}}, \"scene\": {\"xaxis\": {\"backgroundcolor\": \"#E5ECF6\", \"gridcolor\": \"white\", \"gridwidth\": 2, \"linecolor\": \"white\", \"showbackground\": true, \"ticks\": \"\", \"zerolinecolor\": \"white\"}, \"yaxis\": {\"backgroundcolor\": \"#E5ECF6\", \"gridcolor\": \"white\", \"gridwidth\": 2, \"linecolor\": \"white\", \"showbackground\": true, \"ticks\": \"\", \"zerolinecolor\": \"white\"}, \"zaxis\": {\"backgroundcolor\": \"#E5ECF6\", \"gridcolor\": \"white\", \"gridwidth\": 2, \"linecolor\": \"white\", \"showbackground\": true, \"ticks\": \"\", \"zerolinecolor\": \"white\"}}, \"shapedefaults\": {\"line\": {\"color\": \"#2a3f5f\"}}, \"ternary\": {\"aaxis\": {\"gridcolor\": \"white\", \"linecolor\": \"white\", \"ticks\": \"\"}, \"baxis\": {\"gridcolor\": \"white\", \"linecolor\": \"white\", \"ticks\": \"\"}, \"bgcolor\": \"#E5ECF6\", \"caxis\": {\"gridcolor\": \"white\", \"linecolor\": \"white\", \"ticks\": \"\"}}, \"title\": {\"x\": 0.05}, \"xaxis\": {\"automargin\": true, \"gridcolor\": \"white\", \"linecolor\": \"white\", \"ticks\": \"\", \"title\": {\"standoff\": 15}, \"zerolinecolor\": \"white\", \"zerolinewidth\": 2}, \"yaxis\": {\"automargin\": true, \"gridcolor\": \"white\", \"linecolor\": \"white\", \"ticks\": \"\", \"title\": {\"standoff\": 15}, \"zerolinecolor\": \"white\", \"zerolinewidth\": 2}}}},\n",
       "                        {\"responsive\": true}\n",
       "                    ).then(function(){\n",
       "                            \n",
       "var gd = document.getElementById('cdd8b6f8-7d5d-4957-8237-d352d63970b8');\n",
       "var x = new MutationObserver(function (mutations, observer) {{\n",
       "        var display = window.getComputedStyle(gd).display;\n",
       "        if (!display || display === 'none') {{\n",
       "            console.log([gd, 'removed!']);\n",
       "            Plotly.purge(gd);\n",
       "            observer.disconnect();\n",
       "        }}\n",
       "}});\n",
       "\n",
       "// Listen for the removal of the full notebook cells\n",
       "var notebookContainer = gd.closest('#notebook-container');\n",
       "if (notebookContainer) {{\n",
       "    x.observe(notebookContainer, {childList: true});\n",
       "}}\n",
       "\n",
       "// Listen for the clearing of the current output cell\n",
       "var outputEl = gd.closest('.output');\n",
       "if (outputEl) {{\n",
       "    x.observe(outputEl, {childList: true});\n",
       "}}\n",
       "\n",
       "                        })\n",
       "                };\n",
       "                });\n",
       "            </script>\n",
       "        </div>"
      ]
     },
     "metadata": {},
     "output_type": "display_data"
    }
   ],
   "source": [
    "fig = go.Figure(data=[\n",
    "    go.Bar(name='2000_pop', x=three_state_df['City_Name'], y=three_state_df['Total_Population_2000']),\n",
    "    go.Bar(name='2010_pop', x=three_state_df['City_Name'], y=three_state_df['Total_Population_2010']),\n",
    "    go.Bar(name='2000_housing', x=three_state_df['City_Name'], y=three_state_df['Total_Housing_2000']),\n",
    "    go.Bar(name='2010_housing', x=three_state_df['City_Name'], y=three_state_df['Total_Housing_2010']),\n",
    "    go.Bar(name='2000_non-relatives', x=three_state_df['City_Name'], y=three_state_df['Presence_of_Non-Relatives_2000']),\n",
    "    go.Bar(name='2010_non-relatives', x=three_state_df['City_Name'], y=three_state_df['Presence_of_Non-Relatives_2010']),\n",
    "])\n",
    "fig.update_layout(barmode='group')\n",
    "fig.show()"
   ]
  },
  {
   "cell_type": "markdown",
   "metadata": {},
   "source": [
    "* California is still being an issue, lets drop those cities form our graph"
   ]
  },
  {
   "cell_type": "code",
   "execution_count": 46,
   "metadata": {},
   "outputs": [],
   "source": [
    "three_state_df.drop(three_state_df[three_state_df['state'] ==states.CA.fips].index, inplace = True)"
   ]
  },
  {
   "cell_type": "code",
   "execution_count": 47,
   "metadata": {},
   "outputs": [
    {
     "data": {
      "application/vnd.plotly.v1+json": {
       "config": {
        "plotlyServerURL": "https://plot.ly"
       },
       "data": [
        {
         "name": "2000_pop",
         "type": "bar",
         "x": [
          "Boise City city, Idaho",
          "Nampa city, Idaho",
          "Pocatello city, Idaho",
          "Idaho Falls city, Idaho",
          "Meridian city, Idaho",
          "Buffalo city, New York",
          "Rochester city, New York",
          "Yonkers city, New York",
          "Syracuse city, New York"
         ],
         "y": [
          185787,
          51867,
          51466,
          50730,
          34919,
          292648,
          219773,
          196086,
          147306
         ]
        },
        {
         "name": "2010_pop",
         "type": "bar",
         "x": [
          "Boise City city, Idaho",
          "Nampa city, Idaho",
          "Pocatello city, Idaho",
          "Idaho Falls city, Idaho",
          "Meridian city, Idaho",
          "Buffalo city, New York",
          "Rochester city, New York",
          "Yonkers city, New York",
          "Syracuse city, New York"
         ],
         "y": [
          205671,
          81557,
          54255,
          56813,
          75092,
          261310,
          210565,
          195976,
          145170
         ]
        },
        {
         "name": "2000_housing",
         "type": "bar",
         "x": [
          "Boise City city, Idaho",
          "Nampa city, Idaho",
          "Pocatello city, Idaho",
          "Idaho Falls city, Idaho",
          "Meridian city, Idaho",
          "Buffalo city, New York",
          "Rochester city, New York",
          "Yonkers city, New York",
          "Syracuse city, New York"
         ],
         "y": [
          "77850",
          "19379",
          "20627",
          "19771",
          "12293",
          "145574",
          "99789",
          "77589",
          "68192"
         ]
        },
        {
         "name": "2010_housing",
         "type": "bar",
         "x": [
          "Boise City city, Idaho",
          "Nampa city, Idaho",
          "Pocatello city, Idaho",
          "Idaho Falls city, Idaho",
          "Meridian city, Idaho",
          "Buffalo city, New York",
          "Rochester city, New York",
          "Yonkers city, New York",
          "Syracuse city, New York"
         ],
         "y": [
          92700,
          30507,
          22404,
          22977,
          26674,
          133444,
          97158,
          80389,
          64356
         ]
        },
        {
         "name": "2000_non-relatives",
         "type": "bar",
         "x": [
          "Boise City city, Idaho",
          "Nampa city, Idaho",
          "Pocatello city, Idaho",
          "Idaho Falls city, Idaho",
          "Meridian city, Idaho",
          "Buffalo city, New York",
          "Rochester city, New York",
          "Yonkers city, New York",
          "Syracuse city, New York"
         ],
         "y": [
          "185787",
          "51867",
          "51466",
          "50730",
          "34919",
          "292648",
          "219773",
          "196086",
          "147306"
         ]
        },
        {
         "name": "2010_non-relatives",
         "type": "bar",
         "x": [
          "Boise City city, Idaho",
          "Nampa city, Idaho",
          "Pocatello city, Idaho",
          "Idaho Falls city, Idaho",
          "Meridian city, Idaho",
          "Buffalo city, New York",
          "Rochester city, New York",
          "Yonkers city, New York",
          "Syracuse city, New York"
         ],
         "y": [
          85704,
          27729,
          20832,
          21203,
          25302,
          112536,
          87027,
          74550,
          57355
         ]
        }
       ],
       "layout": {
        "barmode": "group",
        "template": {
         "data": {
          "bar": [
           {
            "error_x": {
             "color": "#2a3f5f"
            },
            "error_y": {
             "color": "#2a3f5f"
            },
            "marker": {
             "line": {
              "color": "#E5ECF6",
              "width": 0.5
             }
            },
            "type": "bar"
           }
          ],
          "barpolar": [
           {
            "marker": {
             "line": {
              "color": "#E5ECF6",
              "width": 0.5
             }
            },
            "type": "barpolar"
           }
          ],
          "carpet": [
           {
            "aaxis": {
             "endlinecolor": "#2a3f5f",
             "gridcolor": "white",
             "linecolor": "white",
             "minorgridcolor": "white",
             "startlinecolor": "#2a3f5f"
            },
            "baxis": {
             "endlinecolor": "#2a3f5f",
             "gridcolor": "white",
             "linecolor": "white",
             "minorgridcolor": "white",
             "startlinecolor": "#2a3f5f"
            },
            "type": "carpet"
           }
          ],
          "choropleth": [
           {
            "colorbar": {
             "outlinewidth": 0,
             "ticks": ""
            },
            "type": "choropleth"
           }
          ],
          "contour": [
           {
            "colorbar": {
             "outlinewidth": 0,
             "ticks": ""
            },
            "colorscale": [
             [
              0,
              "#0d0887"
             ],
             [
              0.1111111111111111,
              "#46039f"
             ],
             [
              0.2222222222222222,
              "#7201a8"
             ],
             [
              0.3333333333333333,
              "#9c179e"
             ],
             [
              0.4444444444444444,
              "#bd3786"
             ],
             [
              0.5555555555555556,
              "#d8576b"
             ],
             [
              0.6666666666666666,
              "#ed7953"
             ],
             [
              0.7777777777777778,
              "#fb9f3a"
             ],
             [
              0.8888888888888888,
              "#fdca26"
             ],
             [
              1,
              "#f0f921"
             ]
            ],
            "type": "contour"
           }
          ],
          "contourcarpet": [
           {
            "colorbar": {
             "outlinewidth": 0,
             "ticks": ""
            },
            "type": "contourcarpet"
           }
          ],
          "heatmap": [
           {
            "colorbar": {
             "outlinewidth": 0,
             "ticks": ""
            },
            "colorscale": [
             [
              0,
              "#0d0887"
             ],
             [
              0.1111111111111111,
              "#46039f"
             ],
             [
              0.2222222222222222,
              "#7201a8"
             ],
             [
              0.3333333333333333,
              "#9c179e"
             ],
             [
              0.4444444444444444,
              "#bd3786"
             ],
             [
              0.5555555555555556,
              "#d8576b"
             ],
             [
              0.6666666666666666,
              "#ed7953"
             ],
             [
              0.7777777777777778,
              "#fb9f3a"
             ],
             [
              0.8888888888888888,
              "#fdca26"
             ],
             [
              1,
              "#f0f921"
             ]
            ],
            "type": "heatmap"
           }
          ],
          "heatmapgl": [
           {
            "colorbar": {
             "outlinewidth": 0,
             "ticks": ""
            },
            "colorscale": [
             [
              0,
              "#0d0887"
             ],
             [
              0.1111111111111111,
              "#46039f"
             ],
             [
              0.2222222222222222,
              "#7201a8"
             ],
             [
              0.3333333333333333,
              "#9c179e"
             ],
             [
              0.4444444444444444,
              "#bd3786"
             ],
             [
              0.5555555555555556,
              "#d8576b"
             ],
             [
              0.6666666666666666,
              "#ed7953"
             ],
             [
              0.7777777777777778,
              "#fb9f3a"
             ],
             [
              0.8888888888888888,
              "#fdca26"
             ],
             [
              1,
              "#f0f921"
             ]
            ],
            "type": "heatmapgl"
           }
          ],
          "histogram": [
           {
            "marker": {
             "colorbar": {
              "outlinewidth": 0,
              "ticks": ""
             }
            },
            "type": "histogram"
           }
          ],
          "histogram2d": [
           {
            "colorbar": {
             "outlinewidth": 0,
             "ticks": ""
            },
            "colorscale": [
             [
              0,
              "#0d0887"
             ],
             [
              0.1111111111111111,
              "#46039f"
             ],
             [
              0.2222222222222222,
              "#7201a8"
             ],
             [
              0.3333333333333333,
              "#9c179e"
             ],
             [
              0.4444444444444444,
              "#bd3786"
             ],
             [
              0.5555555555555556,
              "#d8576b"
             ],
             [
              0.6666666666666666,
              "#ed7953"
             ],
             [
              0.7777777777777778,
              "#fb9f3a"
             ],
             [
              0.8888888888888888,
              "#fdca26"
             ],
             [
              1,
              "#f0f921"
             ]
            ],
            "type": "histogram2d"
           }
          ],
          "histogram2dcontour": [
           {
            "colorbar": {
             "outlinewidth": 0,
             "ticks": ""
            },
            "colorscale": [
             [
              0,
              "#0d0887"
             ],
             [
              0.1111111111111111,
              "#46039f"
             ],
             [
              0.2222222222222222,
              "#7201a8"
             ],
             [
              0.3333333333333333,
              "#9c179e"
             ],
             [
              0.4444444444444444,
              "#bd3786"
             ],
             [
              0.5555555555555556,
              "#d8576b"
             ],
             [
              0.6666666666666666,
              "#ed7953"
             ],
             [
              0.7777777777777778,
              "#fb9f3a"
             ],
             [
              0.8888888888888888,
              "#fdca26"
             ],
             [
              1,
              "#f0f921"
             ]
            ],
            "type": "histogram2dcontour"
           }
          ],
          "mesh3d": [
           {
            "colorbar": {
             "outlinewidth": 0,
             "ticks": ""
            },
            "type": "mesh3d"
           }
          ],
          "parcoords": [
           {
            "line": {
             "colorbar": {
              "outlinewidth": 0,
              "ticks": ""
             }
            },
            "type": "parcoords"
           }
          ],
          "pie": [
           {
            "automargin": true,
            "type": "pie"
           }
          ],
          "scatter": [
           {
            "marker": {
             "colorbar": {
              "outlinewidth": 0,
              "ticks": ""
             }
            },
            "type": "scatter"
           }
          ],
          "scatter3d": [
           {
            "line": {
             "colorbar": {
              "outlinewidth": 0,
              "ticks": ""
             }
            },
            "marker": {
             "colorbar": {
              "outlinewidth": 0,
              "ticks": ""
             }
            },
            "type": "scatter3d"
           }
          ],
          "scattercarpet": [
           {
            "marker": {
             "colorbar": {
              "outlinewidth": 0,
              "ticks": ""
             }
            },
            "type": "scattercarpet"
           }
          ],
          "scattergeo": [
           {
            "marker": {
             "colorbar": {
              "outlinewidth": 0,
              "ticks": ""
             }
            },
            "type": "scattergeo"
           }
          ],
          "scattergl": [
           {
            "marker": {
             "colorbar": {
              "outlinewidth": 0,
              "ticks": ""
             }
            },
            "type": "scattergl"
           }
          ],
          "scattermapbox": [
           {
            "marker": {
             "colorbar": {
              "outlinewidth": 0,
              "ticks": ""
             }
            },
            "type": "scattermapbox"
           }
          ],
          "scatterpolar": [
           {
            "marker": {
             "colorbar": {
              "outlinewidth": 0,
              "ticks": ""
             }
            },
            "type": "scatterpolar"
           }
          ],
          "scatterpolargl": [
           {
            "marker": {
             "colorbar": {
              "outlinewidth": 0,
              "ticks": ""
             }
            },
            "type": "scatterpolargl"
           }
          ],
          "scatterternary": [
           {
            "marker": {
             "colorbar": {
              "outlinewidth": 0,
              "ticks": ""
             }
            },
            "type": "scatterternary"
           }
          ],
          "surface": [
           {
            "colorbar": {
             "outlinewidth": 0,
             "ticks": ""
            },
            "colorscale": [
             [
              0,
              "#0d0887"
             ],
             [
              0.1111111111111111,
              "#46039f"
             ],
             [
              0.2222222222222222,
              "#7201a8"
             ],
             [
              0.3333333333333333,
              "#9c179e"
             ],
             [
              0.4444444444444444,
              "#bd3786"
             ],
             [
              0.5555555555555556,
              "#d8576b"
             ],
             [
              0.6666666666666666,
              "#ed7953"
             ],
             [
              0.7777777777777778,
              "#fb9f3a"
             ],
             [
              0.8888888888888888,
              "#fdca26"
             ],
             [
              1,
              "#f0f921"
             ]
            ],
            "type": "surface"
           }
          ],
          "table": [
           {
            "cells": {
             "fill": {
              "color": "#EBF0F8"
             },
             "line": {
              "color": "white"
             }
            },
            "header": {
             "fill": {
              "color": "#C8D4E3"
             },
             "line": {
              "color": "white"
             }
            },
            "type": "table"
           }
          ]
         },
         "layout": {
          "annotationdefaults": {
           "arrowcolor": "#2a3f5f",
           "arrowhead": 0,
           "arrowwidth": 1
          },
          "coloraxis": {
           "colorbar": {
            "outlinewidth": 0,
            "ticks": ""
           }
          },
          "colorscale": {
           "diverging": [
            [
             0,
             "#8e0152"
            ],
            [
             0.1,
             "#c51b7d"
            ],
            [
             0.2,
             "#de77ae"
            ],
            [
             0.3,
             "#f1b6da"
            ],
            [
             0.4,
             "#fde0ef"
            ],
            [
             0.5,
             "#f7f7f7"
            ],
            [
             0.6,
             "#e6f5d0"
            ],
            [
             0.7,
             "#b8e186"
            ],
            [
             0.8,
             "#7fbc41"
            ],
            [
             0.9,
             "#4d9221"
            ],
            [
             1,
             "#276419"
            ]
           ],
           "sequential": [
            [
             0,
             "#0d0887"
            ],
            [
             0.1111111111111111,
             "#46039f"
            ],
            [
             0.2222222222222222,
             "#7201a8"
            ],
            [
             0.3333333333333333,
             "#9c179e"
            ],
            [
             0.4444444444444444,
             "#bd3786"
            ],
            [
             0.5555555555555556,
             "#d8576b"
            ],
            [
             0.6666666666666666,
             "#ed7953"
            ],
            [
             0.7777777777777778,
             "#fb9f3a"
            ],
            [
             0.8888888888888888,
             "#fdca26"
            ],
            [
             1,
             "#f0f921"
            ]
           ],
           "sequentialminus": [
            [
             0,
             "#0d0887"
            ],
            [
             0.1111111111111111,
             "#46039f"
            ],
            [
             0.2222222222222222,
             "#7201a8"
            ],
            [
             0.3333333333333333,
             "#9c179e"
            ],
            [
             0.4444444444444444,
             "#bd3786"
            ],
            [
             0.5555555555555556,
             "#d8576b"
            ],
            [
             0.6666666666666666,
             "#ed7953"
            ],
            [
             0.7777777777777778,
             "#fb9f3a"
            ],
            [
             0.8888888888888888,
             "#fdca26"
            ],
            [
             1,
             "#f0f921"
            ]
           ]
          },
          "colorway": [
           "#636efa",
           "#EF553B",
           "#00cc96",
           "#ab63fa",
           "#FFA15A",
           "#19d3f3",
           "#FF6692",
           "#B6E880",
           "#FF97FF",
           "#FECB52"
          ],
          "font": {
           "color": "#2a3f5f"
          },
          "geo": {
           "bgcolor": "white",
           "lakecolor": "white",
           "landcolor": "#E5ECF6",
           "showlakes": true,
           "showland": true,
           "subunitcolor": "white"
          },
          "hoverlabel": {
           "align": "left"
          },
          "hovermode": "closest",
          "mapbox": {
           "style": "light"
          },
          "paper_bgcolor": "white",
          "plot_bgcolor": "#E5ECF6",
          "polar": {
           "angularaxis": {
            "gridcolor": "white",
            "linecolor": "white",
            "ticks": ""
           },
           "bgcolor": "#E5ECF6",
           "radialaxis": {
            "gridcolor": "white",
            "linecolor": "white",
            "ticks": ""
           }
          },
          "scene": {
           "xaxis": {
            "backgroundcolor": "#E5ECF6",
            "gridcolor": "white",
            "gridwidth": 2,
            "linecolor": "white",
            "showbackground": true,
            "ticks": "",
            "zerolinecolor": "white"
           },
           "yaxis": {
            "backgroundcolor": "#E5ECF6",
            "gridcolor": "white",
            "gridwidth": 2,
            "linecolor": "white",
            "showbackground": true,
            "ticks": "",
            "zerolinecolor": "white"
           },
           "zaxis": {
            "backgroundcolor": "#E5ECF6",
            "gridcolor": "white",
            "gridwidth": 2,
            "linecolor": "white",
            "showbackground": true,
            "ticks": "",
            "zerolinecolor": "white"
           }
          },
          "shapedefaults": {
           "line": {
            "color": "#2a3f5f"
           }
          },
          "ternary": {
           "aaxis": {
            "gridcolor": "white",
            "linecolor": "white",
            "ticks": ""
           },
           "baxis": {
            "gridcolor": "white",
            "linecolor": "white",
            "ticks": ""
           },
           "bgcolor": "#E5ECF6",
           "caxis": {
            "gridcolor": "white",
            "linecolor": "white",
            "ticks": ""
           }
          },
          "title": {
           "x": 0.05
          },
          "xaxis": {
           "automargin": true,
           "gridcolor": "white",
           "linecolor": "white",
           "ticks": "",
           "title": {
            "standoff": 15
           },
           "zerolinecolor": "white",
           "zerolinewidth": 2
          },
          "yaxis": {
           "automargin": true,
           "gridcolor": "white",
           "linecolor": "white",
           "ticks": "",
           "title": {
            "standoff": 15
           },
           "zerolinecolor": "white",
           "zerolinewidth": 2
          }
         }
        }
       }
      },
      "text/html": [
       "<div>\n",
       "        \n",
       "        \n",
       "            <div id=\"c81c71ed-7c6a-4a83-82a2-ef76c604bdb5\" class=\"plotly-graph-div\" style=\"height:525px; width:100%;\"></div>\n",
       "            <script type=\"text/javascript\">\n",
       "                require([\"plotly\"], function(Plotly) {\n",
       "                    window.PLOTLYENV=window.PLOTLYENV || {};\n",
       "                    \n",
       "                if (document.getElementById(\"c81c71ed-7c6a-4a83-82a2-ef76c604bdb5\")) {\n",
       "                    Plotly.newPlot(\n",
       "                        'c81c71ed-7c6a-4a83-82a2-ef76c604bdb5',\n",
       "                        [{\"name\": \"2000_pop\", \"type\": \"bar\", \"x\": [\"Boise City city, Idaho\", \"Nampa city, Idaho\", \"Pocatello city, Idaho\", \"Idaho Falls city, Idaho\", \"Meridian city, Idaho\", \"Buffalo city, New York\", \"Rochester city, New York\", \"Yonkers city, New York\", \"Syracuse city, New York\"], \"y\": [185787, 51867, 51466, 50730, 34919, 292648, 219773, 196086, 147306]}, {\"name\": \"2010_pop\", \"type\": \"bar\", \"x\": [\"Boise City city, Idaho\", \"Nampa city, Idaho\", \"Pocatello city, Idaho\", \"Idaho Falls city, Idaho\", \"Meridian city, Idaho\", \"Buffalo city, New York\", \"Rochester city, New York\", \"Yonkers city, New York\", \"Syracuse city, New York\"], \"y\": [205671.0, 81557.0, 54255.0, 56813.0, 75092.0, 261310.0, 210565.0, 195976.0, 145170.0]}, {\"name\": \"2000_housing\", \"type\": \"bar\", \"x\": [\"Boise City city, Idaho\", \"Nampa city, Idaho\", \"Pocatello city, Idaho\", \"Idaho Falls city, Idaho\", \"Meridian city, Idaho\", \"Buffalo city, New York\", \"Rochester city, New York\", \"Yonkers city, New York\", \"Syracuse city, New York\"], \"y\": [\"77850\", \"19379\", \"20627\", \"19771\", \"12293\", \"145574\", \"99789\", \"77589\", \"68192\"]}, {\"name\": \"2010_housing\", \"type\": \"bar\", \"x\": [\"Boise City city, Idaho\", \"Nampa city, Idaho\", \"Pocatello city, Idaho\", \"Idaho Falls city, Idaho\", \"Meridian city, Idaho\", \"Buffalo city, New York\", \"Rochester city, New York\", \"Yonkers city, New York\", \"Syracuse city, New York\"], \"y\": [92700.0, 30507.0, 22404.0, 22977.0, 26674.0, 133444.0, 97158.0, 80389.0, 64356.0]}, {\"name\": \"2000_non-relatives\", \"type\": \"bar\", \"x\": [\"Boise City city, Idaho\", \"Nampa city, Idaho\", \"Pocatello city, Idaho\", \"Idaho Falls city, Idaho\", \"Meridian city, Idaho\", \"Buffalo city, New York\", \"Rochester city, New York\", \"Yonkers city, New York\", \"Syracuse city, New York\"], \"y\": [\"185787\", \"51867\", \"51466\", \"50730\", \"34919\", \"292648\", \"219773\", \"196086\", \"147306\"]}, {\"name\": \"2010_non-relatives\", \"type\": \"bar\", \"x\": [\"Boise City city, Idaho\", \"Nampa city, Idaho\", \"Pocatello city, Idaho\", \"Idaho Falls city, Idaho\", \"Meridian city, Idaho\", \"Buffalo city, New York\", \"Rochester city, New York\", \"Yonkers city, New York\", \"Syracuse city, New York\"], \"y\": [85704.0, 27729.0, 20832.0, 21203.0, 25302.0, 112536.0, 87027.0, 74550.0, 57355.0]}],\n",
       "                        {\"barmode\": \"group\", \"template\": {\"data\": {\"bar\": [{\"error_x\": {\"color\": \"#2a3f5f\"}, \"error_y\": {\"color\": \"#2a3f5f\"}, \"marker\": {\"line\": {\"color\": \"#E5ECF6\", \"width\": 0.5}}, \"type\": \"bar\"}], \"barpolar\": [{\"marker\": {\"line\": {\"color\": \"#E5ECF6\", \"width\": 0.5}}, \"type\": \"barpolar\"}], \"carpet\": [{\"aaxis\": {\"endlinecolor\": \"#2a3f5f\", \"gridcolor\": \"white\", \"linecolor\": \"white\", \"minorgridcolor\": \"white\", \"startlinecolor\": \"#2a3f5f\"}, \"baxis\": {\"endlinecolor\": \"#2a3f5f\", \"gridcolor\": \"white\", \"linecolor\": \"white\", \"minorgridcolor\": \"white\", \"startlinecolor\": \"#2a3f5f\"}, \"type\": \"carpet\"}], \"choropleth\": [{\"colorbar\": {\"outlinewidth\": 0, \"ticks\": \"\"}, \"type\": \"choropleth\"}], \"contour\": [{\"colorbar\": {\"outlinewidth\": 0, \"ticks\": \"\"}, \"colorscale\": [[0.0, \"#0d0887\"], [0.1111111111111111, \"#46039f\"], [0.2222222222222222, \"#7201a8\"], [0.3333333333333333, \"#9c179e\"], [0.4444444444444444, \"#bd3786\"], [0.5555555555555556, \"#d8576b\"], [0.6666666666666666, \"#ed7953\"], [0.7777777777777778, \"#fb9f3a\"], [0.8888888888888888, \"#fdca26\"], [1.0, \"#f0f921\"]], \"type\": \"contour\"}], \"contourcarpet\": [{\"colorbar\": {\"outlinewidth\": 0, \"ticks\": \"\"}, \"type\": \"contourcarpet\"}], \"heatmap\": [{\"colorbar\": {\"outlinewidth\": 0, \"ticks\": \"\"}, \"colorscale\": [[0.0, \"#0d0887\"], [0.1111111111111111, \"#46039f\"], [0.2222222222222222, \"#7201a8\"], [0.3333333333333333, \"#9c179e\"], [0.4444444444444444, \"#bd3786\"], [0.5555555555555556, \"#d8576b\"], [0.6666666666666666, \"#ed7953\"], [0.7777777777777778, \"#fb9f3a\"], [0.8888888888888888, \"#fdca26\"], [1.0, \"#f0f921\"]], \"type\": \"heatmap\"}], \"heatmapgl\": [{\"colorbar\": {\"outlinewidth\": 0, \"ticks\": \"\"}, \"colorscale\": [[0.0, \"#0d0887\"], [0.1111111111111111, \"#46039f\"], [0.2222222222222222, \"#7201a8\"], [0.3333333333333333, \"#9c179e\"], [0.4444444444444444, \"#bd3786\"], [0.5555555555555556, \"#d8576b\"], [0.6666666666666666, \"#ed7953\"], [0.7777777777777778, \"#fb9f3a\"], [0.8888888888888888, \"#fdca26\"], [1.0, \"#f0f921\"]], \"type\": \"heatmapgl\"}], \"histogram\": [{\"marker\": {\"colorbar\": {\"outlinewidth\": 0, \"ticks\": \"\"}}, \"type\": \"histogram\"}], \"histogram2d\": [{\"colorbar\": {\"outlinewidth\": 0, \"ticks\": \"\"}, \"colorscale\": [[0.0, \"#0d0887\"], [0.1111111111111111, \"#46039f\"], [0.2222222222222222, \"#7201a8\"], [0.3333333333333333, \"#9c179e\"], [0.4444444444444444, \"#bd3786\"], [0.5555555555555556, \"#d8576b\"], [0.6666666666666666, \"#ed7953\"], [0.7777777777777778, \"#fb9f3a\"], [0.8888888888888888, \"#fdca26\"], [1.0, \"#f0f921\"]], \"type\": \"histogram2d\"}], \"histogram2dcontour\": [{\"colorbar\": {\"outlinewidth\": 0, \"ticks\": \"\"}, \"colorscale\": [[0.0, \"#0d0887\"], [0.1111111111111111, \"#46039f\"], [0.2222222222222222, \"#7201a8\"], [0.3333333333333333, \"#9c179e\"], [0.4444444444444444, \"#bd3786\"], [0.5555555555555556, \"#d8576b\"], [0.6666666666666666, \"#ed7953\"], [0.7777777777777778, \"#fb9f3a\"], [0.8888888888888888, \"#fdca26\"], [1.0, \"#f0f921\"]], \"type\": \"histogram2dcontour\"}], \"mesh3d\": [{\"colorbar\": {\"outlinewidth\": 0, \"ticks\": \"\"}, \"type\": \"mesh3d\"}], \"parcoords\": [{\"line\": {\"colorbar\": {\"outlinewidth\": 0, \"ticks\": \"\"}}, \"type\": \"parcoords\"}], \"pie\": [{\"automargin\": true, \"type\": \"pie\"}], \"scatter\": [{\"marker\": {\"colorbar\": {\"outlinewidth\": 0, \"ticks\": \"\"}}, \"type\": \"scatter\"}], \"scatter3d\": [{\"line\": {\"colorbar\": {\"outlinewidth\": 0, \"ticks\": \"\"}}, \"marker\": {\"colorbar\": {\"outlinewidth\": 0, \"ticks\": \"\"}}, \"type\": \"scatter3d\"}], \"scattercarpet\": [{\"marker\": {\"colorbar\": {\"outlinewidth\": 0, \"ticks\": \"\"}}, \"type\": \"scattercarpet\"}], \"scattergeo\": [{\"marker\": {\"colorbar\": {\"outlinewidth\": 0, \"ticks\": \"\"}}, \"type\": \"scattergeo\"}], \"scattergl\": [{\"marker\": {\"colorbar\": {\"outlinewidth\": 0, \"ticks\": \"\"}}, \"type\": \"scattergl\"}], \"scattermapbox\": [{\"marker\": {\"colorbar\": {\"outlinewidth\": 0, \"ticks\": \"\"}}, \"type\": \"scattermapbox\"}], \"scatterpolar\": [{\"marker\": {\"colorbar\": {\"outlinewidth\": 0, \"ticks\": \"\"}}, \"type\": \"scatterpolar\"}], \"scatterpolargl\": [{\"marker\": {\"colorbar\": {\"outlinewidth\": 0, \"ticks\": \"\"}}, \"type\": \"scatterpolargl\"}], \"scatterternary\": [{\"marker\": {\"colorbar\": {\"outlinewidth\": 0, \"ticks\": \"\"}}, \"type\": \"scatterternary\"}], \"surface\": [{\"colorbar\": {\"outlinewidth\": 0, \"ticks\": \"\"}, \"colorscale\": [[0.0, \"#0d0887\"], [0.1111111111111111, \"#46039f\"], [0.2222222222222222, \"#7201a8\"], [0.3333333333333333, \"#9c179e\"], [0.4444444444444444, \"#bd3786\"], [0.5555555555555556, \"#d8576b\"], [0.6666666666666666, \"#ed7953\"], [0.7777777777777778, \"#fb9f3a\"], [0.8888888888888888, \"#fdca26\"], [1.0, \"#f0f921\"]], \"type\": \"surface\"}], \"table\": [{\"cells\": {\"fill\": {\"color\": \"#EBF0F8\"}, \"line\": {\"color\": \"white\"}}, \"header\": {\"fill\": {\"color\": \"#C8D4E3\"}, \"line\": {\"color\": \"white\"}}, \"type\": \"table\"}]}, \"layout\": {\"annotationdefaults\": {\"arrowcolor\": \"#2a3f5f\", \"arrowhead\": 0, \"arrowwidth\": 1}, \"coloraxis\": {\"colorbar\": {\"outlinewidth\": 0, \"ticks\": \"\"}}, \"colorscale\": {\"diverging\": [[0, \"#8e0152\"], [0.1, \"#c51b7d\"], [0.2, \"#de77ae\"], [0.3, \"#f1b6da\"], [0.4, \"#fde0ef\"], [0.5, \"#f7f7f7\"], [0.6, \"#e6f5d0\"], [0.7, \"#b8e186\"], [0.8, \"#7fbc41\"], [0.9, \"#4d9221\"], [1, \"#276419\"]], \"sequential\": [[0.0, \"#0d0887\"], [0.1111111111111111, \"#46039f\"], [0.2222222222222222, \"#7201a8\"], [0.3333333333333333, \"#9c179e\"], [0.4444444444444444, \"#bd3786\"], [0.5555555555555556, \"#d8576b\"], [0.6666666666666666, \"#ed7953\"], [0.7777777777777778, \"#fb9f3a\"], [0.8888888888888888, \"#fdca26\"], [1.0, \"#f0f921\"]], \"sequentialminus\": [[0.0, \"#0d0887\"], [0.1111111111111111, \"#46039f\"], [0.2222222222222222, \"#7201a8\"], [0.3333333333333333, \"#9c179e\"], [0.4444444444444444, \"#bd3786\"], [0.5555555555555556, \"#d8576b\"], [0.6666666666666666, \"#ed7953\"], [0.7777777777777778, \"#fb9f3a\"], [0.8888888888888888, \"#fdca26\"], [1.0, \"#f0f921\"]]}, \"colorway\": [\"#636efa\", \"#EF553B\", \"#00cc96\", \"#ab63fa\", \"#FFA15A\", \"#19d3f3\", \"#FF6692\", \"#B6E880\", \"#FF97FF\", \"#FECB52\"], \"font\": {\"color\": \"#2a3f5f\"}, \"geo\": {\"bgcolor\": \"white\", \"lakecolor\": \"white\", \"landcolor\": \"#E5ECF6\", \"showlakes\": true, \"showland\": true, \"subunitcolor\": \"white\"}, \"hoverlabel\": {\"align\": \"left\"}, \"hovermode\": \"closest\", \"mapbox\": {\"style\": \"light\"}, \"paper_bgcolor\": \"white\", \"plot_bgcolor\": \"#E5ECF6\", \"polar\": {\"angularaxis\": {\"gridcolor\": \"white\", \"linecolor\": \"white\", \"ticks\": \"\"}, \"bgcolor\": \"#E5ECF6\", \"radialaxis\": {\"gridcolor\": \"white\", \"linecolor\": \"white\", \"ticks\": \"\"}}, \"scene\": {\"xaxis\": {\"backgroundcolor\": \"#E5ECF6\", \"gridcolor\": \"white\", \"gridwidth\": 2, \"linecolor\": \"white\", \"showbackground\": true, \"ticks\": \"\", \"zerolinecolor\": \"white\"}, \"yaxis\": {\"backgroundcolor\": \"#E5ECF6\", \"gridcolor\": \"white\", \"gridwidth\": 2, \"linecolor\": \"white\", \"showbackground\": true, \"ticks\": \"\", \"zerolinecolor\": \"white\"}, \"zaxis\": {\"backgroundcolor\": \"#E5ECF6\", \"gridcolor\": \"white\", \"gridwidth\": 2, \"linecolor\": \"white\", \"showbackground\": true, \"ticks\": \"\", \"zerolinecolor\": \"white\"}}, \"shapedefaults\": {\"line\": {\"color\": \"#2a3f5f\"}}, \"ternary\": {\"aaxis\": {\"gridcolor\": \"white\", \"linecolor\": \"white\", \"ticks\": \"\"}, \"baxis\": {\"gridcolor\": \"white\", \"linecolor\": \"white\", \"ticks\": \"\"}, \"bgcolor\": \"#E5ECF6\", \"caxis\": {\"gridcolor\": \"white\", \"linecolor\": \"white\", \"ticks\": \"\"}}, \"title\": {\"x\": 0.05}, \"xaxis\": {\"automargin\": true, \"gridcolor\": \"white\", \"linecolor\": \"white\", \"ticks\": \"\", \"title\": {\"standoff\": 15}, \"zerolinecolor\": \"white\", \"zerolinewidth\": 2}, \"yaxis\": {\"automargin\": true, \"gridcolor\": \"white\", \"linecolor\": \"white\", \"ticks\": \"\", \"title\": {\"standoff\": 15}, \"zerolinecolor\": \"white\", \"zerolinewidth\": 2}}}},\n",
       "                        {\"responsive\": true}\n",
       "                    ).then(function(){\n",
       "                            \n",
       "var gd = document.getElementById('c81c71ed-7c6a-4a83-82a2-ef76c604bdb5');\n",
       "var x = new MutationObserver(function (mutations, observer) {{\n",
       "        var display = window.getComputedStyle(gd).display;\n",
       "        if (!display || display === 'none') {{\n",
       "            console.log([gd, 'removed!']);\n",
       "            Plotly.purge(gd);\n",
       "            observer.disconnect();\n",
       "        }}\n",
       "}});\n",
       "\n",
       "// Listen for the removal of the full notebook cells\n",
       "var notebookContainer = gd.closest('#notebook-container');\n",
       "if (notebookContainer) {{\n",
       "    x.observe(notebookContainer, {childList: true});\n",
       "}}\n",
       "\n",
       "// Listen for the clearing of the current output cell\n",
       "var outputEl = gd.closest('.output');\n",
       "if (outputEl) {{\n",
       "    x.observe(outputEl, {childList: true});\n",
       "}}\n",
       "\n",
       "                        })\n",
       "                };\n",
       "                });\n",
       "            </script>\n",
       "        </div>"
      ]
     },
     "metadata": {},
     "output_type": "display_data"
    }
   ],
   "source": [
    "fig = go.Figure(data=[\n",
    "    go.Bar(name='2000_pop', x=three_state_df['City_Name'], y=three_state_df['Total_Population_2000']),\n",
    "    go.Bar(name='2010_pop', x=three_state_df['City_Name'], y=three_state_df['Total_Population_2010']),\n",
    "    go.Bar(name='2000_housing', x=three_state_df['City_Name'], y=three_state_df['Total_Housing_2000']),\n",
    "    go.Bar(name='2010_housing', x=three_state_df['City_Name'], y=three_state_df['Total_Housing_2010']),\n",
    "    go.Bar(name='2000_non-relatives', x=three_state_df['City_Name'], y=three_state_df['Presence_of_Non-Relatives_2000']),\n",
    "    go.Bar(name='2010_non-relatives', x=three_state_df['City_Name'], y=three_state_df['Presence_of_Non-Relatives_2010']),\n",
    "])\n",
    "fig.update_layout(barmode='group')\n",
    "fig.show()"
   ]
  },
  {
   "cell_type": "code",
   "execution_count": 48,
   "metadata": {},
   "outputs": [
    {
     "data": {
      "application/vnd.plotly.v1+json": {
       "config": {
        "plotlyServerURL": "https://plot.ly"
       },
       "data": [
        {
         "name": "2000_age",
         "type": "bar",
         "x": [
          "Boise City city, Idaho",
          "Nampa city, Idaho",
          "Pocatello city, Idaho",
          "Idaho Falls city, Idaho",
          "Meridian city, Idaho",
          "Buffalo city, New York",
          "Rochester city, New York",
          "Yonkers city, New York",
          "Syracuse city, New York"
         ],
         "y": [
          "32.8",
          "28.5",
          "28.8",
          "32.3",
          "30.1",
          "33.6",
          "30.8",
          "35.8",
          "30.5"
         ]
        },
        {
         "name": "2010_age",
         "type": "bar",
         "x": [
          "Boise City city, Idaho",
          "Nampa city, Idaho",
          "Pocatello city, Idaho",
          "Idaho Falls city, Idaho",
          "Meridian city, Idaho",
          "Buffalo city, New York",
          "Rochester city, New York",
          "Yonkers city, New York",
          "Syracuse city, New York"
         ],
         "y": [
          35.3,
          30.1,
          30.2,
          32.2,
          32.5,
          33.2,
          30.8,
          37.6,
          29.6
         ]
        }
       ],
       "layout": {
        "barmode": "group",
        "template": {
         "data": {
          "bar": [
           {
            "error_x": {
             "color": "#2a3f5f"
            },
            "error_y": {
             "color": "#2a3f5f"
            },
            "marker": {
             "line": {
              "color": "#E5ECF6",
              "width": 0.5
             }
            },
            "type": "bar"
           }
          ],
          "barpolar": [
           {
            "marker": {
             "line": {
              "color": "#E5ECF6",
              "width": 0.5
             }
            },
            "type": "barpolar"
           }
          ],
          "carpet": [
           {
            "aaxis": {
             "endlinecolor": "#2a3f5f",
             "gridcolor": "white",
             "linecolor": "white",
             "minorgridcolor": "white",
             "startlinecolor": "#2a3f5f"
            },
            "baxis": {
             "endlinecolor": "#2a3f5f",
             "gridcolor": "white",
             "linecolor": "white",
             "minorgridcolor": "white",
             "startlinecolor": "#2a3f5f"
            },
            "type": "carpet"
           }
          ],
          "choropleth": [
           {
            "colorbar": {
             "outlinewidth": 0,
             "ticks": ""
            },
            "type": "choropleth"
           }
          ],
          "contour": [
           {
            "colorbar": {
             "outlinewidth": 0,
             "ticks": ""
            },
            "colorscale": [
             [
              0,
              "#0d0887"
             ],
             [
              0.1111111111111111,
              "#46039f"
             ],
             [
              0.2222222222222222,
              "#7201a8"
             ],
             [
              0.3333333333333333,
              "#9c179e"
             ],
             [
              0.4444444444444444,
              "#bd3786"
             ],
             [
              0.5555555555555556,
              "#d8576b"
             ],
             [
              0.6666666666666666,
              "#ed7953"
             ],
             [
              0.7777777777777778,
              "#fb9f3a"
             ],
             [
              0.8888888888888888,
              "#fdca26"
             ],
             [
              1,
              "#f0f921"
             ]
            ],
            "type": "contour"
           }
          ],
          "contourcarpet": [
           {
            "colorbar": {
             "outlinewidth": 0,
             "ticks": ""
            },
            "type": "contourcarpet"
           }
          ],
          "heatmap": [
           {
            "colorbar": {
             "outlinewidth": 0,
             "ticks": ""
            },
            "colorscale": [
             [
              0,
              "#0d0887"
             ],
             [
              0.1111111111111111,
              "#46039f"
             ],
             [
              0.2222222222222222,
              "#7201a8"
             ],
             [
              0.3333333333333333,
              "#9c179e"
             ],
             [
              0.4444444444444444,
              "#bd3786"
             ],
             [
              0.5555555555555556,
              "#d8576b"
             ],
             [
              0.6666666666666666,
              "#ed7953"
             ],
             [
              0.7777777777777778,
              "#fb9f3a"
             ],
             [
              0.8888888888888888,
              "#fdca26"
             ],
             [
              1,
              "#f0f921"
             ]
            ],
            "type": "heatmap"
           }
          ],
          "heatmapgl": [
           {
            "colorbar": {
             "outlinewidth": 0,
             "ticks": ""
            },
            "colorscale": [
             [
              0,
              "#0d0887"
             ],
             [
              0.1111111111111111,
              "#46039f"
             ],
             [
              0.2222222222222222,
              "#7201a8"
             ],
             [
              0.3333333333333333,
              "#9c179e"
             ],
             [
              0.4444444444444444,
              "#bd3786"
             ],
             [
              0.5555555555555556,
              "#d8576b"
             ],
             [
              0.6666666666666666,
              "#ed7953"
             ],
             [
              0.7777777777777778,
              "#fb9f3a"
             ],
             [
              0.8888888888888888,
              "#fdca26"
             ],
             [
              1,
              "#f0f921"
             ]
            ],
            "type": "heatmapgl"
           }
          ],
          "histogram": [
           {
            "marker": {
             "colorbar": {
              "outlinewidth": 0,
              "ticks": ""
             }
            },
            "type": "histogram"
           }
          ],
          "histogram2d": [
           {
            "colorbar": {
             "outlinewidth": 0,
             "ticks": ""
            },
            "colorscale": [
             [
              0,
              "#0d0887"
             ],
             [
              0.1111111111111111,
              "#46039f"
             ],
             [
              0.2222222222222222,
              "#7201a8"
             ],
             [
              0.3333333333333333,
              "#9c179e"
             ],
             [
              0.4444444444444444,
              "#bd3786"
             ],
             [
              0.5555555555555556,
              "#d8576b"
             ],
             [
              0.6666666666666666,
              "#ed7953"
             ],
             [
              0.7777777777777778,
              "#fb9f3a"
             ],
             [
              0.8888888888888888,
              "#fdca26"
             ],
             [
              1,
              "#f0f921"
             ]
            ],
            "type": "histogram2d"
           }
          ],
          "histogram2dcontour": [
           {
            "colorbar": {
             "outlinewidth": 0,
             "ticks": ""
            },
            "colorscale": [
             [
              0,
              "#0d0887"
             ],
             [
              0.1111111111111111,
              "#46039f"
             ],
             [
              0.2222222222222222,
              "#7201a8"
             ],
             [
              0.3333333333333333,
              "#9c179e"
             ],
             [
              0.4444444444444444,
              "#bd3786"
             ],
             [
              0.5555555555555556,
              "#d8576b"
             ],
             [
              0.6666666666666666,
              "#ed7953"
             ],
             [
              0.7777777777777778,
              "#fb9f3a"
             ],
             [
              0.8888888888888888,
              "#fdca26"
             ],
             [
              1,
              "#f0f921"
             ]
            ],
            "type": "histogram2dcontour"
           }
          ],
          "mesh3d": [
           {
            "colorbar": {
             "outlinewidth": 0,
             "ticks": ""
            },
            "type": "mesh3d"
           }
          ],
          "parcoords": [
           {
            "line": {
             "colorbar": {
              "outlinewidth": 0,
              "ticks": ""
             }
            },
            "type": "parcoords"
           }
          ],
          "pie": [
           {
            "automargin": true,
            "type": "pie"
           }
          ],
          "scatter": [
           {
            "marker": {
             "colorbar": {
              "outlinewidth": 0,
              "ticks": ""
             }
            },
            "type": "scatter"
           }
          ],
          "scatter3d": [
           {
            "line": {
             "colorbar": {
              "outlinewidth": 0,
              "ticks": ""
             }
            },
            "marker": {
             "colorbar": {
              "outlinewidth": 0,
              "ticks": ""
             }
            },
            "type": "scatter3d"
           }
          ],
          "scattercarpet": [
           {
            "marker": {
             "colorbar": {
              "outlinewidth": 0,
              "ticks": ""
             }
            },
            "type": "scattercarpet"
           }
          ],
          "scattergeo": [
           {
            "marker": {
             "colorbar": {
              "outlinewidth": 0,
              "ticks": ""
             }
            },
            "type": "scattergeo"
           }
          ],
          "scattergl": [
           {
            "marker": {
             "colorbar": {
              "outlinewidth": 0,
              "ticks": ""
             }
            },
            "type": "scattergl"
           }
          ],
          "scattermapbox": [
           {
            "marker": {
             "colorbar": {
              "outlinewidth": 0,
              "ticks": ""
             }
            },
            "type": "scattermapbox"
           }
          ],
          "scatterpolar": [
           {
            "marker": {
             "colorbar": {
              "outlinewidth": 0,
              "ticks": ""
             }
            },
            "type": "scatterpolar"
           }
          ],
          "scatterpolargl": [
           {
            "marker": {
             "colorbar": {
              "outlinewidth": 0,
              "ticks": ""
             }
            },
            "type": "scatterpolargl"
           }
          ],
          "scatterternary": [
           {
            "marker": {
             "colorbar": {
              "outlinewidth": 0,
              "ticks": ""
             }
            },
            "type": "scatterternary"
           }
          ],
          "surface": [
           {
            "colorbar": {
             "outlinewidth": 0,
             "ticks": ""
            },
            "colorscale": [
             [
              0,
              "#0d0887"
             ],
             [
              0.1111111111111111,
              "#46039f"
             ],
             [
              0.2222222222222222,
              "#7201a8"
             ],
             [
              0.3333333333333333,
              "#9c179e"
             ],
             [
              0.4444444444444444,
              "#bd3786"
             ],
             [
              0.5555555555555556,
              "#d8576b"
             ],
             [
              0.6666666666666666,
              "#ed7953"
             ],
             [
              0.7777777777777778,
              "#fb9f3a"
             ],
             [
              0.8888888888888888,
              "#fdca26"
             ],
             [
              1,
              "#f0f921"
             ]
            ],
            "type": "surface"
           }
          ],
          "table": [
           {
            "cells": {
             "fill": {
              "color": "#EBF0F8"
             },
             "line": {
              "color": "white"
             }
            },
            "header": {
             "fill": {
              "color": "#C8D4E3"
             },
             "line": {
              "color": "white"
             }
            },
            "type": "table"
           }
          ]
         },
         "layout": {
          "annotationdefaults": {
           "arrowcolor": "#2a3f5f",
           "arrowhead": 0,
           "arrowwidth": 1
          },
          "coloraxis": {
           "colorbar": {
            "outlinewidth": 0,
            "ticks": ""
           }
          },
          "colorscale": {
           "diverging": [
            [
             0,
             "#8e0152"
            ],
            [
             0.1,
             "#c51b7d"
            ],
            [
             0.2,
             "#de77ae"
            ],
            [
             0.3,
             "#f1b6da"
            ],
            [
             0.4,
             "#fde0ef"
            ],
            [
             0.5,
             "#f7f7f7"
            ],
            [
             0.6,
             "#e6f5d0"
            ],
            [
             0.7,
             "#b8e186"
            ],
            [
             0.8,
             "#7fbc41"
            ],
            [
             0.9,
             "#4d9221"
            ],
            [
             1,
             "#276419"
            ]
           ],
           "sequential": [
            [
             0,
             "#0d0887"
            ],
            [
             0.1111111111111111,
             "#46039f"
            ],
            [
             0.2222222222222222,
             "#7201a8"
            ],
            [
             0.3333333333333333,
             "#9c179e"
            ],
            [
             0.4444444444444444,
             "#bd3786"
            ],
            [
             0.5555555555555556,
             "#d8576b"
            ],
            [
             0.6666666666666666,
             "#ed7953"
            ],
            [
             0.7777777777777778,
             "#fb9f3a"
            ],
            [
             0.8888888888888888,
             "#fdca26"
            ],
            [
             1,
             "#f0f921"
            ]
           ],
           "sequentialminus": [
            [
             0,
             "#0d0887"
            ],
            [
             0.1111111111111111,
             "#46039f"
            ],
            [
             0.2222222222222222,
             "#7201a8"
            ],
            [
             0.3333333333333333,
             "#9c179e"
            ],
            [
             0.4444444444444444,
             "#bd3786"
            ],
            [
             0.5555555555555556,
             "#d8576b"
            ],
            [
             0.6666666666666666,
             "#ed7953"
            ],
            [
             0.7777777777777778,
             "#fb9f3a"
            ],
            [
             0.8888888888888888,
             "#fdca26"
            ],
            [
             1,
             "#f0f921"
            ]
           ]
          },
          "colorway": [
           "#636efa",
           "#EF553B",
           "#00cc96",
           "#ab63fa",
           "#FFA15A",
           "#19d3f3",
           "#FF6692",
           "#B6E880",
           "#FF97FF",
           "#FECB52"
          ],
          "font": {
           "color": "#2a3f5f"
          },
          "geo": {
           "bgcolor": "white",
           "lakecolor": "white",
           "landcolor": "#E5ECF6",
           "showlakes": true,
           "showland": true,
           "subunitcolor": "white"
          },
          "hoverlabel": {
           "align": "left"
          },
          "hovermode": "closest",
          "mapbox": {
           "style": "light"
          },
          "paper_bgcolor": "white",
          "plot_bgcolor": "#E5ECF6",
          "polar": {
           "angularaxis": {
            "gridcolor": "white",
            "linecolor": "white",
            "ticks": ""
           },
           "bgcolor": "#E5ECF6",
           "radialaxis": {
            "gridcolor": "white",
            "linecolor": "white",
            "ticks": ""
           }
          },
          "scene": {
           "xaxis": {
            "backgroundcolor": "#E5ECF6",
            "gridcolor": "white",
            "gridwidth": 2,
            "linecolor": "white",
            "showbackground": true,
            "ticks": "",
            "zerolinecolor": "white"
           },
           "yaxis": {
            "backgroundcolor": "#E5ECF6",
            "gridcolor": "white",
            "gridwidth": 2,
            "linecolor": "white",
            "showbackground": true,
            "ticks": "",
            "zerolinecolor": "white"
           },
           "zaxis": {
            "backgroundcolor": "#E5ECF6",
            "gridcolor": "white",
            "gridwidth": 2,
            "linecolor": "white",
            "showbackground": true,
            "ticks": "",
            "zerolinecolor": "white"
           }
          },
          "shapedefaults": {
           "line": {
            "color": "#2a3f5f"
           }
          },
          "ternary": {
           "aaxis": {
            "gridcolor": "white",
            "linecolor": "white",
            "ticks": ""
           },
           "baxis": {
            "gridcolor": "white",
            "linecolor": "white",
            "ticks": ""
           },
           "bgcolor": "#E5ECF6",
           "caxis": {
            "gridcolor": "white",
            "linecolor": "white",
            "ticks": ""
           }
          },
          "title": {
           "x": 0.05
          },
          "xaxis": {
           "automargin": true,
           "gridcolor": "white",
           "linecolor": "white",
           "ticks": "",
           "title": {
            "standoff": 15
           },
           "zerolinecolor": "white",
           "zerolinewidth": 2
          },
          "yaxis": {
           "automargin": true,
           "gridcolor": "white",
           "linecolor": "white",
           "ticks": "",
           "title": {
            "standoff": 15
           },
           "zerolinecolor": "white",
           "zerolinewidth": 2
          }
         }
        }
       }
      },
      "text/html": [
       "<div>\n",
       "        \n",
       "        \n",
       "            <div id=\"a52ca976-f971-4856-b5d4-9be44571621b\" class=\"plotly-graph-div\" style=\"height:525px; width:100%;\"></div>\n",
       "            <script type=\"text/javascript\">\n",
       "                require([\"plotly\"], function(Plotly) {\n",
       "                    window.PLOTLYENV=window.PLOTLYENV || {};\n",
       "                    \n",
       "                if (document.getElementById(\"a52ca976-f971-4856-b5d4-9be44571621b\")) {\n",
       "                    Plotly.newPlot(\n",
       "                        'a52ca976-f971-4856-b5d4-9be44571621b',\n",
       "                        [{\"name\": \"2000_age\", \"type\": \"bar\", \"x\": [\"Boise City city, Idaho\", \"Nampa city, Idaho\", \"Pocatello city, Idaho\", \"Idaho Falls city, Idaho\", \"Meridian city, Idaho\", \"Buffalo city, New York\", \"Rochester city, New York\", \"Yonkers city, New York\", \"Syracuse city, New York\"], \"y\": [\"32.8\", \"28.5\", \"28.8\", \"32.3\", \"30.1\", \"33.6\", \"30.8\", \"35.8\", \"30.5\"]}, {\"name\": \"2010_age\", \"type\": \"bar\", \"x\": [\"Boise City city, Idaho\", \"Nampa city, Idaho\", \"Pocatello city, Idaho\", \"Idaho Falls city, Idaho\", \"Meridian city, Idaho\", \"Buffalo city, New York\", \"Rochester city, New York\", \"Yonkers city, New York\", \"Syracuse city, New York\"], \"y\": [35.3, 30.1, 30.2, 32.2, 32.5, 33.2, 30.8, 37.6, 29.6]}],\n",
       "                        {\"barmode\": \"group\", \"template\": {\"data\": {\"bar\": [{\"error_x\": {\"color\": \"#2a3f5f\"}, \"error_y\": {\"color\": \"#2a3f5f\"}, \"marker\": {\"line\": {\"color\": \"#E5ECF6\", \"width\": 0.5}}, \"type\": \"bar\"}], \"barpolar\": [{\"marker\": {\"line\": {\"color\": \"#E5ECF6\", \"width\": 0.5}}, \"type\": \"barpolar\"}], \"carpet\": [{\"aaxis\": {\"endlinecolor\": \"#2a3f5f\", \"gridcolor\": \"white\", \"linecolor\": \"white\", \"minorgridcolor\": \"white\", \"startlinecolor\": \"#2a3f5f\"}, \"baxis\": {\"endlinecolor\": \"#2a3f5f\", \"gridcolor\": \"white\", \"linecolor\": \"white\", \"minorgridcolor\": \"white\", \"startlinecolor\": \"#2a3f5f\"}, \"type\": \"carpet\"}], \"choropleth\": [{\"colorbar\": {\"outlinewidth\": 0, \"ticks\": \"\"}, \"type\": \"choropleth\"}], \"contour\": [{\"colorbar\": {\"outlinewidth\": 0, \"ticks\": \"\"}, \"colorscale\": [[0.0, \"#0d0887\"], [0.1111111111111111, \"#46039f\"], [0.2222222222222222, \"#7201a8\"], [0.3333333333333333, \"#9c179e\"], [0.4444444444444444, \"#bd3786\"], [0.5555555555555556, \"#d8576b\"], [0.6666666666666666, \"#ed7953\"], [0.7777777777777778, \"#fb9f3a\"], [0.8888888888888888, \"#fdca26\"], [1.0, \"#f0f921\"]], \"type\": \"contour\"}], \"contourcarpet\": [{\"colorbar\": {\"outlinewidth\": 0, \"ticks\": \"\"}, \"type\": \"contourcarpet\"}], \"heatmap\": [{\"colorbar\": {\"outlinewidth\": 0, \"ticks\": \"\"}, \"colorscale\": [[0.0, \"#0d0887\"], [0.1111111111111111, \"#46039f\"], [0.2222222222222222, \"#7201a8\"], [0.3333333333333333, \"#9c179e\"], [0.4444444444444444, \"#bd3786\"], [0.5555555555555556, \"#d8576b\"], [0.6666666666666666, \"#ed7953\"], [0.7777777777777778, \"#fb9f3a\"], [0.8888888888888888, \"#fdca26\"], [1.0, \"#f0f921\"]], \"type\": \"heatmap\"}], \"heatmapgl\": [{\"colorbar\": {\"outlinewidth\": 0, \"ticks\": \"\"}, \"colorscale\": [[0.0, \"#0d0887\"], [0.1111111111111111, \"#46039f\"], [0.2222222222222222, \"#7201a8\"], [0.3333333333333333, \"#9c179e\"], [0.4444444444444444, \"#bd3786\"], [0.5555555555555556, \"#d8576b\"], [0.6666666666666666, \"#ed7953\"], [0.7777777777777778, \"#fb9f3a\"], [0.8888888888888888, \"#fdca26\"], [1.0, \"#f0f921\"]], \"type\": \"heatmapgl\"}], \"histogram\": [{\"marker\": {\"colorbar\": {\"outlinewidth\": 0, \"ticks\": \"\"}}, \"type\": \"histogram\"}], \"histogram2d\": [{\"colorbar\": {\"outlinewidth\": 0, \"ticks\": \"\"}, \"colorscale\": [[0.0, \"#0d0887\"], [0.1111111111111111, \"#46039f\"], [0.2222222222222222, \"#7201a8\"], [0.3333333333333333, \"#9c179e\"], [0.4444444444444444, \"#bd3786\"], [0.5555555555555556, \"#d8576b\"], [0.6666666666666666, \"#ed7953\"], [0.7777777777777778, \"#fb9f3a\"], [0.8888888888888888, \"#fdca26\"], [1.0, \"#f0f921\"]], \"type\": \"histogram2d\"}], \"histogram2dcontour\": [{\"colorbar\": {\"outlinewidth\": 0, \"ticks\": \"\"}, \"colorscale\": [[0.0, \"#0d0887\"], [0.1111111111111111, \"#46039f\"], [0.2222222222222222, \"#7201a8\"], [0.3333333333333333, \"#9c179e\"], [0.4444444444444444, \"#bd3786\"], [0.5555555555555556, \"#d8576b\"], [0.6666666666666666, \"#ed7953\"], [0.7777777777777778, \"#fb9f3a\"], [0.8888888888888888, \"#fdca26\"], [1.0, \"#f0f921\"]], \"type\": \"histogram2dcontour\"}], \"mesh3d\": [{\"colorbar\": {\"outlinewidth\": 0, \"ticks\": \"\"}, \"type\": \"mesh3d\"}], \"parcoords\": [{\"line\": {\"colorbar\": {\"outlinewidth\": 0, \"ticks\": \"\"}}, \"type\": \"parcoords\"}], \"pie\": [{\"automargin\": true, \"type\": \"pie\"}], \"scatter\": [{\"marker\": {\"colorbar\": {\"outlinewidth\": 0, \"ticks\": \"\"}}, \"type\": \"scatter\"}], \"scatter3d\": [{\"line\": {\"colorbar\": {\"outlinewidth\": 0, \"ticks\": \"\"}}, \"marker\": {\"colorbar\": {\"outlinewidth\": 0, \"ticks\": \"\"}}, \"type\": \"scatter3d\"}], \"scattercarpet\": [{\"marker\": {\"colorbar\": {\"outlinewidth\": 0, \"ticks\": \"\"}}, \"type\": \"scattercarpet\"}], \"scattergeo\": [{\"marker\": {\"colorbar\": {\"outlinewidth\": 0, \"ticks\": \"\"}}, \"type\": \"scattergeo\"}], \"scattergl\": [{\"marker\": {\"colorbar\": {\"outlinewidth\": 0, \"ticks\": \"\"}}, \"type\": \"scattergl\"}], \"scattermapbox\": [{\"marker\": {\"colorbar\": {\"outlinewidth\": 0, \"ticks\": \"\"}}, \"type\": \"scattermapbox\"}], \"scatterpolar\": [{\"marker\": {\"colorbar\": {\"outlinewidth\": 0, \"ticks\": \"\"}}, \"type\": \"scatterpolar\"}], \"scatterpolargl\": [{\"marker\": {\"colorbar\": {\"outlinewidth\": 0, \"ticks\": \"\"}}, \"type\": \"scatterpolargl\"}], \"scatterternary\": [{\"marker\": {\"colorbar\": {\"outlinewidth\": 0, \"ticks\": \"\"}}, \"type\": \"scatterternary\"}], \"surface\": [{\"colorbar\": {\"outlinewidth\": 0, \"ticks\": \"\"}, \"colorscale\": [[0.0, \"#0d0887\"], [0.1111111111111111, \"#46039f\"], [0.2222222222222222, \"#7201a8\"], [0.3333333333333333, \"#9c179e\"], [0.4444444444444444, \"#bd3786\"], [0.5555555555555556, \"#d8576b\"], [0.6666666666666666, \"#ed7953\"], [0.7777777777777778, \"#fb9f3a\"], [0.8888888888888888, \"#fdca26\"], [1.0, \"#f0f921\"]], \"type\": \"surface\"}], \"table\": [{\"cells\": {\"fill\": {\"color\": \"#EBF0F8\"}, \"line\": {\"color\": \"white\"}}, \"header\": {\"fill\": {\"color\": \"#C8D4E3\"}, \"line\": {\"color\": \"white\"}}, \"type\": \"table\"}]}, \"layout\": {\"annotationdefaults\": {\"arrowcolor\": \"#2a3f5f\", \"arrowhead\": 0, \"arrowwidth\": 1}, \"coloraxis\": {\"colorbar\": {\"outlinewidth\": 0, \"ticks\": \"\"}}, \"colorscale\": {\"diverging\": [[0, \"#8e0152\"], [0.1, \"#c51b7d\"], [0.2, \"#de77ae\"], [0.3, \"#f1b6da\"], [0.4, \"#fde0ef\"], [0.5, \"#f7f7f7\"], [0.6, \"#e6f5d0\"], [0.7, \"#b8e186\"], [0.8, \"#7fbc41\"], [0.9, \"#4d9221\"], [1, \"#276419\"]], \"sequential\": [[0.0, \"#0d0887\"], [0.1111111111111111, \"#46039f\"], [0.2222222222222222, \"#7201a8\"], [0.3333333333333333, \"#9c179e\"], [0.4444444444444444, \"#bd3786\"], [0.5555555555555556, \"#d8576b\"], [0.6666666666666666, \"#ed7953\"], [0.7777777777777778, \"#fb9f3a\"], [0.8888888888888888, \"#fdca26\"], [1.0, \"#f0f921\"]], \"sequentialminus\": [[0.0, \"#0d0887\"], [0.1111111111111111, \"#46039f\"], [0.2222222222222222, \"#7201a8\"], [0.3333333333333333, \"#9c179e\"], [0.4444444444444444, \"#bd3786\"], [0.5555555555555556, \"#d8576b\"], [0.6666666666666666, \"#ed7953\"], [0.7777777777777778, \"#fb9f3a\"], [0.8888888888888888, \"#fdca26\"], [1.0, \"#f0f921\"]]}, \"colorway\": [\"#636efa\", \"#EF553B\", \"#00cc96\", \"#ab63fa\", \"#FFA15A\", \"#19d3f3\", \"#FF6692\", \"#B6E880\", \"#FF97FF\", \"#FECB52\"], \"font\": {\"color\": \"#2a3f5f\"}, \"geo\": {\"bgcolor\": \"white\", \"lakecolor\": \"white\", \"landcolor\": \"#E5ECF6\", \"showlakes\": true, \"showland\": true, \"subunitcolor\": \"white\"}, \"hoverlabel\": {\"align\": \"left\"}, \"hovermode\": \"closest\", \"mapbox\": {\"style\": \"light\"}, \"paper_bgcolor\": \"white\", \"plot_bgcolor\": \"#E5ECF6\", \"polar\": {\"angularaxis\": {\"gridcolor\": \"white\", \"linecolor\": \"white\", \"ticks\": \"\"}, \"bgcolor\": \"#E5ECF6\", \"radialaxis\": {\"gridcolor\": \"white\", \"linecolor\": \"white\", \"ticks\": \"\"}}, \"scene\": {\"xaxis\": {\"backgroundcolor\": \"#E5ECF6\", \"gridcolor\": \"white\", \"gridwidth\": 2, \"linecolor\": \"white\", \"showbackground\": true, \"ticks\": \"\", \"zerolinecolor\": \"white\"}, \"yaxis\": {\"backgroundcolor\": \"#E5ECF6\", \"gridcolor\": \"white\", \"gridwidth\": 2, \"linecolor\": \"white\", \"showbackground\": true, \"ticks\": \"\", \"zerolinecolor\": \"white\"}, \"zaxis\": {\"backgroundcolor\": \"#E5ECF6\", \"gridcolor\": \"white\", \"gridwidth\": 2, \"linecolor\": \"white\", \"showbackground\": true, \"ticks\": \"\", \"zerolinecolor\": \"white\"}}, \"shapedefaults\": {\"line\": {\"color\": \"#2a3f5f\"}}, \"ternary\": {\"aaxis\": {\"gridcolor\": \"white\", \"linecolor\": \"white\", \"ticks\": \"\"}, \"baxis\": {\"gridcolor\": \"white\", \"linecolor\": \"white\", \"ticks\": \"\"}, \"bgcolor\": \"#E5ECF6\", \"caxis\": {\"gridcolor\": \"white\", \"linecolor\": \"white\", \"ticks\": \"\"}}, \"title\": {\"x\": 0.05}, \"xaxis\": {\"automargin\": true, \"gridcolor\": \"white\", \"linecolor\": \"white\", \"ticks\": \"\", \"title\": {\"standoff\": 15}, \"zerolinecolor\": \"white\", \"zerolinewidth\": 2}, \"yaxis\": {\"automargin\": true, \"gridcolor\": \"white\", \"linecolor\": \"white\", \"ticks\": \"\", \"title\": {\"standoff\": 15}, \"zerolinecolor\": \"white\", \"zerolinewidth\": 2}}}},\n",
       "                        {\"responsive\": true}\n",
       "                    ).then(function(){\n",
       "                            \n",
       "var gd = document.getElementById('a52ca976-f971-4856-b5d4-9be44571621b');\n",
       "var x = new MutationObserver(function (mutations, observer) {{\n",
       "        var display = window.getComputedStyle(gd).display;\n",
       "        if (!display || display === 'none') {{\n",
       "            console.log([gd, 'removed!']);\n",
       "            Plotly.purge(gd);\n",
       "            observer.disconnect();\n",
       "        }}\n",
       "}});\n",
       "\n",
       "// Listen for the removal of the full notebook cells\n",
       "var notebookContainer = gd.closest('#notebook-container');\n",
       "if (notebookContainer) {{\n",
       "    x.observe(notebookContainer, {childList: true});\n",
       "}}\n",
       "\n",
       "// Listen for the clearing of the current output cell\n",
       "var outputEl = gd.closest('.output');\n",
       "if (outputEl) {{\n",
       "    x.observe(outputEl, {childList: true});\n",
       "}}\n",
       "\n",
       "                        })\n",
       "                };\n",
       "                });\n",
       "            </script>\n",
       "        </div>"
      ]
     },
     "metadata": {},
     "output_type": "display_data"
    }
   ],
   "source": [
    "fig = go.Figure(data=[\n",
    "    go.Bar(name='2000_age', x=three_state_df['City_Name'], y=three_state_df['Median_Age_2000']),\n",
    "    go.Bar(name='2010_age', x=three_state_df['City_Name'], y=three_state_df['Median_Age_2010']),\n",
    "])\n",
    "fig.update_layout(barmode='group')\n",
    "fig.show()"
   ]
  },
  {
   "cell_type": "markdown",
   "metadata": {},
   "source": [
    "## American Community Survey"
   ]
  },
  {
   "cell_type": "code",
   "execution_count": 49,
   "metadata": {},
   "outputs": [],
   "source": [
    "i = 0\n",
    "three_state_acs = []\n",
    "for x in acs_years_ca:\n",
    "    acs_1 = pd.concat([acs_years_ca[i], acs_years_ny[i], acs_years_id[i]])\n",
    "    three_state_acs.append(acs_1)\n",
    "    i = i + 1"
   ]
  },
  {
   "cell_type": "code",
   "execution_count": 50,
   "metadata": {},
   "outputs": [],
   "source": [
    "three_state_df.set_index('FIPS', inplace=True)"
   ]
  },
  {
   "cell_type": "code",
   "execution_count": 51,
   "metadata": {},
   "outputs": [
    {
     "name": "stdout",
     "output_type": "stream",
     "text": [
      "       Total_Housing_2012  Median_Age_2012  Total_Population_2012  \\\n",
      "FIPS                                                                \n",
      "44000             97760.0             34.1              3804503.0   \n",
      "66000             34361.0             33.7              1308619.0   \n",
      "68000             22425.0             35.2               954379.0   \n",
      "67000             22906.0             38.5               807755.0   \n",
      "27000             10914.0             29.4               495777.0   \n",
      "51000            215308.0             35.5              8199221.0   \n",
      "11000              8891.0             33.3               261955.0   \n",
      "63000              7192.0             31.1               210967.0   \n",
      "84000              5296.0             37.6               196459.0   \n",
      "73000              5342.0             29.4               144703.0   \n",
      "08830              5659.0             35.8               208332.0   \n",
      "56260              1694.0             29.8                81667.0   \n",
      "52120              1444.0             32.6                75210.0   \n",
      "39700              1681.0             32.7                57021.0   \n",
      "64090              1686.0             30.4                54145.0   \n",
      "\n",
      "       Presence_of_Non-Relatives_2012  \n",
      "FIPS                                   \n",
      "44000                         44782.0  \n",
      "66000                          8572.0  \n",
      "68000                          9872.0  \n",
      "67000                          5258.0  \n",
      "27000                          5511.0  \n",
      "51000                         64799.0  \n",
      "11000                          1549.0  \n",
      "63000                          1746.0  \n",
      "84000                          1748.0  \n",
      "73000                          1049.0  \n",
      "08830                          1077.0  \n",
      "56260                           327.0  \n",
      "52120                           604.0  \n",
      "39700                           445.0  \n",
      "64090                            95.0  \n",
      "       Total_Housing_2013  Median_Age_2013  Total_Population_2013  \\\n",
      "FIPS                                                                \n",
      "44000            103125.0             34.3              3827261.0   \n",
      "66000             34964.0             33.7              1322838.0   \n",
      "68000             23406.0             35.6               968903.0   \n",
      "67000             23782.0             38.5               817501.0   \n",
      "27000             11255.0             29.6               500819.0   \n",
      "51000            221083.0             35.6              8268999.0   \n",
      "11000              9041.0             33.5               260568.0   \n",
      "63000              7513.0             31.1               210624.0   \n",
      "84000              5449.0             37.6               197493.0   \n",
      "73000              5636.0             29.4               144742.0   \n",
      "08830              5617.0             35.8               209726.0   \n",
      "56260              1641.0             30.3                83140.0   \n",
      "52120              1314.0             33.4                78061.0   \n",
      "39700              1708.0             32.9                57536.0   \n",
      "64090              1713.0             30.8                54355.0   \n",
      "\n",
      "       Presence_of_Non-Relatives_2013  \n",
      "FIPS                                   \n",
      "44000                         43910.0  \n",
      "66000                          9083.0  \n",
      "68000                         10197.0  \n",
      "67000                          4928.0  \n",
      "27000                          5516.0  \n",
      "51000                         64718.0  \n",
      "11000                          1386.0  \n",
      "63000                          1637.0  \n",
      "84000                          1479.0  \n",
      "73000                          1218.0  \n",
      "08830                           994.0  \n",
      "56260                           415.0  \n",
      "52120                           560.0  \n",
      "39700                           469.0  \n",
      "64090                           100.0  \n",
      "       Total_Housing_2014  Median_Age_2014  Total_Population_2014  \\\n",
      "FIPS                                                                \n",
      "44000            109784.0             34.6              3862210.0   \n",
      "66000             36075.0             33.9              1341510.0   \n",
      "68000             24669.0             35.9               986320.0   \n",
      "67000             24847.0             38.6               829072.0   \n",
      "27000             11691.0             29.8               506132.0   \n",
      "51000            229186.0             35.7              8354889.0   \n",
      "11000              9363.0             33.1               259959.0   \n",
      "63000              7973.0             31.2               210461.0   \n",
      "84000              5655.0             38.1               198654.0   \n",
      "73000              6021.0             29.7               144648.0   \n",
      "08830              5677.0             35.9               211655.0   \n",
      "56260              1613.0             30.8                84660.0   \n",
      "52120              1197.0             34.1                81025.0   \n",
      "39700              1788.0             32.9                57935.0   \n",
      "64090              1750.0             30.7                54466.0   \n",
      "\n",
      "       Presence_of_Non-Relatives_2014  \n",
      "FIPS                                   \n",
      "44000                         43217.0  \n",
      "66000                          8862.0  \n",
      "68000                         10816.0  \n",
      "67000                          5531.0  \n",
      "27000                          4792.0  \n",
      "51000                         66993.0  \n",
      "11000                          1400.0  \n",
      "63000                          1258.0  \n",
      "84000                          1379.0  \n",
      "73000                          1344.0  \n",
      "08830                          1009.0  \n",
      "56260                           405.0  \n",
      "52120                           631.0  \n",
      "39700                           247.0  \n",
      "64090                           102.0  \n",
      "       Total_Housing_2015  Median_Age_2015  Total_Population_2015  \\\n",
      "FIPS                                                                \n",
      "44000            115548.0             34.9              3900794.0   \n",
      "66000             36895.0             34.0              1359791.0   \n",
      "68000             25647.0             36.1              1000860.0   \n",
      "67000             25790.0             38.5               840763.0   \n",
      "27000             12163.0             30.0               510451.0   \n",
      "51000            236858.0             35.8              8426743.0   \n",
      "11000              9721.0             33.1               259517.0   \n",
      "63000              8399.0             31.0               210745.0   \n",
      "84000              5814.0             37.9               199435.0   \n",
      "73000              6368.0             29.9               144564.0   \n",
      "08830              5699.0             35.9               214196.0   \n",
      "56260              1613.0             30.6                86203.0   \n",
      "52120              1112.0             34.6                84018.0   \n",
      "39700              1852.0             32.8                58374.0   \n",
      "64090              1819.0             31.0                54549.0   \n",
      "\n",
      "       Presence_of_Non-Relatives_2015  \n",
      "FIPS                                   \n",
      "44000                         40218.0  \n",
      "66000                          8180.0  \n",
      "68000                         10638.0  \n",
      "67000                          5793.0  \n",
      "27000                          4755.0  \n",
      "51000                         66649.0  \n",
      "11000                          1433.0  \n",
      "63000                          1365.0  \n",
      "84000                          1407.0  \n",
      "73000                          1314.0  \n",
      "08830                           933.0  \n",
      "56260                           401.0  \n",
      "52120                           272.0  \n",
      "39700                           130.0  \n",
      "64090                           111.0  \n",
      "       Total_Housing_2016  Median_Age_2016  Total_Population_2016  \\\n",
      "FIPS                                                                \n",
      "44000            117861.0             35.0              3918872.0   \n",
      "66000             36884.0             34.2              1374812.0   \n",
      "68000             26125.0             36.1              1009363.0   \n",
      "67000             26388.0             38.4               850282.0   \n",
      "27000             12272.0             30.2               513807.0   \n",
      "51000            237307.0             35.9              8461961.0   \n",
      "11000              9658.0             32.9               258989.0   \n",
      "63000              8354.0             31.3               210291.0   \n",
      "84000              5664.0             38.5               199725.0   \n",
      "73000              6296.0             30.6               144350.0   \n",
      "08830              5859.0             35.8               218677.0   \n",
      "52120              1176.0             35.4                88247.0   \n",
      "56260              1703.0             31.1                87896.0   \n",
      "39700              1848.0             33.1                58933.0   \n",
      "64090              1797.0             31.4                54592.0   \n",
      "\n",
      "       Presence_of_Non-Relatives_2016  \n",
      "FIPS                                   \n",
      "44000                         39675.0  \n",
      "66000                          8124.0  \n",
      "68000                         10400.0  \n",
      "67000                          5346.0  \n",
      "27000                          4767.0  \n",
      "51000                         67370.0  \n",
      "11000                          1235.0  \n",
      "63000                          1302.0  \n",
      "84000                          1148.0  \n",
      "73000                          1036.0  \n",
      "08830                           591.0  \n",
      "52120                           374.0  \n",
      "56260                           389.0  \n",
      "39700                           161.0  \n",
      "64090                           112.0  \n",
      "       Total_Housing_2017  Median_Age_2017  Total_Population_2017  \\\n",
      "FIPS                                                                \n",
      "44000            115400.0             35.2              3949776.0   \n",
      "66000             36377.0             34.3              1390966.0   \n",
      "68000             25882.0             36.4              1023031.0   \n",
      "67000             26142.0             38.3               864263.0   \n",
      "27000             12016.0             30.5               519037.0   \n",
      "51000            231338.0             36.2              8560072.0   \n",
      "11000              9431.0             32.8               259574.0   \n",
      "63000              8140.0             31.7               209463.0   \n",
      "84000              5425.0             38.8               200999.0   \n",
      "73000              6091.0             30.6               144405.0   \n",
      "08830              5814.0             36.0               220859.0   \n",
      "52120              1213.0             35.7                91917.0   \n",
      "56260              1707.0             31.4                89576.0   \n",
      "39700              1840.0             33.0                59414.0   \n",
      "64090              1763.0             31.6                54658.0   \n",
      "\n",
      "       Presence_of_Non-Relatives_2017  \n",
      "FIPS                                   \n",
      "44000                         40048.0  \n",
      "66000                          8207.0  \n",
      "68000                         10586.0  \n",
      "67000                          5258.0  \n",
      "27000                          5336.0  \n",
      "51000                         67838.0  \n",
      "11000                          1128.0  \n",
      "63000                          1321.0  \n",
      "84000                          1088.0  \n",
      "73000                          1002.0  \n",
      "08830                           356.0  \n",
      "52120                           262.0  \n",
      "56260                           320.0  \n",
      "39700                           297.0  \n",
      "64090                           184.0  \n"
     ]
    }
   ],
   "source": [
    "for x in three_state_acs:\n",
    "    print(x)\n",
    "    three_state_df = three_state_df.join(x, on=\"FIPS\")"
   ]
  },
  {
   "cell_type": "code",
   "execution_count": 52,
   "metadata": {},
   "outputs": [
    {
     "data": {
      "text/html": [
       "<div>\n",
       "<style scoped>\n",
       "    .dataframe tbody tr th:only-of-type {\n",
       "        vertical-align: middle;\n",
       "    }\n",
       "\n",
       "    .dataframe tbody tr th {\n",
       "        vertical-align: top;\n",
       "    }\n",
       "\n",
       "    .dataframe thead th {\n",
       "        text-align: right;\n",
       "    }\n",
       "</style>\n",
       "<table border=\"1\" class=\"dataframe\">\n",
       "  <thead>\n",
       "    <tr style=\"text-align: right;\">\n",
       "      <th></th>\n",
       "      <th>Total_Housing_2000</th>\n",
       "      <th>Occupancy_Status_For_Housing_Units_2000</th>\n",
       "      <th>Vacancy_Status_2000</th>\n",
       "      <th>For_Rent_2000</th>\n",
       "      <th>Rented_Not_Occupied_2000</th>\n",
       "      <th>For_Sale_Only_2000</th>\n",
       "      <th>Sold_Not_Occupied_2000</th>\n",
       "      <th>For_Seasonal_Recreational_Or_Occasional_Use_2000</th>\n",
       "      <th>For_Migrant_Workers_2000</th>\n",
       "      <th>Total_Population_2000</th>\n",
       "      <th>...</th>\n",
       "      <th>Total_Population_2015</th>\n",
       "      <th>Presence_of_Non-Relatives_2015</th>\n",
       "      <th>Total_Housing_2016</th>\n",
       "      <th>Median_Age_2016</th>\n",
       "      <th>Total_Population_2016</th>\n",
       "      <th>Presence_of_Non-Relatives_2016</th>\n",
       "      <th>Total_Housing_2017</th>\n",
       "      <th>Median_Age_2017</th>\n",
       "      <th>Total_Population_2017</th>\n",
       "      <th>Presence_of_Non-Relatives_2017</th>\n",
       "    </tr>\n",
       "    <tr>\n",
       "      <th>FIPS</th>\n",
       "      <th></th>\n",
       "      <th></th>\n",
       "      <th></th>\n",
       "      <th></th>\n",
       "      <th></th>\n",
       "      <th></th>\n",
       "      <th></th>\n",
       "      <th></th>\n",
       "      <th></th>\n",
       "      <th></th>\n",
       "      <th></th>\n",
       "      <th></th>\n",
       "      <th></th>\n",
       "      <th></th>\n",
       "      <th></th>\n",
       "      <th></th>\n",
       "      <th></th>\n",
       "      <th></th>\n",
       "      <th></th>\n",
       "      <th></th>\n",
       "      <th></th>\n",
       "    </tr>\n",
       "  </thead>\n",
       "  <tbody>\n",
       "    <tr>\n",
       "      <th>08830</th>\n",
       "      <td>77850</td>\n",
       "      <td>77850</td>\n",
       "      <td>3412</td>\n",
       "      <td>1463</td>\n",
       "      <td>739</td>\n",
       "      <td>302</td>\n",
       "      <td>353</td>\n",
       "      <td>1</td>\n",
       "      <td>554</td>\n",
       "      <td>185787</td>\n",
       "      <td>...</td>\n",
       "      <td>214196.0</td>\n",
       "      <td>933.0</td>\n",
       "      <td>5859.0</td>\n",
       "      <td>35.8</td>\n",
       "      <td>218677.0</td>\n",
       "      <td>591.0</td>\n",
       "      <td>5814.0</td>\n",
       "      <td>36.0</td>\n",
       "      <td>220859.0</td>\n",
       "      <td>356.0</td>\n",
       "    </tr>\n",
       "    <tr>\n",
       "      <th>56260</th>\n",
       "      <td>19379</td>\n",
       "      <td>19379</td>\n",
       "      <td>1289</td>\n",
       "      <td>448</td>\n",
       "      <td>440</td>\n",
       "      <td>90</td>\n",
       "      <td>57</td>\n",
       "      <td>3</td>\n",
       "      <td>251</td>\n",
       "      <td>51867</td>\n",
       "      <td>...</td>\n",
       "      <td>86203.0</td>\n",
       "      <td>401.0</td>\n",
       "      <td>1703.0</td>\n",
       "      <td>31.1</td>\n",
       "      <td>87896.0</td>\n",
       "      <td>389.0</td>\n",
       "      <td>1707.0</td>\n",
       "      <td>31.4</td>\n",
       "      <td>89576.0</td>\n",
       "      <td>320.0</td>\n",
       "    </tr>\n",
       "    <tr>\n",
       "      <th>64090</th>\n",
       "      <td>20627</td>\n",
       "      <td>20627</td>\n",
       "      <td>1293</td>\n",
       "      <td>556</td>\n",
       "      <td>298</td>\n",
       "      <td>87</td>\n",
       "      <td>84</td>\n",
       "      <td>1</td>\n",
       "      <td>267</td>\n",
       "      <td>51466</td>\n",
       "      <td>...</td>\n",
       "      <td>54549.0</td>\n",
       "      <td>111.0</td>\n",
       "      <td>1797.0</td>\n",
       "      <td>31.4</td>\n",
       "      <td>54592.0</td>\n",
       "      <td>112.0</td>\n",
       "      <td>1763.0</td>\n",
       "      <td>31.6</td>\n",
       "      <td>54658.0</td>\n",
       "      <td>184.0</td>\n",
       "    </tr>\n",
       "    <tr>\n",
       "      <th>39700</th>\n",
       "      <td>19771</td>\n",
       "      <td>19771</td>\n",
       "      <td>978</td>\n",
       "      <td>373</td>\n",
       "      <td>200</td>\n",
       "      <td>82</td>\n",
       "      <td>86</td>\n",
       "      <td>0</td>\n",
       "      <td>237</td>\n",
       "      <td>50730</td>\n",
       "      <td>...</td>\n",
       "      <td>58374.0</td>\n",
       "      <td>130.0</td>\n",
       "      <td>1848.0</td>\n",
       "      <td>33.1</td>\n",
       "      <td>58933.0</td>\n",
       "      <td>161.0</td>\n",
       "      <td>1840.0</td>\n",
       "      <td>33.0</td>\n",
       "      <td>59414.0</td>\n",
       "      <td>297.0</td>\n",
       "    </tr>\n",
       "    <tr>\n",
       "      <th>52120</th>\n",
       "      <td>12293</td>\n",
       "      <td>12293</td>\n",
       "      <td>464</td>\n",
       "      <td>56</td>\n",
       "      <td>276</td>\n",
       "      <td>45</td>\n",
       "      <td>22</td>\n",
       "      <td>0</td>\n",
       "      <td>65</td>\n",
       "      <td>34919</td>\n",
       "      <td>...</td>\n",
       "      <td>84018.0</td>\n",
       "      <td>272.0</td>\n",
       "      <td>1176.0</td>\n",
       "      <td>35.4</td>\n",
       "      <td>88247.0</td>\n",
       "      <td>374.0</td>\n",
       "      <td>1213.0</td>\n",
       "      <td>35.7</td>\n",
       "      <td>91917.0</td>\n",
       "      <td>262.0</td>\n",
       "    </tr>\n",
       "  </tbody>\n",
       "</table>\n",
       "<p>5 rows × 54 columns</p>\n",
       "</div>"
      ],
      "text/plain": [
       "      Total_Housing_2000 Occupancy_Status_For_Housing_Units_2000  \\\n",
       "FIPS                                                               \n",
       "08830              77850                                   77850   \n",
       "56260              19379                                   19379   \n",
       "64090              20627                                   20627   \n",
       "39700              19771                                   19771   \n",
       "52120              12293                                   12293   \n",
       "\n",
       "      Vacancy_Status_2000 For_Rent_2000 Rented_Not_Occupied_2000  \\\n",
       "FIPS                                                               \n",
       "08830                3412          1463                      739   \n",
       "56260                1289           448                      440   \n",
       "64090                1293           556                      298   \n",
       "39700                 978           373                      200   \n",
       "52120                 464            56                      276   \n",
       "\n",
       "      For_Sale_Only_2000 Sold_Not_Occupied_2000  \\\n",
       "FIPS                                              \n",
       "08830                302                    353   \n",
       "56260                 90                     57   \n",
       "64090                 87                     84   \n",
       "39700                 82                     86   \n",
       "52120                 45                     22   \n",
       "\n",
       "      For_Seasonal_Recreational_Or_Occasional_Use_2000  \\\n",
       "FIPS                                                     \n",
       "08830                                                1   \n",
       "56260                                                3   \n",
       "64090                                                1   \n",
       "39700                                                0   \n",
       "52120                                                0   \n",
       "\n",
       "      For_Migrant_Workers_2000  Total_Population_2000  ...  \\\n",
       "FIPS                                                   ...   \n",
       "08830                      554                 185787  ...   \n",
       "56260                      251                  51867  ...   \n",
       "64090                      267                  51466  ...   \n",
       "39700                      237                  50730  ...   \n",
       "52120                       65                  34919  ...   \n",
       "\n",
       "      Total_Population_2015 Presence_of_Non-Relatives_2015 Total_Housing_2016  \\\n",
       "FIPS                                                                            \n",
       "08830              214196.0                          933.0             5859.0   \n",
       "56260               86203.0                          401.0             1703.0   \n",
       "64090               54549.0                          111.0             1797.0   \n",
       "39700               58374.0                          130.0             1848.0   \n",
       "52120               84018.0                          272.0             1176.0   \n",
       "\n",
       "      Median_Age_2016  Total_Population_2016  Presence_of_Non-Relatives_2016  \\\n",
       "FIPS                                                                           \n",
       "08830            35.8               218677.0                           591.0   \n",
       "56260            31.1                87896.0                           389.0   \n",
       "64090            31.4                54592.0                           112.0   \n",
       "39700            33.1                58933.0                           161.0   \n",
       "52120            35.4                88247.0                           374.0   \n",
       "\n",
       "       Total_Housing_2017  Median_Age_2017  Total_Population_2017  \\\n",
       "FIPS                                                                \n",
       "08830              5814.0             36.0               220859.0   \n",
       "56260              1707.0             31.4                89576.0   \n",
       "64090              1763.0             31.6                54658.0   \n",
       "39700              1840.0             33.0                59414.0   \n",
       "52120              1213.0             35.7                91917.0   \n",
       "\n",
       "       Presence_of_Non-Relatives_2017  \n",
       "FIPS                                   \n",
       "08830                           356.0  \n",
       "56260                           320.0  \n",
       "64090                           184.0  \n",
       "39700                           297.0  \n",
       "52120                           262.0  \n",
       "\n",
       "[5 rows x 54 columns]"
      ]
     },
     "execution_count": 52,
     "metadata": {},
     "output_type": "execute_result"
    }
   ],
   "source": [
    "three_state_df.head()"
   ]
  },
  {
   "cell_type": "code",
   "execution_count": 53,
   "metadata": {},
   "outputs": [
    {
     "data": {
      "application/vnd.plotly.v1+json": {
       "config": {
        "plotlyServerURL": "https://plot.ly"
       },
       "data": [
        {
         "name": "2000_pop",
         "type": "bar",
         "x": [
          "Boise City city, Idaho",
          "Nampa city, Idaho",
          "Pocatello city, Idaho",
          "Idaho Falls city, Idaho",
          "Meridian city, Idaho",
          "Buffalo city, New York",
          "Rochester city, New York",
          "Yonkers city, New York",
          "Syracuse city, New York"
         ],
         "y": [
          185787,
          51867,
          51466,
          50730,
          34919,
          292648,
          219773,
          196086,
          147306
         ]
        },
        {
         "name": "2010_pop",
         "type": "bar",
         "x": [
          "Boise City city, Idaho",
          "Nampa city, Idaho",
          "Pocatello city, Idaho",
          "Idaho Falls city, Idaho",
          "Meridian city, Idaho",
          "Buffalo city, New York",
          "Rochester city, New York",
          "Yonkers city, New York",
          "Syracuse city, New York"
         ],
         "y": [
          205671,
          81557,
          54255,
          56813,
          75092,
          261310,
          210565,
          195976,
          145170
         ]
        },
        {
         "name": "2012_pop",
         "type": "bar",
         "x": [
          "Boise City city, Idaho",
          "Nampa city, Idaho",
          "Pocatello city, Idaho",
          "Idaho Falls city, Idaho",
          "Meridian city, Idaho",
          "Buffalo city, New York",
          "Rochester city, New York",
          "Yonkers city, New York",
          "Syracuse city, New York"
         ],
         "y": [
          208332,
          81667,
          54145,
          57021,
          75210,
          261955,
          210967,
          196459,
          144703
         ]
        },
        {
         "name": "2013_pop",
         "type": "bar",
         "x": [
          "Boise City city, Idaho",
          "Nampa city, Idaho",
          "Pocatello city, Idaho",
          "Idaho Falls city, Idaho",
          "Meridian city, Idaho",
          "Buffalo city, New York",
          "Rochester city, New York",
          "Yonkers city, New York",
          "Syracuse city, New York"
         ],
         "y": [
          209726,
          83140,
          54355,
          57536,
          78061,
          260568,
          210624,
          197493,
          144742
         ]
        },
        {
         "name": "2014_pop",
         "type": "bar",
         "x": [
          "Boise City city, Idaho",
          "Nampa city, Idaho",
          "Pocatello city, Idaho",
          "Idaho Falls city, Idaho",
          "Meridian city, Idaho",
          "Buffalo city, New York",
          "Rochester city, New York",
          "Yonkers city, New York",
          "Syracuse city, New York"
         ],
         "y": [
          211655,
          84660,
          54466,
          57935,
          81025,
          259959,
          210461,
          198654,
          144648
         ]
        },
        {
         "name": "2015_pop",
         "type": "bar",
         "x": [
          "Boise City city, Idaho",
          "Nampa city, Idaho",
          "Pocatello city, Idaho",
          "Idaho Falls city, Idaho",
          "Meridian city, Idaho",
          "Buffalo city, New York",
          "Rochester city, New York",
          "Yonkers city, New York",
          "Syracuse city, New York"
         ],
         "y": [
          214196,
          86203,
          54549,
          58374,
          84018,
          259517,
          210745,
          199435,
          144564
         ]
        },
        {
         "name": "2016_pop",
         "type": "bar",
         "x": [
          "Boise City city, Idaho",
          "Nampa city, Idaho",
          "Pocatello city, Idaho",
          "Idaho Falls city, Idaho",
          "Meridian city, Idaho",
          "Buffalo city, New York",
          "Rochester city, New York",
          "Yonkers city, New York",
          "Syracuse city, New York"
         ],
         "y": [
          218677,
          87896,
          54592,
          58933,
          88247,
          258989,
          210291,
          199725,
          144350
         ]
        },
        {
         "name": "2017_pop",
         "type": "bar",
         "x": [
          "Boise City city, Idaho",
          "Nampa city, Idaho",
          "Pocatello city, Idaho",
          "Idaho Falls city, Idaho",
          "Meridian city, Idaho",
          "Buffalo city, New York",
          "Rochester city, New York",
          "Yonkers city, New York",
          "Syracuse city, New York"
         ],
         "y": [
          220859,
          89576,
          54658,
          59414,
          91917,
          259574,
          209463,
          200999,
          144405
         ]
        },
        {
         "name": "2000_housing",
         "type": "bar",
         "x": [
          "Boise City city, Idaho",
          "Nampa city, Idaho",
          "Pocatello city, Idaho",
          "Idaho Falls city, Idaho",
          "Meridian city, Idaho",
          "Buffalo city, New York",
          "Rochester city, New York",
          "Yonkers city, New York",
          "Syracuse city, New York"
         ],
         "y": [
          "77850",
          "19379",
          "20627",
          "19771",
          "12293",
          "145574",
          "99789",
          "77589",
          "68192"
         ]
        },
        {
         "name": "2010_housing",
         "type": "bar",
         "x": [
          "Boise City city, Idaho",
          "Nampa city, Idaho",
          "Pocatello city, Idaho",
          "Idaho Falls city, Idaho",
          "Meridian city, Idaho",
          "Buffalo city, New York",
          "Rochester city, New York",
          "Yonkers city, New York",
          "Syracuse city, New York"
         ],
         "y": [
          92700,
          30507,
          22404,
          22977,
          26674,
          133444,
          97158,
          80389,
          64356
         ]
        },
        {
         "name": "2012_housing",
         "type": "bar",
         "x": [
          "Boise City city, Idaho",
          "Nampa city, Idaho",
          "Pocatello city, Idaho",
          "Idaho Falls city, Idaho",
          "Meridian city, Idaho",
          "Buffalo city, New York",
          "Rochester city, New York",
          "Yonkers city, New York",
          "Syracuse city, New York"
         ],
         "y": [
          5659,
          1694,
          1686,
          1681,
          1444,
          8891,
          7192,
          5296,
          5342
         ]
        },
        {
         "name": "2013_housing",
         "type": "bar",
         "x": [
          "Boise City city, Idaho",
          "Nampa city, Idaho",
          "Pocatello city, Idaho",
          "Idaho Falls city, Idaho",
          "Meridian city, Idaho",
          "Buffalo city, New York",
          "Rochester city, New York",
          "Yonkers city, New York",
          "Syracuse city, New York"
         ],
         "y": [
          5617,
          1641,
          1713,
          1708,
          1314,
          9041,
          7513,
          5449,
          5636
         ]
        },
        {
         "name": "2014_housing",
         "type": "bar",
         "x": [
          "Boise City city, Idaho",
          "Nampa city, Idaho",
          "Pocatello city, Idaho",
          "Idaho Falls city, Idaho",
          "Meridian city, Idaho",
          "Buffalo city, New York",
          "Rochester city, New York",
          "Yonkers city, New York",
          "Syracuse city, New York"
         ],
         "y": [
          5677,
          1613,
          1750,
          1788,
          1197,
          9363,
          7973,
          5655,
          6021
         ]
        },
        {
         "name": "2015_housing",
         "type": "bar",
         "x": [
          "Boise City city, Idaho",
          "Nampa city, Idaho",
          "Pocatello city, Idaho",
          "Idaho Falls city, Idaho",
          "Meridian city, Idaho",
          "Buffalo city, New York",
          "Rochester city, New York",
          "Yonkers city, New York",
          "Syracuse city, New York"
         ],
         "y": [
          5699,
          1613,
          1819,
          1852,
          1112,
          9721,
          8399,
          5814,
          6368
         ]
        },
        {
         "name": "2016_housing",
         "type": "bar",
         "x": [
          "Boise City city, Idaho",
          "Nampa city, Idaho",
          "Pocatello city, Idaho",
          "Idaho Falls city, Idaho",
          "Meridian city, Idaho",
          "Buffalo city, New York",
          "Rochester city, New York",
          "Yonkers city, New York",
          "Syracuse city, New York"
         ],
         "y": [
          5859,
          1703,
          1797,
          1848,
          1176,
          9658,
          8354,
          5664,
          6296
         ]
        },
        {
         "name": "2017_housing",
         "type": "bar",
         "x": [
          "Boise City city, Idaho",
          "Nampa city, Idaho",
          "Pocatello city, Idaho",
          "Idaho Falls city, Idaho",
          "Meridian city, Idaho",
          "Buffalo city, New York",
          "Rochester city, New York",
          "Yonkers city, New York",
          "Syracuse city, New York"
         ],
         "y": [
          5814,
          1707,
          1763,
          1840,
          1213,
          9431,
          8140,
          5425,
          6091
         ]
        },
        {
         "name": "2000_non-relatives",
         "type": "bar",
         "x": [
          "Boise City city, Idaho",
          "Nampa city, Idaho",
          "Pocatello city, Idaho",
          "Idaho Falls city, Idaho",
          "Meridian city, Idaho",
          "Buffalo city, New York",
          "Rochester city, New York",
          "Yonkers city, New York",
          "Syracuse city, New York"
         ],
         "y": [
          "185787",
          "51867",
          "51466",
          "50730",
          "34919",
          "292648",
          "219773",
          "196086",
          "147306"
         ]
        },
        {
         "name": "2010_non-relatives",
         "type": "bar",
         "x": [
          "Boise City city, Idaho",
          "Nampa city, Idaho",
          "Pocatello city, Idaho",
          "Idaho Falls city, Idaho",
          "Meridian city, Idaho",
          "Buffalo city, New York",
          "Rochester city, New York",
          "Yonkers city, New York",
          "Syracuse city, New York"
         ],
         "y": [
          85704,
          27729,
          20832,
          21203,
          25302,
          112536,
          87027,
          74550,
          57355
         ]
        },
        {
         "name": "2012_non-relatives",
         "type": "bar",
         "x": [
          "Boise City city, Idaho",
          "Nampa city, Idaho",
          "Pocatello city, Idaho",
          "Idaho Falls city, Idaho",
          "Meridian city, Idaho",
          "Buffalo city, New York",
          "Rochester city, New York",
          "Yonkers city, New York",
          "Syracuse city, New York"
         ],
         "y": [
          1077,
          327,
          95,
          445,
          604,
          1549,
          1746,
          1748,
          1049
         ]
        },
        {
         "name": "2013_non-relatives",
         "type": "bar",
         "x": [
          "Boise City city, Idaho",
          "Nampa city, Idaho",
          "Pocatello city, Idaho",
          "Idaho Falls city, Idaho",
          "Meridian city, Idaho",
          "Buffalo city, New York",
          "Rochester city, New York",
          "Yonkers city, New York",
          "Syracuse city, New York"
         ],
         "y": [
          994,
          415,
          100,
          469,
          560,
          1386,
          1637,
          1479,
          1218
         ]
        },
        {
         "name": "2014_non-relatives",
         "type": "bar",
         "x": [
          "Boise City city, Idaho",
          "Nampa city, Idaho",
          "Pocatello city, Idaho",
          "Idaho Falls city, Idaho",
          "Meridian city, Idaho",
          "Buffalo city, New York",
          "Rochester city, New York",
          "Yonkers city, New York",
          "Syracuse city, New York"
         ],
         "y": [
          1009,
          405,
          102,
          247,
          631,
          1400,
          1258,
          1379,
          1344
         ]
        },
        {
         "name": "2015_non-relatives",
         "type": "bar",
         "x": [
          "Boise City city, Idaho",
          "Nampa city, Idaho",
          "Pocatello city, Idaho",
          "Idaho Falls city, Idaho",
          "Meridian city, Idaho",
          "Buffalo city, New York",
          "Rochester city, New York",
          "Yonkers city, New York",
          "Syracuse city, New York"
         ],
         "y": [
          933,
          401,
          111,
          130,
          272,
          1433,
          1365,
          1407,
          1314
         ]
        },
        {
         "name": "2016_non-relatives",
         "type": "bar",
         "x": [
          "Boise City city, Idaho",
          "Nampa city, Idaho",
          "Pocatello city, Idaho",
          "Idaho Falls city, Idaho",
          "Meridian city, Idaho",
          "Buffalo city, New York",
          "Rochester city, New York",
          "Yonkers city, New York",
          "Syracuse city, New York"
         ],
         "y": [
          591,
          389,
          112,
          161,
          374,
          1235,
          1302,
          1148,
          1036
         ]
        },
        {
         "name": "2017_non-relatives",
         "type": "bar",
         "x": [
          "Boise City city, Idaho",
          "Nampa city, Idaho",
          "Pocatello city, Idaho",
          "Idaho Falls city, Idaho",
          "Meridian city, Idaho",
          "Buffalo city, New York",
          "Rochester city, New York",
          "Yonkers city, New York",
          "Syracuse city, New York"
         ],
         "y": [
          356,
          320,
          184,
          297,
          262,
          1128,
          1321,
          1088,
          1002
         ]
        }
       ],
       "layout": {
        "barmode": "group",
        "template": {
         "data": {
          "bar": [
           {
            "error_x": {
             "color": "#2a3f5f"
            },
            "error_y": {
             "color": "#2a3f5f"
            },
            "marker": {
             "line": {
              "color": "#E5ECF6",
              "width": 0.5
             }
            },
            "type": "bar"
           }
          ],
          "barpolar": [
           {
            "marker": {
             "line": {
              "color": "#E5ECF6",
              "width": 0.5
             }
            },
            "type": "barpolar"
           }
          ],
          "carpet": [
           {
            "aaxis": {
             "endlinecolor": "#2a3f5f",
             "gridcolor": "white",
             "linecolor": "white",
             "minorgridcolor": "white",
             "startlinecolor": "#2a3f5f"
            },
            "baxis": {
             "endlinecolor": "#2a3f5f",
             "gridcolor": "white",
             "linecolor": "white",
             "minorgridcolor": "white",
             "startlinecolor": "#2a3f5f"
            },
            "type": "carpet"
           }
          ],
          "choropleth": [
           {
            "colorbar": {
             "outlinewidth": 0,
             "ticks": ""
            },
            "type": "choropleth"
           }
          ],
          "contour": [
           {
            "colorbar": {
             "outlinewidth": 0,
             "ticks": ""
            },
            "colorscale": [
             [
              0,
              "#0d0887"
             ],
             [
              0.1111111111111111,
              "#46039f"
             ],
             [
              0.2222222222222222,
              "#7201a8"
             ],
             [
              0.3333333333333333,
              "#9c179e"
             ],
             [
              0.4444444444444444,
              "#bd3786"
             ],
             [
              0.5555555555555556,
              "#d8576b"
             ],
             [
              0.6666666666666666,
              "#ed7953"
             ],
             [
              0.7777777777777778,
              "#fb9f3a"
             ],
             [
              0.8888888888888888,
              "#fdca26"
             ],
             [
              1,
              "#f0f921"
             ]
            ],
            "type": "contour"
           }
          ],
          "contourcarpet": [
           {
            "colorbar": {
             "outlinewidth": 0,
             "ticks": ""
            },
            "type": "contourcarpet"
           }
          ],
          "heatmap": [
           {
            "colorbar": {
             "outlinewidth": 0,
             "ticks": ""
            },
            "colorscale": [
             [
              0,
              "#0d0887"
             ],
             [
              0.1111111111111111,
              "#46039f"
             ],
             [
              0.2222222222222222,
              "#7201a8"
             ],
             [
              0.3333333333333333,
              "#9c179e"
             ],
             [
              0.4444444444444444,
              "#bd3786"
             ],
             [
              0.5555555555555556,
              "#d8576b"
             ],
             [
              0.6666666666666666,
              "#ed7953"
             ],
             [
              0.7777777777777778,
              "#fb9f3a"
             ],
             [
              0.8888888888888888,
              "#fdca26"
             ],
             [
              1,
              "#f0f921"
             ]
            ],
            "type": "heatmap"
           }
          ],
          "heatmapgl": [
           {
            "colorbar": {
             "outlinewidth": 0,
             "ticks": ""
            },
            "colorscale": [
             [
              0,
              "#0d0887"
             ],
             [
              0.1111111111111111,
              "#46039f"
             ],
             [
              0.2222222222222222,
              "#7201a8"
             ],
             [
              0.3333333333333333,
              "#9c179e"
             ],
             [
              0.4444444444444444,
              "#bd3786"
             ],
             [
              0.5555555555555556,
              "#d8576b"
             ],
             [
              0.6666666666666666,
              "#ed7953"
             ],
             [
              0.7777777777777778,
              "#fb9f3a"
             ],
             [
              0.8888888888888888,
              "#fdca26"
             ],
             [
              1,
              "#f0f921"
             ]
            ],
            "type": "heatmapgl"
           }
          ],
          "histogram": [
           {
            "marker": {
             "colorbar": {
              "outlinewidth": 0,
              "ticks": ""
             }
            },
            "type": "histogram"
           }
          ],
          "histogram2d": [
           {
            "colorbar": {
             "outlinewidth": 0,
             "ticks": ""
            },
            "colorscale": [
             [
              0,
              "#0d0887"
             ],
             [
              0.1111111111111111,
              "#46039f"
             ],
             [
              0.2222222222222222,
              "#7201a8"
             ],
             [
              0.3333333333333333,
              "#9c179e"
             ],
             [
              0.4444444444444444,
              "#bd3786"
             ],
             [
              0.5555555555555556,
              "#d8576b"
             ],
             [
              0.6666666666666666,
              "#ed7953"
             ],
             [
              0.7777777777777778,
              "#fb9f3a"
             ],
             [
              0.8888888888888888,
              "#fdca26"
             ],
             [
              1,
              "#f0f921"
             ]
            ],
            "type": "histogram2d"
           }
          ],
          "histogram2dcontour": [
           {
            "colorbar": {
             "outlinewidth": 0,
             "ticks": ""
            },
            "colorscale": [
             [
              0,
              "#0d0887"
             ],
             [
              0.1111111111111111,
              "#46039f"
             ],
             [
              0.2222222222222222,
              "#7201a8"
             ],
             [
              0.3333333333333333,
              "#9c179e"
             ],
             [
              0.4444444444444444,
              "#bd3786"
             ],
             [
              0.5555555555555556,
              "#d8576b"
             ],
             [
              0.6666666666666666,
              "#ed7953"
             ],
             [
              0.7777777777777778,
              "#fb9f3a"
             ],
             [
              0.8888888888888888,
              "#fdca26"
             ],
             [
              1,
              "#f0f921"
             ]
            ],
            "type": "histogram2dcontour"
           }
          ],
          "mesh3d": [
           {
            "colorbar": {
             "outlinewidth": 0,
             "ticks": ""
            },
            "type": "mesh3d"
           }
          ],
          "parcoords": [
           {
            "line": {
             "colorbar": {
              "outlinewidth": 0,
              "ticks": ""
             }
            },
            "type": "parcoords"
           }
          ],
          "pie": [
           {
            "automargin": true,
            "type": "pie"
           }
          ],
          "scatter": [
           {
            "marker": {
             "colorbar": {
              "outlinewidth": 0,
              "ticks": ""
             }
            },
            "type": "scatter"
           }
          ],
          "scatter3d": [
           {
            "line": {
             "colorbar": {
              "outlinewidth": 0,
              "ticks": ""
             }
            },
            "marker": {
             "colorbar": {
              "outlinewidth": 0,
              "ticks": ""
             }
            },
            "type": "scatter3d"
           }
          ],
          "scattercarpet": [
           {
            "marker": {
             "colorbar": {
              "outlinewidth": 0,
              "ticks": ""
             }
            },
            "type": "scattercarpet"
           }
          ],
          "scattergeo": [
           {
            "marker": {
             "colorbar": {
              "outlinewidth": 0,
              "ticks": ""
             }
            },
            "type": "scattergeo"
           }
          ],
          "scattergl": [
           {
            "marker": {
             "colorbar": {
              "outlinewidth": 0,
              "ticks": ""
             }
            },
            "type": "scattergl"
           }
          ],
          "scattermapbox": [
           {
            "marker": {
             "colorbar": {
              "outlinewidth": 0,
              "ticks": ""
             }
            },
            "type": "scattermapbox"
           }
          ],
          "scatterpolar": [
           {
            "marker": {
             "colorbar": {
              "outlinewidth": 0,
              "ticks": ""
             }
            },
            "type": "scatterpolar"
           }
          ],
          "scatterpolargl": [
           {
            "marker": {
             "colorbar": {
              "outlinewidth": 0,
              "ticks": ""
             }
            },
            "type": "scatterpolargl"
           }
          ],
          "scatterternary": [
           {
            "marker": {
             "colorbar": {
              "outlinewidth": 0,
              "ticks": ""
             }
            },
            "type": "scatterternary"
           }
          ],
          "surface": [
           {
            "colorbar": {
             "outlinewidth": 0,
             "ticks": ""
            },
            "colorscale": [
             [
              0,
              "#0d0887"
             ],
             [
              0.1111111111111111,
              "#46039f"
             ],
             [
              0.2222222222222222,
              "#7201a8"
             ],
             [
              0.3333333333333333,
              "#9c179e"
             ],
             [
              0.4444444444444444,
              "#bd3786"
             ],
             [
              0.5555555555555556,
              "#d8576b"
             ],
             [
              0.6666666666666666,
              "#ed7953"
             ],
             [
              0.7777777777777778,
              "#fb9f3a"
             ],
             [
              0.8888888888888888,
              "#fdca26"
             ],
             [
              1,
              "#f0f921"
             ]
            ],
            "type": "surface"
           }
          ],
          "table": [
           {
            "cells": {
             "fill": {
              "color": "#EBF0F8"
             },
             "line": {
              "color": "white"
             }
            },
            "header": {
             "fill": {
              "color": "#C8D4E3"
             },
             "line": {
              "color": "white"
             }
            },
            "type": "table"
           }
          ]
         },
         "layout": {
          "annotationdefaults": {
           "arrowcolor": "#2a3f5f",
           "arrowhead": 0,
           "arrowwidth": 1
          },
          "coloraxis": {
           "colorbar": {
            "outlinewidth": 0,
            "ticks": ""
           }
          },
          "colorscale": {
           "diverging": [
            [
             0,
             "#8e0152"
            ],
            [
             0.1,
             "#c51b7d"
            ],
            [
             0.2,
             "#de77ae"
            ],
            [
             0.3,
             "#f1b6da"
            ],
            [
             0.4,
             "#fde0ef"
            ],
            [
             0.5,
             "#f7f7f7"
            ],
            [
             0.6,
             "#e6f5d0"
            ],
            [
             0.7,
             "#b8e186"
            ],
            [
             0.8,
             "#7fbc41"
            ],
            [
             0.9,
             "#4d9221"
            ],
            [
             1,
             "#276419"
            ]
           ],
           "sequential": [
            [
             0,
             "#0d0887"
            ],
            [
             0.1111111111111111,
             "#46039f"
            ],
            [
             0.2222222222222222,
             "#7201a8"
            ],
            [
             0.3333333333333333,
             "#9c179e"
            ],
            [
             0.4444444444444444,
             "#bd3786"
            ],
            [
             0.5555555555555556,
             "#d8576b"
            ],
            [
             0.6666666666666666,
             "#ed7953"
            ],
            [
             0.7777777777777778,
             "#fb9f3a"
            ],
            [
             0.8888888888888888,
             "#fdca26"
            ],
            [
             1,
             "#f0f921"
            ]
           ],
           "sequentialminus": [
            [
             0,
             "#0d0887"
            ],
            [
             0.1111111111111111,
             "#46039f"
            ],
            [
             0.2222222222222222,
             "#7201a8"
            ],
            [
             0.3333333333333333,
             "#9c179e"
            ],
            [
             0.4444444444444444,
             "#bd3786"
            ],
            [
             0.5555555555555556,
             "#d8576b"
            ],
            [
             0.6666666666666666,
             "#ed7953"
            ],
            [
             0.7777777777777778,
             "#fb9f3a"
            ],
            [
             0.8888888888888888,
             "#fdca26"
            ],
            [
             1,
             "#f0f921"
            ]
           ]
          },
          "colorway": [
           "#636efa",
           "#EF553B",
           "#00cc96",
           "#ab63fa",
           "#FFA15A",
           "#19d3f3",
           "#FF6692",
           "#B6E880",
           "#FF97FF",
           "#FECB52"
          ],
          "font": {
           "color": "#2a3f5f"
          },
          "geo": {
           "bgcolor": "white",
           "lakecolor": "white",
           "landcolor": "#E5ECF6",
           "showlakes": true,
           "showland": true,
           "subunitcolor": "white"
          },
          "hoverlabel": {
           "align": "left"
          },
          "hovermode": "closest",
          "mapbox": {
           "style": "light"
          },
          "paper_bgcolor": "white",
          "plot_bgcolor": "#E5ECF6",
          "polar": {
           "angularaxis": {
            "gridcolor": "white",
            "linecolor": "white",
            "ticks": ""
           },
           "bgcolor": "#E5ECF6",
           "radialaxis": {
            "gridcolor": "white",
            "linecolor": "white",
            "ticks": ""
           }
          },
          "scene": {
           "xaxis": {
            "backgroundcolor": "#E5ECF6",
            "gridcolor": "white",
            "gridwidth": 2,
            "linecolor": "white",
            "showbackground": true,
            "ticks": "",
            "zerolinecolor": "white"
           },
           "yaxis": {
            "backgroundcolor": "#E5ECF6",
            "gridcolor": "white",
            "gridwidth": 2,
            "linecolor": "white",
            "showbackground": true,
            "ticks": "",
            "zerolinecolor": "white"
           },
           "zaxis": {
            "backgroundcolor": "#E5ECF6",
            "gridcolor": "white",
            "gridwidth": 2,
            "linecolor": "white",
            "showbackground": true,
            "ticks": "",
            "zerolinecolor": "white"
           }
          },
          "shapedefaults": {
           "line": {
            "color": "#2a3f5f"
           }
          },
          "ternary": {
           "aaxis": {
            "gridcolor": "white",
            "linecolor": "white",
            "ticks": ""
           },
           "baxis": {
            "gridcolor": "white",
            "linecolor": "white",
            "ticks": ""
           },
           "bgcolor": "#E5ECF6",
           "caxis": {
            "gridcolor": "white",
            "linecolor": "white",
            "ticks": ""
           }
          },
          "title": {
           "x": 0.05
          },
          "xaxis": {
           "automargin": true,
           "gridcolor": "white",
           "linecolor": "white",
           "ticks": "",
           "title": {
            "standoff": 15
           },
           "zerolinecolor": "white",
           "zerolinewidth": 2
          },
          "yaxis": {
           "automargin": true,
           "gridcolor": "white",
           "linecolor": "white",
           "ticks": "",
           "title": {
            "standoff": 15
           },
           "zerolinecolor": "white",
           "zerolinewidth": 2
          }
         }
        }
       }
      },
      "text/html": [
       "<div>\n",
       "        \n",
       "        \n",
       "            <div id=\"cb1834b4-118f-474d-a6d6-1292f40509c2\" class=\"plotly-graph-div\" style=\"height:525px; width:100%;\"></div>\n",
       "            <script type=\"text/javascript\">\n",
       "                require([\"plotly\"], function(Plotly) {\n",
       "                    window.PLOTLYENV=window.PLOTLYENV || {};\n",
       "                    \n",
       "                if (document.getElementById(\"cb1834b4-118f-474d-a6d6-1292f40509c2\")) {\n",
       "                    Plotly.newPlot(\n",
       "                        'cb1834b4-118f-474d-a6d6-1292f40509c2',\n",
       "                        [{\"name\": \"2000_pop\", \"type\": \"bar\", \"x\": [\"Boise City city, Idaho\", \"Nampa city, Idaho\", \"Pocatello city, Idaho\", \"Idaho Falls city, Idaho\", \"Meridian city, Idaho\", \"Buffalo city, New York\", \"Rochester city, New York\", \"Yonkers city, New York\", \"Syracuse city, New York\"], \"y\": [185787, 51867, 51466, 50730, 34919, 292648, 219773, 196086, 147306]}, {\"name\": \"2010_pop\", \"type\": \"bar\", \"x\": [\"Boise City city, Idaho\", \"Nampa city, Idaho\", \"Pocatello city, Idaho\", \"Idaho Falls city, Idaho\", \"Meridian city, Idaho\", \"Buffalo city, New York\", \"Rochester city, New York\", \"Yonkers city, New York\", \"Syracuse city, New York\"], \"y\": [205671.0, 81557.0, 54255.0, 56813.0, 75092.0, 261310.0, 210565.0, 195976.0, 145170.0]}, {\"name\": \"2012_pop\", \"type\": \"bar\", \"x\": [\"Boise City city, Idaho\", \"Nampa city, Idaho\", \"Pocatello city, Idaho\", \"Idaho Falls city, Idaho\", \"Meridian city, Idaho\", \"Buffalo city, New York\", \"Rochester city, New York\", \"Yonkers city, New York\", \"Syracuse city, New York\"], \"y\": [208332.0, 81667.0, 54145.0, 57021.0, 75210.0, 261955.0, 210967.0, 196459.0, 144703.0]}, {\"name\": \"2013_pop\", \"type\": \"bar\", \"x\": [\"Boise City city, Idaho\", \"Nampa city, Idaho\", \"Pocatello city, Idaho\", \"Idaho Falls city, Idaho\", \"Meridian city, Idaho\", \"Buffalo city, New York\", \"Rochester city, New York\", \"Yonkers city, New York\", \"Syracuse city, New York\"], \"y\": [209726.0, 83140.0, 54355.0, 57536.0, 78061.0, 260568.0, 210624.0, 197493.0, 144742.0]}, {\"name\": \"2014_pop\", \"type\": \"bar\", \"x\": [\"Boise City city, Idaho\", \"Nampa city, Idaho\", \"Pocatello city, Idaho\", \"Idaho Falls city, Idaho\", \"Meridian city, Idaho\", \"Buffalo city, New York\", \"Rochester city, New York\", \"Yonkers city, New York\", \"Syracuse city, New York\"], \"y\": [211655.0, 84660.0, 54466.0, 57935.0, 81025.0, 259959.0, 210461.0, 198654.0, 144648.0]}, {\"name\": \"2015_pop\", \"type\": \"bar\", \"x\": [\"Boise City city, Idaho\", \"Nampa city, Idaho\", \"Pocatello city, Idaho\", \"Idaho Falls city, Idaho\", \"Meridian city, Idaho\", \"Buffalo city, New York\", \"Rochester city, New York\", \"Yonkers city, New York\", \"Syracuse city, New York\"], \"y\": [214196.0, 86203.0, 54549.0, 58374.0, 84018.0, 259517.0, 210745.0, 199435.0, 144564.0]}, {\"name\": \"2016_pop\", \"type\": \"bar\", \"x\": [\"Boise City city, Idaho\", \"Nampa city, Idaho\", \"Pocatello city, Idaho\", \"Idaho Falls city, Idaho\", \"Meridian city, Idaho\", \"Buffalo city, New York\", \"Rochester city, New York\", \"Yonkers city, New York\", \"Syracuse city, New York\"], \"y\": [218677.0, 87896.0, 54592.0, 58933.0, 88247.0, 258989.0, 210291.0, 199725.0, 144350.0]}, {\"name\": \"2017_pop\", \"type\": \"bar\", \"x\": [\"Boise City city, Idaho\", \"Nampa city, Idaho\", \"Pocatello city, Idaho\", \"Idaho Falls city, Idaho\", \"Meridian city, Idaho\", \"Buffalo city, New York\", \"Rochester city, New York\", \"Yonkers city, New York\", \"Syracuse city, New York\"], \"y\": [220859.0, 89576.0, 54658.0, 59414.0, 91917.0, 259574.0, 209463.0, 200999.0, 144405.0]}, {\"name\": \"2000_housing\", \"type\": \"bar\", \"x\": [\"Boise City city, Idaho\", \"Nampa city, Idaho\", \"Pocatello city, Idaho\", \"Idaho Falls city, Idaho\", \"Meridian city, Idaho\", \"Buffalo city, New York\", \"Rochester city, New York\", \"Yonkers city, New York\", \"Syracuse city, New York\"], \"y\": [\"77850\", \"19379\", \"20627\", \"19771\", \"12293\", \"145574\", \"99789\", \"77589\", \"68192\"]}, {\"name\": \"2010_housing\", \"type\": \"bar\", \"x\": [\"Boise City city, Idaho\", \"Nampa city, Idaho\", \"Pocatello city, Idaho\", \"Idaho Falls city, Idaho\", \"Meridian city, Idaho\", \"Buffalo city, New York\", \"Rochester city, New York\", \"Yonkers city, New York\", \"Syracuse city, New York\"], \"y\": [92700.0, 30507.0, 22404.0, 22977.0, 26674.0, 133444.0, 97158.0, 80389.0, 64356.0]}, {\"name\": \"2012_housing\", \"type\": \"bar\", \"x\": [\"Boise City city, Idaho\", \"Nampa city, Idaho\", \"Pocatello city, Idaho\", \"Idaho Falls city, Idaho\", \"Meridian city, Idaho\", \"Buffalo city, New York\", \"Rochester city, New York\", \"Yonkers city, New York\", \"Syracuse city, New York\"], \"y\": [5659.0, 1694.0, 1686.0, 1681.0, 1444.0, 8891.0, 7192.0, 5296.0, 5342.0]}, {\"name\": \"2013_housing\", \"type\": \"bar\", \"x\": [\"Boise City city, Idaho\", \"Nampa city, Idaho\", \"Pocatello city, Idaho\", \"Idaho Falls city, Idaho\", \"Meridian city, Idaho\", \"Buffalo city, New York\", \"Rochester city, New York\", \"Yonkers city, New York\", \"Syracuse city, New York\"], \"y\": [5617.0, 1641.0, 1713.0, 1708.0, 1314.0, 9041.0, 7513.0, 5449.0, 5636.0]}, {\"name\": \"2014_housing\", \"type\": \"bar\", \"x\": [\"Boise City city, Idaho\", \"Nampa city, Idaho\", \"Pocatello city, Idaho\", \"Idaho Falls city, Idaho\", \"Meridian city, Idaho\", \"Buffalo city, New York\", \"Rochester city, New York\", \"Yonkers city, New York\", \"Syracuse city, New York\"], \"y\": [5677.0, 1613.0, 1750.0, 1788.0, 1197.0, 9363.0, 7973.0, 5655.0, 6021.0]}, {\"name\": \"2015_housing\", \"type\": \"bar\", \"x\": [\"Boise City city, Idaho\", \"Nampa city, Idaho\", \"Pocatello city, Idaho\", \"Idaho Falls city, Idaho\", \"Meridian city, Idaho\", \"Buffalo city, New York\", \"Rochester city, New York\", \"Yonkers city, New York\", \"Syracuse city, New York\"], \"y\": [5699.0, 1613.0, 1819.0, 1852.0, 1112.0, 9721.0, 8399.0, 5814.0, 6368.0]}, {\"name\": \"2016_housing\", \"type\": \"bar\", \"x\": [\"Boise City city, Idaho\", \"Nampa city, Idaho\", \"Pocatello city, Idaho\", \"Idaho Falls city, Idaho\", \"Meridian city, Idaho\", \"Buffalo city, New York\", \"Rochester city, New York\", \"Yonkers city, New York\", \"Syracuse city, New York\"], \"y\": [5859.0, 1703.0, 1797.0, 1848.0, 1176.0, 9658.0, 8354.0, 5664.0, 6296.0]}, {\"name\": \"2017_housing\", \"type\": \"bar\", \"x\": [\"Boise City city, Idaho\", \"Nampa city, Idaho\", \"Pocatello city, Idaho\", \"Idaho Falls city, Idaho\", \"Meridian city, Idaho\", \"Buffalo city, New York\", \"Rochester city, New York\", \"Yonkers city, New York\", \"Syracuse city, New York\"], \"y\": [5814.0, 1707.0, 1763.0, 1840.0, 1213.0, 9431.0, 8140.0, 5425.0, 6091.0]}, {\"name\": \"2000_non-relatives\", \"type\": \"bar\", \"x\": [\"Boise City city, Idaho\", \"Nampa city, Idaho\", \"Pocatello city, Idaho\", \"Idaho Falls city, Idaho\", \"Meridian city, Idaho\", \"Buffalo city, New York\", \"Rochester city, New York\", \"Yonkers city, New York\", \"Syracuse city, New York\"], \"y\": [\"185787\", \"51867\", \"51466\", \"50730\", \"34919\", \"292648\", \"219773\", \"196086\", \"147306\"]}, {\"name\": \"2010_non-relatives\", \"type\": \"bar\", \"x\": [\"Boise City city, Idaho\", \"Nampa city, Idaho\", \"Pocatello city, Idaho\", \"Idaho Falls city, Idaho\", \"Meridian city, Idaho\", \"Buffalo city, New York\", \"Rochester city, New York\", \"Yonkers city, New York\", \"Syracuse city, New York\"], \"y\": [85704.0, 27729.0, 20832.0, 21203.0, 25302.0, 112536.0, 87027.0, 74550.0, 57355.0]}, {\"name\": \"2012_non-relatives\", \"type\": \"bar\", \"x\": [\"Boise City city, Idaho\", \"Nampa city, Idaho\", \"Pocatello city, Idaho\", \"Idaho Falls city, Idaho\", \"Meridian city, Idaho\", \"Buffalo city, New York\", \"Rochester city, New York\", \"Yonkers city, New York\", \"Syracuse city, New York\"], \"y\": [1077.0, 327.0, 95.0, 445.0, 604.0, 1549.0, 1746.0, 1748.0, 1049.0]}, {\"name\": \"2013_non-relatives\", \"type\": \"bar\", \"x\": [\"Boise City city, Idaho\", \"Nampa city, Idaho\", \"Pocatello city, Idaho\", \"Idaho Falls city, Idaho\", \"Meridian city, Idaho\", \"Buffalo city, New York\", \"Rochester city, New York\", \"Yonkers city, New York\", \"Syracuse city, New York\"], \"y\": [994.0, 415.0, 100.0, 469.0, 560.0, 1386.0, 1637.0, 1479.0, 1218.0]}, {\"name\": \"2014_non-relatives\", \"type\": \"bar\", \"x\": [\"Boise City city, Idaho\", \"Nampa city, Idaho\", \"Pocatello city, Idaho\", \"Idaho Falls city, Idaho\", \"Meridian city, Idaho\", \"Buffalo city, New York\", \"Rochester city, New York\", \"Yonkers city, New York\", \"Syracuse city, New York\"], \"y\": [1009.0, 405.0, 102.0, 247.0, 631.0, 1400.0, 1258.0, 1379.0, 1344.0]}, {\"name\": \"2015_non-relatives\", \"type\": \"bar\", \"x\": [\"Boise City city, Idaho\", \"Nampa city, Idaho\", \"Pocatello city, Idaho\", \"Idaho Falls city, Idaho\", \"Meridian city, Idaho\", \"Buffalo city, New York\", \"Rochester city, New York\", \"Yonkers city, New York\", \"Syracuse city, New York\"], \"y\": [933.0, 401.0, 111.0, 130.0, 272.0, 1433.0, 1365.0, 1407.0, 1314.0]}, {\"name\": \"2016_non-relatives\", \"type\": \"bar\", \"x\": [\"Boise City city, Idaho\", \"Nampa city, Idaho\", \"Pocatello city, Idaho\", \"Idaho Falls city, Idaho\", \"Meridian city, Idaho\", \"Buffalo city, New York\", \"Rochester city, New York\", \"Yonkers city, New York\", \"Syracuse city, New York\"], \"y\": [591.0, 389.0, 112.0, 161.0, 374.0, 1235.0, 1302.0, 1148.0, 1036.0]}, {\"name\": \"2017_non-relatives\", \"type\": \"bar\", \"x\": [\"Boise City city, Idaho\", \"Nampa city, Idaho\", \"Pocatello city, Idaho\", \"Idaho Falls city, Idaho\", \"Meridian city, Idaho\", \"Buffalo city, New York\", \"Rochester city, New York\", \"Yonkers city, New York\", \"Syracuse city, New York\"], \"y\": [356.0, 320.0, 184.0, 297.0, 262.0, 1128.0, 1321.0, 1088.0, 1002.0]}],\n",
       "                        {\"barmode\": \"group\", \"template\": {\"data\": {\"bar\": [{\"error_x\": {\"color\": \"#2a3f5f\"}, \"error_y\": {\"color\": \"#2a3f5f\"}, \"marker\": {\"line\": {\"color\": \"#E5ECF6\", \"width\": 0.5}}, \"type\": \"bar\"}], \"barpolar\": [{\"marker\": {\"line\": {\"color\": \"#E5ECF6\", \"width\": 0.5}}, \"type\": \"barpolar\"}], \"carpet\": [{\"aaxis\": {\"endlinecolor\": \"#2a3f5f\", \"gridcolor\": \"white\", \"linecolor\": \"white\", \"minorgridcolor\": \"white\", \"startlinecolor\": \"#2a3f5f\"}, \"baxis\": {\"endlinecolor\": \"#2a3f5f\", \"gridcolor\": \"white\", \"linecolor\": \"white\", \"minorgridcolor\": \"white\", \"startlinecolor\": \"#2a3f5f\"}, \"type\": \"carpet\"}], \"choropleth\": [{\"colorbar\": {\"outlinewidth\": 0, \"ticks\": \"\"}, \"type\": \"choropleth\"}], \"contour\": [{\"colorbar\": {\"outlinewidth\": 0, \"ticks\": \"\"}, \"colorscale\": [[0.0, \"#0d0887\"], [0.1111111111111111, \"#46039f\"], [0.2222222222222222, \"#7201a8\"], [0.3333333333333333, \"#9c179e\"], [0.4444444444444444, \"#bd3786\"], [0.5555555555555556, \"#d8576b\"], [0.6666666666666666, \"#ed7953\"], [0.7777777777777778, \"#fb9f3a\"], [0.8888888888888888, \"#fdca26\"], [1.0, \"#f0f921\"]], \"type\": \"contour\"}], \"contourcarpet\": [{\"colorbar\": {\"outlinewidth\": 0, \"ticks\": \"\"}, \"type\": \"contourcarpet\"}], \"heatmap\": [{\"colorbar\": {\"outlinewidth\": 0, \"ticks\": \"\"}, \"colorscale\": [[0.0, \"#0d0887\"], [0.1111111111111111, \"#46039f\"], [0.2222222222222222, \"#7201a8\"], [0.3333333333333333, \"#9c179e\"], [0.4444444444444444, \"#bd3786\"], [0.5555555555555556, \"#d8576b\"], [0.6666666666666666, \"#ed7953\"], [0.7777777777777778, \"#fb9f3a\"], [0.8888888888888888, \"#fdca26\"], [1.0, \"#f0f921\"]], \"type\": \"heatmap\"}], \"heatmapgl\": [{\"colorbar\": {\"outlinewidth\": 0, \"ticks\": \"\"}, \"colorscale\": [[0.0, \"#0d0887\"], [0.1111111111111111, \"#46039f\"], [0.2222222222222222, \"#7201a8\"], [0.3333333333333333, \"#9c179e\"], [0.4444444444444444, \"#bd3786\"], [0.5555555555555556, \"#d8576b\"], [0.6666666666666666, \"#ed7953\"], [0.7777777777777778, \"#fb9f3a\"], [0.8888888888888888, \"#fdca26\"], [1.0, \"#f0f921\"]], \"type\": \"heatmapgl\"}], \"histogram\": [{\"marker\": {\"colorbar\": {\"outlinewidth\": 0, \"ticks\": \"\"}}, \"type\": \"histogram\"}], \"histogram2d\": [{\"colorbar\": {\"outlinewidth\": 0, \"ticks\": \"\"}, \"colorscale\": [[0.0, \"#0d0887\"], [0.1111111111111111, \"#46039f\"], [0.2222222222222222, \"#7201a8\"], [0.3333333333333333, \"#9c179e\"], [0.4444444444444444, \"#bd3786\"], [0.5555555555555556, \"#d8576b\"], [0.6666666666666666, \"#ed7953\"], [0.7777777777777778, \"#fb9f3a\"], [0.8888888888888888, \"#fdca26\"], [1.0, \"#f0f921\"]], \"type\": \"histogram2d\"}], \"histogram2dcontour\": [{\"colorbar\": {\"outlinewidth\": 0, \"ticks\": \"\"}, \"colorscale\": [[0.0, \"#0d0887\"], [0.1111111111111111, \"#46039f\"], [0.2222222222222222, \"#7201a8\"], [0.3333333333333333, \"#9c179e\"], [0.4444444444444444, \"#bd3786\"], [0.5555555555555556, \"#d8576b\"], [0.6666666666666666, \"#ed7953\"], [0.7777777777777778, \"#fb9f3a\"], [0.8888888888888888, \"#fdca26\"], [1.0, \"#f0f921\"]], \"type\": \"histogram2dcontour\"}], \"mesh3d\": [{\"colorbar\": {\"outlinewidth\": 0, \"ticks\": \"\"}, \"type\": \"mesh3d\"}], \"parcoords\": [{\"line\": {\"colorbar\": {\"outlinewidth\": 0, \"ticks\": \"\"}}, \"type\": \"parcoords\"}], \"pie\": [{\"automargin\": true, \"type\": \"pie\"}], \"scatter\": [{\"marker\": {\"colorbar\": {\"outlinewidth\": 0, \"ticks\": \"\"}}, \"type\": \"scatter\"}], \"scatter3d\": [{\"line\": {\"colorbar\": {\"outlinewidth\": 0, \"ticks\": \"\"}}, \"marker\": {\"colorbar\": {\"outlinewidth\": 0, \"ticks\": \"\"}}, \"type\": \"scatter3d\"}], \"scattercarpet\": [{\"marker\": {\"colorbar\": {\"outlinewidth\": 0, \"ticks\": \"\"}}, \"type\": \"scattercarpet\"}], \"scattergeo\": [{\"marker\": {\"colorbar\": {\"outlinewidth\": 0, \"ticks\": \"\"}}, \"type\": \"scattergeo\"}], \"scattergl\": [{\"marker\": {\"colorbar\": {\"outlinewidth\": 0, \"ticks\": \"\"}}, \"type\": \"scattergl\"}], \"scattermapbox\": [{\"marker\": {\"colorbar\": {\"outlinewidth\": 0, \"ticks\": \"\"}}, \"type\": \"scattermapbox\"}], \"scatterpolar\": [{\"marker\": {\"colorbar\": {\"outlinewidth\": 0, \"ticks\": \"\"}}, \"type\": \"scatterpolar\"}], \"scatterpolargl\": [{\"marker\": {\"colorbar\": {\"outlinewidth\": 0, \"ticks\": \"\"}}, \"type\": \"scatterpolargl\"}], \"scatterternary\": [{\"marker\": {\"colorbar\": {\"outlinewidth\": 0, \"ticks\": \"\"}}, \"type\": \"scatterternary\"}], \"surface\": [{\"colorbar\": {\"outlinewidth\": 0, \"ticks\": \"\"}, \"colorscale\": [[0.0, \"#0d0887\"], [0.1111111111111111, \"#46039f\"], [0.2222222222222222, \"#7201a8\"], [0.3333333333333333, \"#9c179e\"], [0.4444444444444444, \"#bd3786\"], [0.5555555555555556, \"#d8576b\"], [0.6666666666666666, \"#ed7953\"], [0.7777777777777778, \"#fb9f3a\"], [0.8888888888888888, \"#fdca26\"], [1.0, \"#f0f921\"]], \"type\": \"surface\"}], \"table\": [{\"cells\": {\"fill\": {\"color\": \"#EBF0F8\"}, \"line\": {\"color\": \"white\"}}, \"header\": {\"fill\": {\"color\": \"#C8D4E3\"}, \"line\": {\"color\": \"white\"}}, \"type\": \"table\"}]}, \"layout\": {\"annotationdefaults\": {\"arrowcolor\": \"#2a3f5f\", \"arrowhead\": 0, \"arrowwidth\": 1}, \"coloraxis\": {\"colorbar\": {\"outlinewidth\": 0, \"ticks\": \"\"}}, \"colorscale\": {\"diverging\": [[0, \"#8e0152\"], [0.1, \"#c51b7d\"], [0.2, \"#de77ae\"], [0.3, \"#f1b6da\"], [0.4, \"#fde0ef\"], [0.5, \"#f7f7f7\"], [0.6, \"#e6f5d0\"], [0.7, \"#b8e186\"], [0.8, \"#7fbc41\"], [0.9, \"#4d9221\"], [1, \"#276419\"]], \"sequential\": [[0.0, \"#0d0887\"], [0.1111111111111111, \"#46039f\"], [0.2222222222222222, \"#7201a8\"], [0.3333333333333333, \"#9c179e\"], [0.4444444444444444, \"#bd3786\"], [0.5555555555555556, \"#d8576b\"], [0.6666666666666666, \"#ed7953\"], [0.7777777777777778, \"#fb9f3a\"], [0.8888888888888888, \"#fdca26\"], [1.0, \"#f0f921\"]], \"sequentialminus\": [[0.0, \"#0d0887\"], [0.1111111111111111, \"#46039f\"], [0.2222222222222222, \"#7201a8\"], [0.3333333333333333, \"#9c179e\"], [0.4444444444444444, \"#bd3786\"], [0.5555555555555556, \"#d8576b\"], [0.6666666666666666, \"#ed7953\"], [0.7777777777777778, \"#fb9f3a\"], [0.8888888888888888, \"#fdca26\"], [1.0, \"#f0f921\"]]}, \"colorway\": [\"#636efa\", \"#EF553B\", \"#00cc96\", \"#ab63fa\", \"#FFA15A\", \"#19d3f3\", \"#FF6692\", \"#B6E880\", \"#FF97FF\", \"#FECB52\"], \"font\": {\"color\": \"#2a3f5f\"}, \"geo\": {\"bgcolor\": \"white\", \"lakecolor\": \"white\", \"landcolor\": \"#E5ECF6\", \"showlakes\": true, \"showland\": true, \"subunitcolor\": \"white\"}, \"hoverlabel\": {\"align\": \"left\"}, \"hovermode\": \"closest\", \"mapbox\": {\"style\": \"light\"}, \"paper_bgcolor\": \"white\", \"plot_bgcolor\": \"#E5ECF6\", \"polar\": {\"angularaxis\": {\"gridcolor\": \"white\", \"linecolor\": \"white\", \"ticks\": \"\"}, \"bgcolor\": \"#E5ECF6\", \"radialaxis\": {\"gridcolor\": \"white\", \"linecolor\": \"white\", \"ticks\": \"\"}}, \"scene\": {\"xaxis\": {\"backgroundcolor\": \"#E5ECF6\", \"gridcolor\": \"white\", \"gridwidth\": 2, \"linecolor\": \"white\", \"showbackground\": true, \"ticks\": \"\", \"zerolinecolor\": \"white\"}, \"yaxis\": {\"backgroundcolor\": \"#E5ECF6\", \"gridcolor\": \"white\", \"gridwidth\": 2, \"linecolor\": \"white\", \"showbackground\": true, \"ticks\": \"\", \"zerolinecolor\": \"white\"}, \"zaxis\": {\"backgroundcolor\": \"#E5ECF6\", \"gridcolor\": \"white\", \"gridwidth\": 2, \"linecolor\": \"white\", \"showbackground\": true, \"ticks\": \"\", \"zerolinecolor\": \"white\"}}, \"shapedefaults\": {\"line\": {\"color\": \"#2a3f5f\"}}, \"ternary\": {\"aaxis\": {\"gridcolor\": \"white\", \"linecolor\": \"white\", \"ticks\": \"\"}, \"baxis\": {\"gridcolor\": \"white\", \"linecolor\": \"white\", \"ticks\": \"\"}, \"bgcolor\": \"#E5ECF6\", \"caxis\": {\"gridcolor\": \"white\", \"linecolor\": \"white\", \"ticks\": \"\"}}, \"title\": {\"x\": 0.05}, \"xaxis\": {\"automargin\": true, \"gridcolor\": \"white\", \"linecolor\": \"white\", \"ticks\": \"\", \"title\": {\"standoff\": 15}, \"zerolinecolor\": \"white\", \"zerolinewidth\": 2}, \"yaxis\": {\"automargin\": true, \"gridcolor\": \"white\", \"linecolor\": \"white\", \"ticks\": \"\", \"title\": {\"standoff\": 15}, \"zerolinecolor\": \"white\", \"zerolinewidth\": 2}}}},\n",
       "                        {\"responsive\": true}\n",
       "                    ).then(function(){\n",
       "                            \n",
       "var gd = document.getElementById('cb1834b4-118f-474d-a6d6-1292f40509c2');\n",
       "var x = new MutationObserver(function (mutations, observer) {{\n",
       "        var display = window.getComputedStyle(gd).display;\n",
       "        if (!display || display === 'none') {{\n",
       "            console.log([gd, 'removed!']);\n",
       "            Plotly.purge(gd);\n",
       "            observer.disconnect();\n",
       "        }}\n",
       "}});\n",
       "\n",
       "// Listen for the removal of the full notebook cells\n",
       "var notebookContainer = gd.closest('#notebook-container');\n",
       "if (notebookContainer) {{\n",
       "    x.observe(notebookContainer, {childList: true});\n",
       "}}\n",
       "\n",
       "// Listen for the clearing of the current output cell\n",
       "var outputEl = gd.closest('.output');\n",
       "if (outputEl) {{\n",
       "    x.observe(outputEl, {childList: true});\n",
       "}}\n",
       "\n",
       "                        })\n",
       "                };\n",
       "                });\n",
       "            </script>\n",
       "        </div>"
      ]
     },
     "metadata": {},
     "output_type": "display_data"
    }
   ],
   "source": [
    "fig = go.Figure(data=[\n",
    "    go.Bar(name='2000_pop', x=three_state_df['City_Name'], y=three_state_df['Total_Population_2000']),\n",
    "    go.Bar(name='2010_pop', x=three_state_df['City_Name'], y=three_state_df['Total_Population_2010']),\n",
    "    go.Bar(name='2012_pop', x=three_state_df['City_Name'], y=three_state_df['Total_Population_2012']),\n",
    "    go.Bar(name='2013_pop', x=three_state_df['City_Name'], y=three_state_df['Total_Population_2013']),\n",
    "    go.Bar(name='2014_pop', x=three_state_df['City_Name'], y=three_state_df['Total_Population_2014']),\n",
    "    go.Bar(name='2015_pop', x=three_state_df['City_Name'], y=three_state_df['Total_Population_2015']),\n",
    "    go.Bar(name='2016_pop', x=three_state_df['City_Name'], y=three_state_df['Total_Population_2016']),\n",
    "    go.Bar(name='2017_pop', x=three_state_df['City_Name'], y=three_state_df['Total_Population_2017']),\n",
    "    go.Bar(name='2000_housing', x=three_state_df['City_Name'], y=three_state_df['Total_Housing_2000']),\n",
    "    go.Bar(name='2010_housing', x=three_state_df['City_Name'], y=three_state_df['Total_Housing_2010']),\n",
    "    go.Bar(name='2012_housing', x=three_state_df['City_Name'], y=three_state_df['Total_Housing_2012']),\n",
    "    go.Bar(name='2013_housing', x=three_state_df['City_Name'], y=three_state_df['Total_Housing_2013']),\n",
    "    go.Bar(name='2014_housing', x=three_state_df['City_Name'], y=three_state_df['Total_Housing_2014']),\n",
    "    go.Bar(name='2015_housing', x=three_state_df['City_Name'], y=three_state_df['Total_Housing_2015']),\n",
    "    go.Bar(name='2016_housing', x=three_state_df['City_Name'], y=three_state_df['Total_Housing_2016']),\n",
    "    go.Bar(name='2017_housing', x=three_state_df['City_Name'], y=three_state_df['Total_Housing_2017']),\n",
    "    go.Bar(name='2000_non-relatives', x=three_state_df['City_Name'], y=three_state_df['Presence_of_Non-Relatives_2000']),\n",
    "    go.Bar(name='2010_non-relatives', x=three_state_df['City_Name'], y=three_state_df['Presence_of_Non-Relatives_2010']),\n",
    "    go.Bar(name='2012_non-relatives', x=three_state_df['City_Name'], y=three_state_df['Presence_of_Non-Relatives_2012']),\n",
    "    go.Bar(name='2013_non-relatives', x=three_state_df['City_Name'], y=three_state_df['Presence_of_Non-Relatives_2013']),\n",
    "    go.Bar(name='2014_non-relatives', x=three_state_df['City_Name'], y=three_state_df['Presence_of_Non-Relatives_2014']),\n",
    "    go.Bar(name='2015_non-relatives', x=three_state_df['City_Name'], y=three_state_df['Presence_of_Non-Relatives_2015']),\n",
    "    go.Bar(name='2016_non-relatives', x=three_state_df['City_Name'], y=three_state_df['Presence_of_Non-Relatives_2016']),\n",
    "    go.Bar(name='2017_non-relatives', x=three_state_df['City_Name'], y=three_state_df['Presence_of_Non-Relatives_2017']),\n",
    "])\n",
    "fig.update_layout(barmode='group')\n",
    "fig.show()"
   ]
  },
  {
   "cell_type": "code",
   "execution_count": 54,
   "metadata": {},
   "outputs": [],
   "source": [
    "import statsmodels.api as sm\n",
    "import statsmodels.formula.api as smf\n",
    "import sklearn.metrics\n",
    "import sys\n",
    "from pandas_ml import ConfusionMatrix"
   ]
  },
  {
   "cell_type": "code",
   "execution_count": 55,
   "metadata": {},
   "outputs": [
    {
     "name": "stderr",
     "output_type": "stream",
     "text": [
      "/usr/local/lib/python3.7/site-packages/statsmodels/genmod/families/family.py:890: RuntimeWarning:\n",
      "\n",
      "divide by zero encountered in true_divide\n",
      "\n",
      "/usr/local/lib/python3.7/site-packages/statsmodels/genmod/families/family.py:942: RuntimeWarning:\n",
      "\n",
      "divide by zero encountered in true_divide\n",
      "\n",
      "/usr/local/lib/python3.7/site-packages/statsmodels/genmod/families/family.py:942: RuntimeWarning:\n",
      "\n",
      "invalid value encountered in add\n",
      "\n",
      "/usr/local/lib/python3.7/site-packages/statsmodels/genmod/families/family.py:943: RuntimeWarning:\n",
      "\n",
      "divide by zero encountered in log\n",
      "\n"
     ]
    },
    {
     "data": {
      "text/html": [
       "<table class=\"simpletable\">\n",
       "<caption>Generalized Linear Model Regression Results</caption>\n",
       "<tr>\n",
       "  <th>Dep. Variable:</th>   <td>Total_Population_2000</td> <th>  No. Observations:  </th>   <td>     9</td>  \n",
       "</tr>\n",
       "<tr>\n",
       "  <th>Model:</th>                    <td>GLM</td>          <th>  Df Residuals:      </th>   <td>     5</td>  \n",
       "</tr>\n",
       "<tr>\n",
       "  <th>Model Family:</th>          <td>Binomial</td>        <th>  Df Model:          </th>   <td>     3</td>  \n",
       "</tr>\n",
       "<tr>\n",
       "  <th>Link Function:</th>           <td>logit</td>         <th>  Scale:             </th>  <td>  1.0000</td> \n",
       "</tr>\n",
       "<tr>\n",
       "  <th>Method:</th>                  <td>IRLS</td>          <th>  Log-Likelihood:    </th>  <td>     nan</td> \n",
       "</tr>\n",
       "<tr>\n",
       "  <th>Date:</th>              <td>Sun, 01 Dec 2019</td>    <th>  Deviance:          </th> <td>1.1835e+08</td>\n",
       "</tr>\n",
       "<tr>\n",
       "  <th>Time:</th>                  <td>15:40:40</td>        <th>  Pearson chi2:      </th>  <td>1.07e+27</td> \n",
       "</tr>\n",
       "<tr>\n",
       "  <th>No. Iterations:</th>            <td>2</td>           <th>                     </th>      <td> </td>    \n",
       "</tr>\n",
       "<tr>\n",
       "  <th>Covariance Type:</th>       <td>nonrobust</td>       <th>                     </th>      <td> </td>    \n",
       "</tr>\n",
       "</table>\n",
       "<table class=\"simpletable\">\n",
       "<tr>\n",
       "            <td></td>               <th>coef</th>     <th>std err</th>      <th>z</th>      <th>P>|z|</th>  <th>[0.025</th>    <th>0.975]</th>  \n",
       "</tr>\n",
       "<tr>\n",
       "  <th>Intercept</th>             <td>-4.567e+19</td> <td> 7.28e+07</td> <td>-6.28e+11</td> <td> 0.000</td> <td>-4.57e+19</td> <td>-4.57e+19</td>\n",
       "</tr>\n",
       "<tr>\n",
       "  <th>Total_Population_2010</th> <td> 2.696e+16</td> <td> 3.56e+04</td> <td> 7.57e+11</td> <td> 0.000</td> <td>  2.7e+16</td> <td>  2.7e+16</td>\n",
       "</tr>\n",
       "<tr>\n",
       "  <th>Total_Population_2012</th> <td> 7.486e+16</td> <td> 5.36e+04</td> <td>  1.4e+12</td> <td> 0.000</td> <td> 7.49e+16</td> <td> 7.49e+16</td>\n",
       "</tr>\n",
       "<tr>\n",
       "  <th>Total_Population_2013</th> <td>-9.454e+16</td> <td> 2.62e+04</td> <td>-3.61e+12</td> <td> 0.000</td> <td>-9.45e+16</td> <td>-9.45e+16</td>\n",
       "</tr>\n",
       "</table>"
      ],
      "text/plain": [
       "<class 'statsmodels.iolib.summary.Summary'>\n",
       "\"\"\"\n",
       "                   Generalized Linear Model Regression Results                   \n",
       "=================================================================================\n",
       "Dep. Variable:     Total_Population_2000   No. Observations:                    9\n",
       "Model:                               GLM   Df Residuals:                        5\n",
       "Model Family:                   Binomial   Df Model:                            3\n",
       "Link Function:                     logit   Scale:                          1.0000\n",
       "Method:                             IRLS   Log-Likelihood:                    nan\n",
       "Date:                   Sun, 01 Dec 2019   Deviance:                   1.1835e+08\n",
       "Time:                           15:40:40   Pearson chi2:                 1.07e+27\n",
       "No. Iterations:                        2                                         \n",
       "Covariance Type:               nonrobust                                         \n",
       "=========================================================================================\n",
       "                            coef    std err          z      P>|z|      [0.025      0.975]\n",
       "-----------------------------------------------------------------------------------------\n",
       "Intercept             -4.567e+19   7.28e+07  -6.28e+11      0.000   -4.57e+19   -4.57e+19\n",
       "Total_Population_2010  2.696e+16   3.56e+04   7.57e+11      0.000     2.7e+16     2.7e+16\n",
       "Total_Population_2012  7.486e+16   5.36e+04    1.4e+12      0.000    7.49e+16    7.49e+16\n",
       "Total_Population_2013 -9.454e+16   2.62e+04  -3.61e+12      0.000   -9.45e+16   -9.45e+16\n",
       "=========================================================================================\n",
       "\"\"\""
      ]
     },
     "execution_count": 55,
     "metadata": {},
     "output_type": "execute_result"
    }
   ],
   "source": [
    "mod = smf.glm('Total_Population_2000 ~ Total_Population_2010 + Total_Population_2012 + Total_Population_2013', three_state_df, family=sm.families.Binomial()).fit()\n",
    "mod.summary()"
   ]
  },
  {
   "cell_type": "code",
   "execution_count": null,
   "metadata": {},
   "outputs": [],
   "source": []
  },
  {
   "cell_type": "code",
   "execution_count": null,
   "metadata": {},
   "outputs": [],
   "source": []
  }
 ],
 "metadata": {
  "kernelspec": {
   "display_name": "Python 3",
   "language": "python",
   "name": "python3"
  },
  "language_info": {
   "codemirror_mode": {
    "name": "ipython",
    "version": 3
   },
   "file_extension": ".py",
   "mimetype": "text/x-python",
   "name": "python",
   "nbconvert_exporter": "python",
   "pygments_lexer": "ipython3",
   "version": "3.7.4"
  }
 },
 "nbformat": 4,
 "nbformat_minor": 2
}
