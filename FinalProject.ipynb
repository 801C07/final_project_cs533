{
 "cells": [
  {
   "cell_type": "markdown",
   "metadata": {
    "colab_type": "text",
    "id": "TdqFmfBDJsmf"
   },
   "source": [
    "# Final Project -- City Sustainability\n",
    "### Ashley Gilbert, Ryan Pacheco, Ben Whitehead"
   ]
  },
  {
   "cell_type": "code",
   "execution_count": 1,
   "metadata": {
    "colab": {},
    "colab_type": "code",
    "id": "4dxNwVu_JvOJ"
   },
   "outputs": [
    {
     "name": "stdout",
     "output_type": "stream",
     "text": [
      "Requirement already satisfied: census in /Users/agilbert/anaconda3/lib/python3.7/site-packages (0.8.13)\n",
      "Requirement already satisfied: us in /Users/agilbert/anaconda3/lib/python3.7/site-packages (1.0.0)\n",
      "Requirement already satisfied: future in /Users/agilbert/anaconda3/lib/python3.7/site-packages (from census) (0.17.1)\n",
      "Requirement already satisfied: requests>=1.1.0 in /Users/agilbert/anaconda3/lib/python3.7/site-packages (from census) (2.22.0)\n",
      "Requirement already satisfied: jellyfish==0.5.6 in /Users/agilbert/anaconda3/lib/python3.7/site-packages (from us) (0.5.6)\n",
      "Requirement already satisfied: chardet<3.1.0,>=3.0.2 in /Users/agilbert/anaconda3/lib/python3.7/site-packages (from requests>=1.1.0->census) (3.0.4)\n",
      "Requirement already satisfied: certifi>=2017.4.17 in /Users/agilbert/anaconda3/lib/python3.7/site-packages (from requests>=1.1.0->census) (2019.6.16)\n",
      "Requirement already satisfied: idna<2.9,>=2.5 in /Users/agilbert/anaconda3/lib/python3.7/site-packages (from requests>=1.1.0->census) (2.8)\n",
      "Requirement already satisfied: urllib3!=1.25.0,!=1.25.1,<1.26,>=1.21.1 in /Users/agilbert/anaconda3/lib/python3.7/site-packages (from requests>=1.1.0->census) (1.24.2)\n",
      "Note: you may need to restart the kernel to use updated packages.\n"
     ]
    }
   ],
   "source": [
    "%pip install census us"
   ]
  },
  {
   "cell_type": "code",
   "execution_count": 2,
   "metadata": {},
   "outputs": [],
   "source": [
    "import pandas as pd\n",
    "import seaborn as sns\n",
    "\n",
    "from census import Census\n",
    "from us import states"
   ]
  },
  {
   "cell_type": "code",
   "execution_count": 3,
   "metadata": {},
   "outputs": [],
   "source": [
    "c = Census('fb97753783c42ae57fe1a640e38fe04e921e5d1a')"
   ]
  },
  {
   "cell_type": "markdown",
   "metadata": {},
   "source": [
    "### Get's the cities in Idaho that have a population greater than 50,000"
   ]
  },
  {
   "cell_type": "code",
   "execution_count": 4,
   "metadata": {},
   "outputs": [],
   "source": [
    "city = c.sf1.state_place(('NAME', 'P002001', 'P002002', 'P002005'), states.ID.fips, '*', year=2010)\n",
    "c_pop = pd.DataFrame.from_records(city)\n",
    "c_pop_50000 = c_pop[c_pop['P002001'] >= 50000]"
   ]
  },
  {
   "cell_type": "code",
   "execution_count": 5,
   "metadata": {},
   "outputs": [
    {
     "data": {
      "text/html": [
       "<div>\n",
       "<style scoped>\n",
       "    .dataframe tbody tr th:only-of-type {\n",
       "        vertical-align: middle;\n",
       "    }\n",
       "\n",
       "    .dataframe tbody tr th {\n",
       "        vertical-align: top;\n",
       "    }\n",
       "\n",
       "    .dataframe thead th {\n",
       "        text-align: right;\n",
       "    }\n",
       "</style>\n",
       "<table border=\"1\" class=\"dataframe\">\n",
       "  <thead>\n",
       "    <tr style=\"text-align: right;\">\n",
       "      <th></th>\n",
       "      <th>NAME</th>\n",
       "      <th>P002001</th>\n",
       "      <th>P002002</th>\n",
       "      <th>P002005</th>\n",
       "      <th>place</th>\n",
       "      <th>state</th>\n",
       "    </tr>\n",
       "  </thead>\n",
       "  <tbody>\n",
       "    <tr>\n",
       "      <th>24</th>\n",
       "      <td>Boise City city, Idaho</td>\n",
       "      <td>205671.0</td>\n",
       "      <td>204776.0</td>\n",
       "      <td>895.0</td>\n",
       "      <td>08830</td>\n",
       "      <td>16</td>\n",
       "    </tr>\n",
       "    <tr>\n",
       "      <th>87</th>\n",
       "      <td>Idaho Falls city, Idaho</td>\n",
       "      <td>56813.0</td>\n",
       "      <td>56558.0</td>\n",
       "      <td>255.0</td>\n",
       "      <td>39700</td>\n",
       "      <td>16</td>\n",
       "    </tr>\n",
       "    <tr>\n",
       "      <th>172</th>\n",
       "      <td>Meridian city, Idaho</td>\n",
       "      <td>75092.0</td>\n",
       "      <td>74986.0</td>\n",
       "      <td>106.0</td>\n",
       "      <td>52120</td>\n",
       "      <td>16</td>\n",
       "    </tr>\n",
       "    <tr>\n",
       "      <th>186</th>\n",
       "      <td>Nampa city, Idaho</td>\n",
       "      <td>81557.0</td>\n",
       "      <td>81285.0</td>\n",
       "      <td>272.0</td>\n",
       "      <td>56260</td>\n",
       "      <td>16</td>\n",
       "    </tr>\n",
       "    <tr>\n",
       "      <th>209</th>\n",
       "      <td>Pocatello city, Idaho</td>\n",
       "      <td>54255.0</td>\n",
       "      <td>54189.0</td>\n",
       "      <td>66.0</td>\n",
       "      <td>64090</td>\n",
       "      <td>16</td>\n",
       "    </tr>\n",
       "  </tbody>\n",
       "</table>\n",
       "</div>"
      ],
      "text/plain": [
       "                        NAME   P002001   P002002  P002005  place state\n",
       "24    Boise City city, Idaho  205671.0  204776.0    895.0  08830    16\n",
       "87   Idaho Falls city, Idaho   56813.0   56558.0    255.0  39700    16\n",
       "172     Meridian city, Idaho   75092.0   74986.0    106.0  52120    16\n",
       "186        Nampa city, Idaho   81557.0   81285.0    272.0  56260    16\n",
       "209    Pocatello city, Idaho   54255.0   54189.0     66.0  64090    16"
      ]
     },
     "execution_count": 5,
     "metadata": {},
     "output_type": "execute_result"
    }
   ],
   "source": [
    "c_pop_50000"
   ]
  },
  {
   "cell_type": "code",
   "execution_count": null,
   "metadata": {},
   "outputs": [],
   "source": []
  }
 ],
 "metadata": {
  "colab": {
   "collapsed_sections": [],
   "include_colab_link": true,
   "name": "FinalProject.ipynb",
   "provenance": []
  },
  "kernelspec": {
   "display_name": "Python 3",
   "language": "python",
   "name": "python3"
  },
  "language_info": {
   "codemirror_mode": {
    "name": "ipython",
    "version": 3
   },
   "file_extension": ".py",
   "mimetype": "text/x-python",
   "name": "python",
   "nbconvert_exporter": "python",
   "pygments_lexer": "ipython3",
   "version": "3.7.3"
  }
 },
 "nbformat": 4,
 "nbformat_minor": 1
}
