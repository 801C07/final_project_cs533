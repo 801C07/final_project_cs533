{
 "cells": [
  {
   "cell_type": "markdown",
   "metadata": {
    "colab_type": "text",
    "id": "TdqFmfBDJsmf"
   },
   "source": [
    "# California -- City Sustainability"
   ]
  },
  {
   "cell_type": "code",
   "execution_count": 1,
   "metadata": {
    "colab": {},
    "colab_type": "code",
    "id": "4dxNwVu_JvOJ",
    "scrolled": false
   },
   "outputs": [
    {
     "name": "stdout",
     "output_type": "stream",
     "text": [
      "Requirement already satisfied: census in /Users/Ryan/anaconda3/lib/python3.7/site-packages (0.8.13)\n",
      "Requirement already satisfied: us in /Users/Ryan/anaconda3/lib/python3.7/site-packages (1.0.0)\n",
      "Requirement already satisfied: requests>=1.1.0 in /Users/Ryan/anaconda3/lib/python3.7/site-packages (from census) (2.22.0)\n",
      "Requirement already satisfied: future in /Users/Ryan/anaconda3/lib/python3.7/site-packages (from census) (0.17.1)\n",
      "Requirement already satisfied: jellyfish==0.5.6 in /Users/Ryan/anaconda3/lib/python3.7/site-packages (from us) (0.5.6)\n",
      "Requirement already satisfied: certifi>=2017.4.17 in /Users/Ryan/anaconda3/lib/python3.7/site-packages (from requests>=1.1.0->census) (2019.9.11)\n",
      "Requirement already satisfied: urllib3!=1.25.0,!=1.25.1,<1.26,>=1.21.1 in /Users/Ryan/anaconda3/lib/python3.7/site-packages (from requests>=1.1.0->census) (1.24.2)\n",
      "Requirement already satisfied: idna<2.9,>=2.5 in /Users/Ryan/anaconda3/lib/python3.7/site-packages (from requests>=1.1.0->census) (2.8)\n",
      "Requirement already satisfied: chardet<3.1.0,>=3.0.2 in /Users/Ryan/anaconda3/lib/python3.7/site-packages (from requests>=1.1.0->census) (3.0.4)\n",
      "Note: you may need to restart the kernel to use updated packages.\n"
     ]
    }
   ],
   "source": [
    "%pip install census us"
   ]
  },
  {
   "cell_type": "code",
   "execution_count": 13,
   "metadata": {},
   "outputs": [],
   "source": [
    "import pandas as pd\n",
    "import seaborn as sns\n",
    "import matplotlib as plt\n",
    "\n",
    "from census import Census\n",
    "from us import states"
   ]
  },
  {
   "cell_type": "code",
   "execution_count": 22,
   "metadata": {},
   "outputs": [],
   "source": [
    "c = Census('fb97753783c42ae57fe1a640e38fe04e921e5d1a')"
   ]
  },
  {
   "cell_type": "markdown",
   "metadata": {},
   "source": [
    "### Get's the cities in Idaho that have a population greater than 50,000"
   ]
  },
  {
   "cell_type": "code",
   "execution_count": 46,
   "metadata": {},
   "outputs": [],
   "source": [
    "city_2010 = c.sf1.state_place(('NAME', 'H001001', \n",
    "                               'P013001', 'P002002', 'P002005', \n",
    "                               'P013001', 'H003001', 'P027001', \n",
    "                               'H005001', 'H005002', 'H005003', \n",
    "                               'H005004', 'H005005', 'H005006', \n",
    "                               'H005007', 'P002001'), \n",
    "                              states.CA.fips, '*', year=2010)\n",
    "c_pop_2010 = pd.DataFrame.from_records(city_2010)\n",
    "c_pop_2010_50000 = c_pop_2010[c_pop_2010['P002001'].astype(int) >= 50000].rename(columns={\n",
    "        'NAME' : 'City_Name',\n",
    "        'place': 'FIPS',\n",
    "        'P002001': 'Total_Population_2010',\n",
    "        'P002002':'Total_Urban_Population_2010',\n",
    "        'P002005':'Total_Rural_Population_2010',\n",
    "        'H001001': 'Total_Housing_2010',\n",
    "        'P013001': 'Median_Age_2010',\n",
    "        'H003001': 'Occupancy_Status_For_Housing_Units_2010',\n",
    "        'P027001': 'Presence_of_Non-Relatives_2010',\n",
    "        'H005001': 'Vacancy_Status_2010',\n",
    "        'H005002': 'For_Rent_2010',\n",
    "        'H005003': 'Rented_Not_Occupied_2010',\n",
    "        'H005004': 'For_Sale_Only_2010',\n",
    "        'H005005': 'Sold_Not_Occupied_2010',\n",
    "        'H005006': 'For_Seasonal_Recreational_Or_Occasional_Use_2010',\n",
    "        'H005007': 'For_Migrant_Workers_2010'})"
   ]
  },
  {
   "cell_type": "code",
   "execution_count": 47,
   "metadata": {
    "scrolled": true
   },
   "outputs": [
    {
     "data": {
      "text/html": [
       "<div>\n",
       "<style scoped>\n",
       "    .dataframe tbody tr th:only-of-type {\n",
       "        vertical-align: middle;\n",
       "    }\n",
       "\n",
       "    .dataframe tbody tr th {\n",
       "        vertical-align: top;\n",
       "    }\n",
       "\n",
       "    .dataframe thead th {\n",
       "        text-align: right;\n",
       "    }\n",
       "</style>\n",
       "<table border=\"1\" class=\"dataframe\">\n",
       "  <thead>\n",
       "    <tr style=\"text-align: right;\">\n",
       "      <th></th>\n",
       "      <th>Total_Housing_2010</th>\n",
       "      <th>Occupancy_Status_For_Housing_Units_2010</th>\n",
       "      <th>Vacancy_Status_2010</th>\n",
       "      <th>For_Rent_2010</th>\n",
       "      <th>Rented_Not_Occupied_2010</th>\n",
       "      <th>For_Sale_Only_2010</th>\n",
       "      <th>Sold_Not_Occupied_2010</th>\n",
       "      <th>For_Seasonal_Recreational_Or_Occasional_Use_2010</th>\n",
       "      <th>For_Migrant_Workers_2010</th>\n",
       "      <th>City_Name</th>\n",
       "      <th>Total_Population_2010</th>\n",
       "      <th>Total_Urban_Population_2010</th>\n",
       "      <th>Total_Rural_Population_2010</th>\n",
       "      <th>Median_Age_2010</th>\n",
       "      <th>Presence_of_Non-Relatives_2010</th>\n",
       "      <th>FIPS</th>\n",
       "      <th>state</th>\n",
       "    </tr>\n",
       "  </thead>\n",
       "  <tbody>\n",
       "    <tr>\n",
       "      <th>10</th>\n",
       "      <td>32351.0</td>\n",
       "      <td>32351.0</td>\n",
       "      <td>2228.0</td>\n",
       "      <td>942.0</td>\n",
       "      <td>65.0</td>\n",
       "      <td>164.0</td>\n",
       "      <td>63.0</td>\n",
       "      <td>207.0</td>\n",
       "      <td>1.0</td>\n",
       "      <td>Alameda city, California</td>\n",
       "      <td>73812.0</td>\n",
       "      <td>73812.0</td>\n",
       "      <td>0.0</td>\n",
       "      <td>40.7</td>\n",
       "      <td>30123.0</td>\n",
       "      <td>00562</td>\n",
       "      <td>06</td>\n",
       "    </tr>\n",
       "    <tr>\n",
       "      <th>15</th>\n",
       "      <td>30915.0</td>\n",
       "      <td>30915.0</td>\n",
       "      <td>1698.0</td>\n",
       "      <td>972.0</td>\n",
       "      <td>34.0</td>\n",
       "      <td>162.0</td>\n",
       "      <td>55.0</td>\n",
       "      <td>139.0</td>\n",
       "      <td>0.0</td>\n",
       "      <td>Alhambra city, California</td>\n",
       "      <td>83089.0</td>\n",
       "      <td>83089.0</td>\n",
       "      <td>0.0</td>\n",
       "      <td>39.3</td>\n",
       "      <td>29217.0</td>\n",
       "      <td>00884</td>\n",
       "      <td>06</td>\n",
       "    </tr>\n",
       "    <tr>\n",
       "      <th>35</th>\n",
       "      <td>104237.0</td>\n",
       "      <td>104237.0</td>\n",
       "      <td>5943.0</td>\n",
       "      <td>3915.0</td>\n",
       "      <td>140.0</td>\n",
       "      <td>819.0</td>\n",
       "      <td>217.0</td>\n",
       "      <td>243.0</td>\n",
       "      <td>0.0</td>\n",
       "      <td>Anaheim city, California</td>\n",
       "      <td>336265.0</td>\n",
       "      <td>336256.0</td>\n",
       "      <td>9.0</td>\n",
       "      <td>32.4</td>\n",
       "      <td>98294.0</td>\n",
       "      <td>02000</td>\n",
       "      <td>06</td>\n",
       "    </tr>\n",
       "    <tr>\n",
       "      <th>41</th>\n",
       "      <td>34849.0</td>\n",
       "      <td>34849.0</td>\n",
       "      <td>2597.0</td>\n",
       "      <td>1027.0</td>\n",
       "      <td>47.0</td>\n",
       "      <td>580.0</td>\n",
       "      <td>118.0</td>\n",
       "      <td>84.0</td>\n",
       "      <td>0.0</td>\n",
       "      <td>Antioch city, California</td>\n",
       "      <td>102372.0</td>\n",
       "      <td>102150.0</td>\n",
       "      <td>222.0</td>\n",
       "      <td>33.8</td>\n",
       "      <td>32252.0</td>\n",
       "      <td>02252</td>\n",
       "      <td>06</td>\n",
       "    </tr>\n",
       "    <tr>\n",
       "      <th>43</th>\n",
       "      <td>26117.0</td>\n",
       "      <td>26117.0</td>\n",
       "      <td>2519.0</td>\n",
       "      <td>813.0</td>\n",
       "      <td>27.0</td>\n",
       "      <td>687.0</td>\n",
       "      <td>164.0</td>\n",
       "      <td>214.0</td>\n",
       "      <td>0.0</td>\n",
       "      <td>Apple Valley town, California</td>\n",
       "      <td>69135.0</td>\n",
       "      <td>67458.0</td>\n",
       "      <td>1677.0</td>\n",
       "      <td>37.0</td>\n",
       "      <td>23598.0</td>\n",
       "      <td>02364</td>\n",
       "      <td>06</td>\n",
       "    </tr>\n",
       "  </tbody>\n",
       "</table>\n",
       "</div>"
      ],
      "text/plain": [
       "    Total_Housing_2010  Occupancy_Status_For_Housing_Units_2010  \\\n",
       "10             32351.0                                  32351.0   \n",
       "15             30915.0                                  30915.0   \n",
       "35            104237.0                                 104237.0   \n",
       "41             34849.0                                  34849.0   \n",
       "43             26117.0                                  26117.0   \n",
       "\n",
       "    Vacancy_Status_2010  For_Rent_2010  Rented_Not_Occupied_2010  \\\n",
       "10               2228.0          942.0                      65.0   \n",
       "15               1698.0          972.0                      34.0   \n",
       "35               5943.0         3915.0                     140.0   \n",
       "41               2597.0         1027.0                      47.0   \n",
       "43               2519.0          813.0                      27.0   \n",
       "\n",
       "    For_Sale_Only_2010  Sold_Not_Occupied_2010  \\\n",
       "10               164.0                    63.0   \n",
       "15               162.0                    55.0   \n",
       "35               819.0                   217.0   \n",
       "41               580.0                   118.0   \n",
       "43               687.0                   164.0   \n",
       "\n",
       "    For_Seasonal_Recreational_Or_Occasional_Use_2010  \\\n",
       "10                                             207.0   \n",
       "15                                             139.0   \n",
       "35                                             243.0   \n",
       "41                                              84.0   \n",
       "43                                             214.0   \n",
       "\n",
       "    For_Migrant_Workers_2010                      City_Name  \\\n",
       "10                       1.0       Alameda city, California   \n",
       "15                       0.0      Alhambra city, California   \n",
       "35                       0.0       Anaheim city, California   \n",
       "41                       0.0       Antioch city, California   \n",
       "43                       0.0  Apple Valley town, California   \n",
       "\n",
       "    Total_Population_2010  Total_Urban_Population_2010  \\\n",
       "10                73812.0                      73812.0   \n",
       "15                83089.0                      83089.0   \n",
       "35               336265.0                     336256.0   \n",
       "41               102372.0                     102150.0   \n",
       "43                69135.0                      67458.0   \n",
       "\n",
       "    Total_Rural_Population_2010  Median_Age_2010  \\\n",
       "10                          0.0             40.7   \n",
       "15                          0.0             39.3   \n",
       "35                          9.0             32.4   \n",
       "41                        222.0             33.8   \n",
       "43                       1677.0             37.0   \n",
       "\n",
       "    Presence_of_Non-Relatives_2010   FIPS state  \n",
       "10                         30123.0  00562    06  \n",
       "15                         29217.0  00884    06  \n",
       "35                         98294.0  02000    06  \n",
       "41                         32252.0  02252    06  \n",
       "43                         23598.0  02364    06  "
      ]
     },
     "execution_count": 47,
     "metadata": {},
     "output_type": "execute_result"
    }
   ],
   "source": [
    "c_pop_2010_50000.head()"
   ]
  },
  {
   "cell_type": "code",
   "execution_count": 51,
   "metadata": {},
   "outputs": [],
   "source": [
    "city_2000 = c.sf1.state_place(('NAME', 'H001001', \n",
    "                               'P013001', 'P002002', 'P002005', \n",
    "                               'P013001', 'H003001', 'P027001', \n",
    "                               'H005001', 'H005002', 'H005003', \n",
    "                               'H005004', 'H005005', 'H005006', \n",
    "                               'H005007', 'P002001'), states.CA.fips, '*', year=2000)\n",
    "c_pop_2000 = pd.DataFrame.from_records(city_2000)\n",
    "c_pop_2000_50000 = c_pop_2000[c_pop_2000['P002001'].astype(int) >= 30000].rename(columns={\n",
    "        'NAME' : 'City_Name',\n",
    "        'place': 'FIPS',\n",
    "        'P002001': 'Total_Population_2000',\n",
    "        'P002002':'Total_Urban_Population_2000',\n",
    "        'P002005':'Total_Rural_Population_2000',\n",
    "        'H001001': 'Total_Housing_2000',\n",
    "        'P013001': 'Median_Age_2000',\n",
    "        'H003001': 'Occupancy_Status_For_Housing_Units_2000',\n",
    "        'P027001': 'Presence_of_Non-Relatives_2000',\n",
    "        'H005001': 'Vacancy_Status_2000',\n",
    "        'H005002': 'For_Rent_2000',\n",
    "        'H005003': 'Rented_Not_Occupied_2000',\n",
    "        'H005004': 'For_Sale_Only_2000',\n",
    "        'H005005': 'Sold_Not_Occupied_2000',\n",
    "        'H005006': 'For_Seasonal_Recreational_Or_Occasional_Use_2000',\n",
    "        'H005007': 'For_Migrant_Workers_2000'})"
   ]
  },
  {
   "cell_type": "code",
   "execution_count": 52,
   "metadata": {},
   "outputs": [],
   "source": [
    "c_pop_2000_50000.drop(columns=['City_Name', 'state'], inplace=True)"
   ]
  },
  {
   "cell_type": "code",
   "execution_count": 53,
   "metadata": {
    "scrolled": false
   },
   "outputs": [
    {
     "data": {
      "text/html": [
       "<div>\n",
       "<style scoped>\n",
       "    .dataframe tbody tr th:only-of-type {\n",
       "        vertical-align: middle;\n",
       "    }\n",
       "\n",
       "    .dataframe tbody tr th {\n",
       "        vertical-align: top;\n",
       "    }\n",
       "\n",
       "    .dataframe thead th {\n",
       "        text-align: right;\n",
       "    }\n",
       "</style>\n",
       "<table border=\"1\" class=\"dataframe\">\n",
       "  <thead>\n",
       "    <tr style=\"text-align: right;\">\n",
       "      <th></th>\n",
       "      <th>Total_Housing_2000</th>\n",
       "      <th>Occupancy_Status_For_Housing_Units_2000</th>\n",
       "      <th>Vacancy_Status_2000</th>\n",
       "      <th>For_Rent_2000</th>\n",
       "      <th>Rented_Not_Occupied_2000</th>\n",
       "      <th>For_Sale_Only_2000</th>\n",
       "      <th>Sold_Not_Occupied_2000</th>\n",
       "      <th>For_Seasonal_Recreational_Or_Occasional_Use_2000</th>\n",
       "      <th>For_Migrant_Workers_2000</th>\n",
       "      <th>Total_Population_2000</th>\n",
       "      <th>Total_Urban_Population_2000</th>\n",
       "      <th>Total_Rural_Population_2000</th>\n",
       "      <th>Median_Age_2000</th>\n",
       "      <th>Presence_of_Non-Relatives_2000</th>\n",
       "      <th>FIPS</th>\n",
       "    </tr>\n",
       "  </thead>\n",
       "  <tbody>\n",
       "    <tr>\n",
       "      <th>2</th>\n",
       "      <td>88262</td>\n",
       "      <td>88262</td>\n",
       "      <td>4821</td>\n",
       "      <td>2187</td>\n",
       "      <td>1018</td>\n",
       "      <td>309</td>\n",
       "      <td>268</td>\n",
       "      <td>3</td>\n",
       "      <td>1036</td>\n",
       "      <td>247057</td>\n",
       "      <td>0</td>\n",
       "      <td>0</td>\n",
       "      <td>30.1</td>\n",
       "      <td>247057</td>\n",
       "      <td>03526</td>\n",
       "    </tr>\n",
       "    <tr>\n",
       "      <th>9</th>\n",
       "      <td>8830</td>\n",
       "      <td>8830</td>\n",
       "      <td>421</td>\n",
       "      <td>204</td>\n",
       "      <td>57</td>\n",
       "      <td>30</td>\n",
       "      <td>27</td>\n",
       "      <td>17</td>\n",
       "      <td>86</td>\n",
       "      <td>38824</td>\n",
       "      <td>0</td>\n",
       "      <td>0</td>\n",
       "      <td>27.9</td>\n",
       "      <td>38824</td>\n",
       "      <td>18394</td>\n",
       "    </tr>\n",
       "    <tr>\n",
       "      <th>54</th>\n",
       "      <td>24386</td>\n",
       "      <td>24386</td>\n",
       "      <td>910</td>\n",
       "      <td>371</td>\n",
       "      <td>174</td>\n",
       "      <td>136</td>\n",
       "      <td>69</td>\n",
       "      <td>0</td>\n",
       "      <td>160</td>\n",
       "      <td>59954</td>\n",
       "      <td>0</td>\n",
       "      <td>0</td>\n",
       "      <td>25.9</td>\n",
       "      <td>59954</td>\n",
       "      <td>13014</td>\n",
       "    </tr>\n",
       "    <tr>\n",
       "      <th>73</th>\n",
       "      <td>25250</td>\n",
       "      <td>25250</td>\n",
       "      <td>903</td>\n",
       "      <td>397</td>\n",
       "      <td>229</td>\n",
       "      <td>54</td>\n",
       "      <td>42</td>\n",
       "      <td>0</td>\n",
       "      <td>181</td>\n",
       "      <td>68468</td>\n",
       "      <td>0</td>\n",
       "      <td>0</td>\n",
       "      <td>32.8</td>\n",
       "      <td>68468</td>\n",
       "      <td>14218</td>\n",
       "    </tr>\n",
       "    <tr>\n",
       "      <th>79</th>\n",
       "      <td>149025</td>\n",
       "      <td>149025</td>\n",
       "      <td>8946</td>\n",
       "      <td>4769</td>\n",
       "      <td>1385</td>\n",
       "      <td>532</td>\n",
       "      <td>363</td>\n",
       "      <td>6</td>\n",
       "      <td>1891</td>\n",
       "      <td>427652</td>\n",
       "      <td>0</td>\n",
       "      <td>0</td>\n",
       "      <td>28.5</td>\n",
       "      <td>427652</td>\n",
       "      <td>27000</td>\n",
       "    </tr>\n",
       "  </tbody>\n",
       "</table>\n",
       "</div>"
      ],
      "text/plain": [
       "   Total_Housing_2000 Occupancy_Status_For_Housing_Units_2000  \\\n",
       "2               88262                                   88262   \n",
       "9                8830                                    8830   \n",
       "54              24386                                   24386   \n",
       "73              25250                                   25250   \n",
       "79             149025                                  149025   \n",
       "\n",
       "   Vacancy_Status_2000 For_Rent_2000 Rented_Not_Occupied_2000  \\\n",
       "2                 4821          2187                     1018   \n",
       "9                  421           204                       57   \n",
       "54                 910           371                      174   \n",
       "73                 903           397                      229   \n",
       "79                8946          4769                     1385   \n",
       "\n",
       "   For_Sale_Only_2000 Sold_Not_Occupied_2000  \\\n",
       "2                 309                    268   \n",
       "9                  30                     27   \n",
       "54                136                     69   \n",
       "73                 54                     42   \n",
       "79                532                    363   \n",
       "\n",
       "   For_Seasonal_Recreational_Or_Occasional_Use_2000 For_Migrant_Workers_2000  \\\n",
       "2                                                 3                     1036   \n",
       "9                                                17                       86   \n",
       "54                                                0                      160   \n",
       "73                                                0                      181   \n",
       "79                                                6                     1891   \n",
       "\n",
       "   Total_Population_2000 Total_Urban_Population_2000  \\\n",
       "2                 247057                           0   \n",
       "9                  38824                           0   \n",
       "54                 59954                           0   \n",
       "73                 68468                           0   \n",
       "79                427652                           0   \n",
       "\n",
       "   Total_Rural_Population_2000 Median_Age_2000 Presence_of_Non-Relatives_2000  \\\n",
       "2                            0            30.1                         247057   \n",
       "9                            0            27.9                          38824   \n",
       "54                           0            25.9                          59954   \n",
       "73                           0            32.8                          68468   \n",
       "79                           0            28.5                         427652   \n",
       "\n",
       "     FIPS  \n",
       "2   03526  \n",
       "9   18394  \n",
       "54  13014  \n",
       "73  14218  \n",
       "79  27000  "
      ]
     },
     "execution_count": 53,
     "metadata": {},
     "output_type": "execute_result"
    }
   ],
   "source": [
    "c_pop_2000_50000.head()"
   ]
  },
  {
   "cell_type": "code",
   "execution_count": 54,
   "metadata": {},
   "outputs": [],
   "source": [
    "c_pop_2000_50000.set_index('FIPS', inplace=True)\n",
    "c_pop_2010_50000.set_index('FIPS', inplace=True)"
   ]
  },
  {
   "cell_type": "code",
   "execution_count": 55,
   "metadata": {},
   "outputs": [],
   "source": [
    "city_join = c_pop_2000_50000.join(c_pop_2010_50000, on='FIPS')"
   ]
  },
  {
   "cell_type": "code",
   "execution_count": 56,
   "metadata": {},
   "outputs": [
    {
     "data": {
      "text/html": [
       "<div>\n",
       "<style scoped>\n",
       "    .dataframe tbody tr th:only-of-type {\n",
       "        vertical-align: middle;\n",
       "    }\n",
       "\n",
       "    .dataframe tbody tr th {\n",
       "        vertical-align: top;\n",
       "    }\n",
       "\n",
       "    .dataframe thead th {\n",
       "        text-align: right;\n",
       "    }\n",
       "</style>\n",
       "<table border=\"1\" class=\"dataframe\">\n",
       "  <thead>\n",
       "    <tr style=\"text-align: right;\">\n",
       "      <th></th>\n",
       "      <th>Total_Housing_2000</th>\n",
       "      <th>Occupancy_Status_For_Housing_Units_2000</th>\n",
       "      <th>Vacancy_Status_2000</th>\n",
       "      <th>For_Rent_2000</th>\n",
       "      <th>Rented_Not_Occupied_2000</th>\n",
       "      <th>For_Sale_Only_2000</th>\n",
       "      <th>Sold_Not_Occupied_2000</th>\n",
       "      <th>For_Seasonal_Recreational_Or_Occasional_Use_2000</th>\n",
       "      <th>For_Migrant_Workers_2000</th>\n",
       "      <th>Total_Population_2000</th>\n",
       "      <th>...</th>\n",
       "      <th>Sold_Not_Occupied_2010</th>\n",
       "      <th>For_Seasonal_Recreational_Or_Occasional_Use_2010</th>\n",
       "      <th>For_Migrant_Workers_2010</th>\n",
       "      <th>City_Name</th>\n",
       "      <th>Total_Population_2010</th>\n",
       "      <th>Total_Urban_Population_2010</th>\n",
       "      <th>Total_Rural_Population_2010</th>\n",
       "      <th>Median_Age_2010</th>\n",
       "      <th>Presence_of_Non-Relatives_2010</th>\n",
       "      <th>state</th>\n",
       "    </tr>\n",
       "    <tr>\n",
       "      <th>FIPS</th>\n",
       "      <th></th>\n",
       "      <th></th>\n",
       "      <th></th>\n",
       "      <th></th>\n",
       "      <th></th>\n",
       "      <th></th>\n",
       "      <th></th>\n",
       "      <th></th>\n",
       "      <th></th>\n",
       "      <th></th>\n",
       "      <th></th>\n",
       "      <th></th>\n",
       "      <th></th>\n",
       "      <th></th>\n",
       "      <th></th>\n",
       "      <th></th>\n",
       "      <th></th>\n",
       "      <th></th>\n",
       "      <th></th>\n",
       "      <th></th>\n",
       "      <th></th>\n",
       "    </tr>\n",
       "  </thead>\n",
       "  <tbody>\n",
       "    <tr>\n",
       "      <th>03526</th>\n",
       "      <td>88262</td>\n",
       "      <td>88262</td>\n",
       "      <td>4821</td>\n",
       "      <td>2187</td>\n",
       "      <td>1018</td>\n",
       "      <td>309</td>\n",
       "      <td>268</td>\n",
       "      <td>3</td>\n",
       "      <td>1036</td>\n",
       "      <td>247057</td>\n",
       "      <td>...</td>\n",
       "      <td>387.0</td>\n",
       "      <td>427.0</td>\n",
       "      <td>7.0</td>\n",
       "      <td>Bakersfield city, California</td>\n",
       "      <td>347483.0</td>\n",
       "      <td>345531.0</td>\n",
       "      <td>1952.0</td>\n",
       "      <td>30.0</td>\n",
       "      <td>111132.0</td>\n",
       "      <td>06</td>\n",
       "    </tr>\n",
       "    <tr>\n",
       "      <th>18394</th>\n",
       "      <td>8830</td>\n",
       "      <td>8830</td>\n",
       "      <td>421</td>\n",
       "      <td>204</td>\n",
       "      <td>57</td>\n",
       "      <td>30</td>\n",
       "      <td>27</td>\n",
       "      <td>17</td>\n",
       "      <td>86</td>\n",
       "      <td>38824</td>\n",
       "      <td>...</td>\n",
       "      <td>20.0</td>\n",
       "      <td>40.0</td>\n",
       "      <td>0.0</td>\n",
       "      <td>Delano city, California</td>\n",
       "      <td>53041.0</td>\n",
       "      <td>53019.0</td>\n",
       "      <td>22.0</td>\n",
       "      <td>28.5</td>\n",
       "      <td>10260.0</td>\n",
       "      <td>06</td>\n",
       "    </tr>\n",
       "    <tr>\n",
       "      <th>13014</th>\n",
       "      <td>24386</td>\n",
       "      <td>24386</td>\n",
       "      <td>910</td>\n",
       "      <td>371</td>\n",
       "      <td>174</td>\n",
       "      <td>136</td>\n",
       "      <td>69</td>\n",
       "      <td>0</td>\n",
       "      <td>160</td>\n",
       "      <td>59954</td>\n",
       "      <td>...</td>\n",
       "      <td>79.0</td>\n",
       "      <td>147.0</td>\n",
       "      <td>0.0</td>\n",
       "      <td>Chico city, California</td>\n",
       "      <td>86187.0</td>\n",
       "      <td>85922.0</td>\n",
       "      <td>265.0</td>\n",
       "      <td>28.6</td>\n",
       "      <td>34805.0</td>\n",
       "      <td>06</td>\n",
       "    </tr>\n",
       "    <tr>\n",
       "      <th>14218</th>\n",
       "      <td>25250</td>\n",
       "      <td>25250</td>\n",
       "      <td>903</td>\n",
       "      <td>397</td>\n",
       "      <td>229</td>\n",
       "      <td>54</td>\n",
       "      <td>42</td>\n",
       "      <td>0</td>\n",
       "      <td>181</td>\n",
       "      <td>68468</td>\n",
       "      <td>...</td>\n",
       "      <td>95.0</td>\n",
       "      <td>80.0</td>\n",
       "      <td>0.0</td>\n",
       "      <td>Clovis city, California</td>\n",
       "      <td>95631.0</td>\n",
       "      <td>95629.0</td>\n",
       "      <td>2.0</td>\n",
       "      <td>34.1</td>\n",
       "      <td>33419.0</td>\n",
       "      <td>06</td>\n",
       "    </tr>\n",
       "    <tr>\n",
       "      <th>27000</th>\n",
       "      <td>149025</td>\n",
       "      <td>149025</td>\n",
       "      <td>8946</td>\n",
       "      <td>4769</td>\n",
       "      <td>1385</td>\n",
       "      <td>532</td>\n",
       "      <td>363</td>\n",
       "      <td>6</td>\n",
       "      <td>1891</td>\n",
       "      <td>427652</td>\n",
       "      <td>...</td>\n",
       "      <td>419.0</td>\n",
       "      <td>449.0</td>\n",
       "      <td>4.0</td>\n",
       "      <td>Fresno city, California</td>\n",
       "      <td>494665.0</td>\n",
       "      <td>494522.0</td>\n",
       "      <td>143.0</td>\n",
       "      <td>29.3</td>\n",
       "      <td>158349.0</td>\n",
       "      <td>06</td>\n",
       "    </tr>\n",
       "  </tbody>\n",
       "</table>\n",
       "<p>5 rows × 30 columns</p>\n",
       "</div>"
      ],
      "text/plain": [
       "      Total_Housing_2000 Occupancy_Status_For_Housing_Units_2000  \\\n",
       "FIPS                                                               \n",
       "03526              88262                                   88262   \n",
       "18394               8830                                    8830   \n",
       "13014              24386                                   24386   \n",
       "14218              25250                                   25250   \n",
       "27000             149025                                  149025   \n",
       "\n",
       "      Vacancy_Status_2000 For_Rent_2000 Rented_Not_Occupied_2000  \\\n",
       "FIPS                                                               \n",
       "03526                4821          2187                     1018   \n",
       "18394                 421           204                       57   \n",
       "13014                 910           371                      174   \n",
       "14218                 903           397                      229   \n",
       "27000                8946          4769                     1385   \n",
       "\n",
       "      For_Sale_Only_2000 Sold_Not_Occupied_2000  \\\n",
       "FIPS                                              \n",
       "03526                309                    268   \n",
       "18394                 30                     27   \n",
       "13014                136                     69   \n",
       "14218                 54                     42   \n",
       "27000                532                    363   \n",
       "\n",
       "      For_Seasonal_Recreational_Or_Occasional_Use_2000  \\\n",
       "FIPS                                                     \n",
       "03526                                                3   \n",
       "18394                                               17   \n",
       "13014                                                0   \n",
       "14218                                                0   \n",
       "27000                                                6   \n",
       "\n",
       "      For_Migrant_Workers_2000 Total_Population_2000  ...  \\\n",
       "FIPS                                                  ...   \n",
       "03526                     1036                247057  ...   \n",
       "18394                       86                 38824  ...   \n",
       "13014                      160                 59954  ...   \n",
       "14218                      181                 68468  ...   \n",
       "27000                     1891                427652  ...   \n",
       "\n",
       "      Sold_Not_Occupied_2010 For_Seasonal_Recreational_Or_Occasional_Use_2010  \\\n",
       "FIPS                                                                            \n",
       "03526                  387.0                                            427.0   \n",
       "18394                   20.0                                             40.0   \n",
       "13014                   79.0                                            147.0   \n",
       "14218                   95.0                                             80.0   \n",
       "27000                  419.0                                            449.0   \n",
       "\n",
       "      For_Migrant_Workers_2010                     City_Name  \\\n",
       "FIPS                                                           \n",
       "03526                      7.0  Bakersfield city, California   \n",
       "18394                      0.0       Delano city, California   \n",
       "13014                      0.0        Chico city, California   \n",
       "14218                      0.0       Clovis city, California   \n",
       "27000                      4.0       Fresno city, California   \n",
       "\n",
       "       Total_Population_2010  Total_Urban_Population_2010  \\\n",
       "FIPS                                                        \n",
       "03526               347483.0                     345531.0   \n",
       "18394                53041.0                      53019.0   \n",
       "13014                86187.0                      85922.0   \n",
       "14218                95631.0                      95629.0   \n",
       "27000               494665.0                     494522.0   \n",
       "\n",
       "       Total_Rural_Population_2010  Median_Age_2010  \\\n",
       "FIPS                                                  \n",
       "03526                       1952.0             30.0   \n",
       "18394                         22.0             28.5   \n",
       "13014                        265.0             28.6   \n",
       "14218                          2.0             34.1   \n",
       "27000                        143.0             29.3   \n",
       "\n",
       "       Presence_of_Non-Relatives_2010  state  \n",
       "FIPS                                          \n",
       "03526                        111132.0     06  \n",
       "18394                         10260.0     06  \n",
       "13014                         34805.0     06  \n",
       "14218                         33419.0     06  \n",
       "27000                        158349.0     06  \n",
       "\n",
       "[5 rows x 30 columns]"
      ]
     },
     "execution_count": 56,
     "metadata": {},
     "output_type": "execute_result"
    }
   ],
   "source": [
    "city_join.head()"
   ]
  },
  {
   "cell_type": "code",
   "execution_count": 58,
   "metadata": {},
   "outputs": [],
   "source": [
    "city_join['Total_Population_2000'] = city_join['Total_Population_2000'].astype('i8')"
   ]
  },
  {
   "cell_type": "code",
   "execution_count": 60,
   "metadata": {},
   "outputs": [],
   "source": [
    "city_join = city_join.nlargest(5, 'Total_Population_2000')"
   ]
  },
  {
   "cell_type": "code",
   "execution_count": 61,
   "metadata": {},
   "outputs": [],
   "source": [
    "import plotly.graph_objects as go"
   ]
  },
  {
   "cell_type": "code",
   "execution_count": 65,
   "metadata": {},
   "outputs": [
    {
     "data": {
      "application/vnd.plotly.v1+json": {
       "config": {
        "plotlyServerURL": "https://plot.ly"
       },
       "data": [
        {
         "name": "2000_pop",
         "type": "bar",
         "x": [
          "Los Angeles city, California",
          "San Diego city, California",
          "San Jose city, California",
          "San Francisco city, California",
          "Long Beach city, California"
         ],
         "y": [
          3694820,
          1223400,
          894943,
          776733,
          461522
         ]
        },
        {
         "name": "2000_housing",
         "type": "bar",
         "x": [
          "Los Angeles city, California",
          "San Diego city, California",
          "San Jose city, California",
          "San Francisco city, California",
          "Long Beach city, California"
         ],
         "y": [
          "1337706",
          "469689",
          "281841",
          "346527",
          "171632"
         ]
        },
        {
         "name": "2010_pop",
         "type": "bar",
         "x": [
          "Los Angeles city, California",
          "San Diego city, California",
          "San Jose city, California",
          "San Francisco city, California",
          "Long Beach city, California"
         ],
         "y": [
          3792621,
          1307402,
          945942,
          805235,
          462257
         ]
        },
        {
         "name": "2010_housing",
         "type": "bar",
         "x": [
          "Los Angeles city, California",
          "San Diego city, California",
          "San Jose city, California",
          "San Francisco city, California",
          "Long Beach city, California"
         ],
         "y": [
          1413995,
          516033,
          314038,
          376942,
          176032
         ]
        },
        {
         "name": "2000_urban_pop",
         "type": "bar",
         "x": [
          "Los Angeles city, California",
          "San Diego city, California",
          "San Jose city, California",
          "San Francisco city, California",
          "Long Beach city, California"
         ],
         "y": [
          "0",
          "0",
          "0",
          "0",
          "0"
         ]
        },
        {
         "name": "2010_urban_pop",
         "type": "bar",
         "x": [
          "Los Angeles city, California",
          "San Diego city, California",
          "San Jose city, California",
          "San Francisco city, California",
          "Long Beach city, California"
         ],
         "y": [
          3790144,
          1306002,
          945631,
          805235,
          462257
         ]
        },
        {
         "name": "2000_rural_pop",
         "type": "bar",
         "x": [
          "Los Angeles city, California",
          "San Diego city, California",
          "San Jose city, California",
          "San Francisco city, California",
          "Long Beach city, California"
         ],
         "y": [
          "0",
          "0",
          "0",
          "0",
          "0"
         ]
        },
        {
         "name": "2010_rural_pop",
         "type": "bar",
         "x": [
          "Los Angeles city, California",
          "San Diego city, California",
          "San Jose city, California",
          "San Francisco city, California",
          "Long Beach city, California"
         ],
         "y": [
          2477,
          1400,
          311,
          0,
          0
         ]
        },
        {
         "name": "2000_median_age",
         "type": "bar",
         "x": [
          "Los Angeles city, California",
          "San Diego city, California",
          "San Jose city, California",
          "San Francisco city, California",
          "Long Beach city, California"
         ],
         "y": [
          "31.6",
          "32.5",
          "32.6",
          "36.5",
          "30.8"
         ]
        },
        {
         "name": "2010_median_age",
         "type": "bar",
         "x": [
          "Los Angeles city, California",
          "San Diego city, California",
          "San Jose city, California",
          "San Francisco city, California",
          "Long Beach city, California"
         ],
         "y": [
          34.1,
          33.6,
          35.2,
          38.5,
          33.2
         ]
        },
        {
         "name": "2000_occupancy_status",
         "type": "bar",
         "x": [
          "Los Angeles city, California",
          "San Diego city, California",
          "San Jose city, California",
          "San Francisco city, California",
          "Long Beach city, California"
         ],
         "y": [
          "1337706",
          "469689",
          "281841",
          "346527",
          "171632"
         ]
        },
        {
         "name": "2010_occupancy_status",
         "type": "bar",
         "x": [
          "Los Angeles city, California",
          "San Diego city, California",
          "San Jose city, California",
          "San Francisco city, California",
          "Long Beach city, California"
         ],
         "y": [
          1413995,
          516033,
          314038,
          376942,
          176032
         ]
        },
        {
         "name": "2000_non-relatives",
         "type": "bar",
         "x": [
          "Los Angeles city, California",
          "San Diego city, California",
          "San Jose city, California",
          "San Francisco city, California",
          "Long Beach city, California"
         ],
         "y": [
          "3694820",
          "1223400",
          "894943",
          "776733",
          "461522"
         ]
        },
        {
         "name": "2010_non-relatives",
         "type": "bar",
         "x": [
          "Los Angeles city, California",
          "San Diego city, California",
          "San Jose city, California",
          "San Francisco city, California",
          "Long Beach city, California"
         ],
         "y": [
          1318168,
          483092,
          301366,
          345811,
          163531
         ]
        },
        {
         "name": "2000_vacancy_status",
         "type": "bar",
         "x": [
          "Los Angeles city, California",
          "San Diego city, California",
          "San Jose city, California",
          "San Francisco city, California",
          "Long Beach city, California"
         ],
         "y": [
          "62294",
          "18998",
          "5243",
          "16827",
          "8544"
         ]
        },
        {
         "name": "2010_vacancy_status",
         "type": "bar",
         "x": [
          "Los Angeles city, California",
          "San Diego city, California",
          "San Jose city, California",
          "San Francisco city, California",
          "Long Beach city, California"
         ],
         "y": [
          95827,
          32941,
          12672,
          31131,
          12501
         ]
        },
        {
         "name": "2000_for_rent",
         "type": "bar",
         "x": [
          "Los Angeles city, California",
          "San Diego city, California",
          "San Jose city, California",
          "San Francisco city, California",
          "Long Beach city, California"
         ],
         "y": [
          "28529",
          "7511",
          "1929",
          "5594",
          "4195"
         ]
        },
        {
         "name": "2010_for_rent",
         "type": "bar",
         "x": [
          "Los Angeles city, California",
          "San Diego city, California",
          "San Jose city, California",
          "San Francisco city, California",
          "Long Beach city, California"
         ],
         "y": [
          53309,
          13900,
          5572,
          12832,
          7413
         ]
        },
        {
         "name": "2000_rented_not_occupied",
         "type": "bar",
         "x": [
          "Los Angeles city, California",
          "San Diego city, California",
          "San Jose city, California",
          "San Francisco city, California",
          "Long Beach city, California"
         ],
         "y": [
          "9036",
          "1806",
          "714",
          "910",
          "1484"
         ]
        },
        {
         "name": "2010_rented_not_occupied",
         "type": "bar",
         "x": [
          "Los Angeles city, California",
          "San Diego city, California",
          "San Jose city, California",
          "San Francisco city, California",
          "Long Beach city, California"
         ],
         "y": [
          2367,
          952,
          319,
          779,
          252
         ]
        },
        {
         "name": "2000_for_sale",
         "type": "bar",
         "x": [
          "Los Angeles city, California",
          "San Diego city, California",
          "San Jose city, California",
          "San Francisco city, California",
          "Long Beach city, California"
         ],
         "y": [
          "5161",
          "1787",
          "578",
          "1419",
          "683"
         ]
        },
        {
         "name": "2010_for_sale",
         "type": "bar",
         "x": [
          "Los Angeles city, California",
          "San Diego city, California",
          "San Jose city, California",
          "San Francisco city, California",
          "Long Beach city, California"
         ],
         "y": [
          10930,
          4550,
          2891,
          2984,
          1362
         ]
        },
        {
         "name": "2000_sold_not_occupied",
         "type": "bar",
         "x": [
          "Los Angeles city, California",
          "San Diego city, California",
          "San Jose city, California",
          "San Francisco city, California",
          "Long Beach city, California"
         ],
         "y": [
          "4876",
          "5093",
          "818",
          "3762",
          "761"
         ]
        },
        {
         "name": "2010_sold_not_occupied",
         "type": "bar",
         "x": [
          "Los Angeles city, California",
          "San Diego city, California",
          "San Jose city, California",
          "San Francisco city, California",
          "Long Beach city, California"
         ],
         "y": [
          2671,
          873,
          603,
          759,
          277
         ]
        },
        {
         "name": "2000_seasonal_housing",
         "type": "bar",
         "x": [
          "Los Angeles city, California",
          "San Diego city, California",
          "San Jose city, California",
          "San Francisco city, California",
          "Long Beach city, California"
         ],
         "y": [
          "29",
          "7",
          "50",
          "79",
          "2"
         ]
        },
        {
         "name": "2010_seasonal_housing",
         "type": "bar",
         "x": [
          "Los Angeles city, California",
          "San Diego city, California",
          "San Jose city, California",
          "San Francisco city, California",
          "Long Beach city, California"
         ],
         "y": [
          7540,
          7737,
          845,
          5564,
          1114
         ]
        },
        {
         "name": "2000_migrant_housing",
         "type": "bar",
         "x": [
          "Los Angeles city, California",
          "San Diego city, California",
          "San Jose city, California",
          "San Francisco city, California",
          "Long Beach city, California"
         ],
         "y": [
          "14663",
          "2794",
          "1154",
          "5063",
          "1419"
         ]
        },
        {
         "name": "2010_migrant_housing",
         "type": "bar",
         "x": [
          "Los Angeles city, California",
          "San Diego city, California",
          "San Jose city, California",
          "San Francisco city, California",
          "Long Beach city, California"
         ],
         "y": [
          28,
          13,
          3,
          5,
          3
         ]
        }
       ],
       "layout": {
        "barmode": "group",
        "template": {
         "data": {
          "bar": [
           {
            "error_x": {
             "color": "#2a3f5f"
            },
            "error_y": {
             "color": "#2a3f5f"
            },
            "marker": {
             "line": {
              "color": "#E5ECF6",
              "width": 0.5
             }
            },
            "type": "bar"
           }
          ],
          "barpolar": [
           {
            "marker": {
             "line": {
              "color": "#E5ECF6",
              "width": 0.5
             }
            },
            "type": "barpolar"
           }
          ],
          "carpet": [
           {
            "aaxis": {
             "endlinecolor": "#2a3f5f",
             "gridcolor": "white",
             "linecolor": "white",
             "minorgridcolor": "white",
             "startlinecolor": "#2a3f5f"
            },
            "baxis": {
             "endlinecolor": "#2a3f5f",
             "gridcolor": "white",
             "linecolor": "white",
             "minorgridcolor": "white",
             "startlinecolor": "#2a3f5f"
            },
            "type": "carpet"
           }
          ],
          "choropleth": [
           {
            "colorbar": {
             "outlinewidth": 0,
             "ticks": ""
            },
            "type": "choropleth"
           }
          ],
          "contour": [
           {
            "colorbar": {
             "outlinewidth": 0,
             "ticks": ""
            },
            "colorscale": [
             [
              0,
              "#0d0887"
             ],
             [
              0.1111111111111111,
              "#46039f"
             ],
             [
              0.2222222222222222,
              "#7201a8"
             ],
             [
              0.3333333333333333,
              "#9c179e"
             ],
             [
              0.4444444444444444,
              "#bd3786"
             ],
             [
              0.5555555555555556,
              "#d8576b"
             ],
             [
              0.6666666666666666,
              "#ed7953"
             ],
             [
              0.7777777777777778,
              "#fb9f3a"
             ],
             [
              0.8888888888888888,
              "#fdca26"
             ],
             [
              1,
              "#f0f921"
             ]
            ],
            "type": "contour"
           }
          ],
          "contourcarpet": [
           {
            "colorbar": {
             "outlinewidth": 0,
             "ticks": ""
            },
            "type": "contourcarpet"
           }
          ],
          "heatmap": [
           {
            "colorbar": {
             "outlinewidth": 0,
             "ticks": ""
            },
            "colorscale": [
             [
              0,
              "#0d0887"
             ],
             [
              0.1111111111111111,
              "#46039f"
             ],
             [
              0.2222222222222222,
              "#7201a8"
             ],
             [
              0.3333333333333333,
              "#9c179e"
             ],
             [
              0.4444444444444444,
              "#bd3786"
             ],
             [
              0.5555555555555556,
              "#d8576b"
             ],
             [
              0.6666666666666666,
              "#ed7953"
             ],
             [
              0.7777777777777778,
              "#fb9f3a"
             ],
             [
              0.8888888888888888,
              "#fdca26"
             ],
             [
              1,
              "#f0f921"
             ]
            ],
            "type": "heatmap"
           }
          ],
          "heatmapgl": [
           {
            "colorbar": {
             "outlinewidth": 0,
             "ticks": ""
            },
            "colorscale": [
             [
              0,
              "#0d0887"
             ],
             [
              0.1111111111111111,
              "#46039f"
             ],
             [
              0.2222222222222222,
              "#7201a8"
             ],
             [
              0.3333333333333333,
              "#9c179e"
             ],
             [
              0.4444444444444444,
              "#bd3786"
             ],
             [
              0.5555555555555556,
              "#d8576b"
             ],
             [
              0.6666666666666666,
              "#ed7953"
             ],
             [
              0.7777777777777778,
              "#fb9f3a"
             ],
             [
              0.8888888888888888,
              "#fdca26"
             ],
             [
              1,
              "#f0f921"
             ]
            ],
            "type": "heatmapgl"
           }
          ],
          "histogram": [
           {
            "marker": {
             "colorbar": {
              "outlinewidth": 0,
              "ticks": ""
             }
            },
            "type": "histogram"
           }
          ],
          "histogram2d": [
           {
            "colorbar": {
             "outlinewidth": 0,
             "ticks": ""
            },
            "colorscale": [
             [
              0,
              "#0d0887"
             ],
             [
              0.1111111111111111,
              "#46039f"
             ],
             [
              0.2222222222222222,
              "#7201a8"
             ],
             [
              0.3333333333333333,
              "#9c179e"
             ],
             [
              0.4444444444444444,
              "#bd3786"
             ],
             [
              0.5555555555555556,
              "#d8576b"
             ],
             [
              0.6666666666666666,
              "#ed7953"
             ],
             [
              0.7777777777777778,
              "#fb9f3a"
             ],
             [
              0.8888888888888888,
              "#fdca26"
             ],
             [
              1,
              "#f0f921"
             ]
            ],
            "type": "histogram2d"
           }
          ],
          "histogram2dcontour": [
           {
            "colorbar": {
             "outlinewidth": 0,
             "ticks": ""
            },
            "colorscale": [
             [
              0,
              "#0d0887"
             ],
             [
              0.1111111111111111,
              "#46039f"
             ],
             [
              0.2222222222222222,
              "#7201a8"
             ],
             [
              0.3333333333333333,
              "#9c179e"
             ],
             [
              0.4444444444444444,
              "#bd3786"
             ],
             [
              0.5555555555555556,
              "#d8576b"
             ],
             [
              0.6666666666666666,
              "#ed7953"
             ],
             [
              0.7777777777777778,
              "#fb9f3a"
             ],
             [
              0.8888888888888888,
              "#fdca26"
             ],
             [
              1,
              "#f0f921"
             ]
            ],
            "type": "histogram2dcontour"
           }
          ],
          "mesh3d": [
           {
            "colorbar": {
             "outlinewidth": 0,
             "ticks": ""
            },
            "type": "mesh3d"
           }
          ],
          "parcoords": [
           {
            "line": {
             "colorbar": {
              "outlinewidth": 0,
              "ticks": ""
             }
            },
            "type": "parcoords"
           }
          ],
          "scatter": [
           {
            "marker": {
             "colorbar": {
              "outlinewidth": 0,
              "ticks": ""
             }
            },
            "type": "scatter"
           }
          ],
          "scatter3d": [
           {
            "line": {
             "colorbar": {
              "outlinewidth": 0,
              "ticks": ""
             }
            },
            "marker": {
             "colorbar": {
              "outlinewidth": 0,
              "ticks": ""
             }
            },
            "type": "scatter3d"
           }
          ],
          "scattercarpet": [
           {
            "marker": {
             "colorbar": {
              "outlinewidth": 0,
              "ticks": ""
             }
            },
            "type": "scattercarpet"
           }
          ],
          "scattergeo": [
           {
            "marker": {
             "colorbar": {
              "outlinewidth": 0,
              "ticks": ""
             }
            },
            "type": "scattergeo"
           }
          ],
          "scattergl": [
           {
            "marker": {
             "colorbar": {
              "outlinewidth": 0,
              "ticks": ""
             }
            },
            "type": "scattergl"
           }
          ],
          "scattermapbox": [
           {
            "marker": {
             "colorbar": {
              "outlinewidth": 0,
              "ticks": ""
             }
            },
            "type": "scattermapbox"
           }
          ],
          "scatterpolar": [
           {
            "marker": {
             "colorbar": {
              "outlinewidth": 0,
              "ticks": ""
             }
            },
            "type": "scatterpolar"
           }
          ],
          "scatterpolargl": [
           {
            "marker": {
             "colorbar": {
              "outlinewidth": 0,
              "ticks": ""
             }
            },
            "type": "scatterpolargl"
           }
          ],
          "scatterternary": [
           {
            "marker": {
             "colorbar": {
              "outlinewidth": 0,
              "ticks": ""
             }
            },
            "type": "scatterternary"
           }
          ],
          "surface": [
           {
            "colorbar": {
             "outlinewidth": 0,
             "ticks": ""
            },
            "colorscale": [
             [
              0,
              "#0d0887"
             ],
             [
              0.1111111111111111,
              "#46039f"
             ],
             [
              0.2222222222222222,
              "#7201a8"
             ],
             [
              0.3333333333333333,
              "#9c179e"
             ],
             [
              0.4444444444444444,
              "#bd3786"
             ],
             [
              0.5555555555555556,
              "#d8576b"
             ],
             [
              0.6666666666666666,
              "#ed7953"
             ],
             [
              0.7777777777777778,
              "#fb9f3a"
             ],
             [
              0.8888888888888888,
              "#fdca26"
             ],
             [
              1,
              "#f0f921"
             ]
            ],
            "type": "surface"
           }
          ],
          "table": [
           {
            "cells": {
             "fill": {
              "color": "#EBF0F8"
             },
             "line": {
              "color": "white"
             }
            },
            "header": {
             "fill": {
              "color": "#C8D4E3"
             },
             "line": {
              "color": "white"
             }
            },
            "type": "table"
           }
          ]
         },
         "layout": {
          "annotationdefaults": {
           "arrowcolor": "#2a3f5f",
           "arrowhead": 0,
           "arrowwidth": 1
          },
          "colorscale": {
           "diverging": [
            [
             0,
             "#8e0152"
            ],
            [
             0.1,
             "#c51b7d"
            ],
            [
             0.2,
             "#de77ae"
            ],
            [
             0.3,
             "#f1b6da"
            ],
            [
             0.4,
             "#fde0ef"
            ],
            [
             0.5,
             "#f7f7f7"
            ],
            [
             0.6,
             "#e6f5d0"
            ],
            [
             0.7,
             "#b8e186"
            ],
            [
             0.8,
             "#7fbc41"
            ],
            [
             0.9,
             "#4d9221"
            ],
            [
             1,
             "#276419"
            ]
           ],
           "sequential": [
            [
             0,
             "#0d0887"
            ],
            [
             0.1111111111111111,
             "#46039f"
            ],
            [
             0.2222222222222222,
             "#7201a8"
            ],
            [
             0.3333333333333333,
             "#9c179e"
            ],
            [
             0.4444444444444444,
             "#bd3786"
            ],
            [
             0.5555555555555556,
             "#d8576b"
            ],
            [
             0.6666666666666666,
             "#ed7953"
            ],
            [
             0.7777777777777778,
             "#fb9f3a"
            ],
            [
             0.8888888888888888,
             "#fdca26"
            ],
            [
             1,
             "#f0f921"
            ]
           ],
           "sequentialminus": [
            [
             0,
             "#0d0887"
            ],
            [
             0.1111111111111111,
             "#46039f"
            ],
            [
             0.2222222222222222,
             "#7201a8"
            ],
            [
             0.3333333333333333,
             "#9c179e"
            ],
            [
             0.4444444444444444,
             "#bd3786"
            ],
            [
             0.5555555555555556,
             "#d8576b"
            ],
            [
             0.6666666666666666,
             "#ed7953"
            ],
            [
             0.7777777777777778,
             "#fb9f3a"
            ],
            [
             0.8888888888888888,
             "#fdca26"
            ],
            [
             1,
             "#f0f921"
            ]
           ]
          },
          "colorway": [
           "#636efa",
           "#EF553B",
           "#00cc96",
           "#ab63fa",
           "#FFA15A",
           "#19d3f3",
           "#FF6692",
           "#B6E880",
           "#FF97FF",
           "#FECB52"
          ],
          "font": {
           "color": "#2a3f5f"
          },
          "geo": {
           "bgcolor": "white",
           "lakecolor": "white",
           "landcolor": "#E5ECF6",
           "showlakes": true,
           "showland": true,
           "subunitcolor": "white"
          },
          "hoverlabel": {
           "align": "left"
          },
          "hovermode": "closest",
          "mapbox": {
           "style": "light"
          },
          "paper_bgcolor": "white",
          "plot_bgcolor": "#E5ECF6",
          "polar": {
           "angularaxis": {
            "gridcolor": "white",
            "linecolor": "white",
            "ticks": ""
           },
           "bgcolor": "#E5ECF6",
           "radialaxis": {
            "gridcolor": "white",
            "linecolor": "white",
            "ticks": ""
           }
          },
          "scene": {
           "xaxis": {
            "backgroundcolor": "#E5ECF6",
            "gridcolor": "white",
            "gridwidth": 2,
            "linecolor": "white",
            "showbackground": true,
            "ticks": "",
            "zerolinecolor": "white"
           },
           "yaxis": {
            "backgroundcolor": "#E5ECF6",
            "gridcolor": "white",
            "gridwidth": 2,
            "linecolor": "white",
            "showbackground": true,
            "ticks": "",
            "zerolinecolor": "white"
           },
           "zaxis": {
            "backgroundcolor": "#E5ECF6",
            "gridcolor": "white",
            "gridwidth": 2,
            "linecolor": "white",
            "showbackground": true,
            "ticks": "",
            "zerolinecolor": "white"
           }
          },
          "shapedefaults": {
           "line": {
            "color": "#2a3f5f"
           }
          },
          "ternary": {
           "aaxis": {
            "gridcolor": "white",
            "linecolor": "white",
            "ticks": ""
           },
           "baxis": {
            "gridcolor": "white",
            "linecolor": "white",
            "ticks": ""
           },
           "bgcolor": "#E5ECF6",
           "caxis": {
            "gridcolor": "white",
            "linecolor": "white",
            "ticks": ""
           }
          },
          "title": {
           "x": 0.05
          },
          "xaxis": {
           "automargin": true,
           "gridcolor": "white",
           "linecolor": "white",
           "ticks": "",
           "zerolinecolor": "white",
           "zerolinewidth": 2
          },
          "yaxis": {
           "automargin": true,
           "gridcolor": "white",
           "linecolor": "white",
           "ticks": "",
           "zerolinecolor": "white",
           "zerolinewidth": 2
          }
         }
        }
       }
      },
      "text/html": [
       "<div>\n",
       "        \n",
       "        \n",
       "            <div id=\"371cb87e-87d9-4895-98f3-4c811d90c3c5\" class=\"plotly-graph-div\" style=\"height:525px; width:100%;\"></div>\n",
       "            <script type=\"text/javascript\">\n",
       "                require([\"plotly\"], function(Plotly) {\n",
       "                    window.PLOTLYENV=window.PLOTLYENV || {};\n",
       "                    \n",
       "                if (document.getElementById(\"371cb87e-87d9-4895-98f3-4c811d90c3c5\")) {\n",
       "                    Plotly.newPlot(\n",
       "                        '371cb87e-87d9-4895-98f3-4c811d90c3c5',\n",
       "                        [{\"name\": \"2000_pop\", \"type\": \"bar\", \"x\": [\"Los Angeles city, California\", \"San Diego city, California\", \"San Jose city, California\", \"San Francisco city, California\", \"Long Beach city, California\"], \"y\": [3694820, 1223400, 894943, 776733, 461522]}, {\"name\": \"2000_housing\", \"type\": \"bar\", \"x\": [\"Los Angeles city, California\", \"San Diego city, California\", \"San Jose city, California\", \"San Francisco city, California\", \"Long Beach city, California\"], \"y\": [\"1337706\", \"469689\", \"281841\", \"346527\", \"171632\"]}, {\"name\": \"2010_pop\", \"type\": \"bar\", \"x\": [\"Los Angeles city, California\", \"San Diego city, California\", \"San Jose city, California\", \"San Francisco city, California\", \"Long Beach city, California\"], \"y\": [3792621.0, 1307402.0, 945942.0, 805235.0, 462257.0]}, {\"name\": \"2010_housing\", \"type\": \"bar\", \"x\": [\"Los Angeles city, California\", \"San Diego city, California\", \"San Jose city, California\", \"San Francisco city, California\", \"Long Beach city, California\"], \"y\": [1413995.0, 516033.0, 314038.0, 376942.0, 176032.0]}, {\"name\": \"2000_urban_pop\", \"type\": \"bar\", \"x\": [\"Los Angeles city, California\", \"San Diego city, California\", \"San Jose city, California\", \"San Francisco city, California\", \"Long Beach city, California\"], \"y\": [\"0\", \"0\", \"0\", \"0\", \"0\"]}, {\"name\": \"2010_urban_pop\", \"type\": \"bar\", \"x\": [\"Los Angeles city, California\", \"San Diego city, California\", \"San Jose city, California\", \"San Francisco city, California\", \"Long Beach city, California\"], \"y\": [3790144.0, 1306002.0, 945631.0, 805235.0, 462257.0]}, {\"name\": \"2000_rural_pop\", \"type\": \"bar\", \"x\": [\"Los Angeles city, California\", \"San Diego city, California\", \"San Jose city, California\", \"San Francisco city, California\", \"Long Beach city, California\"], \"y\": [\"0\", \"0\", \"0\", \"0\", \"0\"]}, {\"name\": \"2010_rural_pop\", \"type\": \"bar\", \"x\": [\"Los Angeles city, California\", \"San Diego city, California\", \"San Jose city, California\", \"San Francisco city, California\", \"Long Beach city, California\"], \"y\": [2477.0, 1400.0, 311.0, 0.0, 0.0]}, {\"name\": \"2000_median_age\", \"type\": \"bar\", \"x\": [\"Los Angeles city, California\", \"San Diego city, California\", \"San Jose city, California\", \"San Francisco city, California\", \"Long Beach city, California\"], \"y\": [\"31.6\", \"32.5\", \"32.6\", \"36.5\", \"30.8\"]}, {\"name\": \"2010_median_age\", \"type\": \"bar\", \"x\": [\"Los Angeles city, California\", \"San Diego city, California\", \"San Jose city, California\", \"San Francisco city, California\", \"Long Beach city, California\"], \"y\": [34.1, 33.6, 35.2, 38.5, 33.2]}, {\"name\": \"2000_occupancy_status\", \"type\": \"bar\", \"x\": [\"Los Angeles city, California\", \"San Diego city, California\", \"San Jose city, California\", \"San Francisco city, California\", \"Long Beach city, California\"], \"y\": [\"1337706\", \"469689\", \"281841\", \"346527\", \"171632\"]}, {\"name\": \"2010_occupancy_status\", \"type\": \"bar\", \"x\": [\"Los Angeles city, California\", \"San Diego city, California\", \"San Jose city, California\", \"San Francisco city, California\", \"Long Beach city, California\"], \"y\": [1413995.0, 516033.0, 314038.0, 376942.0, 176032.0]}, {\"name\": \"2000_non-relatives\", \"type\": \"bar\", \"x\": [\"Los Angeles city, California\", \"San Diego city, California\", \"San Jose city, California\", \"San Francisco city, California\", \"Long Beach city, California\"], \"y\": [\"3694820\", \"1223400\", \"894943\", \"776733\", \"461522\"]}, {\"name\": \"2010_non-relatives\", \"type\": \"bar\", \"x\": [\"Los Angeles city, California\", \"San Diego city, California\", \"San Jose city, California\", \"San Francisco city, California\", \"Long Beach city, California\"], \"y\": [1318168.0, 483092.0, 301366.0, 345811.0, 163531.0]}, {\"name\": \"2000_vacancy_status\", \"type\": \"bar\", \"x\": [\"Los Angeles city, California\", \"San Diego city, California\", \"San Jose city, California\", \"San Francisco city, California\", \"Long Beach city, California\"], \"y\": [\"62294\", \"18998\", \"5243\", \"16827\", \"8544\"]}, {\"name\": \"2010_vacancy_status\", \"type\": \"bar\", \"x\": [\"Los Angeles city, California\", \"San Diego city, California\", \"San Jose city, California\", \"San Francisco city, California\", \"Long Beach city, California\"], \"y\": [95827.0, 32941.0, 12672.0, 31131.0, 12501.0]}, {\"name\": \"2000_for_rent\", \"type\": \"bar\", \"x\": [\"Los Angeles city, California\", \"San Diego city, California\", \"San Jose city, California\", \"San Francisco city, California\", \"Long Beach city, California\"], \"y\": [\"28529\", \"7511\", \"1929\", \"5594\", \"4195\"]}, {\"name\": \"2010_for_rent\", \"type\": \"bar\", \"x\": [\"Los Angeles city, California\", \"San Diego city, California\", \"San Jose city, California\", \"San Francisco city, California\", \"Long Beach city, California\"], \"y\": [53309.0, 13900.0, 5572.0, 12832.0, 7413.0]}, {\"name\": \"2000_rented_not_occupied\", \"type\": \"bar\", \"x\": [\"Los Angeles city, California\", \"San Diego city, California\", \"San Jose city, California\", \"San Francisco city, California\", \"Long Beach city, California\"], \"y\": [\"9036\", \"1806\", \"714\", \"910\", \"1484\"]}, {\"name\": \"2010_rented_not_occupied\", \"type\": \"bar\", \"x\": [\"Los Angeles city, California\", \"San Diego city, California\", \"San Jose city, California\", \"San Francisco city, California\", \"Long Beach city, California\"], \"y\": [2367.0, 952.0, 319.0, 779.0, 252.0]}, {\"name\": \"2000_for_sale\", \"type\": \"bar\", \"x\": [\"Los Angeles city, California\", \"San Diego city, California\", \"San Jose city, California\", \"San Francisco city, California\", \"Long Beach city, California\"], \"y\": [\"5161\", \"1787\", \"578\", \"1419\", \"683\"]}, {\"name\": \"2010_for_sale\", \"type\": \"bar\", \"x\": [\"Los Angeles city, California\", \"San Diego city, California\", \"San Jose city, California\", \"San Francisco city, California\", \"Long Beach city, California\"], \"y\": [10930.0, 4550.0, 2891.0, 2984.0, 1362.0]}, {\"name\": \"2000_sold_not_occupied\", \"type\": \"bar\", \"x\": [\"Los Angeles city, California\", \"San Diego city, California\", \"San Jose city, California\", \"San Francisco city, California\", \"Long Beach city, California\"], \"y\": [\"4876\", \"5093\", \"818\", \"3762\", \"761\"]}, {\"name\": \"2010_sold_not_occupied\", \"type\": \"bar\", \"x\": [\"Los Angeles city, California\", \"San Diego city, California\", \"San Jose city, California\", \"San Francisco city, California\", \"Long Beach city, California\"], \"y\": [2671.0, 873.0, 603.0, 759.0, 277.0]}, {\"name\": \"2000_seasonal_housing\", \"type\": \"bar\", \"x\": [\"Los Angeles city, California\", \"San Diego city, California\", \"San Jose city, California\", \"San Francisco city, California\", \"Long Beach city, California\"], \"y\": [\"29\", \"7\", \"50\", \"79\", \"2\"]}, {\"name\": \"2010_seasonal_housing\", \"type\": \"bar\", \"x\": [\"Los Angeles city, California\", \"San Diego city, California\", \"San Jose city, California\", \"San Francisco city, California\", \"Long Beach city, California\"], \"y\": [7540.0, 7737.0, 845.0, 5564.0, 1114.0]}, {\"name\": \"2000_migrant_housing\", \"type\": \"bar\", \"x\": [\"Los Angeles city, California\", \"San Diego city, California\", \"San Jose city, California\", \"San Francisco city, California\", \"Long Beach city, California\"], \"y\": [\"14663\", \"2794\", \"1154\", \"5063\", \"1419\"]}, {\"name\": \"2010_migrant_housing\", \"type\": \"bar\", \"x\": [\"Los Angeles city, California\", \"San Diego city, California\", \"San Jose city, California\", \"San Francisco city, California\", \"Long Beach city, California\"], \"y\": [28.0, 13.0, 3.0, 5.0, 3.0]}],\n",
       "                        {\"barmode\": \"group\", \"template\": {\"data\": {\"bar\": [{\"error_x\": {\"color\": \"#2a3f5f\"}, \"error_y\": {\"color\": \"#2a3f5f\"}, \"marker\": {\"line\": {\"color\": \"#E5ECF6\", \"width\": 0.5}}, \"type\": \"bar\"}], \"barpolar\": [{\"marker\": {\"line\": {\"color\": \"#E5ECF6\", \"width\": 0.5}}, \"type\": \"barpolar\"}], \"carpet\": [{\"aaxis\": {\"endlinecolor\": \"#2a3f5f\", \"gridcolor\": \"white\", \"linecolor\": \"white\", \"minorgridcolor\": \"white\", \"startlinecolor\": \"#2a3f5f\"}, \"baxis\": {\"endlinecolor\": \"#2a3f5f\", \"gridcolor\": \"white\", \"linecolor\": \"white\", \"minorgridcolor\": \"white\", \"startlinecolor\": \"#2a3f5f\"}, \"type\": \"carpet\"}], \"choropleth\": [{\"colorbar\": {\"outlinewidth\": 0, \"ticks\": \"\"}, \"type\": \"choropleth\"}], \"contour\": [{\"colorbar\": {\"outlinewidth\": 0, \"ticks\": \"\"}, \"colorscale\": [[0.0, \"#0d0887\"], [0.1111111111111111, \"#46039f\"], [0.2222222222222222, \"#7201a8\"], [0.3333333333333333, \"#9c179e\"], [0.4444444444444444, \"#bd3786\"], [0.5555555555555556, \"#d8576b\"], [0.6666666666666666, \"#ed7953\"], [0.7777777777777778, \"#fb9f3a\"], [0.8888888888888888, \"#fdca26\"], [1.0, \"#f0f921\"]], \"type\": \"contour\"}], \"contourcarpet\": [{\"colorbar\": {\"outlinewidth\": 0, \"ticks\": \"\"}, \"type\": \"contourcarpet\"}], \"heatmap\": [{\"colorbar\": {\"outlinewidth\": 0, \"ticks\": \"\"}, \"colorscale\": [[0.0, \"#0d0887\"], [0.1111111111111111, \"#46039f\"], [0.2222222222222222, \"#7201a8\"], [0.3333333333333333, \"#9c179e\"], [0.4444444444444444, \"#bd3786\"], [0.5555555555555556, \"#d8576b\"], [0.6666666666666666, \"#ed7953\"], [0.7777777777777778, \"#fb9f3a\"], [0.8888888888888888, \"#fdca26\"], [1.0, \"#f0f921\"]], \"type\": \"heatmap\"}], \"heatmapgl\": [{\"colorbar\": {\"outlinewidth\": 0, \"ticks\": \"\"}, \"colorscale\": [[0.0, \"#0d0887\"], [0.1111111111111111, \"#46039f\"], [0.2222222222222222, \"#7201a8\"], [0.3333333333333333, \"#9c179e\"], [0.4444444444444444, \"#bd3786\"], [0.5555555555555556, \"#d8576b\"], [0.6666666666666666, \"#ed7953\"], [0.7777777777777778, \"#fb9f3a\"], [0.8888888888888888, \"#fdca26\"], [1.0, \"#f0f921\"]], \"type\": \"heatmapgl\"}], \"histogram\": [{\"marker\": {\"colorbar\": {\"outlinewidth\": 0, \"ticks\": \"\"}}, \"type\": \"histogram\"}], \"histogram2d\": [{\"colorbar\": {\"outlinewidth\": 0, \"ticks\": \"\"}, \"colorscale\": [[0.0, \"#0d0887\"], [0.1111111111111111, \"#46039f\"], [0.2222222222222222, \"#7201a8\"], [0.3333333333333333, \"#9c179e\"], [0.4444444444444444, \"#bd3786\"], [0.5555555555555556, \"#d8576b\"], [0.6666666666666666, \"#ed7953\"], [0.7777777777777778, \"#fb9f3a\"], [0.8888888888888888, \"#fdca26\"], [1.0, \"#f0f921\"]], \"type\": \"histogram2d\"}], \"histogram2dcontour\": [{\"colorbar\": {\"outlinewidth\": 0, \"ticks\": \"\"}, \"colorscale\": [[0.0, \"#0d0887\"], [0.1111111111111111, \"#46039f\"], [0.2222222222222222, \"#7201a8\"], [0.3333333333333333, \"#9c179e\"], [0.4444444444444444, \"#bd3786\"], [0.5555555555555556, \"#d8576b\"], [0.6666666666666666, \"#ed7953\"], [0.7777777777777778, \"#fb9f3a\"], [0.8888888888888888, \"#fdca26\"], [1.0, \"#f0f921\"]], \"type\": \"histogram2dcontour\"}], \"mesh3d\": [{\"colorbar\": {\"outlinewidth\": 0, \"ticks\": \"\"}, \"type\": \"mesh3d\"}], \"parcoords\": [{\"line\": {\"colorbar\": {\"outlinewidth\": 0, \"ticks\": \"\"}}, \"type\": \"parcoords\"}], \"scatter\": [{\"marker\": {\"colorbar\": {\"outlinewidth\": 0, \"ticks\": \"\"}}, \"type\": \"scatter\"}], \"scatter3d\": [{\"line\": {\"colorbar\": {\"outlinewidth\": 0, \"ticks\": \"\"}}, \"marker\": {\"colorbar\": {\"outlinewidth\": 0, \"ticks\": \"\"}}, \"type\": \"scatter3d\"}], \"scattercarpet\": [{\"marker\": {\"colorbar\": {\"outlinewidth\": 0, \"ticks\": \"\"}}, \"type\": \"scattercarpet\"}], \"scattergeo\": [{\"marker\": {\"colorbar\": {\"outlinewidth\": 0, \"ticks\": \"\"}}, \"type\": \"scattergeo\"}], \"scattergl\": [{\"marker\": {\"colorbar\": {\"outlinewidth\": 0, \"ticks\": \"\"}}, \"type\": \"scattergl\"}], \"scattermapbox\": [{\"marker\": {\"colorbar\": {\"outlinewidth\": 0, \"ticks\": \"\"}}, \"type\": \"scattermapbox\"}], \"scatterpolar\": [{\"marker\": {\"colorbar\": {\"outlinewidth\": 0, \"ticks\": \"\"}}, \"type\": \"scatterpolar\"}], \"scatterpolargl\": [{\"marker\": {\"colorbar\": {\"outlinewidth\": 0, \"ticks\": \"\"}}, \"type\": \"scatterpolargl\"}], \"scatterternary\": [{\"marker\": {\"colorbar\": {\"outlinewidth\": 0, \"ticks\": \"\"}}, \"type\": \"scatterternary\"}], \"surface\": [{\"colorbar\": {\"outlinewidth\": 0, \"ticks\": \"\"}, \"colorscale\": [[0.0, \"#0d0887\"], [0.1111111111111111, \"#46039f\"], [0.2222222222222222, \"#7201a8\"], [0.3333333333333333, \"#9c179e\"], [0.4444444444444444, \"#bd3786\"], [0.5555555555555556, \"#d8576b\"], [0.6666666666666666, \"#ed7953\"], [0.7777777777777778, \"#fb9f3a\"], [0.8888888888888888, \"#fdca26\"], [1.0, \"#f0f921\"]], \"type\": \"surface\"}], \"table\": [{\"cells\": {\"fill\": {\"color\": \"#EBF0F8\"}, \"line\": {\"color\": \"white\"}}, \"header\": {\"fill\": {\"color\": \"#C8D4E3\"}, \"line\": {\"color\": \"white\"}}, \"type\": \"table\"}]}, \"layout\": {\"annotationdefaults\": {\"arrowcolor\": \"#2a3f5f\", \"arrowhead\": 0, \"arrowwidth\": 1}, \"colorscale\": {\"diverging\": [[0, \"#8e0152\"], [0.1, \"#c51b7d\"], [0.2, \"#de77ae\"], [0.3, \"#f1b6da\"], [0.4, \"#fde0ef\"], [0.5, \"#f7f7f7\"], [0.6, \"#e6f5d0\"], [0.7, \"#b8e186\"], [0.8, \"#7fbc41\"], [0.9, \"#4d9221\"], [1, \"#276419\"]], \"sequential\": [[0.0, \"#0d0887\"], [0.1111111111111111, \"#46039f\"], [0.2222222222222222, \"#7201a8\"], [0.3333333333333333, \"#9c179e\"], [0.4444444444444444, \"#bd3786\"], [0.5555555555555556, \"#d8576b\"], [0.6666666666666666, \"#ed7953\"], [0.7777777777777778, \"#fb9f3a\"], [0.8888888888888888, \"#fdca26\"], [1.0, \"#f0f921\"]], \"sequentialminus\": [[0.0, \"#0d0887\"], [0.1111111111111111, \"#46039f\"], [0.2222222222222222, \"#7201a8\"], [0.3333333333333333, \"#9c179e\"], [0.4444444444444444, \"#bd3786\"], [0.5555555555555556, \"#d8576b\"], [0.6666666666666666, \"#ed7953\"], [0.7777777777777778, \"#fb9f3a\"], [0.8888888888888888, \"#fdca26\"], [1.0, \"#f0f921\"]]}, \"colorway\": [\"#636efa\", \"#EF553B\", \"#00cc96\", \"#ab63fa\", \"#FFA15A\", \"#19d3f3\", \"#FF6692\", \"#B6E880\", \"#FF97FF\", \"#FECB52\"], \"font\": {\"color\": \"#2a3f5f\"}, \"geo\": {\"bgcolor\": \"white\", \"lakecolor\": \"white\", \"landcolor\": \"#E5ECF6\", \"showlakes\": true, \"showland\": true, \"subunitcolor\": \"white\"}, \"hoverlabel\": {\"align\": \"left\"}, \"hovermode\": \"closest\", \"mapbox\": {\"style\": \"light\"}, \"paper_bgcolor\": \"white\", \"plot_bgcolor\": \"#E5ECF6\", \"polar\": {\"angularaxis\": {\"gridcolor\": \"white\", \"linecolor\": \"white\", \"ticks\": \"\"}, \"bgcolor\": \"#E5ECF6\", \"radialaxis\": {\"gridcolor\": \"white\", \"linecolor\": \"white\", \"ticks\": \"\"}}, \"scene\": {\"xaxis\": {\"backgroundcolor\": \"#E5ECF6\", \"gridcolor\": \"white\", \"gridwidth\": 2, \"linecolor\": \"white\", \"showbackground\": true, \"ticks\": \"\", \"zerolinecolor\": \"white\"}, \"yaxis\": {\"backgroundcolor\": \"#E5ECF6\", \"gridcolor\": \"white\", \"gridwidth\": 2, \"linecolor\": \"white\", \"showbackground\": true, \"ticks\": \"\", \"zerolinecolor\": \"white\"}, \"zaxis\": {\"backgroundcolor\": \"#E5ECF6\", \"gridcolor\": \"white\", \"gridwidth\": 2, \"linecolor\": \"white\", \"showbackground\": true, \"ticks\": \"\", \"zerolinecolor\": \"white\"}}, \"shapedefaults\": {\"line\": {\"color\": \"#2a3f5f\"}}, \"ternary\": {\"aaxis\": {\"gridcolor\": \"white\", \"linecolor\": \"white\", \"ticks\": \"\"}, \"baxis\": {\"gridcolor\": \"white\", \"linecolor\": \"white\", \"ticks\": \"\"}, \"bgcolor\": \"#E5ECF6\", \"caxis\": {\"gridcolor\": \"white\", \"linecolor\": \"white\", \"ticks\": \"\"}}, \"title\": {\"x\": 0.05}, \"xaxis\": {\"automargin\": true, \"gridcolor\": \"white\", \"linecolor\": \"white\", \"ticks\": \"\", \"zerolinecolor\": \"white\", \"zerolinewidth\": 2}, \"yaxis\": {\"automargin\": true, \"gridcolor\": \"white\", \"linecolor\": \"white\", \"ticks\": \"\", \"zerolinecolor\": \"white\", \"zerolinewidth\": 2}}}},\n",
       "                        {\"responsive\": true}\n",
       "                    ).then(function(){\n",
       "                            \n",
       "var gd = document.getElementById('371cb87e-87d9-4895-98f3-4c811d90c3c5');\n",
       "var x = new MutationObserver(function (mutations, observer) {{\n",
       "        var display = window.getComputedStyle(gd).display;\n",
       "        if (!display || display === 'none') {{\n",
       "            console.log([gd, 'removed!']);\n",
       "            Plotly.purge(gd);\n",
       "            observer.disconnect();\n",
       "        }}\n",
       "}});\n",
       "\n",
       "// Listen for the removal of the full notebook cells\n",
       "var notebookContainer = gd.closest('#notebook-container');\n",
       "if (notebookContainer) {{\n",
       "    x.observe(notebookContainer, {childList: true});\n",
       "}}\n",
       "\n",
       "// Listen for the clearing of the current output cell\n",
       "var outputEl = gd.closest('.output');\n",
       "if (outputEl) {{\n",
       "    x.observe(outputEl, {childList: true});\n",
       "}}\n",
       "\n",
       "                        })\n",
       "                };\n",
       "                });\n",
       "            </script>\n",
       "        </div>"
      ]
     },
     "metadata": {},
     "output_type": "display_data"
    }
   ],
   "source": [
    "fig = go.Figure(data=[\n",
    "    go.Bar(name='2000_pop', x=city_join['City_Name'], y=city_join['Total_Population_2000']),\n",
    "    go.Bar(name='2000_housing', x=city_join['City_Name'], y=city_join['Total_Housing_2000']),\n",
    "    go.Bar(name='2010_pop', x=city_join['City_Name'], y=city_join['Total_Population_2010']),\n",
    "    go.Bar(name='2010_housing', x=city_join['City_Name'], y=city_join['Total_Housing_2010']),\n",
    "    go.Bar(name='2000_urban_pop', x=city_join['City_Name'], y=city_join['Total_Urban_Population_2000']),\n",
    "    go.Bar(name='2010_urban_pop', x=city_join['City_Name'], y=city_join['Total_Urban_Population_2010']),\n",
    "    go.Bar(name='2000_rural_pop', x=city_join['City_Name'], y=city_join['Total_Rural_Population_2000']),\n",
    "    go.Bar(name='2010_rural_pop', x=city_join['City_Name'], y=city_join['Total_Rural_Population_2010']),\n",
    "    go.Bar(name='2000_median_age', x=city_join['City_Name'], y=city_join['Median_Age_2000']),\n",
    "    go.Bar(name='2010_median_age', x=city_join['City_Name'], y=city_join['Median_Age_2010']),\n",
    "    go.Bar(name='2000_occupancy_status', x=city_join['City_Name'], y=city_join['Occupancy_Status_For_Housing_Units_2000']),\n",
    "    go.Bar(name='2010_occupancy_status', x=city_join['City_Name'], y=city_join['Occupancy_Status_For_Housing_Units_2010']),\n",
    "    go.Bar(name='2000_non-relatives', x=city_join['City_Name'], y=city_join['Presence_of_Non-Relatives_2000']),\n",
    "    go.Bar(name='2010_non-relatives', x=city_join['City_Name'], y=city_join['Presence_of_Non-Relatives_2010']),\n",
    "    go.Bar(name='2000_vacancy_status', x=city_join['City_Name'], y=city_join['Vacancy_Status_2000']),\n",
    "    go.Bar(name='2010_vacancy_status', x=city_join['City_Name'], y=city_join['Vacancy_Status_2010']),\n",
    "    go.Bar(name='2000_for_rent', x=city_join['City_Name'], y=city_join['For_Rent_2000']),\n",
    "    go.Bar(name='2010_for_rent', x=city_join['City_Name'], y=city_join['For_Rent_2010']),\n",
    "    go.Bar(name='2000_rented_not_occupied', x=city_join['City_Name'], y=city_join['Rented_Not_Occupied_2000']),\n",
    "    go.Bar(name='2010_rented_not_occupied', x=city_join['City_Name'], y=city_join['Rented_Not_Occupied_2010']),\n",
    "    go.Bar(name='2000_for_sale', x=city_join['City_Name'], y=city_join['For_Sale_Only_2000']),\n",
    "    go.Bar(name='2010_for_sale', x=city_join['City_Name'], y=city_join['For_Sale_Only_2010']),\n",
    "    go.Bar(name='2000_sold_not_occupied', x=city_join['City_Name'], y=city_join['Sold_Not_Occupied_2000']),\n",
    "    go.Bar(name='2010_sold_not_occupied', x=city_join['City_Name'], y=city_join['Sold_Not_Occupied_2010']),\n",
    "    go.Bar(name='2000_seasonal_housing', x=city_join['City_Name'], y=city_join['For_Seasonal_Recreational_Or_Occasional_Use_2000']),\n",
    "    go.Bar(name='2010_seasonal_housing', x=city_join['City_Name'], y=city_join['For_Seasonal_Recreational_Or_Occasional_Use_2010']),\n",
    "    go.Bar(name='2000_migrant_housing', x=city_join['City_Name'], y=city_join['For_Migrant_Workers_2000']),\n",
    "    go.Bar(name='2010_migrant_housing', x=city_join['City_Name'], y=city_join['For_Migrant_Workers_2010']),\n",
    "])\n",
    "fig.update_layout(barmode='group')\n",
    "fig.show()"
   ]
  },
  {
   "cell_type": "code",
   "execution_count": null,
   "metadata": {},
   "outputs": [],
   "source": [
    "        'H005002': 'For_Rent_2000',\n",
    "        'H005003': 'Rented_Not_Occupied_2000',\n",
    "        'H005004': 'For_Sale_Only_2000',\n",
    "        'H005005': 'Sold_Not_Occupied_2000',\n",
    "        'H005006': 'For_Seasonal_Recreational_Or_Occasional_Use_2000',\n",
    "        'H005007': 'For_Migrant_Workers_2000'"
   ]
  },
  {
   "cell_type": "code",
   "execution_count": null,
   "metadata": {},
   "outputs": [],
   "source": []
  },
  {
   "cell_type": "code",
   "execution_count": null,
   "metadata": {},
   "outputs": [],
   "source": []
  }
 ],
 "metadata": {
  "colab": {
   "collapsed_sections": [],
   "include_colab_link": true,
   "name": "FinalProject.ipynb",
   "provenance": []
  },
  "kernelspec": {
   "display_name": "Python 3",
   "language": "python",
   "name": "python3"
  },
  "language_info": {
   "codemirror_mode": {
    "name": "ipython",
    "version": 3
   },
   "file_extension": ".py",
   "mimetype": "text/x-python",
   "name": "python",
   "nbconvert_exporter": "python",
   "pygments_lexer": "ipython3",
   "version": "3.7.3"
  }
 },
 "nbformat": 4,
 "nbformat_minor": 1
}
