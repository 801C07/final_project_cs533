{
 "cells": [
  {
   "cell_type": "markdown",
   "metadata": {},
   "source": [
    "# California -- City Sustainability"
   ]
  },
  {
   "cell_type": "code",
   "execution_count": 47,
   "metadata": {},
   "outputs": [],
   "source": [
    "import pandas as pd\n",
    "import seaborn as sns\n",
    "import matplotlib as plt\n",
    "import os\n",
    "\n",
    "from census import Census\n",
    "from us import states\n",
    "\n",
    "import plotly.graph_objects as go"
   ]
  },
  {
   "cell_type": "code",
   "execution_count": 48,
   "metadata": {},
   "outputs": [],
   "source": [
    "c = Census('fb97753783c42ae57fe1a640e38fe04e921e5d1a')"
   ]
  },
  {
   "cell_type": "markdown",
   "metadata": {},
   "source": [
    "**Greenhouse Gas Data:**"
   ]
  },
  {
   "cell_type": "code",
   "execution_count": 49,
   "metadata": {},
   "outputs": [],
   "source": [
    "ghg = pd.DataFrame()\n",
    "\n",
    "for f in os.listdir('../data/2018_data_summary_spreadsheets'):\n",
    "    temp = pd.read_excel('../data/2018_data_summary_spreadsheets/'+f, sheet_name=0)\n",
    "    temp['Year'] = f.split('.')[0].split('_')[2]    \n",
    "    ghg = pd.concat([temp, ghg], sort=False)\n",
    "    \n",
    "fips_map = pd.read_excel('../data/fips-codes.xls', sheet_name=0)\n",
    "\n",
    "fips_map = fips_map[fips_map['Entity Description'] == 'city']\n",
    "\n",
    "def str_func(x):\n",
    "    return str(x).zfill(5)\n",
    "\n",
    "fips_map['FIPS'] = fips_map['FIPS Entity Code'].apply(str_func)\n",
    "fips_map['City'] = fips_map['GU Name']\n",
    "fips_map['State'] = fips_map['State Abbreviation']\n",
    "\n",
    "ghg_mapped = pd.merge(ghg, fips_map, on=['State', 'City'])\n",
    "total_emissions = ghg_mapped.groupby(['FIPS','Year'])['Total reported direct emissions'].agg('sum').to_frame()\n",
    "\n",
    "total_emissions.reset_index(inplace=True)\n",
    "\n",
    "pivot_em = total_emissions.pivot(index='FIPS', columns='Year', values='Total reported direct emissions')"
   ]
  },
  {
   "cell_type": "markdown",
   "metadata": {},
   "source": [
    "## Get's the 5 largest cities in California"
   ]
  },
  {
   "cell_type": "code",
   "execution_count": 50,
   "metadata": {},
   "outputs": [],
   "source": [
    "city_2010 = c.sf1.state_place(('NAME', 'H001001', \n",
    "                               'P013001', 'P002002', 'P002005', \n",
    "                               'P013001', 'H003001', 'P027001', \n",
    "                               'H005001', 'H005002', 'H005003', \n",
    "                               'H005004', 'H005005', 'H005006', \n",
    "                               'H005007', 'P002001'), \n",
    "                              states.CA.fips, '*', year=2010)\n",
    "c_pop_2010 = pd.DataFrame.from_records(city_2010)\n",
    "c_pop_2010_50000 = c_pop_2010.rename(columns={\n",
    "        'NAME' : 'City_Name',\n",
    "        'place': 'FIPS',\n",
    "        'P002001': 'Total_Population_2010',\n",
    "        'P002002':'Total_Urban_Population_2010',\n",
    "        'P002005':'Total_Rural_Population_2010',\n",
    "        'H001001': 'Total_Housing_2010',\n",
    "        'P013001': 'Median_Age_2010',\n",
    "        'H003001': 'Occupancy_Status_For_Housing_Units_2010',\n",
    "        'P027001': 'Presence_of_Non-Relatives_2010',\n",
    "        'H005001': 'Vacancy_Status_2010',\n",
    "        'H005002': 'For_Rent_2010',\n",
    "        'H005003': 'Rented_Not_Occupied_2010',\n",
    "        'H005004': 'For_Sale_Only_2010',\n",
    "        'H005005': 'Sold_Not_Occupied_2010',\n",
    "        'H005006': 'For_Seasonal_Recreational_Or_Occasional_Use_2010',\n",
    "        'H005007': 'For_Migrant_Workers_2010'})"
   ]
  },
  {
   "cell_type": "code",
   "execution_count": 51,
   "metadata": {},
   "outputs": [
    {
     "data": {
      "text/html": [
       "<div>\n",
       "<style scoped>\n",
       "    .dataframe tbody tr th:only-of-type {\n",
       "        vertical-align: middle;\n",
       "    }\n",
       "\n",
       "    .dataframe tbody tr th {\n",
       "        vertical-align: top;\n",
       "    }\n",
       "\n",
       "    .dataframe thead th {\n",
       "        text-align: right;\n",
       "    }\n",
       "</style>\n",
       "<table border=\"1\" class=\"dataframe\">\n",
       "  <thead>\n",
       "    <tr style=\"text-align: right;\">\n",
       "      <th></th>\n",
       "      <th>Total_Housing_2010</th>\n",
       "      <th>Occupancy_Status_For_Housing_Units_2010</th>\n",
       "      <th>Vacancy_Status_2010</th>\n",
       "      <th>For_Rent_2010</th>\n",
       "      <th>Rented_Not_Occupied_2010</th>\n",
       "      <th>For_Sale_Only_2010</th>\n",
       "      <th>Sold_Not_Occupied_2010</th>\n",
       "      <th>For_Seasonal_Recreational_Or_Occasional_Use_2010</th>\n",
       "      <th>For_Migrant_Workers_2010</th>\n",
       "      <th>City_Name</th>\n",
       "      <th>Total_Population_2010</th>\n",
       "      <th>Total_Urban_Population_2010</th>\n",
       "      <th>Total_Rural_Population_2010</th>\n",
       "      <th>Median_Age_2010</th>\n",
       "      <th>Presence_of_Non-Relatives_2010</th>\n",
       "      <th>FIPS</th>\n",
       "      <th>state</th>\n",
       "    </tr>\n",
       "  </thead>\n",
       "  <tbody>\n",
       "    <tr>\n",
       "      <th>0</th>\n",
       "      <td>4062.0</td>\n",
       "      <td>4062.0</td>\n",
       "      <td>1300.0</td>\n",
       "      <td>88.0</td>\n",
       "      <td>3.0</td>\n",
       "      <td>71.0</td>\n",
       "      <td>10.0</td>\n",
       "      <td>1058.0</td>\n",
       "      <td>0.0</td>\n",
       "      <td>Cambria CDP, California</td>\n",
       "      <td>6032.0</td>\n",
       "      <td>5865.0</td>\n",
       "      <td>167.0</td>\n",
       "      <td>57.1</td>\n",
       "      <td>2762.0</td>\n",
       "      <td>10074</td>\n",
       "      <td>06</td>\n",
       "    </tr>\n",
       "    <tr>\n",
       "      <th>1</th>\n",
       "      <td>480.0</td>\n",
       "      <td>480.0</td>\n",
       "      <td>89.0</td>\n",
       "      <td>9.0</td>\n",
       "      <td>0.0</td>\n",
       "      <td>14.0</td>\n",
       "      <td>2.0</td>\n",
       "      <td>58.0</td>\n",
       "      <td>0.0</td>\n",
       "      <td>Camanche North Shore CDP, California</td>\n",
       "      <td>979.0</td>\n",
       "      <td>0.0</td>\n",
       "      <td>979.0</td>\n",
       "      <td>44.1</td>\n",
       "      <td>391.0</td>\n",
       "      <td>10042</td>\n",
       "      <td>06</td>\n",
       "    </tr>\n",
       "    <tr>\n",
       "      <th>2</th>\n",
       "      <td>344.0</td>\n",
       "      <td>344.0</td>\n",
       "      <td>35.0</td>\n",
       "      <td>4.0</td>\n",
       "      <td>0.0</td>\n",
       "      <td>10.0</td>\n",
       "      <td>1.0</td>\n",
       "      <td>5.0</td>\n",
       "      <td>0.0</td>\n",
       "      <td>Camanche Village CDP, California</td>\n",
       "      <td>847.0</td>\n",
       "      <td>0.0</td>\n",
       "      <td>847.0</td>\n",
       "      <td>38.7</td>\n",
       "      <td>309.0</td>\n",
       "      <td>10044</td>\n",
       "      <td>06</td>\n",
       "    </tr>\n",
       "    <tr>\n",
       "      <th>3</th>\n",
       "      <td>25702.0</td>\n",
       "      <td>25702.0</td>\n",
       "      <td>1198.0</td>\n",
       "      <td>406.0</td>\n",
       "      <td>29.0</td>\n",
       "      <td>249.0</td>\n",
       "      <td>41.0</td>\n",
       "      <td>117.0</td>\n",
       "      <td>1.0</td>\n",
       "      <td>Camarillo city, California</td>\n",
       "      <td>65201.0</td>\n",
       "      <td>64818.0</td>\n",
       "      <td>383.0</td>\n",
       "      <td>40.8</td>\n",
       "      <td>24504.0</td>\n",
       "      <td>10046</td>\n",
       "      <td>06</td>\n",
       "    </tr>\n",
       "    <tr>\n",
       "      <th>4</th>\n",
       "      <td>1179.0</td>\n",
       "      <td>1179.0</td>\n",
       "      <td>38.0</td>\n",
       "      <td>10.0</td>\n",
       "      <td>1.0</td>\n",
       "      <td>7.0</td>\n",
       "      <td>3.0</td>\n",
       "      <td>2.0</td>\n",
       "      <td>0.0</td>\n",
       "      <td>Cambrian Park CDP, California</td>\n",
       "      <td>3282.0</td>\n",
       "      <td>3282.0</td>\n",
       "      <td>0.0</td>\n",
       "      <td>42.4</td>\n",
       "      <td>1141.0</td>\n",
       "      <td>10088</td>\n",
       "      <td>06</td>\n",
       "    </tr>\n",
       "  </tbody>\n",
       "</table>\n",
       "</div>"
      ],
      "text/plain": [
       "   Total_Housing_2010  Occupancy_Status_For_Housing_Units_2010  \\\n",
       "0              4062.0                                   4062.0   \n",
       "1               480.0                                    480.0   \n",
       "2               344.0                                    344.0   \n",
       "3             25702.0                                  25702.0   \n",
       "4              1179.0                                   1179.0   \n",
       "\n",
       "   Vacancy_Status_2010  For_Rent_2010  Rented_Not_Occupied_2010  \\\n",
       "0               1300.0           88.0                       3.0   \n",
       "1                 89.0            9.0                       0.0   \n",
       "2                 35.0            4.0                       0.0   \n",
       "3               1198.0          406.0                      29.0   \n",
       "4                 38.0           10.0                       1.0   \n",
       "\n",
       "   For_Sale_Only_2010  Sold_Not_Occupied_2010  \\\n",
       "0                71.0                    10.0   \n",
       "1                14.0                     2.0   \n",
       "2                10.0                     1.0   \n",
       "3               249.0                    41.0   \n",
       "4                 7.0                     3.0   \n",
       "\n",
       "   For_Seasonal_Recreational_Or_Occasional_Use_2010  For_Migrant_Workers_2010  \\\n",
       "0                                            1058.0                       0.0   \n",
       "1                                              58.0                       0.0   \n",
       "2                                               5.0                       0.0   \n",
       "3                                             117.0                       1.0   \n",
       "4                                               2.0                       0.0   \n",
       "\n",
       "                              City_Name  Total_Population_2010  \\\n",
       "0               Cambria CDP, California                 6032.0   \n",
       "1  Camanche North Shore CDP, California                  979.0   \n",
       "2      Camanche Village CDP, California                  847.0   \n",
       "3            Camarillo city, California                65201.0   \n",
       "4         Cambrian Park CDP, California                 3282.0   \n",
       "\n",
       "   Total_Urban_Population_2010  Total_Rural_Population_2010  Median_Age_2010  \\\n",
       "0                       5865.0                        167.0             57.1   \n",
       "1                          0.0                        979.0             44.1   \n",
       "2                          0.0                        847.0             38.7   \n",
       "3                      64818.0                        383.0             40.8   \n",
       "4                       3282.0                          0.0             42.4   \n",
       "\n",
       "   Presence_of_Non-Relatives_2010   FIPS state  \n",
       "0                          2762.0  10074    06  \n",
       "1                           391.0  10042    06  \n",
       "2                           309.0  10044    06  \n",
       "3                         24504.0  10046    06  \n",
       "4                          1141.0  10088    06  "
      ]
     },
     "execution_count": 51,
     "metadata": {},
     "output_type": "execute_result"
    }
   ],
   "source": [
    "c_pop_2010_50000.head()"
   ]
  },
  {
   "cell_type": "code",
   "execution_count": 52,
   "metadata": {},
   "outputs": [],
   "source": [
    "city_2000 = c.sf1.state_place(('NAME', 'H001001', \n",
    "                               'P013001', 'P002002', 'P002005', \n",
    "                               'P013001', 'H003001', 'P027001', \n",
    "                               'H005001', 'H005002', 'H005003', \n",
    "                               'H005004', 'H005005', 'H005006', \n",
    "                               'H005007', 'P002001'), states.CA.fips, '*', year=2000)\n",
    "c_pop_2000 = pd.DataFrame.from_records(city_2000)\n",
    "c_pop_2000_50000 = c_pop_2000.rename(columns={\n",
    "        'NAME' : 'City_Name',\n",
    "        'place': 'FIPS',\n",
    "        'P002001': 'Total_Population_2000',\n",
    "        'P002002':'Total_Urban_Population_2000',\n",
    "        'P002005':'Total_Rural_Population_2000',\n",
    "        'H001001': 'Total_Housing_2000',\n",
    "        'P013001': 'Median_Age_2000',\n",
    "        'H003001': 'Occupancy_Status_For_Housing_Units_2000',\n",
    "        'P027001': 'Presence_of_Non-Relatives_2000',\n",
    "        'H005001': 'Vacancy_Status_2000',\n",
    "        'H005002': 'For_Rent_2000',\n",
    "        'H005003': 'Rented_Not_Occupied_2000',\n",
    "        'H005004': 'For_Sale_Only_2000',\n",
    "        'H005005': 'Sold_Not_Occupied_2000',\n",
    "        'H005006': 'For_Seasonal_Recreational_Or_Occasional_Use_2000',\n",
    "        'H005007': 'For_Migrant_Workers_2000'})"
   ]
  },
  {
   "cell_type": "code",
   "execution_count": 53,
   "metadata": {},
   "outputs": [],
   "source": [
    "c_pop_2000_50000.drop(columns=['City_Name', 'state'], inplace=True)"
   ]
  },
  {
   "cell_type": "code",
   "execution_count": 54,
   "metadata": {},
   "outputs": [
    {
     "data": {
      "text/html": [
       "<div>\n",
       "<style scoped>\n",
       "    .dataframe tbody tr th:only-of-type {\n",
       "        vertical-align: middle;\n",
       "    }\n",
       "\n",
       "    .dataframe tbody tr th {\n",
       "        vertical-align: top;\n",
       "    }\n",
       "\n",
       "    .dataframe thead th {\n",
       "        text-align: right;\n",
       "    }\n",
       "</style>\n",
       "<table border=\"1\" class=\"dataframe\">\n",
       "  <thead>\n",
       "    <tr style=\"text-align: right;\">\n",
       "      <th></th>\n",
       "      <th>Total_Housing_2000</th>\n",
       "      <th>Occupancy_Status_For_Housing_Units_2000</th>\n",
       "      <th>Vacancy_Status_2000</th>\n",
       "      <th>For_Rent_2000</th>\n",
       "      <th>Rented_Not_Occupied_2000</th>\n",
       "      <th>For_Sale_Only_2000</th>\n",
       "      <th>Sold_Not_Occupied_2000</th>\n",
       "      <th>For_Seasonal_Recreational_Or_Occasional_Use_2000</th>\n",
       "      <th>For_Migrant_Workers_2000</th>\n",
       "      <th>Total_Population_2000</th>\n",
       "      <th>Total_Urban_Population_2000</th>\n",
       "      <th>Total_Rural_Population_2000</th>\n",
       "      <th>Median_Age_2000</th>\n",
       "      <th>Presence_of_Non-Relatives_2000</th>\n",
       "      <th>FIPS</th>\n",
       "    </tr>\n",
       "  </thead>\n",
       "  <tbody>\n",
       "    <tr>\n",
       "      <th>0</th>\n",
       "      <td>915</td>\n",
       "      <td>915</td>\n",
       "      <td>26</td>\n",
       "      <td>12</td>\n",
       "      <td>4</td>\n",
       "      <td>1</td>\n",
       "      <td>1</td>\n",
       "      <td>0</td>\n",
       "      <td>8</td>\n",
       "      <td>2797</td>\n",
       "      <td>0</td>\n",
       "      <td>0</td>\n",
       "      <td>37.3</td>\n",
       "      <td>2797</td>\n",
       "      <td>02812</td>\n",
       "    </tr>\n",
       "    <tr>\n",
       "      <th>1</th>\n",
       "      <td>3145</td>\n",
       "      <td>3145</td>\n",
       "      <td>135</td>\n",
       "      <td>61</td>\n",
       "      <td>29</td>\n",
       "      <td>3</td>\n",
       "      <td>11</td>\n",
       "      <td>0</td>\n",
       "      <td>31</td>\n",
       "      <td>12956</td>\n",
       "      <td>0</td>\n",
       "      <td>0</td>\n",
       "      <td>23.3</td>\n",
       "      <td>12956</td>\n",
       "      <td>02924</td>\n",
       "    </tr>\n",
       "    <tr>\n",
       "      <th>2</th>\n",
       "      <td>88262</td>\n",
       "      <td>88262</td>\n",
       "      <td>4821</td>\n",
       "      <td>2187</td>\n",
       "      <td>1018</td>\n",
       "      <td>309</td>\n",
       "      <td>268</td>\n",
       "      <td>3</td>\n",
       "      <td>1036</td>\n",
       "      <td>247057</td>\n",
       "      <td>0</td>\n",
       "      <td>0</td>\n",
       "      <td>30.1</td>\n",
       "      <td>247057</td>\n",
       "      <td>03526</td>\n",
       "    </tr>\n",
       "    <tr>\n",
       "      <th>3</th>\n",
       "      <td>2147</td>\n",
       "      <td>2147</td>\n",
       "      <td>561</td>\n",
       "      <td>15</td>\n",
       "      <td>69</td>\n",
       "      <td>18</td>\n",
       "      <td>417</td>\n",
       "      <td>0</td>\n",
       "      <td>42</td>\n",
       "      <td>4232</td>\n",
       "      <td>0</td>\n",
       "      <td>0</td>\n",
       "      <td>43.8</td>\n",
       "      <td>4232</td>\n",
       "      <td>04734</td>\n",
       "    </tr>\n",
       "    <tr>\n",
       "      <th>4</th>\n",
       "      <td>1188</td>\n",
       "      <td>1188</td>\n",
       "      <td>348</td>\n",
       "      <td>18</td>\n",
       "      <td>46</td>\n",
       "      <td>6</td>\n",
       "      <td>219</td>\n",
       "      <td>0</td>\n",
       "      <td>59</td>\n",
       "      <td>1823</td>\n",
       "      <td>0</td>\n",
       "      <td>0</td>\n",
       "      <td>49.8</td>\n",
       "      <td>1823</td>\n",
       "      <td>07274</td>\n",
       "    </tr>\n",
       "  </tbody>\n",
       "</table>\n",
       "</div>"
      ],
      "text/plain": [
       "  Total_Housing_2000 Occupancy_Status_For_Housing_Units_2000  \\\n",
       "0                915                                     915   \n",
       "1               3145                                    3145   \n",
       "2              88262                                   88262   \n",
       "3               2147                                    2147   \n",
       "4               1188                                    1188   \n",
       "\n",
       "  Vacancy_Status_2000 For_Rent_2000 Rented_Not_Occupied_2000  \\\n",
       "0                  26            12                        4   \n",
       "1                 135            61                       29   \n",
       "2                4821          2187                     1018   \n",
       "3                 561            15                       69   \n",
       "4                 348            18                       46   \n",
       "\n",
       "  For_Sale_Only_2000 Sold_Not_Occupied_2000  \\\n",
       "0                  1                      1   \n",
       "1                  3                     11   \n",
       "2                309                    268   \n",
       "3                 18                    417   \n",
       "4                  6                    219   \n",
       "\n",
       "  For_Seasonal_Recreational_Or_Occasional_Use_2000 For_Migrant_Workers_2000  \\\n",
       "0                                                0                        8   \n",
       "1                                                0                       31   \n",
       "2                                                3                     1036   \n",
       "3                                                0                       42   \n",
       "4                                                0                       59   \n",
       "\n",
       "  Total_Population_2000 Total_Urban_Population_2000  \\\n",
       "0                  2797                           0   \n",
       "1                 12956                           0   \n",
       "2                247057                           0   \n",
       "3                  4232                           0   \n",
       "4                  1823                           0   \n",
       "\n",
       "  Total_Rural_Population_2000 Median_Age_2000 Presence_of_Non-Relatives_2000  \\\n",
       "0                           0            37.3                           2797   \n",
       "1                           0            23.3                          12956   \n",
       "2                           0            30.1                         247057   \n",
       "3                           0            43.8                           4232   \n",
       "4                           0            49.8                           1823   \n",
       "\n",
       "    FIPS  \n",
       "0  02812  \n",
       "1  02924  \n",
       "2  03526  \n",
       "3  04734  \n",
       "4  07274  "
      ]
     },
     "execution_count": 54,
     "metadata": {},
     "output_type": "execute_result"
    }
   ],
   "source": [
    "c_pop_2000_50000.head()"
   ]
  },
  {
   "cell_type": "code",
   "execution_count": 55,
   "metadata": {},
   "outputs": [],
   "source": [
    "c_pop_2000_50000.set_index('FIPS', inplace=True)\n",
    "c_pop_2010_50000.set_index('FIPS', inplace=True)"
   ]
  },
  {
   "cell_type": "code",
   "execution_count": 56,
   "metadata": {},
   "outputs": [],
   "source": [
    "ca_join = c_pop_2000_50000.join(c_pop_2010_50000, on='FIPS')\n",
    "ca_join = ca_join.join(pivot_em, on='FIPS')"
   ]
  },
  {
   "cell_type": "code",
   "execution_count": 57,
   "metadata": {},
   "outputs": [
    {
     "data": {
      "text/html": [
       "<div>\n",
       "<style scoped>\n",
       "    .dataframe tbody tr th:only-of-type {\n",
       "        vertical-align: middle;\n",
       "    }\n",
       "\n",
       "    .dataframe tbody tr th {\n",
       "        vertical-align: top;\n",
       "    }\n",
       "\n",
       "    .dataframe thead th {\n",
       "        text-align: right;\n",
       "    }\n",
       "</style>\n",
       "<table border=\"1\" class=\"dataframe\">\n",
       "  <thead>\n",
       "    <tr style=\"text-align: right;\">\n",
       "      <th></th>\n",
       "      <th>Total_Housing_2000</th>\n",
       "      <th>Occupancy_Status_For_Housing_Units_2000</th>\n",
       "      <th>Vacancy_Status_2000</th>\n",
       "      <th>For_Rent_2000</th>\n",
       "      <th>Rented_Not_Occupied_2000</th>\n",
       "      <th>For_Sale_Only_2000</th>\n",
       "      <th>Sold_Not_Occupied_2000</th>\n",
       "      <th>For_Seasonal_Recreational_Or_Occasional_Use_2000</th>\n",
       "      <th>For_Migrant_Workers_2000</th>\n",
       "      <th>Total_Population_2000</th>\n",
       "      <th>...</th>\n",
       "      <th>state</th>\n",
       "      <th>2010</th>\n",
       "      <th>2011</th>\n",
       "      <th>2012</th>\n",
       "      <th>2013</th>\n",
       "      <th>2014</th>\n",
       "      <th>2015</th>\n",
       "      <th>2016</th>\n",
       "      <th>2017</th>\n",
       "      <th>2018</th>\n",
       "    </tr>\n",
       "    <tr>\n",
       "      <th>FIPS</th>\n",
       "      <th></th>\n",
       "      <th></th>\n",
       "      <th></th>\n",
       "      <th></th>\n",
       "      <th></th>\n",
       "      <th></th>\n",
       "      <th></th>\n",
       "      <th></th>\n",
       "      <th></th>\n",
       "      <th></th>\n",
       "      <th></th>\n",
       "      <th></th>\n",
       "      <th></th>\n",
       "      <th></th>\n",
       "      <th></th>\n",
       "      <th></th>\n",
       "      <th></th>\n",
       "      <th></th>\n",
       "      <th></th>\n",
       "      <th></th>\n",
       "      <th></th>\n",
       "    </tr>\n",
       "  </thead>\n",
       "  <tbody>\n",
       "    <tr>\n",
       "      <th>02812</th>\n",
       "      <td>915</td>\n",
       "      <td>915</td>\n",
       "      <td>26</td>\n",
       "      <td>12</td>\n",
       "      <td>4</td>\n",
       "      <td>1</td>\n",
       "      <td>1</td>\n",
       "      <td>0</td>\n",
       "      <td>8</td>\n",
       "      <td>2797</td>\n",
       "      <td>...</td>\n",
       "      <td>06</td>\n",
       "      <td>NaN</td>\n",
       "      <td>NaN</td>\n",
       "      <td>NaN</td>\n",
       "      <td>NaN</td>\n",
       "      <td>NaN</td>\n",
       "      <td>NaN</td>\n",
       "      <td>NaN</td>\n",
       "      <td>NaN</td>\n",
       "      <td>NaN</td>\n",
       "    </tr>\n",
       "    <tr>\n",
       "      <th>02924</th>\n",
       "      <td>3145</td>\n",
       "      <td>3145</td>\n",
       "      <td>135</td>\n",
       "      <td>61</td>\n",
       "      <td>29</td>\n",
       "      <td>3</td>\n",
       "      <td>11</td>\n",
       "      <td>0</td>\n",
       "      <td>31</td>\n",
       "      <td>12956</td>\n",
       "      <td>...</td>\n",
       "      <td>06</td>\n",
       "      <td>NaN</td>\n",
       "      <td>NaN</td>\n",
       "      <td>NaN</td>\n",
       "      <td>NaN</td>\n",
       "      <td>NaN</td>\n",
       "      <td>NaN</td>\n",
       "      <td>NaN</td>\n",
       "      <td>NaN</td>\n",
       "      <td>NaN</td>\n",
       "    </tr>\n",
       "    <tr>\n",
       "      <th>03526</th>\n",
       "      <td>88262</td>\n",
       "      <td>88262</td>\n",
       "      <td>4821</td>\n",
       "      <td>2187</td>\n",
       "      <td>1018</td>\n",
       "      <td>309</td>\n",
       "      <td>268</td>\n",
       "      <td>3</td>\n",
       "      <td>1036</td>\n",
       "      <td>247057</td>\n",
       "      <td>...</td>\n",
       "      <td>06</td>\n",
       "      <td>980629.082</td>\n",
       "      <td>906498.922</td>\n",
       "      <td>1155619.396</td>\n",
       "      <td>1207249.466</td>\n",
       "      <td>1848460.71</td>\n",
       "      <td>2086014.066</td>\n",
       "      <td>94153.496</td>\n",
       "      <td>69323.64</td>\n",
       "      <td>18864.88</td>\n",
       "    </tr>\n",
       "    <tr>\n",
       "      <th>04734</th>\n",
       "      <td>2147</td>\n",
       "      <td>2147</td>\n",
       "      <td>561</td>\n",
       "      <td>15</td>\n",
       "      <td>69</td>\n",
       "      <td>18</td>\n",
       "      <td>417</td>\n",
       "      <td>0</td>\n",
       "      <td>42</td>\n",
       "      <td>4232</td>\n",
       "      <td>...</td>\n",
       "      <td>06</td>\n",
       "      <td>NaN</td>\n",
       "      <td>NaN</td>\n",
       "      <td>NaN</td>\n",
       "      <td>NaN</td>\n",
       "      <td>NaN</td>\n",
       "      <td>NaN</td>\n",
       "      <td>NaN</td>\n",
       "      <td>NaN</td>\n",
       "      <td>NaN</td>\n",
       "    </tr>\n",
       "    <tr>\n",
       "      <th>07274</th>\n",
       "      <td>1188</td>\n",
       "      <td>1188</td>\n",
       "      <td>348</td>\n",
       "      <td>18</td>\n",
       "      <td>46</td>\n",
       "      <td>6</td>\n",
       "      <td>219</td>\n",
       "      <td>0</td>\n",
       "      <td>59</td>\n",
       "      <td>1823</td>\n",
       "      <td>...</td>\n",
       "      <td>06</td>\n",
       "      <td>NaN</td>\n",
       "      <td>NaN</td>\n",
       "      <td>NaN</td>\n",
       "      <td>NaN</td>\n",
       "      <td>NaN</td>\n",
       "      <td>NaN</td>\n",
       "      <td>NaN</td>\n",
       "      <td>NaN</td>\n",
       "      <td>NaN</td>\n",
       "    </tr>\n",
       "  </tbody>\n",
       "</table>\n",
       "<p>5 rows × 39 columns</p>\n",
       "</div>"
      ],
      "text/plain": [
       "      Total_Housing_2000 Occupancy_Status_For_Housing_Units_2000  \\\n",
       "FIPS                                                               \n",
       "02812                915                                     915   \n",
       "02924               3145                                    3145   \n",
       "03526              88262                                   88262   \n",
       "04734               2147                                    2147   \n",
       "07274               1188                                    1188   \n",
       "\n",
       "      Vacancy_Status_2000 For_Rent_2000 Rented_Not_Occupied_2000  \\\n",
       "FIPS                                                               \n",
       "02812                  26            12                        4   \n",
       "02924                 135            61                       29   \n",
       "03526                4821          2187                     1018   \n",
       "04734                 561            15                       69   \n",
       "07274                 348            18                       46   \n",
       "\n",
       "      For_Sale_Only_2000 Sold_Not_Occupied_2000  \\\n",
       "FIPS                                              \n",
       "02812                  1                      1   \n",
       "02924                  3                     11   \n",
       "03526                309                    268   \n",
       "04734                 18                    417   \n",
       "07274                  6                    219   \n",
       "\n",
       "      For_Seasonal_Recreational_Or_Occasional_Use_2000  \\\n",
       "FIPS                                                     \n",
       "02812                                                0   \n",
       "02924                                                0   \n",
       "03526                                                3   \n",
       "04734                                                0   \n",
       "07274                                                0   \n",
       "\n",
       "      For_Migrant_Workers_2000 Total_Population_2000  ... state        2010  \\\n",
       "FIPS                                                  ...                     \n",
       "02812                        8                  2797  ...    06         NaN   \n",
       "02924                       31                 12956  ...    06         NaN   \n",
       "03526                     1036                247057  ...    06  980629.082   \n",
       "04734                       42                  4232  ...    06         NaN   \n",
       "07274                       59                  1823  ...    06         NaN   \n",
       "\n",
       "             2011         2012         2013        2014         2015  \\\n",
       "FIPS                                                                   \n",
       "02812         NaN          NaN          NaN         NaN          NaN   \n",
       "02924         NaN          NaN          NaN         NaN          NaN   \n",
       "03526  906498.922  1155619.396  1207249.466  1848460.71  2086014.066   \n",
       "04734         NaN          NaN          NaN         NaN          NaN   \n",
       "07274         NaN          NaN          NaN         NaN          NaN   \n",
       "\n",
       "            2016      2017      2018  \n",
       "FIPS                                  \n",
       "02812        NaN       NaN       NaN  \n",
       "02924        NaN       NaN       NaN  \n",
       "03526  94153.496  69323.64  18864.88  \n",
       "04734        NaN       NaN       NaN  \n",
       "07274        NaN       NaN       NaN  \n",
       "\n",
       "[5 rows x 39 columns]"
      ]
     },
     "execution_count": 57,
     "metadata": {},
     "output_type": "execute_result"
    }
   ],
   "source": [
    "ca_join.head()"
   ]
  },
  {
   "cell_type": "code",
   "execution_count": 58,
   "metadata": {},
   "outputs": [],
   "source": [
    "ca_join['Total_Population_2000'] = ca_join['Total_Population_2000'].astype('i8')"
   ]
  },
  {
   "cell_type": "code",
   "execution_count": 59,
   "metadata": {},
   "outputs": [],
   "source": [
    "ca_join = ca_join.nlargest(5, 'Total_Population_2000')"
   ]
  },
  {
   "cell_type": "code",
   "execution_count": 60,
   "metadata": {},
   "outputs": [
    {
     "data": {
      "application/vnd.plotly.v1+json": {
       "config": {
        "plotlyServerURL": "https://plot.ly"
       },
       "data": [
        {
         "name": "2000_pop",
         "type": "bar",
         "x": [
          "Los Angeles city, California",
          "San Diego city, California",
          "San Jose city, California",
          "San Francisco city, California",
          "Long Beach city, California"
         ],
         "y": [
          3694820,
          1223400,
          894943,
          776733,
          461522
         ]
        },
        {
         "name": "2010_pop",
         "type": "bar",
         "x": [
          "Los Angeles city, California",
          "San Diego city, California",
          "San Jose city, California",
          "San Francisco city, California",
          "Long Beach city, California"
         ],
         "y": [
          3792621,
          1307402,
          945942,
          805235,
          462257
         ]
        },
        {
         "name": "2000_housing",
         "type": "bar",
         "x": [
          "Los Angeles city, California",
          "San Diego city, California",
          "San Jose city, California",
          "San Francisco city, California",
          "Long Beach city, California"
         ],
         "y": [
          "1337706",
          "469689",
          "281841",
          "346527",
          "171632"
         ]
        },
        {
         "name": "2010_housing",
         "type": "bar",
         "x": [
          "Los Angeles city, California",
          "San Diego city, California",
          "San Jose city, California",
          "San Francisco city, California",
          "Long Beach city, California"
         ],
         "y": [
          1413995,
          516033,
          314038,
          376942,
          176032
         ]
        },
        {
         "name": "2000_non-relatives",
         "type": "bar",
         "x": [
          "Los Angeles city, California",
          "San Diego city, California",
          "San Jose city, California",
          "San Francisco city, California",
          "Long Beach city, California"
         ],
         "y": [
          "3694820",
          "1223400",
          "894943",
          "776733",
          "461522"
         ]
        },
        {
         "name": "2010_non-relatives",
         "type": "bar",
         "x": [
          "Los Angeles city, California",
          "San Diego city, California",
          "San Jose city, California",
          "San Francisco city, California",
          "Long Beach city, California"
         ],
         "y": [
          1318168,
          483092,
          301366,
          345811,
          163531
         ]
        }
       ],
       "layout": {
        "barmode": "group",
        "template": {
         "data": {
          "bar": [
           {
            "error_x": {
             "color": "#2a3f5f"
            },
            "error_y": {
             "color": "#2a3f5f"
            },
            "marker": {
             "line": {
              "color": "#E5ECF6",
              "width": 0.5
             }
            },
            "type": "bar"
           }
          ],
          "barpolar": [
           {
            "marker": {
             "line": {
              "color": "#E5ECF6",
              "width": 0.5
             }
            },
            "type": "barpolar"
           }
          ],
          "carpet": [
           {
            "aaxis": {
             "endlinecolor": "#2a3f5f",
             "gridcolor": "white",
             "linecolor": "white",
             "minorgridcolor": "white",
             "startlinecolor": "#2a3f5f"
            },
            "baxis": {
             "endlinecolor": "#2a3f5f",
             "gridcolor": "white",
             "linecolor": "white",
             "minorgridcolor": "white",
             "startlinecolor": "#2a3f5f"
            },
            "type": "carpet"
           }
          ],
          "choropleth": [
           {
            "colorbar": {
             "outlinewidth": 0,
             "ticks": ""
            },
            "type": "choropleth"
           }
          ],
          "contour": [
           {
            "colorbar": {
             "outlinewidth": 0,
             "ticks": ""
            },
            "colorscale": [
             [
              0,
              "#0d0887"
             ],
             [
              0.1111111111111111,
              "#46039f"
             ],
             [
              0.2222222222222222,
              "#7201a8"
             ],
             [
              0.3333333333333333,
              "#9c179e"
             ],
             [
              0.4444444444444444,
              "#bd3786"
             ],
             [
              0.5555555555555556,
              "#d8576b"
             ],
             [
              0.6666666666666666,
              "#ed7953"
             ],
             [
              0.7777777777777778,
              "#fb9f3a"
             ],
             [
              0.8888888888888888,
              "#fdca26"
             ],
             [
              1,
              "#f0f921"
             ]
            ],
            "type": "contour"
           }
          ],
          "contourcarpet": [
           {
            "colorbar": {
             "outlinewidth": 0,
             "ticks": ""
            },
            "type": "contourcarpet"
           }
          ],
          "heatmap": [
           {
            "colorbar": {
             "outlinewidth": 0,
             "ticks": ""
            },
            "colorscale": [
             [
              0,
              "#0d0887"
             ],
             [
              0.1111111111111111,
              "#46039f"
             ],
             [
              0.2222222222222222,
              "#7201a8"
             ],
             [
              0.3333333333333333,
              "#9c179e"
             ],
             [
              0.4444444444444444,
              "#bd3786"
             ],
             [
              0.5555555555555556,
              "#d8576b"
             ],
             [
              0.6666666666666666,
              "#ed7953"
             ],
             [
              0.7777777777777778,
              "#fb9f3a"
             ],
             [
              0.8888888888888888,
              "#fdca26"
             ],
             [
              1,
              "#f0f921"
             ]
            ],
            "type": "heatmap"
           }
          ],
          "heatmapgl": [
           {
            "colorbar": {
             "outlinewidth": 0,
             "ticks": ""
            },
            "colorscale": [
             [
              0,
              "#0d0887"
             ],
             [
              0.1111111111111111,
              "#46039f"
             ],
             [
              0.2222222222222222,
              "#7201a8"
             ],
             [
              0.3333333333333333,
              "#9c179e"
             ],
             [
              0.4444444444444444,
              "#bd3786"
             ],
             [
              0.5555555555555556,
              "#d8576b"
             ],
             [
              0.6666666666666666,
              "#ed7953"
             ],
             [
              0.7777777777777778,
              "#fb9f3a"
             ],
             [
              0.8888888888888888,
              "#fdca26"
             ],
             [
              1,
              "#f0f921"
             ]
            ],
            "type": "heatmapgl"
           }
          ],
          "histogram": [
           {
            "marker": {
             "colorbar": {
              "outlinewidth": 0,
              "ticks": ""
             }
            },
            "type": "histogram"
           }
          ],
          "histogram2d": [
           {
            "colorbar": {
             "outlinewidth": 0,
             "ticks": ""
            },
            "colorscale": [
             [
              0,
              "#0d0887"
             ],
             [
              0.1111111111111111,
              "#46039f"
             ],
             [
              0.2222222222222222,
              "#7201a8"
             ],
             [
              0.3333333333333333,
              "#9c179e"
             ],
             [
              0.4444444444444444,
              "#bd3786"
             ],
             [
              0.5555555555555556,
              "#d8576b"
             ],
             [
              0.6666666666666666,
              "#ed7953"
             ],
             [
              0.7777777777777778,
              "#fb9f3a"
             ],
             [
              0.8888888888888888,
              "#fdca26"
             ],
             [
              1,
              "#f0f921"
             ]
            ],
            "type": "histogram2d"
           }
          ],
          "histogram2dcontour": [
           {
            "colorbar": {
             "outlinewidth": 0,
             "ticks": ""
            },
            "colorscale": [
             [
              0,
              "#0d0887"
             ],
             [
              0.1111111111111111,
              "#46039f"
             ],
             [
              0.2222222222222222,
              "#7201a8"
             ],
             [
              0.3333333333333333,
              "#9c179e"
             ],
             [
              0.4444444444444444,
              "#bd3786"
             ],
             [
              0.5555555555555556,
              "#d8576b"
             ],
             [
              0.6666666666666666,
              "#ed7953"
             ],
             [
              0.7777777777777778,
              "#fb9f3a"
             ],
             [
              0.8888888888888888,
              "#fdca26"
             ],
             [
              1,
              "#f0f921"
             ]
            ],
            "type": "histogram2dcontour"
           }
          ],
          "mesh3d": [
           {
            "colorbar": {
             "outlinewidth": 0,
             "ticks": ""
            },
            "type": "mesh3d"
           }
          ],
          "parcoords": [
           {
            "line": {
             "colorbar": {
              "outlinewidth": 0,
              "ticks": ""
             }
            },
            "type": "parcoords"
           }
          ],
          "scatter": [
           {
            "marker": {
             "colorbar": {
              "outlinewidth": 0,
              "ticks": ""
             }
            },
            "type": "scatter"
           }
          ],
          "scatter3d": [
           {
            "line": {
             "colorbar": {
              "outlinewidth": 0,
              "ticks": ""
             }
            },
            "marker": {
             "colorbar": {
              "outlinewidth": 0,
              "ticks": ""
             }
            },
            "type": "scatter3d"
           }
          ],
          "scattercarpet": [
           {
            "marker": {
             "colorbar": {
              "outlinewidth": 0,
              "ticks": ""
             }
            },
            "type": "scattercarpet"
           }
          ],
          "scattergeo": [
           {
            "marker": {
             "colorbar": {
              "outlinewidth": 0,
              "ticks": ""
             }
            },
            "type": "scattergeo"
           }
          ],
          "scattergl": [
           {
            "marker": {
             "colorbar": {
              "outlinewidth": 0,
              "ticks": ""
             }
            },
            "type": "scattergl"
           }
          ],
          "scattermapbox": [
           {
            "marker": {
             "colorbar": {
              "outlinewidth": 0,
              "ticks": ""
             }
            },
            "type": "scattermapbox"
           }
          ],
          "scatterpolar": [
           {
            "marker": {
             "colorbar": {
              "outlinewidth": 0,
              "ticks": ""
             }
            },
            "type": "scatterpolar"
           }
          ],
          "scatterpolargl": [
           {
            "marker": {
             "colorbar": {
              "outlinewidth": 0,
              "ticks": ""
             }
            },
            "type": "scatterpolargl"
           }
          ],
          "scatterternary": [
           {
            "marker": {
             "colorbar": {
              "outlinewidth": 0,
              "ticks": ""
             }
            },
            "type": "scatterternary"
           }
          ],
          "surface": [
           {
            "colorbar": {
             "outlinewidth": 0,
             "ticks": ""
            },
            "colorscale": [
             [
              0,
              "#0d0887"
             ],
             [
              0.1111111111111111,
              "#46039f"
             ],
             [
              0.2222222222222222,
              "#7201a8"
             ],
             [
              0.3333333333333333,
              "#9c179e"
             ],
             [
              0.4444444444444444,
              "#bd3786"
             ],
             [
              0.5555555555555556,
              "#d8576b"
             ],
             [
              0.6666666666666666,
              "#ed7953"
             ],
             [
              0.7777777777777778,
              "#fb9f3a"
             ],
             [
              0.8888888888888888,
              "#fdca26"
             ],
             [
              1,
              "#f0f921"
             ]
            ],
            "type": "surface"
           }
          ],
          "table": [
           {
            "cells": {
             "fill": {
              "color": "#EBF0F8"
             },
             "line": {
              "color": "white"
             }
            },
            "header": {
             "fill": {
              "color": "#C8D4E3"
             },
             "line": {
              "color": "white"
             }
            },
            "type": "table"
           }
          ]
         },
         "layout": {
          "annotationdefaults": {
           "arrowcolor": "#2a3f5f",
           "arrowhead": 0,
           "arrowwidth": 1
          },
          "colorscale": {
           "diverging": [
            [
             0,
             "#8e0152"
            ],
            [
             0.1,
             "#c51b7d"
            ],
            [
             0.2,
             "#de77ae"
            ],
            [
             0.3,
             "#f1b6da"
            ],
            [
             0.4,
             "#fde0ef"
            ],
            [
             0.5,
             "#f7f7f7"
            ],
            [
             0.6,
             "#e6f5d0"
            ],
            [
             0.7,
             "#b8e186"
            ],
            [
             0.8,
             "#7fbc41"
            ],
            [
             0.9,
             "#4d9221"
            ],
            [
             1,
             "#276419"
            ]
           ],
           "sequential": [
            [
             0,
             "#0d0887"
            ],
            [
             0.1111111111111111,
             "#46039f"
            ],
            [
             0.2222222222222222,
             "#7201a8"
            ],
            [
             0.3333333333333333,
             "#9c179e"
            ],
            [
             0.4444444444444444,
             "#bd3786"
            ],
            [
             0.5555555555555556,
             "#d8576b"
            ],
            [
             0.6666666666666666,
             "#ed7953"
            ],
            [
             0.7777777777777778,
             "#fb9f3a"
            ],
            [
             0.8888888888888888,
             "#fdca26"
            ],
            [
             1,
             "#f0f921"
            ]
           ],
           "sequentialminus": [
            [
             0,
             "#0d0887"
            ],
            [
             0.1111111111111111,
             "#46039f"
            ],
            [
             0.2222222222222222,
             "#7201a8"
            ],
            [
             0.3333333333333333,
             "#9c179e"
            ],
            [
             0.4444444444444444,
             "#bd3786"
            ],
            [
             0.5555555555555556,
             "#d8576b"
            ],
            [
             0.6666666666666666,
             "#ed7953"
            ],
            [
             0.7777777777777778,
             "#fb9f3a"
            ],
            [
             0.8888888888888888,
             "#fdca26"
            ],
            [
             1,
             "#f0f921"
            ]
           ]
          },
          "colorway": [
           "#636efa",
           "#EF553B",
           "#00cc96",
           "#ab63fa",
           "#FFA15A",
           "#19d3f3",
           "#FF6692",
           "#B6E880",
           "#FF97FF",
           "#FECB52"
          ],
          "font": {
           "color": "#2a3f5f"
          },
          "geo": {
           "bgcolor": "white",
           "lakecolor": "white",
           "landcolor": "#E5ECF6",
           "showlakes": true,
           "showland": true,
           "subunitcolor": "white"
          },
          "hoverlabel": {
           "align": "left"
          },
          "hovermode": "closest",
          "mapbox": {
           "style": "light"
          },
          "paper_bgcolor": "white",
          "plot_bgcolor": "#E5ECF6",
          "polar": {
           "angularaxis": {
            "gridcolor": "white",
            "linecolor": "white",
            "ticks": ""
           },
           "bgcolor": "#E5ECF6",
           "radialaxis": {
            "gridcolor": "white",
            "linecolor": "white",
            "ticks": ""
           }
          },
          "scene": {
           "xaxis": {
            "backgroundcolor": "#E5ECF6",
            "gridcolor": "white",
            "gridwidth": 2,
            "linecolor": "white",
            "showbackground": true,
            "ticks": "",
            "zerolinecolor": "white"
           },
           "yaxis": {
            "backgroundcolor": "#E5ECF6",
            "gridcolor": "white",
            "gridwidth": 2,
            "linecolor": "white",
            "showbackground": true,
            "ticks": "",
            "zerolinecolor": "white"
           },
           "zaxis": {
            "backgroundcolor": "#E5ECF6",
            "gridcolor": "white",
            "gridwidth": 2,
            "linecolor": "white",
            "showbackground": true,
            "ticks": "",
            "zerolinecolor": "white"
           }
          },
          "shapedefaults": {
           "line": {
            "color": "#2a3f5f"
           }
          },
          "ternary": {
           "aaxis": {
            "gridcolor": "white",
            "linecolor": "white",
            "ticks": ""
           },
           "baxis": {
            "gridcolor": "white",
            "linecolor": "white",
            "ticks": ""
           },
           "bgcolor": "#E5ECF6",
           "caxis": {
            "gridcolor": "white",
            "linecolor": "white",
            "ticks": ""
           }
          },
          "title": {
           "x": 0.05
          },
          "xaxis": {
           "automargin": true,
           "gridcolor": "white",
           "linecolor": "white",
           "ticks": "",
           "zerolinecolor": "white",
           "zerolinewidth": 2
          },
          "yaxis": {
           "automargin": true,
           "gridcolor": "white",
           "linecolor": "white",
           "ticks": "",
           "zerolinecolor": "white",
           "zerolinewidth": 2
          }
         }
        }
       }
      },
      "text/html": [
       "<div>\n",
       "        \n",
       "        \n",
       "            <div id=\"0cc3dc20-c1d9-4537-881c-71b15cb42c7d\" class=\"plotly-graph-div\" style=\"height:525px; width:100%;\"></div>\n",
       "            <script type=\"text/javascript\">\n",
       "                require([\"plotly\"], function(Plotly) {\n",
       "                    window.PLOTLYENV=window.PLOTLYENV || {};\n",
       "                    \n",
       "                if (document.getElementById(\"0cc3dc20-c1d9-4537-881c-71b15cb42c7d\")) {\n",
       "                    Plotly.newPlot(\n",
       "                        '0cc3dc20-c1d9-4537-881c-71b15cb42c7d',\n",
       "                        [{\"name\": \"2000_pop\", \"type\": \"bar\", \"x\": [\"Los Angeles city, California\", \"San Diego city, California\", \"San Jose city, California\", \"San Francisco city, California\", \"Long Beach city, California\"], \"y\": [3694820, 1223400, 894943, 776733, 461522]}, {\"name\": \"2010_pop\", \"type\": \"bar\", \"x\": [\"Los Angeles city, California\", \"San Diego city, California\", \"San Jose city, California\", \"San Francisco city, California\", \"Long Beach city, California\"], \"y\": [3792621.0, 1307402.0, 945942.0, 805235.0, 462257.0]}, {\"name\": \"2000_housing\", \"type\": \"bar\", \"x\": [\"Los Angeles city, California\", \"San Diego city, California\", \"San Jose city, California\", \"San Francisco city, California\", \"Long Beach city, California\"], \"y\": [\"1337706\", \"469689\", \"281841\", \"346527\", \"171632\"]}, {\"name\": \"2010_housing\", \"type\": \"bar\", \"x\": [\"Los Angeles city, California\", \"San Diego city, California\", \"San Jose city, California\", \"San Francisco city, California\", \"Long Beach city, California\"], \"y\": [1413995.0, 516033.0, 314038.0, 376942.0, 176032.0]}, {\"name\": \"2000_non-relatives\", \"type\": \"bar\", \"x\": [\"Los Angeles city, California\", \"San Diego city, California\", \"San Jose city, California\", \"San Francisco city, California\", \"Long Beach city, California\"], \"y\": [\"3694820\", \"1223400\", \"894943\", \"776733\", \"461522\"]}, {\"name\": \"2010_non-relatives\", \"type\": \"bar\", \"x\": [\"Los Angeles city, California\", \"San Diego city, California\", \"San Jose city, California\", \"San Francisco city, California\", \"Long Beach city, California\"], \"y\": [1318168.0, 483092.0, 301366.0, 345811.0, 163531.0]}],\n",
       "                        {\"barmode\": \"group\", \"template\": {\"data\": {\"bar\": [{\"error_x\": {\"color\": \"#2a3f5f\"}, \"error_y\": {\"color\": \"#2a3f5f\"}, \"marker\": {\"line\": {\"color\": \"#E5ECF6\", \"width\": 0.5}}, \"type\": \"bar\"}], \"barpolar\": [{\"marker\": {\"line\": {\"color\": \"#E5ECF6\", \"width\": 0.5}}, \"type\": \"barpolar\"}], \"carpet\": [{\"aaxis\": {\"endlinecolor\": \"#2a3f5f\", \"gridcolor\": \"white\", \"linecolor\": \"white\", \"minorgridcolor\": \"white\", \"startlinecolor\": \"#2a3f5f\"}, \"baxis\": {\"endlinecolor\": \"#2a3f5f\", \"gridcolor\": \"white\", \"linecolor\": \"white\", \"minorgridcolor\": \"white\", \"startlinecolor\": \"#2a3f5f\"}, \"type\": \"carpet\"}], \"choropleth\": [{\"colorbar\": {\"outlinewidth\": 0, \"ticks\": \"\"}, \"type\": \"choropleth\"}], \"contour\": [{\"colorbar\": {\"outlinewidth\": 0, \"ticks\": \"\"}, \"colorscale\": [[0.0, \"#0d0887\"], [0.1111111111111111, \"#46039f\"], [0.2222222222222222, \"#7201a8\"], [0.3333333333333333, \"#9c179e\"], [0.4444444444444444, \"#bd3786\"], [0.5555555555555556, \"#d8576b\"], [0.6666666666666666, \"#ed7953\"], [0.7777777777777778, \"#fb9f3a\"], [0.8888888888888888, \"#fdca26\"], [1.0, \"#f0f921\"]], \"type\": \"contour\"}], \"contourcarpet\": [{\"colorbar\": {\"outlinewidth\": 0, \"ticks\": \"\"}, \"type\": \"contourcarpet\"}], \"heatmap\": [{\"colorbar\": {\"outlinewidth\": 0, \"ticks\": \"\"}, \"colorscale\": [[0.0, \"#0d0887\"], [0.1111111111111111, \"#46039f\"], [0.2222222222222222, \"#7201a8\"], [0.3333333333333333, \"#9c179e\"], [0.4444444444444444, \"#bd3786\"], [0.5555555555555556, \"#d8576b\"], [0.6666666666666666, \"#ed7953\"], [0.7777777777777778, \"#fb9f3a\"], [0.8888888888888888, \"#fdca26\"], [1.0, \"#f0f921\"]], \"type\": \"heatmap\"}], \"heatmapgl\": [{\"colorbar\": {\"outlinewidth\": 0, \"ticks\": \"\"}, \"colorscale\": [[0.0, \"#0d0887\"], [0.1111111111111111, \"#46039f\"], [0.2222222222222222, \"#7201a8\"], [0.3333333333333333, \"#9c179e\"], [0.4444444444444444, \"#bd3786\"], [0.5555555555555556, \"#d8576b\"], [0.6666666666666666, \"#ed7953\"], [0.7777777777777778, \"#fb9f3a\"], [0.8888888888888888, \"#fdca26\"], [1.0, \"#f0f921\"]], \"type\": \"heatmapgl\"}], \"histogram\": [{\"marker\": {\"colorbar\": {\"outlinewidth\": 0, \"ticks\": \"\"}}, \"type\": \"histogram\"}], \"histogram2d\": [{\"colorbar\": {\"outlinewidth\": 0, \"ticks\": \"\"}, \"colorscale\": [[0.0, \"#0d0887\"], [0.1111111111111111, \"#46039f\"], [0.2222222222222222, \"#7201a8\"], [0.3333333333333333, \"#9c179e\"], [0.4444444444444444, \"#bd3786\"], [0.5555555555555556, \"#d8576b\"], [0.6666666666666666, \"#ed7953\"], [0.7777777777777778, \"#fb9f3a\"], [0.8888888888888888, \"#fdca26\"], [1.0, \"#f0f921\"]], \"type\": \"histogram2d\"}], \"histogram2dcontour\": [{\"colorbar\": {\"outlinewidth\": 0, \"ticks\": \"\"}, \"colorscale\": [[0.0, \"#0d0887\"], [0.1111111111111111, \"#46039f\"], [0.2222222222222222, \"#7201a8\"], [0.3333333333333333, \"#9c179e\"], [0.4444444444444444, \"#bd3786\"], [0.5555555555555556, \"#d8576b\"], [0.6666666666666666, \"#ed7953\"], [0.7777777777777778, \"#fb9f3a\"], [0.8888888888888888, \"#fdca26\"], [1.0, \"#f0f921\"]], \"type\": \"histogram2dcontour\"}], \"mesh3d\": [{\"colorbar\": {\"outlinewidth\": 0, \"ticks\": \"\"}, \"type\": \"mesh3d\"}], \"parcoords\": [{\"line\": {\"colorbar\": {\"outlinewidth\": 0, \"ticks\": \"\"}}, \"type\": \"parcoords\"}], \"scatter\": [{\"marker\": {\"colorbar\": {\"outlinewidth\": 0, \"ticks\": \"\"}}, \"type\": \"scatter\"}], \"scatter3d\": [{\"line\": {\"colorbar\": {\"outlinewidth\": 0, \"ticks\": \"\"}}, \"marker\": {\"colorbar\": {\"outlinewidth\": 0, \"ticks\": \"\"}}, \"type\": \"scatter3d\"}], \"scattercarpet\": [{\"marker\": {\"colorbar\": {\"outlinewidth\": 0, \"ticks\": \"\"}}, \"type\": \"scattercarpet\"}], \"scattergeo\": [{\"marker\": {\"colorbar\": {\"outlinewidth\": 0, \"ticks\": \"\"}}, \"type\": \"scattergeo\"}], \"scattergl\": [{\"marker\": {\"colorbar\": {\"outlinewidth\": 0, \"ticks\": \"\"}}, \"type\": \"scattergl\"}], \"scattermapbox\": [{\"marker\": {\"colorbar\": {\"outlinewidth\": 0, \"ticks\": \"\"}}, \"type\": \"scattermapbox\"}], \"scatterpolar\": [{\"marker\": {\"colorbar\": {\"outlinewidth\": 0, \"ticks\": \"\"}}, \"type\": \"scatterpolar\"}], \"scatterpolargl\": [{\"marker\": {\"colorbar\": {\"outlinewidth\": 0, \"ticks\": \"\"}}, \"type\": \"scatterpolargl\"}], \"scatterternary\": [{\"marker\": {\"colorbar\": {\"outlinewidth\": 0, \"ticks\": \"\"}}, \"type\": \"scatterternary\"}], \"surface\": [{\"colorbar\": {\"outlinewidth\": 0, \"ticks\": \"\"}, \"colorscale\": [[0.0, \"#0d0887\"], [0.1111111111111111, \"#46039f\"], [0.2222222222222222, \"#7201a8\"], [0.3333333333333333, \"#9c179e\"], [0.4444444444444444, \"#bd3786\"], [0.5555555555555556, \"#d8576b\"], [0.6666666666666666, \"#ed7953\"], [0.7777777777777778, \"#fb9f3a\"], [0.8888888888888888, \"#fdca26\"], [1.0, \"#f0f921\"]], \"type\": \"surface\"}], \"table\": [{\"cells\": {\"fill\": {\"color\": \"#EBF0F8\"}, \"line\": {\"color\": \"white\"}}, \"header\": {\"fill\": {\"color\": \"#C8D4E3\"}, \"line\": {\"color\": \"white\"}}, \"type\": \"table\"}]}, \"layout\": {\"annotationdefaults\": {\"arrowcolor\": \"#2a3f5f\", \"arrowhead\": 0, \"arrowwidth\": 1}, \"colorscale\": {\"diverging\": [[0, \"#8e0152\"], [0.1, \"#c51b7d\"], [0.2, \"#de77ae\"], [0.3, \"#f1b6da\"], [0.4, \"#fde0ef\"], [0.5, \"#f7f7f7\"], [0.6, \"#e6f5d0\"], [0.7, \"#b8e186\"], [0.8, \"#7fbc41\"], [0.9, \"#4d9221\"], [1, \"#276419\"]], \"sequential\": [[0.0, \"#0d0887\"], [0.1111111111111111, \"#46039f\"], [0.2222222222222222, \"#7201a8\"], [0.3333333333333333, \"#9c179e\"], [0.4444444444444444, \"#bd3786\"], [0.5555555555555556, \"#d8576b\"], [0.6666666666666666, \"#ed7953\"], [0.7777777777777778, \"#fb9f3a\"], [0.8888888888888888, \"#fdca26\"], [1.0, \"#f0f921\"]], \"sequentialminus\": [[0.0, \"#0d0887\"], [0.1111111111111111, \"#46039f\"], [0.2222222222222222, \"#7201a8\"], [0.3333333333333333, \"#9c179e\"], [0.4444444444444444, \"#bd3786\"], [0.5555555555555556, \"#d8576b\"], [0.6666666666666666, \"#ed7953\"], [0.7777777777777778, \"#fb9f3a\"], [0.8888888888888888, \"#fdca26\"], [1.0, \"#f0f921\"]]}, \"colorway\": [\"#636efa\", \"#EF553B\", \"#00cc96\", \"#ab63fa\", \"#FFA15A\", \"#19d3f3\", \"#FF6692\", \"#B6E880\", \"#FF97FF\", \"#FECB52\"], \"font\": {\"color\": \"#2a3f5f\"}, \"geo\": {\"bgcolor\": \"white\", \"lakecolor\": \"white\", \"landcolor\": \"#E5ECF6\", \"showlakes\": true, \"showland\": true, \"subunitcolor\": \"white\"}, \"hoverlabel\": {\"align\": \"left\"}, \"hovermode\": \"closest\", \"mapbox\": {\"style\": \"light\"}, \"paper_bgcolor\": \"white\", \"plot_bgcolor\": \"#E5ECF6\", \"polar\": {\"angularaxis\": {\"gridcolor\": \"white\", \"linecolor\": \"white\", \"ticks\": \"\"}, \"bgcolor\": \"#E5ECF6\", \"radialaxis\": {\"gridcolor\": \"white\", \"linecolor\": \"white\", \"ticks\": \"\"}}, \"scene\": {\"xaxis\": {\"backgroundcolor\": \"#E5ECF6\", \"gridcolor\": \"white\", \"gridwidth\": 2, \"linecolor\": \"white\", \"showbackground\": true, \"ticks\": \"\", \"zerolinecolor\": \"white\"}, \"yaxis\": {\"backgroundcolor\": \"#E5ECF6\", \"gridcolor\": \"white\", \"gridwidth\": 2, \"linecolor\": \"white\", \"showbackground\": true, \"ticks\": \"\", \"zerolinecolor\": \"white\"}, \"zaxis\": {\"backgroundcolor\": \"#E5ECF6\", \"gridcolor\": \"white\", \"gridwidth\": 2, \"linecolor\": \"white\", \"showbackground\": true, \"ticks\": \"\", \"zerolinecolor\": \"white\"}}, \"shapedefaults\": {\"line\": {\"color\": \"#2a3f5f\"}}, \"ternary\": {\"aaxis\": {\"gridcolor\": \"white\", \"linecolor\": \"white\", \"ticks\": \"\"}, \"baxis\": {\"gridcolor\": \"white\", \"linecolor\": \"white\", \"ticks\": \"\"}, \"bgcolor\": \"#E5ECF6\", \"caxis\": {\"gridcolor\": \"white\", \"linecolor\": \"white\", \"ticks\": \"\"}}, \"title\": {\"x\": 0.05}, \"xaxis\": {\"automargin\": true, \"gridcolor\": \"white\", \"linecolor\": \"white\", \"ticks\": \"\", \"zerolinecolor\": \"white\", \"zerolinewidth\": 2}, \"yaxis\": {\"automargin\": true, \"gridcolor\": \"white\", \"linecolor\": \"white\", \"ticks\": \"\", \"zerolinecolor\": \"white\", \"zerolinewidth\": 2}}}},\n",
       "                        {\"responsive\": true}\n",
       "                    ).then(function(){\n",
       "                            \n",
       "var gd = document.getElementById('0cc3dc20-c1d9-4537-881c-71b15cb42c7d');\n",
       "var x = new MutationObserver(function (mutations, observer) {{\n",
       "        var display = window.getComputedStyle(gd).display;\n",
       "        if (!display || display === 'none') {{\n",
       "            console.log([gd, 'removed!']);\n",
       "            Plotly.purge(gd);\n",
       "            observer.disconnect();\n",
       "        }}\n",
       "}});\n",
       "\n",
       "// Listen for the removal of the full notebook cells\n",
       "var notebookContainer = gd.closest('#notebook-container');\n",
       "if (notebookContainer) {{\n",
       "    x.observe(notebookContainer, {childList: true});\n",
       "}}\n",
       "\n",
       "// Listen for the clearing of the current output cell\n",
       "var outputEl = gd.closest('.output');\n",
       "if (outputEl) {{\n",
       "    x.observe(outputEl, {childList: true});\n",
       "}}\n",
       "\n",
       "                        })\n",
       "                };\n",
       "                });\n",
       "            </script>\n",
       "        </div>"
      ]
     },
     "metadata": {},
     "output_type": "display_data"
    }
   ],
   "source": [
    "fig = go.Figure(data=[\n",
    "    go.Bar(name='2000_pop', x=ca_join['City_Name'], y=ca_join['Total_Population_2000']),\n",
    "    go.Bar(name='2010_pop', x=ca_join['City_Name'], y=ca_join['Total_Population_2010']),\n",
    "    go.Bar(name='2000_housing', x=ca_join['City_Name'], y=ca_join['Total_Housing_2000']),\n",
    "    go.Bar(name='2010_housing', x=ca_join['City_Name'], y=ca_join['Total_Housing_2010']),\n",
    "    go.Bar(name='2000_non-relatives', x=ca_join['City_Name'], y=ca_join['Presence_of_Non-Relatives_2000']),\n",
    "    go.Bar(name='2010_non-relatives', x=ca_join['City_Name'], y=ca_join['Presence_of_Non-Relatives_2010']),\n",
    "])\n",
    "fig.update_layout(barmode='group')\n",
    "fig.show()"
   ]
  },
  {
   "cell_type": "code",
   "execution_count": 61,
   "metadata": {},
   "outputs": [
    {
     "data": {
      "application/vnd.plotly.v1+json": {
       "config": {
        "plotlyServerURL": "https://plot.ly"
       },
       "data": [
        {
         "name": "2000_age",
         "type": "bar",
         "x": [
          "Los Angeles city, California",
          "San Diego city, California",
          "San Jose city, California",
          "San Francisco city, California",
          "Long Beach city, California"
         ],
         "y": [
          "31.6",
          "32.5",
          "32.6",
          "36.5",
          "30.8"
         ]
        },
        {
         "name": "2010_age",
         "type": "bar",
         "x": [
          "Los Angeles city, California",
          "San Diego city, California",
          "San Jose city, California",
          "San Francisco city, California",
          "Long Beach city, California"
         ],
         "y": [
          34.1,
          33.6,
          35.2,
          38.5,
          33.2
         ]
        }
       ],
       "layout": {
        "barmode": "group",
        "template": {
         "data": {
          "bar": [
           {
            "error_x": {
             "color": "#2a3f5f"
            },
            "error_y": {
             "color": "#2a3f5f"
            },
            "marker": {
             "line": {
              "color": "#E5ECF6",
              "width": 0.5
             }
            },
            "type": "bar"
           }
          ],
          "barpolar": [
           {
            "marker": {
             "line": {
              "color": "#E5ECF6",
              "width": 0.5
             }
            },
            "type": "barpolar"
           }
          ],
          "carpet": [
           {
            "aaxis": {
             "endlinecolor": "#2a3f5f",
             "gridcolor": "white",
             "linecolor": "white",
             "minorgridcolor": "white",
             "startlinecolor": "#2a3f5f"
            },
            "baxis": {
             "endlinecolor": "#2a3f5f",
             "gridcolor": "white",
             "linecolor": "white",
             "minorgridcolor": "white",
             "startlinecolor": "#2a3f5f"
            },
            "type": "carpet"
           }
          ],
          "choropleth": [
           {
            "colorbar": {
             "outlinewidth": 0,
             "ticks": ""
            },
            "type": "choropleth"
           }
          ],
          "contour": [
           {
            "colorbar": {
             "outlinewidth": 0,
             "ticks": ""
            },
            "colorscale": [
             [
              0,
              "#0d0887"
             ],
             [
              0.1111111111111111,
              "#46039f"
             ],
             [
              0.2222222222222222,
              "#7201a8"
             ],
             [
              0.3333333333333333,
              "#9c179e"
             ],
             [
              0.4444444444444444,
              "#bd3786"
             ],
             [
              0.5555555555555556,
              "#d8576b"
             ],
             [
              0.6666666666666666,
              "#ed7953"
             ],
             [
              0.7777777777777778,
              "#fb9f3a"
             ],
             [
              0.8888888888888888,
              "#fdca26"
             ],
             [
              1,
              "#f0f921"
             ]
            ],
            "type": "contour"
           }
          ],
          "contourcarpet": [
           {
            "colorbar": {
             "outlinewidth": 0,
             "ticks": ""
            },
            "type": "contourcarpet"
           }
          ],
          "heatmap": [
           {
            "colorbar": {
             "outlinewidth": 0,
             "ticks": ""
            },
            "colorscale": [
             [
              0,
              "#0d0887"
             ],
             [
              0.1111111111111111,
              "#46039f"
             ],
             [
              0.2222222222222222,
              "#7201a8"
             ],
             [
              0.3333333333333333,
              "#9c179e"
             ],
             [
              0.4444444444444444,
              "#bd3786"
             ],
             [
              0.5555555555555556,
              "#d8576b"
             ],
             [
              0.6666666666666666,
              "#ed7953"
             ],
             [
              0.7777777777777778,
              "#fb9f3a"
             ],
             [
              0.8888888888888888,
              "#fdca26"
             ],
             [
              1,
              "#f0f921"
             ]
            ],
            "type": "heatmap"
           }
          ],
          "heatmapgl": [
           {
            "colorbar": {
             "outlinewidth": 0,
             "ticks": ""
            },
            "colorscale": [
             [
              0,
              "#0d0887"
             ],
             [
              0.1111111111111111,
              "#46039f"
             ],
             [
              0.2222222222222222,
              "#7201a8"
             ],
             [
              0.3333333333333333,
              "#9c179e"
             ],
             [
              0.4444444444444444,
              "#bd3786"
             ],
             [
              0.5555555555555556,
              "#d8576b"
             ],
             [
              0.6666666666666666,
              "#ed7953"
             ],
             [
              0.7777777777777778,
              "#fb9f3a"
             ],
             [
              0.8888888888888888,
              "#fdca26"
             ],
             [
              1,
              "#f0f921"
             ]
            ],
            "type": "heatmapgl"
           }
          ],
          "histogram": [
           {
            "marker": {
             "colorbar": {
              "outlinewidth": 0,
              "ticks": ""
             }
            },
            "type": "histogram"
           }
          ],
          "histogram2d": [
           {
            "colorbar": {
             "outlinewidth": 0,
             "ticks": ""
            },
            "colorscale": [
             [
              0,
              "#0d0887"
             ],
             [
              0.1111111111111111,
              "#46039f"
             ],
             [
              0.2222222222222222,
              "#7201a8"
             ],
             [
              0.3333333333333333,
              "#9c179e"
             ],
             [
              0.4444444444444444,
              "#bd3786"
             ],
             [
              0.5555555555555556,
              "#d8576b"
             ],
             [
              0.6666666666666666,
              "#ed7953"
             ],
             [
              0.7777777777777778,
              "#fb9f3a"
             ],
             [
              0.8888888888888888,
              "#fdca26"
             ],
             [
              1,
              "#f0f921"
             ]
            ],
            "type": "histogram2d"
           }
          ],
          "histogram2dcontour": [
           {
            "colorbar": {
             "outlinewidth": 0,
             "ticks": ""
            },
            "colorscale": [
             [
              0,
              "#0d0887"
             ],
             [
              0.1111111111111111,
              "#46039f"
             ],
             [
              0.2222222222222222,
              "#7201a8"
             ],
             [
              0.3333333333333333,
              "#9c179e"
             ],
             [
              0.4444444444444444,
              "#bd3786"
             ],
             [
              0.5555555555555556,
              "#d8576b"
             ],
             [
              0.6666666666666666,
              "#ed7953"
             ],
             [
              0.7777777777777778,
              "#fb9f3a"
             ],
             [
              0.8888888888888888,
              "#fdca26"
             ],
             [
              1,
              "#f0f921"
             ]
            ],
            "type": "histogram2dcontour"
           }
          ],
          "mesh3d": [
           {
            "colorbar": {
             "outlinewidth": 0,
             "ticks": ""
            },
            "type": "mesh3d"
           }
          ],
          "parcoords": [
           {
            "line": {
             "colorbar": {
              "outlinewidth": 0,
              "ticks": ""
             }
            },
            "type": "parcoords"
           }
          ],
          "scatter": [
           {
            "marker": {
             "colorbar": {
              "outlinewidth": 0,
              "ticks": ""
             }
            },
            "type": "scatter"
           }
          ],
          "scatter3d": [
           {
            "line": {
             "colorbar": {
              "outlinewidth": 0,
              "ticks": ""
             }
            },
            "marker": {
             "colorbar": {
              "outlinewidth": 0,
              "ticks": ""
             }
            },
            "type": "scatter3d"
           }
          ],
          "scattercarpet": [
           {
            "marker": {
             "colorbar": {
              "outlinewidth": 0,
              "ticks": ""
             }
            },
            "type": "scattercarpet"
           }
          ],
          "scattergeo": [
           {
            "marker": {
             "colorbar": {
              "outlinewidth": 0,
              "ticks": ""
             }
            },
            "type": "scattergeo"
           }
          ],
          "scattergl": [
           {
            "marker": {
             "colorbar": {
              "outlinewidth": 0,
              "ticks": ""
             }
            },
            "type": "scattergl"
           }
          ],
          "scattermapbox": [
           {
            "marker": {
             "colorbar": {
              "outlinewidth": 0,
              "ticks": ""
             }
            },
            "type": "scattermapbox"
           }
          ],
          "scatterpolar": [
           {
            "marker": {
             "colorbar": {
              "outlinewidth": 0,
              "ticks": ""
             }
            },
            "type": "scatterpolar"
           }
          ],
          "scatterpolargl": [
           {
            "marker": {
             "colorbar": {
              "outlinewidth": 0,
              "ticks": ""
             }
            },
            "type": "scatterpolargl"
           }
          ],
          "scatterternary": [
           {
            "marker": {
             "colorbar": {
              "outlinewidth": 0,
              "ticks": ""
             }
            },
            "type": "scatterternary"
           }
          ],
          "surface": [
           {
            "colorbar": {
             "outlinewidth": 0,
             "ticks": ""
            },
            "colorscale": [
             [
              0,
              "#0d0887"
             ],
             [
              0.1111111111111111,
              "#46039f"
             ],
             [
              0.2222222222222222,
              "#7201a8"
             ],
             [
              0.3333333333333333,
              "#9c179e"
             ],
             [
              0.4444444444444444,
              "#bd3786"
             ],
             [
              0.5555555555555556,
              "#d8576b"
             ],
             [
              0.6666666666666666,
              "#ed7953"
             ],
             [
              0.7777777777777778,
              "#fb9f3a"
             ],
             [
              0.8888888888888888,
              "#fdca26"
             ],
             [
              1,
              "#f0f921"
             ]
            ],
            "type": "surface"
           }
          ],
          "table": [
           {
            "cells": {
             "fill": {
              "color": "#EBF0F8"
             },
             "line": {
              "color": "white"
             }
            },
            "header": {
             "fill": {
              "color": "#C8D4E3"
             },
             "line": {
              "color": "white"
             }
            },
            "type": "table"
           }
          ]
         },
         "layout": {
          "annotationdefaults": {
           "arrowcolor": "#2a3f5f",
           "arrowhead": 0,
           "arrowwidth": 1
          },
          "colorscale": {
           "diverging": [
            [
             0,
             "#8e0152"
            ],
            [
             0.1,
             "#c51b7d"
            ],
            [
             0.2,
             "#de77ae"
            ],
            [
             0.3,
             "#f1b6da"
            ],
            [
             0.4,
             "#fde0ef"
            ],
            [
             0.5,
             "#f7f7f7"
            ],
            [
             0.6,
             "#e6f5d0"
            ],
            [
             0.7,
             "#b8e186"
            ],
            [
             0.8,
             "#7fbc41"
            ],
            [
             0.9,
             "#4d9221"
            ],
            [
             1,
             "#276419"
            ]
           ],
           "sequential": [
            [
             0,
             "#0d0887"
            ],
            [
             0.1111111111111111,
             "#46039f"
            ],
            [
             0.2222222222222222,
             "#7201a8"
            ],
            [
             0.3333333333333333,
             "#9c179e"
            ],
            [
             0.4444444444444444,
             "#bd3786"
            ],
            [
             0.5555555555555556,
             "#d8576b"
            ],
            [
             0.6666666666666666,
             "#ed7953"
            ],
            [
             0.7777777777777778,
             "#fb9f3a"
            ],
            [
             0.8888888888888888,
             "#fdca26"
            ],
            [
             1,
             "#f0f921"
            ]
           ],
           "sequentialminus": [
            [
             0,
             "#0d0887"
            ],
            [
             0.1111111111111111,
             "#46039f"
            ],
            [
             0.2222222222222222,
             "#7201a8"
            ],
            [
             0.3333333333333333,
             "#9c179e"
            ],
            [
             0.4444444444444444,
             "#bd3786"
            ],
            [
             0.5555555555555556,
             "#d8576b"
            ],
            [
             0.6666666666666666,
             "#ed7953"
            ],
            [
             0.7777777777777778,
             "#fb9f3a"
            ],
            [
             0.8888888888888888,
             "#fdca26"
            ],
            [
             1,
             "#f0f921"
            ]
           ]
          },
          "colorway": [
           "#636efa",
           "#EF553B",
           "#00cc96",
           "#ab63fa",
           "#FFA15A",
           "#19d3f3",
           "#FF6692",
           "#B6E880",
           "#FF97FF",
           "#FECB52"
          ],
          "font": {
           "color": "#2a3f5f"
          },
          "geo": {
           "bgcolor": "white",
           "lakecolor": "white",
           "landcolor": "#E5ECF6",
           "showlakes": true,
           "showland": true,
           "subunitcolor": "white"
          },
          "hoverlabel": {
           "align": "left"
          },
          "hovermode": "closest",
          "mapbox": {
           "style": "light"
          },
          "paper_bgcolor": "white",
          "plot_bgcolor": "#E5ECF6",
          "polar": {
           "angularaxis": {
            "gridcolor": "white",
            "linecolor": "white",
            "ticks": ""
           },
           "bgcolor": "#E5ECF6",
           "radialaxis": {
            "gridcolor": "white",
            "linecolor": "white",
            "ticks": ""
           }
          },
          "scene": {
           "xaxis": {
            "backgroundcolor": "#E5ECF6",
            "gridcolor": "white",
            "gridwidth": 2,
            "linecolor": "white",
            "showbackground": true,
            "ticks": "",
            "zerolinecolor": "white"
           },
           "yaxis": {
            "backgroundcolor": "#E5ECF6",
            "gridcolor": "white",
            "gridwidth": 2,
            "linecolor": "white",
            "showbackground": true,
            "ticks": "",
            "zerolinecolor": "white"
           },
           "zaxis": {
            "backgroundcolor": "#E5ECF6",
            "gridcolor": "white",
            "gridwidth": 2,
            "linecolor": "white",
            "showbackground": true,
            "ticks": "",
            "zerolinecolor": "white"
           }
          },
          "shapedefaults": {
           "line": {
            "color": "#2a3f5f"
           }
          },
          "ternary": {
           "aaxis": {
            "gridcolor": "white",
            "linecolor": "white",
            "ticks": ""
           },
           "baxis": {
            "gridcolor": "white",
            "linecolor": "white",
            "ticks": ""
           },
           "bgcolor": "#E5ECF6",
           "caxis": {
            "gridcolor": "white",
            "linecolor": "white",
            "ticks": ""
           }
          },
          "title": {
           "x": 0.05
          },
          "xaxis": {
           "automargin": true,
           "gridcolor": "white",
           "linecolor": "white",
           "ticks": "",
           "zerolinecolor": "white",
           "zerolinewidth": 2
          },
          "yaxis": {
           "automargin": true,
           "gridcolor": "white",
           "linecolor": "white",
           "ticks": "",
           "zerolinecolor": "white",
           "zerolinewidth": 2
          }
         }
        }
       }
      },
      "text/html": [
       "<div>\n",
       "        \n",
       "        \n",
       "            <div id=\"30ebd85b-874e-499e-8d6f-bf3db6fd7a1a\" class=\"plotly-graph-div\" style=\"height:525px; width:100%;\"></div>\n",
       "            <script type=\"text/javascript\">\n",
       "                require([\"plotly\"], function(Plotly) {\n",
       "                    window.PLOTLYENV=window.PLOTLYENV || {};\n",
       "                    \n",
       "                if (document.getElementById(\"30ebd85b-874e-499e-8d6f-bf3db6fd7a1a\")) {\n",
       "                    Plotly.newPlot(\n",
       "                        '30ebd85b-874e-499e-8d6f-bf3db6fd7a1a',\n",
       "                        [{\"name\": \"2000_age\", \"type\": \"bar\", \"x\": [\"Los Angeles city, California\", \"San Diego city, California\", \"San Jose city, California\", \"San Francisco city, California\", \"Long Beach city, California\"], \"y\": [\"31.6\", \"32.5\", \"32.6\", \"36.5\", \"30.8\"]}, {\"name\": \"2010_age\", \"type\": \"bar\", \"x\": [\"Los Angeles city, California\", \"San Diego city, California\", \"San Jose city, California\", \"San Francisco city, California\", \"Long Beach city, California\"], \"y\": [34.1, 33.6, 35.2, 38.5, 33.2]}],\n",
       "                        {\"barmode\": \"group\", \"template\": {\"data\": {\"bar\": [{\"error_x\": {\"color\": \"#2a3f5f\"}, \"error_y\": {\"color\": \"#2a3f5f\"}, \"marker\": {\"line\": {\"color\": \"#E5ECF6\", \"width\": 0.5}}, \"type\": \"bar\"}], \"barpolar\": [{\"marker\": {\"line\": {\"color\": \"#E5ECF6\", \"width\": 0.5}}, \"type\": \"barpolar\"}], \"carpet\": [{\"aaxis\": {\"endlinecolor\": \"#2a3f5f\", \"gridcolor\": \"white\", \"linecolor\": \"white\", \"minorgridcolor\": \"white\", \"startlinecolor\": \"#2a3f5f\"}, \"baxis\": {\"endlinecolor\": \"#2a3f5f\", \"gridcolor\": \"white\", \"linecolor\": \"white\", \"minorgridcolor\": \"white\", \"startlinecolor\": \"#2a3f5f\"}, \"type\": \"carpet\"}], \"choropleth\": [{\"colorbar\": {\"outlinewidth\": 0, \"ticks\": \"\"}, \"type\": \"choropleth\"}], \"contour\": [{\"colorbar\": {\"outlinewidth\": 0, \"ticks\": \"\"}, \"colorscale\": [[0.0, \"#0d0887\"], [0.1111111111111111, \"#46039f\"], [0.2222222222222222, \"#7201a8\"], [0.3333333333333333, \"#9c179e\"], [0.4444444444444444, \"#bd3786\"], [0.5555555555555556, \"#d8576b\"], [0.6666666666666666, \"#ed7953\"], [0.7777777777777778, \"#fb9f3a\"], [0.8888888888888888, \"#fdca26\"], [1.0, \"#f0f921\"]], \"type\": \"contour\"}], \"contourcarpet\": [{\"colorbar\": {\"outlinewidth\": 0, \"ticks\": \"\"}, \"type\": \"contourcarpet\"}], \"heatmap\": [{\"colorbar\": {\"outlinewidth\": 0, \"ticks\": \"\"}, \"colorscale\": [[0.0, \"#0d0887\"], [0.1111111111111111, \"#46039f\"], [0.2222222222222222, \"#7201a8\"], [0.3333333333333333, \"#9c179e\"], [0.4444444444444444, \"#bd3786\"], [0.5555555555555556, \"#d8576b\"], [0.6666666666666666, \"#ed7953\"], [0.7777777777777778, \"#fb9f3a\"], [0.8888888888888888, \"#fdca26\"], [1.0, \"#f0f921\"]], \"type\": \"heatmap\"}], \"heatmapgl\": [{\"colorbar\": {\"outlinewidth\": 0, \"ticks\": \"\"}, \"colorscale\": [[0.0, \"#0d0887\"], [0.1111111111111111, \"#46039f\"], [0.2222222222222222, \"#7201a8\"], [0.3333333333333333, \"#9c179e\"], [0.4444444444444444, \"#bd3786\"], [0.5555555555555556, \"#d8576b\"], [0.6666666666666666, \"#ed7953\"], [0.7777777777777778, \"#fb9f3a\"], [0.8888888888888888, \"#fdca26\"], [1.0, \"#f0f921\"]], \"type\": \"heatmapgl\"}], \"histogram\": [{\"marker\": {\"colorbar\": {\"outlinewidth\": 0, \"ticks\": \"\"}}, \"type\": \"histogram\"}], \"histogram2d\": [{\"colorbar\": {\"outlinewidth\": 0, \"ticks\": \"\"}, \"colorscale\": [[0.0, \"#0d0887\"], [0.1111111111111111, \"#46039f\"], [0.2222222222222222, \"#7201a8\"], [0.3333333333333333, \"#9c179e\"], [0.4444444444444444, \"#bd3786\"], [0.5555555555555556, \"#d8576b\"], [0.6666666666666666, \"#ed7953\"], [0.7777777777777778, \"#fb9f3a\"], [0.8888888888888888, \"#fdca26\"], [1.0, \"#f0f921\"]], \"type\": \"histogram2d\"}], \"histogram2dcontour\": [{\"colorbar\": {\"outlinewidth\": 0, \"ticks\": \"\"}, \"colorscale\": [[0.0, \"#0d0887\"], [0.1111111111111111, \"#46039f\"], [0.2222222222222222, \"#7201a8\"], [0.3333333333333333, \"#9c179e\"], [0.4444444444444444, \"#bd3786\"], [0.5555555555555556, \"#d8576b\"], [0.6666666666666666, \"#ed7953\"], [0.7777777777777778, \"#fb9f3a\"], [0.8888888888888888, \"#fdca26\"], [1.0, \"#f0f921\"]], \"type\": \"histogram2dcontour\"}], \"mesh3d\": [{\"colorbar\": {\"outlinewidth\": 0, \"ticks\": \"\"}, \"type\": \"mesh3d\"}], \"parcoords\": [{\"line\": {\"colorbar\": {\"outlinewidth\": 0, \"ticks\": \"\"}}, \"type\": \"parcoords\"}], \"scatter\": [{\"marker\": {\"colorbar\": {\"outlinewidth\": 0, \"ticks\": \"\"}}, \"type\": \"scatter\"}], \"scatter3d\": [{\"line\": {\"colorbar\": {\"outlinewidth\": 0, \"ticks\": \"\"}}, \"marker\": {\"colorbar\": {\"outlinewidth\": 0, \"ticks\": \"\"}}, \"type\": \"scatter3d\"}], \"scattercarpet\": [{\"marker\": {\"colorbar\": {\"outlinewidth\": 0, \"ticks\": \"\"}}, \"type\": \"scattercarpet\"}], \"scattergeo\": [{\"marker\": {\"colorbar\": {\"outlinewidth\": 0, \"ticks\": \"\"}}, \"type\": \"scattergeo\"}], \"scattergl\": [{\"marker\": {\"colorbar\": {\"outlinewidth\": 0, \"ticks\": \"\"}}, \"type\": \"scattergl\"}], \"scattermapbox\": [{\"marker\": {\"colorbar\": {\"outlinewidth\": 0, \"ticks\": \"\"}}, \"type\": \"scattermapbox\"}], \"scatterpolar\": [{\"marker\": {\"colorbar\": {\"outlinewidth\": 0, \"ticks\": \"\"}}, \"type\": \"scatterpolar\"}], \"scatterpolargl\": [{\"marker\": {\"colorbar\": {\"outlinewidth\": 0, \"ticks\": \"\"}}, \"type\": \"scatterpolargl\"}], \"scatterternary\": [{\"marker\": {\"colorbar\": {\"outlinewidth\": 0, \"ticks\": \"\"}}, \"type\": \"scatterternary\"}], \"surface\": [{\"colorbar\": {\"outlinewidth\": 0, \"ticks\": \"\"}, \"colorscale\": [[0.0, \"#0d0887\"], [0.1111111111111111, \"#46039f\"], [0.2222222222222222, \"#7201a8\"], [0.3333333333333333, \"#9c179e\"], [0.4444444444444444, \"#bd3786\"], [0.5555555555555556, \"#d8576b\"], [0.6666666666666666, \"#ed7953\"], [0.7777777777777778, \"#fb9f3a\"], [0.8888888888888888, \"#fdca26\"], [1.0, \"#f0f921\"]], \"type\": \"surface\"}], \"table\": [{\"cells\": {\"fill\": {\"color\": \"#EBF0F8\"}, \"line\": {\"color\": \"white\"}}, \"header\": {\"fill\": {\"color\": \"#C8D4E3\"}, \"line\": {\"color\": \"white\"}}, \"type\": \"table\"}]}, \"layout\": {\"annotationdefaults\": {\"arrowcolor\": \"#2a3f5f\", \"arrowhead\": 0, \"arrowwidth\": 1}, \"colorscale\": {\"diverging\": [[0, \"#8e0152\"], [0.1, \"#c51b7d\"], [0.2, \"#de77ae\"], [0.3, \"#f1b6da\"], [0.4, \"#fde0ef\"], [0.5, \"#f7f7f7\"], [0.6, \"#e6f5d0\"], [0.7, \"#b8e186\"], [0.8, \"#7fbc41\"], [0.9, \"#4d9221\"], [1, \"#276419\"]], \"sequential\": [[0.0, \"#0d0887\"], [0.1111111111111111, \"#46039f\"], [0.2222222222222222, \"#7201a8\"], [0.3333333333333333, \"#9c179e\"], [0.4444444444444444, \"#bd3786\"], [0.5555555555555556, \"#d8576b\"], [0.6666666666666666, \"#ed7953\"], [0.7777777777777778, \"#fb9f3a\"], [0.8888888888888888, \"#fdca26\"], [1.0, \"#f0f921\"]], \"sequentialminus\": [[0.0, \"#0d0887\"], [0.1111111111111111, \"#46039f\"], [0.2222222222222222, \"#7201a8\"], [0.3333333333333333, \"#9c179e\"], [0.4444444444444444, \"#bd3786\"], [0.5555555555555556, \"#d8576b\"], [0.6666666666666666, \"#ed7953\"], [0.7777777777777778, \"#fb9f3a\"], [0.8888888888888888, \"#fdca26\"], [1.0, \"#f0f921\"]]}, \"colorway\": [\"#636efa\", \"#EF553B\", \"#00cc96\", \"#ab63fa\", \"#FFA15A\", \"#19d3f3\", \"#FF6692\", \"#B6E880\", \"#FF97FF\", \"#FECB52\"], \"font\": {\"color\": \"#2a3f5f\"}, \"geo\": {\"bgcolor\": \"white\", \"lakecolor\": \"white\", \"landcolor\": \"#E5ECF6\", \"showlakes\": true, \"showland\": true, \"subunitcolor\": \"white\"}, \"hoverlabel\": {\"align\": \"left\"}, \"hovermode\": \"closest\", \"mapbox\": {\"style\": \"light\"}, \"paper_bgcolor\": \"white\", \"plot_bgcolor\": \"#E5ECF6\", \"polar\": {\"angularaxis\": {\"gridcolor\": \"white\", \"linecolor\": \"white\", \"ticks\": \"\"}, \"bgcolor\": \"#E5ECF6\", \"radialaxis\": {\"gridcolor\": \"white\", \"linecolor\": \"white\", \"ticks\": \"\"}}, \"scene\": {\"xaxis\": {\"backgroundcolor\": \"#E5ECF6\", \"gridcolor\": \"white\", \"gridwidth\": 2, \"linecolor\": \"white\", \"showbackground\": true, \"ticks\": \"\", \"zerolinecolor\": \"white\"}, \"yaxis\": {\"backgroundcolor\": \"#E5ECF6\", \"gridcolor\": \"white\", \"gridwidth\": 2, \"linecolor\": \"white\", \"showbackground\": true, \"ticks\": \"\", \"zerolinecolor\": \"white\"}, \"zaxis\": {\"backgroundcolor\": \"#E5ECF6\", \"gridcolor\": \"white\", \"gridwidth\": 2, \"linecolor\": \"white\", \"showbackground\": true, \"ticks\": \"\", \"zerolinecolor\": \"white\"}}, \"shapedefaults\": {\"line\": {\"color\": \"#2a3f5f\"}}, \"ternary\": {\"aaxis\": {\"gridcolor\": \"white\", \"linecolor\": \"white\", \"ticks\": \"\"}, \"baxis\": {\"gridcolor\": \"white\", \"linecolor\": \"white\", \"ticks\": \"\"}, \"bgcolor\": \"#E5ECF6\", \"caxis\": {\"gridcolor\": \"white\", \"linecolor\": \"white\", \"ticks\": \"\"}}, \"title\": {\"x\": 0.05}, \"xaxis\": {\"automargin\": true, \"gridcolor\": \"white\", \"linecolor\": \"white\", \"ticks\": \"\", \"zerolinecolor\": \"white\", \"zerolinewidth\": 2}, \"yaxis\": {\"automargin\": true, \"gridcolor\": \"white\", \"linecolor\": \"white\", \"ticks\": \"\", \"zerolinecolor\": \"white\", \"zerolinewidth\": 2}}}},\n",
       "                        {\"responsive\": true}\n",
       "                    ).then(function(){\n",
       "                            \n",
       "var gd = document.getElementById('30ebd85b-874e-499e-8d6f-bf3db6fd7a1a');\n",
       "var x = new MutationObserver(function (mutations, observer) {{\n",
       "        var display = window.getComputedStyle(gd).display;\n",
       "        if (!display || display === 'none') {{\n",
       "            console.log([gd, 'removed!']);\n",
       "            Plotly.purge(gd);\n",
       "            observer.disconnect();\n",
       "        }}\n",
       "}});\n",
       "\n",
       "// Listen for the removal of the full notebook cells\n",
       "var notebookContainer = gd.closest('#notebook-container');\n",
       "if (notebookContainer) {{\n",
       "    x.observe(notebookContainer, {childList: true});\n",
       "}}\n",
       "\n",
       "// Listen for the clearing of the current output cell\n",
       "var outputEl = gd.closest('.output');\n",
       "if (outputEl) {{\n",
       "    x.observe(outputEl, {childList: true});\n",
       "}}\n",
       "\n",
       "                        })\n",
       "                };\n",
       "                });\n",
       "            </script>\n",
       "        </div>"
      ]
     },
     "metadata": {},
     "output_type": "display_data"
    }
   ],
   "source": [
    "fig = go.Figure(data=[\n",
    "    go.Bar(name='2000_age', x=ca_join['City_Name'], y=ca_join['Median_Age_2000']),\n",
    "    go.Bar(name='2010_age', x=ca_join['City_Name'], y=ca_join['Median_Age_2010']),\n",
    "])\n",
    "fig.update_layout(barmode='group')\n",
    "fig.show()"
   ]
  },
  {
   "cell_type": "markdown",
   "metadata": {},
   "source": [
    "## American Community Servey"
   ]
  },
  {
   "cell_type": "code",
   "execution_count": 62,
   "metadata": {},
   "outputs": [],
   "source": [
    "i = 0\n",
    "acs_years = []\n",
    "for x in range(2012, 2018):\n",
    "    acs_test = c.acs5.state_place(('NAME',\n",
    "                                   'B01003_001E',\n",
    "                                   'B00002_001E',\n",
    "                                   'B09018_007E',\n",
    "                                   'B01002_001E'), states.CA.fips, '*', year=x)\n",
    "    acs_years.append(pd.DataFrame.from_records(acs_test))\n",
    "    acs_years[i] = acs_years[i].rename(columns={\n",
    "        'NAME' : 'City_Name',\n",
    "        'place': 'FIPS',\n",
    "        'B01003_001E': 'Total_Population_{}'.format(x),\n",
    "        'B00002_001E': 'Total_Housing_{}'.format(x),\n",
    "        'B09018_007E': 'Presence_of_Non-Relatives_{}'.format(x),\n",
    "        'B01002_001E': 'Median_Age_{}'.format(x),\n",
    "    })\n",
    "    acs_years[i].set_index('FIPS', inplace=True)\n",
    "    acs_years[i].drop(columns=['City_Name', 'state'], inplace=True)\n",
    "    acs_years[i] = acs_years[i].nlargest(5, 'Total_Population_{}'.format(x))\n",
    "    i = i + 1"
   ]
  },
  {
   "cell_type": "code",
   "execution_count": 63,
   "metadata": {},
   "outputs": [],
   "source": [
    "for x in acs_years:\n",
    "    ca_join = ca_join.join(x)"
   ]
  },
  {
   "cell_type": "code",
   "execution_count": 64,
   "metadata": {},
   "outputs": [
    {
     "data": {
      "text/html": [
       "<div>\n",
       "<style scoped>\n",
       "    .dataframe tbody tr th:only-of-type {\n",
       "        vertical-align: middle;\n",
       "    }\n",
       "\n",
       "    .dataframe tbody tr th {\n",
       "        vertical-align: top;\n",
       "    }\n",
       "\n",
       "    .dataframe thead th {\n",
       "        text-align: right;\n",
       "    }\n",
       "</style>\n",
       "<table border=\"1\" class=\"dataframe\">\n",
       "  <thead>\n",
       "    <tr style=\"text-align: right;\">\n",
       "      <th></th>\n",
       "      <th>Total_Housing_2000</th>\n",
       "      <th>Occupancy_Status_For_Housing_Units_2000</th>\n",
       "      <th>Vacancy_Status_2000</th>\n",
       "      <th>For_Rent_2000</th>\n",
       "      <th>Rented_Not_Occupied_2000</th>\n",
       "      <th>For_Sale_Only_2000</th>\n",
       "      <th>Sold_Not_Occupied_2000</th>\n",
       "      <th>For_Seasonal_Recreational_Or_Occasional_Use_2000</th>\n",
       "      <th>For_Migrant_Workers_2000</th>\n",
       "      <th>Total_Population_2000</th>\n",
       "      <th>...</th>\n",
       "      <th>Total_Population_2015</th>\n",
       "      <th>Presence_of_Non-Relatives_2015</th>\n",
       "      <th>Total_Housing_2016</th>\n",
       "      <th>Median_Age_2016</th>\n",
       "      <th>Total_Population_2016</th>\n",
       "      <th>Presence_of_Non-Relatives_2016</th>\n",
       "      <th>Total_Housing_2017</th>\n",
       "      <th>Median_Age_2017</th>\n",
       "      <th>Total_Population_2017</th>\n",
       "      <th>Presence_of_Non-Relatives_2017</th>\n",
       "    </tr>\n",
       "    <tr>\n",
       "      <th>FIPS</th>\n",
       "      <th></th>\n",
       "      <th></th>\n",
       "      <th></th>\n",
       "      <th></th>\n",
       "      <th></th>\n",
       "      <th></th>\n",
       "      <th></th>\n",
       "      <th></th>\n",
       "      <th></th>\n",
       "      <th></th>\n",
       "      <th></th>\n",
       "      <th></th>\n",
       "      <th></th>\n",
       "      <th></th>\n",
       "      <th></th>\n",
       "      <th></th>\n",
       "      <th></th>\n",
       "      <th></th>\n",
       "      <th></th>\n",
       "      <th></th>\n",
       "      <th></th>\n",
       "    </tr>\n",
       "  </thead>\n",
       "  <tbody>\n",
       "    <tr>\n",
       "      <th>44000</th>\n",
       "      <td>1337706</td>\n",
       "      <td>1337706</td>\n",
       "      <td>62294</td>\n",
       "      <td>28529</td>\n",
       "      <td>9036</td>\n",
       "      <td>5161</td>\n",
       "      <td>4876</td>\n",
       "      <td>29</td>\n",
       "      <td>14663</td>\n",
       "      <td>3694820</td>\n",
       "      <td>...</td>\n",
       "      <td>3900794.0</td>\n",
       "      <td>40218.0</td>\n",
       "      <td>117861.0</td>\n",
       "      <td>35.0</td>\n",
       "      <td>3918872.0</td>\n",
       "      <td>39675.0</td>\n",
       "      <td>115400.0</td>\n",
       "      <td>35.2</td>\n",
       "      <td>3949776.0</td>\n",
       "      <td>40048.0</td>\n",
       "    </tr>\n",
       "    <tr>\n",
       "      <th>66000</th>\n",
       "      <td>469689</td>\n",
       "      <td>469689</td>\n",
       "      <td>18998</td>\n",
       "      <td>7511</td>\n",
       "      <td>1806</td>\n",
       "      <td>1787</td>\n",
       "      <td>5093</td>\n",
       "      <td>7</td>\n",
       "      <td>2794</td>\n",
       "      <td>1223400</td>\n",
       "      <td>...</td>\n",
       "      <td>1359791.0</td>\n",
       "      <td>8180.0</td>\n",
       "      <td>36884.0</td>\n",
       "      <td>34.2</td>\n",
       "      <td>1374812.0</td>\n",
       "      <td>8124.0</td>\n",
       "      <td>36377.0</td>\n",
       "      <td>34.3</td>\n",
       "      <td>1390966.0</td>\n",
       "      <td>8207.0</td>\n",
       "    </tr>\n",
       "    <tr>\n",
       "      <th>68000</th>\n",
       "      <td>281841</td>\n",
       "      <td>281841</td>\n",
       "      <td>5243</td>\n",
       "      <td>1929</td>\n",
       "      <td>714</td>\n",
       "      <td>578</td>\n",
       "      <td>818</td>\n",
       "      <td>50</td>\n",
       "      <td>1154</td>\n",
       "      <td>894943</td>\n",
       "      <td>...</td>\n",
       "      <td>1000860.0</td>\n",
       "      <td>10638.0</td>\n",
       "      <td>26125.0</td>\n",
       "      <td>36.1</td>\n",
       "      <td>1009363.0</td>\n",
       "      <td>10400.0</td>\n",
       "      <td>25882.0</td>\n",
       "      <td>36.4</td>\n",
       "      <td>1023031.0</td>\n",
       "      <td>10586.0</td>\n",
       "    </tr>\n",
       "    <tr>\n",
       "      <th>67000</th>\n",
       "      <td>346527</td>\n",
       "      <td>346527</td>\n",
       "      <td>16827</td>\n",
       "      <td>5594</td>\n",
       "      <td>910</td>\n",
       "      <td>1419</td>\n",
       "      <td>3762</td>\n",
       "      <td>79</td>\n",
       "      <td>5063</td>\n",
       "      <td>776733</td>\n",
       "      <td>...</td>\n",
       "      <td>840763.0</td>\n",
       "      <td>5793.0</td>\n",
       "      <td>26388.0</td>\n",
       "      <td>38.4</td>\n",
       "      <td>850282.0</td>\n",
       "      <td>5346.0</td>\n",
       "      <td>26142.0</td>\n",
       "      <td>38.3</td>\n",
       "      <td>864263.0</td>\n",
       "      <td>5258.0</td>\n",
       "    </tr>\n",
       "    <tr>\n",
       "      <th>43000</th>\n",
       "      <td>171632</td>\n",
       "      <td>171632</td>\n",
       "      <td>8544</td>\n",
       "      <td>4195</td>\n",
       "      <td>1484</td>\n",
       "      <td>683</td>\n",
       "      <td>761</td>\n",
       "      <td>2</td>\n",
       "      <td>1419</td>\n",
       "      <td>461522</td>\n",
       "      <td>...</td>\n",
       "      <td>NaN</td>\n",
       "      <td>NaN</td>\n",
       "      <td>NaN</td>\n",
       "      <td>NaN</td>\n",
       "      <td>NaN</td>\n",
       "      <td>NaN</td>\n",
       "      <td>NaN</td>\n",
       "      <td>NaN</td>\n",
       "      <td>NaN</td>\n",
       "      <td>NaN</td>\n",
       "    </tr>\n",
       "  </tbody>\n",
       "</table>\n",
       "<p>5 rows × 63 columns</p>\n",
       "</div>"
      ],
      "text/plain": [
       "      Total_Housing_2000 Occupancy_Status_For_Housing_Units_2000  \\\n",
       "FIPS                                                               \n",
       "44000            1337706                                 1337706   \n",
       "66000             469689                                  469689   \n",
       "68000             281841                                  281841   \n",
       "67000             346527                                  346527   \n",
       "43000             171632                                  171632   \n",
       "\n",
       "      Vacancy_Status_2000 For_Rent_2000 Rented_Not_Occupied_2000  \\\n",
       "FIPS                                                               \n",
       "44000               62294         28529                     9036   \n",
       "66000               18998          7511                     1806   \n",
       "68000                5243          1929                      714   \n",
       "67000               16827          5594                      910   \n",
       "43000                8544          4195                     1484   \n",
       "\n",
       "      For_Sale_Only_2000 Sold_Not_Occupied_2000  \\\n",
       "FIPS                                              \n",
       "44000               5161                   4876   \n",
       "66000               1787                   5093   \n",
       "68000                578                    818   \n",
       "67000               1419                   3762   \n",
       "43000                683                    761   \n",
       "\n",
       "      For_Seasonal_Recreational_Or_Occasional_Use_2000  \\\n",
       "FIPS                                                     \n",
       "44000                                               29   \n",
       "66000                                                7   \n",
       "68000                                               50   \n",
       "67000                                               79   \n",
       "43000                                                2   \n",
       "\n",
       "      For_Migrant_Workers_2000  Total_Population_2000  ...  \\\n",
       "FIPS                                                   ...   \n",
       "44000                    14663                3694820  ...   \n",
       "66000                     2794                1223400  ...   \n",
       "68000                     1154                 894943  ...   \n",
       "67000                     5063                 776733  ...   \n",
       "43000                     1419                 461522  ...   \n",
       "\n",
       "      Total_Population_2015 Presence_of_Non-Relatives_2015 Total_Housing_2016  \\\n",
       "FIPS                                                                            \n",
       "44000             3900794.0                        40218.0           117861.0   \n",
       "66000             1359791.0                         8180.0            36884.0   \n",
       "68000             1000860.0                        10638.0            26125.0   \n",
       "67000              840763.0                         5793.0            26388.0   \n",
       "43000                   NaN                            NaN                NaN   \n",
       "\n",
       "      Median_Age_2016  Total_Population_2016  Presence_of_Non-Relatives_2016  \\\n",
       "FIPS                                                                           \n",
       "44000            35.0              3918872.0                         39675.0   \n",
       "66000            34.2              1374812.0                          8124.0   \n",
       "68000            36.1              1009363.0                         10400.0   \n",
       "67000            38.4               850282.0                          5346.0   \n",
       "43000             NaN                    NaN                             NaN   \n",
       "\n",
       "       Total_Housing_2017  Median_Age_2017  Total_Population_2017  \\\n",
       "FIPS                                                                \n",
       "44000            115400.0             35.2              3949776.0   \n",
       "66000             36377.0             34.3              1390966.0   \n",
       "68000             25882.0             36.4              1023031.0   \n",
       "67000             26142.0             38.3               864263.0   \n",
       "43000                 NaN              NaN                    NaN   \n",
       "\n",
       "       Presence_of_Non-Relatives_2017  \n",
       "FIPS                                   \n",
       "44000                         40048.0  \n",
       "66000                          8207.0  \n",
       "68000                         10586.0  \n",
       "67000                          5258.0  \n",
       "43000                             NaN  \n",
       "\n",
       "[5 rows x 63 columns]"
      ]
     },
     "execution_count": 64,
     "metadata": {},
     "output_type": "execute_result"
    }
   ],
   "source": [
    "ca_join.head()"
   ]
  },
  {
   "cell_type": "code",
   "execution_count": 65,
   "metadata": {},
   "outputs": [
    {
     "data": {
      "application/vnd.plotly.v1+json": {
       "config": {
        "plotlyServerURL": "https://plot.ly"
       },
       "data": [
        {
         "name": "2000_pop",
         "type": "bar",
         "x": [
          "Los Angeles city, California",
          "San Diego city, California",
          "San Jose city, California",
          "San Francisco city, California",
          "Long Beach city, California"
         ],
         "y": [
          3694820,
          1223400,
          894943,
          776733,
          461522
         ]
        },
        {
         "name": "2010_pop",
         "type": "bar",
         "x": [
          "Los Angeles city, California",
          "San Diego city, California",
          "San Jose city, California",
          "San Francisco city, California",
          "Long Beach city, California"
         ],
         "y": [
          3792621,
          1307402,
          945942,
          805235,
          462257
         ]
        },
        {
         "name": "2012_pop",
         "type": "bar",
         "x": [
          "Los Angeles city, California",
          "San Diego city, California",
          "San Jose city, California",
          "San Francisco city, California",
          "Long Beach city, California"
         ],
         "y": [
          3804503,
          1308619,
          954379,
          807755,
          null
         ]
        },
        {
         "name": "2013_pop",
         "type": "bar",
         "x": [
          "Los Angeles city, California",
          "San Diego city, California",
          "San Jose city, California",
          "San Francisco city, California",
          "Long Beach city, California"
         ],
         "y": [
          3827261,
          1322838,
          968903,
          817501,
          null
         ]
        },
        {
         "name": "2014_pop",
         "type": "bar",
         "x": [
          "Los Angeles city, California",
          "San Diego city, California",
          "San Jose city, California",
          "San Francisco city, California",
          "Long Beach city, California"
         ],
         "y": [
          3862210,
          1341510,
          986320,
          829072,
          null
         ]
        },
        {
         "name": "2015_pop",
         "type": "bar",
         "x": [
          "Los Angeles city, California",
          "San Diego city, California",
          "San Jose city, California",
          "San Francisco city, California",
          "Long Beach city, California"
         ],
         "y": [
          3900794,
          1359791,
          1000860,
          840763,
          null
         ]
        },
        {
         "name": "2016_pop",
         "type": "bar",
         "x": [
          "Los Angeles city, California",
          "San Diego city, California",
          "San Jose city, California",
          "San Francisco city, California",
          "Long Beach city, California"
         ],
         "y": [
          3918872,
          1374812,
          1009363,
          850282,
          null
         ]
        },
        {
         "name": "2017_pop",
         "type": "bar",
         "x": [
          "Los Angeles city, California",
          "San Diego city, California",
          "San Jose city, California",
          "San Francisco city, California",
          "Long Beach city, California"
         ],
         "y": [
          3949776,
          1390966,
          1023031,
          864263,
          null
         ]
        },
        {
         "name": "2000_housing",
         "type": "bar",
         "x": [
          "Los Angeles city, California",
          "San Diego city, California",
          "San Jose city, California",
          "San Francisco city, California",
          "Long Beach city, California"
         ],
         "y": [
          "1337706",
          "469689",
          "281841",
          "346527",
          "171632"
         ]
        },
        {
         "name": "2010_housing",
         "type": "bar",
         "x": [
          "Los Angeles city, California",
          "San Diego city, California",
          "San Jose city, California",
          "San Francisco city, California",
          "Long Beach city, California"
         ],
         "y": [
          1413995,
          516033,
          314038,
          376942,
          176032
         ]
        },
        {
         "name": "2012_housing",
         "type": "bar",
         "x": [
          "Los Angeles city, California",
          "San Diego city, California",
          "San Jose city, California",
          "San Francisco city, California",
          "Long Beach city, California"
         ],
         "y": [
          97760,
          34361,
          22425,
          22906,
          null
         ]
        },
        {
         "name": "2013_housing",
         "type": "bar",
         "x": [
          "Los Angeles city, California",
          "San Diego city, California",
          "San Jose city, California",
          "San Francisco city, California",
          "Long Beach city, California"
         ],
         "y": [
          103125,
          34964,
          23406,
          23782,
          null
         ]
        },
        {
         "name": "2014_housing",
         "type": "bar",
         "x": [
          "Los Angeles city, California",
          "San Diego city, California",
          "San Jose city, California",
          "San Francisco city, California",
          "Long Beach city, California"
         ],
         "y": [
          109784,
          36075,
          24669,
          24847,
          null
         ]
        },
        {
         "name": "2015_housing",
         "type": "bar",
         "x": [
          "Los Angeles city, California",
          "San Diego city, California",
          "San Jose city, California",
          "San Francisco city, California",
          "Long Beach city, California"
         ],
         "y": [
          115548,
          36895,
          25647,
          25790,
          null
         ]
        },
        {
         "name": "2016_housing",
         "type": "bar",
         "x": [
          "Los Angeles city, California",
          "San Diego city, California",
          "San Jose city, California",
          "San Francisco city, California",
          "Long Beach city, California"
         ],
         "y": [
          117861,
          36884,
          26125,
          26388,
          null
         ]
        },
        {
         "name": "2017_housing",
         "type": "bar",
         "x": [
          "Los Angeles city, California",
          "San Diego city, California",
          "San Jose city, California",
          "San Francisco city, California",
          "Long Beach city, California"
         ],
         "y": [
          115400,
          36377,
          25882,
          26142,
          null
         ]
        },
        {
         "name": "2000_non-relatives",
         "type": "bar",
         "x": [
          "Los Angeles city, California",
          "San Diego city, California",
          "San Jose city, California",
          "San Francisco city, California",
          "Long Beach city, California"
         ],
         "y": [
          "3694820",
          "1223400",
          "894943",
          "776733",
          "461522"
         ]
        },
        {
         "name": "2010_non-relatives",
         "type": "bar",
         "x": [
          "Los Angeles city, California",
          "San Diego city, California",
          "San Jose city, California",
          "San Francisco city, California",
          "Long Beach city, California"
         ],
         "y": [
          1318168,
          483092,
          301366,
          345811,
          163531
         ]
        },
        {
         "name": "2012_non-relatives",
         "type": "bar",
         "x": [
          "Los Angeles city, California",
          "San Diego city, California",
          "San Jose city, California",
          "San Francisco city, California",
          "Long Beach city, California"
         ],
         "y": [
          44782,
          8572,
          9872,
          5258,
          null
         ]
        },
        {
         "name": "2013_non-relatives",
         "type": "bar",
         "x": [
          "Los Angeles city, California",
          "San Diego city, California",
          "San Jose city, California",
          "San Francisco city, California",
          "Long Beach city, California"
         ],
         "y": [
          43910,
          9083,
          10197,
          4928,
          null
         ]
        },
        {
         "name": "2014_non-relatives",
         "type": "bar",
         "x": [
          "Los Angeles city, California",
          "San Diego city, California",
          "San Jose city, California",
          "San Francisco city, California",
          "Long Beach city, California"
         ],
         "y": [
          43217,
          8862,
          10816,
          5531,
          null
         ]
        },
        {
         "name": "2015_non-relatives",
         "type": "bar",
         "x": [
          "Los Angeles city, California",
          "San Diego city, California",
          "San Jose city, California",
          "San Francisco city, California",
          "Long Beach city, California"
         ],
         "y": [
          40218,
          8180,
          10638,
          5793,
          null
         ]
        },
        {
         "name": "2016_non-relatives",
         "type": "bar",
         "x": [
          "Los Angeles city, California",
          "San Diego city, California",
          "San Jose city, California",
          "San Francisco city, California",
          "Long Beach city, California"
         ],
         "y": [
          39675,
          8124,
          10400,
          5346,
          null
         ]
        },
        {
         "name": "2017_non-relatives",
         "type": "bar",
         "x": [
          "Los Angeles city, California",
          "San Diego city, California",
          "San Jose city, California",
          "San Francisco city, California",
          "Long Beach city, California"
         ],
         "y": [
          40048,
          8207,
          10586,
          5258,
          null
         ]
        }
       ],
       "layout": {
        "barmode": "group",
        "template": {
         "data": {
          "bar": [
           {
            "error_x": {
             "color": "#2a3f5f"
            },
            "error_y": {
             "color": "#2a3f5f"
            },
            "marker": {
             "line": {
              "color": "#E5ECF6",
              "width": 0.5
             }
            },
            "type": "bar"
           }
          ],
          "barpolar": [
           {
            "marker": {
             "line": {
              "color": "#E5ECF6",
              "width": 0.5
             }
            },
            "type": "barpolar"
           }
          ],
          "carpet": [
           {
            "aaxis": {
             "endlinecolor": "#2a3f5f",
             "gridcolor": "white",
             "linecolor": "white",
             "minorgridcolor": "white",
             "startlinecolor": "#2a3f5f"
            },
            "baxis": {
             "endlinecolor": "#2a3f5f",
             "gridcolor": "white",
             "linecolor": "white",
             "minorgridcolor": "white",
             "startlinecolor": "#2a3f5f"
            },
            "type": "carpet"
           }
          ],
          "choropleth": [
           {
            "colorbar": {
             "outlinewidth": 0,
             "ticks": ""
            },
            "type": "choropleth"
           }
          ],
          "contour": [
           {
            "colorbar": {
             "outlinewidth": 0,
             "ticks": ""
            },
            "colorscale": [
             [
              0,
              "#0d0887"
             ],
             [
              0.1111111111111111,
              "#46039f"
             ],
             [
              0.2222222222222222,
              "#7201a8"
             ],
             [
              0.3333333333333333,
              "#9c179e"
             ],
             [
              0.4444444444444444,
              "#bd3786"
             ],
             [
              0.5555555555555556,
              "#d8576b"
             ],
             [
              0.6666666666666666,
              "#ed7953"
             ],
             [
              0.7777777777777778,
              "#fb9f3a"
             ],
             [
              0.8888888888888888,
              "#fdca26"
             ],
             [
              1,
              "#f0f921"
             ]
            ],
            "type": "contour"
           }
          ],
          "contourcarpet": [
           {
            "colorbar": {
             "outlinewidth": 0,
             "ticks": ""
            },
            "type": "contourcarpet"
           }
          ],
          "heatmap": [
           {
            "colorbar": {
             "outlinewidth": 0,
             "ticks": ""
            },
            "colorscale": [
             [
              0,
              "#0d0887"
             ],
             [
              0.1111111111111111,
              "#46039f"
             ],
             [
              0.2222222222222222,
              "#7201a8"
             ],
             [
              0.3333333333333333,
              "#9c179e"
             ],
             [
              0.4444444444444444,
              "#bd3786"
             ],
             [
              0.5555555555555556,
              "#d8576b"
             ],
             [
              0.6666666666666666,
              "#ed7953"
             ],
             [
              0.7777777777777778,
              "#fb9f3a"
             ],
             [
              0.8888888888888888,
              "#fdca26"
             ],
             [
              1,
              "#f0f921"
             ]
            ],
            "type": "heatmap"
           }
          ],
          "heatmapgl": [
           {
            "colorbar": {
             "outlinewidth": 0,
             "ticks": ""
            },
            "colorscale": [
             [
              0,
              "#0d0887"
             ],
             [
              0.1111111111111111,
              "#46039f"
             ],
             [
              0.2222222222222222,
              "#7201a8"
             ],
             [
              0.3333333333333333,
              "#9c179e"
             ],
             [
              0.4444444444444444,
              "#bd3786"
             ],
             [
              0.5555555555555556,
              "#d8576b"
             ],
             [
              0.6666666666666666,
              "#ed7953"
             ],
             [
              0.7777777777777778,
              "#fb9f3a"
             ],
             [
              0.8888888888888888,
              "#fdca26"
             ],
             [
              1,
              "#f0f921"
             ]
            ],
            "type": "heatmapgl"
           }
          ],
          "histogram": [
           {
            "marker": {
             "colorbar": {
              "outlinewidth": 0,
              "ticks": ""
             }
            },
            "type": "histogram"
           }
          ],
          "histogram2d": [
           {
            "colorbar": {
             "outlinewidth": 0,
             "ticks": ""
            },
            "colorscale": [
             [
              0,
              "#0d0887"
             ],
             [
              0.1111111111111111,
              "#46039f"
             ],
             [
              0.2222222222222222,
              "#7201a8"
             ],
             [
              0.3333333333333333,
              "#9c179e"
             ],
             [
              0.4444444444444444,
              "#bd3786"
             ],
             [
              0.5555555555555556,
              "#d8576b"
             ],
             [
              0.6666666666666666,
              "#ed7953"
             ],
             [
              0.7777777777777778,
              "#fb9f3a"
             ],
             [
              0.8888888888888888,
              "#fdca26"
             ],
             [
              1,
              "#f0f921"
             ]
            ],
            "type": "histogram2d"
           }
          ],
          "histogram2dcontour": [
           {
            "colorbar": {
             "outlinewidth": 0,
             "ticks": ""
            },
            "colorscale": [
             [
              0,
              "#0d0887"
             ],
             [
              0.1111111111111111,
              "#46039f"
             ],
             [
              0.2222222222222222,
              "#7201a8"
             ],
             [
              0.3333333333333333,
              "#9c179e"
             ],
             [
              0.4444444444444444,
              "#bd3786"
             ],
             [
              0.5555555555555556,
              "#d8576b"
             ],
             [
              0.6666666666666666,
              "#ed7953"
             ],
             [
              0.7777777777777778,
              "#fb9f3a"
             ],
             [
              0.8888888888888888,
              "#fdca26"
             ],
             [
              1,
              "#f0f921"
             ]
            ],
            "type": "histogram2dcontour"
           }
          ],
          "mesh3d": [
           {
            "colorbar": {
             "outlinewidth": 0,
             "ticks": ""
            },
            "type": "mesh3d"
           }
          ],
          "parcoords": [
           {
            "line": {
             "colorbar": {
              "outlinewidth": 0,
              "ticks": ""
             }
            },
            "type": "parcoords"
           }
          ],
          "scatter": [
           {
            "marker": {
             "colorbar": {
              "outlinewidth": 0,
              "ticks": ""
             }
            },
            "type": "scatter"
           }
          ],
          "scatter3d": [
           {
            "line": {
             "colorbar": {
              "outlinewidth": 0,
              "ticks": ""
             }
            },
            "marker": {
             "colorbar": {
              "outlinewidth": 0,
              "ticks": ""
             }
            },
            "type": "scatter3d"
           }
          ],
          "scattercarpet": [
           {
            "marker": {
             "colorbar": {
              "outlinewidth": 0,
              "ticks": ""
             }
            },
            "type": "scattercarpet"
           }
          ],
          "scattergeo": [
           {
            "marker": {
             "colorbar": {
              "outlinewidth": 0,
              "ticks": ""
             }
            },
            "type": "scattergeo"
           }
          ],
          "scattergl": [
           {
            "marker": {
             "colorbar": {
              "outlinewidth": 0,
              "ticks": ""
             }
            },
            "type": "scattergl"
           }
          ],
          "scattermapbox": [
           {
            "marker": {
             "colorbar": {
              "outlinewidth": 0,
              "ticks": ""
             }
            },
            "type": "scattermapbox"
           }
          ],
          "scatterpolar": [
           {
            "marker": {
             "colorbar": {
              "outlinewidth": 0,
              "ticks": ""
             }
            },
            "type": "scatterpolar"
           }
          ],
          "scatterpolargl": [
           {
            "marker": {
             "colorbar": {
              "outlinewidth": 0,
              "ticks": ""
             }
            },
            "type": "scatterpolargl"
           }
          ],
          "scatterternary": [
           {
            "marker": {
             "colorbar": {
              "outlinewidth": 0,
              "ticks": ""
             }
            },
            "type": "scatterternary"
           }
          ],
          "surface": [
           {
            "colorbar": {
             "outlinewidth": 0,
             "ticks": ""
            },
            "colorscale": [
             [
              0,
              "#0d0887"
             ],
             [
              0.1111111111111111,
              "#46039f"
             ],
             [
              0.2222222222222222,
              "#7201a8"
             ],
             [
              0.3333333333333333,
              "#9c179e"
             ],
             [
              0.4444444444444444,
              "#bd3786"
             ],
             [
              0.5555555555555556,
              "#d8576b"
             ],
             [
              0.6666666666666666,
              "#ed7953"
             ],
             [
              0.7777777777777778,
              "#fb9f3a"
             ],
             [
              0.8888888888888888,
              "#fdca26"
             ],
             [
              1,
              "#f0f921"
             ]
            ],
            "type": "surface"
           }
          ],
          "table": [
           {
            "cells": {
             "fill": {
              "color": "#EBF0F8"
             },
             "line": {
              "color": "white"
             }
            },
            "header": {
             "fill": {
              "color": "#C8D4E3"
             },
             "line": {
              "color": "white"
             }
            },
            "type": "table"
           }
          ]
         },
         "layout": {
          "annotationdefaults": {
           "arrowcolor": "#2a3f5f",
           "arrowhead": 0,
           "arrowwidth": 1
          },
          "colorscale": {
           "diverging": [
            [
             0,
             "#8e0152"
            ],
            [
             0.1,
             "#c51b7d"
            ],
            [
             0.2,
             "#de77ae"
            ],
            [
             0.3,
             "#f1b6da"
            ],
            [
             0.4,
             "#fde0ef"
            ],
            [
             0.5,
             "#f7f7f7"
            ],
            [
             0.6,
             "#e6f5d0"
            ],
            [
             0.7,
             "#b8e186"
            ],
            [
             0.8,
             "#7fbc41"
            ],
            [
             0.9,
             "#4d9221"
            ],
            [
             1,
             "#276419"
            ]
           ],
           "sequential": [
            [
             0,
             "#0d0887"
            ],
            [
             0.1111111111111111,
             "#46039f"
            ],
            [
             0.2222222222222222,
             "#7201a8"
            ],
            [
             0.3333333333333333,
             "#9c179e"
            ],
            [
             0.4444444444444444,
             "#bd3786"
            ],
            [
             0.5555555555555556,
             "#d8576b"
            ],
            [
             0.6666666666666666,
             "#ed7953"
            ],
            [
             0.7777777777777778,
             "#fb9f3a"
            ],
            [
             0.8888888888888888,
             "#fdca26"
            ],
            [
             1,
             "#f0f921"
            ]
           ],
           "sequentialminus": [
            [
             0,
             "#0d0887"
            ],
            [
             0.1111111111111111,
             "#46039f"
            ],
            [
             0.2222222222222222,
             "#7201a8"
            ],
            [
             0.3333333333333333,
             "#9c179e"
            ],
            [
             0.4444444444444444,
             "#bd3786"
            ],
            [
             0.5555555555555556,
             "#d8576b"
            ],
            [
             0.6666666666666666,
             "#ed7953"
            ],
            [
             0.7777777777777778,
             "#fb9f3a"
            ],
            [
             0.8888888888888888,
             "#fdca26"
            ],
            [
             1,
             "#f0f921"
            ]
           ]
          },
          "colorway": [
           "#636efa",
           "#EF553B",
           "#00cc96",
           "#ab63fa",
           "#FFA15A",
           "#19d3f3",
           "#FF6692",
           "#B6E880",
           "#FF97FF",
           "#FECB52"
          ],
          "font": {
           "color": "#2a3f5f"
          },
          "geo": {
           "bgcolor": "white",
           "lakecolor": "white",
           "landcolor": "#E5ECF6",
           "showlakes": true,
           "showland": true,
           "subunitcolor": "white"
          },
          "hoverlabel": {
           "align": "left"
          },
          "hovermode": "closest",
          "mapbox": {
           "style": "light"
          },
          "paper_bgcolor": "white",
          "plot_bgcolor": "#E5ECF6",
          "polar": {
           "angularaxis": {
            "gridcolor": "white",
            "linecolor": "white",
            "ticks": ""
           },
           "bgcolor": "#E5ECF6",
           "radialaxis": {
            "gridcolor": "white",
            "linecolor": "white",
            "ticks": ""
           }
          },
          "scene": {
           "xaxis": {
            "backgroundcolor": "#E5ECF6",
            "gridcolor": "white",
            "gridwidth": 2,
            "linecolor": "white",
            "showbackground": true,
            "ticks": "",
            "zerolinecolor": "white"
           },
           "yaxis": {
            "backgroundcolor": "#E5ECF6",
            "gridcolor": "white",
            "gridwidth": 2,
            "linecolor": "white",
            "showbackground": true,
            "ticks": "",
            "zerolinecolor": "white"
           },
           "zaxis": {
            "backgroundcolor": "#E5ECF6",
            "gridcolor": "white",
            "gridwidth": 2,
            "linecolor": "white",
            "showbackground": true,
            "ticks": "",
            "zerolinecolor": "white"
           }
          },
          "shapedefaults": {
           "line": {
            "color": "#2a3f5f"
           }
          },
          "ternary": {
           "aaxis": {
            "gridcolor": "white",
            "linecolor": "white",
            "ticks": ""
           },
           "baxis": {
            "gridcolor": "white",
            "linecolor": "white",
            "ticks": ""
           },
           "bgcolor": "#E5ECF6",
           "caxis": {
            "gridcolor": "white",
            "linecolor": "white",
            "ticks": ""
           }
          },
          "title": {
           "x": 0.05
          },
          "xaxis": {
           "automargin": true,
           "gridcolor": "white",
           "linecolor": "white",
           "ticks": "",
           "zerolinecolor": "white",
           "zerolinewidth": 2
          },
          "yaxis": {
           "automargin": true,
           "gridcolor": "white",
           "linecolor": "white",
           "ticks": "",
           "zerolinecolor": "white",
           "zerolinewidth": 2
          }
         }
        }
       }
      },
      "text/html": [
       "<div>\n",
       "        \n",
       "        \n",
       "            <div id=\"343b109d-f5dd-407e-aec8-2d5eca4b6971\" class=\"plotly-graph-div\" style=\"height:525px; width:100%;\"></div>\n",
       "            <script type=\"text/javascript\">\n",
       "                require([\"plotly\"], function(Plotly) {\n",
       "                    window.PLOTLYENV=window.PLOTLYENV || {};\n",
       "                    \n",
       "                if (document.getElementById(\"343b109d-f5dd-407e-aec8-2d5eca4b6971\")) {\n",
       "                    Plotly.newPlot(\n",
       "                        '343b109d-f5dd-407e-aec8-2d5eca4b6971',\n",
       "                        [{\"name\": \"2000_pop\", \"type\": \"bar\", \"x\": [\"Los Angeles city, California\", \"San Diego city, California\", \"San Jose city, California\", \"San Francisco city, California\", \"Long Beach city, California\"], \"y\": [3694820, 1223400, 894943, 776733, 461522]}, {\"name\": \"2010_pop\", \"type\": \"bar\", \"x\": [\"Los Angeles city, California\", \"San Diego city, California\", \"San Jose city, California\", \"San Francisco city, California\", \"Long Beach city, California\"], \"y\": [3792621.0, 1307402.0, 945942.0, 805235.0, 462257.0]}, {\"name\": \"2012_pop\", \"type\": \"bar\", \"x\": [\"Los Angeles city, California\", \"San Diego city, California\", \"San Jose city, California\", \"San Francisco city, California\", \"Long Beach city, California\"], \"y\": [3804503.0, 1308619.0, 954379.0, 807755.0, null]}, {\"name\": \"2013_pop\", \"type\": \"bar\", \"x\": [\"Los Angeles city, California\", \"San Diego city, California\", \"San Jose city, California\", \"San Francisco city, California\", \"Long Beach city, California\"], \"y\": [3827261.0, 1322838.0, 968903.0, 817501.0, null]}, {\"name\": \"2014_pop\", \"type\": \"bar\", \"x\": [\"Los Angeles city, California\", \"San Diego city, California\", \"San Jose city, California\", \"San Francisco city, California\", \"Long Beach city, California\"], \"y\": [3862210.0, 1341510.0, 986320.0, 829072.0, null]}, {\"name\": \"2015_pop\", \"type\": \"bar\", \"x\": [\"Los Angeles city, California\", \"San Diego city, California\", \"San Jose city, California\", \"San Francisco city, California\", \"Long Beach city, California\"], \"y\": [3900794.0, 1359791.0, 1000860.0, 840763.0, null]}, {\"name\": \"2016_pop\", \"type\": \"bar\", \"x\": [\"Los Angeles city, California\", \"San Diego city, California\", \"San Jose city, California\", \"San Francisco city, California\", \"Long Beach city, California\"], \"y\": [3918872.0, 1374812.0, 1009363.0, 850282.0, null]}, {\"name\": \"2017_pop\", \"type\": \"bar\", \"x\": [\"Los Angeles city, California\", \"San Diego city, California\", \"San Jose city, California\", \"San Francisco city, California\", \"Long Beach city, California\"], \"y\": [3949776.0, 1390966.0, 1023031.0, 864263.0, null]}, {\"name\": \"2000_housing\", \"type\": \"bar\", \"x\": [\"Los Angeles city, California\", \"San Diego city, California\", \"San Jose city, California\", \"San Francisco city, California\", \"Long Beach city, California\"], \"y\": [\"1337706\", \"469689\", \"281841\", \"346527\", \"171632\"]}, {\"name\": \"2010_housing\", \"type\": \"bar\", \"x\": [\"Los Angeles city, California\", \"San Diego city, California\", \"San Jose city, California\", \"San Francisco city, California\", \"Long Beach city, California\"], \"y\": [1413995.0, 516033.0, 314038.0, 376942.0, 176032.0]}, {\"name\": \"2012_housing\", \"type\": \"bar\", \"x\": [\"Los Angeles city, California\", \"San Diego city, California\", \"San Jose city, California\", \"San Francisco city, California\", \"Long Beach city, California\"], \"y\": [97760.0, 34361.0, 22425.0, 22906.0, null]}, {\"name\": \"2013_housing\", \"type\": \"bar\", \"x\": [\"Los Angeles city, California\", \"San Diego city, California\", \"San Jose city, California\", \"San Francisco city, California\", \"Long Beach city, California\"], \"y\": [103125.0, 34964.0, 23406.0, 23782.0, null]}, {\"name\": \"2014_housing\", \"type\": \"bar\", \"x\": [\"Los Angeles city, California\", \"San Diego city, California\", \"San Jose city, California\", \"San Francisco city, California\", \"Long Beach city, California\"], \"y\": [109784.0, 36075.0, 24669.0, 24847.0, null]}, {\"name\": \"2015_housing\", \"type\": \"bar\", \"x\": [\"Los Angeles city, California\", \"San Diego city, California\", \"San Jose city, California\", \"San Francisco city, California\", \"Long Beach city, California\"], \"y\": [115548.0, 36895.0, 25647.0, 25790.0, null]}, {\"name\": \"2016_housing\", \"type\": \"bar\", \"x\": [\"Los Angeles city, California\", \"San Diego city, California\", \"San Jose city, California\", \"San Francisco city, California\", \"Long Beach city, California\"], \"y\": [117861.0, 36884.0, 26125.0, 26388.0, null]}, {\"name\": \"2017_housing\", \"type\": \"bar\", \"x\": [\"Los Angeles city, California\", \"San Diego city, California\", \"San Jose city, California\", \"San Francisco city, California\", \"Long Beach city, California\"], \"y\": [115400.0, 36377.0, 25882.0, 26142.0, null]}, {\"name\": \"2000_non-relatives\", \"type\": \"bar\", \"x\": [\"Los Angeles city, California\", \"San Diego city, California\", \"San Jose city, California\", \"San Francisco city, California\", \"Long Beach city, California\"], \"y\": [\"3694820\", \"1223400\", \"894943\", \"776733\", \"461522\"]}, {\"name\": \"2010_non-relatives\", \"type\": \"bar\", \"x\": [\"Los Angeles city, California\", \"San Diego city, California\", \"San Jose city, California\", \"San Francisco city, California\", \"Long Beach city, California\"], \"y\": [1318168.0, 483092.0, 301366.0, 345811.0, 163531.0]}, {\"name\": \"2012_non-relatives\", \"type\": \"bar\", \"x\": [\"Los Angeles city, California\", \"San Diego city, California\", \"San Jose city, California\", \"San Francisco city, California\", \"Long Beach city, California\"], \"y\": [44782.0, 8572.0, 9872.0, 5258.0, null]}, {\"name\": \"2013_non-relatives\", \"type\": \"bar\", \"x\": [\"Los Angeles city, California\", \"San Diego city, California\", \"San Jose city, California\", \"San Francisco city, California\", \"Long Beach city, California\"], \"y\": [43910.0, 9083.0, 10197.0, 4928.0, null]}, {\"name\": \"2014_non-relatives\", \"type\": \"bar\", \"x\": [\"Los Angeles city, California\", \"San Diego city, California\", \"San Jose city, California\", \"San Francisco city, California\", \"Long Beach city, California\"], \"y\": [43217.0, 8862.0, 10816.0, 5531.0, null]}, {\"name\": \"2015_non-relatives\", \"type\": \"bar\", \"x\": [\"Los Angeles city, California\", \"San Diego city, California\", \"San Jose city, California\", \"San Francisco city, California\", \"Long Beach city, California\"], \"y\": [40218.0, 8180.0, 10638.0, 5793.0, null]}, {\"name\": \"2016_non-relatives\", \"type\": \"bar\", \"x\": [\"Los Angeles city, California\", \"San Diego city, California\", \"San Jose city, California\", \"San Francisco city, California\", \"Long Beach city, California\"], \"y\": [39675.0, 8124.0, 10400.0, 5346.0, null]}, {\"name\": \"2017_non-relatives\", \"type\": \"bar\", \"x\": [\"Los Angeles city, California\", \"San Diego city, California\", \"San Jose city, California\", \"San Francisco city, California\", \"Long Beach city, California\"], \"y\": [40048.0, 8207.0, 10586.0, 5258.0, null]}],\n",
       "                        {\"barmode\": \"group\", \"template\": {\"data\": {\"bar\": [{\"error_x\": {\"color\": \"#2a3f5f\"}, \"error_y\": {\"color\": \"#2a3f5f\"}, \"marker\": {\"line\": {\"color\": \"#E5ECF6\", \"width\": 0.5}}, \"type\": \"bar\"}], \"barpolar\": [{\"marker\": {\"line\": {\"color\": \"#E5ECF6\", \"width\": 0.5}}, \"type\": \"barpolar\"}], \"carpet\": [{\"aaxis\": {\"endlinecolor\": \"#2a3f5f\", \"gridcolor\": \"white\", \"linecolor\": \"white\", \"minorgridcolor\": \"white\", \"startlinecolor\": \"#2a3f5f\"}, \"baxis\": {\"endlinecolor\": \"#2a3f5f\", \"gridcolor\": \"white\", \"linecolor\": \"white\", \"minorgridcolor\": \"white\", \"startlinecolor\": \"#2a3f5f\"}, \"type\": \"carpet\"}], \"choropleth\": [{\"colorbar\": {\"outlinewidth\": 0, \"ticks\": \"\"}, \"type\": \"choropleth\"}], \"contour\": [{\"colorbar\": {\"outlinewidth\": 0, \"ticks\": \"\"}, \"colorscale\": [[0.0, \"#0d0887\"], [0.1111111111111111, \"#46039f\"], [0.2222222222222222, \"#7201a8\"], [0.3333333333333333, \"#9c179e\"], [0.4444444444444444, \"#bd3786\"], [0.5555555555555556, \"#d8576b\"], [0.6666666666666666, \"#ed7953\"], [0.7777777777777778, \"#fb9f3a\"], [0.8888888888888888, \"#fdca26\"], [1.0, \"#f0f921\"]], \"type\": \"contour\"}], \"contourcarpet\": [{\"colorbar\": {\"outlinewidth\": 0, \"ticks\": \"\"}, \"type\": \"contourcarpet\"}], \"heatmap\": [{\"colorbar\": {\"outlinewidth\": 0, \"ticks\": \"\"}, \"colorscale\": [[0.0, \"#0d0887\"], [0.1111111111111111, \"#46039f\"], [0.2222222222222222, \"#7201a8\"], [0.3333333333333333, \"#9c179e\"], [0.4444444444444444, \"#bd3786\"], [0.5555555555555556, \"#d8576b\"], [0.6666666666666666, \"#ed7953\"], [0.7777777777777778, \"#fb9f3a\"], [0.8888888888888888, \"#fdca26\"], [1.0, \"#f0f921\"]], \"type\": \"heatmap\"}], \"heatmapgl\": [{\"colorbar\": {\"outlinewidth\": 0, \"ticks\": \"\"}, \"colorscale\": [[0.0, \"#0d0887\"], [0.1111111111111111, \"#46039f\"], [0.2222222222222222, \"#7201a8\"], [0.3333333333333333, \"#9c179e\"], [0.4444444444444444, \"#bd3786\"], [0.5555555555555556, \"#d8576b\"], [0.6666666666666666, \"#ed7953\"], [0.7777777777777778, \"#fb9f3a\"], [0.8888888888888888, \"#fdca26\"], [1.0, \"#f0f921\"]], \"type\": \"heatmapgl\"}], \"histogram\": [{\"marker\": {\"colorbar\": {\"outlinewidth\": 0, \"ticks\": \"\"}}, \"type\": \"histogram\"}], \"histogram2d\": [{\"colorbar\": {\"outlinewidth\": 0, \"ticks\": \"\"}, \"colorscale\": [[0.0, \"#0d0887\"], [0.1111111111111111, \"#46039f\"], [0.2222222222222222, \"#7201a8\"], [0.3333333333333333, \"#9c179e\"], [0.4444444444444444, \"#bd3786\"], [0.5555555555555556, \"#d8576b\"], [0.6666666666666666, \"#ed7953\"], [0.7777777777777778, \"#fb9f3a\"], [0.8888888888888888, \"#fdca26\"], [1.0, \"#f0f921\"]], \"type\": \"histogram2d\"}], \"histogram2dcontour\": [{\"colorbar\": {\"outlinewidth\": 0, \"ticks\": \"\"}, \"colorscale\": [[0.0, \"#0d0887\"], [0.1111111111111111, \"#46039f\"], [0.2222222222222222, \"#7201a8\"], [0.3333333333333333, \"#9c179e\"], [0.4444444444444444, \"#bd3786\"], [0.5555555555555556, \"#d8576b\"], [0.6666666666666666, \"#ed7953\"], [0.7777777777777778, \"#fb9f3a\"], [0.8888888888888888, \"#fdca26\"], [1.0, \"#f0f921\"]], \"type\": \"histogram2dcontour\"}], \"mesh3d\": [{\"colorbar\": {\"outlinewidth\": 0, \"ticks\": \"\"}, \"type\": \"mesh3d\"}], \"parcoords\": [{\"line\": {\"colorbar\": {\"outlinewidth\": 0, \"ticks\": \"\"}}, \"type\": \"parcoords\"}], \"scatter\": [{\"marker\": {\"colorbar\": {\"outlinewidth\": 0, \"ticks\": \"\"}}, \"type\": \"scatter\"}], \"scatter3d\": [{\"line\": {\"colorbar\": {\"outlinewidth\": 0, \"ticks\": \"\"}}, \"marker\": {\"colorbar\": {\"outlinewidth\": 0, \"ticks\": \"\"}}, \"type\": \"scatter3d\"}], \"scattercarpet\": [{\"marker\": {\"colorbar\": {\"outlinewidth\": 0, \"ticks\": \"\"}}, \"type\": \"scattercarpet\"}], \"scattergeo\": [{\"marker\": {\"colorbar\": {\"outlinewidth\": 0, \"ticks\": \"\"}}, \"type\": \"scattergeo\"}], \"scattergl\": [{\"marker\": {\"colorbar\": {\"outlinewidth\": 0, \"ticks\": \"\"}}, \"type\": \"scattergl\"}], \"scattermapbox\": [{\"marker\": {\"colorbar\": {\"outlinewidth\": 0, \"ticks\": \"\"}}, \"type\": \"scattermapbox\"}], \"scatterpolar\": [{\"marker\": {\"colorbar\": {\"outlinewidth\": 0, \"ticks\": \"\"}}, \"type\": \"scatterpolar\"}], \"scatterpolargl\": [{\"marker\": {\"colorbar\": {\"outlinewidth\": 0, \"ticks\": \"\"}}, \"type\": \"scatterpolargl\"}], \"scatterternary\": [{\"marker\": {\"colorbar\": {\"outlinewidth\": 0, \"ticks\": \"\"}}, \"type\": \"scatterternary\"}], \"surface\": [{\"colorbar\": {\"outlinewidth\": 0, \"ticks\": \"\"}, \"colorscale\": [[0.0, \"#0d0887\"], [0.1111111111111111, \"#46039f\"], [0.2222222222222222, \"#7201a8\"], [0.3333333333333333, \"#9c179e\"], [0.4444444444444444, \"#bd3786\"], [0.5555555555555556, \"#d8576b\"], [0.6666666666666666, \"#ed7953\"], [0.7777777777777778, \"#fb9f3a\"], [0.8888888888888888, \"#fdca26\"], [1.0, \"#f0f921\"]], \"type\": \"surface\"}], \"table\": [{\"cells\": {\"fill\": {\"color\": \"#EBF0F8\"}, \"line\": {\"color\": \"white\"}}, \"header\": {\"fill\": {\"color\": \"#C8D4E3\"}, \"line\": {\"color\": \"white\"}}, \"type\": \"table\"}]}, \"layout\": {\"annotationdefaults\": {\"arrowcolor\": \"#2a3f5f\", \"arrowhead\": 0, \"arrowwidth\": 1}, \"colorscale\": {\"diverging\": [[0, \"#8e0152\"], [0.1, \"#c51b7d\"], [0.2, \"#de77ae\"], [0.3, \"#f1b6da\"], [0.4, \"#fde0ef\"], [0.5, \"#f7f7f7\"], [0.6, \"#e6f5d0\"], [0.7, \"#b8e186\"], [0.8, \"#7fbc41\"], [0.9, \"#4d9221\"], [1, \"#276419\"]], \"sequential\": [[0.0, \"#0d0887\"], [0.1111111111111111, \"#46039f\"], [0.2222222222222222, \"#7201a8\"], [0.3333333333333333, \"#9c179e\"], [0.4444444444444444, \"#bd3786\"], [0.5555555555555556, \"#d8576b\"], [0.6666666666666666, \"#ed7953\"], [0.7777777777777778, \"#fb9f3a\"], [0.8888888888888888, \"#fdca26\"], [1.0, \"#f0f921\"]], \"sequentialminus\": [[0.0, \"#0d0887\"], [0.1111111111111111, \"#46039f\"], [0.2222222222222222, \"#7201a8\"], [0.3333333333333333, \"#9c179e\"], [0.4444444444444444, \"#bd3786\"], [0.5555555555555556, \"#d8576b\"], [0.6666666666666666, \"#ed7953\"], [0.7777777777777778, \"#fb9f3a\"], [0.8888888888888888, \"#fdca26\"], [1.0, \"#f0f921\"]]}, \"colorway\": [\"#636efa\", \"#EF553B\", \"#00cc96\", \"#ab63fa\", \"#FFA15A\", \"#19d3f3\", \"#FF6692\", \"#B6E880\", \"#FF97FF\", \"#FECB52\"], \"font\": {\"color\": \"#2a3f5f\"}, \"geo\": {\"bgcolor\": \"white\", \"lakecolor\": \"white\", \"landcolor\": \"#E5ECF6\", \"showlakes\": true, \"showland\": true, \"subunitcolor\": \"white\"}, \"hoverlabel\": {\"align\": \"left\"}, \"hovermode\": \"closest\", \"mapbox\": {\"style\": \"light\"}, \"paper_bgcolor\": \"white\", \"plot_bgcolor\": \"#E5ECF6\", \"polar\": {\"angularaxis\": {\"gridcolor\": \"white\", \"linecolor\": \"white\", \"ticks\": \"\"}, \"bgcolor\": \"#E5ECF6\", \"radialaxis\": {\"gridcolor\": \"white\", \"linecolor\": \"white\", \"ticks\": \"\"}}, \"scene\": {\"xaxis\": {\"backgroundcolor\": \"#E5ECF6\", \"gridcolor\": \"white\", \"gridwidth\": 2, \"linecolor\": \"white\", \"showbackground\": true, \"ticks\": \"\", \"zerolinecolor\": \"white\"}, \"yaxis\": {\"backgroundcolor\": \"#E5ECF6\", \"gridcolor\": \"white\", \"gridwidth\": 2, \"linecolor\": \"white\", \"showbackground\": true, \"ticks\": \"\", \"zerolinecolor\": \"white\"}, \"zaxis\": {\"backgroundcolor\": \"#E5ECF6\", \"gridcolor\": \"white\", \"gridwidth\": 2, \"linecolor\": \"white\", \"showbackground\": true, \"ticks\": \"\", \"zerolinecolor\": \"white\"}}, \"shapedefaults\": {\"line\": {\"color\": \"#2a3f5f\"}}, \"ternary\": {\"aaxis\": {\"gridcolor\": \"white\", \"linecolor\": \"white\", \"ticks\": \"\"}, \"baxis\": {\"gridcolor\": \"white\", \"linecolor\": \"white\", \"ticks\": \"\"}, \"bgcolor\": \"#E5ECF6\", \"caxis\": {\"gridcolor\": \"white\", \"linecolor\": \"white\", \"ticks\": \"\"}}, \"title\": {\"x\": 0.05}, \"xaxis\": {\"automargin\": true, \"gridcolor\": \"white\", \"linecolor\": \"white\", \"ticks\": \"\", \"zerolinecolor\": \"white\", \"zerolinewidth\": 2}, \"yaxis\": {\"automargin\": true, \"gridcolor\": \"white\", \"linecolor\": \"white\", \"ticks\": \"\", \"zerolinecolor\": \"white\", \"zerolinewidth\": 2}}}},\n",
       "                        {\"responsive\": true}\n",
       "                    ).then(function(){\n",
       "                            \n",
       "var gd = document.getElementById('343b109d-f5dd-407e-aec8-2d5eca4b6971');\n",
       "var x = new MutationObserver(function (mutations, observer) {{\n",
       "        var display = window.getComputedStyle(gd).display;\n",
       "        if (!display || display === 'none') {{\n",
       "            console.log([gd, 'removed!']);\n",
       "            Plotly.purge(gd);\n",
       "            observer.disconnect();\n",
       "        }}\n",
       "}});\n",
       "\n",
       "// Listen for the removal of the full notebook cells\n",
       "var notebookContainer = gd.closest('#notebook-container');\n",
       "if (notebookContainer) {{\n",
       "    x.observe(notebookContainer, {childList: true});\n",
       "}}\n",
       "\n",
       "// Listen for the clearing of the current output cell\n",
       "var outputEl = gd.closest('.output');\n",
       "if (outputEl) {{\n",
       "    x.observe(outputEl, {childList: true});\n",
       "}}\n",
       "\n",
       "                        })\n",
       "                };\n",
       "                });\n",
       "            </script>\n",
       "        </div>"
      ]
     },
     "metadata": {},
     "output_type": "display_data"
    }
   ],
   "source": [
    "fig = go.Figure(data=[\n",
    "    go.Bar(name='2000_pop', x=ca_join['City_Name'], y=ca_join['Total_Population_2000']),\n",
    "    go.Bar(name='2010_pop', x=ca_join['City_Name'], y=ca_join['Total_Population_2010']),\n",
    "    go.Bar(name='2012_pop', x=ca_join['City_Name'], y=ca_join['Total_Population_2012']),\n",
    "    go.Bar(name='2013_pop', x=ca_join['City_Name'], y=ca_join['Total_Population_2013']),\n",
    "    go.Bar(name='2014_pop', x=ca_join['City_Name'], y=ca_join['Total_Population_2014']),\n",
    "    go.Bar(name='2015_pop', x=ca_join['City_Name'], y=ca_join['Total_Population_2015']),\n",
    "    go.Bar(name='2016_pop', x=ca_join['City_Name'], y=ca_join['Total_Population_2016']),\n",
    "    go.Bar(name='2017_pop', x=ca_join['City_Name'], y=ca_join['Total_Population_2017']),\n",
    "    go.Bar(name='2000_housing', x=ca_join['City_Name'], y=ca_join['Total_Housing_2000']),\n",
    "    go.Bar(name='2010_housing', x=ca_join['City_Name'], y=ca_join['Total_Housing_2010']),\n",
    "    go.Bar(name='2012_housing', x=ca_join['City_Name'], y=ca_join['Total_Housing_2012']),\n",
    "    go.Bar(name='2013_housing', x=ca_join['City_Name'], y=ca_join['Total_Housing_2013']),\n",
    "    go.Bar(name='2014_housing', x=ca_join['City_Name'], y=ca_join['Total_Housing_2014']),\n",
    "    go.Bar(name='2015_housing', x=ca_join['City_Name'], y=ca_join['Total_Housing_2015']),\n",
    "    go.Bar(name='2016_housing', x=ca_join['City_Name'], y=ca_join['Total_Housing_2016']),\n",
    "    go.Bar(name='2017_housing', x=ca_join['City_Name'], y=ca_join['Total_Housing_2017']),\n",
    "    go.Bar(name='2000_non-relatives', x=ca_join['City_Name'], y=ca_join['Presence_of_Non-Relatives_2000']),\n",
    "    go.Bar(name='2010_non-relatives', x=ca_join['City_Name'], y=ca_join['Presence_of_Non-Relatives_2010']),\n",
    "    go.Bar(name='2012_non-relatives', x=ca_join['City_Name'], y=ca_join['Presence_of_Non-Relatives_2012']),\n",
    "    go.Bar(name='2013_non-relatives', x=ca_join['City_Name'], y=ca_join['Presence_of_Non-Relatives_2013']),\n",
    "    go.Bar(name='2014_non-relatives', x=ca_join['City_Name'], y=ca_join['Presence_of_Non-Relatives_2014']),\n",
    "    go.Bar(name='2015_non-relatives', x=ca_join['City_Name'], y=ca_join['Presence_of_Non-Relatives_2015']),\n",
    "    go.Bar(name='2016_non-relatives', x=ca_join['City_Name'], y=ca_join['Presence_of_Non-Relatives_2016']),\n",
    "    go.Bar(name='2017_non-relatives', x=ca_join['City_Name'], y=ca_join['Presence_of_Non-Relatives_2017']),\n",
    "])\n",
    "fig.update_layout(barmode='group')\n",
    "fig.show()"
   ]
  },
  {
   "cell_type": "markdown",
   "metadata": {},
   "source": [
    "**Plot with emissions data**"
   ]
  },
  {
   "cell_type": "code",
   "execution_count": 66,
   "metadata": {},
   "outputs": [
    {
     "data": {
      "application/vnd.plotly.v1+json": {
       "config": {
        "plotlyServerURL": "https://plot.ly"
       },
       "data": [
        {
         "name": "2000_pop",
         "type": "bar",
         "x": [
          "Los Angeles city, California",
          "San Diego city, California",
          "San Jose city, California",
          "San Francisco city, California",
          "Long Beach city, California"
         ],
         "y": [
          3694820,
          1223400,
          894943,
          776733,
          461522
         ]
        },
        {
         "name": "2010_pop",
         "type": "bar",
         "x": [
          "Los Angeles city, California",
          "San Diego city, California",
          "San Jose city, California",
          "San Francisco city, California",
          "Long Beach city, California"
         ],
         "y": [
          3792621,
          1307402,
          945942,
          805235,
          462257
         ]
        },
        {
         "name": "2012_pop",
         "type": "bar",
         "x": [
          "Los Angeles city, California",
          "San Diego city, California",
          "San Jose city, California",
          "San Francisco city, California",
          "Long Beach city, California"
         ],
         "y": [
          3804503,
          1308619,
          954379,
          807755,
          null
         ]
        },
        {
         "name": "2013_pop",
         "type": "bar",
         "x": [
          "Los Angeles city, California",
          "San Diego city, California",
          "San Jose city, California",
          "San Francisco city, California",
          "Long Beach city, California"
         ],
         "y": [
          3827261,
          1322838,
          968903,
          817501,
          null
         ]
        },
        {
         "name": "2014_pop",
         "type": "bar",
         "x": [
          "Los Angeles city, California",
          "San Diego city, California",
          "San Jose city, California",
          "San Francisco city, California",
          "Long Beach city, California"
         ],
         "y": [
          3862210,
          1341510,
          986320,
          829072,
          null
         ]
        },
        {
         "name": "2015_pop",
         "type": "bar",
         "x": [
          "Los Angeles city, California",
          "San Diego city, California",
          "San Jose city, California",
          "San Francisco city, California",
          "Long Beach city, California"
         ],
         "y": [
          3900794,
          1359791,
          1000860,
          840763,
          null
         ]
        },
        {
         "name": "2016_pop",
         "type": "bar",
         "x": [
          "Los Angeles city, California",
          "San Diego city, California",
          "San Jose city, California",
          "San Francisco city, California",
          "Long Beach city, California"
         ],
         "y": [
          3918872,
          1374812,
          1009363,
          850282,
          null
         ]
        },
        {
         "name": "2017_pop",
         "type": "bar",
         "x": [
          "Los Angeles city, California",
          "San Diego city, California",
          "San Jose city, California",
          "San Francisco city, California",
          "Long Beach city, California"
         ],
         "y": [
          3949776,
          1390966,
          1023031,
          864263,
          null
         ]
        },
        {
         "name": "2000_housing",
         "type": "bar",
         "x": [
          "Los Angeles city, California",
          "San Diego city, California",
          "San Jose city, California",
          "San Francisco city, California",
          "Long Beach city, California"
         ],
         "y": [
          "1337706",
          "469689",
          "281841",
          "346527",
          "171632"
         ]
        },
        {
         "name": "2010_housing",
         "type": "bar",
         "x": [
          "Los Angeles city, California",
          "San Diego city, California",
          "San Jose city, California",
          "San Francisco city, California",
          "Long Beach city, California"
         ],
         "y": [
          1413995,
          516033,
          314038,
          376942,
          176032
         ]
        },
        {
         "name": "2012_housing",
         "type": "bar",
         "x": [
          "Los Angeles city, California",
          "San Diego city, California",
          "San Jose city, California",
          "San Francisco city, California",
          "Long Beach city, California"
         ],
         "y": [
          97760,
          34361,
          22425,
          22906,
          null
         ]
        },
        {
         "name": "2013_housing",
         "type": "bar",
         "x": [
          "Los Angeles city, California",
          "San Diego city, California",
          "San Jose city, California",
          "San Francisco city, California",
          "Long Beach city, California"
         ],
         "y": [
          103125,
          34964,
          23406,
          23782,
          null
         ]
        },
        {
         "name": "2014_housing",
         "type": "bar",
         "x": [
          "Los Angeles city, California",
          "San Diego city, California",
          "San Jose city, California",
          "San Francisco city, California",
          "Long Beach city, California"
         ],
         "y": [
          109784,
          36075,
          24669,
          24847,
          null
         ]
        },
        {
         "name": "2015_housing",
         "type": "bar",
         "x": [
          "Los Angeles city, California",
          "San Diego city, California",
          "San Jose city, California",
          "San Francisco city, California",
          "Long Beach city, California"
         ],
         "y": [
          115548,
          36895,
          25647,
          25790,
          null
         ]
        },
        {
         "name": "2016_housing",
         "type": "bar",
         "x": [
          "Los Angeles city, California",
          "San Diego city, California",
          "San Jose city, California",
          "San Francisco city, California",
          "Long Beach city, California"
         ],
         "y": [
          117861,
          36884,
          26125,
          26388,
          null
         ]
        },
        {
         "name": "2017_housing",
         "type": "bar",
         "x": [
          "Los Angeles city, California",
          "San Diego city, California",
          "San Jose city, California",
          "San Francisco city, California",
          "Long Beach city, California"
         ],
         "y": [
          115400,
          36377,
          25882,
          26142,
          null
         ]
        },
        {
         "name": "2000_non-relatives",
         "type": "bar",
         "x": [
          "Los Angeles city, California",
          "San Diego city, California",
          "San Jose city, California",
          "San Francisco city, California",
          "Long Beach city, California"
         ],
         "y": [
          "3694820",
          "1223400",
          "894943",
          "776733",
          "461522"
         ]
        },
        {
         "name": "2010_non-relatives",
         "type": "bar",
         "x": [
          "Los Angeles city, California",
          "San Diego city, California",
          "San Jose city, California",
          "San Francisco city, California",
          "Long Beach city, California"
         ],
         "y": [
          1318168,
          483092,
          301366,
          345811,
          163531
         ]
        },
        {
         "name": "2012_non-relatives",
         "type": "bar",
         "x": [
          "Los Angeles city, California",
          "San Diego city, California",
          "San Jose city, California",
          "San Francisco city, California",
          "Long Beach city, California"
         ],
         "y": [
          44782,
          8572,
          9872,
          5258,
          null
         ]
        },
        {
         "name": "2013_non-relatives",
         "type": "bar",
         "x": [
          "Los Angeles city, California",
          "San Diego city, California",
          "San Jose city, California",
          "San Francisco city, California",
          "Long Beach city, California"
         ],
         "y": [
          43910,
          9083,
          10197,
          4928,
          null
         ]
        },
        {
         "name": "2014_non-relatives",
         "type": "bar",
         "x": [
          "Los Angeles city, California",
          "San Diego city, California",
          "San Jose city, California",
          "San Francisco city, California",
          "Long Beach city, California"
         ],
         "y": [
          43217,
          8862,
          10816,
          5531,
          null
         ]
        },
        {
         "name": "2015_non-relatives",
         "type": "bar",
         "x": [
          "Los Angeles city, California",
          "San Diego city, California",
          "San Jose city, California",
          "San Francisco city, California",
          "Long Beach city, California"
         ],
         "y": [
          40218,
          8180,
          10638,
          5793,
          null
         ]
        },
        {
         "name": "2016_non-relatives",
         "type": "bar",
         "x": [
          "Los Angeles city, California",
          "San Diego city, California",
          "San Jose city, California",
          "San Francisco city, California",
          "Long Beach city, California"
         ],
         "y": [
          39675,
          8124,
          10400,
          5346,
          null
         ]
        },
        {
         "name": "2017_non-relatives",
         "type": "bar",
         "x": [
          "Los Angeles city, California",
          "San Diego city, California",
          "San Jose city, California",
          "San Francisco city, California",
          "Long Beach city, California"
         ],
         "y": [
          40048,
          8207,
          10586,
          5258,
          null
         ]
        },
        {
         "name": "2010_direct_emissions",
         "type": "bar",
         "x": [
          "Los Angeles city, California",
          "San Diego city, California",
          "San Jose city, California",
          "San Francisco city, California",
          "Long Beach city, California"
         ],
         "y": [
          187080.422,
          186766.452,
          55118,
          678680.4120000001,
          369717.17999999993
         ]
        },
        {
         "name": "2011_direct_emissions",
         "type": "bar",
         "x": [
          "Los Angeles city, California",
          "San Diego city, California",
          "San Jose city, California",
          "San Francisco city, California",
          "Long Beach city, California"
         ],
         "y": [
          218090.474,
          255777.68199999997,
          103328.8355,
          690805.128,
          148214.962
         ]
        },
        {
         "name": "2012_direct_emissions",
         "type": "bar",
         "x": [
          "Los Angeles city, California",
          "San Diego city, California",
          "San Jose city, California",
          "San Francisco city, California",
          "Long Beach city, California"
         ],
         "y": [
          200178.014,
          276705.333,
          114345.41649999999,
          683185.6719999999,
          127038.064
         ]
        },
        {
         "name": "2013_direct_emissions",
         "type": "bar",
         "x": [
          "Los Angeles city, California",
          "San Diego city, California",
          "San Jose city, California",
          "San Francisco city, California",
          "Long Beach city, California"
         ],
         "y": [
          184307.698,
          307365.99600000004,
          143838.311,
          613796.936,
          146354.296
         ]
        },
        {
         "name": "2014_direct_emissions",
         "type": "bar",
         "x": [
          "Los Angeles city, California",
          "San Diego city, California",
          "San Jose city, California",
          "San Francisco city, California",
          "Long Beach city, California"
         ],
         "y": [
          156848.214,
          317934.85199999996,
          136031.443839,
          756452.6540000001,
          169785.49599999998
         ]
        },
        {
         "name": "2015_direct_emissions",
         "type": "bar",
         "x": [
          "Los Angeles city, California",
          "San Diego city, California",
          "San Jose city, California",
          "San Francisco city, California",
          "Long Beach city, California"
         ],
         "y": [
          147664.694,
          308697.836,
          122208.99744,
          633996.692,
          164522.234
         ]
        },
        {
         "name": "2016_direct_emissions",
         "type": "bar",
         "x": [
          "Los Angeles city, California",
          "San Diego city, California",
          "San Jose city, California",
          "San Francisco city, California",
          "Long Beach city, California"
         ],
         "y": [
          123460.714,
          323085.38800000004,
          115600.14,
          723915.476,
          186735.45799999998
         ]
        },
        {
         "name": "2017_direct_emissions",
         "type": "bar",
         "x": [
          "Los Angeles city, California",
          "San Diego city, California",
          "San Jose city, California",
          "San Francisco city, California",
          "Long Beach city, California"
         ],
         "y": [
          128564.164,
          402804.28799999994,
          73957.39,
          736106.786,
          198994.95799999998
         ]
        },
        {
         "name": "2018_direct_emissions",
         "type": "bar",
         "x": [
          "Los Angeles city, California",
          "San Diego city, California",
          "San Jose city, California",
          "San Francisco city, California",
          "Long Beach city, California"
         ],
         "y": [
          120085.86,
          165253.684,
          70869.914,
          1003249.536,
          185173.23599999998
         ]
        }
       ],
       "layout": {
        "barmode": "group",
        "template": {
         "data": {
          "bar": [
           {
            "error_x": {
             "color": "#2a3f5f"
            },
            "error_y": {
             "color": "#2a3f5f"
            },
            "marker": {
             "line": {
              "color": "#E5ECF6",
              "width": 0.5
             }
            },
            "type": "bar"
           }
          ],
          "barpolar": [
           {
            "marker": {
             "line": {
              "color": "#E5ECF6",
              "width": 0.5
             }
            },
            "type": "barpolar"
           }
          ],
          "carpet": [
           {
            "aaxis": {
             "endlinecolor": "#2a3f5f",
             "gridcolor": "white",
             "linecolor": "white",
             "minorgridcolor": "white",
             "startlinecolor": "#2a3f5f"
            },
            "baxis": {
             "endlinecolor": "#2a3f5f",
             "gridcolor": "white",
             "linecolor": "white",
             "minorgridcolor": "white",
             "startlinecolor": "#2a3f5f"
            },
            "type": "carpet"
           }
          ],
          "choropleth": [
           {
            "colorbar": {
             "outlinewidth": 0,
             "ticks": ""
            },
            "type": "choropleth"
           }
          ],
          "contour": [
           {
            "colorbar": {
             "outlinewidth": 0,
             "ticks": ""
            },
            "colorscale": [
             [
              0,
              "#0d0887"
             ],
             [
              0.1111111111111111,
              "#46039f"
             ],
             [
              0.2222222222222222,
              "#7201a8"
             ],
             [
              0.3333333333333333,
              "#9c179e"
             ],
             [
              0.4444444444444444,
              "#bd3786"
             ],
             [
              0.5555555555555556,
              "#d8576b"
             ],
             [
              0.6666666666666666,
              "#ed7953"
             ],
             [
              0.7777777777777778,
              "#fb9f3a"
             ],
             [
              0.8888888888888888,
              "#fdca26"
             ],
             [
              1,
              "#f0f921"
             ]
            ],
            "type": "contour"
           }
          ],
          "contourcarpet": [
           {
            "colorbar": {
             "outlinewidth": 0,
             "ticks": ""
            },
            "type": "contourcarpet"
           }
          ],
          "heatmap": [
           {
            "colorbar": {
             "outlinewidth": 0,
             "ticks": ""
            },
            "colorscale": [
             [
              0,
              "#0d0887"
             ],
             [
              0.1111111111111111,
              "#46039f"
             ],
             [
              0.2222222222222222,
              "#7201a8"
             ],
             [
              0.3333333333333333,
              "#9c179e"
             ],
             [
              0.4444444444444444,
              "#bd3786"
             ],
             [
              0.5555555555555556,
              "#d8576b"
             ],
             [
              0.6666666666666666,
              "#ed7953"
             ],
             [
              0.7777777777777778,
              "#fb9f3a"
             ],
             [
              0.8888888888888888,
              "#fdca26"
             ],
             [
              1,
              "#f0f921"
             ]
            ],
            "type": "heatmap"
           }
          ],
          "heatmapgl": [
           {
            "colorbar": {
             "outlinewidth": 0,
             "ticks": ""
            },
            "colorscale": [
             [
              0,
              "#0d0887"
             ],
             [
              0.1111111111111111,
              "#46039f"
             ],
             [
              0.2222222222222222,
              "#7201a8"
             ],
             [
              0.3333333333333333,
              "#9c179e"
             ],
             [
              0.4444444444444444,
              "#bd3786"
             ],
             [
              0.5555555555555556,
              "#d8576b"
             ],
             [
              0.6666666666666666,
              "#ed7953"
             ],
             [
              0.7777777777777778,
              "#fb9f3a"
             ],
             [
              0.8888888888888888,
              "#fdca26"
             ],
             [
              1,
              "#f0f921"
             ]
            ],
            "type": "heatmapgl"
           }
          ],
          "histogram": [
           {
            "marker": {
             "colorbar": {
              "outlinewidth": 0,
              "ticks": ""
             }
            },
            "type": "histogram"
           }
          ],
          "histogram2d": [
           {
            "colorbar": {
             "outlinewidth": 0,
             "ticks": ""
            },
            "colorscale": [
             [
              0,
              "#0d0887"
             ],
             [
              0.1111111111111111,
              "#46039f"
             ],
             [
              0.2222222222222222,
              "#7201a8"
             ],
             [
              0.3333333333333333,
              "#9c179e"
             ],
             [
              0.4444444444444444,
              "#bd3786"
             ],
             [
              0.5555555555555556,
              "#d8576b"
             ],
             [
              0.6666666666666666,
              "#ed7953"
             ],
             [
              0.7777777777777778,
              "#fb9f3a"
             ],
             [
              0.8888888888888888,
              "#fdca26"
             ],
             [
              1,
              "#f0f921"
             ]
            ],
            "type": "histogram2d"
           }
          ],
          "histogram2dcontour": [
           {
            "colorbar": {
             "outlinewidth": 0,
             "ticks": ""
            },
            "colorscale": [
             [
              0,
              "#0d0887"
             ],
             [
              0.1111111111111111,
              "#46039f"
             ],
             [
              0.2222222222222222,
              "#7201a8"
             ],
             [
              0.3333333333333333,
              "#9c179e"
             ],
             [
              0.4444444444444444,
              "#bd3786"
             ],
             [
              0.5555555555555556,
              "#d8576b"
             ],
             [
              0.6666666666666666,
              "#ed7953"
             ],
             [
              0.7777777777777778,
              "#fb9f3a"
             ],
             [
              0.8888888888888888,
              "#fdca26"
             ],
             [
              1,
              "#f0f921"
             ]
            ],
            "type": "histogram2dcontour"
           }
          ],
          "mesh3d": [
           {
            "colorbar": {
             "outlinewidth": 0,
             "ticks": ""
            },
            "type": "mesh3d"
           }
          ],
          "parcoords": [
           {
            "line": {
             "colorbar": {
              "outlinewidth": 0,
              "ticks": ""
             }
            },
            "type": "parcoords"
           }
          ],
          "scatter": [
           {
            "marker": {
             "colorbar": {
              "outlinewidth": 0,
              "ticks": ""
             }
            },
            "type": "scatter"
           }
          ],
          "scatter3d": [
           {
            "line": {
             "colorbar": {
              "outlinewidth": 0,
              "ticks": ""
             }
            },
            "marker": {
             "colorbar": {
              "outlinewidth": 0,
              "ticks": ""
             }
            },
            "type": "scatter3d"
           }
          ],
          "scattercarpet": [
           {
            "marker": {
             "colorbar": {
              "outlinewidth": 0,
              "ticks": ""
             }
            },
            "type": "scattercarpet"
           }
          ],
          "scattergeo": [
           {
            "marker": {
             "colorbar": {
              "outlinewidth": 0,
              "ticks": ""
             }
            },
            "type": "scattergeo"
           }
          ],
          "scattergl": [
           {
            "marker": {
             "colorbar": {
              "outlinewidth": 0,
              "ticks": ""
             }
            },
            "type": "scattergl"
           }
          ],
          "scattermapbox": [
           {
            "marker": {
             "colorbar": {
              "outlinewidth": 0,
              "ticks": ""
             }
            },
            "type": "scattermapbox"
           }
          ],
          "scatterpolar": [
           {
            "marker": {
             "colorbar": {
              "outlinewidth": 0,
              "ticks": ""
             }
            },
            "type": "scatterpolar"
           }
          ],
          "scatterpolargl": [
           {
            "marker": {
             "colorbar": {
              "outlinewidth": 0,
              "ticks": ""
             }
            },
            "type": "scatterpolargl"
           }
          ],
          "scatterternary": [
           {
            "marker": {
             "colorbar": {
              "outlinewidth": 0,
              "ticks": ""
             }
            },
            "type": "scatterternary"
           }
          ],
          "surface": [
           {
            "colorbar": {
             "outlinewidth": 0,
             "ticks": ""
            },
            "colorscale": [
             [
              0,
              "#0d0887"
             ],
             [
              0.1111111111111111,
              "#46039f"
             ],
             [
              0.2222222222222222,
              "#7201a8"
             ],
             [
              0.3333333333333333,
              "#9c179e"
             ],
             [
              0.4444444444444444,
              "#bd3786"
             ],
             [
              0.5555555555555556,
              "#d8576b"
             ],
             [
              0.6666666666666666,
              "#ed7953"
             ],
             [
              0.7777777777777778,
              "#fb9f3a"
             ],
             [
              0.8888888888888888,
              "#fdca26"
             ],
             [
              1,
              "#f0f921"
             ]
            ],
            "type": "surface"
           }
          ],
          "table": [
           {
            "cells": {
             "fill": {
              "color": "#EBF0F8"
             },
             "line": {
              "color": "white"
             }
            },
            "header": {
             "fill": {
              "color": "#C8D4E3"
             },
             "line": {
              "color": "white"
             }
            },
            "type": "table"
           }
          ]
         },
         "layout": {
          "annotationdefaults": {
           "arrowcolor": "#2a3f5f",
           "arrowhead": 0,
           "arrowwidth": 1
          },
          "colorscale": {
           "diverging": [
            [
             0,
             "#8e0152"
            ],
            [
             0.1,
             "#c51b7d"
            ],
            [
             0.2,
             "#de77ae"
            ],
            [
             0.3,
             "#f1b6da"
            ],
            [
             0.4,
             "#fde0ef"
            ],
            [
             0.5,
             "#f7f7f7"
            ],
            [
             0.6,
             "#e6f5d0"
            ],
            [
             0.7,
             "#b8e186"
            ],
            [
             0.8,
             "#7fbc41"
            ],
            [
             0.9,
             "#4d9221"
            ],
            [
             1,
             "#276419"
            ]
           ],
           "sequential": [
            [
             0,
             "#0d0887"
            ],
            [
             0.1111111111111111,
             "#46039f"
            ],
            [
             0.2222222222222222,
             "#7201a8"
            ],
            [
             0.3333333333333333,
             "#9c179e"
            ],
            [
             0.4444444444444444,
             "#bd3786"
            ],
            [
             0.5555555555555556,
             "#d8576b"
            ],
            [
             0.6666666666666666,
             "#ed7953"
            ],
            [
             0.7777777777777778,
             "#fb9f3a"
            ],
            [
             0.8888888888888888,
             "#fdca26"
            ],
            [
             1,
             "#f0f921"
            ]
           ],
           "sequentialminus": [
            [
             0,
             "#0d0887"
            ],
            [
             0.1111111111111111,
             "#46039f"
            ],
            [
             0.2222222222222222,
             "#7201a8"
            ],
            [
             0.3333333333333333,
             "#9c179e"
            ],
            [
             0.4444444444444444,
             "#bd3786"
            ],
            [
             0.5555555555555556,
             "#d8576b"
            ],
            [
             0.6666666666666666,
             "#ed7953"
            ],
            [
             0.7777777777777778,
             "#fb9f3a"
            ],
            [
             0.8888888888888888,
             "#fdca26"
            ],
            [
             1,
             "#f0f921"
            ]
           ]
          },
          "colorway": [
           "#636efa",
           "#EF553B",
           "#00cc96",
           "#ab63fa",
           "#FFA15A",
           "#19d3f3",
           "#FF6692",
           "#B6E880",
           "#FF97FF",
           "#FECB52"
          ],
          "font": {
           "color": "#2a3f5f"
          },
          "geo": {
           "bgcolor": "white",
           "lakecolor": "white",
           "landcolor": "#E5ECF6",
           "showlakes": true,
           "showland": true,
           "subunitcolor": "white"
          },
          "hoverlabel": {
           "align": "left"
          },
          "hovermode": "closest",
          "mapbox": {
           "style": "light"
          },
          "paper_bgcolor": "white",
          "plot_bgcolor": "#E5ECF6",
          "polar": {
           "angularaxis": {
            "gridcolor": "white",
            "linecolor": "white",
            "ticks": ""
           },
           "bgcolor": "#E5ECF6",
           "radialaxis": {
            "gridcolor": "white",
            "linecolor": "white",
            "ticks": ""
           }
          },
          "scene": {
           "xaxis": {
            "backgroundcolor": "#E5ECF6",
            "gridcolor": "white",
            "gridwidth": 2,
            "linecolor": "white",
            "showbackground": true,
            "ticks": "",
            "zerolinecolor": "white"
           },
           "yaxis": {
            "backgroundcolor": "#E5ECF6",
            "gridcolor": "white",
            "gridwidth": 2,
            "linecolor": "white",
            "showbackground": true,
            "ticks": "",
            "zerolinecolor": "white"
           },
           "zaxis": {
            "backgroundcolor": "#E5ECF6",
            "gridcolor": "white",
            "gridwidth": 2,
            "linecolor": "white",
            "showbackground": true,
            "ticks": "",
            "zerolinecolor": "white"
           }
          },
          "shapedefaults": {
           "line": {
            "color": "#2a3f5f"
           }
          },
          "ternary": {
           "aaxis": {
            "gridcolor": "white",
            "linecolor": "white",
            "ticks": ""
           },
           "baxis": {
            "gridcolor": "white",
            "linecolor": "white",
            "ticks": ""
           },
           "bgcolor": "#E5ECF6",
           "caxis": {
            "gridcolor": "white",
            "linecolor": "white",
            "ticks": ""
           }
          },
          "title": {
           "x": 0.05
          },
          "xaxis": {
           "automargin": true,
           "gridcolor": "white",
           "linecolor": "white",
           "ticks": "",
           "zerolinecolor": "white",
           "zerolinewidth": 2
          },
          "yaxis": {
           "automargin": true,
           "gridcolor": "white",
           "linecolor": "white",
           "ticks": "",
           "zerolinecolor": "white",
           "zerolinewidth": 2
          }
         }
        }
       }
      },
      "text/html": [
       "<div>\n",
       "        \n",
       "        \n",
       "            <div id=\"0a67bda1-1210-49f9-b952-dca4236003af\" class=\"plotly-graph-div\" style=\"height:525px; width:100%;\"></div>\n",
       "            <script type=\"text/javascript\">\n",
       "                require([\"plotly\"], function(Plotly) {\n",
       "                    window.PLOTLYENV=window.PLOTLYENV || {};\n",
       "                    \n",
       "                if (document.getElementById(\"0a67bda1-1210-49f9-b952-dca4236003af\")) {\n",
       "                    Plotly.newPlot(\n",
       "                        '0a67bda1-1210-49f9-b952-dca4236003af',\n",
       "                        [{\"name\": \"2000_pop\", \"type\": \"bar\", \"x\": [\"Los Angeles city, California\", \"San Diego city, California\", \"San Jose city, California\", \"San Francisco city, California\", \"Long Beach city, California\"], \"y\": [3694820, 1223400, 894943, 776733, 461522]}, {\"name\": \"2010_pop\", \"type\": \"bar\", \"x\": [\"Los Angeles city, California\", \"San Diego city, California\", \"San Jose city, California\", \"San Francisco city, California\", \"Long Beach city, California\"], \"y\": [3792621.0, 1307402.0, 945942.0, 805235.0, 462257.0]}, {\"name\": \"2012_pop\", \"type\": \"bar\", \"x\": [\"Los Angeles city, California\", \"San Diego city, California\", \"San Jose city, California\", \"San Francisco city, California\", \"Long Beach city, California\"], \"y\": [3804503.0, 1308619.0, 954379.0, 807755.0, null]}, {\"name\": \"2013_pop\", \"type\": \"bar\", \"x\": [\"Los Angeles city, California\", \"San Diego city, California\", \"San Jose city, California\", \"San Francisco city, California\", \"Long Beach city, California\"], \"y\": [3827261.0, 1322838.0, 968903.0, 817501.0, null]}, {\"name\": \"2014_pop\", \"type\": \"bar\", \"x\": [\"Los Angeles city, California\", \"San Diego city, California\", \"San Jose city, California\", \"San Francisco city, California\", \"Long Beach city, California\"], \"y\": [3862210.0, 1341510.0, 986320.0, 829072.0, null]}, {\"name\": \"2015_pop\", \"type\": \"bar\", \"x\": [\"Los Angeles city, California\", \"San Diego city, California\", \"San Jose city, California\", \"San Francisco city, California\", \"Long Beach city, California\"], \"y\": [3900794.0, 1359791.0, 1000860.0, 840763.0, null]}, {\"name\": \"2016_pop\", \"type\": \"bar\", \"x\": [\"Los Angeles city, California\", \"San Diego city, California\", \"San Jose city, California\", \"San Francisco city, California\", \"Long Beach city, California\"], \"y\": [3918872.0, 1374812.0, 1009363.0, 850282.0, null]}, {\"name\": \"2017_pop\", \"type\": \"bar\", \"x\": [\"Los Angeles city, California\", \"San Diego city, California\", \"San Jose city, California\", \"San Francisco city, California\", \"Long Beach city, California\"], \"y\": [3949776.0, 1390966.0, 1023031.0, 864263.0, null]}, {\"name\": \"2000_housing\", \"type\": \"bar\", \"x\": [\"Los Angeles city, California\", \"San Diego city, California\", \"San Jose city, California\", \"San Francisco city, California\", \"Long Beach city, California\"], \"y\": [\"1337706\", \"469689\", \"281841\", \"346527\", \"171632\"]}, {\"name\": \"2010_housing\", \"type\": \"bar\", \"x\": [\"Los Angeles city, California\", \"San Diego city, California\", \"San Jose city, California\", \"San Francisco city, California\", \"Long Beach city, California\"], \"y\": [1413995.0, 516033.0, 314038.0, 376942.0, 176032.0]}, {\"name\": \"2012_housing\", \"type\": \"bar\", \"x\": [\"Los Angeles city, California\", \"San Diego city, California\", \"San Jose city, California\", \"San Francisco city, California\", \"Long Beach city, California\"], \"y\": [97760.0, 34361.0, 22425.0, 22906.0, null]}, {\"name\": \"2013_housing\", \"type\": \"bar\", \"x\": [\"Los Angeles city, California\", \"San Diego city, California\", \"San Jose city, California\", \"San Francisco city, California\", \"Long Beach city, California\"], \"y\": [103125.0, 34964.0, 23406.0, 23782.0, null]}, {\"name\": \"2014_housing\", \"type\": \"bar\", \"x\": [\"Los Angeles city, California\", \"San Diego city, California\", \"San Jose city, California\", \"San Francisco city, California\", \"Long Beach city, California\"], \"y\": [109784.0, 36075.0, 24669.0, 24847.0, null]}, {\"name\": \"2015_housing\", \"type\": \"bar\", \"x\": [\"Los Angeles city, California\", \"San Diego city, California\", \"San Jose city, California\", \"San Francisco city, California\", \"Long Beach city, California\"], \"y\": [115548.0, 36895.0, 25647.0, 25790.0, null]}, {\"name\": \"2016_housing\", \"type\": \"bar\", \"x\": [\"Los Angeles city, California\", \"San Diego city, California\", \"San Jose city, California\", \"San Francisco city, California\", \"Long Beach city, California\"], \"y\": [117861.0, 36884.0, 26125.0, 26388.0, null]}, {\"name\": \"2017_housing\", \"type\": \"bar\", \"x\": [\"Los Angeles city, California\", \"San Diego city, California\", \"San Jose city, California\", \"San Francisco city, California\", \"Long Beach city, California\"], \"y\": [115400.0, 36377.0, 25882.0, 26142.0, null]}, {\"name\": \"2000_non-relatives\", \"type\": \"bar\", \"x\": [\"Los Angeles city, California\", \"San Diego city, California\", \"San Jose city, California\", \"San Francisco city, California\", \"Long Beach city, California\"], \"y\": [\"3694820\", \"1223400\", \"894943\", \"776733\", \"461522\"]}, {\"name\": \"2010_non-relatives\", \"type\": \"bar\", \"x\": [\"Los Angeles city, California\", \"San Diego city, California\", \"San Jose city, California\", \"San Francisco city, California\", \"Long Beach city, California\"], \"y\": [1318168.0, 483092.0, 301366.0, 345811.0, 163531.0]}, {\"name\": \"2012_non-relatives\", \"type\": \"bar\", \"x\": [\"Los Angeles city, California\", \"San Diego city, California\", \"San Jose city, California\", \"San Francisco city, California\", \"Long Beach city, California\"], \"y\": [44782.0, 8572.0, 9872.0, 5258.0, null]}, {\"name\": \"2013_non-relatives\", \"type\": \"bar\", \"x\": [\"Los Angeles city, California\", \"San Diego city, California\", \"San Jose city, California\", \"San Francisco city, California\", \"Long Beach city, California\"], \"y\": [43910.0, 9083.0, 10197.0, 4928.0, null]}, {\"name\": \"2014_non-relatives\", \"type\": \"bar\", \"x\": [\"Los Angeles city, California\", \"San Diego city, California\", \"San Jose city, California\", \"San Francisco city, California\", \"Long Beach city, California\"], \"y\": [43217.0, 8862.0, 10816.0, 5531.0, null]}, {\"name\": \"2015_non-relatives\", \"type\": \"bar\", \"x\": [\"Los Angeles city, California\", \"San Diego city, California\", \"San Jose city, California\", \"San Francisco city, California\", \"Long Beach city, California\"], \"y\": [40218.0, 8180.0, 10638.0, 5793.0, null]}, {\"name\": \"2016_non-relatives\", \"type\": \"bar\", \"x\": [\"Los Angeles city, California\", \"San Diego city, California\", \"San Jose city, California\", \"San Francisco city, California\", \"Long Beach city, California\"], \"y\": [39675.0, 8124.0, 10400.0, 5346.0, null]}, {\"name\": \"2017_non-relatives\", \"type\": \"bar\", \"x\": [\"Los Angeles city, California\", \"San Diego city, California\", \"San Jose city, California\", \"San Francisco city, California\", \"Long Beach city, California\"], \"y\": [40048.0, 8207.0, 10586.0, 5258.0, null]}, {\"name\": \"2010_direct_emissions\", \"type\": \"bar\", \"x\": [\"Los Angeles city, California\", \"San Diego city, California\", \"San Jose city, California\", \"San Francisco city, California\", \"Long Beach city, California\"], \"y\": [187080.422, 186766.452, 55118.0, 678680.4120000001, 369717.17999999993]}, {\"name\": \"2011_direct_emissions\", \"type\": \"bar\", \"x\": [\"Los Angeles city, California\", \"San Diego city, California\", \"San Jose city, California\", \"San Francisco city, California\", \"Long Beach city, California\"], \"y\": [218090.474, 255777.68199999997, 103328.8355, 690805.128, 148214.962]}, {\"name\": \"2012_direct_emissions\", \"type\": \"bar\", \"x\": [\"Los Angeles city, California\", \"San Diego city, California\", \"San Jose city, California\", \"San Francisco city, California\", \"Long Beach city, California\"], \"y\": [200178.014, 276705.333, 114345.41649999999, 683185.6719999999, 127038.064]}, {\"name\": \"2013_direct_emissions\", \"type\": \"bar\", \"x\": [\"Los Angeles city, California\", \"San Diego city, California\", \"San Jose city, California\", \"San Francisco city, California\", \"Long Beach city, California\"], \"y\": [184307.698, 307365.99600000004, 143838.311, 613796.936, 146354.296]}, {\"name\": \"2014_direct_emissions\", \"type\": \"bar\", \"x\": [\"Los Angeles city, California\", \"San Diego city, California\", \"San Jose city, California\", \"San Francisco city, California\", \"Long Beach city, California\"], \"y\": [156848.214, 317934.85199999996, 136031.443839, 756452.6540000001, 169785.49599999998]}, {\"name\": \"2015_direct_emissions\", \"type\": \"bar\", \"x\": [\"Los Angeles city, California\", \"San Diego city, California\", \"San Jose city, California\", \"San Francisco city, California\", \"Long Beach city, California\"], \"y\": [147664.694, 308697.836, 122208.99744, 633996.692, 164522.234]}, {\"name\": \"2016_direct_emissions\", \"type\": \"bar\", \"x\": [\"Los Angeles city, California\", \"San Diego city, California\", \"San Jose city, California\", \"San Francisco city, California\", \"Long Beach city, California\"], \"y\": [123460.714, 323085.38800000004, 115600.14, 723915.476, 186735.45799999998]}, {\"name\": \"2017_direct_emissions\", \"type\": \"bar\", \"x\": [\"Los Angeles city, California\", \"San Diego city, California\", \"San Jose city, California\", \"San Francisco city, California\", \"Long Beach city, California\"], \"y\": [128564.164, 402804.28799999994, 73957.39, 736106.786, 198994.95799999998]}, {\"name\": \"2018_direct_emissions\", \"type\": \"bar\", \"x\": [\"Los Angeles city, California\", \"San Diego city, California\", \"San Jose city, California\", \"San Francisco city, California\", \"Long Beach city, California\"], \"y\": [120085.86, 165253.684, 70869.914, 1003249.536, 185173.23599999998]}],\n",
       "                        {\"barmode\": \"group\", \"template\": {\"data\": {\"bar\": [{\"error_x\": {\"color\": \"#2a3f5f\"}, \"error_y\": {\"color\": \"#2a3f5f\"}, \"marker\": {\"line\": {\"color\": \"#E5ECF6\", \"width\": 0.5}}, \"type\": \"bar\"}], \"barpolar\": [{\"marker\": {\"line\": {\"color\": \"#E5ECF6\", \"width\": 0.5}}, \"type\": \"barpolar\"}], \"carpet\": [{\"aaxis\": {\"endlinecolor\": \"#2a3f5f\", \"gridcolor\": \"white\", \"linecolor\": \"white\", \"minorgridcolor\": \"white\", \"startlinecolor\": \"#2a3f5f\"}, \"baxis\": {\"endlinecolor\": \"#2a3f5f\", \"gridcolor\": \"white\", \"linecolor\": \"white\", \"minorgridcolor\": \"white\", \"startlinecolor\": \"#2a3f5f\"}, \"type\": \"carpet\"}], \"choropleth\": [{\"colorbar\": {\"outlinewidth\": 0, \"ticks\": \"\"}, \"type\": \"choropleth\"}], \"contour\": [{\"colorbar\": {\"outlinewidth\": 0, \"ticks\": \"\"}, \"colorscale\": [[0.0, \"#0d0887\"], [0.1111111111111111, \"#46039f\"], [0.2222222222222222, \"#7201a8\"], [0.3333333333333333, \"#9c179e\"], [0.4444444444444444, \"#bd3786\"], [0.5555555555555556, \"#d8576b\"], [0.6666666666666666, \"#ed7953\"], [0.7777777777777778, \"#fb9f3a\"], [0.8888888888888888, \"#fdca26\"], [1.0, \"#f0f921\"]], \"type\": \"contour\"}], \"contourcarpet\": [{\"colorbar\": {\"outlinewidth\": 0, \"ticks\": \"\"}, \"type\": \"contourcarpet\"}], \"heatmap\": [{\"colorbar\": {\"outlinewidth\": 0, \"ticks\": \"\"}, \"colorscale\": [[0.0, \"#0d0887\"], [0.1111111111111111, \"#46039f\"], [0.2222222222222222, \"#7201a8\"], [0.3333333333333333, \"#9c179e\"], [0.4444444444444444, \"#bd3786\"], [0.5555555555555556, \"#d8576b\"], [0.6666666666666666, \"#ed7953\"], [0.7777777777777778, \"#fb9f3a\"], [0.8888888888888888, \"#fdca26\"], [1.0, \"#f0f921\"]], \"type\": \"heatmap\"}], \"heatmapgl\": [{\"colorbar\": {\"outlinewidth\": 0, \"ticks\": \"\"}, \"colorscale\": [[0.0, \"#0d0887\"], [0.1111111111111111, \"#46039f\"], [0.2222222222222222, \"#7201a8\"], [0.3333333333333333, \"#9c179e\"], [0.4444444444444444, \"#bd3786\"], [0.5555555555555556, \"#d8576b\"], [0.6666666666666666, \"#ed7953\"], [0.7777777777777778, \"#fb9f3a\"], [0.8888888888888888, \"#fdca26\"], [1.0, \"#f0f921\"]], \"type\": \"heatmapgl\"}], \"histogram\": [{\"marker\": {\"colorbar\": {\"outlinewidth\": 0, \"ticks\": \"\"}}, \"type\": \"histogram\"}], \"histogram2d\": [{\"colorbar\": {\"outlinewidth\": 0, \"ticks\": \"\"}, \"colorscale\": [[0.0, \"#0d0887\"], [0.1111111111111111, \"#46039f\"], [0.2222222222222222, \"#7201a8\"], [0.3333333333333333, \"#9c179e\"], [0.4444444444444444, \"#bd3786\"], [0.5555555555555556, \"#d8576b\"], [0.6666666666666666, \"#ed7953\"], [0.7777777777777778, \"#fb9f3a\"], [0.8888888888888888, \"#fdca26\"], [1.0, \"#f0f921\"]], \"type\": \"histogram2d\"}], \"histogram2dcontour\": [{\"colorbar\": {\"outlinewidth\": 0, \"ticks\": \"\"}, \"colorscale\": [[0.0, \"#0d0887\"], [0.1111111111111111, \"#46039f\"], [0.2222222222222222, \"#7201a8\"], [0.3333333333333333, \"#9c179e\"], [0.4444444444444444, \"#bd3786\"], [0.5555555555555556, \"#d8576b\"], [0.6666666666666666, \"#ed7953\"], [0.7777777777777778, \"#fb9f3a\"], [0.8888888888888888, \"#fdca26\"], [1.0, \"#f0f921\"]], \"type\": \"histogram2dcontour\"}], \"mesh3d\": [{\"colorbar\": {\"outlinewidth\": 0, \"ticks\": \"\"}, \"type\": \"mesh3d\"}], \"parcoords\": [{\"line\": {\"colorbar\": {\"outlinewidth\": 0, \"ticks\": \"\"}}, \"type\": \"parcoords\"}], \"scatter\": [{\"marker\": {\"colorbar\": {\"outlinewidth\": 0, \"ticks\": \"\"}}, \"type\": \"scatter\"}], \"scatter3d\": [{\"line\": {\"colorbar\": {\"outlinewidth\": 0, \"ticks\": \"\"}}, \"marker\": {\"colorbar\": {\"outlinewidth\": 0, \"ticks\": \"\"}}, \"type\": \"scatter3d\"}], \"scattercarpet\": [{\"marker\": {\"colorbar\": {\"outlinewidth\": 0, \"ticks\": \"\"}}, \"type\": \"scattercarpet\"}], \"scattergeo\": [{\"marker\": {\"colorbar\": {\"outlinewidth\": 0, \"ticks\": \"\"}}, \"type\": \"scattergeo\"}], \"scattergl\": [{\"marker\": {\"colorbar\": {\"outlinewidth\": 0, \"ticks\": \"\"}}, \"type\": \"scattergl\"}], \"scattermapbox\": [{\"marker\": {\"colorbar\": {\"outlinewidth\": 0, \"ticks\": \"\"}}, \"type\": \"scattermapbox\"}], \"scatterpolar\": [{\"marker\": {\"colorbar\": {\"outlinewidth\": 0, \"ticks\": \"\"}}, \"type\": \"scatterpolar\"}], \"scatterpolargl\": [{\"marker\": {\"colorbar\": {\"outlinewidth\": 0, \"ticks\": \"\"}}, \"type\": \"scatterpolargl\"}], \"scatterternary\": [{\"marker\": {\"colorbar\": {\"outlinewidth\": 0, \"ticks\": \"\"}}, \"type\": \"scatterternary\"}], \"surface\": [{\"colorbar\": {\"outlinewidth\": 0, \"ticks\": \"\"}, \"colorscale\": [[0.0, \"#0d0887\"], [0.1111111111111111, \"#46039f\"], [0.2222222222222222, \"#7201a8\"], [0.3333333333333333, \"#9c179e\"], [0.4444444444444444, \"#bd3786\"], [0.5555555555555556, \"#d8576b\"], [0.6666666666666666, \"#ed7953\"], [0.7777777777777778, \"#fb9f3a\"], [0.8888888888888888, \"#fdca26\"], [1.0, \"#f0f921\"]], \"type\": \"surface\"}], \"table\": [{\"cells\": {\"fill\": {\"color\": \"#EBF0F8\"}, \"line\": {\"color\": \"white\"}}, \"header\": {\"fill\": {\"color\": \"#C8D4E3\"}, \"line\": {\"color\": \"white\"}}, \"type\": \"table\"}]}, \"layout\": {\"annotationdefaults\": {\"arrowcolor\": \"#2a3f5f\", \"arrowhead\": 0, \"arrowwidth\": 1}, \"colorscale\": {\"diverging\": [[0, \"#8e0152\"], [0.1, \"#c51b7d\"], [0.2, \"#de77ae\"], [0.3, \"#f1b6da\"], [0.4, \"#fde0ef\"], [0.5, \"#f7f7f7\"], [0.6, \"#e6f5d0\"], [0.7, \"#b8e186\"], [0.8, \"#7fbc41\"], [0.9, \"#4d9221\"], [1, \"#276419\"]], \"sequential\": [[0.0, \"#0d0887\"], [0.1111111111111111, \"#46039f\"], [0.2222222222222222, \"#7201a8\"], [0.3333333333333333, \"#9c179e\"], [0.4444444444444444, \"#bd3786\"], [0.5555555555555556, \"#d8576b\"], [0.6666666666666666, \"#ed7953\"], [0.7777777777777778, \"#fb9f3a\"], [0.8888888888888888, \"#fdca26\"], [1.0, \"#f0f921\"]], \"sequentialminus\": [[0.0, \"#0d0887\"], [0.1111111111111111, \"#46039f\"], [0.2222222222222222, \"#7201a8\"], [0.3333333333333333, \"#9c179e\"], [0.4444444444444444, \"#bd3786\"], [0.5555555555555556, \"#d8576b\"], [0.6666666666666666, \"#ed7953\"], [0.7777777777777778, \"#fb9f3a\"], [0.8888888888888888, \"#fdca26\"], [1.0, \"#f0f921\"]]}, \"colorway\": [\"#636efa\", \"#EF553B\", \"#00cc96\", \"#ab63fa\", \"#FFA15A\", \"#19d3f3\", \"#FF6692\", \"#B6E880\", \"#FF97FF\", \"#FECB52\"], \"font\": {\"color\": \"#2a3f5f\"}, \"geo\": {\"bgcolor\": \"white\", \"lakecolor\": \"white\", \"landcolor\": \"#E5ECF6\", \"showlakes\": true, \"showland\": true, \"subunitcolor\": \"white\"}, \"hoverlabel\": {\"align\": \"left\"}, \"hovermode\": \"closest\", \"mapbox\": {\"style\": \"light\"}, \"paper_bgcolor\": \"white\", \"plot_bgcolor\": \"#E5ECF6\", \"polar\": {\"angularaxis\": {\"gridcolor\": \"white\", \"linecolor\": \"white\", \"ticks\": \"\"}, \"bgcolor\": \"#E5ECF6\", \"radialaxis\": {\"gridcolor\": \"white\", \"linecolor\": \"white\", \"ticks\": \"\"}}, \"scene\": {\"xaxis\": {\"backgroundcolor\": \"#E5ECF6\", \"gridcolor\": \"white\", \"gridwidth\": 2, \"linecolor\": \"white\", \"showbackground\": true, \"ticks\": \"\", \"zerolinecolor\": \"white\"}, \"yaxis\": {\"backgroundcolor\": \"#E5ECF6\", \"gridcolor\": \"white\", \"gridwidth\": 2, \"linecolor\": \"white\", \"showbackground\": true, \"ticks\": \"\", \"zerolinecolor\": \"white\"}, \"zaxis\": {\"backgroundcolor\": \"#E5ECF6\", \"gridcolor\": \"white\", \"gridwidth\": 2, \"linecolor\": \"white\", \"showbackground\": true, \"ticks\": \"\", \"zerolinecolor\": \"white\"}}, \"shapedefaults\": {\"line\": {\"color\": \"#2a3f5f\"}}, \"ternary\": {\"aaxis\": {\"gridcolor\": \"white\", \"linecolor\": \"white\", \"ticks\": \"\"}, \"baxis\": {\"gridcolor\": \"white\", \"linecolor\": \"white\", \"ticks\": \"\"}, \"bgcolor\": \"#E5ECF6\", \"caxis\": {\"gridcolor\": \"white\", \"linecolor\": \"white\", \"ticks\": \"\"}}, \"title\": {\"x\": 0.05}, \"xaxis\": {\"automargin\": true, \"gridcolor\": \"white\", \"linecolor\": \"white\", \"ticks\": \"\", \"zerolinecolor\": \"white\", \"zerolinewidth\": 2}, \"yaxis\": {\"automargin\": true, \"gridcolor\": \"white\", \"linecolor\": \"white\", \"ticks\": \"\", \"zerolinecolor\": \"white\", \"zerolinewidth\": 2}}}},\n",
       "                        {\"responsive\": true}\n",
       "                    ).then(function(){\n",
       "                            \n",
       "var gd = document.getElementById('0a67bda1-1210-49f9-b952-dca4236003af');\n",
       "var x = new MutationObserver(function (mutations, observer) {{\n",
       "        var display = window.getComputedStyle(gd).display;\n",
       "        if (!display || display === 'none') {{\n",
       "            console.log([gd, 'removed!']);\n",
       "            Plotly.purge(gd);\n",
       "            observer.disconnect();\n",
       "        }}\n",
       "}});\n",
       "\n",
       "// Listen for the removal of the full notebook cells\n",
       "var notebookContainer = gd.closest('#notebook-container');\n",
       "if (notebookContainer) {{\n",
       "    x.observe(notebookContainer, {childList: true});\n",
       "}}\n",
       "\n",
       "// Listen for the clearing of the current output cell\n",
       "var outputEl = gd.closest('.output');\n",
       "if (outputEl) {{\n",
       "    x.observe(outputEl, {childList: true});\n",
       "}}\n",
       "\n",
       "                        })\n",
       "                };\n",
       "                });\n",
       "            </script>\n",
       "        </div>"
      ]
     },
     "metadata": {},
     "output_type": "display_data"
    }
   ],
   "source": [
    "fig = go.Figure(data=[\n",
    "    go.Bar(name='2000_pop', x=ca_join['City_Name'], y=ca_join['Total_Population_2000']),\n",
    "    go.Bar(name='2010_pop', x=ca_join['City_Name'], y=ca_join['Total_Population_2010']),\n",
    "    go.Bar(name='2012_pop', x=ca_join['City_Name'], y=ca_join['Total_Population_2012']),\n",
    "    go.Bar(name='2013_pop', x=ca_join['City_Name'], y=ca_join['Total_Population_2013']),\n",
    "    go.Bar(name='2014_pop', x=ca_join['City_Name'], y=ca_join['Total_Population_2014']),\n",
    "    go.Bar(name='2015_pop', x=ca_join['City_Name'], y=ca_join['Total_Population_2015']),\n",
    "    go.Bar(name='2016_pop', x=ca_join['City_Name'], y=ca_join['Total_Population_2016']),\n",
    "    go.Bar(name='2017_pop', x=ca_join['City_Name'], y=ca_join['Total_Population_2017']),\n",
    "    go.Bar(name='2000_housing', x=ca_join['City_Name'], y=ca_join['Total_Housing_2000']),\n",
    "    go.Bar(name='2010_housing', x=ca_join['City_Name'], y=ca_join['Total_Housing_2010']),\n",
    "    go.Bar(name='2012_housing', x=ca_join['City_Name'], y=ca_join['Total_Housing_2012']),\n",
    "    go.Bar(name='2013_housing', x=ca_join['City_Name'], y=ca_join['Total_Housing_2013']),\n",
    "    go.Bar(name='2014_housing', x=ca_join['City_Name'], y=ca_join['Total_Housing_2014']),\n",
    "    go.Bar(name='2015_housing', x=ca_join['City_Name'], y=ca_join['Total_Housing_2015']),\n",
    "    go.Bar(name='2016_housing', x=ca_join['City_Name'], y=ca_join['Total_Housing_2016']),\n",
    "    go.Bar(name='2017_housing', x=ca_join['City_Name'], y=ca_join['Total_Housing_2017']),\n",
    "    go.Bar(name='2000_non-relatives', x=ca_join['City_Name'], y=ca_join['Presence_of_Non-Relatives_2000']),\n",
    "    go.Bar(name='2010_non-relatives', x=ca_join['City_Name'], y=ca_join['Presence_of_Non-Relatives_2010']),\n",
    "    go.Bar(name='2012_non-relatives', x=ca_join['City_Name'], y=ca_join['Presence_of_Non-Relatives_2012']),\n",
    "    go.Bar(name='2013_non-relatives', x=ca_join['City_Name'], y=ca_join['Presence_of_Non-Relatives_2013']),\n",
    "    go.Bar(name='2014_non-relatives', x=ca_join['City_Name'], y=ca_join['Presence_of_Non-Relatives_2014']),\n",
    "    go.Bar(name='2015_non-relatives', x=ca_join['City_Name'], y=ca_join['Presence_of_Non-Relatives_2015']),\n",
    "    go.Bar(name='2016_non-relatives', x=ca_join['City_Name'], y=ca_join['Presence_of_Non-Relatives_2016']),\n",
    "    go.Bar(name='2017_non-relatives', x=ca_join['City_Name'], y=ca_join['Presence_of_Non-Relatives_2017']),\n",
    "    go.Bar(name='2010_direct_emissions', x=ca_join['City_Name'], y=ca_join['2010']),\n",
    "    go.Bar(name='2011_direct_emissions', x=ca_join['City_Name'], y=ca_join['2011']),\n",
    "    go.Bar(name='2012_direct_emissions', x=ca_join['City_Name'], y=ca_join['2012']),\n",
    "    go.Bar(name='2013_direct_emissions', x=ca_join['City_Name'], y=ca_join['2013']),\n",
    "    go.Bar(name='2014_direct_emissions', x=ca_join['City_Name'], y=ca_join['2014']),\n",
    "    go.Bar(name='2015_direct_emissions', x=ca_join['City_Name'], y=ca_join['2015']),\n",
    "    go.Bar(name='2016_direct_emissions', x=ca_join['City_Name'], y=ca_join['2016']),\n",
    "    go.Bar(name='2017_direct_emissions', x=ca_join['City_Name'], y=ca_join['2017']),\n",
    "    go.Bar(name='2018_direct_emissions', x=ca_join['City_Name'], y=ca_join['2018'])\n",
    "])\n",
    "fig.update_layout(barmode='group')\n",
    "fig.show()"
   ]
  }
 ],
 "metadata": {
  "kernelspec": {
   "display_name": "Python 3",
   "language": "python",
   "name": "python3"
  },
  "language_info": {
   "codemirror_mode": {
    "name": "ipython",
    "version": 3
   },
   "file_extension": ".py",
   "mimetype": "text/x-python",
   "name": "python",
   "nbconvert_exporter": "python",
   "pygments_lexer": "ipython3",
   "version": "3.7.3"
  }
 },
 "nbformat": 4,
 "nbformat_minor": 2
}
